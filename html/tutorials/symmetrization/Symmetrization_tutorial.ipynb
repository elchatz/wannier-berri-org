{
 "cells": [
  {
   "cell_type": "markdown",
   "metadata": {},
   "source": [
    "# Symmetrization of Wannier Hamiltonian and matrices "
   ]
  },
  {
   "cell_type": "markdown",
   "metadata": {},
   "source": [
    "By Xiaoxiong Liu : xxliu@physik.uzh.ch"
   ]
  },
  {
   "cell_type": "markdown",
   "metadata": {},
   "source": [
    "The real-space Wannier Hamiltonian obtained by Wannier90 code generally does not strictly preserve the corresponding symmetry. The slight loss of symmetry will gap the expected band intersections. Berry curvature and orbital magnetic moment are more sensitive to symmetry than energy eigenvalues. In the following, I give details about the symmetrization of Wannier Hamiltonian and matrices.\n",
    "\n",
    "In WannierBerri, our built-in symmetrization method can enforce symmetrizing Wannier Hamiltonian (Ham_R) and matrices (AA_R, BB_R, CC_R, SS_R) after reading them.\n",
    "\n",
    "$Ham\\_R = <n0|\\hat{H}|mR>$\n",
    "\n",
    "$AA\\_R = <n0|\\hat{r}|mR>$\n",
    "\n",
    "$BB\\_R = <n0|\\hat{H}\\cdot(\\hat{r}-\\hat{R})|mR>$\n",
    "\n",
    "$CC\\_R_c = i \\epsilon_{abc} <n0|\\hat{r}_a\\cdot\\hat{H}\\cdot(\\hat{r}_b-\\hat{R}_b)|mR>$\n",
    "\n",
    "$SS\\_R = <n0|\\hat{\\sigma}|mR>$\n",
    "\n",
    "They are needed when calculating different quantities:\n",
    "1. Energy eigenvalue  <-- Ham_R\n",
    "2. Berry Curvature  <-- Ham_R, AA_R\n",
    "3. Orbital magnetic moment  <-- Ham_R, AA_R, BB_R, CC_R\n",
    "4. Spin magnetic moment  <-- SS_R\n",
    "\n",
    "NOTE: This method only works with Wannier Hamiltonian without maximal localized. \n",
    "\n",
    "We will show you two examples:\n",
    "1. Symmetrize nonmagnetic system with SOC (trigonal Te)\n",
    "2. Symmetrize magnetic system with SOC (bcc Fe)"
   ]
  },
  {
   "cell_type": "code",
   "execution_count": 1,
   "metadata": {
    "execution": {
     "iopub.execute_input": "2022-09-05T14:56:45.478914Z",
     "iopub.status.busy": "2022-09-05T14:56:45.478182Z",
     "iopub.status.idle": "2022-09-05T14:56:46.868461Z",
     "shell.execute_reply": "2022-09-05T14:56:46.867703Z"
    }
   },
   "outputs": [],
   "source": [
    "#import necessary packages\n",
    "import wannierberri as wberri\n",
    "import numpy as np\n",
    "import matplotlib.pyplot as plt #for plotting figures"
   ]
  },
  {
   "cell_type": "markdown",
   "metadata": {},
   "source": [
    "## Nonmagnetic system (trigonal Te)"
   ]
  },
  {
   "cell_type": "code",
   "execution_count": 2,
   "metadata": {
    "execution": {
     "iopub.execute_input": "2022-09-05T14:56:46.873826Z",
     "iopub.status.busy": "2022-09-05T14:56:46.873313Z",
     "iopub.status.idle": "2022-09-05T14:56:47.794284Z",
     "shell.execute_reply": "2022-09-05T14:56:47.793515Z"
    }
   },
   "outputs": [
    {
     "ename": "FileNotFoundError",
     "evalue": "[Errno 2] No such file or directory: './Te_data/Te_tb.dat'",
     "output_type": "error",
     "traceback": [
      "\u001b[0;31m---------------------------------------------------------------------------\u001b[0m",
      "\u001b[0;31mFileNotFoundError\u001b[0m                         Traceback (most recent call last)",
      "Input \u001b[0;32mIn [2]\u001b[0m, in \u001b[0;36m<cell line: 4>\u001b[0;34m()\u001b[0m\n\u001b[1;32m      1\u001b[0m \u001b[38;5;66;03m#Reading Wannier Hamiltonian and position element matrix from Te_tb.dat file.\u001b[39;00m\n\u001b[1;32m      2\u001b[0m \u001b[38;5;66;03m#We bulit to system, `system_Te` without symmetrization and `system_Te_sym` with symmetrization\u001b[39;00m\n\u001b[0;32m----> 4\u001b[0m system_Te\u001b[38;5;241m=\u001b[39m\u001b[43mwberri\u001b[49m\u001b[38;5;241;43m.\u001b[39;49m\u001b[43mSystem_tb\u001b[49m\u001b[43m(\u001b[49m\u001b[43mtb_file\u001b[49m\u001b[38;5;241;43m=\u001b[39;49m\u001b[38;5;124;43m'\u001b[39;49m\u001b[38;5;124;43m./Te_data/Te_tb.dat\u001b[39;49m\u001b[38;5;124;43m'\u001b[39;49m\u001b[43m,\u001b[49m\u001b[43mberry\u001b[49m\u001b[38;5;241;43m=\u001b[39;49m\u001b[38;5;28;43;01mTrue\u001b[39;49;00m\u001b[43m,\u001b[49m\u001b[43muse_ws\u001b[49m\u001b[38;5;241;43m=\u001b[39;49m\u001b[38;5;28;43;01mFalse\u001b[39;49;00m\u001b[43m)\u001b[49m\n\u001b[1;32m      5\u001b[0m system_Te_sym\u001b[38;5;241m=\u001b[39mwberri\u001b[38;5;241m.\u001b[39mSystem_tb(tb_file\u001b[38;5;241m=\u001b[39m\u001b[38;5;124m'\u001b[39m\u001b[38;5;124m./Te_data/Te_tb.dat\u001b[39m\u001b[38;5;124m'\u001b[39m,berry\u001b[38;5;241m=\u001b[39m\u001b[38;5;28;01mTrue\u001b[39;00m,use_ws\u001b[38;5;241m=\u001b[39m\u001b[38;5;28;01mFalse\u001b[39;00m)\n\u001b[1;32m      7\u001b[0m \u001b[38;5;66;03m#Symmetrization step.\u001b[39;00m\n",
      "File \u001b[0;32m/opt/hostedtoolcache/Python/3.9.13/x64/lib/python3.9/site-packages/wannierberri/system/system_tb.py:44\u001b[0m, in \u001b[0;36mSystem_tb.__init__\u001b[0;34m(self, tb_file, **parameters)\u001b[0m\n\u001b[1;32m     41\u001b[0m \u001b[38;5;28;01mif\u001b[39;00m \u001b[38;5;28mself\u001b[39m\u001b[38;5;241m.\u001b[39mspin: \u001b[38;5;28;01mraise\u001b[39;00m \u001b[38;5;167;01mValueError\u001b[39;00m(\u001b[38;5;124m\"\u001b[39m\u001b[38;5;124mSystem_tb class cannot be used for evaluation of spin properties\u001b[39m\u001b[38;5;124m\"\u001b[39m)\n\u001b[1;32m     43\u001b[0m \u001b[38;5;28mself\u001b[39m\u001b[38;5;241m.\u001b[39mseedname \u001b[38;5;241m=\u001b[39m tb_file\u001b[38;5;241m.\u001b[39msplit(\u001b[38;5;124m\"\u001b[39m\u001b[38;5;124m/\u001b[39m\u001b[38;5;124m\"\u001b[39m)[\u001b[38;5;241m-\u001b[39m\u001b[38;5;241m1\u001b[39m]\u001b[38;5;241m.\u001b[39msplit(\u001b[38;5;124m\"\u001b[39m\u001b[38;5;124m_\u001b[39m\u001b[38;5;124m\"\u001b[39m)[\u001b[38;5;241m0\u001b[39m]\n\u001b[0;32m---> 44\u001b[0m f \u001b[38;5;241m=\u001b[39m \u001b[38;5;28;43mopen\u001b[39;49m\u001b[43m(\u001b[49m\u001b[43mtb_file\u001b[49m\u001b[43m,\u001b[49m\u001b[43m \u001b[49m\u001b[38;5;124;43m\"\u001b[39;49m\u001b[38;5;124;43mr\u001b[39;49m\u001b[38;5;124;43m\"\u001b[39;49m\u001b[43m)\u001b[49m\n\u001b[1;32m     45\u001b[0m l \u001b[38;5;241m=\u001b[39m f\u001b[38;5;241m.\u001b[39mreadline()\n\u001b[1;32m     46\u001b[0m cprint(\u001b[38;5;124m\"\u001b[39m\u001b[38;5;124mreading TB file \u001b[39m\u001b[38;5;132;01m{0}\u001b[39;00m\u001b[38;5;124m ( \u001b[39m\u001b[38;5;132;01m{1}\u001b[39;00m\u001b[38;5;124m )\u001b[39m\u001b[38;5;124m\"\u001b[39m\u001b[38;5;241m.\u001b[39mformat(tb_file, l\u001b[38;5;241m.\u001b[39mstrip()), \u001b[38;5;124m'\u001b[39m\u001b[38;5;124mgreen\u001b[39m\u001b[38;5;124m'\u001b[39m, attrs\u001b[38;5;241m=\u001b[39m[\u001b[38;5;124m'\u001b[39m\u001b[38;5;124mbold\u001b[39m\u001b[38;5;124m'\u001b[39m])\n",
      "\u001b[0;31mFileNotFoundError\u001b[0m: [Errno 2] No such file or directory: './Te_data/Te_tb.dat'"
     ]
    }
   ],
   "source": [
    "#Reading Wannier Hamiltonian and position element matrix from Te_tb.dat file.\n",
    "#We bulit to system, `system_Te` without symmetrization and `system_Te_sym` with symmetrization\n",
    "\n",
    "system_Te=wberri.System_tb(tb_file='./Te_data/Te_tb.dat',berry=True,use_ws=False)\n",
    "system_Te_sym=wberri.System_tb(tb_file='./Te_data/Te_tb.dat',berry=True,use_ws=False)\n",
    "\n",
    "#Symmetrization step.\n",
    "system_Te_sym.symmetrize(\n",
    "    # positions: positions of each atoms in a unitcell (direct coordinate system)\n",
    "    positions = np.array([[0.274, 0.274, 0.0],   \n",
    "                    [0.726, 0.0, 0.33333333],\n",
    "                   [0.0, 0.726, 0.66666667]]),\n",
    "    # atom_name: name of each atoms, need to correspond to position order.\n",
    "    atom_name = ['Te','Te','Te'],\n",
    "    # projections: should be the same with projection card in wannier90.win\n",
    "    proj = ['Te:s','Te:p'],\n",
    "    # soc: with soc or spinless\n",
    "    soc=True,\n",
    "    # DFT_code: What code was used to complet the DFT calculation. only support VASP and QE now.\n",
    "    DFT_code='vasp',\n",
    "    )"
   ]
  },
  {
   "cell_type": "markdown",
   "metadata": {},
   "source": [
    "Output card `Wannier atoms info` is showing informations about orbitals.\n",
    "\n",
    "Line `(1, 'Te', array([0.274, 0.274, 0.   ]), ['s', 'p'], [[0, 12], [3, 4, 5, 15, 16, 17]])` read as:\n",
    "First atoms is Te at position 0.274, 0.274, 0. It contribute orbital $s$ and $p$. Index of s-orbitals are 0 and 12. Index of d-orbitals are 3, 4, 5, 15, 16, 17.\n",
    "\n",
    "Informations of space group are showed as well.\n",
    "\n",
    "We can check if real space Hamiltonian are symmetrized."
   ]
  },
  {
   "cell_type": "code",
   "execution_count": 3,
   "metadata": {
    "execution": {
     "iopub.execute_input": "2022-09-05T14:56:47.797896Z",
     "iopub.status.busy": "2022-09-05T14:56:47.797655Z",
     "iopub.status.idle": "2022-09-05T14:56:47.801414Z",
     "shell.execute_reply": "2022-09-05T14:56:47.800734Z"
    }
   },
   "outputs": [],
   "source": [
    "#We check symmetry with operator 1 from Space group informations in the output.\n",
    "#prepare operator\n",
    "rot = np.array([[0., -1., 0.],[1, -1, 0.],[0., 0., 1.]]) # rotation matrix (direct)\n",
    "trans = np.array([0., 0., 1./3.])  #translation (direct)"
   ]
  },
  {
   "cell_type": "code",
   "execution_count": 4,
   "metadata": {
    "execution": {
     "iopub.execute_input": "2022-09-05T14:56:47.804633Z",
     "iopub.status.busy": "2022-09-05T14:56:47.804094Z",
     "iopub.status.idle": "2022-09-05T14:56:47.809809Z",
     "shell.execute_reply": "2022-09-05T14:56:47.809200Z"
    }
   },
   "outputs": [
    {
     "name": "stdout",
     "output_type": "stream",
     "text": [
      "Before operation [0.274 0.274 0.   ]\n",
      "After operation [-0.274       0.          0.33333333] match Te_2_position\n"
     ]
    }
   ],
   "source": [
    "#After operation, position of Te_1 match Te_2.\n",
    "Te_1_position = np.array([0.274, 0.274, 0.])\n",
    "position_rot = rot @ Te_1_position + trans\n",
    "print('Before operation', Te_1_position)\n",
    "print('After operation', position_rot, 'match Te_2_position')"
   ]
  },
  {
   "cell_type": "markdown",
   "metadata": {},
   "source": [
    "So the on-site energy of Te_1 s-orbitals should match on-site energy of Te_1 s-orbitals as well."
   ]
  },
  {
   "cell_type": "code",
   "execution_count": 5,
   "metadata": {
    "execution": {
     "iopub.execute_input": "2022-09-05T14:56:47.813017Z",
     "iopub.status.busy": "2022-09-05T14:56:47.812660Z",
     "iopub.status.idle": "2022-09-05T14:56:47.835282Z",
     "shell.execute_reply": "2022-09-05T14:56:47.834650Z"
    }
   },
   "outputs": [
    {
     "ename": "NameError",
     "evalue": "name 'system_Te' is not defined",
     "output_type": "error",
     "traceback": [
      "\u001b[0;31m---------------------------------------------------------------------------\u001b[0m",
      "\u001b[0;31mNameError\u001b[0m                                 Traceback (most recent call last)",
      "Input \u001b[0;32mIn [5]\u001b[0m, in \u001b[0;36m<cell line: 5>\u001b[0;34m()\u001b[0m\n\u001b[1;32m      1\u001b[0m \u001b[38;5;66;03m#Check unsymmetrized system\u001b[39;00m\n\u001b[1;32m      2\u001b[0m \n\u001b[1;32m      3\u001b[0m \u001b[38;5;66;03m#find index of R=[0,0,0] in R-vector list\u001b[39;00m\n\u001b[1;32m      4\u001b[0m \u001b[38;5;66;03m#dimension of Hamiltonian is [num_wann, num_wann, num_Rvec]\u001b[39;00m\n\u001b[0;32m----> 5\u001b[0m R0 \u001b[38;5;241m=\u001b[39m \u001b[43msystem_Te\u001b[49m\u001b[38;5;241m.\u001b[39miRvec\u001b[38;5;241m.\u001b[39mtolist()\u001b[38;5;241m.\u001b[39mindex([\u001b[38;5;241m0\u001b[39m,\u001b[38;5;241m0\u001b[39m,\u001b[38;5;241m0\u001b[39m])\n\u001b[1;32m      6\u001b[0m onsite_Te_1 \u001b[38;5;241m=\u001b[39m np\u001b[38;5;241m.\u001b[39mdiagonal(system_Te\u001b[38;5;241m.\u001b[39mHam_R[:,:,R0])\u001b[38;5;241m.\u001b[39mreal[np\u001b[38;5;241m.\u001b[39marray([\u001b[38;5;241m0\u001b[39m, \u001b[38;5;241m12\u001b[39m])]\n\u001b[1;32m      7\u001b[0m onsite_Te_2 \u001b[38;5;241m=\u001b[39m np\u001b[38;5;241m.\u001b[39mdiagonal(system_Te\u001b[38;5;241m.\u001b[39mHam_R[:,:,R0])\u001b[38;5;241m.\u001b[39mreal[np\u001b[38;5;241m.\u001b[39marray([\u001b[38;5;241m1\u001b[39m, \u001b[38;5;241m13\u001b[39m])]\n",
      "\u001b[0;31mNameError\u001b[0m: name 'system_Te' is not defined"
     ]
    }
   ],
   "source": [
    "#Check unsymmetrized system\n",
    "\n",
    "#find index of R=[0,0,0] in R-vector list\n",
    "#dimension of Hamiltonian is [num_wann, num_wann, num_Rvec]\n",
    "R0 = system_Te.iRvec.tolist().index([0,0,0])\n",
    "onsite_Te_1 = np.diagonal(system_Te.Ham_R[:,:,R0]).real[np.array([0, 12])]\n",
    "onsite_Te_2 = np.diagonal(system_Te.Ham_R[:,:,R0]).real[np.array([1, 13])]\n",
    "\n",
    "print('unsymmetrized')\n",
    "print('on-site energy of Te_1 orbitals')\n",
    "print(onsite_Te_1)\n",
    "print('on-site energy of Te_2 orbitals')\n",
    "print(onsite_Te_2)\n",
    "print('not totaly the same')"
   ]
  },
  {
   "cell_type": "code",
   "execution_count": 6,
   "metadata": {
    "execution": {
     "iopub.execute_input": "2022-09-05T14:56:47.838340Z",
     "iopub.status.busy": "2022-09-05T14:56:47.838114Z",
     "iopub.status.idle": "2022-09-05T14:56:47.859386Z",
     "shell.execute_reply": "2022-09-05T14:56:47.858633Z"
    }
   },
   "outputs": [
    {
     "ename": "NameError",
     "evalue": "name 'system_Te' is not defined",
     "output_type": "error",
     "traceback": [
      "\u001b[0;31m---------------------------------------------------------------------------\u001b[0m",
      "\u001b[0;31mNameError\u001b[0m                                 Traceback (most recent call last)",
      "Input \u001b[0;32mIn [6]\u001b[0m, in \u001b[0;36m<cell line: 5>\u001b[0;34m()\u001b[0m\n\u001b[1;32m      1\u001b[0m \u001b[38;5;66;03m#Check symmetrized system\u001b[39;00m\n\u001b[1;32m      2\u001b[0m \n\u001b[1;32m      3\u001b[0m \u001b[38;5;66;03m#find index of R=[0,0,0] in R-vector list\u001b[39;00m\n\u001b[1;32m      4\u001b[0m \u001b[38;5;66;03m#dimension of Hamiltonian is [num_wann, num_wann, num_Rvec]\u001b[39;00m\n\u001b[0;32m----> 5\u001b[0m R0 \u001b[38;5;241m=\u001b[39m \u001b[43msystem_Te\u001b[49m\u001b[38;5;241m.\u001b[39miRvec\u001b[38;5;241m.\u001b[39mtolist()\u001b[38;5;241m.\u001b[39mindex([\u001b[38;5;241m0\u001b[39m,\u001b[38;5;241m0\u001b[39m,\u001b[38;5;241m0\u001b[39m])\n\u001b[1;32m      6\u001b[0m onsite_Te_1_sym \u001b[38;5;241m=\u001b[39m np\u001b[38;5;241m.\u001b[39mdiagonal(system_Te_sym\u001b[38;5;241m.\u001b[39mHam_R[:,:,R0])\u001b[38;5;241m.\u001b[39mreal[np\u001b[38;5;241m.\u001b[39marray([\u001b[38;5;241m0\u001b[39m, \u001b[38;5;241m12\u001b[39m])]\n\u001b[1;32m      7\u001b[0m onsite_Te_2_sym \u001b[38;5;241m=\u001b[39m np\u001b[38;5;241m.\u001b[39mdiagonal(system_Te_sym\u001b[38;5;241m.\u001b[39mHam_R[:,:,R0])\u001b[38;5;241m.\u001b[39mreal[np\u001b[38;5;241m.\u001b[39marray([\u001b[38;5;241m1\u001b[39m, \u001b[38;5;241m13\u001b[39m])]\n",
      "\u001b[0;31mNameError\u001b[0m: name 'system_Te' is not defined"
     ]
    }
   ],
   "source": [
    "#Check symmetrized system\n",
    "\n",
    "#find index of R=[0,0,0] in R-vector list\n",
    "#dimension of Hamiltonian is [num_wann, num_wann, num_Rvec]\n",
    "R0 = system_Te.iRvec.tolist().index([0,0,0])\n",
    "onsite_Te_1_sym = np.diagonal(system_Te_sym.Ham_R[:,:,R0]).real[np.array([0, 12])]\n",
    "onsite_Te_2_sym = np.diagonal(system_Te_sym.Ham_R[:,:,R0]).real[np.array([1, 13])]\n",
    "\n",
    "print('symmetrized')\n",
    "print('on-site energy of Te_1 orbitals')\n",
    "print(onsite_Te_1_sym)\n",
    "print('on-site energy of Te_2 orbitals')\n",
    "print(onsite_Te_2_sym)\n",
    "print('totaly the same')"
   ]
  },
  {
   "cell_type": "markdown",
   "metadata": {},
   "source": [
    "Checking band structures in k-space.\n",
    "\n",
    "The Brillouin zone of trigonal Te is:\n",
    "<img src=\"./Te_data/Te_BZ.png\" width=\"300\">\n",
    "We only consider kz=$\\pi$ plane. \n",
    "<img src=\"./Te_data/Te_kz=pi.png\" width=\"300\">\n",
    "The band structures of the three path:\n",
    "\n",
    "L1 -> H -> A1\n",
    "\n",
    "L2 -> H -> A2\n",
    "\n",
    "L3 -> H -> A3\n",
    "\n",
    "should be the same because of C3 rotation symmetry.\n",
    "\n",
    "But the Wannier Hamitonian break the symmetries slightly. So the band structure of the three path may not the same.\n",
    "\n",
    "After symmetrization they are the same.\n"
   ]
  },
  {
   "cell_type": "code",
   "execution_count": 7,
   "metadata": {
    "execution": {
     "iopub.execute_input": "2022-09-05T14:56:47.862881Z",
     "iopub.status.busy": "2022-09-05T14:56:47.862656Z",
     "iopub.status.idle": "2022-09-05T14:56:47.889339Z",
     "shell.execute_reply": "2022-09-05T14:56:47.888539Z"
    }
   },
   "outputs": [
    {
     "ename": "NameError",
     "evalue": "name 'system_Te' is not defined",
     "output_type": "error",
     "traceback": [
      "\u001b[0;31m---------------------------------------------------------------------------\u001b[0m",
      "\u001b[0;31mNameError\u001b[0m                                 Traceback (most recent call last)",
      "Input \u001b[0;32mIn [7]\u001b[0m, in \u001b[0;36m<cell line: 2>\u001b[0;34m()\u001b[0m\n\u001b[1;32m      1\u001b[0m \u001b[38;5;66;03m#generate k-path\u001b[39;00m\n\u001b[0;32m----> 2\u001b[0m path\u001b[38;5;241m=\u001b[39mwberri\u001b[38;5;241m.\u001b[39mPath(\u001b[43msystem_Te\u001b[49m,\n\u001b[1;32m      3\u001b[0m     \u001b[38;5;66;03m#start and end points of k_path.\u001b[39;00m\n\u001b[1;32m      4\u001b[0m     \u001b[38;5;66;03m#If two paths are not consencutive, put `None` between them. \u001b[39;00m\n\u001b[1;32m      5\u001b[0m     k_nodes\u001b[38;5;241m=\u001b[39m[[\u001b[38;5;241m0\u001b[39m,\u001b[38;5;241m0.5\u001b[39m,\u001b[38;5;241m0.5\u001b[39m],[\u001b[38;5;241m1.\u001b[39m\u001b[38;5;241m/\u001b[39m\u001b[38;5;241m3\u001b[39m,\u001b[38;5;241m1.\u001b[39m\u001b[38;5;241m/\u001b[39m\u001b[38;5;241m3\u001b[39m,\u001b[38;5;241m0.5\u001b[39m],[\u001b[38;5;241m1.\u001b[39m,\u001b[38;5;241m0.\u001b[39m,\u001b[38;5;241m0.5\u001b[39m],\u001b[38;5;28;01mNone\u001b[39;00m, \n\u001b[1;32m      6\u001b[0m             [\u001b[38;5;241m0.5\u001b[39m,\u001b[38;5;241m0.\u001b[39m,\u001b[38;5;241m0.5\u001b[39m],[\u001b[38;5;241m1.\u001b[39m\u001b[38;5;241m/\u001b[39m\u001b[38;5;241m3\u001b[39m,\u001b[38;5;241m1.\u001b[39m\u001b[38;5;241m/\u001b[39m\u001b[38;5;241m3\u001b[39m,\u001b[38;5;241m0.5\u001b[39m],[\u001b[38;5;241m0.\u001b[39m,\u001b[38;5;241m1.\u001b[39m,\u001b[38;5;241m0.5\u001b[39m],\u001b[38;5;28;01mNone\u001b[39;00m,\n\u001b[1;32m      7\u001b[0m             [\u001b[38;5;241m0.5\u001b[39m,\u001b[38;5;241m0.5\u001b[39m,\u001b[38;5;241m0.5\u001b[39m],[\u001b[38;5;241m1.\u001b[39m\u001b[38;5;241m/\u001b[39m\u001b[38;5;241m3\u001b[39m,\u001b[38;5;241m1.\u001b[39m\u001b[38;5;241m/\u001b[39m\u001b[38;5;241m3\u001b[39m,\u001b[38;5;241m0.5\u001b[39m],[\u001b[38;5;241m0.\u001b[39m,\u001b[38;5;241m0.\u001b[39m,\u001b[38;5;241m0.5\u001b[39m]],\n\u001b[1;32m      8\u001b[0m     labels\u001b[38;5;241m=\u001b[39m[\u001b[38;5;124m\"\u001b[39m\u001b[38;5;124mL1\u001b[39m\u001b[38;5;124m\"\u001b[39m,\u001b[38;5;124m\"\u001b[39m\u001b[38;5;124mH\u001b[39m\u001b[38;5;124m\"\u001b[39m,\u001b[38;5;124m\"\u001b[39m\u001b[38;5;124mA1\u001b[39m\u001b[38;5;124m\"\u001b[39m,\u001b[38;5;124m\"\u001b[39m\u001b[38;5;124mL3\u001b[39m\u001b[38;5;124m\"\u001b[39m,\u001b[38;5;124m\"\u001b[39m\u001b[38;5;124mH\u001b[39m\u001b[38;5;124m\"\u001b[39m,\u001b[38;5;124m\"\u001b[39m\u001b[38;5;124mA3\u001b[39m\u001b[38;5;124m\"\u001b[39m,\u001b[38;5;124m\"\u001b[39m\u001b[38;5;124mL2\u001b[39m\u001b[38;5;124m\"\u001b[39m,\u001b[38;5;124m\"\u001b[39m\u001b[38;5;124mH\u001b[39m\u001b[38;5;124m\"\u001b[39m,\u001b[38;5;124m\"\u001b[39m\u001b[38;5;124mA2\u001b[39m\u001b[38;5;124m\"\u001b[39m],\n\u001b[1;32m      9\u001b[0m     \u001b[38;5;66;03m#length: proportional to number of kpoints.\u001b[39;00m\n\u001b[1;32m     10\u001b[0m     length\u001b[38;5;241m=\u001b[39m\u001b[38;5;241m1000\u001b[39m) \n\u001b[1;32m     12\u001b[0m \u001b[38;5;66;03m#calculate band structure with unsymmetrized and symmetrized system.\u001b[39;00m\n\u001b[1;32m     13\u001b[0m quantities \u001b[38;5;241m=\u001b[39m {\u001b[38;5;124m\"\u001b[39m\u001b[38;5;124mEnergy\u001b[39m\u001b[38;5;124m\"\u001b[39m:wberri\u001b[38;5;241m.\u001b[39mcalculators\u001b[38;5;241m.\u001b[39mtabulate\u001b[38;5;241m.\u001b[39mEnergy()}\n",
      "\u001b[0;31mNameError\u001b[0m: name 'system_Te' is not defined"
     ]
    }
   ],
   "source": [
    "#generate k-path\n",
    "path=wberri.Path(system_Te,\n",
    "    #start and end points of k_path.\n",
    "    #If two paths are not consencutive, put `None` between them. \n",
    "    k_nodes=[[0,0.5,0.5],[1./3,1./3,0.5],[1.,0.,0.5],None, \n",
    "            [0.5,0.,0.5],[1./3,1./3,0.5],[0.,1.,0.5],None,\n",
    "            [0.5,0.5,0.5],[1./3,1./3,0.5],[0.,0.,0.5]],\n",
    "    labels=[\"L1\",\"H\",\"A1\",\"L3\",\"H\",\"A3\",\"L2\",\"H\",\"A2\"],\n",
    "    #length: proportional to number of kpoints.\n",
    "    length=1000) \n",
    "\n",
    "#calculate band structure with unsymmetrized and symmetrized system.\n",
    "quantities = {\"Energy\":wberri.calculators.tabulate.Energy()}\n",
    "\n",
    "calculators={}\n",
    "calculators [\"tabulate\"] = wberri.calculators.TabulatorAll(quantities,ibands=[18,19],mode=\"path\")\n",
    "\n",
    "path_result_Te = wberri.run(\n",
    "        system=system_Te,\n",
    "        grid=path,\n",
    "        calculators=calculators)\n",
    "path_result_Te_sym = wberri.run(\n",
    "        system=system_Te_sym,\n",
    "        grid=path,\n",
    "        calculators=calculators)"
   ]
  },
  {
   "cell_type": "code",
   "execution_count": 8,
   "metadata": {
    "execution": {
     "iopub.execute_input": "2022-09-05T14:56:47.892725Z",
     "iopub.status.busy": "2022-09-05T14:56:47.892476Z",
     "iopub.status.idle": "2022-09-05T14:56:47.909651Z",
     "shell.execute_reply": "2022-09-05T14:56:47.908930Z"
    }
   },
   "outputs": [
    {
     "ename": "NameError",
     "evalue": "name 'path_result_Te' is not defined",
     "output_type": "error",
     "traceback": [
      "\u001b[0;31m---------------------------------------------------------------------------\u001b[0m",
      "\u001b[0;31mNameError\u001b[0m                                 Traceback (most recent call last)",
      "Input \u001b[0;32mIn [8]\u001b[0m, in \u001b[0;36m<cell line: 2>\u001b[0;34m()\u001b[0m\n\u001b[1;32m      1\u001b[0m \u001b[38;5;66;03m#read energy eigenvalue data of band 18 and 19 from results.\u001b[39;00m\n\u001b[0;32m----> 2\u001b[0m band_Te \u001b[38;5;241m=\u001b[39m \u001b[43mpath_result_Te\u001b[49m\u001b[38;5;241m.\u001b[39mresults[\u001b[38;5;124m'\u001b[39m\u001b[38;5;124mtabulate\u001b[39m\u001b[38;5;124m'\u001b[39m]\u001b[38;5;241m.\u001b[39mget_data(quantity\u001b[38;5;241m=\u001b[39m\u001b[38;5;124m'\u001b[39m\u001b[38;5;124mEnergy\u001b[39m\u001b[38;5;124m'\u001b[39m,iband\u001b[38;5;241m=\u001b[39m(\u001b[38;5;241m0\u001b[39m,\u001b[38;5;241m1\u001b[39m))\n\u001b[1;32m      3\u001b[0m band_Te_sym \u001b[38;5;241m=\u001b[39m path_result_Te_sym\u001b[38;5;241m.\u001b[39mresults[\u001b[38;5;124m'\u001b[39m\u001b[38;5;124mtabulate\u001b[39m\u001b[38;5;124m'\u001b[39m]\u001b[38;5;241m.\u001b[39mget_data(quantity\u001b[38;5;241m=\u001b[39m\u001b[38;5;124m'\u001b[39m\u001b[38;5;124mEnergy\u001b[39m\u001b[38;5;124m'\u001b[39m,iband\u001b[38;5;241m=\u001b[39m(\u001b[38;5;241m0\u001b[39m,\u001b[38;5;241m1\u001b[39m))\n\u001b[1;32m      4\u001b[0m \u001b[38;5;66;03m#read k-path data\u001b[39;00m\n",
      "\u001b[0;31mNameError\u001b[0m: name 'path_result_Te' is not defined"
     ]
    }
   ],
   "source": [
    "#read energy eigenvalue data of band 18 and 19 from results.\n",
    "band_Te = path_result_Te.results['tabulate'].get_data(quantity='Energy',iband=(0,1))\n",
    "band_Te_sym = path_result_Te_sym.results['tabulate'].get_data(quantity='Energy',iband=(0,1))\n",
    "#read k-path data\n",
    "band_k=path.getKline()"
   ]
  },
  {
   "cell_type": "code",
   "execution_count": 9,
   "metadata": {
    "execution": {
     "iopub.execute_input": "2022-09-05T14:56:47.912780Z",
     "iopub.status.busy": "2022-09-05T14:56:47.912522Z",
     "iopub.status.idle": "2022-09-05T14:56:47.932189Z",
     "shell.execute_reply": "2022-09-05T14:56:47.931466Z"
    }
   },
   "outputs": [
    {
     "ename": "NameError",
     "evalue": "name 'band_k' is not defined",
     "output_type": "error",
     "traceback": [
      "\u001b[0;31m---------------------------------------------------------------------------\u001b[0m",
      "\u001b[0;31mNameError\u001b[0m                                 Traceback (most recent call last)",
      "Input \u001b[0;32mIn [9]\u001b[0m, in \u001b[0;36m<cell line: 2>\u001b[0;34m()\u001b[0m\n\u001b[1;32m      1\u001b[0m \u001b[38;5;66;03m#plot band structure with unsymmetrized system\u001b[39;00m\n\u001b[0;32m----> 2\u001b[0m NK\u001b[38;5;241m=\u001b[39m\u001b[38;5;28mlen\u001b[39m(\u001b[43mband_k\u001b[49m)\n\u001b[1;32m      3\u001b[0m colour \u001b[38;5;241m=\u001b[39m [\u001b[38;5;124m'\u001b[39m\u001b[38;5;124mr\u001b[39m\u001b[38;5;124m'\u001b[39m,\u001b[38;5;124m'\u001b[39m\u001b[38;5;124my\u001b[39m\u001b[38;5;124m'\u001b[39m,\u001b[38;5;124m'\u001b[39m\u001b[38;5;124mb\u001b[39m\u001b[38;5;124m'\u001b[39m]\n\u001b[1;32m      4\u001b[0m NK_one \u001b[38;5;241m=\u001b[39m NK\u001b[38;5;241m/\u001b[39m\u001b[38;5;241m/\u001b[39m\u001b[38;5;241m3\u001b[39m\n",
      "\u001b[0;31mNameError\u001b[0m: name 'band_k' is not defined"
     ]
    }
   ],
   "source": [
    "#plot band structure with unsymmetrized system\n",
    "NK=len(band_k)\n",
    "colour = ['r','y','b']\n",
    "NK_one = NK//3\n",
    "plt.figure()\n",
    "for i in range(3):\n",
    "    plt.plot(band_k[0:NK_one],band_Te[NK_one*i:NK_one*(i+1)],colour[i],linewidth=5)\n",
    "plt.ylabel('Energy (eV)')\n",
    "plt.xlabel('L -> H -> A')"
   ]
  },
  {
   "cell_type": "code",
   "execution_count": 10,
   "metadata": {
    "execution": {
     "iopub.execute_input": "2022-09-05T14:56:47.936065Z",
     "iopub.status.busy": "2022-09-05T14:56:47.935815Z",
     "iopub.status.idle": "2022-09-05T14:56:47.967253Z",
     "shell.execute_reply": "2022-09-05T14:56:47.966469Z"
    }
   },
   "outputs": [
    {
     "ename": "NameError",
     "evalue": "name 'band_k' is not defined",
     "output_type": "error",
     "traceback": [
      "\u001b[0;31m---------------------------------------------------------------------------\u001b[0m",
      "\u001b[0;31mNameError\u001b[0m                                 Traceback (most recent call last)",
      "Input \u001b[0;32mIn [10]\u001b[0m, in \u001b[0;36m<cell line: 3>\u001b[0;34m()\u001b[0m\n\u001b[1;32m      2\u001b[0m plt\u001b[38;5;241m.\u001b[39mfigure()\n\u001b[1;32m      3\u001b[0m \u001b[38;5;28;01mfor\u001b[39;00m i \u001b[38;5;129;01min\u001b[39;00m \u001b[38;5;28mrange\u001b[39m(\u001b[38;5;241m3\u001b[39m):\n\u001b[0;32m----> 4\u001b[0m     plt\u001b[38;5;241m.\u001b[39mplot(\u001b[43mband_k\u001b[49m[\u001b[38;5;241m0\u001b[39m:NK_one],band_Te_sym[NK_one\u001b[38;5;241m*\u001b[39mi:NK_one\u001b[38;5;241m*\u001b[39m(i\u001b[38;5;241m+\u001b[39m\u001b[38;5;241m1\u001b[39m)],colour[i],linewidth\u001b[38;5;241m=\u001b[39m\u001b[38;5;241m5\u001b[39m)\n\u001b[1;32m      5\u001b[0m plt\u001b[38;5;241m.\u001b[39mylabel(\u001b[38;5;124m'\u001b[39m\u001b[38;5;124mEnergy (eV)\u001b[39m\u001b[38;5;124m'\u001b[39m)\n\u001b[1;32m      6\u001b[0m plt\u001b[38;5;241m.\u001b[39mxlabel(\u001b[38;5;124m'\u001b[39m\u001b[38;5;124mL -> H -> A\u001b[39m\u001b[38;5;124m'\u001b[39m)\n",
      "\u001b[0;31mNameError\u001b[0m: name 'band_k' is not defined"
     ]
    },
    {
     "data": {
      "text/plain": [
       "<Figure size 640x480 with 0 Axes>"
      ]
     },
     "metadata": {},
     "output_type": "display_data"
    }
   ],
   "source": [
    "#plot band structure with symmetrized system\n",
    "plt.figure()\n",
    "for i in range(3):\n",
    "    plt.plot(band_k[0:NK_one],band_Te_sym[NK_one*i:NK_one*(i+1)],colour[i],linewidth=5)\n",
    "plt.ylabel('Energy (eV)')\n",
    "plt.xlabel('L -> H -> A')"
   ]
  },
  {
   "cell_type": "markdown",
   "metadata": {},
   "source": [
    "Symmetrization fix the symmetries of Hamiltonian\n",
    "\n",
    "The Berry curvature is more sensitive to symmetry than energy eigenvalues."
   ]
  },
  {
   "cell_type": "code",
   "execution_count": 11,
   "metadata": {
    "execution": {
     "iopub.execute_input": "2022-09-05T14:56:47.971434Z",
     "iopub.status.busy": "2022-09-05T14:56:47.971199Z",
     "iopub.status.idle": "2022-09-05T14:56:47.994177Z",
     "shell.execute_reply": "2022-09-05T14:56:47.993446Z"
    }
   },
   "outputs": [
    {
     "ename": "NameError",
     "evalue": "name 'system_Te' is not defined",
     "output_type": "error",
     "traceback": [
      "\u001b[0;31m---------------------------------------------------------------------------\u001b[0m",
      "\u001b[0;31mNameError\u001b[0m                                 Traceback (most recent call last)",
      "Input \u001b[0;32mIn [11]\u001b[0m, in \u001b[0;36m<cell line: 2>\u001b[0;34m()\u001b[0m\n\u001b[1;32m      1\u001b[0m \u001b[38;5;66;03m# calculate Berry curvature alone a k-path.\u001b[39;00m\n\u001b[0;32m----> 2\u001b[0m path_berry\u001b[38;5;241m=\u001b[39mwberri\u001b[38;5;241m.\u001b[39mPath(\u001b[43msystem_Te\u001b[49m,\n\u001b[1;32m      3\u001b[0m                  k_nodes\u001b[38;5;241m=\u001b[39m[[\u001b[38;5;241m0\u001b[39m,\u001b[38;5;241m0.5\u001b[39m,\u001b[38;5;241m0.5\u001b[39m],[\u001b[38;5;241m1.\u001b[39m\u001b[38;5;241m/\u001b[39m\u001b[38;5;241m3\u001b[39m,\u001b[38;5;241m1.\u001b[39m\u001b[38;5;241m/\u001b[39m\u001b[38;5;241m3\u001b[39m,\u001b[38;5;241m0.5\u001b[39m],[\u001b[38;5;241m1.\u001b[39m\u001b[38;5;241m/\u001b[39m\u001b[38;5;241m3\u001b[39m,\u001b[38;5;241m1.\u001b[39m\u001b[38;5;241m/\u001b[39m\u001b[38;5;241m3\u001b[39m,\u001b[38;5;241m0.\u001b[39m]],\n\u001b[1;32m      4\u001b[0m                  labels\u001b[38;5;241m=\u001b[39m[\u001b[38;5;124m\"\u001b[39m\u001b[38;5;124mL\u001b[39m\u001b[38;5;124m\"\u001b[39m,\u001b[38;5;124m\"\u001b[39m\u001b[38;5;124mH\u001b[39m\u001b[38;5;124m\"\u001b[39m,\u001b[38;5;124m\"\u001b[39m\u001b[38;5;124mK\u001b[39m\u001b[38;5;124m\"\u001b[39m,],\n\u001b[1;32m      5\u001b[0m                  length\u001b[38;5;241m=\u001b[39m\u001b[38;5;241m500\u001b[39m)\n\u001b[1;32m      7\u001b[0m quantities \u001b[38;5;241m=\u001b[39m {\u001b[38;5;124m\"\u001b[39m\u001b[38;5;124mEnergy\u001b[39m\u001b[38;5;124m\"\u001b[39m:wberri\u001b[38;5;241m.\u001b[39mcalculators\u001b[38;5;241m.\u001b[39mtabulate\u001b[38;5;241m.\u001b[39mEnergy(),\n\u001b[1;32m      8\u001b[0m               \u001b[38;5;124m\"\u001b[39m\u001b[38;5;124mberry\u001b[39m\u001b[38;5;124m\"\u001b[39m:wberri\u001b[38;5;241m.\u001b[39mcalculators\u001b[38;5;241m.\u001b[39mtabulate\u001b[38;5;241m.\u001b[39mBerryCurvature(),}\n\u001b[1;32m     10\u001b[0m calculators\u001b[38;5;241m=\u001b[39m{}\n",
      "\u001b[0;31mNameError\u001b[0m: name 'system_Te' is not defined"
     ]
    }
   ],
   "source": [
    "# calculate Berry curvature alone a k-path.\n",
    "path_berry=wberri.Path(system_Te,\n",
    "                 k_nodes=[[0,0.5,0.5],[1./3,1./3,0.5],[1./3,1./3,0.]],\n",
    "                 labels=[\"L\",\"H\",\"K\",],\n",
    "                 length=500)\n",
    "\n",
    "quantities = {\"Energy\":wberri.calculators.tabulate.Energy(),\n",
    "              \"berry\":wberri.calculators.tabulate.BerryCurvature(),}\n",
    "\n",
    "calculators={}\n",
    "calculators [\"tabulate\"] = wberri.calculators.TabulatorAll(quantities,ibands=[18,19],mode=\"path\")\n",
    "\n",
    "berry_result_Te = wberri.run(\n",
    "        system=system_Te,\n",
    "        grid=path_berry,\n",
    "        calculators=calculators)\n",
    "\n",
    "berry_result_Te_sym = wberri.run(\n",
    "        system=system_Te_sym,\n",
    "        grid=path_berry,\n",
    "        calculators=calculators)"
   ]
  },
  {
   "cell_type": "code",
   "execution_count": 12,
   "metadata": {
    "execution": {
     "iopub.execute_input": "2022-09-05T14:56:47.997338Z",
     "iopub.status.busy": "2022-09-05T14:56:47.997099Z",
     "iopub.status.idle": "2022-09-05T14:56:48.014582Z",
     "shell.execute_reply": "2022-09-05T14:56:48.013897Z"
    }
   },
   "outputs": [
    {
     "ename": "NameError",
     "evalue": "name 'berry_result_Te' is not defined",
     "output_type": "error",
     "traceback": [
      "\u001b[0;31m---------------------------------------------------------------------------\u001b[0m",
      "\u001b[0;31mNameError\u001b[0m                                 Traceback (most recent call last)",
      "Input \u001b[0;32mIn [12]\u001b[0m, in \u001b[0;36m<cell line: 5>\u001b[0;34m()\u001b[0m\n\u001b[1;32m      1\u001b[0m \u001b[38;5;66;03m# use built-in plotting method to plot berry cuvature.\u001b[39;00m\n\u001b[1;32m      2\u001b[0m \u001b[38;5;66;03m# red means positive, blue means negative.\u001b[39;00m\n\u001b[1;32m      3\u001b[0m \u001b[38;5;66;03m# size of the dots shows the amplitude of the quantity.\u001b[39;00m\n\u001b[1;32m      4\u001b[0m \u001b[38;5;66;03m# unsymmetrized:\u001b[39;00m\n\u001b[0;32m----> 5\u001b[0m \u001b[43mberry_result_Te\u001b[49m\u001b[38;5;241m.\u001b[39mresults[\u001b[38;5;124m'\u001b[39m\u001b[38;5;124mtabulate\u001b[39m\u001b[38;5;124m'\u001b[39m]\u001b[38;5;241m.\u001b[39mplot_path_fat(path_berry,\n\u001b[1;32m      6\u001b[0m               quantity\u001b[38;5;241m=\u001b[39m\u001b[38;5;124m'\u001b[39m\u001b[38;5;124mberry\u001b[39m\u001b[38;5;124m'\u001b[39m,\n\u001b[1;32m      7\u001b[0m               component\u001b[38;5;241m=\u001b[39m\u001b[38;5;124m'\u001b[39m\u001b[38;5;124mz\u001b[39m\u001b[38;5;124m'\u001b[39m, \u001b[38;5;66;03m# only take z compoment\u001b[39;00m\n\u001b[1;32m      8\u001b[0m               Emin\u001b[38;5;241m=\u001b[39m\u001b[38;5;241m6.0\u001b[39m,  Emax\u001b[38;5;241m=\u001b[39m\u001b[38;5;241m6.8\u001b[39m,\n\u001b[1;32m      9\u001b[0m               mode\u001b[38;5;241m=\u001b[39m\u001b[38;5;124m\"\u001b[39m\u001b[38;5;124mfatband\u001b[39m\u001b[38;5;124m\"\u001b[39m,\n\u001b[1;32m     10\u001b[0m               fatfactor\u001b[38;5;241m=\u001b[39m\u001b[38;5;241m20\u001b[39m,  \u001b[38;5;66;03m# size of dots.\u001b[39;00m\n\u001b[1;32m     11\u001b[0m               )\n",
      "\u001b[0;31mNameError\u001b[0m: name 'berry_result_Te' is not defined"
     ]
    }
   ],
   "source": [
    "# use built-in plotting method to plot berry cuvature.\n",
    "# red means positive, blue means negative.\n",
    "# size of the dots shows the amplitude of the quantity.\n",
    "# unsymmetrized:\n",
    "berry_result_Te.results['tabulate'].plot_path_fat(path_berry,\n",
    "              quantity='berry',\n",
    "              component='z', # only take z compoment\n",
    "              Emin=6.0,  Emax=6.8,\n",
    "              mode=\"fatband\",\n",
    "              fatfactor=20,  # size of dots.\n",
    "              )"
   ]
  },
  {
   "cell_type": "code",
   "execution_count": 13,
   "metadata": {
    "execution": {
     "iopub.execute_input": "2022-09-05T14:56:48.017742Z",
     "iopub.status.busy": "2022-09-05T14:56:48.017519Z",
     "iopub.status.idle": "2022-09-05T14:56:48.034124Z",
     "shell.execute_reply": "2022-09-05T14:56:48.033416Z"
    }
   },
   "outputs": [
    {
     "ename": "NameError",
     "evalue": "name 'berry_result_Te_sym' is not defined",
     "output_type": "error",
     "traceback": [
      "\u001b[0;31m---------------------------------------------------------------------------\u001b[0m",
      "\u001b[0;31mNameError\u001b[0m                                 Traceback (most recent call last)",
      "Input \u001b[0;32mIn [13]\u001b[0m, in \u001b[0;36m<cell line: 2>\u001b[0;34m()\u001b[0m\n\u001b[1;32m      1\u001b[0m \u001b[38;5;66;03m# symmetrized: \u001b[39;00m\n\u001b[0;32m----> 2\u001b[0m \u001b[43mberry_result_Te_sym\u001b[49m\u001b[38;5;241m.\u001b[39mresults[\u001b[38;5;124m'\u001b[39m\u001b[38;5;124mtabulate\u001b[39m\u001b[38;5;124m'\u001b[39m]\u001b[38;5;241m.\u001b[39mplot_path_fat(path_berry,\n\u001b[1;32m      3\u001b[0m               quantity\u001b[38;5;241m=\u001b[39m\u001b[38;5;124m'\u001b[39m\u001b[38;5;124mberry\u001b[39m\u001b[38;5;124m'\u001b[39m,\n\u001b[1;32m      4\u001b[0m               component\u001b[38;5;241m=\u001b[39m\u001b[38;5;124m'\u001b[39m\u001b[38;5;124mz\u001b[39m\u001b[38;5;124m'\u001b[39m, \u001b[38;5;66;03m# only take z compoment\u001b[39;00m\n\u001b[1;32m      5\u001b[0m               Emin\u001b[38;5;241m=\u001b[39m\u001b[38;5;241m6.0\u001b[39m,  Emax\u001b[38;5;241m=\u001b[39m\u001b[38;5;241m6.8\u001b[39m,\n\u001b[1;32m      6\u001b[0m               mode\u001b[38;5;241m=\u001b[39m\u001b[38;5;124m\"\u001b[39m\u001b[38;5;124mfatband\u001b[39m\u001b[38;5;124m\"\u001b[39m,\n\u001b[1;32m      7\u001b[0m               fatfactor\u001b[38;5;241m=\u001b[39m\u001b[38;5;241m20\u001b[39m,  \u001b[38;5;66;03m# size of dots.\u001b[39;00m\n\u001b[1;32m      8\u001b[0m               )\n",
      "\u001b[0;31mNameError\u001b[0m: name 'berry_result_Te_sym' is not defined"
     ]
    }
   ],
   "source": [
    "# symmetrized: \n",
    "berry_result_Te_sym.results['tabulate'].plot_path_fat(path_berry,\n",
    "              quantity='berry',\n",
    "              component='z', # only take z compoment\n",
    "              Emin=6.0,  Emax=6.8,\n",
    "              mode=\"fatband\",\n",
    "              fatfactor=20,  # size of dots.\n",
    "              )"
   ]
  },
  {
   "cell_type": "markdown",
   "metadata": {},
   "source": [
    "z-component of Berry curvature alone L-H path should be zero because of symmetry. The loss of symmetry has a big impact to Berry curvature of single k-point. It is fixed by symmetrization."
   ]
  },
  {
   "cell_type": "markdown",
   "metadata": {},
   "source": [
    "## Magnetic system with SOC (bcc Fe)"
   ]
  },
  {
   "cell_type": "markdown",
   "metadata": {},
   "source": [
    "bcc Fe is a magnetic system with magnetic moment -2.31 \\mu_B point to -z direction of cartesian coordinate system of lattice. We need to set parameter 'magmom'."
   ]
  },
  {
   "cell_type": "code",
   "execution_count": 14,
   "metadata": {
    "execution": {
     "iopub.execute_input": "2022-09-05T14:56:48.038272Z",
     "iopub.status.busy": "2022-09-05T14:56:48.038043Z",
     "iopub.status.idle": "2022-09-05T14:56:48.073566Z",
     "shell.execute_reply": "2022-09-05T14:56:48.072770Z"
    }
   },
   "outputs": [
    {
     "ename": "FileNotFoundError",
     "evalue": "[Errno 2] No such file or directory: './Fe_data/Fe_tb.dat'",
     "output_type": "error",
     "traceback": [
      "\u001b[0;31m---------------------------------------------------------------------------\u001b[0m",
      "\u001b[0;31mFileNotFoundError\u001b[0m                         Traceback (most recent call last)",
      "Input \u001b[0;32mIn [14]\u001b[0m, in \u001b[0;36m<cell line: 1>\u001b[0;34m()\u001b[0m\n\u001b[0;32m----> 1\u001b[0m system_Fe\u001b[38;5;241m=\u001b[39m\u001b[43mwberri\u001b[49m\u001b[38;5;241;43m.\u001b[39;49m\u001b[43mSystem_tb\u001b[49m\u001b[43m(\u001b[49m\u001b[43mtb_file\u001b[49m\u001b[38;5;241;43m=\u001b[39;49m\u001b[38;5;124;43m'\u001b[39;49m\u001b[38;5;124;43m./Fe_data/Fe_tb.dat\u001b[39;49m\u001b[38;5;124;43m'\u001b[39;49m\u001b[43m,\u001b[49m\u001b[43mberry\u001b[49m\u001b[38;5;241;43m=\u001b[39;49m\u001b[38;5;28;43;01mTrue\u001b[39;49;00m\u001b[43m,\u001b[49m\u001b[43m \u001b[49m\u001b[43muse_ws\u001b[49m\u001b[38;5;241;43m=\u001b[39;49m\u001b[38;5;28;43;01mFalse\u001b[39;49;00m\u001b[43m)\u001b[49m\n\u001b[1;32m      2\u001b[0m system_Fe_sym\u001b[38;5;241m=\u001b[39mwberri\u001b[38;5;241m.\u001b[39mSystem_tb(tb_file\u001b[38;5;241m=\u001b[39m\u001b[38;5;124m'\u001b[39m\u001b[38;5;124m./Fe_data/Fe_tb.dat\u001b[39m\u001b[38;5;124m'\u001b[39m,berry\u001b[38;5;241m=\u001b[39m\u001b[38;5;28;01mTrue\u001b[39;00m, use_ws\u001b[38;5;241m=\u001b[39m\u001b[38;5;28;01mFalse\u001b[39;00m)\n\u001b[1;32m      3\u001b[0m system_Fe_sym\u001b[38;5;241m.\u001b[39msymmetrize(\n\u001b[1;32m      4\u001b[0m              proj \u001b[38;5;241m=\u001b[39m [\u001b[38;5;124m'\u001b[39m\u001b[38;5;124mFe:sp3d2;t2g\u001b[39m\u001b[38;5;124m'\u001b[39m],\n\u001b[1;32m      5\u001b[0m              atom_name \u001b[38;5;241m=\u001b[39m [\u001b[38;5;124m'\u001b[39m\u001b[38;5;124mFe\u001b[39m\u001b[38;5;124m'\u001b[39m],\n\u001b[0;32m   (...)\u001b[0m\n\u001b[1;32m     10\u001b[0m              DFT_code \u001b[38;5;241m=\u001b[39m \u001b[38;5;124m'\u001b[39m\u001b[38;5;124mqe\u001b[39m\u001b[38;5;124m'\u001b[39m\n\u001b[1;32m     11\u001b[0m              )\n",
      "File \u001b[0;32m/opt/hostedtoolcache/Python/3.9.13/x64/lib/python3.9/site-packages/wannierberri/system/system_tb.py:44\u001b[0m, in \u001b[0;36mSystem_tb.__init__\u001b[0;34m(self, tb_file, **parameters)\u001b[0m\n\u001b[1;32m     41\u001b[0m \u001b[38;5;28;01mif\u001b[39;00m \u001b[38;5;28mself\u001b[39m\u001b[38;5;241m.\u001b[39mspin: \u001b[38;5;28;01mraise\u001b[39;00m \u001b[38;5;167;01mValueError\u001b[39;00m(\u001b[38;5;124m\"\u001b[39m\u001b[38;5;124mSystem_tb class cannot be used for evaluation of spin properties\u001b[39m\u001b[38;5;124m\"\u001b[39m)\n\u001b[1;32m     43\u001b[0m \u001b[38;5;28mself\u001b[39m\u001b[38;5;241m.\u001b[39mseedname \u001b[38;5;241m=\u001b[39m tb_file\u001b[38;5;241m.\u001b[39msplit(\u001b[38;5;124m\"\u001b[39m\u001b[38;5;124m/\u001b[39m\u001b[38;5;124m\"\u001b[39m)[\u001b[38;5;241m-\u001b[39m\u001b[38;5;241m1\u001b[39m]\u001b[38;5;241m.\u001b[39msplit(\u001b[38;5;124m\"\u001b[39m\u001b[38;5;124m_\u001b[39m\u001b[38;5;124m\"\u001b[39m)[\u001b[38;5;241m0\u001b[39m]\n\u001b[0;32m---> 44\u001b[0m f \u001b[38;5;241m=\u001b[39m \u001b[38;5;28;43mopen\u001b[39;49m\u001b[43m(\u001b[49m\u001b[43mtb_file\u001b[49m\u001b[43m,\u001b[49m\u001b[43m \u001b[49m\u001b[38;5;124;43m\"\u001b[39;49m\u001b[38;5;124;43mr\u001b[39;49m\u001b[38;5;124;43m\"\u001b[39;49m\u001b[43m)\u001b[49m\n\u001b[1;32m     45\u001b[0m l \u001b[38;5;241m=\u001b[39m f\u001b[38;5;241m.\u001b[39mreadline()\n\u001b[1;32m     46\u001b[0m cprint(\u001b[38;5;124m\"\u001b[39m\u001b[38;5;124mreading TB file \u001b[39m\u001b[38;5;132;01m{0}\u001b[39;00m\u001b[38;5;124m ( \u001b[39m\u001b[38;5;132;01m{1}\u001b[39;00m\u001b[38;5;124m )\u001b[39m\u001b[38;5;124m\"\u001b[39m\u001b[38;5;241m.\u001b[39mformat(tb_file, l\u001b[38;5;241m.\u001b[39mstrip()), \u001b[38;5;124m'\u001b[39m\u001b[38;5;124mgreen\u001b[39m\u001b[38;5;124m'\u001b[39m, attrs\u001b[38;5;241m=\u001b[39m[\u001b[38;5;124m'\u001b[39m\u001b[38;5;124mbold\u001b[39m\u001b[38;5;124m'\u001b[39m])\n",
      "\u001b[0;31mFileNotFoundError\u001b[0m: [Errno 2] No such file or directory: './Fe_data/Fe_tb.dat'"
     ]
    }
   ],
   "source": [
    "system_Fe=wberri.System_tb(tb_file='./Fe_data/Fe_tb.dat',berry=True, use_ws=False)\n",
    "system_Fe_sym=wberri.System_tb(tb_file='./Fe_data/Fe_tb.dat',berry=True, use_ws=False)\n",
    "system_Fe_sym.symmetrize(\n",
    "             proj = ['Fe:sp3d2;t2g'],\n",
    "             atom_name = ['Fe'],\n",
    "             positions = [[0,0,0]],\n",
    "             #magmom: magnetic moment of each atoms.\n",
    "             magmom = [[0.,0.,-2.31]],\n",
    "             soc=True,\n",
    "             DFT_code = 'qe'\n",
    "             )\n"
   ]
  },
  {
   "cell_type": "markdown",
   "metadata": {},
   "source": [
    "Important explanations:\n",
    "1. The projection card in wannier90.win of bcc Fe is `'Fe':sp3d2;dxz,dyz,dxy`. But in the symmetrization, orbitals must project to complete sets of coordinates after symmetry opration. So we must label orbitals which shares the same complete sets of coordinates. eg: `sp3d2, dxz,dyz,dxy -> sp3d2, t2g` and `sp,px,py -> sp,p2`\n",
    "2. We print out all the symmetry operators in the space group. But magnetic moments break some of them. Afte line `Symmetrizing start`. You can find details about which operator belong to the magnetic group."
   ]
  },
  {
   "cell_type": "markdown",
   "metadata": {},
   "source": [
    "bcc Fe have inversion symmetry, so the Berry curvature dipole should be zero. Ref: https://journals.aps.org/prl/pdf/10.1103/PhysRevLett.115.216806"
   ]
  },
  {
   "cell_type": "code",
   "execution_count": 15,
   "metadata": {
    "execution": {
     "iopub.execute_input": "2022-09-05T14:56:48.078171Z",
     "iopub.status.busy": "2022-09-05T14:56:48.077931Z",
     "iopub.status.idle": "2022-09-05T14:56:48.102301Z",
     "shell.execute_reply": "2022-09-05T14:56:48.101602Z"
    }
   },
   "outputs": [
    {
     "ename": "NameError",
     "evalue": "name 'system_Fe' is not defined",
     "output_type": "error",
     "traceback": [
      "\u001b[0;31m---------------------------------------------------------------------------\u001b[0m",
      "\u001b[0;31mNameError\u001b[0m                                 Traceback (most recent call last)",
      "Input \u001b[0;32mIn [15]\u001b[0m, in \u001b[0;36m<cell line: 4>\u001b[0;34m()\u001b[0m\n\u001b[1;32m      2\u001b[0m Efermi_Fe \u001b[38;5;241m=\u001b[39m np\u001b[38;5;241m.\u001b[39mlinspace(\u001b[38;5;241m15.5\u001b[39m,\u001b[38;5;241m16\u001b[39m,\u001b[38;5;241m301\u001b[39m)\n\u001b[1;32m      3\u001b[0m NK \u001b[38;5;241m=\u001b[39m \u001b[38;5;241m10\u001b[39m\n\u001b[0;32m----> 4\u001b[0m result_Fe \u001b[38;5;241m=\u001b[39m wberri\u001b[38;5;241m.\u001b[39mrun(\u001b[43msystem_Fe\u001b[49m,\n\u001b[1;32m      5\u001b[0m             grid\u001b[38;5;241m=\u001b[39mwberri\u001b[38;5;241m.\u001b[39mGrid(system_Fe,NK\u001b[38;5;241m=\u001b[39mNK,NKFFT\u001b[38;5;241m=\u001b[39m\u001b[38;5;241m1\u001b[39m),\n\u001b[1;32m      6\u001b[0m             calculators \u001b[38;5;241m=\u001b[39m {\u001b[38;5;124m\"\u001b[39m\u001b[38;5;124mBerryDipole\u001b[39m\u001b[38;5;124m\"\u001b[39m:wberri\u001b[38;5;241m.\u001b[39mcalculators\u001b[38;5;241m.\u001b[39mstatic\u001b[38;5;241m.\u001b[39mBerryDipole_FermiSea(Efermi\u001b[38;5;241m=\u001b[39mEfermi_Fe,tetra\u001b[38;5;241m=\u001b[39m\u001b[38;5;28;01mTrue\u001b[39;00m)},\n\u001b[1;32m      7\u001b[0m             adpt_num_iter\u001b[38;5;241m=\u001b[39m\u001b[38;5;241m0\u001b[39m,\n\u001b[1;32m      8\u001b[0m             fout_name\u001b[38;5;241m=\u001b[39m\u001b[38;5;124m'\u001b[39m\u001b[38;5;124mFe\u001b[39m\u001b[38;5;124m'\u001b[39m,\n\u001b[1;32m      9\u001b[0m             restart\u001b[38;5;241m=\u001b[39m\u001b[38;5;28;01mFalse\u001b[39;00m,\n\u001b[1;32m     10\u001b[0m             )\n\u001b[1;32m     11\u001b[0m result_Fe_sym \u001b[38;5;241m=\u001b[39m wberri\u001b[38;5;241m.\u001b[39mrun(system_Fe_sym,\n\u001b[1;32m     12\u001b[0m             grid\u001b[38;5;241m=\u001b[39mwberri\u001b[38;5;241m.\u001b[39mGrid(system_Fe_sym,NK\u001b[38;5;241m=\u001b[39mNK,NKFFT\u001b[38;5;241m=\u001b[39m\u001b[38;5;241m1\u001b[39m),\n\u001b[1;32m     13\u001b[0m             calculators \u001b[38;5;241m=\u001b[39m {\u001b[38;5;124m\"\u001b[39m\u001b[38;5;124mBerryDipole\u001b[39m\u001b[38;5;124m\"\u001b[39m:wberri\u001b[38;5;241m.\u001b[39mcalculators\u001b[38;5;241m.\u001b[39mstatic\u001b[38;5;241m.\u001b[39mBerryDipole_FermiSea(Efermi\u001b[38;5;241m=\u001b[39mEfermi_Fe,tetra\u001b[38;5;241m=\u001b[39m\u001b[38;5;28;01mTrue\u001b[39;00m)},\n\u001b[0;32m   (...)\u001b[0m\n\u001b[1;32m     16\u001b[0m             restart\u001b[38;5;241m=\u001b[39m\u001b[38;5;28;01mFalse\u001b[39;00m,\n\u001b[1;32m     17\u001b[0m             )\n",
      "\u001b[0;31mNameError\u001b[0m: name 'system_Fe' is not defined"
     ]
    }
   ],
   "source": [
    "#calculate berry curvature dipole\n",
    "Efermi_Fe = np.linspace(15.5,16,301)\n",
    "NK = 10\n",
    "result_Fe = wberri.run(system_Fe,\n",
    "            grid=wberri.Grid(system_Fe,NK=NK,NKFFT=1),\n",
    "            calculators = {\"BerryDipole\":wberri.calculators.static.BerryDipole_FermiSea(Efermi=Efermi_Fe,tetra=True)},\n",
    "            adpt_num_iter=0,\n",
    "            fout_name='Fe',\n",
    "            restart=False,\n",
    "            )\n",
    "result_Fe_sym = wberri.run(system_Fe_sym,\n",
    "            grid=wberri.Grid(system_Fe_sym,NK=NK,NKFFT=1),\n",
    "            calculators = {\"BerryDipole\":wberri.calculators.static.BerryDipole_FermiSea(Efermi=Efermi_Fe,tetra=True)},\n",
    "            adpt_num_iter=0,\n",
    "            fout_name='Fe_sym',\n",
    "            restart=False,\n",
    "            )"
   ]
  },
  {
   "cell_type": "code",
   "execution_count": 16,
   "metadata": {
    "execution": {
     "iopub.execute_input": "2022-09-05T14:56:48.105440Z",
     "iopub.status.busy": "2022-09-05T14:56:48.105213Z",
     "iopub.status.idle": "2022-09-05T14:56:48.120233Z",
     "shell.execute_reply": "2022-09-05T14:56:48.119552Z"
    }
   },
   "outputs": [
    {
     "ename": "NameError",
     "evalue": "name 'result_Fe' is not defined",
     "output_type": "error",
     "traceback": [
      "\u001b[0;31m---------------------------------------------------------------------------\u001b[0m",
      "\u001b[0;31mNameError\u001b[0m                                 Traceback (most recent call last)",
      "Input \u001b[0;32mIn [16]\u001b[0m, in \u001b[0;36m<cell line: 2>\u001b[0;34m()\u001b[0m\n\u001b[1;32m      1\u001b[0m \u001b[38;5;66;03m#read data\u001b[39;00m\n\u001b[0;32m----> 2\u001b[0m Fe_BCD \u001b[38;5;241m=\u001b[39m \u001b[43mresult_Fe\u001b[49m\u001b[38;5;241m.\u001b[39mresults[\u001b[38;5;124m\"\u001b[39m\u001b[38;5;124mBerryDipole\u001b[39m\u001b[38;5;124m\"\u001b[39m]\u001b[38;5;241m.\u001b[39mdata \n\u001b[1;32m      3\u001b[0m Fe_sym_BCD \u001b[38;5;241m=\u001b[39m result_Fe_sym\u001b[38;5;241m.\u001b[39mresults[\u001b[38;5;124m\"\u001b[39m\u001b[38;5;124mBerryDipole\u001b[39m\u001b[38;5;124m\"\u001b[39m]\u001b[38;5;241m.\u001b[39mdata\n",
      "\u001b[0;31mNameError\u001b[0m: name 'result_Fe' is not defined"
     ]
    }
   ],
   "source": [
    "#read data\n",
    "Fe_BCD = result_Fe.results[\"BerryDipole\"].data \n",
    "Fe_sym_BCD = result_Fe_sym.results[\"BerryDipole\"].data"
   ]
  },
  {
   "cell_type": "code",
   "execution_count": 17,
   "metadata": {
    "execution": {
     "iopub.execute_input": "2022-09-05T14:56:48.123280Z",
     "iopub.status.busy": "2022-09-05T14:56:48.123048Z",
     "iopub.status.idle": "2022-09-05T14:56:48.144594Z",
     "shell.execute_reply": "2022-09-05T14:56:48.143902Z"
    }
   },
   "outputs": [
    {
     "ename": "NameError",
     "evalue": "name 'Fe_BCD' is not defined",
     "output_type": "error",
     "traceback": [
      "\u001b[0;31m---------------------------------------------------------------------------\u001b[0m",
      "\u001b[0;31mNameError\u001b[0m                                 Traceback (most recent call last)",
      "Input \u001b[0;32mIn [17]\u001b[0m, in \u001b[0;36m<cell line: 4>\u001b[0;34m()\u001b[0m\n\u001b[1;32m      1\u001b[0m \u001b[38;5;66;03m#unsymmetrized\u001b[39;00m\n\u001b[1;32m      2\u001b[0m \u001b[38;5;66;03m#print zz component of berry dipole\u001b[39;00m\n\u001b[1;32m      3\u001b[0m fig\u001b[38;5;241m=\u001b[39mplt\u001b[38;5;241m.\u001b[39mfigure()\n\u001b[0;32m----> 4\u001b[0m plt\u001b[38;5;241m.\u001b[39mplot(Efermi_Fe,\u001b[43mFe_BCD\u001b[49m[:,\u001b[38;5;241m2\u001b[39m,\u001b[38;5;241m2\u001b[39m],\u001b[38;5;124m'\u001b[39m\u001b[38;5;124mr\u001b[39m\u001b[38;5;124m'\u001b[39m,label\u001b[38;5;241m=\u001b[39m\u001b[38;5;124m\"\u001b[39m\u001b[38;5;124mUnsymmetrized\u001b[39m\u001b[38;5;124m\"\u001b[39m) \n\u001b[1;32m      5\u001b[0m plt\u001b[38;5;241m.\u001b[39mplot(Efermi_Fe,Fe_sym_BCD[:,\u001b[38;5;241m2\u001b[39m,\u001b[38;5;241m2\u001b[39m],\u001b[38;5;124m'\u001b[39m\u001b[38;5;124mb:\u001b[39m\u001b[38;5;124m'\u001b[39m,label\u001b[38;5;241m=\u001b[39m\u001b[38;5;124m\"\u001b[39m\u001b[38;5;124mSymmetrized\u001b[39m\u001b[38;5;124m\"\u001b[39m) \n\u001b[1;32m      6\u001b[0m plt\u001b[38;5;241m.\u001b[39mlegend()\n",
      "\u001b[0;31mNameError\u001b[0m: name 'Fe_BCD' is not defined"
     ]
    },
    {
     "data": {
      "text/plain": [
       "<Figure size 640x480 with 0 Axes>"
      ]
     },
     "metadata": {},
     "output_type": "display_data"
    }
   ],
   "source": [
    "#unsymmetrized\n",
    "#print zz component of berry dipole\n",
    "fig=plt.figure()\n",
    "plt.plot(Efermi_Fe,Fe_BCD[:,2,2],'r',label=\"Unsymmetrized\") \n",
    "plt.plot(Efermi_Fe,Fe_sym_BCD[:,2,2],'b:',label=\"Symmetrized\") \n",
    "plt.legend()\n",
    "plt.xlabel('Energy (eV)')\n",
    "plt.ylabel('Berry curvature dipole')"
   ]
  },
  {
   "cell_type": "markdown",
   "metadata": {},
   "source": [
    "Symmetrized system gives us better results with low-density k-grid. But it still looks like not perfect zero. At some energy where have band intersections, we can see some little peaks come from digital error. There are very large Berry curvature and it's derivative around band intersections. They may enlarge digital errors. "
   ]
  }
 ],
 "metadata": {
  "kernelspec": {
   "display_name": "Python 3",
   "language": "python",
   "name": "python3"
  },
  "language_info": {
   "codemirror_mode": {
    "name": "ipython",
    "version": 3
   },
   "file_extension": ".py",
   "mimetype": "text/x-python",
   "name": "python",
   "nbconvert_exporter": "python",
   "pygments_lexer": "ipython3",
   "version": "3.9.13"
  }
 },
 "nbformat": 4,
 "nbformat_minor": 4
}
