{
 "cells": [
  {
   "cell_type": "markdown",
   "metadata": {},
   "source": [
    "# Symmetrization of Wannier Hamiltonian and matrices "
   ]
  },
  {
   "cell_type": "markdown",
   "metadata": {},
   "source": [
    "By Xiaoxiong Liu : xxliu@physik.uzh.ch"
   ]
  },
  {
   "cell_type": "markdown",
   "metadata": {},
   "source": [
    "The real-space Wannier Hamiltonian obtained by Wannier90 code generally does not strictly preserve the corresponding symmetry. The slight loss of symmetry will gap the expected band intersections. Berry curvature and orbital magnetic moment are more sensitive to symmetry than energy eigenvalues. In the following, I give details about the symmetrization of Wannier Hamiltonian and matrices.\n",
    "\n",
    "In WannierBerri, our built-in symmetrization method can enforce symmetrizing Wannier Hamiltonian (Ham_R) and matrices (AA_R, BB_R, CC_R, SS_R) after reading them.\n",
    "\n",
    "$Ham\\_R = <n0|\\hat{H}|mR>$\n",
    "\n",
    "$AA\\_R = <n0|\\hat{r}|mR>$\n",
    "\n",
    "$BB\\_R = <n0|\\hat{H}\\cdot(\\hat{r}-\\hat{R})|mR>$\n",
    "\n",
    "$CC\\_R_c = i \\epsilon_{abc} <n0|\\hat{r}_a\\cdot\\hat{H}\\cdot(\\hat{r}_b-\\hat{R}_b)|mR>$\n",
    "\n",
    "$SS\\_R = <n0|\\hat{\\sigma}|mR>$\n",
    "\n",
    "They are needed when calculating different quantities:\n",
    "1. Energy eigenvalue  <-- Ham_R\n",
    "2. Berry Curvature  <-- Ham_R, AA_R\n",
    "3. Orbital magnetic moment  <-- Ham_R, AA_R, BB_R, CC_R\n",
    "4. Spin magnetic moment  <-- SS_R\n",
    "\n",
    "NOTE: This method only works with Wannier Hamiltonian without maximal localized. \n",
    "\n",
    "We will show you two examples:\n",
    "1. Symmetrize nonmagnetic system with SOC (trigonal Te)\n",
    "2. Symmetrize magnetic system with SOC (bcc Fe)"
   ]
  },
  {
   "cell_type": "code",
   "execution_count": 1,
   "metadata": {
    "execution": {
     "iopub.execute_input": "2022-09-05T15:40:06.653205Z",
     "iopub.status.busy": "2022-09-05T15:40:06.652858Z",
     "iopub.status.idle": "2022-09-05T15:40:08.461524Z",
     "shell.execute_reply": "2022-09-05T15:40:08.460365Z"
    }
   },
   "outputs": [],
   "source": [
    "#import necessary packages\n",
    "import wannierberri as wberri\n",
    "import numpy as np\n",
    "import matplotlib.pyplot as plt #for plotting figures"
   ]
  },
  {
   "cell_type": "markdown",
   "metadata": {},
   "source": [
    "## Nonmagnetic system (trigonal Te)"
   ]
  },
  {
   "cell_type": "code",
   "execution_count": 2,
   "metadata": {
    "execution": {
     "iopub.execute_input": "2022-09-05T15:40:08.466453Z",
     "iopub.status.busy": "2022-09-05T15:40:08.466033Z",
     "iopub.status.idle": "2022-09-05T15:40:29.264878Z",
     "shell.execute_reply": "2022-09-05T15:40:29.264028Z"
    }
   },
   "outputs": [
    {
     "name": "stdout",
     "output_type": "stream",
     "text": [
      "\u001b[1m\u001b[32mreading TB file ./Te_data/Te_tb.dat ( written on  9May2022 at 22:54:49 )\u001b[0m\n"
     ]
    },
    {
     "name": "stdout",
     "output_type": "stream",
     "text": [
      "NOT using ws_dist\n",
      "Number of wannier functions: 24\n",
      "Number of R points: 195\n",
      "Recommended size of FFT grid [7 9 5]\n",
      "\u001b[1m\u001b[32mReading the system from ./Te_data/Te_tb.dat finished successfully\u001b[0m\n",
      "\u001b[1m\u001b[32mreading TB file ./Te_data/Te_tb.dat ( written on  9May2022 at 22:54:49 )\u001b[0m\n"
     ]
    },
    {
     "name": "stdout",
     "output_type": "stream",
     "text": [
      "NOT using ws_dist\n",
      "Number of wannier functions: 24\n",
      "Number of R points: 195\n",
      "Recommended size of FFT grid [7 9 5]\n",
      "\u001b[1m\u001b[32mReading the system from ./Te_data/Te_tb.dat finished successfully\u001b[0m\n",
      "Wannier atoms info\n",
      "(1, 'Te', array([0.274, 0.274, 0.   ]), ['s', 'p'], [[0, 12], [3, 4, 5, 15, 16, 17]])\n",
      "(2, 'Te', array([0.726     , 0.        , 0.33333333]), ['s', 'p'], [[1, 13], [6, 7, 8, 18, 19, 20]])\n",
      "(3, 'Te', array([0.        , 0.726     , 0.66666667]), ['s', 'p'], [[2, 14], [9, 10, 11, 21, 22, 23]])\n",
      "[get_spacegroup]\n",
      "  Spacegroup is P3_121 (152).\n",
      "  ---------------    1 ---------------\n",
      " det =  0.9999999999999999\n",
      "  rotation:                    cart:\n",
      "     [ 1  0  0]                    [1.00 0.00 0.00]\n",
      "     [ 0  1  0]                    [0.00 1.00 0.00]\n",
      "     [ 0  0  1]                    [0.00 0.00 1.00]\n",
      "  translation:\n",
      "     (-0.00000 -0.00000 -0.00000)  ( 0.00000  0.00000  0.00000)\n",
      "  ---------------    2 ---------------\n",
      " det =  0.9999999999999999\n",
      "  rotation:                    cart:\n",
      "     [ 0 -1  0]                    [-0.50 -0.87 0.00]\n",
      "     [ 1 -1  0]                    [0.87 -0.50 0.00]\n",
      "     [ 0  0  1]                    [0.00 0.00 1.00]\n",
      "  translation:\n",
      "     ( 0.00000  0.00000  0.33333)  ( 0.00000  0.00000  0.33333)\n",
      "  ---------------    3 ---------------\n",
      " det =  1.0\n",
      "  rotation:                    cart:\n",
      "     [-1  1  0]                    [-0.50 0.87 0.00]\n",
      "     [-1  0  0]                    [-0.87 -0.50 0.00]\n",
      "     [ 0  0  1]                    [0.00 0.00 1.00]\n",
      "  translation:\n",
      "     ( 0.00000  0.00000  0.66667)  ( 0.00000  0.00000  0.66667)\n",
      "  ---------------    4 ---------------\n",
      " det =  1.0\n",
      "  rotation:                    cart:\n",
      "     [ 0  1  0]                    [-0.50 0.87 0.00]\n",
      "     [ 1  0  0]                    [0.87 0.50 0.00]\n",
      "     [ 0  0 -1]                    [0.00 0.00 -1.00]\n",
      "  translation:\n",
      "     (-0.00000 -0.00000 -0.00000)  ( 0.00000  0.00000  0.00000)\n",
      "  ---------------    5 ---------------\n",
      " det =  0.9999999999999999\n",
      "  rotation:                    cart:\n",
      "     [ 1 -1  0]                    [1.00 0.00 0.00]\n",
      "     [ 0 -1  0]                    [0.00 -1.00 0.00]\n",
      "     [ 0  0 -1]                    [0.00 0.00 -1.00]\n",
      "  translation:\n",
      "     ( 0.00000  0.00000  0.66667)  ( 0.00000  0.00000  0.66667)\n",
      "  ---------------    6 ---------------\n",
      " det =  0.9999999999999999\n",
      "  rotation:                    cart:\n",
      "     [-1  0  0]                    [-0.50 -0.87 0.00]\n",
      "     [-1  1  0]                    [-0.87 0.50 0.00]\n",
      "     [ 0  0 -1]                    [0.00 0.00 -1.00]\n",
      "  translation:\n",
      "     ( 0.00000  0.00000  0.33333)  ( 0.00000  0.00000  0.33333)\n",
      "##########################\n",
      "Symmetrizing Start\n",
      "rot =  1\n"
     ]
    },
    {
     "name": "stdout",
     "output_type": "stream",
     "text": [
      "rot =  2\n"
     ]
    },
    {
     "name": "stdout",
     "output_type": "stream",
     "text": [
      "rot =  3\n"
     ]
    },
    {
     "name": "stdout",
     "output_type": "stream",
     "text": [
      "rot =  4\n"
     ]
    },
    {
     "name": "stdout",
     "output_type": "stream",
     "text": [
      "rot =  5\n"
     ]
    },
    {
     "name": "stdout",
     "output_type": "stream",
     "text": [
      "rot =  6\n"
     ]
    },
    {
     "name": "stdout",
     "output_type": "stream",
     "text": [
      "number of symmetry oprations ==  12\n",
      "nRvec_add = 288\n",
      "rot =  1\n"
     ]
    },
    {
     "name": "stdout",
     "output_type": "stream",
     "text": [
      "rot =  2\n"
     ]
    },
    {
     "name": "stdout",
     "output_type": "stream",
     "text": [
      "rot =  3\n"
     ]
    },
    {
     "name": "stdout",
     "output_type": "stream",
     "text": [
      "rot =  4\n"
     ]
    },
    {
     "name": "stdout",
     "output_type": "stream",
     "text": [
      "rot =  5\n"
     ]
    },
    {
     "name": "stdout",
     "output_type": "stream",
     "text": [
      "rot =  6\n"
     ]
    },
    {
     "name": "stdout",
     "output_type": "stream",
     "text": [
      "number of symmetry oprations ==  12\n",
      "Symmetrizing Finished\n",
      "-1.5255204586113058e-17\n",
      "Testing AA with diag = True\n",
      "[0,0,0]\n",
      "[ 0.6043  3.2484 -1.6242  0.6191  0.6063  0.5893  3.2189  3.2463  3.2765 -1.6094 -1.6222 -1.6392  0.6043  3.2484 -1.6242  0.6191  0.6063  0.5893  3.2189  3.2463  3.2765 -1.6094 -1.6222 -1.6392]\n",
      "[ 0.6042  3.2484 -1.6243  0.619   0.6005  0.5952  3.2189  3.2494  3.2734 -1.6095 -1.628  -1.6333  0.6042  3.2484 -1.6243  0.619   0.6005  0.5952  3.2189  3.2494  3.2734 -1.6095 -1.628  -1.6333]\n",
      "==============================================\n",
      "[1.0467 0.     2.8132 1.0723 1.0218 1.049  0.     0.     0.     2.7876 2.8381 2.8108 1.0467 0.     2.8132 1.0723 1.0218 1.049  0.     0.     0.     2.7876 2.8381 2.8108]\n",
      "[ 1.0468 -0.      2.8131  1.0723  1.0268  1.0438 -0.      0.     -0.      2.7876  2.833   2.8161  1.0468 -0.      2.8131  1.0723  1.0268  1.0438 -0.      0.     -0.      2.7875  2.8331  2.8161]\n",
      "==============================================\n",
      "[ 0.      1.986   3.9721  0.     -0.0291  0.0291  1.986   1.986   1.986   3.9721  4.0011  3.943   0.      1.986   3.9721  0.     -0.0291  0.0291  1.986   1.986   1.986   3.9721  4.0011  3.943 ]\n",
      "[-0.0002  1.986   3.9723  0.0004 -0.0343  0.0328  1.986   1.986   1.986   3.9717  4.0064  3.9393 -0.0002  1.986   3.9723  0.0004 -0.0343  0.0327  1.986   1.986   1.986   3.9717  4.0063  3.9393]\n",
      "==============================================\n",
      "[1,0,0]\n",
      "[-0.0021  0.0036 -0.0021  0.0016  0.0033  0.0024 -0.005  -0.0131 -0.0028  0.0016  0.0033  0.0024 -0.0021  0.0036 -0.0021  0.0016  0.0033  0.0024 -0.005  -0.0131 -0.0028  0.0016  0.0033  0.0024]\n",
      "[-0.0024  0.0042 -0.0024  0.0015  0.0021  0.0036 -0.0048 -0.0123 -0.0035  0.0015  0.0021  0.0036 -0.0024  0.0042 -0.0024  0.0015  0.0021  0.0036 -0.0047 -0.0123 -0.0035  0.0015  0.0021  0.0036]\n",
      "==============================================\n",
      "[-0.0023  0.      0.0023 -0.0099 -0.0005  0.0087 -0.      0.     -0.      0.0099  0.0005 -0.0087 -0.0023  0.      0.0023 -0.0099 -0.0005  0.0087 -0.      0.     -0.      0.0099  0.0005 -0.0087]\n",
      "[-0.0016  0.      0.0016 -0.0096  0.0001  0.0083  0.     -0.      0.      0.0096 -0.0001 -0.0083 -0.0016  0.      0.0016 -0.0096  0.0001  0.0083  0.     -0.      0.      0.0096 -0.0001 -0.0083]\n",
      "==============================================\n",
      "[ 0.0004  0.     -0.0004  0.021   0.029  -0.0002  0.     -0.     -0.     -0.021  -0.029   0.0002  0.0004  0.     -0.0004  0.021   0.029  -0.0002  0.     -0.     -0.     -0.021  -0.029   0.0002]\n",
      "[ 0.001   0.     -0.001   0.0202  0.0307 -0.0008  0.      0.     -0.     -0.0202 -0.0307  0.0008  0.001   0.     -0.001   0.0202  0.0307 -0.0008  0.      0.     -0.     -0.0202 -0.0307  0.0008]\n",
      "==============================================\n",
      "[0,1,0]\n",
      "[-0.0009  0.003  -0.0018 -0.0094  0.0086 -0.0044  0.0078 -0.0103  0.0003  0.0025  0.0078  0.0001 -0.0009  0.003  -0.0018 -0.0094  0.0086 -0.0044  0.0078 -0.0103  0.0003  0.0025  0.0078  0.0001]\n",
      "[-0.0014  0.0027 -0.001  -0.0094  0.0078 -0.0041  0.0076 -0.0103  0.0004  0.0026  0.0081  0.0002 -0.0014  0.0027 -0.001  -0.0094  0.0078 -0.0041  0.0077 -0.0103  0.0003  0.0026  0.0081  0.0002]\n",
      "==============================================\n",
      "[-0.0029 -0.0006  0.0031 -0.0036 -0.001   0.01    0.0063  0.0061 -0.0052 -0.0043 -0.0017 -0.0121 -0.0029 -0.0006  0.0031 -0.0036 -0.001   0.01    0.0063  0.0061 -0.0052 -0.0043 -0.0017 -0.0121]\n",
      "[-0.0035 -0.0001  0.0032 -0.004  -0.0007  0.0099  0.0067  0.0065 -0.0059 -0.0044 -0.0021 -0.0115 -0.0035 -0.0001  0.0032 -0.004  -0.0007  0.0099  0.0067  0.0065 -0.0059 -0.0044 -0.0021 -0.0115]\n",
      "==============================================\n",
      "[-0.0004  0.0004 -0.     -0.021  -0.0095 -0.0193  0.021   0.0047  0.0241  0.      0.0116 -0.0116 -0.0004  0.0004 -0.     -0.021  -0.0095 -0.0193  0.021   0.0047  0.0241  0.      0.0116 -0.0116]\n",
      "[-0.0005 -0.0001  0.0004 -0.0212 -0.0091 -0.0191  0.0217  0.0037  0.0244 -0.0008  0.0116 -0.011  -0.0005 -0.0001  0.0004 -0.0212 -0.0092 -0.0191  0.0217  0.0037  0.0244 -0.0008  0.0116 -0.011 ]\n",
      "==============================================\n",
      "[0,0,1]\n",
      "[-0.0005  0.001  -0.0005  0.0016 -0.001   0.0044 -0.0031 -0.0076  0.0007  0.0016 -0.001   0.0044 -0.0005  0.001  -0.0005  0.0016 -0.001   0.0044 -0.0031 -0.0076  0.0007  0.0016 -0.001   0.0044]\n",
      "[-0.0005  0.001  -0.0005  0.0015 -0.001   0.0045 -0.0032 -0.0077  0.0009  0.0015 -0.001   0.0045 -0.0005  0.001  -0.0005  0.0015 -0.001   0.0045 -0.0032 -0.0076  0.0009  0.0015 -0.001   0.0045]\n",
      "==============================================\n",
      "[-0.0009  0.      0.0009  0.0027  0.0021  0.0038 -0.     -0.     -0.     -0.0027 -0.0021 -0.0038 -0.0009  0.      0.0009  0.0027  0.0021  0.0038 -0.     -0.     -0.     -0.0027 -0.0021 -0.0038]\n",
      "[-0.0009 -0.      0.0009  0.0027  0.0024  0.0035 -0.      0.     -0.     -0.0027 -0.0024 -0.0035 -0.0009 -0.      0.0009  0.0027  0.0024  0.0035 -0.      0.     -0.     -0.0027 -0.0024 -0.0035]\n",
      "==============================================\n",
      "[ 0.     -0.      0.     -0.     -0.0026  0.0026  0.     -0.0009  0.0009 -0.      0.0036 -0.0036  0.     -0.      0.     -0.     -0.0026  0.0026  0.     -0.0009  0.0009 -0.      0.0036 -0.0036]\n",
      "[-0.0001 -0.      0.0001  0.0001 -0.0035  0.003  -0.     -0.     -0.     -0.0001  0.0035 -0.003  -0.0001 -0.      0.0001  0.0001 -0.0035  0.003  -0.     -0.     -0.     -0.0001  0.0035 -0.003 ]\n",
      "==============================================\n"
     ]
    }
   ],
   "source": [
    "#Reading Wannier Hamiltonian and position element matrix from Te_tb.dat file.\n",
    "#We bulit to system, `system_Te` without symmetrization and `system_Te_sym` with symmetrization\n",
    "\n",
    "system_Te=wberri.System_tb(tb_file='./Te_data/Te_tb.dat',berry=True,use_ws=False)\n",
    "system_Te_sym=wberri.System_tb(tb_file='./Te_data/Te_tb.dat',berry=True,use_ws=False)\n",
    "\n",
    "#Symmetrization step.\n",
    "system_Te_sym.symmetrize(\n",
    "    # positions: positions of each atoms in a unitcell (direct coordinate system)\n",
    "    positions = np.array([[0.274, 0.274, 0.0],   \n",
    "                    [0.726, 0.0, 0.33333333],\n",
    "                   [0.0, 0.726, 0.66666667]]),\n",
    "    # atom_name: name of each atoms, need to correspond to position order.\n",
    "    atom_name = ['Te','Te','Te'],\n",
    "    # projections: should be the same with projection card in wannier90.win\n",
    "    proj = ['Te:s','Te:p'],\n",
    "    # soc: with soc or spinless\n",
    "    soc=True,\n",
    "    # DFT_code: What code was used to complet the DFT calculation. only support VASP and QE now.\n",
    "    DFT_code='vasp',\n",
    "    )"
   ]
  },
  {
   "cell_type": "markdown",
   "metadata": {},
   "source": [
    "Output card `Wannier atoms info` is showing informations about orbitals.\n",
    "\n",
    "Line `(1, 'Te', array([0.274, 0.274, 0.   ]), ['s', 'p'], [[0, 12], [3, 4, 5, 15, 16, 17]])` read as:\n",
    "First atoms is Te at position 0.274, 0.274, 0. It contribute orbital $s$ and $p$. Index of s-orbitals are 0 and 12. Index of d-orbitals are 3, 4, 5, 15, 16, 17.\n",
    "\n",
    "Informations of space group are showed as well.\n",
    "\n",
    "We can check if real space Hamiltonian are symmetrized."
   ]
  },
  {
   "cell_type": "code",
   "execution_count": 3,
   "metadata": {
    "execution": {
     "iopub.execute_input": "2022-09-05T15:40:29.270298Z",
     "iopub.status.busy": "2022-09-05T15:40:29.268398Z",
     "iopub.status.idle": "2022-09-05T15:40:29.274882Z",
     "shell.execute_reply": "2022-09-05T15:40:29.273913Z"
    }
   },
   "outputs": [],
   "source": [
    "#We check symmetry with operator 1 from Space group informations in the output.\n",
    "#prepare operator\n",
    "rot = np.array([[0., -1., 0.],[1, -1, 0.],[0., 0., 1.]]) # rotation matrix (direct)\n",
    "trans = np.array([0., 0., 1./3.])  #translation (direct)"
   ]
  },
  {
   "cell_type": "code",
   "execution_count": 4,
   "metadata": {
    "execution": {
     "iopub.execute_input": "2022-09-05T15:40:29.280950Z",
     "iopub.status.busy": "2022-09-05T15:40:29.280373Z",
     "iopub.status.idle": "2022-09-05T15:40:29.286063Z",
     "shell.execute_reply": "2022-09-05T15:40:29.285235Z"
    }
   },
   "outputs": [
    {
     "name": "stdout",
     "output_type": "stream",
     "text": [
      "Before operation [0.274 0.274 0.   ]\n",
      "After operation [-0.274       0.          0.33333333] match Te_2_position\n"
     ]
    }
   ],
   "source": [
    "#After operation, position of Te_1 match Te_2.\n",
    "Te_1_position = np.array([0.274, 0.274, 0.])\n",
    "position_rot = rot @ Te_1_position + trans\n",
    "print('Before operation', Te_1_position)\n",
    "print('After operation', position_rot, 'match Te_2_position')"
   ]
  },
  {
   "cell_type": "markdown",
   "metadata": {},
   "source": [
    "So the on-site energy of Te_1 s-orbitals should match on-site energy of Te_1 s-orbitals as well."
   ]
  },
  {
   "cell_type": "code",
   "execution_count": 5,
   "metadata": {
    "execution": {
     "iopub.execute_input": "2022-09-05T15:40:29.290103Z",
     "iopub.status.busy": "2022-09-05T15:40:29.289674Z",
     "iopub.status.idle": "2022-09-05T15:40:29.296922Z",
     "shell.execute_reply": "2022-09-05T15:40:29.296030Z"
    }
   },
   "outputs": [
    {
     "name": "stdout",
     "output_type": "stream",
     "text": [
      "unsymmetrized\n",
      "on-site energy of Te_1 orbitals\n",
      "[-5.585966  -5.5859776]\n",
      "on-site energy of Te_2 orbitals\n",
      "[-5.588091  -5.5880802]\n",
      "not totaly the same\n"
     ]
    }
   ],
   "source": [
    "#Check unsymmetrized system\n",
    "\n",
    "#find index of R=[0,0,0] in R-vector list\n",
    "#dimension of Hamiltonian is [num_wann, num_wann, num_Rvec]\n",
    "R0 = system_Te.iRvec.tolist().index([0,0,0])\n",
    "onsite_Te_1 = np.diagonal(system_Te.Ham_R[:,:,R0]).real[np.array([0, 12])]\n",
    "onsite_Te_2 = np.diagonal(system_Te.Ham_R[:,:,R0]).real[np.array([1, 13])]\n",
    "\n",
    "print('unsymmetrized')\n",
    "print('on-site energy of Te_1 orbitals')\n",
    "print(onsite_Te_1)\n",
    "print('on-site energy of Te_2 orbitals')\n",
    "print(onsite_Te_2)\n",
    "print('not totaly the same')"
   ]
  },
  {
   "cell_type": "code",
   "execution_count": 6,
   "metadata": {
    "execution": {
     "iopub.execute_input": "2022-09-05T15:40:29.301806Z",
     "iopub.status.busy": "2022-09-05T15:40:29.301531Z",
     "iopub.status.idle": "2022-09-05T15:40:29.310636Z",
     "shell.execute_reply": "2022-09-05T15:40:29.309740Z"
    }
   },
   "outputs": [
    {
     "name": "stdout",
     "output_type": "stream",
     "text": [
      "symmetrized\n",
      "on-site energy of Te_1 orbitals\n",
      "[-5.58668017 -5.58668017]\n",
      "on-site energy of Te_2 orbitals\n",
      "[-5.58668017 -5.58668017]\n",
      "totaly the same\n"
     ]
    }
   ],
   "source": [
    "#Check symmetrized system\n",
    "\n",
    "#find index of R=[0,0,0] in R-vector list\n",
    "#dimension of Hamiltonian is [num_wann, num_wann, num_Rvec]\n",
    "R0 = system_Te.iRvec.tolist().index([0,0,0])\n",
    "onsite_Te_1_sym = np.diagonal(system_Te_sym.Ham_R[:,:,R0]).real[np.array([0, 12])]\n",
    "onsite_Te_2_sym = np.diagonal(system_Te_sym.Ham_R[:,:,R0]).real[np.array([1, 13])]\n",
    "\n",
    "print('symmetrized')\n",
    "print('on-site energy of Te_1 orbitals')\n",
    "print(onsite_Te_1_sym)\n",
    "print('on-site energy of Te_2 orbitals')\n",
    "print(onsite_Te_2_sym)\n",
    "print('totaly the same')"
   ]
  },
  {
   "cell_type": "markdown",
   "metadata": {},
   "source": [
    "Checking band structures in k-space.\n",
    "\n",
    "The Brillouin zone of trigonal Te is:\n",
    "<img src=\"./Te_data/Te_BZ.png\" width=\"300\">\n",
    "We only consider kz=$\\pi$ plane. \n",
    "<img src=\"./Te_data/Te_kz=pi.png\" width=\"300\">\n",
    "The band structures of the three path:\n",
    "\n",
    "L1 -> H -> A1\n",
    "\n",
    "L2 -> H -> A2\n",
    "\n",
    "L3 -> H -> A3\n",
    "\n",
    "should be the same because of C3 rotation symmetry.\n",
    "\n",
    "But the Wannier Hamitonian break the symmetries slightly. So the band structure of the three path may not the same.\n",
    "\n",
    "After symmetrization they are the same.\n"
   ]
  },
  {
   "cell_type": "code",
   "execution_count": 7,
   "metadata": {
    "execution": {
     "iopub.execute_input": "2022-09-05T15:40:29.314387Z",
     "iopub.status.busy": "2022-09-05T15:40:29.314085Z",
     "iopub.status.idle": "2022-09-05T15:40:36.392246Z",
     "shell.execute_reply": "2022-09-05T15:40:36.391479Z"
    }
   },
   "outputs": [
    {
     "name": "stdout",
     "output_type": "stream",
     "text": [
      "\u001b[1m\u001b[36mcalculator not described\n",
      "\u001b[0m\n",
      "Calculation along a path - checking calculators for compatibility\n",
      "tabulate <wannierberri.calculators.TabulatorAll object at 0x7f52cd3bca60>\n",
      "All calculators are compatible\n",
      "Symmetrization switched off for Path\n",
      "The set of k points is a Path() with 676 points and labels {0: 'L1', 75: 'H', 225: 'L3', 300: 'H', 450: 'L2', 525: 'H', 675: 'A2'}\n",
      "WARNING : symmetry is not used for a tabulation along path\n",
      "generating K_list\n",
      "Done \n",
      "Done, sum of weights:676.0\n",
      "iteration 0 - 676 points. New points are:\n",
      " K-point 0 : coord in rec.lattice = [   0.000000  ,   0.500000 ,    0.500000 ], refinement level:0, dK=[1. 1. 1.]  \n",
      " K-point 1 : coord in rec.lattice = [   0.004444  ,   0.497778 ,    0.500000 ], refinement level:0, dK=[1. 1. 1.]  \n",
      " K-point 2 : coord in rec.lattice = [   0.008889  ,   0.495556 ,    0.500000 ], refinement level:0, dK=[1. 1. 1.]  \n",
      " K-point 3 : coord in rec.lattice = [   0.013333  ,   0.493333 ,    0.500000 ], refinement level:0, dK=[1. 1. 1.]  \n",
      " K-point 4 : coord in rec.lattice = [   0.017778  ,   0.491111 ,    0.500000 ], refinement level:0, dK=[1. 1. 1.]  \n",
      " K-point 5 : coord in rec.lattice = [   0.022222  ,   0.488889 ,    0.500000 ], refinement level:0, dK=[1. 1. 1.]  \n",
      " K-point 6 : coord in rec.lattice = [   0.026667  ,   0.486667 ,    0.500000 ], refinement level:0, dK=[1. 1. 1.]  \n",
      " K-point 7 : coord in rec.lattice = [   0.031111  ,   0.484444 ,    0.500000 ], refinement level:0, dK=[1. 1. 1.]  \n",
      " K-point 8 : coord in rec.lattice = [   0.035556  ,   0.482222 ,    0.500000 ], refinement level:0, dK=[1. 1. 1.]  \n",
      " K-point 9 : coord in rec.lattice = [   0.040000  ,   0.480000 ,    0.500000 ], refinement level:0, dK=[1. 1. 1.]  \n",
      " K-point 10 : coord in rec.lattice = [   0.044444  ,   0.477778 ,    0.500000 ], refinement level:0, dK=[1. 1. 1.]  \n",
      " K-point 11 : coord in rec.lattice = [   0.048889  ,   0.475556 ,    0.500000 ], refinement level:0, dK=[1. 1. 1.]  \n",
      " K-point 12 : coord in rec.lattice = [   0.053333  ,   0.473333 ,    0.500000 ], refinement level:0, dK=[1. 1. 1.]  \n",
      " K-point 13 : coord in rec.lattice = [   0.057778  ,   0.471111 ,    0.500000 ], refinement level:0, dK=[1. 1. 1.]  \n",
      " K-point 14 : coord in rec.lattice = [   0.062222  ,   0.468889 ,    0.500000 ], refinement level:0, dK=[1. 1. 1.]  \n",
      " K-point 15 : coord in rec.lattice = [   0.066667  ,   0.466667 ,    0.500000 ], refinement level:0, dK=[1. 1. 1.]  \n",
      " K-point 16 : coord in rec.lattice = [   0.071111  ,   0.464444 ,    0.500000 ], refinement level:0, dK=[1. 1. 1.]  \n",
      " K-point 17 : coord in rec.lattice = [   0.075556  ,   0.462222 ,    0.500000 ], refinement level:0, dK=[1. 1. 1.]  \n",
      " K-point 18 : coord in rec.lattice = [   0.080000  ,   0.460000 ,    0.500000 ], refinement level:0, dK=[1. 1. 1.]  \n",
      " K-point 19 : coord in rec.lattice = [   0.084444  ,   0.457778 ,    0.500000 ], refinement level:0, dK=[1. 1. 1.]  \n",
      " K-point 20 : coord in rec.lattice = [   0.088889  ,   0.455556 ,    0.500000 ], refinement level:0, dK=[1. 1. 1.]  \n",
      " K-point 21 : coord in rec.lattice = [   0.093333  ,   0.453333 ,    0.500000 ], refinement level:0, dK=[1. 1. 1.]  \n",
      " K-point 22 : coord in rec.lattice = [   0.097778  ,   0.451111 ,    0.500000 ], refinement level:0, dK=[1. 1. 1.]  \n",
      " K-point 23 : coord in rec.lattice = [   0.102222  ,   0.448889 ,    0.500000 ], refinement level:0, dK=[1. 1. 1.]  \n",
      " K-point 24 : coord in rec.lattice = [   0.106667  ,   0.446667 ,    0.500000 ], refinement level:0, dK=[1. 1. 1.]  \n",
      " K-point 25 : coord in rec.lattice = [   0.111111  ,   0.444444 ,    0.500000 ], refinement level:0, dK=[1. 1. 1.]  \n",
      " K-point 26 : coord in rec.lattice = [   0.115556  ,   0.442222 ,    0.500000 ], refinement level:0, dK=[1. 1. 1.]  \n",
      " K-point 27 : coord in rec.lattice = [   0.120000  ,   0.440000 ,    0.500000 ], refinement level:0, dK=[1. 1. 1.]  \n",
      " K-point 28 : coord in rec.lattice = [   0.124444  ,   0.437778 ,    0.500000 ], refinement level:0, dK=[1. 1. 1.]  \n",
      " K-point 29 : coord in rec.lattice = [   0.128889  ,   0.435556 ,    0.500000 ], refinement level:0, dK=[1. 1. 1.]  \n",
      " K-point 30 : coord in rec.lattice = [   0.133333  ,   0.433333 ,    0.500000 ], refinement level:0, dK=[1. 1. 1.]  \n",
      " K-point 31 : coord in rec.lattice = [   0.137778  ,   0.431111 ,    0.500000 ], refinement level:0, dK=[1. 1. 1.]  \n",
      " K-point 32 : coord in rec.lattice = [   0.142222  ,   0.428889 ,    0.500000 ], refinement level:0, dK=[1. 1. 1.]  \n",
      " K-point 33 : coord in rec.lattice = [   0.146667  ,   0.426667 ,    0.500000 ], refinement level:0, dK=[1. 1. 1.]  \n",
      " K-point 34 : coord in rec.lattice = [   0.151111  ,   0.424444 ,    0.500000 ], refinement level:0, dK=[1. 1. 1.]  \n",
      " K-point 35 : coord in rec.lattice = [   0.155556  ,   0.422222 ,    0.500000 ], refinement level:0, dK=[1. 1. 1.]  \n",
      " K-point 36 : coord in rec.lattice = [   0.160000  ,   0.420000 ,    0.500000 ], refinement level:0, dK=[1. 1. 1.]  \n",
      " K-point 37 : coord in rec.lattice = [   0.164444  ,   0.417778 ,    0.500000 ], refinement level:0, dK=[1. 1. 1.]  \n",
      " K-point 38 : coord in rec.lattice = [   0.168889  ,   0.415556 ,    0.500000 ], refinement level:0, dK=[1. 1. 1.]  \n",
      " K-point 39 : coord in rec.lattice = [   0.173333  ,   0.413333 ,    0.500000 ], refinement level:0, dK=[1. 1. 1.]  \n",
      " K-point 40 : coord in rec.lattice = [   0.177778  ,   0.411111 ,    0.500000 ], refinement level:0, dK=[1. 1. 1.]  \n",
      " K-point 41 : coord in rec.lattice = [   0.182222  ,   0.408889 ,    0.500000 ], refinement level:0, dK=[1. 1. 1.]  \n",
      " K-point 42 : coord in rec.lattice = [   0.186667  ,   0.406667 ,    0.500000 ], refinement level:0, dK=[1. 1. 1.]  \n",
      " K-point 43 : coord in rec.lattice = [   0.191111  ,   0.404444 ,    0.500000 ], refinement level:0, dK=[1. 1. 1.]  \n",
      " K-point 44 : coord in rec.lattice = [   0.195556  ,   0.402222 ,    0.500000 ], refinement level:0, dK=[1. 1. 1.]  \n",
      " K-point 45 : coord in rec.lattice = [   0.200000  ,   0.400000 ,    0.500000 ], refinement level:0, dK=[1. 1. 1.]  \n",
      " K-point 46 : coord in rec.lattice = [   0.204444  ,   0.397778 ,    0.500000 ], refinement level:0, dK=[1. 1. 1.]  \n",
      " K-point 47 : coord in rec.lattice = [   0.208889  ,   0.395556 ,    0.500000 ], refinement level:0, dK=[1. 1. 1.]  \n",
      " K-point 48 : coord in rec.lattice = [   0.213333  ,   0.393333 ,    0.500000 ], refinement level:0, dK=[1. 1. 1.]  \n",
      " K-point 49 : coord in rec.lattice = [   0.217778  ,   0.391111 ,    0.500000 ], refinement level:0, dK=[1. 1. 1.]  \n",
      " K-point 50 : coord in rec.lattice = [   0.222222  ,   0.388889 ,    0.500000 ], refinement level:0, dK=[1. 1. 1.]  \n",
      " K-point 51 : coord in rec.lattice = [   0.226667  ,   0.386667 ,    0.500000 ], refinement level:0, dK=[1. 1. 1.]  \n",
      " K-point 52 : coord in rec.lattice = [   0.231111  ,   0.384444 ,    0.500000 ], refinement level:0, dK=[1. 1. 1.]  \n",
      " K-point 53 : coord in rec.lattice = [   0.235556  ,   0.382222 ,    0.500000 ], refinement level:0, dK=[1. 1. 1.]  \n",
      " K-point 54 : coord in rec.lattice = [   0.240000  ,   0.380000 ,    0.500000 ], refinement level:0, dK=[1. 1. 1.]  \n",
      " K-point 55 : coord in rec.lattice = [   0.244444  ,   0.377778 ,    0.500000 ], refinement level:0, dK=[1. 1. 1.]  \n",
      " K-point 56 : coord in rec.lattice = [   0.248889  ,   0.375556 ,    0.500000 ], refinement level:0, dK=[1. 1. 1.]  \n",
      " K-point 57 : coord in rec.lattice = [   0.253333  ,   0.373333 ,    0.500000 ], refinement level:0, dK=[1. 1. 1.]  \n",
      " K-point 58 : coord in rec.lattice = [   0.257778  ,   0.371111 ,    0.500000 ], refinement level:0, dK=[1. 1. 1.]  \n",
      " K-point 59 : coord in rec.lattice = [   0.262222  ,   0.368889 ,    0.500000 ], refinement level:0, dK=[1. 1. 1.]  \n",
      " K-point 60 : coord in rec.lattice = [   0.266667  ,   0.366667 ,    0.500000 ], refinement level:0, dK=[1. 1. 1.]  \n",
      " K-point 61 : coord in rec.lattice = [   0.271111  ,   0.364444 ,    0.500000 ], refinement level:0, dK=[1. 1. 1.]  \n",
      " K-point 62 : coord in rec.lattice = [   0.275556  ,   0.362222 ,    0.500000 ], refinement level:0, dK=[1. 1. 1.]  \n",
      " K-point 63 : coord in rec.lattice = [   0.280000  ,   0.360000 ,    0.500000 ], refinement level:0, dK=[1. 1. 1.]  \n",
      " K-point 64 : coord in rec.lattice = [   0.284444  ,   0.357778 ,    0.500000 ], refinement level:0, dK=[1. 1. 1.]  \n",
      " K-point 65 : coord in rec.lattice = [   0.288889  ,   0.355556 ,    0.500000 ], refinement level:0, dK=[1. 1. 1.]  \n",
      " K-point 66 : coord in rec.lattice = [   0.293333  ,   0.353333 ,    0.500000 ], refinement level:0, dK=[1. 1. 1.]  \n",
      " K-point 67 : coord in rec.lattice = [   0.297778  ,   0.351111 ,    0.500000 ], refinement level:0, dK=[1. 1. 1.]  \n",
      " K-point 68 : coord in rec.lattice = [   0.302222  ,   0.348889 ,    0.500000 ], refinement level:0, dK=[1. 1. 1.]  \n",
      " K-point 69 : coord in rec.lattice = [   0.306667  ,   0.346667 ,    0.500000 ], refinement level:0, dK=[1. 1. 1.]  \n",
      " K-point 70 : coord in rec.lattice = [   0.311111  ,   0.344444 ,    0.500000 ], refinement level:0, dK=[1. 1. 1.]  \n",
      " K-point 71 : coord in rec.lattice = [   0.315556  ,   0.342222 ,    0.500000 ], refinement level:0, dK=[1. 1. 1.]  \n",
      " K-point 72 : coord in rec.lattice = [   0.320000  ,   0.340000 ,    0.500000 ], refinement level:0, dK=[1. 1. 1.]  \n",
      " K-point 73 : coord in rec.lattice = [   0.324444  ,   0.337778 ,    0.500000 ], refinement level:0, dK=[1. 1. 1.]  \n",
      " K-point 74 : coord in rec.lattice = [   0.328889  ,   0.335556 ,    0.500000 ], refinement level:0, dK=[1. 1. 1.]  \n",
      " K-point 75 : coord in rec.lattice = [   0.333333  ,   0.333333 ,    0.500000 ], refinement level:0, dK=[1. 1. 1.]  \n",
      " K-point 76 : coord in rec.lattice = [   0.337778  ,   0.331111 ,    0.500000 ], refinement level:0, dK=[1. 1. 1.]  \n",
      " K-point 77 : coord in rec.lattice = [   0.342222  ,   0.328889 ,    0.500000 ], refinement level:0, dK=[1. 1. 1.]  \n",
      " K-point 78 : coord in rec.lattice = [   0.346667  ,   0.326667 ,    0.500000 ], refinement level:0, dK=[1. 1. 1.]  \n",
      " K-point 79 : coord in rec.lattice = [   0.351111  ,   0.324444 ,    0.500000 ], refinement level:0, dK=[1. 1. 1.]  \n",
      " K-point 80 : coord in rec.lattice = [   0.355556  ,   0.322222 ,    0.500000 ], refinement level:0, dK=[1. 1. 1.]  \n",
      " K-point 81 : coord in rec.lattice = [   0.360000  ,   0.320000 ,    0.500000 ], refinement level:0, dK=[1. 1. 1.]  \n",
      " K-point 82 : coord in rec.lattice = [   0.364444  ,   0.317778 ,    0.500000 ], refinement level:0, dK=[1. 1. 1.]  \n",
      " K-point 83 : coord in rec.lattice = [   0.368889  ,   0.315556 ,    0.500000 ], refinement level:0, dK=[1. 1. 1.]  \n",
      " K-point 84 : coord in rec.lattice = [   0.373333  ,   0.313333 ,    0.500000 ], refinement level:0, dK=[1. 1. 1.]  \n",
      " K-point 85 : coord in rec.lattice = [   0.377778  ,   0.311111 ,    0.500000 ], refinement level:0, dK=[1. 1. 1.]  \n",
      " K-point 86 : coord in rec.lattice = [   0.382222  ,   0.308889 ,    0.500000 ], refinement level:0, dK=[1. 1. 1.]  \n",
      " K-point 87 : coord in rec.lattice = [   0.386667  ,   0.306667 ,    0.500000 ], refinement level:0, dK=[1. 1. 1.]  \n",
      " K-point 88 : coord in rec.lattice = [   0.391111  ,   0.304444 ,    0.500000 ], refinement level:0, dK=[1. 1. 1.]  \n",
      " K-point 89 : coord in rec.lattice = [   0.395556  ,   0.302222 ,    0.500000 ], refinement level:0, dK=[1. 1. 1.]  \n",
      " K-point 90 : coord in rec.lattice = [   0.400000  ,   0.300000 ,    0.500000 ], refinement level:0, dK=[1. 1. 1.]  \n",
      " K-point 91 : coord in rec.lattice = [   0.404444  ,   0.297778 ,    0.500000 ], refinement level:0, dK=[1. 1. 1.]  \n",
      " K-point 92 : coord in rec.lattice = [   0.408889  ,   0.295556 ,    0.500000 ], refinement level:0, dK=[1. 1. 1.]  \n",
      " K-point 93 : coord in rec.lattice = [   0.413333  ,   0.293333 ,    0.500000 ], refinement level:0, dK=[1. 1. 1.]  \n",
      " K-point 94 : coord in rec.lattice = [   0.417778  ,   0.291111 ,    0.500000 ], refinement level:0, dK=[1. 1. 1.]  \n",
      " K-point 95 : coord in rec.lattice = [   0.422222  ,   0.288889 ,    0.500000 ], refinement level:0, dK=[1. 1. 1.]  \n",
      " K-point 96 : coord in rec.lattice = [   0.426667  ,   0.286667 ,    0.500000 ], refinement level:0, dK=[1. 1. 1.]  \n",
      " K-point 97 : coord in rec.lattice = [   0.431111  ,   0.284444 ,    0.500000 ], refinement level:0, dK=[1. 1. 1.]  \n",
      " K-point 98 : coord in rec.lattice = [   0.435556  ,   0.282222 ,    0.500000 ], refinement level:0, dK=[1. 1. 1.]  \n",
      " K-point 99 : coord in rec.lattice = [   0.440000  ,   0.280000 ,    0.500000 ], refinement level:0, dK=[1. 1. 1.]  \n",
      " K-point 100 : coord in rec.lattice = [   0.444444  ,   0.277778 ,    0.500000 ], refinement level:0, dK=[1. 1. 1.]  \n",
      " K-point 101 : coord in rec.lattice = [   0.448889  ,   0.275556 ,    0.500000 ], refinement level:0, dK=[1. 1. 1.]  \n",
      " K-point 102 : coord in rec.lattice = [   0.453333  ,   0.273333 ,    0.500000 ], refinement level:0, dK=[1. 1. 1.]  \n",
      " K-point 103 : coord in rec.lattice = [   0.457778  ,   0.271111 ,    0.500000 ], refinement level:0, dK=[1. 1. 1.]  \n",
      " K-point 104 : coord in rec.lattice = [   0.462222  ,   0.268889 ,    0.500000 ], refinement level:0, dK=[1. 1. 1.]  \n",
      " K-point 105 : coord in rec.lattice = [   0.466667  ,   0.266667 ,    0.500000 ], refinement level:0, dK=[1. 1. 1.]  \n",
      " K-point 106 : coord in rec.lattice = [   0.471111  ,   0.264444 ,    0.500000 ], refinement level:0, dK=[1. 1. 1.]  \n",
      " K-point 107 : coord in rec.lattice = [   0.475556  ,   0.262222 ,    0.500000 ], refinement level:0, dK=[1. 1. 1.]  \n",
      " K-point 108 : coord in rec.lattice = [   0.480000  ,   0.260000 ,    0.500000 ], refinement level:0, dK=[1. 1. 1.]  \n",
      " K-point 109 : coord in rec.lattice = [   0.484444  ,   0.257778 ,    0.500000 ], refinement level:0, dK=[1. 1. 1.]  \n",
      " K-point 110 : coord in rec.lattice = [   0.488889  ,   0.255556 ,    0.500000 ], refinement level:0, dK=[1. 1. 1.]  \n",
      " K-point 111 : coord in rec.lattice = [   0.493333  ,   0.253333 ,    0.500000 ], refinement level:0, dK=[1. 1. 1.]  \n",
      " K-point 112 : coord in rec.lattice = [   0.497778  ,   0.251111 ,    0.500000 ], refinement level:0, dK=[1. 1. 1.]  \n",
      " K-point 113 : coord in rec.lattice = [   0.502222  ,   0.248889 ,    0.500000 ], refinement level:0, dK=[1. 1. 1.]  \n",
      " K-point 114 : coord in rec.lattice = [   0.506667  ,   0.246667 ,    0.500000 ], refinement level:0, dK=[1. 1. 1.]  \n",
      " K-point 115 : coord in rec.lattice = [   0.511111  ,   0.244444 ,    0.500000 ], refinement level:0, dK=[1. 1. 1.]  \n",
      " K-point 116 : coord in rec.lattice = [   0.515556  ,   0.242222 ,    0.500000 ], refinement level:0, dK=[1. 1. 1.]  \n",
      " K-point 117 : coord in rec.lattice = [   0.520000  ,   0.240000 ,    0.500000 ], refinement level:0, dK=[1. 1. 1.]  \n",
      " K-point 118 : coord in rec.lattice = [   0.524444  ,   0.237778 ,    0.500000 ], refinement level:0, dK=[1. 1. 1.]  \n",
      " K-point 119 : coord in rec.lattice = [   0.528889  ,   0.235556 ,    0.500000 ], refinement level:0, dK=[1. 1. 1.]  \n",
      " K-point 120 : coord in rec.lattice = [   0.533333  ,   0.233333 ,    0.500000 ], refinement level:0, dK=[1. 1. 1.]  \n",
      " K-point 121 : coord in rec.lattice = [   0.537778  ,   0.231111 ,    0.500000 ], refinement level:0, dK=[1. 1. 1.]  \n",
      " K-point 122 : coord in rec.lattice = [   0.542222  ,   0.228889 ,    0.500000 ], refinement level:0, dK=[1. 1. 1.]  \n",
      " K-point 123 : coord in rec.lattice = [   0.546667  ,   0.226667 ,    0.500000 ], refinement level:0, dK=[1. 1. 1.]  \n",
      " K-point 124 : coord in rec.lattice = [   0.551111  ,   0.224444 ,    0.500000 ], refinement level:0, dK=[1. 1. 1.]  \n",
      " K-point 125 : coord in rec.lattice = [   0.555556  ,   0.222222 ,    0.500000 ], refinement level:0, dK=[1. 1. 1.]  \n",
      " K-point 126 : coord in rec.lattice = [   0.560000  ,   0.220000 ,    0.500000 ], refinement level:0, dK=[1. 1. 1.]  \n",
      " K-point 127 : coord in rec.lattice = [   0.564444  ,   0.217778 ,    0.500000 ], refinement level:0, dK=[1. 1. 1.]  \n",
      " K-point 128 : coord in rec.lattice = [   0.568889  ,   0.215556 ,    0.500000 ], refinement level:0, dK=[1. 1. 1.]  \n",
      " K-point 129 : coord in rec.lattice = [   0.573333  ,   0.213333 ,    0.500000 ], refinement level:0, dK=[1. 1. 1.]  \n",
      " K-point 130 : coord in rec.lattice = [   0.577778  ,   0.211111 ,    0.500000 ], refinement level:0, dK=[1. 1. 1.]  \n",
      " K-point 131 : coord in rec.lattice = [   0.582222  ,   0.208889 ,    0.500000 ], refinement level:0, dK=[1. 1. 1.]  \n",
      " K-point 132 : coord in rec.lattice = [   0.586667  ,   0.206667 ,    0.500000 ], refinement level:0, dK=[1. 1. 1.]  \n",
      " K-point 133 : coord in rec.lattice = [   0.591111  ,   0.204444 ,    0.500000 ], refinement level:0, dK=[1. 1. 1.]  \n",
      " K-point 134 : coord in rec.lattice = [   0.595556  ,   0.202222 ,    0.500000 ], refinement level:0, dK=[1. 1. 1.]  \n",
      " K-point 135 : coord in rec.lattice = [   0.600000  ,   0.200000 ,    0.500000 ], refinement level:0, dK=[1. 1. 1.]  \n",
      " K-point 136 : coord in rec.lattice = [   0.604444  ,   0.197778 ,    0.500000 ], refinement level:0, dK=[1. 1. 1.]  \n",
      " K-point 137 : coord in rec.lattice = [   0.608889  ,   0.195556 ,    0.500000 ], refinement level:0, dK=[1. 1. 1.]  \n",
      " K-point 138 : coord in rec.lattice = [   0.613333  ,   0.193333 ,    0.500000 ], refinement level:0, dK=[1. 1. 1.]  \n",
      " K-point 139 : coord in rec.lattice = [   0.617778  ,   0.191111 ,    0.500000 ], refinement level:0, dK=[1. 1. 1.]  \n",
      " K-point 140 : coord in rec.lattice = [   0.622222  ,   0.188889 ,    0.500000 ], refinement level:0, dK=[1. 1. 1.]  \n",
      " K-point 141 : coord in rec.lattice = [   0.626667  ,   0.186667 ,    0.500000 ], refinement level:0, dK=[1. 1. 1.]  \n",
      " K-point 142 : coord in rec.lattice = [   0.631111  ,   0.184444 ,    0.500000 ], refinement level:0, dK=[1. 1. 1.]  \n",
      " K-point 143 : coord in rec.lattice = [   0.635556  ,   0.182222 ,    0.500000 ], refinement level:0, dK=[1. 1. 1.]  \n",
      " K-point 144 : coord in rec.lattice = [   0.640000  ,   0.180000 ,    0.500000 ], refinement level:0, dK=[1. 1. 1.]  \n",
      " K-point 145 : coord in rec.lattice = [   0.644444  ,   0.177778 ,    0.500000 ], refinement level:0, dK=[1. 1. 1.]  \n",
      " K-point 146 : coord in rec.lattice = [   0.648889  ,   0.175556 ,    0.500000 ], refinement level:0, dK=[1. 1. 1.]  \n",
      " K-point 147 : coord in rec.lattice = [   0.653333  ,   0.173333 ,    0.500000 ], refinement level:0, dK=[1. 1. 1.]  \n",
      " K-point 148 : coord in rec.lattice = [   0.657778  ,   0.171111 ,    0.500000 ], refinement level:0, dK=[1. 1. 1.]  \n",
      " K-point 149 : coord in rec.lattice = [   0.662222  ,   0.168889 ,    0.500000 ], refinement level:0, dK=[1. 1. 1.]  \n",
      " K-point 150 : coord in rec.lattice = [   0.666667  ,   0.166667 ,    0.500000 ], refinement level:0, dK=[1. 1. 1.]  \n",
      " K-point 151 : coord in rec.lattice = [   0.671111  ,   0.164444 ,    0.500000 ], refinement level:0, dK=[1. 1. 1.]  \n",
      " K-point 152 : coord in rec.lattice = [   0.675556  ,   0.162222 ,    0.500000 ], refinement level:0, dK=[1. 1. 1.]  \n",
      " K-point 153 : coord in rec.lattice = [   0.680000  ,   0.160000 ,    0.500000 ], refinement level:0, dK=[1. 1. 1.]  \n",
      " K-point 154 : coord in rec.lattice = [   0.684444  ,   0.157778 ,    0.500000 ], refinement level:0, dK=[1. 1. 1.]  \n",
      " K-point 155 : coord in rec.lattice = [   0.688889  ,   0.155556 ,    0.500000 ], refinement level:0, dK=[1. 1. 1.]  \n",
      " K-point 156 : coord in rec.lattice = [   0.693333  ,   0.153333 ,    0.500000 ], refinement level:0, dK=[1. 1. 1.]  \n",
      " K-point 157 : coord in rec.lattice = [   0.697778  ,   0.151111 ,    0.500000 ], refinement level:0, dK=[1. 1. 1.]  \n",
      " K-point 158 : coord in rec.lattice = [   0.702222  ,   0.148889 ,    0.500000 ], refinement level:0, dK=[1. 1. 1.]  \n",
      " K-point 159 : coord in rec.lattice = [   0.706667  ,   0.146667 ,    0.500000 ], refinement level:0, dK=[1. 1. 1.]  \n",
      " K-point 160 : coord in rec.lattice = [   0.711111  ,   0.144444 ,    0.500000 ], refinement level:0, dK=[1. 1. 1.]  \n",
      " K-point 161 : coord in rec.lattice = [   0.715556  ,   0.142222 ,    0.500000 ], refinement level:0, dK=[1. 1. 1.]  \n",
      " K-point 162 : coord in rec.lattice = [   0.720000  ,   0.140000 ,    0.500000 ], refinement level:0, dK=[1. 1. 1.]  \n",
      " K-point 163 : coord in rec.lattice = [   0.724444  ,   0.137778 ,    0.500000 ], refinement level:0, dK=[1. 1. 1.]  \n",
      " K-point 164 : coord in rec.lattice = [   0.728889  ,   0.135556 ,    0.500000 ], refinement level:0, dK=[1. 1. 1.]  \n",
      " K-point 165 : coord in rec.lattice = [   0.733333  ,   0.133333 ,    0.500000 ], refinement level:0, dK=[1. 1. 1.]  \n",
      " K-point 166 : coord in rec.lattice = [   0.737778  ,   0.131111 ,    0.500000 ], refinement level:0, dK=[1. 1. 1.]  \n",
      " K-point 167 : coord in rec.lattice = [   0.742222  ,   0.128889 ,    0.500000 ], refinement level:0, dK=[1. 1. 1.]  \n",
      " K-point 168 : coord in rec.lattice = [   0.746667  ,   0.126667 ,    0.500000 ], refinement level:0, dK=[1. 1. 1.]  \n",
      " K-point 169 : coord in rec.lattice = [   0.751111  ,   0.124444 ,    0.500000 ], refinement level:0, dK=[1. 1. 1.]  \n",
      " K-point 170 : coord in rec.lattice = [   0.755556  ,   0.122222 ,    0.500000 ], refinement level:0, dK=[1. 1. 1.]  \n",
      " K-point 171 : coord in rec.lattice = [   0.760000  ,   0.120000 ,    0.500000 ], refinement level:0, dK=[1. 1. 1.]  \n",
      " K-point 172 : coord in rec.lattice = [   0.764444  ,   0.117778 ,    0.500000 ], refinement level:0, dK=[1. 1. 1.]  \n",
      " K-point 173 : coord in rec.lattice = [   0.768889  ,   0.115556 ,    0.500000 ], refinement level:0, dK=[1. 1. 1.]  \n",
      " K-point 174 : coord in rec.lattice = [   0.773333  ,   0.113333 ,    0.500000 ], refinement level:0, dK=[1. 1. 1.]  \n",
      " K-point 175 : coord in rec.lattice = [   0.777778  ,   0.111111 ,    0.500000 ], refinement level:0, dK=[1. 1. 1.]  \n",
      " K-point 176 : coord in rec.lattice = [   0.782222  ,   0.108889 ,    0.500000 ], refinement level:0, dK=[1. 1. 1.]  \n",
      " K-point 177 : coord in rec.lattice = [   0.786667  ,   0.106667 ,    0.500000 ], refinement level:0, dK=[1. 1. 1.]  \n",
      " K-point 178 : coord in rec.lattice = [   0.791111  ,   0.104444 ,    0.500000 ], refinement level:0, dK=[1. 1. 1.]  \n",
      " K-point 179 : coord in rec.lattice = [   0.795556  ,   0.102222 ,    0.500000 ], refinement level:0, dK=[1. 1. 1.]  \n",
      " K-point 180 : coord in rec.lattice = [   0.800000  ,   0.100000 ,    0.500000 ], refinement level:0, dK=[1. 1. 1.]  \n",
      " K-point 181 : coord in rec.lattice = [   0.804444  ,   0.097778 ,    0.500000 ], refinement level:0, dK=[1. 1. 1.]  \n",
      " K-point 182 : coord in rec.lattice = [   0.808889  ,   0.095556 ,    0.500000 ], refinement level:0, dK=[1. 1. 1.]  \n",
      " K-point 183 : coord in rec.lattice = [   0.813333  ,   0.093333 ,    0.500000 ], refinement level:0, dK=[1. 1. 1.]  \n",
      " K-point 184 : coord in rec.lattice = [   0.817778  ,   0.091111 ,    0.500000 ], refinement level:0, dK=[1. 1. 1.]  \n",
      " K-point 185 : coord in rec.lattice = [   0.822222  ,   0.088889 ,    0.500000 ], refinement level:0, dK=[1. 1. 1.]  \n",
      " K-point 186 : coord in rec.lattice = [   0.826667  ,   0.086667 ,    0.500000 ], refinement level:0, dK=[1. 1. 1.]  \n",
      " K-point 187 : coord in rec.lattice = [   0.831111  ,   0.084444 ,    0.500000 ], refinement level:0, dK=[1. 1. 1.]  \n",
      " K-point 188 : coord in rec.lattice = [   0.835556  ,   0.082222 ,    0.500000 ], refinement level:0, dK=[1. 1. 1.]  \n",
      " K-point 189 : coord in rec.lattice = [   0.840000  ,   0.080000 ,    0.500000 ], refinement level:0, dK=[1. 1. 1.]  \n",
      " K-point 190 : coord in rec.lattice = [   0.844444  ,   0.077778 ,    0.500000 ], refinement level:0, dK=[1. 1. 1.]  \n",
      " K-point 191 : coord in rec.lattice = [   0.848889  ,   0.075556 ,    0.500000 ], refinement level:0, dK=[1. 1. 1.]  \n",
      " K-point 192 : coord in rec.lattice = [   0.853333  ,   0.073333 ,    0.500000 ], refinement level:0, dK=[1. 1. 1.]  \n",
      " K-point 193 : coord in rec.lattice = [   0.857778  ,   0.071111 ,    0.500000 ], refinement level:0, dK=[1. 1. 1.]  \n",
      " K-point 194 : coord in rec.lattice = [   0.862222  ,   0.068889 ,    0.500000 ], refinement level:0, dK=[1. 1. 1.]  \n",
      " K-point 195 : coord in rec.lattice = [   0.866667  ,   0.066667 ,    0.500000 ], refinement level:0, dK=[1. 1. 1.]  \n",
      " K-point 196 : coord in rec.lattice = [   0.871111  ,   0.064444 ,    0.500000 ], refinement level:0, dK=[1. 1. 1.]  \n",
      " K-point 197 : coord in rec.lattice = [   0.875556  ,   0.062222 ,    0.500000 ], refinement level:0, dK=[1. 1. 1.]  \n",
      " K-point 198 : coord in rec.lattice = [   0.880000  ,   0.060000 ,    0.500000 ], refinement level:0, dK=[1. 1. 1.]  \n",
      " K-point 199 : coord in rec.lattice = [   0.884444  ,   0.057778 ,    0.500000 ], refinement level:0, dK=[1. 1. 1.]  \n",
      " K-point 200 : coord in rec.lattice = [   0.888889  ,   0.055556 ,    0.500000 ], refinement level:0, dK=[1. 1. 1.]  \n",
      " K-point 201 : coord in rec.lattice = [   0.893333  ,   0.053333 ,    0.500000 ], refinement level:0, dK=[1. 1. 1.]  \n",
      " K-point 202 : coord in rec.lattice = [   0.897778  ,   0.051111 ,    0.500000 ], refinement level:0, dK=[1. 1. 1.]  \n",
      " K-point 203 : coord in rec.lattice = [   0.902222  ,   0.048889 ,    0.500000 ], refinement level:0, dK=[1. 1. 1.]  \n",
      " K-point 204 : coord in rec.lattice = [   0.906667  ,   0.046667 ,    0.500000 ], refinement level:0, dK=[1. 1. 1.]  \n",
      " K-point 205 : coord in rec.lattice = [   0.911111  ,   0.044444 ,    0.500000 ], refinement level:0, dK=[1. 1. 1.]  \n",
      " K-point 206 : coord in rec.lattice = [   0.915556  ,   0.042222 ,    0.500000 ], refinement level:0, dK=[1. 1. 1.]  \n",
      " K-point 207 : coord in rec.lattice = [   0.920000  ,   0.040000 ,    0.500000 ], refinement level:0, dK=[1. 1. 1.]  \n",
      " K-point 208 : coord in rec.lattice = [   0.924444  ,   0.037778 ,    0.500000 ], refinement level:0, dK=[1. 1. 1.]  \n",
      " K-point 209 : coord in rec.lattice = [   0.928889  ,   0.035556 ,    0.500000 ], refinement level:0, dK=[1. 1. 1.]  \n",
      " K-point 210 : coord in rec.lattice = [   0.933333  ,   0.033333 ,    0.500000 ], refinement level:0, dK=[1. 1. 1.]  \n",
      " K-point 211 : coord in rec.lattice = [   0.937778  ,   0.031111 ,    0.500000 ], refinement level:0, dK=[1. 1. 1.]  \n",
      " K-point 212 : coord in rec.lattice = [   0.942222  ,   0.028889 ,    0.500000 ], refinement level:0, dK=[1. 1. 1.]  \n",
      " K-point 213 : coord in rec.lattice = [   0.946667  ,   0.026667 ,    0.500000 ], refinement level:0, dK=[1. 1. 1.]  \n",
      " K-point 214 : coord in rec.lattice = [   0.951111  ,   0.024444 ,    0.500000 ], refinement level:0, dK=[1. 1. 1.]  \n",
      " K-point 215 : coord in rec.lattice = [   0.955556  ,   0.022222 ,    0.500000 ], refinement level:0, dK=[1. 1. 1.]  \n",
      " K-point 216 : coord in rec.lattice = [   0.960000  ,   0.020000 ,    0.500000 ], refinement level:0, dK=[1. 1. 1.]  \n",
      " K-point 217 : coord in rec.lattice = [   0.964444  ,   0.017778 ,    0.500000 ], refinement level:0, dK=[1. 1. 1.]  \n",
      " K-point 218 : coord in rec.lattice = [   0.968889  ,   0.015556 ,    0.500000 ], refinement level:0, dK=[1. 1. 1.]  \n",
      " K-point 219 : coord in rec.lattice = [   0.973333  ,   0.013333 ,    0.500000 ], refinement level:0, dK=[1. 1. 1.]  \n",
      " K-point 220 : coord in rec.lattice = [   0.977778  ,   0.011111 ,    0.500000 ], refinement level:0, dK=[1. 1. 1.]  \n",
      " K-point 221 : coord in rec.lattice = [   0.982222  ,   0.008889 ,    0.500000 ], refinement level:0, dK=[1. 1. 1.]  \n",
      " K-point 222 : coord in rec.lattice = [   0.986667  ,   0.006667 ,    0.500000 ], refinement level:0, dK=[1. 1. 1.]  \n",
      " K-point 223 : coord in rec.lattice = [   0.991111  ,   0.004444 ,    0.500000 ], refinement level:0, dK=[1. 1. 1.]  \n",
      " K-point 224 : coord in rec.lattice = [   0.995556  ,   0.002222 ,    0.500000 ], refinement level:0, dK=[1. 1. 1.]  \n",
      " K-point 225 : coord in rec.lattice = [   0.500000  ,   0.000000 ,    0.500000 ], refinement level:0, dK=[1. 1. 1.]  \n",
      " K-point 226 : coord in rec.lattice = [   0.497778  ,   0.004444 ,    0.500000 ], refinement level:0, dK=[1. 1. 1.]  \n",
      " K-point 227 : coord in rec.lattice = [   0.495556  ,   0.008889 ,    0.500000 ], refinement level:0, dK=[1. 1. 1.]  \n",
      " K-point 228 : coord in rec.lattice = [   0.493333  ,   0.013333 ,    0.500000 ], refinement level:0, dK=[1. 1. 1.]  \n",
      " K-point 229 : coord in rec.lattice = [   0.491111  ,   0.017778 ,    0.500000 ], refinement level:0, dK=[1. 1. 1.]  \n",
      " K-point 230 : coord in rec.lattice = [   0.488889  ,   0.022222 ,    0.500000 ], refinement level:0, dK=[1. 1. 1.]  \n",
      " K-point 231 : coord in rec.lattice = [   0.486667  ,   0.026667 ,    0.500000 ], refinement level:0, dK=[1. 1. 1.]  \n",
      " K-point 232 : coord in rec.lattice = [   0.484444  ,   0.031111 ,    0.500000 ], refinement level:0, dK=[1. 1. 1.]  \n",
      " K-point 233 : coord in rec.lattice = [   0.482222  ,   0.035556 ,    0.500000 ], refinement level:0, dK=[1. 1. 1.]  \n",
      " K-point 234 : coord in rec.lattice = [   0.480000  ,   0.040000 ,    0.500000 ], refinement level:0, dK=[1. 1. 1.]  \n",
      " K-point 235 : coord in rec.lattice = [   0.477778  ,   0.044444 ,    0.500000 ], refinement level:0, dK=[1. 1. 1.]  \n",
      " K-point 236 : coord in rec.lattice = [   0.475556  ,   0.048889 ,    0.500000 ], refinement level:0, dK=[1. 1. 1.]  \n",
      " K-point 237 : coord in rec.lattice = [   0.473333  ,   0.053333 ,    0.500000 ], refinement level:0, dK=[1. 1. 1.]  \n",
      " K-point 238 : coord in rec.lattice = [   0.471111  ,   0.057778 ,    0.500000 ], refinement level:0, dK=[1. 1. 1.]  \n",
      " K-point 239 : coord in rec.lattice = [   0.468889  ,   0.062222 ,    0.500000 ], refinement level:0, dK=[1. 1. 1.]  \n",
      " K-point 240 : coord in rec.lattice = [   0.466667  ,   0.066667 ,    0.500000 ], refinement level:0, dK=[1. 1. 1.]  \n",
      " K-point 241 : coord in rec.lattice = [   0.464444  ,   0.071111 ,    0.500000 ], refinement level:0, dK=[1. 1. 1.]  \n",
      " K-point 242 : coord in rec.lattice = [   0.462222  ,   0.075556 ,    0.500000 ], refinement level:0, dK=[1. 1. 1.]  \n",
      " K-point 243 : coord in rec.lattice = [   0.460000  ,   0.080000 ,    0.500000 ], refinement level:0, dK=[1. 1. 1.]  \n",
      " K-point 244 : coord in rec.lattice = [   0.457778  ,   0.084444 ,    0.500000 ], refinement level:0, dK=[1. 1. 1.]  \n",
      " K-point 245 : coord in rec.lattice = [   0.455556  ,   0.088889 ,    0.500000 ], refinement level:0, dK=[1. 1. 1.]  \n",
      " K-point 246 : coord in rec.lattice = [   0.453333  ,   0.093333 ,    0.500000 ], refinement level:0, dK=[1. 1. 1.]  \n",
      " K-point 247 : coord in rec.lattice = [   0.451111  ,   0.097778 ,    0.500000 ], refinement level:0, dK=[1. 1. 1.]  \n",
      " K-point 248 : coord in rec.lattice = [   0.448889  ,   0.102222 ,    0.500000 ], refinement level:0, dK=[1. 1. 1.]  \n",
      " K-point 249 : coord in rec.lattice = [   0.446667  ,   0.106667 ,    0.500000 ], refinement level:0, dK=[1. 1. 1.]  \n",
      " K-point 250 : coord in rec.lattice = [   0.444444  ,   0.111111 ,    0.500000 ], refinement level:0, dK=[1. 1. 1.]  \n",
      " K-point 251 : coord in rec.lattice = [   0.442222  ,   0.115556 ,    0.500000 ], refinement level:0, dK=[1. 1. 1.]  \n",
      " K-point 252 : coord in rec.lattice = [   0.440000  ,   0.120000 ,    0.500000 ], refinement level:0, dK=[1. 1. 1.]  \n",
      " K-point 253 : coord in rec.lattice = [   0.437778  ,   0.124444 ,    0.500000 ], refinement level:0, dK=[1. 1. 1.]  \n",
      " K-point 254 : coord in rec.lattice = [   0.435556  ,   0.128889 ,    0.500000 ], refinement level:0, dK=[1. 1. 1.]  \n",
      " K-point 255 : coord in rec.lattice = [   0.433333  ,   0.133333 ,    0.500000 ], refinement level:0, dK=[1. 1. 1.]  \n",
      " K-point 256 : coord in rec.lattice = [   0.431111  ,   0.137778 ,    0.500000 ], refinement level:0, dK=[1. 1. 1.]  \n",
      " K-point 257 : coord in rec.lattice = [   0.428889  ,   0.142222 ,    0.500000 ], refinement level:0, dK=[1. 1. 1.]  \n",
      " K-point 258 : coord in rec.lattice = [   0.426667  ,   0.146667 ,    0.500000 ], refinement level:0, dK=[1. 1. 1.]  \n",
      " K-point 259 : coord in rec.lattice = [   0.424444  ,   0.151111 ,    0.500000 ], refinement level:0, dK=[1. 1. 1.]  \n",
      " K-point 260 : coord in rec.lattice = [   0.422222  ,   0.155556 ,    0.500000 ], refinement level:0, dK=[1. 1. 1.]  \n",
      " K-point 261 : coord in rec.lattice = [   0.420000  ,   0.160000 ,    0.500000 ], refinement level:0, dK=[1. 1. 1.]  \n",
      " K-point 262 : coord in rec.lattice = [   0.417778  ,   0.164444 ,    0.500000 ], refinement level:0, dK=[1. 1. 1.]  \n",
      " K-point 263 : coord in rec.lattice = [   0.415556  ,   0.168889 ,    0.500000 ], refinement level:0, dK=[1. 1. 1.]  \n",
      " K-point 264 : coord in rec.lattice = [   0.413333  ,   0.173333 ,    0.500000 ], refinement level:0, dK=[1. 1. 1.]  \n",
      " K-point 265 : coord in rec.lattice = [   0.411111  ,   0.177778 ,    0.500000 ], refinement level:0, dK=[1. 1. 1.]  \n",
      " K-point 266 : coord in rec.lattice = [   0.408889  ,   0.182222 ,    0.500000 ], refinement level:0, dK=[1. 1. 1.]  \n",
      " K-point 267 : coord in rec.lattice = [   0.406667  ,   0.186667 ,    0.500000 ], refinement level:0, dK=[1. 1. 1.]  \n",
      " K-point 268 : coord in rec.lattice = [   0.404444  ,   0.191111 ,    0.500000 ], refinement level:0, dK=[1. 1. 1.]  \n",
      " K-point 269 : coord in rec.lattice = [   0.402222  ,   0.195556 ,    0.500000 ], refinement level:0, dK=[1. 1. 1.]  \n",
      " K-point 270 : coord in rec.lattice = [   0.400000  ,   0.200000 ,    0.500000 ], refinement level:0, dK=[1. 1. 1.]  \n",
      " K-point 271 : coord in rec.lattice = [   0.397778  ,   0.204444 ,    0.500000 ], refinement level:0, dK=[1. 1. 1.]  \n",
      " K-point 272 : coord in rec.lattice = [   0.395556  ,   0.208889 ,    0.500000 ], refinement level:0, dK=[1. 1. 1.]  \n",
      " K-point 273 : coord in rec.lattice = [   0.393333  ,   0.213333 ,    0.500000 ], refinement level:0, dK=[1. 1. 1.]  \n",
      " K-point 274 : coord in rec.lattice = [   0.391111  ,   0.217778 ,    0.500000 ], refinement level:0, dK=[1. 1. 1.]  \n",
      " K-point 275 : coord in rec.lattice = [   0.388889  ,   0.222222 ,    0.500000 ], refinement level:0, dK=[1. 1. 1.]  \n",
      " K-point 276 : coord in rec.lattice = [   0.386667  ,   0.226667 ,    0.500000 ], refinement level:0, dK=[1. 1. 1.]  \n",
      " K-point 277 : coord in rec.lattice = [   0.384444  ,   0.231111 ,    0.500000 ], refinement level:0, dK=[1. 1. 1.]  \n",
      " K-point 278 : coord in rec.lattice = [   0.382222  ,   0.235556 ,    0.500000 ], refinement level:0, dK=[1. 1. 1.]  \n",
      " K-point 279 : coord in rec.lattice = [   0.380000  ,   0.240000 ,    0.500000 ], refinement level:0, dK=[1. 1. 1.]  \n",
      " K-point 280 : coord in rec.lattice = [   0.377778  ,   0.244444 ,    0.500000 ], refinement level:0, dK=[1. 1. 1.]  \n",
      " K-point 281 : coord in rec.lattice = [   0.375556  ,   0.248889 ,    0.500000 ], refinement level:0, dK=[1. 1. 1.]  \n",
      " K-point 282 : coord in rec.lattice = [   0.373333  ,   0.253333 ,    0.500000 ], refinement level:0, dK=[1. 1. 1.]  \n",
      " K-point 283 : coord in rec.lattice = [   0.371111  ,   0.257778 ,    0.500000 ], refinement level:0, dK=[1. 1. 1.]  \n",
      " K-point 284 : coord in rec.lattice = [   0.368889  ,   0.262222 ,    0.500000 ], refinement level:0, dK=[1. 1. 1.]  \n",
      " K-point 285 : coord in rec.lattice = [   0.366667  ,   0.266667 ,    0.500000 ], refinement level:0, dK=[1. 1. 1.]  \n",
      " K-point 286 : coord in rec.lattice = [   0.364444  ,   0.271111 ,    0.500000 ], refinement level:0, dK=[1. 1. 1.]  \n",
      " K-point 287 : coord in rec.lattice = [   0.362222  ,   0.275556 ,    0.500000 ], refinement level:0, dK=[1. 1. 1.]  \n",
      " K-point 288 : coord in rec.lattice = [   0.360000  ,   0.280000 ,    0.500000 ], refinement level:0, dK=[1. 1. 1.]  \n",
      " K-point 289 : coord in rec.lattice = [   0.357778  ,   0.284444 ,    0.500000 ], refinement level:0, dK=[1. 1. 1.]  \n",
      " K-point 290 : coord in rec.lattice = [   0.355556  ,   0.288889 ,    0.500000 ], refinement level:0, dK=[1. 1. 1.]  \n",
      " K-point 291 : coord in rec.lattice = [   0.353333  ,   0.293333 ,    0.500000 ], refinement level:0, dK=[1. 1. 1.]  \n",
      " K-point 292 : coord in rec.lattice = [   0.351111  ,   0.297778 ,    0.500000 ], refinement level:0, dK=[1. 1. 1.]  \n",
      " K-point 293 : coord in rec.lattice = [   0.348889  ,   0.302222 ,    0.500000 ], refinement level:0, dK=[1. 1. 1.]  \n",
      " K-point 294 : coord in rec.lattice = [   0.346667  ,   0.306667 ,    0.500000 ], refinement level:0, dK=[1. 1. 1.]  \n",
      " K-point 295 : coord in rec.lattice = [   0.344444  ,   0.311111 ,    0.500000 ], refinement level:0, dK=[1. 1. 1.]  \n",
      " K-point 296 : coord in rec.lattice = [   0.342222  ,   0.315556 ,    0.500000 ], refinement level:0, dK=[1. 1. 1.]  \n",
      " K-point 297 : coord in rec.lattice = [   0.340000  ,   0.320000 ,    0.500000 ], refinement level:0, dK=[1. 1. 1.]  \n",
      " K-point 298 : coord in rec.lattice = [   0.337778  ,   0.324444 ,    0.500000 ], refinement level:0, dK=[1. 1. 1.]  \n",
      " K-point 299 : coord in rec.lattice = [   0.335556  ,   0.328889 ,    0.500000 ], refinement level:0, dK=[1. 1. 1.]  \n",
      " K-point 300 : coord in rec.lattice = [   0.333333  ,   0.333333 ,    0.500000 ], refinement level:0, dK=[1. 1. 1.]  \n",
      " K-point 301 : coord in rec.lattice = [   0.331111  ,   0.337778 ,    0.500000 ], refinement level:0, dK=[1. 1. 1.]  \n",
      " K-point 302 : coord in rec.lattice = [   0.328889  ,   0.342222 ,    0.500000 ], refinement level:0, dK=[1. 1. 1.]  \n",
      " K-point 303 : coord in rec.lattice = [   0.326667  ,   0.346667 ,    0.500000 ], refinement level:0, dK=[1. 1. 1.]  \n",
      " K-point 304 : coord in rec.lattice = [   0.324444  ,   0.351111 ,    0.500000 ], refinement level:0, dK=[1. 1. 1.]  \n",
      " K-point 305 : coord in rec.lattice = [   0.322222  ,   0.355556 ,    0.500000 ], refinement level:0, dK=[1. 1. 1.]  \n",
      " K-point 306 : coord in rec.lattice = [   0.320000  ,   0.360000 ,    0.500000 ], refinement level:0, dK=[1. 1. 1.]  \n",
      " K-point 307 : coord in rec.lattice = [   0.317778  ,   0.364444 ,    0.500000 ], refinement level:0, dK=[1. 1. 1.]  \n",
      " K-point 308 : coord in rec.lattice = [   0.315556  ,   0.368889 ,    0.500000 ], refinement level:0, dK=[1. 1. 1.]  \n",
      " K-point 309 : coord in rec.lattice = [   0.313333  ,   0.373333 ,    0.500000 ], refinement level:0, dK=[1. 1. 1.]  \n",
      " K-point 310 : coord in rec.lattice = [   0.311111  ,   0.377778 ,    0.500000 ], refinement level:0, dK=[1. 1. 1.]  \n",
      " K-point 311 : coord in rec.lattice = [   0.308889  ,   0.382222 ,    0.500000 ], refinement level:0, dK=[1. 1. 1.]  \n",
      " K-point 312 : coord in rec.lattice = [   0.306667  ,   0.386667 ,    0.500000 ], refinement level:0, dK=[1. 1. 1.]  \n",
      " K-point 313 : coord in rec.lattice = [   0.304444  ,   0.391111 ,    0.500000 ], refinement level:0, dK=[1. 1. 1.]  \n",
      " K-point 314 : coord in rec.lattice = [   0.302222  ,   0.395556 ,    0.500000 ], refinement level:0, dK=[1. 1. 1.]  \n",
      " K-point 315 : coord in rec.lattice = [   0.300000  ,   0.400000 ,    0.500000 ], refinement level:0, dK=[1. 1. 1.]  \n",
      " K-point 316 : coord in rec.lattice = [   0.297778  ,   0.404444 ,    0.500000 ], refinement level:0, dK=[1. 1. 1.]  \n",
      " K-point 317 : coord in rec.lattice = [   0.295556  ,   0.408889 ,    0.500000 ], refinement level:0, dK=[1. 1. 1.]  \n",
      " K-point 318 : coord in rec.lattice = [   0.293333  ,   0.413333 ,    0.500000 ], refinement level:0, dK=[1. 1. 1.]  \n",
      " K-point 319 : coord in rec.lattice = [   0.291111  ,   0.417778 ,    0.500000 ], refinement level:0, dK=[1. 1. 1.]  \n",
      " K-point 320 : coord in rec.lattice = [   0.288889  ,   0.422222 ,    0.500000 ], refinement level:0, dK=[1. 1. 1.]  \n",
      " K-point 321 : coord in rec.lattice = [   0.286667  ,   0.426667 ,    0.500000 ], refinement level:0, dK=[1. 1. 1.]  \n",
      " K-point 322 : coord in rec.lattice = [   0.284444  ,   0.431111 ,    0.500000 ], refinement level:0, dK=[1. 1. 1.]  \n",
      " K-point 323 : coord in rec.lattice = [   0.282222  ,   0.435556 ,    0.500000 ], refinement level:0, dK=[1. 1. 1.]  \n",
      " K-point 324 : coord in rec.lattice = [   0.280000  ,   0.440000 ,    0.500000 ], refinement level:0, dK=[1. 1. 1.]  \n",
      " K-point 325 : coord in rec.lattice = [   0.277778  ,   0.444444 ,    0.500000 ], refinement level:0, dK=[1. 1. 1.]  \n",
      " K-point 326 : coord in rec.lattice = [   0.275556  ,   0.448889 ,    0.500000 ], refinement level:0, dK=[1. 1. 1.]  \n",
      " K-point 327 : coord in rec.lattice = [   0.273333  ,   0.453333 ,    0.500000 ], refinement level:0, dK=[1. 1. 1.]  \n",
      " K-point 328 : coord in rec.lattice = [   0.271111  ,   0.457778 ,    0.500000 ], refinement level:0, dK=[1. 1. 1.]  \n",
      " K-point 329 : coord in rec.lattice = [   0.268889  ,   0.462222 ,    0.500000 ], refinement level:0, dK=[1. 1. 1.]  \n",
      " K-point 330 : coord in rec.lattice = [   0.266667  ,   0.466667 ,    0.500000 ], refinement level:0, dK=[1. 1. 1.]  \n",
      " K-point 331 : coord in rec.lattice = [   0.264444  ,   0.471111 ,    0.500000 ], refinement level:0, dK=[1. 1. 1.]  \n",
      " K-point 332 : coord in rec.lattice = [   0.262222  ,   0.475556 ,    0.500000 ], refinement level:0, dK=[1. 1. 1.]  \n",
      " K-point 333 : coord in rec.lattice = [   0.260000  ,   0.480000 ,    0.500000 ], refinement level:0, dK=[1. 1. 1.]  \n",
      " K-point 334 : coord in rec.lattice = [   0.257778  ,   0.484444 ,    0.500000 ], refinement level:0, dK=[1. 1. 1.]  \n",
      " K-point 335 : coord in rec.lattice = [   0.255556  ,   0.488889 ,    0.500000 ], refinement level:0, dK=[1. 1. 1.]  \n",
      " K-point 336 : coord in rec.lattice = [   0.253333  ,   0.493333 ,    0.500000 ], refinement level:0, dK=[1. 1. 1.]  \n",
      " K-point 337 : coord in rec.lattice = [   0.251111  ,   0.497778 ,    0.500000 ], refinement level:0, dK=[1. 1. 1.]  \n",
      " K-point 338 : coord in rec.lattice = [   0.248889  ,   0.502222 ,    0.500000 ], refinement level:0, dK=[1. 1. 1.]  \n",
      " K-point 339 : coord in rec.lattice = [   0.246667  ,   0.506667 ,    0.500000 ], refinement level:0, dK=[1. 1. 1.]  \n",
      " K-point 340 : coord in rec.lattice = [   0.244444  ,   0.511111 ,    0.500000 ], refinement level:0, dK=[1. 1. 1.]  \n",
      " K-point 341 : coord in rec.lattice = [   0.242222  ,   0.515556 ,    0.500000 ], refinement level:0, dK=[1. 1. 1.]  \n",
      " K-point 342 : coord in rec.lattice = [   0.240000  ,   0.520000 ,    0.500000 ], refinement level:0, dK=[1. 1. 1.]  \n",
      " K-point 343 : coord in rec.lattice = [   0.237778  ,   0.524444 ,    0.500000 ], refinement level:0, dK=[1. 1. 1.]  \n",
      " K-point 344 : coord in rec.lattice = [   0.235556  ,   0.528889 ,    0.500000 ], refinement level:0, dK=[1. 1. 1.]  \n",
      " K-point 345 : coord in rec.lattice = [   0.233333  ,   0.533333 ,    0.500000 ], refinement level:0, dK=[1. 1. 1.]  \n",
      " K-point 346 : coord in rec.lattice = [   0.231111  ,   0.537778 ,    0.500000 ], refinement level:0, dK=[1. 1. 1.]  \n",
      " K-point 347 : coord in rec.lattice = [   0.228889  ,   0.542222 ,    0.500000 ], refinement level:0, dK=[1. 1. 1.]  \n",
      " K-point 348 : coord in rec.lattice = [   0.226667  ,   0.546667 ,    0.500000 ], refinement level:0, dK=[1. 1. 1.]  \n",
      " K-point 349 : coord in rec.lattice = [   0.224444  ,   0.551111 ,    0.500000 ], refinement level:0, dK=[1. 1. 1.]  \n",
      " K-point 350 : coord in rec.lattice = [   0.222222  ,   0.555556 ,    0.500000 ], refinement level:0, dK=[1. 1. 1.]  \n",
      " K-point 351 : coord in rec.lattice = [   0.220000  ,   0.560000 ,    0.500000 ], refinement level:0, dK=[1. 1. 1.]  \n",
      " K-point 352 : coord in rec.lattice = [   0.217778  ,   0.564444 ,    0.500000 ], refinement level:0, dK=[1. 1. 1.]  \n",
      " K-point 353 : coord in rec.lattice = [   0.215556  ,   0.568889 ,    0.500000 ], refinement level:0, dK=[1. 1. 1.]  \n",
      " K-point 354 : coord in rec.lattice = [   0.213333  ,   0.573333 ,    0.500000 ], refinement level:0, dK=[1. 1. 1.]  \n",
      " K-point 355 : coord in rec.lattice = [   0.211111  ,   0.577778 ,    0.500000 ], refinement level:0, dK=[1. 1. 1.]  \n",
      " K-point 356 : coord in rec.lattice = [   0.208889  ,   0.582222 ,    0.500000 ], refinement level:0, dK=[1. 1. 1.]  \n",
      " K-point 357 : coord in rec.lattice = [   0.206667  ,   0.586667 ,    0.500000 ], refinement level:0, dK=[1. 1. 1.]  \n",
      " K-point 358 : coord in rec.lattice = [   0.204444  ,   0.591111 ,    0.500000 ], refinement level:0, dK=[1. 1. 1.]  \n",
      " K-point 359 : coord in rec.lattice = [   0.202222  ,   0.595556 ,    0.500000 ], refinement level:0, dK=[1. 1. 1.]  \n",
      " K-point 360 : coord in rec.lattice = [   0.200000  ,   0.600000 ,    0.500000 ], refinement level:0, dK=[1. 1. 1.]  \n",
      " K-point 361 : coord in rec.lattice = [   0.197778  ,   0.604444 ,    0.500000 ], refinement level:0, dK=[1. 1. 1.]  \n",
      " K-point 362 : coord in rec.lattice = [   0.195556  ,   0.608889 ,    0.500000 ], refinement level:0, dK=[1. 1. 1.]  \n",
      " K-point 363 : coord in rec.lattice = [   0.193333  ,   0.613333 ,    0.500000 ], refinement level:0, dK=[1. 1. 1.]  \n",
      " K-point 364 : coord in rec.lattice = [   0.191111  ,   0.617778 ,    0.500000 ], refinement level:0, dK=[1. 1. 1.]  \n",
      " K-point 365 : coord in rec.lattice = [   0.188889  ,   0.622222 ,    0.500000 ], refinement level:0, dK=[1. 1. 1.]  \n",
      " K-point 366 : coord in rec.lattice = [   0.186667  ,   0.626667 ,    0.500000 ], refinement level:0, dK=[1. 1. 1.]  \n",
      " K-point 367 : coord in rec.lattice = [   0.184444  ,   0.631111 ,    0.500000 ], refinement level:0, dK=[1. 1. 1.]  \n",
      " K-point 368 : coord in rec.lattice = [   0.182222  ,   0.635556 ,    0.500000 ], refinement level:0, dK=[1. 1. 1.]  \n",
      " K-point 369 : coord in rec.lattice = [   0.180000  ,   0.640000 ,    0.500000 ], refinement level:0, dK=[1. 1. 1.]  \n",
      " K-point 370 : coord in rec.lattice = [   0.177778  ,   0.644444 ,    0.500000 ], refinement level:0, dK=[1. 1. 1.]  \n",
      " K-point 371 : coord in rec.lattice = [   0.175556  ,   0.648889 ,    0.500000 ], refinement level:0, dK=[1. 1. 1.]  \n",
      " K-point 372 : coord in rec.lattice = [   0.173333  ,   0.653333 ,    0.500000 ], refinement level:0, dK=[1. 1. 1.]  \n",
      " K-point 373 : coord in rec.lattice = [   0.171111  ,   0.657778 ,    0.500000 ], refinement level:0, dK=[1. 1. 1.]  \n",
      " K-point 374 : coord in rec.lattice = [   0.168889  ,   0.662222 ,    0.500000 ], refinement level:0, dK=[1. 1. 1.]  \n",
      " K-point 375 : coord in rec.lattice = [   0.166667  ,   0.666667 ,    0.500000 ], refinement level:0, dK=[1. 1. 1.]  \n",
      " K-point 376 : coord in rec.lattice = [   0.164444  ,   0.671111 ,    0.500000 ], refinement level:0, dK=[1. 1. 1.]  \n",
      " K-point 377 : coord in rec.lattice = [   0.162222  ,   0.675556 ,    0.500000 ], refinement level:0, dK=[1. 1. 1.]  \n",
      " K-point 378 : coord in rec.lattice = [   0.160000  ,   0.680000 ,    0.500000 ], refinement level:0, dK=[1. 1. 1.]  \n",
      " K-point 379 : coord in rec.lattice = [   0.157778  ,   0.684444 ,    0.500000 ], refinement level:0, dK=[1. 1. 1.]  \n",
      " K-point 380 : coord in rec.lattice = [   0.155556  ,   0.688889 ,    0.500000 ], refinement level:0, dK=[1. 1. 1.]  \n",
      " K-point 381 : coord in rec.lattice = [   0.153333  ,   0.693333 ,    0.500000 ], refinement level:0, dK=[1. 1. 1.]  \n",
      " K-point 382 : coord in rec.lattice = [   0.151111  ,   0.697778 ,    0.500000 ], refinement level:0, dK=[1. 1. 1.]  \n",
      " K-point 383 : coord in rec.lattice = [   0.148889  ,   0.702222 ,    0.500000 ], refinement level:0, dK=[1. 1. 1.]  \n",
      " K-point 384 : coord in rec.lattice = [   0.146667  ,   0.706667 ,    0.500000 ], refinement level:0, dK=[1. 1. 1.]  \n",
      " K-point 385 : coord in rec.lattice = [   0.144444  ,   0.711111 ,    0.500000 ], refinement level:0, dK=[1. 1. 1.]  \n",
      " K-point 386 : coord in rec.lattice = [   0.142222  ,   0.715556 ,    0.500000 ], refinement level:0, dK=[1. 1. 1.]  \n",
      " K-point 387 : coord in rec.lattice = [   0.140000  ,   0.720000 ,    0.500000 ], refinement level:0, dK=[1. 1. 1.]  \n",
      " K-point 388 : coord in rec.lattice = [   0.137778  ,   0.724444 ,    0.500000 ], refinement level:0, dK=[1. 1. 1.]  \n",
      " K-point 389 : coord in rec.lattice = [   0.135556  ,   0.728889 ,    0.500000 ], refinement level:0, dK=[1. 1. 1.]  \n",
      " K-point 390 : coord in rec.lattice = [   0.133333  ,   0.733333 ,    0.500000 ], refinement level:0, dK=[1. 1. 1.]  \n",
      " K-point 391 : coord in rec.lattice = [   0.131111  ,   0.737778 ,    0.500000 ], refinement level:0, dK=[1. 1. 1.]  \n",
      " K-point 392 : coord in rec.lattice = [   0.128889  ,   0.742222 ,    0.500000 ], refinement level:0, dK=[1. 1. 1.]  \n",
      " K-point 393 : coord in rec.lattice = [   0.126667  ,   0.746667 ,    0.500000 ], refinement level:0, dK=[1. 1. 1.]  \n",
      " K-point 394 : coord in rec.lattice = [   0.124444  ,   0.751111 ,    0.500000 ], refinement level:0, dK=[1. 1. 1.]  \n",
      " K-point 395 : coord in rec.lattice = [   0.122222  ,   0.755556 ,    0.500000 ], refinement level:0, dK=[1. 1. 1.]  \n",
      " K-point 396 : coord in rec.lattice = [   0.120000  ,   0.760000 ,    0.500000 ], refinement level:0, dK=[1. 1. 1.]  \n",
      " K-point 397 : coord in rec.lattice = [   0.117778  ,   0.764444 ,    0.500000 ], refinement level:0, dK=[1. 1. 1.]  \n",
      " K-point 398 : coord in rec.lattice = [   0.115556  ,   0.768889 ,    0.500000 ], refinement level:0, dK=[1. 1. 1.]  \n",
      " K-point 399 : coord in rec.lattice = [   0.113333  ,   0.773333 ,    0.500000 ], refinement level:0, dK=[1. 1. 1.]  \n",
      " K-point 400 : coord in rec.lattice = [   0.111111  ,   0.777778 ,    0.500000 ], refinement level:0, dK=[1. 1. 1.]  \n",
      " K-point 401 : coord in rec.lattice = [   0.108889  ,   0.782222 ,    0.500000 ], refinement level:0, dK=[1. 1. 1.]  \n",
      " K-point 402 : coord in rec.lattice = [   0.106667  ,   0.786667 ,    0.500000 ], refinement level:0, dK=[1. 1. 1.]  \n",
      " K-point 403 : coord in rec.lattice = [   0.104444  ,   0.791111 ,    0.500000 ], refinement level:0, dK=[1. 1. 1.]  \n",
      " K-point 404 : coord in rec.lattice = [   0.102222  ,   0.795556 ,    0.500000 ], refinement level:0, dK=[1. 1. 1.]  \n",
      " K-point 405 : coord in rec.lattice = [   0.100000  ,   0.800000 ,    0.500000 ], refinement level:0, dK=[1. 1. 1.]  \n",
      " K-point 406 : coord in rec.lattice = [   0.097778  ,   0.804444 ,    0.500000 ], refinement level:0, dK=[1. 1. 1.]  \n",
      " K-point 407 : coord in rec.lattice = [   0.095556  ,   0.808889 ,    0.500000 ], refinement level:0, dK=[1. 1. 1.]  \n",
      " K-point 408 : coord in rec.lattice = [   0.093333  ,   0.813333 ,    0.500000 ], refinement level:0, dK=[1. 1. 1.]  \n",
      " K-point 409 : coord in rec.lattice = [   0.091111  ,   0.817778 ,    0.500000 ], refinement level:0, dK=[1. 1. 1.]  \n",
      " K-point 410 : coord in rec.lattice = [   0.088889  ,   0.822222 ,    0.500000 ], refinement level:0, dK=[1. 1. 1.]  \n",
      " K-point 411 : coord in rec.lattice = [   0.086667  ,   0.826667 ,    0.500000 ], refinement level:0, dK=[1. 1. 1.]  \n",
      " K-point 412 : coord in rec.lattice = [   0.084444  ,   0.831111 ,    0.500000 ], refinement level:0, dK=[1. 1. 1.]  \n",
      " K-point 413 : coord in rec.lattice = [   0.082222  ,   0.835556 ,    0.500000 ], refinement level:0, dK=[1. 1. 1.]  \n",
      " K-point 414 : coord in rec.lattice = [   0.080000  ,   0.840000 ,    0.500000 ], refinement level:0, dK=[1. 1. 1.]  \n",
      " K-point 415 : coord in rec.lattice = [   0.077778  ,   0.844444 ,    0.500000 ], refinement level:0, dK=[1. 1. 1.]  \n",
      " K-point 416 : coord in rec.lattice = [   0.075556  ,   0.848889 ,    0.500000 ], refinement level:0, dK=[1. 1. 1.]  \n",
      " K-point 417 : coord in rec.lattice = [   0.073333  ,   0.853333 ,    0.500000 ], refinement level:0, dK=[1. 1. 1.]  \n",
      " K-point 418 : coord in rec.lattice = [   0.071111  ,   0.857778 ,    0.500000 ], refinement level:0, dK=[1. 1. 1.]  \n",
      " K-point 419 : coord in rec.lattice = [   0.068889  ,   0.862222 ,    0.500000 ], refinement level:0, dK=[1. 1. 1.]  \n",
      " K-point 420 : coord in rec.lattice = [   0.066667  ,   0.866667 ,    0.500000 ], refinement level:0, dK=[1. 1. 1.]  \n",
      " K-point 421 : coord in rec.lattice = [   0.064444  ,   0.871111 ,    0.500000 ], refinement level:0, dK=[1. 1. 1.]  \n",
      " K-point 422 : coord in rec.lattice = [   0.062222  ,   0.875556 ,    0.500000 ], refinement level:0, dK=[1. 1. 1.]  \n",
      " K-point 423 : coord in rec.lattice = [   0.060000  ,   0.880000 ,    0.500000 ], refinement level:0, dK=[1. 1. 1.]  \n",
      " K-point 424 : coord in rec.lattice = [   0.057778  ,   0.884444 ,    0.500000 ], refinement level:0, dK=[1. 1. 1.]  \n",
      " K-point 425 : coord in rec.lattice = [   0.055556  ,   0.888889 ,    0.500000 ], refinement level:0, dK=[1. 1. 1.]  \n",
      " K-point 426 : coord in rec.lattice = [   0.053333  ,   0.893333 ,    0.500000 ], refinement level:0, dK=[1. 1. 1.]  \n",
      " K-point 427 : coord in rec.lattice = [   0.051111  ,   0.897778 ,    0.500000 ], refinement level:0, dK=[1. 1. 1.]  \n",
      " K-point 428 : coord in rec.lattice = [   0.048889  ,   0.902222 ,    0.500000 ], refinement level:0, dK=[1. 1. 1.]  \n",
      " K-point 429 : coord in rec.lattice = [   0.046667  ,   0.906667 ,    0.500000 ], refinement level:0, dK=[1. 1. 1.]  \n",
      " K-point 430 : coord in rec.lattice = [   0.044444  ,   0.911111 ,    0.500000 ], refinement level:0, dK=[1. 1. 1.]  \n",
      " K-point 431 : coord in rec.lattice = [   0.042222  ,   0.915556 ,    0.500000 ], refinement level:0, dK=[1. 1. 1.]  \n",
      " K-point 432 : coord in rec.lattice = [   0.040000  ,   0.920000 ,    0.500000 ], refinement level:0, dK=[1. 1. 1.]  \n",
      " K-point 433 : coord in rec.lattice = [   0.037778  ,   0.924444 ,    0.500000 ], refinement level:0, dK=[1. 1. 1.]  \n",
      " K-point 434 : coord in rec.lattice = [   0.035556  ,   0.928889 ,    0.500000 ], refinement level:0, dK=[1. 1. 1.]  \n",
      " K-point 435 : coord in rec.lattice = [   0.033333  ,   0.933333 ,    0.500000 ], refinement level:0, dK=[1. 1. 1.]  \n",
      " K-point 436 : coord in rec.lattice = [   0.031111  ,   0.937778 ,    0.500000 ], refinement level:0, dK=[1. 1. 1.]  \n",
      " K-point 437 : coord in rec.lattice = [   0.028889  ,   0.942222 ,    0.500000 ], refinement level:0, dK=[1. 1. 1.]  \n",
      " K-point 438 : coord in rec.lattice = [   0.026667  ,   0.946667 ,    0.500000 ], refinement level:0, dK=[1. 1. 1.]  \n",
      " K-point 439 : coord in rec.lattice = [   0.024444  ,   0.951111 ,    0.500000 ], refinement level:0, dK=[1. 1. 1.]  \n",
      " K-point 440 : coord in rec.lattice = [   0.022222  ,   0.955556 ,    0.500000 ], refinement level:0, dK=[1. 1. 1.]  \n",
      " K-point 441 : coord in rec.lattice = [   0.020000  ,   0.960000 ,    0.500000 ], refinement level:0, dK=[1. 1. 1.]  \n",
      " K-point 442 : coord in rec.lattice = [   0.017778  ,   0.964444 ,    0.500000 ], refinement level:0, dK=[1. 1. 1.]  \n",
      " K-point 443 : coord in rec.lattice = [   0.015556  ,   0.968889 ,    0.500000 ], refinement level:0, dK=[1. 1. 1.]  \n",
      " K-point 444 : coord in rec.lattice = [   0.013333  ,   0.973333 ,    0.500000 ], refinement level:0, dK=[1. 1. 1.]  \n",
      " K-point 445 : coord in rec.lattice = [   0.011111  ,   0.977778 ,    0.500000 ], refinement level:0, dK=[1. 1. 1.]  \n",
      " K-point 446 : coord in rec.lattice = [   0.008889  ,   0.982222 ,    0.500000 ], refinement level:0, dK=[1. 1. 1.]  \n",
      " K-point 447 : coord in rec.lattice = [   0.006667  ,   0.986667 ,    0.500000 ], refinement level:0, dK=[1. 1. 1.]  \n",
      " K-point 448 : coord in rec.lattice = [   0.004444  ,   0.991111 ,    0.500000 ], refinement level:0, dK=[1. 1. 1.]  \n",
      " K-point 449 : coord in rec.lattice = [   0.002222  ,   0.995556 ,    0.500000 ], refinement level:0, dK=[1. 1. 1.]  \n",
      " K-point 450 : coord in rec.lattice = [   0.500000  ,   0.500000 ,    0.500000 ], refinement level:0, dK=[1. 1. 1.]  \n",
      " K-point 451 : coord in rec.lattice = [   0.497778  ,   0.497778 ,    0.500000 ], refinement level:0, dK=[1. 1. 1.]  \n",
      " K-point 452 : coord in rec.lattice = [   0.495556  ,   0.495556 ,    0.500000 ], refinement level:0, dK=[1. 1. 1.]  \n",
      " K-point 453 : coord in rec.lattice = [   0.493333  ,   0.493333 ,    0.500000 ], refinement level:0, dK=[1. 1. 1.]  \n",
      " K-point 454 : coord in rec.lattice = [   0.491111  ,   0.491111 ,    0.500000 ], refinement level:0, dK=[1. 1. 1.]  \n",
      " K-point 455 : coord in rec.lattice = [   0.488889  ,   0.488889 ,    0.500000 ], refinement level:0, dK=[1. 1. 1.]  \n",
      " K-point 456 : coord in rec.lattice = [   0.486667  ,   0.486667 ,    0.500000 ], refinement level:0, dK=[1. 1. 1.]  \n",
      " K-point 457 : coord in rec.lattice = [   0.484444  ,   0.484444 ,    0.500000 ], refinement level:0, dK=[1. 1. 1.]  \n",
      " K-point 458 : coord in rec.lattice = [   0.482222  ,   0.482222 ,    0.500000 ], refinement level:0, dK=[1. 1. 1.]  \n",
      " K-point 459 : coord in rec.lattice = [   0.480000  ,   0.480000 ,    0.500000 ], refinement level:0, dK=[1. 1. 1.]  \n",
      " K-point 460 : coord in rec.lattice = [   0.477778  ,   0.477778 ,    0.500000 ], refinement level:0, dK=[1. 1. 1.]  \n",
      " K-point 461 : coord in rec.lattice = [   0.475556  ,   0.475556 ,    0.500000 ], refinement level:0, dK=[1. 1. 1.]  \n",
      " K-point 462 : coord in rec.lattice = [   0.473333  ,   0.473333 ,    0.500000 ], refinement level:0, dK=[1. 1. 1.]  \n",
      " K-point 463 : coord in rec.lattice = [   0.471111  ,   0.471111 ,    0.500000 ], refinement level:0, dK=[1. 1. 1.]  \n",
      " K-point 464 : coord in rec.lattice = [   0.468889  ,   0.468889 ,    0.500000 ], refinement level:0, dK=[1. 1. 1.]  \n",
      " K-point 465 : coord in rec.lattice = [   0.466667  ,   0.466667 ,    0.500000 ], refinement level:0, dK=[1. 1. 1.]  \n",
      " K-point 466 : coord in rec.lattice = [   0.464444  ,   0.464444 ,    0.500000 ], refinement level:0, dK=[1. 1. 1.]  \n",
      " K-point 467 : coord in rec.lattice = [   0.462222  ,   0.462222 ,    0.500000 ], refinement level:0, dK=[1. 1. 1.]  \n",
      " K-point 468 : coord in rec.lattice = [   0.460000  ,   0.460000 ,    0.500000 ], refinement level:0, dK=[1. 1. 1.]  \n",
      " K-point 469 : coord in rec.lattice = [   0.457778  ,   0.457778 ,    0.500000 ], refinement level:0, dK=[1. 1. 1.]  \n",
      " K-point 470 : coord in rec.lattice = [   0.455556  ,   0.455556 ,    0.500000 ], refinement level:0, dK=[1. 1. 1.]  \n",
      " K-point 471 : coord in rec.lattice = [   0.453333  ,   0.453333 ,    0.500000 ], refinement level:0, dK=[1. 1. 1.]  \n",
      " K-point 472 : coord in rec.lattice = [   0.451111  ,   0.451111 ,    0.500000 ], refinement level:0, dK=[1. 1. 1.]  \n",
      " K-point 473 : coord in rec.lattice = [   0.448889  ,   0.448889 ,    0.500000 ], refinement level:0, dK=[1. 1. 1.]  \n",
      " K-point 474 : coord in rec.lattice = [   0.446667  ,   0.446667 ,    0.500000 ], refinement level:0, dK=[1. 1. 1.]  \n",
      " K-point 475 : coord in rec.lattice = [   0.444444  ,   0.444444 ,    0.500000 ], refinement level:0, dK=[1. 1. 1.]  \n",
      " K-point 476 : coord in rec.lattice = [   0.442222  ,   0.442222 ,    0.500000 ], refinement level:0, dK=[1. 1. 1.]  \n",
      " K-point 477 : coord in rec.lattice = [   0.440000  ,   0.440000 ,    0.500000 ], refinement level:0, dK=[1. 1. 1.]  \n",
      " K-point 478 : coord in rec.lattice = [   0.437778  ,   0.437778 ,    0.500000 ], refinement level:0, dK=[1. 1. 1.]  \n",
      " K-point 479 : coord in rec.lattice = [   0.435556  ,   0.435556 ,    0.500000 ], refinement level:0, dK=[1. 1. 1.]  \n",
      " K-point 480 : coord in rec.lattice = [   0.433333  ,   0.433333 ,    0.500000 ], refinement level:0, dK=[1. 1. 1.]  \n",
      " K-point 481 : coord in rec.lattice = [   0.431111  ,   0.431111 ,    0.500000 ], refinement level:0, dK=[1. 1. 1.]  \n",
      " K-point 482 : coord in rec.lattice = [   0.428889  ,   0.428889 ,    0.500000 ], refinement level:0, dK=[1. 1. 1.]  \n",
      " K-point 483 : coord in rec.lattice = [   0.426667  ,   0.426667 ,    0.500000 ], refinement level:0, dK=[1. 1. 1.]  \n",
      " K-point 484 : coord in rec.lattice = [   0.424444  ,   0.424444 ,    0.500000 ], refinement level:0, dK=[1. 1. 1.]  \n",
      " K-point 485 : coord in rec.lattice = [   0.422222  ,   0.422222 ,    0.500000 ], refinement level:0, dK=[1. 1. 1.]  \n",
      " K-point 486 : coord in rec.lattice = [   0.420000  ,   0.420000 ,    0.500000 ], refinement level:0, dK=[1. 1. 1.]  \n",
      " K-point 487 : coord in rec.lattice = [   0.417778  ,   0.417778 ,    0.500000 ], refinement level:0, dK=[1. 1. 1.]  \n",
      " K-point 488 : coord in rec.lattice = [   0.415556  ,   0.415556 ,    0.500000 ], refinement level:0, dK=[1. 1. 1.]  \n",
      " K-point 489 : coord in rec.lattice = [   0.413333  ,   0.413333 ,    0.500000 ], refinement level:0, dK=[1. 1. 1.]  \n",
      " K-point 490 : coord in rec.lattice = [   0.411111  ,   0.411111 ,    0.500000 ], refinement level:0, dK=[1. 1. 1.]  \n",
      " K-point 491 : coord in rec.lattice = [   0.408889  ,   0.408889 ,    0.500000 ], refinement level:0, dK=[1. 1. 1.]  \n",
      " K-point 492 : coord in rec.lattice = [   0.406667  ,   0.406667 ,    0.500000 ], refinement level:0, dK=[1. 1. 1.]  \n",
      " K-point 493 : coord in rec.lattice = [   0.404444  ,   0.404444 ,    0.500000 ], refinement level:0, dK=[1. 1. 1.]  \n",
      " K-point 494 : coord in rec.lattice = [   0.402222  ,   0.402222 ,    0.500000 ], refinement level:0, dK=[1. 1. 1.]  \n",
      " K-point 495 : coord in rec.lattice = [   0.400000  ,   0.400000 ,    0.500000 ], refinement level:0, dK=[1. 1. 1.]  \n",
      " K-point 496 : coord in rec.lattice = [   0.397778  ,   0.397778 ,    0.500000 ], refinement level:0, dK=[1. 1. 1.]  \n",
      " K-point 497 : coord in rec.lattice = [   0.395556  ,   0.395556 ,    0.500000 ], refinement level:0, dK=[1. 1. 1.]  \n",
      " K-point 498 : coord in rec.lattice = [   0.393333  ,   0.393333 ,    0.500000 ], refinement level:0, dK=[1. 1. 1.]  \n",
      " K-point 499 : coord in rec.lattice = [   0.391111  ,   0.391111 ,    0.500000 ], refinement level:0, dK=[1. 1. 1.]  \n",
      " K-point 500 : coord in rec.lattice = [   0.388889  ,   0.388889 ,    0.500000 ], refinement level:0, dK=[1. 1. 1.]  \n",
      " K-point 501 : coord in rec.lattice = [   0.386667  ,   0.386667 ,    0.500000 ], refinement level:0, dK=[1. 1. 1.]  \n",
      " K-point 502 : coord in rec.lattice = [   0.384444  ,   0.384444 ,    0.500000 ], refinement level:0, dK=[1. 1. 1.]  \n",
      " K-point 503 : coord in rec.lattice = [   0.382222  ,   0.382222 ,    0.500000 ], refinement level:0, dK=[1. 1. 1.]  \n",
      " K-point 504 : coord in rec.lattice = [   0.380000  ,   0.380000 ,    0.500000 ], refinement level:0, dK=[1. 1. 1.]  \n",
      " K-point 505 : coord in rec.lattice = [   0.377778  ,   0.377778 ,    0.500000 ], refinement level:0, dK=[1. 1. 1.]  \n",
      " K-point 506 : coord in rec.lattice = [   0.375556  ,   0.375556 ,    0.500000 ], refinement level:0, dK=[1. 1. 1.]  \n",
      " K-point 507 : coord in rec.lattice = [   0.373333  ,   0.373333 ,    0.500000 ], refinement level:0, dK=[1. 1. 1.]  \n",
      " K-point 508 : coord in rec.lattice = [   0.371111  ,   0.371111 ,    0.500000 ], refinement level:0, dK=[1. 1. 1.]  \n",
      " K-point 509 : coord in rec.lattice = [   0.368889  ,   0.368889 ,    0.500000 ], refinement level:0, dK=[1. 1. 1.]  \n",
      " K-point 510 : coord in rec.lattice = [   0.366667  ,   0.366667 ,    0.500000 ], refinement level:0, dK=[1. 1. 1.]  \n",
      " K-point 511 : coord in rec.lattice = [   0.364444  ,   0.364444 ,    0.500000 ], refinement level:0, dK=[1. 1. 1.]  \n",
      " K-point 512 : coord in rec.lattice = [   0.362222  ,   0.362222 ,    0.500000 ], refinement level:0, dK=[1. 1. 1.]  \n",
      " K-point 513 : coord in rec.lattice = [   0.360000  ,   0.360000 ,    0.500000 ], refinement level:0, dK=[1. 1. 1.]  \n",
      " K-point 514 : coord in rec.lattice = [   0.357778  ,   0.357778 ,    0.500000 ], refinement level:0, dK=[1. 1. 1.]  \n",
      " K-point 515 : coord in rec.lattice = [   0.355556  ,   0.355556 ,    0.500000 ], refinement level:0, dK=[1. 1. 1.]  \n",
      " K-point 516 : coord in rec.lattice = [   0.353333  ,   0.353333 ,    0.500000 ], refinement level:0, dK=[1. 1. 1.]  \n",
      " K-point 517 : coord in rec.lattice = [   0.351111  ,   0.351111 ,    0.500000 ], refinement level:0, dK=[1. 1. 1.]  \n",
      " K-point 518 : coord in rec.lattice = [   0.348889  ,   0.348889 ,    0.500000 ], refinement level:0, dK=[1. 1. 1.]  \n",
      " K-point 519 : coord in rec.lattice = [   0.346667  ,   0.346667 ,    0.500000 ], refinement level:0, dK=[1. 1. 1.]  \n",
      " K-point 520 : coord in rec.lattice = [   0.344444  ,   0.344444 ,    0.500000 ], refinement level:0, dK=[1. 1. 1.]  \n",
      " K-point 521 : coord in rec.lattice = [   0.342222  ,   0.342222 ,    0.500000 ], refinement level:0, dK=[1. 1. 1.]  \n",
      " K-point 522 : coord in rec.lattice = [   0.340000  ,   0.340000 ,    0.500000 ], refinement level:0, dK=[1. 1. 1.]  \n",
      " K-point 523 : coord in rec.lattice = [   0.337778  ,   0.337778 ,    0.500000 ], refinement level:0, dK=[1. 1. 1.]  \n",
      " K-point 524 : coord in rec.lattice = [   0.335556  ,   0.335556 ,    0.500000 ], refinement level:0, dK=[1. 1. 1.]  \n",
      " K-point 525 : coord in rec.lattice = [   0.333333  ,   0.333333 ,    0.500000 ], refinement level:0, dK=[1. 1. 1.]  \n",
      " K-point 526 : coord in rec.lattice = [   0.331111  ,   0.331111 ,    0.500000 ], refinement level:0, dK=[1. 1. 1.]  \n",
      " K-point 527 : coord in rec.lattice = [   0.328889  ,   0.328889 ,    0.500000 ], refinement level:0, dK=[1. 1. 1.]  \n",
      " K-point 528 : coord in rec.lattice = [   0.326667  ,   0.326667 ,    0.500000 ], refinement level:0, dK=[1. 1. 1.]  \n",
      " K-point 529 : coord in rec.lattice = [   0.324444  ,   0.324444 ,    0.500000 ], refinement level:0, dK=[1. 1. 1.]  \n",
      " K-point 530 : coord in rec.lattice = [   0.322222  ,   0.322222 ,    0.500000 ], refinement level:0, dK=[1. 1. 1.]  \n",
      " K-point 531 : coord in rec.lattice = [   0.320000  ,   0.320000 ,    0.500000 ], refinement level:0, dK=[1. 1. 1.]  \n",
      " K-point 532 : coord in rec.lattice = [   0.317778  ,   0.317778 ,    0.500000 ], refinement level:0, dK=[1. 1. 1.]  \n",
      " K-point 533 : coord in rec.lattice = [   0.315556  ,   0.315556 ,    0.500000 ], refinement level:0, dK=[1. 1. 1.]  \n",
      " K-point 534 : coord in rec.lattice = [   0.313333  ,   0.313333 ,    0.500000 ], refinement level:0, dK=[1. 1. 1.]  \n",
      " K-point 535 : coord in rec.lattice = [   0.311111  ,   0.311111 ,    0.500000 ], refinement level:0, dK=[1. 1. 1.]  \n",
      " K-point 536 : coord in rec.lattice = [   0.308889  ,   0.308889 ,    0.500000 ], refinement level:0, dK=[1. 1. 1.]  \n",
      " K-point 537 : coord in rec.lattice = [   0.306667  ,   0.306667 ,    0.500000 ], refinement level:0, dK=[1. 1. 1.]  \n",
      " K-point 538 : coord in rec.lattice = [   0.304444  ,   0.304444 ,    0.500000 ], refinement level:0, dK=[1. 1. 1.]  \n",
      " K-point 539 : coord in rec.lattice = [   0.302222  ,   0.302222 ,    0.500000 ], refinement level:0, dK=[1. 1. 1.]  \n",
      " K-point 540 : coord in rec.lattice = [   0.300000  ,   0.300000 ,    0.500000 ], refinement level:0, dK=[1. 1. 1.]  \n",
      " K-point 541 : coord in rec.lattice = [   0.297778  ,   0.297778 ,    0.500000 ], refinement level:0, dK=[1. 1. 1.]  \n",
      " K-point 542 : coord in rec.lattice = [   0.295556  ,   0.295556 ,    0.500000 ], refinement level:0, dK=[1. 1. 1.]  \n",
      " K-point 543 : coord in rec.lattice = [   0.293333  ,   0.293333 ,    0.500000 ], refinement level:0, dK=[1. 1. 1.]  \n",
      " K-point 544 : coord in rec.lattice = [   0.291111  ,   0.291111 ,    0.500000 ], refinement level:0, dK=[1. 1. 1.]  \n",
      " K-point 545 : coord in rec.lattice = [   0.288889  ,   0.288889 ,    0.500000 ], refinement level:0, dK=[1. 1. 1.]  \n",
      " K-point 546 : coord in rec.lattice = [   0.286667  ,   0.286667 ,    0.500000 ], refinement level:0, dK=[1. 1. 1.]  \n",
      " K-point 547 : coord in rec.lattice = [   0.284444  ,   0.284444 ,    0.500000 ], refinement level:0, dK=[1. 1. 1.]  \n",
      " K-point 548 : coord in rec.lattice = [   0.282222  ,   0.282222 ,    0.500000 ], refinement level:0, dK=[1. 1. 1.]  \n",
      " K-point 549 : coord in rec.lattice = [   0.280000  ,   0.280000 ,    0.500000 ], refinement level:0, dK=[1. 1. 1.]  \n",
      " K-point 550 : coord in rec.lattice = [   0.277778  ,   0.277778 ,    0.500000 ], refinement level:0, dK=[1. 1. 1.]  \n",
      " K-point 551 : coord in rec.lattice = [   0.275556  ,   0.275556 ,    0.500000 ], refinement level:0, dK=[1. 1. 1.]  \n",
      " K-point 552 : coord in rec.lattice = [   0.273333  ,   0.273333 ,    0.500000 ], refinement level:0, dK=[1. 1. 1.]  \n",
      " K-point 553 : coord in rec.lattice = [   0.271111  ,   0.271111 ,    0.500000 ], refinement level:0, dK=[1. 1. 1.]  \n",
      " K-point 554 : coord in rec.lattice = [   0.268889  ,   0.268889 ,    0.500000 ], refinement level:0, dK=[1. 1. 1.]  \n",
      " K-point 555 : coord in rec.lattice = [   0.266667  ,   0.266667 ,    0.500000 ], refinement level:0, dK=[1. 1. 1.]  \n",
      " K-point 556 : coord in rec.lattice = [   0.264444  ,   0.264444 ,    0.500000 ], refinement level:0, dK=[1. 1. 1.]  \n",
      " K-point 557 : coord in rec.lattice = [   0.262222  ,   0.262222 ,    0.500000 ], refinement level:0, dK=[1. 1. 1.]  \n",
      " K-point 558 : coord in rec.lattice = [   0.260000  ,   0.260000 ,    0.500000 ], refinement level:0, dK=[1. 1. 1.]  \n",
      " K-point 559 : coord in rec.lattice = [   0.257778  ,   0.257778 ,    0.500000 ], refinement level:0, dK=[1. 1. 1.]  \n",
      " K-point 560 : coord in rec.lattice = [   0.255556  ,   0.255556 ,    0.500000 ], refinement level:0, dK=[1. 1. 1.]  \n",
      " K-point 561 : coord in rec.lattice = [   0.253333  ,   0.253333 ,    0.500000 ], refinement level:0, dK=[1. 1. 1.]  \n",
      " K-point 562 : coord in rec.lattice = [   0.251111  ,   0.251111 ,    0.500000 ], refinement level:0, dK=[1. 1. 1.]  \n",
      " K-point 563 : coord in rec.lattice = [   0.248889  ,   0.248889 ,    0.500000 ], refinement level:0, dK=[1. 1. 1.]  \n",
      " K-point 564 : coord in rec.lattice = [   0.246667  ,   0.246667 ,    0.500000 ], refinement level:0, dK=[1. 1. 1.]  \n",
      " K-point 565 : coord in rec.lattice = [   0.244444  ,   0.244444 ,    0.500000 ], refinement level:0, dK=[1. 1. 1.]  \n",
      " K-point 566 : coord in rec.lattice = [   0.242222  ,   0.242222 ,    0.500000 ], refinement level:0, dK=[1. 1. 1.]  \n",
      " K-point 567 : coord in rec.lattice = [   0.240000  ,   0.240000 ,    0.500000 ], refinement level:0, dK=[1. 1. 1.]  \n",
      " K-point 568 : coord in rec.lattice = [   0.237778  ,   0.237778 ,    0.500000 ], refinement level:0, dK=[1. 1. 1.]  \n",
      " K-point 569 : coord in rec.lattice = [   0.235556  ,   0.235556 ,    0.500000 ], refinement level:0, dK=[1. 1. 1.]  \n",
      " K-point 570 : coord in rec.lattice = [   0.233333  ,   0.233333 ,    0.500000 ], refinement level:0, dK=[1. 1. 1.]  \n",
      " K-point 571 : coord in rec.lattice = [   0.231111  ,   0.231111 ,    0.500000 ], refinement level:0, dK=[1. 1. 1.]  \n",
      " K-point 572 : coord in rec.lattice = [   0.228889  ,   0.228889 ,    0.500000 ], refinement level:0, dK=[1. 1. 1.]  \n",
      " K-point 573 : coord in rec.lattice = [   0.226667  ,   0.226667 ,    0.500000 ], refinement level:0, dK=[1. 1. 1.]  \n",
      " K-point 574 : coord in rec.lattice = [   0.224444  ,   0.224444 ,    0.500000 ], refinement level:0, dK=[1. 1. 1.]  \n",
      " K-point 575 : coord in rec.lattice = [   0.222222  ,   0.222222 ,    0.500000 ], refinement level:0, dK=[1. 1. 1.]  \n",
      " K-point 576 : coord in rec.lattice = [   0.220000  ,   0.220000 ,    0.500000 ], refinement level:0, dK=[1. 1. 1.]  \n",
      " K-point 577 : coord in rec.lattice = [   0.217778  ,   0.217778 ,    0.500000 ], refinement level:0, dK=[1. 1. 1.]  \n",
      " K-point 578 : coord in rec.lattice = [   0.215556  ,   0.215556 ,    0.500000 ], refinement level:0, dK=[1. 1. 1.]  \n",
      " K-point 579 : coord in rec.lattice = [   0.213333  ,   0.213333 ,    0.500000 ], refinement level:0, dK=[1. 1. 1.]  \n",
      " K-point 580 : coord in rec.lattice = [   0.211111  ,   0.211111 ,    0.500000 ], refinement level:0, dK=[1. 1. 1.]  \n",
      " K-point 581 : coord in rec.lattice = [   0.208889  ,   0.208889 ,    0.500000 ], refinement level:0, dK=[1. 1. 1.]  \n",
      " K-point 582 : coord in rec.lattice = [   0.206667  ,   0.206667 ,    0.500000 ], refinement level:0, dK=[1. 1. 1.]  \n",
      " K-point 583 : coord in rec.lattice = [   0.204444  ,   0.204444 ,    0.500000 ], refinement level:0, dK=[1. 1. 1.]  \n",
      " K-point 584 : coord in rec.lattice = [   0.202222  ,   0.202222 ,    0.500000 ], refinement level:0, dK=[1. 1. 1.]  \n",
      " K-point 585 : coord in rec.lattice = [   0.200000  ,   0.200000 ,    0.500000 ], refinement level:0, dK=[1. 1. 1.]  \n",
      " K-point 586 : coord in rec.lattice = [   0.197778  ,   0.197778 ,    0.500000 ], refinement level:0, dK=[1. 1. 1.]  \n",
      " K-point 587 : coord in rec.lattice = [   0.195556  ,   0.195556 ,    0.500000 ], refinement level:0, dK=[1. 1. 1.]  \n",
      " K-point 588 : coord in rec.lattice = [   0.193333  ,   0.193333 ,    0.500000 ], refinement level:0, dK=[1. 1. 1.]  \n",
      " K-point 589 : coord in rec.lattice = [   0.191111  ,   0.191111 ,    0.500000 ], refinement level:0, dK=[1. 1. 1.]  \n",
      " K-point 590 : coord in rec.lattice = [   0.188889  ,   0.188889 ,    0.500000 ], refinement level:0, dK=[1. 1. 1.]  \n",
      " K-point 591 : coord in rec.lattice = [   0.186667  ,   0.186667 ,    0.500000 ], refinement level:0, dK=[1. 1. 1.]  \n",
      " K-point 592 : coord in rec.lattice = [   0.184444  ,   0.184444 ,    0.500000 ], refinement level:0, dK=[1. 1. 1.]  \n",
      " K-point 593 : coord in rec.lattice = [   0.182222  ,   0.182222 ,    0.500000 ], refinement level:0, dK=[1. 1. 1.]  \n",
      " K-point 594 : coord in rec.lattice = [   0.180000  ,   0.180000 ,    0.500000 ], refinement level:0, dK=[1. 1. 1.]  \n",
      " K-point 595 : coord in rec.lattice = [   0.177778  ,   0.177778 ,    0.500000 ], refinement level:0, dK=[1. 1. 1.]  \n",
      " K-point 596 : coord in rec.lattice = [   0.175556  ,   0.175556 ,    0.500000 ], refinement level:0, dK=[1. 1. 1.]  \n",
      " K-point 597 : coord in rec.lattice = [   0.173333  ,   0.173333 ,    0.500000 ], refinement level:0, dK=[1. 1. 1.]  \n",
      " K-point 598 : coord in rec.lattice = [   0.171111  ,   0.171111 ,    0.500000 ], refinement level:0, dK=[1. 1. 1.]  \n",
      " K-point 599 : coord in rec.lattice = [   0.168889  ,   0.168889 ,    0.500000 ], refinement level:0, dK=[1. 1. 1.]  \n",
      " K-point 600 : coord in rec.lattice = [   0.166667  ,   0.166667 ,    0.500000 ], refinement level:0, dK=[1. 1. 1.]  \n",
      " K-point 601 : coord in rec.lattice = [   0.164444  ,   0.164444 ,    0.500000 ], refinement level:0, dK=[1. 1. 1.]  \n",
      " K-point 602 : coord in rec.lattice = [   0.162222  ,   0.162222 ,    0.500000 ], refinement level:0, dK=[1. 1. 1.]  \n",
      " K-point 603 : coord in rec.lattice = [   0.160000  ,   0.160000 ,    0.500000 ], refinement level:0, dK=[1. 1. 1.]  \n",
      " K-point 604 : coord in rec.lattice = [   0.157778  ,   0.157778 ,    0.500000 ], refinement level:0, dK=[1. 1. 1.]  \n",
      " K-point 605 : coord in rec.lattice = [   0.155556  ,   0.155556 ,    0.500000 ], refinement level:0, dK=[1. 1. 1.]  \n",
      " K-point 606 : coord in rec.lattice = [   0.153333  ,   0.153333 ,    0.500000 ], refinement level:0, dK=[1. 1. 1.]  \n",
      " K-point 607 : coord in rec.lattice = [   0.151111  ,   0.151111 ,    0.500000 ], refinement level:0, dK=[1. 1. 1.]  \n",
      " K-point 608 : coord in rec.lattice = [   0.148889  ,   0.148889 ,    0.500000 ], refinement level:0, dK=[1. 1. 1.]  \n",
      " K-point 609 : coord in rec.lattice = [   0.146667  ,   0.146667 ,    0.500000 ], refinement level:0, dK=[1. 1. 1.]  \n",
      " K-point 610 : coord in rec.lattice = [   0.144444  ,   0.144444 ,    0.500000 ], refinement level:0, dK=[1. 1. 1.]  \n",
      " K-point 611 : coord in rec.lattice = [   0.142222  ,   0.142222 ,    0.500000 ], refinement level:0, dK=[1. 1. 1.]  \n",
      " K-point 612 : coord in rec.lattice = [   0.140000  ,   0.140000 ,    0.500000 ], refinement level:0, dK=[1. 1. 1.]  \n",
      " K-point 613 : coord in rec.lattice = [   0.137778  ,   0.137778 ,    0.500000 ], refinement level:0, dK=[1. 1. 1.]  \n",
      " K-point 614 : coord in rec.lattice = [   0.135556  ,   0.135556 ,    0.500000 ], refinement level:0, dK=[1. 1. 1.]  \n",
      " K-point 615 : coord in rec.lattice = [   0.133333  ,   0.133333 ,    0.500000 ], refinement level:0, dK=[1. 1. 1.]  \n",
      " K-point 616 : coord in rec.lattice = [   0.131111  ,   0.131111 ,    0.500000 ], refinement level:0, dK=[1. 1. 1.]  \n",
      " K-point 617 : coord in rec.lattice = [   0.128889  ,   0.128889 ,    0.500000 ], refinement level:0, dK=[1. 1. 1.]  \n",
      " K-point 618 : coord in rec.lattice = [   0.126667  ,   0.126667 ,    0.500000 ], refinement level:0, dK=[1. 1. 1.]  \n",
      " K-point 619 : coord in rec.lattice = [   0.124444  ,   0.124444 ,    0.500000 ], refinement level:0, dK=[1. 1. 1.]  \n",
      " K-point 620 : coord in rec.lattice = [   0.122222  ,   0.122222 ,    0.500000 ], refinement level:0, dK=[1. 1. 1.]  \n",
      " K-point 621 : coord in rec.lattice = [   0.120000  ,   0.120000 ,    0.500000 ], refinement level:0, dK=[1. 1. 1.]  \n",
      " K-point 622 : coord in rec.lattice = [   0.117778  ,   0.117778 ,    0.500000 ], refinement level:0, dK=[1. 1. 1.]  \n",
      " K-point 623 : coord in rec.lattice = [   0.115556  ,   0.115556 ,    0.500000 ], refinement level:0, dK=[1. 1. 1.]  \n",
      " K-point 624 : coord in rec.lattice = [   0.113333  ,   0.113333 ,    0.500000 ], refinement level:0, dK=[1. 1. 1.]  \n",
      " K-point 625 : coord in rec.lattice = [   0.111111  ,   0.111111 ,    0.500000 ], refinement level:0, dK=[1. 1. 1.]  \n",
      " K-point 626 : coord in rec.lattice = [   0.108889  ,   0.108889 ,    0.500000 ], refinement level:0, dK=[1. 1. 1.]  \n",
      " K-point 627 : coord in rec.lattice = [   0.106667  ,   0.106667 ,    0.500000 ], refinement level:0, dK=[1. 1. 1.]  \n",
      " K-point 628 : coord in rec.lattice = [   0.104444  ,   0.104444 ,    0.500000 ], refinement level:0, dK=[1. 1. 1.]  \n",
      " K-point 629 : coord in rec.lattice = [   0.102222  ,   0.102222 ,    0.500000 ], refinement level:0, dK=[1. 1. 1.]  \n",
      " K-point 630 : coord in rec.lattice = [   0.100000  ,   0.100000 ,    0.500000 ], refinement level:0, dK=[1. 1. 1.]  \n",
      " K-point 631 : coord in rec.lattice = [   0.097778  ,   0.097778 ,    0.500000 ], refinement level:0, dK=[1. 1. 1.]  \n",
      " K-point 632 : coord in rec.lattice = [   0.095556  ,   0.095556 ,    0.500000 ], refinement level:0, dK=[1. 1. 1.]  \n",
      " K-point 633 : coord in rec.lattice = [   0.093333  ,   0.093333 ,    0.500000 ], refinement level:0, dK=[1. 1. 1.]  \n",
      " K-point 634 : coord in rec.lattice = [   0.091111  ,   0.091111 ,    0.500000 ], refinement level:0, dK=[1. 1. 1.]  \n",
      " K-point 635 : coord in rec.lattice = [   0.088889  ,   0.088889 ,    0.500000 ], refinement level:0, dK=[1. 1. 1.]  \n",
      " K-point 636 : coord in rec.lattice = [   0.086667  ,   0.086667 ,    0.500000 ], refinement level:0, dK=[1. 1. 1.]  \n",
      " K-point 637 : coord in rec.lattice = [   0.084444  ,   0.084444 ,    0.500000 ], refinement level:0, dK=[1. 1. 1.]  \n",
      " K-point 638 : coord in rec.lattice = [   0.082222  ,   0.082222 ,    0.500000 ], refinement level:0, dK=[1. 1. 1.]  \n",
      " K-point 639 : coord in rec.lattice = [   0.080000  ,   0.080000 ,    0.500000 ], refinement level:0, dK=[1. 1. 1.]  \n",
      " K-point 640 : coord in rec.lattice = [   0.077778  ,   0.077778 ,    0.500000 ], refinement level:0, dK=[1. 1. 1.]  \n",
      " K-point 641 : coord in rec.lattice = [   0.075556  ,   0.075556 ,    0.500000 ], refinement level:0, dK=[1. 1. 1.]  \n",
      " K-point 642 : coord in rec.lattice = [   0.073333  ,   0.073333 ,    0.500000 ], refinement level:0, dK=[1. 1. 1.]  \n",
      " K-point 643 : coord in rec.lattice = [   0.071111  ,   0.071111 ,    0.500000 ], refinement level:0, dK=[1. 1. 1.]  \n",
      " K-point 644 : coord in rec.lattice = [   0.068889  ,   0.068889 ,    0.500000 ], refinement level:0, dK=[1. 1. 1.]  \n",
      " K-point 645 : coord in rec.lattice = [   0.066667  ,   0.066667 ,    0.500000 ], refinement level:0, dK=[1. 1. 1.]  \n",
      " K-point 646 : coord in rec.lattice = [   0.064444  ,   0.064444 ,    0.500000 ], refinement level:0, dK=[1. 1. 1.]  \n",
      " K-point 647 : coord in rec.lattice = [   0.062222  ,   0.062222 ,    0.500000 ], refinement level:0, dK=[1. 1. 1.]  \n",
      " K-point 648 : coord in rec.lattice = [   0.060000  ,   0.060000 ,    0.500000 ], refinement level:0, dK=[1. 1. 1.]  \n",
      " K-point 649 : coord in rec.lattice = [   0.057778  ,   0.057778 ,    0.500000 ], refinement level:0, dK=[1. 1. 1.]  \n",
      " K-point 650 : coord in rec.lattice = [   0.055556  ,   0.055556 ,    0.500000 ], refinement level:0, dK=[1. 1. 1.]  \n",
      " K-point 651 : coord in rec.lattice = [   0.053333  ,   0.053333 ,    0.500000 ], refinement level:0, dK=[1. 1. 1.]  \n",
      " K-point 652 : coord in rec.lattice = [   0.051111  ,   0.051111 ,    0.500000 ], refinement level:0, dK=[1. 1. 1.]  \n",
      " K-point 653 : coord in rec.lattice = [   0.048889  ,   0.048889 ,    0.500000 ], refinement level:0, dK=[1. 1. 1.]  \n",
      " K-point 654 : coord in rec.lattice = [   0.046667  ,   0.046667 ,    0.500000 ], refinement level:0, dK=[1. 1. 1.]  \n",
      " K-point 655 : coord in rec.lattice = [   0.044444  ,   0.044444 ,    0.500000 ], refinement level:0, dK=[1. 1. 1.]  \n",
      " K-point 656 : coord in rec.lattice = [   0.042222  ,   0.042222 ,    0.500000 ], refinement level:0, dK=[1. 1. 1.]  \n",
      " K-point 657 : coord in rec.lattice = [   0.040000  ,   0.040000 ,    0.500000 ], refinement level:0, dK=[1. 1. 1.]  \n",
      " K-point 658 : coord in rec.lattice = [   0.037778  ,   0.037778 ,    0.500000 ], refinement level:0, dK=[1. 1. 1.]  \n",
      " K-point 659 : coord in rec.lattice = [   0.035556  ,   0.035556 ,    0.500000 ], refinement level:0, dK=[1. 1. 1.]  \n",
      " K-point 660 : coord in rec.lattice = [   0.033333  ,   0.033333 ,    0.500000 ], refinement level:0, dK=[1. 1. 1.]  \n",
      " K-point 661 : coord in rec.lattice = [   0.031111  ,   0.031111 ,    0.500000 ], refinement level:0, dK=[1. 1. 1.]  \n",
      " K-point 662 : coord in rec.lattice = [   0.028889  ,   0.028889 ,    0.500000 ], refinement level:0, dK=[1. 1. 1.]  \n",
      " K-point 663 : coord in rec.lattice = [   0.026667  ,   0.026667 ,    0.500000 ], refinement level:0, dK=[1. 1. 1.]  \n",
      " K-point 664 : coord in rec.lattice = [   0.024444  ,   0.024444 ,    0.500000 ], refinement level:0, dK=[1. 1. 1.]  \n",
      " K-point 665 : coord in rec.lattice = [   0.022222  ,   0.022222 ,    0.500000 ], refinement level:0, dK=[1. 1. 1.]  \n",
      " K-point 666 : coord in rec.lattice = [   0.020000  ,   0.020000 ,    0.500000 ], refinement level:0, dK=[1. 1. 1.]  \n",
      " K-point 667 : coord in rec.lattice = [   0.017778  ,   0.017778 ,    0.500000 ], refinement level:0, dK=[1. 1. 1.]  \n",
      " K-point 668 : coord in rec.lattice = [   0.015556  ,   0.015556 ,    0.500000 ], refinement level:0, dK=[1. 1. 1.]  \n",
      " K-point 669 : coord in rec.lattice = [   0.013333  ,   0.013333 ,    0.500000 ], refinement level:0, dK=[1. 1. 1.]  \n",
      " K-point 670 : coord in rec.lattice = [   0.011111  ,   0.011111 ,    0.500000 ], refinement level:0, dK=[1. 1. 1.]  \n",
      " K-point 671 : coord in rec.lattice = [   0.008889  ,   0.008889 ,    0.500000 ], refinement level:0, dK=[1. 1. 1.]  \n",
      " K-point 672 : coord in rec.lattice = [   0.006667  ,   0.006667 ,    0.500000 ], refinement level:0, dK=[1. 1. 1.]  \n",
      " K-point 673 : coord in rec.lattice = [   0.004444  ,   0.004444 ,    0.500000 ], refinement level:0, dK=[1. 1. 1.]  \n",
      " K-point 674 : coord in rec.lattice = [   0.002222  ,   0.002222 ,    0.500000 ], refinement level:0, dK=[1. 1. 1.]  \n",
      " K-point 675 : coord in rec.lattice = [   0.000000  ,   0.000000 ,    0.500000 ], refinement level:0, dK=[1. 1. 1.]  \n",
      "symgroup : None\n",
      "processing 676 K points : in serial.\n",
      "# K-points calculated  Wall time (sec)  Est. remaining (sec)\n"
     ]
    },
    {
     "name": "stdout",
     "output_type": "stream",
     "text": [
      "                   7              0.0                   2.5\n"
     ]
    },
    {
     "name": "stdout",
     "output_type": "stream",
     "text": [
      "                  14              0.1                   2.9\n"
     ]
    },
    {
     "name": "stdout",
     "output_type": "stream",
     "text": [
      "                  21              0.1                   2.7\n"
     ]
    },
    {
     "name": "stdout",
     "output_type": "stream",
     "text": [
      "                  28              0.1                   2.6\n"
     ]
    },
    {
     "name": "stdout",
     "output_type": "stream",
     "text": [
      "                  35              0.1                   2.5\n"
     ]
    },
    {
     "name": "stdout",
     "output_type": "stream",
     "text": [
      "                  42              0.2                   2.5\n"
     ]
    },
    {
     "name": "stdout",
     "output_type": "stream",
     "text": [
      "                  49              0.2                   2.4\n"
     ]
    },
    {
     "name": "stdout",
     "output_type": "stream",
     "text": [
      "                  56              0.2                   2.4\n"
     ]
    },
    {
     "name": "stdout",
     "output_type": "stream",
     "text": [
      "                  63              0.2                   2.3\n"
     ]
    },
    {
     "name": "stdout",
     "output_type": "stream",
     "text": [
      "                  70              0.3                   2.3\n"
     ]
    },
    {
     "name": "stdout",
     "output_type": "stream",
     "text": [
      "                  77              0.3                   2.3\n"
     ]
    },
    {
     "name": "stdout",
     "output_type": "stream",
     "text": [
      "                  84              0.3                   2.3\n"
     ]
    },
    {
     "name": "stdout",
     "output_type": "stream",
     "text": [
      "                  91              0.3                   2.2\n"
     ]
    },
    {
     "name": "stdout",
     "output_type": "stream",
     "text": [
      "                  98              0.4                   2.2\n"
     ]
    },
    {
     "name": "stdout",
     "output_type": "stream",
     "text": [
      "                 105              0.4                   2.2\n"
     ]
    },
    {
     "name": "stdout",
     "output_type": "stream",
     "text": [
      "                 112              0.4                   2.2\n"
     ]
    },
    {
     "name": "stdout",
     "output_type": "stream",
     "text": [
      "                 119              0.5                   2.2\n"
     ]
    },
    {
     "name": "stdout",
     "output_type": "stream",
     "text": [
      "                 126              0.5                   2.1\n"
     ]
    },
    {
     "name": "stdout",
     "output_type": "stream",
     "text": [
      "                 133              0.5                   2.1\n"
     ]
    },
    {
     "name": "stdout",
     "output_type": "stream",
     "text": [
      "                 140              0.5                   2.1\n"
     ]
    },
    {
     "name": "stdout",
     "output_type": "stream",
     "text": [
      "                 147              0.6                   2.1\n"
     ]
    },
    {
     "name": "stdout",
     "output_type": "stream",
     "text": [
      "                 154              0.6                   2.0\n"
     ]
    },
    {
     "name": "stdout",
     "output_type": "stream",
     "text": [
      "                 161              0.6                   2.0\n"
     ]
    },
    {
     "name": "stdout",
     "output_type": "stream",
     "text": [
      "                 168              0.7                   2.0\n"
     ]
    },
    {
     "name": "stdout",
     "output_type": "stream",
     "text": [
      "                 175              0.7                   1.9\n"
     ]
    },
    {
     "name": "stdout",
     "output_type": "stream",
     "text": [
      "                 182              0.7                   1.9\n"
     ]
    },
    {
     "name": "stdout",
     "output_type": "stream",
     "text": [
      "                 189              0.7                   1.9\n"
     ]
    },
    {
     "name": "stdout",
     "output_type": "stream",
     "text": [
      "                 196              0.8                   1.9\n"
     ]
    },
    {
     "name": "stdout",
     "output_type": "stream",
     "text": [
      "                 203              0.8                   1.8\n"
     ]
    },
    {
     "name": "stdout",
     "output_type": "stream",
     "text": [
      "                 210              0.8                   1.8\n"
     ]
    },
    {
     "name": "stdout",
     "output_type": "stream",
     "text": [
      "                 217              0.8                   1.8\n"
     ]
    },
    {
     "name": "stdout",
     "output_type": "stream",
     "text": [
      "                 224              0.9                   1.8\n"
     ]
    },
    {
     "name": "stdout",
     "output_type": "stream",
     "text": [
      "                 231              0.9                   1.7\n"
     ]
    },
    {
     "name": "stdout",
     "output_type": "stream",
     "text": [
      "                 238              0.9                   1.7\n"
     ]
    },
    {
     "name": "stdout",
     "output_type": "stream",
     "text": [
      "                 245              1.0                   1.7\n"
     ]
    },
    {
     "name": "stdout",
     "output_type": "stream",
     "text": [
      "                 252              1.0                   1.7\n"
     ]
    },
    {
     "name": "stdout",
     "output_type": "stream",
     "text": [
      "                 259              1.0                   1.6\n"
     ]
    },
    {
     "name": "stdout",
     "output_type": "stream",
     "text": [
      "                 266              1.0                   1.6\n"
     ]
    },
    {
     "name": "stdout",
     "output_type": "stream",
     "text": [
      "                 273              1.1                   1.6\n"
     ]
    },
    {
     "name": "stdout",
     "output_type": "stream",
     "text": [
      "                 280              1.1                   1.6\n"
     ]
    },
    {
     "name": "stdout",
     "output_type": "stream",
     "text": [
      "                 287              1.1                   1.5"
     ]
    },
    {
     "name": "stdout",
     "output_type": "stream",
     "text": [
      "\n"
     ]
    },
    {
     "name": "stdout",
     "output_type": "stream",
     "text": [
      "                 294              1.2                   1.5\n"
     ]
    },
    {
     "name": "stdout",
     "output_type": "stream",
     "text": [
      "                 301              1.2                   1.5\n"
     ]
    },
    {
     "name": "stdout",
     "output_type": "stream",
     "text": [
      "                 308              1.2                   1.5"
     ]
    },
    {
     "name": "stdout",
     "output_type": "stream",
     "text": [
      "\n"
     ]
    },
    {
     "name": "stdout",
     "output_type": "stream",
     "text": [
      "                 315              1.2                   1.4"
     ]
    },
    {
     "name": "stdout",
     "output_type": "stream",
     "text": [
      "\n"
     ]
    },
    {
     "name": "stdout",
     "output_type": "stream",
     "text": [
      "                 322              1.3                   1.4\n"
     ]
    },
    {
     "name": "stdout",
     "output_type": "stream",
     "text": [
      "                 329              1.3                   1.4\n"
     ]
    },
    {
     "name": "stdout",
     "output_type": "stream",
     "text": [
      "                 336              1.3                   1.3\n"
     ]
    },
    {
     "name": "stdout",
     "output_type": "stream",
     "text": [
      "                 343              1.3                   1.3\n"
     ]
    },
    {
     "name": "stdout",
     "output_type": "stream",
     "text": [
      "                 350              1.4                   1.3\n"
     ]
    },
    {
     "name": "stdout",
     "output_type": "stream",
     "text": [
      "                 357              1.4                   1.3\n"
     ]
    },
    {
     "name": "stdout",
     "output_type": "stream",
     "text": [
      "                 364              1.4                   1.2\n"
     ]
    },
    {
     "name": "stdout",
     "output_type": "stream",
     "text": [
      "                 371              1.4                   1.2\n"
     ]
    },
    {
     "name": "stdout",
     "output_type": "stream",
     "text": [
      "                 378              1.5                   1.2\n"
     ]
    },
    {
     "name": "stdout",
     "output_type": "stream",
     "text": [
      "                 385              1.5                   1.1\n"
     ]
    },
    {
     "name": "stdout",
     "output_type": "stream",
     "text": [
      "                 392              1.5                   1.1\n"
     ]
    },
    {
     "name": "stdout",
     "output_type": "stream",
     "text": [
      "                 399              1.6                   1.1\n"
     ]
    },
    {
     "name": "stdout",
     "output_type": "stream",
     "text": [
      "                 406              1.6                   1.1\n"
     ]
    },
    {
     "name": "stdout",
     "output_type": "stream",
     "text": [
      "                 413              1.6                   1.0\n"
     ]
    },
    {
     "name": "stdout",
     "output_type": "stream",
     "text": [
      "                 420              1.6                   1.0\n"
     ]
    },
    {
     "name": "stdout",
     "output_type": "stream",
     "text": [
      "                 427              1.7                   1.0\n"
     ]
    },
    {
     "name": "stdout",
     "output_type": "stream",
     "text": [
      "                 434              1.7                   0.9\n"
     ]
    },
    {
     "name": "stdout",
     "output_type": "stream",
     "text": [
      "                 441              1.7                   0.9\n"
     ]
    },
    {
     "name": "stdout",
     "output_type": "stream",
     "text": [
      "                 448              1.7                   0.9\n"
     ]
    },
    {
     "name": "stdout",
     "output_type": "stream",
     "text": [
      "                 455              1.8                   0.9\n"
     ]
    },
    {
     "name": "stdout",
     "output_type": "stream",
     "text": [
      "                 462              1.8                   0.8\n"
     ]
    },
    {
     "name": "stdout",
     "output_type": "stream",
     "text": [
      "                 469              1.8                   0.8\n"
     ]
    },
    {
     "name": "stdout",
     "output_type": "stream",
     "text": [
      "                 476              1.8                   0.8\n"
     ]
    },
    {
     "name": "stdout",
     "output_type": "stream",
     "text": [
      "                 483              1.9                   0.7\n"
     ]
    },
    {
     "name": "stdout",
     "output_type": "stream",
     "text": [
      "                 490              1.9                   0.7\n"
     ]
    },
    {
     "name": "stdout",
     "output_type": "stream",
     "text": [
      "                 497              1.9                   0.7\n"
     ]
    },
    {
     "name": "stdout",
     "output_type": "stream",
     "text": [
      "                 504              1.9                   0.7\n"
     ]
    },
    {
     "name": "stdout",
     "output_type": "stream",
     "text": [
      "                 511              2.0                   0.6\n"
     ]
    },
    {
     "name": "stdout",
     "output_type": "stream",
     "text": [
      "                 518              2.0                   0.6\n"
     ]
    },
    {
     "name": "stdout",
     "output_type": "stream",
     "text": [
      "                 525              2.0                   0.6\n"
     ]
    },
    {
     "name": "stdout",
     "output_type": "stream",
     "text": [
      "                 532              2.0                   0.6\n"
     ]
    },
    {
     "name": "stdout",
     "output_type": "stream",
     "text": [
      "                 539              2.1                   0.5\n"
     ]
    },
    {
     "name": "stdout",
     "output_type": "stream",
     "text": [
      "                 546              2.1                   0.5\n"
     ]
    },
    {
     "name": "stdout",
     "output_type": "stream",
     "text": [
      "                 553              2.1                   0.5\n"
     ]
    },
    {
     "name": "stdout",
     "output_type": "stream",
     "text": [
      "                 560              2.1                   0.4\n"
     ]
    },
    {
     "name": "stdout",
     "output_type": "stream",
     "text": [
      "                 567              2.2                   0.4\n"
     ]
    },
    {
     "name": "stdout",
     "output_type": "stream",
     "text": [
      "                 574              2.2                   0.4\n"
     ]
    },
    {
     "name": "stdout",
     "output_type": "stream",
     "text": [
      "                 581              2.2                   0.4\n"
     ]
    },
    {
     "name": "stdout",
     "output_type": "stream",
     "text": [
      "                 588              2.2                   0.3\n"
     ]
    },
    {
     "name": "stdout",
     "output_type": "stream",
     "text": [
      "                 595              2.3                   0.3\n"
     ]
    },
    {
     "name": "stdout",
     "output_type": "stream",
     "text": [
      "                 602              2.3                   0.3\n"
     ]
    },
    {
     "name": "stdout",
     "output_type": "stream",
     "text": [
      "                 609              2.3                   0.3\n"
     ]
    },
    {
     "name": "stdout",
     "output_type": "stream",
     "text": [
      "                 616              2.3                   0.2\n"
     ]
    },
    {
     "name": "stdout",
     "output_type": "stream",
     "text": [
      "                 623              2.4                   0.2\n"
     ]
    },
    {
     "name": "stdout",
     "output_type": "stream",
     "text": [
      "                 630              2.4                   0.2\n"
     ]
    },
    {
     "name": "stdout",
     "output_type": "stream",
     "text": [
      "                 637              2.4                   0.1\n"
     ]
    },
    {
     "name": "stdout",
     "output_type": "stream",
     "text": [
      "                 644              2.4                   0.1\n"
     ]
    },
    {
     "name": "stdout",
     "output_type": "stream",
     "text": [
      "                 651              2.5                   0.1\n"
     ]
    },
    {
     "name": "stdout",
     "output_type": "stream",
     "text": [
      "                 658              2.5                   0.1\n"
     ]
    },
    {
     "name": "stdout",
     "output_type": "stream",
     "text": [
      "                 665              2.5                   0.0"
     ]
    },
    {
     "name": "stdout",
     "output_type": "stream",
     "text": [
      "\n"
     ]
    },
    {
     "name": "stdout",
     "output_type": "stream",
     "text": [
      "                 672              2.5                   0.0\n"
     ]
    },
    {
     "name": "stdout",
     "output_type": "stream",
     "text": [
      "time for processing    676 K-points in serial:     2.5586 ; per K-point          0.0038 ; proc-sec per K-point          0.0038\n"
     ]
    },
    {
     "name": "stdout",
     "output_type": "stream",
     "text": [
      "time1 =  0.06209301948547363\n",
      "Totally processed 676 K-points \n",
      "Calculation along a path - checking calculators for compatibility\n",
      "tabulate <wannierberri.calculators.TabulatorAll object at 0x7f52cd3bca60>\n",
      "All calculators are compatible\n",
      "Symmetrization switched off for Path\n",
      "The set of k points is a Path() with 676 points and labels {0: 'L1', 75: 'H', 225: 'L3', 300: 'H', 450: 'L2', 525: 'H', 675: 'A2'}\n",
      "WARNING : symmetry is not used for a tabulation along path\n",
      "generating K_list\n",
      "Done \n",
      "Done, sum of weights:676.0\n",
      "iteration 0 - 676 points. New points are:\n",
      " K-point 0 : coord in rec.lattice = [   0.000000  ,   0.500000 ,    0.500000 ], refinement level:0, dK=[1. 1. 1.]  \n",
      " K-point 1 : coord in rec.lattice = [   0.004444  ,   0.497778 ,    0.500000 ], refinement level:0, dK=[1. 1. 1.]  \n",
      " K-point 2 : coord in rec.lattice = [   0.008889  ,   0.495556 ,    0.500000 ], refinement level:0, dK=[1. 1. 1.]  \n",
      " K-point 3 : coord in rec.lattice = [   0.013333  ,   0.493333 ,    0.500000 ], refinement level:0, dK=[1. 1. 1.]  \n",
      " K-point 4 : coord in rec.lattice = [   0.017778  ,   0.491111 ,    0.500000 ], refinement level:0, dK=[1. 1. 1.]  \n",
      " K-point 5 : coord in rec.lattice = [   0.022222  ,   0.488889 ,    0.500000 ], refinement level:0, dK=[1. 1. 1.]  \n",
      " K-point 6 : coord in rec.lattice = [   0.026667  ,   0.486667 ,    0.500000 ], refinement level:0, dK=[1. 1. 1.]  \n",
      " K-point 7 : coord in rec.lattice = [   0.031111  ,   0.484444 ,    0.500000 ], refinement level:0, dK=[1. 1. 1.]  \n",
      " K-point 8 : coord in rec.lattice = [   0.035556  ,   0.482222 ,    0.500000 ], refinement level:0, dK=[1. 1. 1.]  \n",
      " K-point 9 : coord in rec.lattice = [   0.040000  ,   0.480000 ,    0.500000 ], refinement level:0, dK=[1. 1. 1.]  \n",
      " K-point 10 : coord in rec.lattice = [   0.044444  ,   0.477778 ,    0.500000 ], refinement level:0, dK=[1. 1. 1.]  \n",
      " K-point 11 : coord in rec.lattice = [   0.048889  ,   0.475556 ,    0.500000 ], refinement level:0, dK=[1. 1. 1.]  \n",
      " K-point 12 : coord in rec.lattice = [   0.053333  ,   0.473333 ,    0.500000 ], refinement level:0, dK=[1. 1. 1.]  \n",
      " K-point 13 : coord in rec.lattice = [   0.057778  ,   0.471111 ,    0.500000 ], refinement level:0, dK=[1. 1. 1.]  \n",
      " K-point 14 : coord in rec.lattice = [   0.062222  ,   0.468889 ,    0.500000 ], refinement level:0, dK=[1. 1. 1.]  \n",
      " K-point 15 : coord in rec.lattice = [   0.066667  ,   0.466667 ,    0.500000 ], refinement level:0, dK=[1. 1. 1.]  \n",
      " K-point 16 : coord in rec.lattice = [   0.071111  ,   0.464444 ,    0.500000 ], refinement level:0, dK=[1. 1. 1.]  \n",
      " K-point 17 : coord in rec.lattice = [   0.075556  ,   0.462222 ,    0.500000 ], refinement level:0, dK=[1. 1. 1.]  \n",
      " K-point 18 : coord in rec.lattice = [   0.080000  ,   0.460000 ,    0.500000 ], refinement level:0, dK=[1. 1. 1.]  \n",
      " K-point 19 : coord in rec.lattice = [   0.084444  ,   0.457778 ,    0.500000 ], refinement level:0, dK=[1. 1. 1.]  \n",
      " K-point 20 : coord in rec.lattice = [   0.088889  ,   0.455556 ,    0.500000 ], refinement level:0, dK=[1. 1. 1.]  \n",
      " K-point 21 : coord in rec.lattice = [   0.093333  ,   0.453333 ,    0.500000 ], refinement level:0, dK=[1. 1. 1.]  \n",
      " K-point 22 : coord in rec.lattice = [   0.097778  ,   0.451111 ,    0.500000 ], refinement level:0, dK=[1. 1. 1.]  \n",
      " K-point 23 : coord in rec.lattice = [   0.102222  ,   0.448889 ,    0.500000 ], refinement level:0, dK=[1. 1. 1.]  \n",
      " K-point 24 : coord in rec.lattice = [   0.106667  ,   0.446667 ,    0.500000 ], refinement level:0, dK=[1. 1. 1.]  \n",
      " K-point 25 : coord in rec.lattice = [   0.111111  ,   0.444444 ,    0.500000 ], refinement level:0, dK=[1. 1. 1.]  \n",
      " K-point 26 : coord in rec.lattice = [   0.115556  ,   0.442222 ,    0.500000 ], refinement level:0, dK=[1. 1. 1.]  \n",
      " K-point 27 : coord in rec.lattice = [   0.120000  ,   0.440000 ,    0.500000 ], refinement level:0, dK=[1. 1. 1.]  \n",
      " K-point 28 : coord in rec.lattice = [   0.124444  ,   0.437778 ,    0.500000 ], refinement level:0, dK=[1. 1. 1.]  \n",
      " K-point 29 : coord in rec.lattice = [   0.128889  ,   0.435556 ,    0.500000 ], refinement level:0, dK=[1. 1. 1.]  \n",
      " K-point 30 : coord in rec.lattice = [   0.133333  ,   0.433333 ,    0.500000 ], refinement level:0, dK=[1. 1. 1.]  \n",
      " K-point 31 : coord in rec.lattice = [   0.137778  ,   0.431111 ,    0.500000 ], refinement level:0, dK=[1. 1. 1.]  \n",
      " K-point 32 : coord in rec.lattice = [   0.142222  ,   0.428889 ,    0.500000 ], refinement level:0, dK=[1. 1. 1.]  \n",
      " K-point 33 : coord in rec.lattice = [   0.146667  ,   0.426667 ,    0.500000 ], refinement level:0, dK=[1. 1. 1.]  \n",
      " K-point 34 : coord in rec.lattice = [   0.151111  ,   0.424444 ,    0.500000 ], refinement level:0, dK=[1. 1. 1.]  \n",
      " K-point 35 : coord in rec.lattice = [   0.155556  ,   0.422222 ,    0.500000 ], refinement level:0, dK=[1. 1. 1.]  \n",
      " K-point 36 : coord in rec.lattice = [   0.160000  ,   0.420000 ,    0.500000 ], refinement level:0, dK=[1. 1. 1.]  \n",
      " K-point 37 : coord in rec.lattice = [   0.164444  ,   0.417778 ,    0.500000 ], refinement level:0, dK=[1. 1. 1.]  \n",
      " K-point 38 : coord in rec.lattice = [   0.168889  ,   0.415556 ,    0.500000 ], refinement level:0, dK=[1. 1. 1.]  \n",
      " K-point 39 : coord in rec.lattice = [   0.173333  ,   0.413333 ,    0.500000 ], refinement level:0, dK=[1. 1. 1.]  \n",
      " K-point 40 : coord in rec.lattice = [   0.177778  ,   0.411111 ,    0.500000 ], refinement level:0, dK=[1. 1. 1.]  \n",
      " K-point 41 : coord in rec.lattice = [   0.182222  ,   0.408889 ,    0.500000 ], refinement level:0, dK=[1. 1. 1.]  \n",
      " K-point 42 : coord in rec.lattice = [   0.186667  ,   0.406667 ,    0.500000 ], refinement level:0, dK=[1. 1. 1.]  \n",
      " K-point 43 : coord in rec.lattice = [   0.191111  ,   0.404444 ,    0.500000 ], refinement level:0, dK=[1. 1. 1.]  \n",
      " K-point 44 : coord in rec.lattice = [   0.195556  ,   0.402222 ,    0.500000 ], refinement level:0, dK=[1. 1. 1.]  \n",
      " K-point 45 : coord in rec.lattice = [   0.200000  ,   0.400000 ,    0.500000 ], refinement level:0, dK=[1. 1. 1.]  \n",
      " K-point 46 : coord in rec.lattice = [   0.204444  ,   0.397778 ,    0.500000 ], refinement level:0, dK=[1. 1. 1.]  \n",
      " K-point 47 : coord in rec.lattice = [   0.208889  ,   0.395556 ,    0.500000 ], refinement level:0, dK=[1. 1. 1.]  \n",
      " K-point 48 : coord in rec.lattice = [   0.213333  ,   0.393333 ,    0.500000 ], refinement level:0, dK=[1. 1. 1.]  \n",
      " K-point 49 : coord in rec.lattice = [   0.217778  ,   0.391111 ,    0.500000 ], refinement level:0, dK=[1. 1. 1.]  \n",
      " K-point 50 : coord in rec.lattice = [   0.222222  ,   0.388889 ,    0.500000 ], refinement level:0, dK=[1. 1. 1.]  \n",
      " K-point 51 : coord in rec.lattice = [   0.226667  ,   0.386667 ,    0.500000 ], refinement level:0, dK=[1. 1. 1.]  \n",
      " K-point 52 : coord in rec.lattice = [   0.231111  ,   0.384444 ,    0.500000 ], refinement level:0, dK=[1. 1. 1.]  \n",
      " K-point 53 : coord in rec.lattice = [   0.235556  ,   0.382222 ,    0.500000 ], refinement level:0, dK=[1. 1. 1.]  \n",
      " K-point 54 : coord in rec.lattice = [   0.240000  ,   0.380000 ,    0.500000 ], refinement level:0, dK=[1. 1. 1.]  \n",
      " K-point 55 : coord in rec.lattice = [   0.244444  ,   0.377778 ,    0.500000 ], refinement level:0, dK=[1. 1. 1.]  \n",
      " K-point 56 : coord in rec.lattice = [   0.248889  ,   0.375556 ,    0.500000 ], refinement level:0, dK=[1. 1. 1.]  \n",
      " K-point 57 : coord in rec.lattice = [   0.253333  ,   0.373333 ,    0.500000 ], refinement level:0, dK=[1. 1. 1.]  \n",
      " K-point 58 : coord in rec.lattice = [   0.257778  ,   0.371111 ,    0.500000 ], refinement level:0, dK=[1. 1. 1.]  \n",
      " K-point 59 : coord in rec.lattice = [   0.262222  ,   0.368889 ,    0.500000 ], refinement level:0, dK=[1. 1. 1.]  \n",
      " K-point 60 : coord in rec.lattice = [   0.266667  ,   0.366667 ,    0.500000 ], refinement level:0, dK=[1. 1. 1.]  \n",
      " K-point 61 : coord in rec.lattice = [   0.271111  ,   0.364444 ,    0.500000 ], refinement level:0, dK=[1. 1. 1.]  \n",
      " K-point 62 : coord in rec.lattice = [   0.275556  ,   0.362222 ,    0.500000 ], refinement level:0, dK=[1. 1. 1.]  \n",
      " K-point 63 : coord in rec.lattice = [   0.280000  ,   0.360000 ,    0.500000 ], refinement level:0, dK=[1. 1. 1.]  \n",
      " K-point 64 : coord in rec.lattice = [   0.284444  ,   0.357778 ,    0.500000 ], refinement level:0, dK=[1. 1. 1.]  \n",
      " K-point 65 : coord in rec.lattice = [   0.288889  ,   0.355556 ,    0.500000 ], refinement level:0, dK=[1. 1. 1.]  \n",
      " K-point 66 : coord in rec.lattice = [   0.293333  ,   0.353333 ,    0.500000 ], refinement level:0, dK=[1. 1. 1.]  \n",
      " K-point 67 : coord in rec.lattice = [   0.297778  ,   0.351111 ,    0.500000 ], refinement level:0, dK=[1. 1. 1.]  \n",
      " K-point 68 : coord in rec.lattice = [   0.302222  ,   0.348889 ,    0.500000 ], refinement level:0, dK=[1. 1. 1.]  \n",
      " K-point 69 : coord in rec.lattice = [   0.306667  ,   0.346667 ,    0.500000 ], refinement level:0, dK=[1. 1. 1.]  \n",
      " K-point 70 : coord in rec.lattice = [   0.311111  ,   0.344444 ,    0.500000 ], refinement level:0, dK=[1. 1. 1.]  \n",
      " K-point 71 : coord in rec.lattice = [   0.315556  ,   0.342222 ,    0.500000 ], refinement level:0, dK=[1. 1. 1.]  \n",
      " K-point 72 : coord in rec.lattice = [   0.320000  ,   0.340000 ,    0.500000 ], refinement level:0, dK=[1. 1. 1.]  \n",
      " K-point 73 : coord in rec.lattice = [   0.324444  ,   0.337778 ,    0.500000 ], refinement level:0, dK=[1. 1. 1.]  \n",
      " K-point 74 : coord in rec.lattice = [   0.328889  ,   0.335556 ,    0.500000 ], refinement level:0, dK=[1. 1. 1.]  \n",
      " K-point 75 : coord in rec.lattice = [   0.333333  ,   0.333333 ,    0.500000 ], refinement level:0, dK=[1. 1. 1.]  \n",
      " K-point 76 : coord in rec.lattice = [   0.337778  ,   0.331111 ,    0.500000 ], refinement level:0, dK=[1. 1. 1.]  \n",
      " K-point 77 : coord in rec.lattice = [   0.342222  ,   0.328889 ,    0.500000 ], refinement level:0, dK=[1. 1. 1.]  \n",
      " K-point 78 : coord in rec.lattice = [   0.346667  ,   0.326667 ,    0.500000 ], refinement level:0, dK=[1. 1. 1.]  \n",
      " K-point 79 : coord in rec.lattice = [   0.351111  ,   0.324444 ,    0.500000 ], refinement level:0, dK=[1. 1. 1.]  \n",
      " K-point 80 : coord in rec.lattice = [   0.355556  ,   0.322222 ,    0.500000 ], refinement level:0, dK=[1. 1. 1.]  \n"
     ]
    },
    {
     "name": "stdout",
     "output_type": "stream",
     "text": [
      " K-point 81 : coord in rec.lattice = [   0.360000  ,   0.320000 ,    0.500000 ], refinement level:0, dK=[1. 1. 1.]  \n",
      " K-point 82 : coord in rec.lattice = [   0.364444  ,   0.317778 ,    0.500000 ], refinement level:0, dK=[1. 1. 1.]  \n",
      " K-point 83 : coord in rec.lattice = [   0.368889  ,   0.315556 ,    0.500000 ], refinement level:0, dK=[1. 1. 1.]  \n",
      " K-point 84 : coord in rec.lattice = [   0.373333  ,   0.313333 ,    0.500000 ], refinement level:0, dK=[1. 1. 1.]  \n",
      " K-point 85 : coord in rec.lattice = [   0.377778  ,   0.311111 ,    0.500000 ], refinement level:0, dK=[1. 1. 1.]  \n",
      " K-point 86 : coord in rec.lattice = [   0.382222  ,   0.308889 ,    0.500000 ], refinement level:0, dK=[1. 1. 1.]  \n",
      " K-point 87 : coord in rec.lattice = [   0.386667  ,   0.306667 ,    0.500000 ], refinement level:0, dK=[1. 1. 1.]  \n",
      " K-point 88 : coord in rec.lattice = [   0.391111  ,   0.304444 ,    0.500000 ], refinement level:0, dK=[1. 1. 1.]  \n",
      " K-point 89 : coord in rec.lattice = [   0.395556  ,   0.302222 ,    0.500000 ], refinement level:0, dK=[1. 1. 1.]  \n",
      " K-point 90 : coord in rec.lattice = [   0.400000  ,   0.300000 ,    0.500000 ], refinement level:0, dK=[1. 1. 1.]  \n",
      " K-point 91 : coord in rec.lattice = [   0.404444  ,   0.297778 ,    0.500000 ], refinement level:0, dK=[1. 1. 1.]  \n",
      " K-point 92 : coord in rec.lattice = [   0.408889  ,   0.295556 ,    0.500000 ], refinement level:0, dK=[1. 1. 1.]  \n",
      " K-point 93 : coord in rec.lattice = [   0.413333  ,   0.293333 ,    0.500000 ], refinement level:0, dK=[1. 1. 1.]  \n",
      " K-point 94 : coord in rec.lattice = [   0.417778  ,   0.291111 ,    0.500000 ], refinement level:0, dK=[1. 1. 1.]  \n",
      " K-point 95 : coord in rec.lattice = [   0.422222  ,   0.288889 ,    0.500000 ], refinement level:0, dK=[1. 1. 1.]  \n",
      " K-point 96 : coord in rec.lattice = [   0.426667  ,   0.286667 ,    0.500000 ], refinement level:0, dK=[1. 1. 1.]  \n",
      " K-point 97 : coord in rec.lattice = [   0.431111  ,   0.284444 ,    0.500000 ], refinement level:0, dK=[1. 1. 1.]  \n",
      " K-point 98 : coord in rec.lattice = [   0.435556  ,   0.282222 ,    0.500000 ], refinement level:0, dK=[1. 1. 1.]  \n",
      " K-point 99 : coord in rec.lattice = [   0.440000  ,   0.280000 ,    0.500000 ], refinement level:0, dK=[1. 1. 1.]  \n",
      " K-point 100 : coord in rec.lattice = [   0.444444  ,   0.277778 ,    0.500000 ], refinement level:0, dK=[1. 1. 1.]  \n",
      " K-point 101 : coord in rec.lattice = [   0.448889  ,   0.275556 ,    0.500000 ], refinement level:0, dK=[1. 1. 1.]  \n",
      " K-point 102 : coord in rec.lattice = [   0.453333  ,   0.273333 ,    0.500000 ], refinement level:0, dK=[1. 1. 1.]  \n",
      " K-point 103 : coord in rec.lattice = [   0.457778  ,   0.271111 ,    0.500000 ], refinement level:0, dK=[1. 1. 1.]  \n",
      " K-point 104 : coord in rec.lattice = [   0.462222  ,   0.268889 ,    0.500000 ], refinement level:0, dK=[1. 1. 1.]  \n",
      " K-point 105 : coord in rec.lattice = [   0.466667  ,   0.266667 ,    0.500000 ], refinement level:0, dK=[1. 1. 1.]  \n",
      " K-point 106 : coord in rec.lattice = [   0.471111  ,   0.264444 ,    0.500000 ], refinement level:0, dK=[1. 1. 1.]  \n",
      " K-point 107 : coord in rec.lattice = [   0.475556  ,   0.262222 ,    0.500000 ], refinement level:0, dK=[1. 1. 1.]  \n",
      " K-point 108 : coord in rec.lattice = [   0.480000  ,   0.260000 ,    0.500000 ], refinement level:0, dK=[1. 1. 1.]  \n",
      " K-point 109 : coord in rec.lattice = [   0.484444  ,   0.257778 ,    0.500000 ], refinement level:0, dK=[1. 1. 1.]  \n",
      " K-point 110 : coord in rec.lattice = [   0.488889  ,   0.255556 ,    0.500000 ], refinement level:0, dK=[1. 1. 1.]  \n",
      " K-point 111 : coord in rec.lattice = [   0.493333  ,   0.253333 ,    0.500000 ], refinement level:0, dK=[1. 1. 1.]  \n",
      " K-point 112 : coord in rec.lattice = [   0.497778  ,   0.251111 ,    0.500000 ], refinement level:0, dK=[1. 1. 1.]  \n",
      " K-point 113 : coord in rec.lattice = [   0.502222  ,   0.248889 ,    0.500000 ], refinement level:0, dK=[1. 1. 1.]  \n",
      " K-point 114 : coord in rec.lattice = [   0.506667  ,   0.246667 ,    0.500000 ], refinement level:0, dK=[1. 1. 1.]  \n",
      " K-point 115 : coord in rec.lattice = [   0.511111  ,   0.244444 ,    0.500000 ], refinement level:0, dK=[1. 1. 1.]  \n",
      " K-point 116 : coord in rec.lattice = [   0.515556  ,   0.242222 ,    0.500000 ], refinement level:0, dK=[1. 1. 1.]  \n",
      " K-point 117 : coord in rec.lattice = [   0.520000  ,   0.240000 ,    0.500000 ], refinement level:0, dK=[1. 1. 1.]  \n",
      " K-point 118 : coord in rec.lattice = [   0.524444  ,   0.237778 ,    0.500000 ], refinement level:0, dK=[1. 1. 1.]  \n",
      " K-point 119 : coord in rec.lattice = [   0.528889  ,   0.235556 ,    0.500000 ], refinement level:0, dK=[1. 1. 1.]  \n",
      " K-point 120 : coord in rec.lattice = [   0.533333  ,   0.233333 ,    0.500000 ], refinement level:0, dK=[1. 1. 1.]  \n",
      " K-point 121 : coord in rec.lattice = [   0.537778  ,   0.231111 ,    0.500000 ], refinement level:0, dK=[1. 1. 1.]  \n",
      " K-point 122 : coord in rec.lattice = [   0.542222  ,   0.228889 ,    0.500000 ], refinement level:0, dK=[1. 1. 1.]  \n",
      " K-point 123 : coord in rec.lattice = [   0.546667  ,   0.226667 ,    0.500000 ], refinement level:0, dK=[1. 1. 1.]  \n",
      " K-point 124 : coord in rec.lattice = [   0.551111  ,   0.224444 ,    0.500000 ], refinement level:0, dK=[1. 1. 1.]  \n",
      " K-point 125 : coord in rec.lattice = [   0.555556  ,   0.222222 ,    0.500000 ], refinement level:0, dK=[1. 1. 1.]  \n",
      " K-point 126 : coord in rec.lattice = [   0.560000  ,   0.220000 ,    0.500000 ], refinement level:0, dK=[1. 1. 1.]  \n",
      " K-point 127 : coord in rec.lattice = [   0.564444  ,   0.217778 ,    0.500000 ], refinement level:0, dK=[1. 1. 1.]  \n",
      " K-point 128 : coord in rec.lattice = [   0.568889  ,   0.215556 ,    0.500000 ], refinement level:0, dK=[1. 1. 1.]  \n",
      " K-point 129 : coord in rec.lattice = [   0.573333  ,   0.213333 ,    0.500000 ], refinement level:0, dK=[1. 1. 1.]  \n",
      " K-point 130 : coord in rec.lattice = [   0.577778  ,   0.211111 ,    0.500000 ], refinement level:0, dK=[1. 1. 1.]  \n",
      " K-point 131 : coord in rec.lattice = [   0.582222  ,   0.208889 ,    0.500000 ], refinement level:0, dK=[1. 1. 1.]  \n",
      " K-point 132 : coord in rec.lattice = [   0.586667  ,   0.206667 ,    0.500000 ], refinement level:0, dK=[1. 1. 1.]  \n",
      " K-point 133 : coord in rec.lattice = [   0.591111  ,   0.204444 ,    0.500000 ], refinement level:0, dK=[1. 1. 1.]  \n",
      " K-point 134 : coord in rec.lattice = [   0.595556  ,   0.202222 ,    0.500000 ], refinement level:0, dK=[1. 1. 1.]  \n",
      " K-point 135 : coord in rec.lattice = [   0.600000  ,   0.200000 ,    0.500000 ], refinement level:0, dK=[1. 1. 1.]  \n",
      " K-point 136 : coord in rec.lattice = [   0.604444  ,   0.197778 ,    0.500000 ], refinement level:0, dK=[1. 1. 1.]  \n",
      " K-point 137 : coord in rec.lattice = [   0.608889  ,   0.195556 ,    0.500000 ], refinement level:0, dK=[1. 1. 1.]  \n",
      " K-point 138 : coord in rec.lattice = [   0.613333  ,   0.193333 ,    0.500000 ], refinement level:0, dK=[1. 1. 1.]  \n",
      " K-point 139 : coord in rec.lattice = [   0.617778  ,   0.191111 ,    0.500000 ], refinement level:0, dK=[1. 1. 1.]  \n",
      " K-point 140 : coord in rec.lattice = [   0.622222  ,   0.188889 ,    0.500000 ], refinement level:0, dK=[1. 1. 1.]  \n",
      " K-point 141 : coord in rec.lattice = [   0.626667  ,   0.186667 ,    0.500000 ], refinement level:0, dK=[1. 1. 1.]  \n",
      " K-point 142 : coord in rec.lattice = [   0.631111  ,   0.184444 ,    0.500000 ], refinement level:0, dK=[1. 1. 1.]  \n",
      " K-point 143 : coord in rec.lattice = [   0.635556  ,   0.182222 ,    0.500000 ], refinement level:0, dK=[1. 1. 1.]  \n",
      " K-point 144 : coord in rec.lattice = [   0.640000  ,   0.180000 ,    0.500000 ], refinement level:0, dK=[1. 1. 1.]  \n",
      " K-point 145 : coord in rec.lattice = [   0.644444  ,   0.177778 ,    0.500000 ], refinement level:0, dK=[1. 1. 1.]  \n",
      " K-point 146 : coord in rec.lattice = [   0.648889  ,   0.175556 ,    0.500000 ], refinement level:0, dK=[1. 1. 1.]  \n",
      " K-point 147 : coord in rec.lattice = [   0.653333  ,   0.173333 ,    0.500000 ], refinement level:0, dK=[1. 1. 1.]  \n",
      " K-point 148 : coord in rec.lattice = [   0.657778  ,   0.171111 ,    0.500000 ], refinement level:0, dK=[1. 1. 1.]  \n",
      " K-point 149 : coord in rec.lattice = [   0.662222  ,   0.168889 ,    0.500000 ], refinement level:0, dK=[1. 1. 1.]  \n",
      " K-point 150 : coord in rec.lattice = [   0.666667  ,   0.166667 ,    0.500000 ], refinement level:0, dK=[1. 1. 1.]  \n",
      " K-point 151 : coord in rec.lattice = [   0.671111  ,   0.164444 ,    0.500000 ], refinement level:0, dK=[1. 1. 1.]  \n",
      " K-point 152 : coord in rec.lattice = [   0.675556  ,   0.162222 ,    0.500000 ], refinement level:0, dK=[1. 1. 1.]  \n",
      " K-point 153 : coord in rec.lattice = [   0.680000  ,   0.160000 ,    0.500000 ], refinement level:0, dK=[1. 1. 1.]  \n",
      " K-point 154 : coord in rec.lattice = [   0.684444  ,   0.157778 ,    0.500000 ], refinement level:0, dK=[1. 1. 1.]  \n",
      " K-point 155 : coord in rec.lattice = [   0.688889  ,   0.155556 ,    0.500000 ], refinement level:0, dK=[1. 1. 1.]  \n",
      " K-point 156 : coord in rec.lattice = [   0.693333  ,   0.153333 ,    0.500000 ], refinement level:0, dK=[1. 1. 1.]  \n",
      " K-point 157 : coord in rec.lattice = [   0.697778  ,   0.151111 ,    0.500000 ], refinement level:0, dK=[1. 1. 1.]  \n",
      " K-point 158 : coord in rec.lattice = [   0.702222  ,   0.148889 ,    0.500000 ], refinement level:0, dK=[1. 1. 1.]  \n",
      " K-point 159 : coord in rec.lattice = [   0.706667  ,   0.146667 ,    0.500000 ], refinement level:0, dK=[1. 1. 1.]  \n",
      " K-point 160 : coord in rec.lattice = [   0.711111  ,   0.144444 ,    0.500000 ], refinement level:0, dK=[1. 1. 1.]  \n",
      " K-point 161 : coord in rec.lattice = [   0.715556  ,   0.142222 ,    0.500000 ], refinement level:0, dK=[1. 1. 1.]  \n",
      " K-point 162 : coord in rec.lattice = [   0.720000  ,   0.140000 ,    0.500000 ], refinement level:0, dK=[1. 1. 1.]  \n",
      " K-point 163 : coord in rec.lattice = [   0.724444  ,   0.137778 ,    0.500000 ], refinement level:0, dK=[1. 1. 1.]  \n",
      " K-point 164 : coord in rec.lattice = [   0.728889  ,   0.135556 ,    0.500000 ], refinement level:0, dK=[1. 1. 1.]  \n",
      " K-point 165 : coord in rec.lattice = [   0.733333  ,   0.133333 ,    0.500000 ], refinement level:0, dK=[1. 1. 1.]  \n",
      " K-point 166 : coord in rec.lattice = [   0.737778  ,   0.131111 ,    0.500000 ], refinement level:0, dK=[1. 1. 1.]  \n",
      " K-point 167 : coord in rec.lattice = [   0.742222  ,   0.128889 ,    0.500000 ], refinement level:0, dK=[1. 1. 1.]  \n",
      " K-point 168 : coord in rec.lattice = [   0.746667  ,   0.126667 ,    0.500000 ], refinement level:0, dK=[1. 1. 1.]  \n",
      " K-point 169 : coord in rec.lattice = [   0.751111  ,   0.124444 ,    0.500000 ], refinement level:0, dK=[1. 1. 1.]  \n",
      " K-point 170 : coord in rec.lattice = [   0.755556  ,   0.122222 ,    0.500000 ], refinement level:0, dK=[1. 1. 1.]  \n",
      " K-point 171 : coord in rec.lattice = [   0.760000  ,   0.120000 ,    0.500000 ], refinement level:0, dK=[1. 1. 1.]  \n",
      " K-point 172 : coord in rec.lattice = [   0.764444  ,   0.117778 ,    0.500000 ], refinement level:0, dK=[1. 1. 1.]  \n",
      " K-point 173 : coord in rec.lattice = [   0.768889  ,   0.115556 ,    0.500000 ], refinement level:0, dK=[1. 1. 1.]  \n",
      " K-point 174 : coord in rec.lattice = [   0.773333  ,   0.113333 ,    0.500000 ], refinement level:0, dK=[1. 1. 1.]  \n",
      " K-point 175 : coord in rec.lattice = [   0.777778  ,   0.111111 ,    0.500000 ], refinement level:0, dK=[1. 1. 1.]  \n",
      " K-point 176 : coord in rec.lattice = [   0.782222  ,   0.108889 ,    0.500000 ], refinement level:0, dK=[1. 1. 1.]  \n",
      " K-point 177 : coord in rec.lattice = [   0.786667  ,   0.106667 ,    0.500000 ], refinement level:0, dK=[1. 1. 1.]  \n",
      " K-point 178 : coord in rec.lattice = [   0.791111  ,   0.104444 ,    0.500000 ], refinement level:0, dK=[1. 1. 1.]  \n",
      " K-point 179 : coord in rec.lattice = [   0.795556  ,   0.102222 ,    0.500000 ], refinement level:0, dK=[1. 1. 1.]  \n",
      " K-point 180 : coord in rec.lattice = [   0.800000  ,   0.100000 ,    0.500000 ], refinement level:0, dK=[1. 1. 1.]  \n",
      " K-point 181 : coord in rec.lattice = [   0.804444  ,   0.097778 ,    0.500000 ], refinement level:0, dK=[1. 1. 1.]  \n",
      " K-point 182 : coord in rec.lattice = [   0.808889  ,   0.095556 ,    0.500000 ], refinement level:0, dK=[1. 1. 1.]  \n",
      " K-point 183 : coord in rec.lattice = [   0.813333  ,   0.093333 ,    0.500000 ], refinement level:0, dK=[1. 1. 1.]  \n",
      " K-point 184 : coord in rec.lattice = [   0.817778  ,   0.091111 ,    0.500000 ], refinement level:0, dK=[1. 1. 1.]  \n",
      " K-point 185 : coord in rec.lattice = [   0.822222  ,   0.088889 ,    0.500000 ], refinement level:0, dK=[1. 1. 1.]  \n",
      " K-point 186 : coord in rec.lattice = [   0.826667  ,   0.086667 ,    0.500000 ], refinement level:0, dK=[1. 1. 1.]  \n",
      " K-point 187 : coord in rec.lattice = [   0.831111  ,   0.084444 ,    0.500000 ], refinement level:0, dK=[1. 1. 1.]  \n",
      " K-point 188 : coord in rec.lattice = [   0.835556  ,   0.082222 ,    0.500000 ], refinement level:0, dK=[1. 1. 1.]  \n",
      " K-point 189 : coord in rec.lattice = [   0.840000  ,   0.080000 ,    0.500000 ], refinement level:0, dK=[1. 1. 1.]  \n",
      " K-point 190 : coord in rec.lattice = [   0.844444  ,   0.077778 ,    0.500000 ], refinement level:0, dK=[1. 1. 1.]  \n",
      " K-point 191 : coord in rec.lattice = [   0.848889  ,   0.075556 ,    0.500000 ], refinement level:0, dK=[1. 1. 1.]  \n",
      " K-point 192 : coord in rec.lattice = [   0.853333  ,   0.073333 ,    0.500000 ], refinement level:0, dK=[1. 1. 1.]  \n",
      " K-point 193 : coord in rec.lattice = [   0.857778  ,   0.071111 ,    0.500000 ], refinement level:0, dK=[1. 1. 1.]  \n",
      " K-point 194 : coord in rec.lattice = [   0.862222  ,   0.068889 ,    0.500000 ], refinement level:0, dK=[1. 1. 1.]  \n",
      " K-point 195 : coord in rec.lattice = [   0.866667  ,   0.066667 ,    0.500000 ], refinement level:0, dK=[1. 1. 1.]  \n",
      " K-point 196 : coord in rec.lattice = [   0.871111  ,   0.064444 ,    0.500000 ], refinement level:0, dK=[1. 1. 1.]  \n",
      " K-point 197 : coord in rec.lattice = [   0.875556  ,   0.062222 ,    0.500000 ], refinement level:0, dK=[1. 1. 1.]  \n",
      " K-point 198 : coord in rec.lattice = [   0.880000  ,   0.060000 ,    0.500000 ], refinement level:0, dK=[1. 1. 1.]  \n",
      " K-point 199 : coord in rec.lattice = [   0.884444  ,   0.057778 ,    0.500000 ], refinement level:0, dK=[1. 1. 1.]  \n",
      " K-point 200 : coord in rec.lattice = [   0.888889  ,   0.055556 ,    0.500000 ], refinement level:0, dK=[1. 1. 1.]  \n",
      " K-point 201 : coord in rec.lattice = [   0.893333  ,   0.053333 ,    0.500000 ], refinement level:0, dK=[1. 1. 1.]  \n",
      " K-point 202 : coord in rec.lattice = [   0.897778  ,   0.051111 ,    0.500000 ], refinement level:0, dK=[1. 1. 1.]  \n",
      " K-point 203 : coord in rec.lattice = [   0.902222  ,   0.048889 ,    0.500000 ], refinement level:0, dK=[1. 1. 1.]  \n",
      " K-point 204 : coord in rec.lattice = [   0.906667  ,   0.046667 ,    0.500000 ], refinement level:0, dK=[1. 1. 1.]  \n",
      " K-point 205 : coord in rec.lattice = [   0.911111  ,   0.044444 ,    0.500000 ], refinement level:0, dK=[1. 1. 1.]  \n",
      " K-point 206 : coord in rec.lattice = [   0.915556  ,   0.042222 ,    0.500000 ], refinement level:0, dK=[1. 1. 1.]  \n",
      " K-point 207 : coord in rec.lattice = [   0.920000  ,   0.040000 ,    0.500000 ], refinement level:0, dK=[1. 1. 1.]  \n",
      " K-point 208 : coord in rec.lattice = [   0.924444  ,   0.037778 ,    0.500000 ], refinement level:0, dK=[1. 1. 1.]  \n",
      " K-point 209 : coord in rec.lattice = [   0.928889  ,   0.035556 ,    0.500000 ], refinement level:0, dK=[1. 1. 1.]  \n",
      " K-point 210 : coord in rec.lattice = [   0.933333  ,   0.033333 ,    0.500000 ], refinement level:0, dK=[1. 1. 1.]  \n",
      " K-point 211 : coord in rec.lattice = [   0.937778  ,   0.031111 ,    0.500000 ], refinement level:0, dK=[1. 1. 1.]  \n",
      " K-point 212 : coord in rec.lattice = [   0.942222  ,   0.028889 ,    0.500000 ], refinement level:0, dK=[1. 1. 1.]  \n",
      " K-point 213 : coord in rec.lattice = [   0.946667  ,   0.026667 ,    0.500000 ], refinement level:0, dK=[1. 1. 1.]  \n",
      " K-point 214 : coord in rec.lattice = [   0.951111  ,   0.024444 ,    0.500000 ], refinement level:0, dK=[1. 1. 1.]  \n",
      " K-point 215 : coord in rec.lattice = [   0.955556  ,   0.022222 ,    0.500000 ], refinement level:0, dK=[1. 1. 1.]  \n",
      " K-point 216 : coord in rec.lattice = [   0.960000  ,   0.020000 ,    0.500000 ], refinement level:0, dK=[1. 1. 1.]  \n",
      " K-point 217 : coord in rec.lattice = [   0.964444  ,   0.017778 ,    0.500000 ], refinement level:0, dK=[1. 1. 1.]  \n",
      " K-point 218 : coord in rec.lattice = [   0.968889  ,   0.015556 ,    0.500000 ], refinement level:0, dK=[1. 1. 1.]  \n",
      " K-point 219 : coord in rec.lattice = [   0.973333  ,   0.013333 ,    0.500000 ], refinement level:0, dK=[1. 1. 1.]  \n",
      " K-point 220 : coord in rec.lattice = [   0.977778  ,   0.011111 ,    0.500000 ], refinement level:0, dK=[1. 1. 1.]  \n",
      " K-point 221 : coord in rec.lattice = [   0.982222  ,   0.008889 ,    0.500000 ], refinement level:0, dK=[1. 1. 1.]  \n",
      " K-point 222 : coord in rec.lattice = [   0.986667  ,   0.006667 ,    0.500000 ], refinement level:0, dK=[1. 1. 1.]  \n",
      " K-point 223 : coord in rec.lattice = [   0.991111  ,   0.004444 ,    0.500000 ], refinement level:0, dK=[1. 1. 1.]  \n",
      " K-point 224 : coord in rec.lattice = [   0.995556  ,   0.002222 ,    0.500000 ], refinement level:0, dK=[1. 1. 1.]  \n",
      " K-point 225 : coord in rec.lattice = [   0.500000  ,   0.000000 ,    0.500000 ], refinement level:0, dK=[1. 1. 1.]  \n",
      " K-point 226 : coord in rec.lattice = [   0.497778  ,   0.004444 ,    0.500000 ], refinement level:0, dK=[1. 1. 1.]  \n",
      " K-point 227 : coord in rec.lattice = [   0.495556  ,   0.008889 ,    0.500000 ], refinement level:0, dK=[1. 1. 1.]  \n",
      " K-point 228 : coord in rec.lattice = [   0.493333  ,   0.013333 ,    0.500000 ], refinement level:0, dK=[1. 1. 1.]  \n",
      " K-point 229 : coord in rec.lattice = [   0.491111  ,   0.017778 ,    0.500000 ], refinement level:0, dK=[1. 1. 1.]  \n",
      " K-point 230 : coord in rec.lattice = [   0.488889  ,   0.022222 ,    0.500000 ], refinement level:0, dK=[1. 1. 1.]  \n",
      " K-point 231 : coord in rec.lattice = [   0.486667  ,   0.026667 ,    0.500000 ], refinement level:0, dK=[1. 1. 1.]  \n",
      " K-point 232 : coord in rec.lattice = [   0.484444  ,   0.031111 ,    0.500000 ], refinement level:0, dK=[1. 1. 1.]  \n",
      " K-point 233 : coord in rec.lattice = [   0.482222  ,   0.035556 ,    0.500000 ], refinement level:0, dK=[1. 1. 1.]  \n",
      " K-point 234 : coord in rec.lattice = [   0.480000  ,   0.040000 ,    0.500000 ], refinement level:0, dK=[1. 1. 1.]  \n",
      " K-point 235 : coord in rec.lattice = [   0.477778  ,   0.044444 ,    0.500000 ], refinement level:0, dK=[1. 1. 1.]  \n",
      " K-point 236 : coord in rec.lattice = [   0.475556  ,   0.048889 ,    0.500000 ], refinement level:0, dK=[1. 1. 1.]  \n",
      " K-point 237 : coord in rec.lattice = [   0.473333  ,   0.053333 ,    0.500000 ], refinement level:0, dK=[1. 1. 1.]  \n",
      " K-point 238 : coord in rec.lattice = [   0.471111  ,   0.057778 ,    0.500000 ], refinement level:0, dK=[1. 1. 1.]  \n",
      " K-point 239 : coord in rec.lattice = [   0.468889  ,   0.062222 ,    0.500000 ], refinement level:0, dK=[1. 1. 1.]  \n",
      " K-point 240 : coord in rec.lattice = [   0.466667  ,   0.066667 ,    0.500000 ], refinement level:0, dK=[1. 1. 1.]  \n",
      " K-point 241 : coord in rec.lattice = [   0.464444  ,   0.071111 ,    0.500000 ], refinement level:0, dK=[1. 1. 1.]  \n",
      " K-point 242 : coord in rec.lattice = [   0.462222  ,   0.075556 ,    0.500000 ], refinement level:0, dK=[1. 1. 1.]  \n",
      " K-point 243 : coord in rec.lattice = [   0.460000  ,   0.080000 ,    0.500000 ], refinement level:0, dK=[1. 1. 1.]  \n",
      " K-point 244 : coord in rec.lattice = [   0.457778  ,   0.084444 ,    0.500000 ], refinement level:0, dK=[1. 1. 1.]  \n",
      " K-point 245 : coord in rec.lattice = [   0.455556  ,   0.088889 ,    0.500000 ], refinement level:0, dK=[1. 1. 1.]  \n",
      " K-point 246 : coord in rec.lattice = [   0.453333  ,   0.093333 ,    0.500000 ], refinement level:0, dK=[1. 1. 1.]  \n",
      " K-point 247 : coord in rec.lattice = [   0.451111  ,   0.097778 ,    0.500000 ], refinement level:0, dK=[1. 1. 1.]  \n",
      " K-point 248 : coord in rec.lattice = [   0.448889  ,   0.102222 ,    0.500000 ], refinement level:0, dK=[1. 1. 1.]  \n",
      " K-point 249 : coord in rec.lattice = [   0.446667  ,   0.106667 ,    0.500000 ], refinement level:0, dK=[1. 1. 1.]  \n",
      " K-point 250 : coord in rec.lattice = [   0.444444  ,   0.111111 ,    0.500000 ], refinement level:0, dK=[1. 1. 1.]  \n",
      " K-point 251 : coord in rec.lattice = [   0.442222  ,   0.115556 ,    0.500000 ], refinement level:0, dK=[1. 1. 1.]  \n",
      " K-point 252 : coord in rec.lattice = [   0.440000  ,   0.120000 ,    0.500000 ], refinement level:0, dK=[1. 1. 1.]  \n",
      " K-point 253 : coord in rec.lattice = [   0.437778  ,   0.124444 ,    0.500000 ], refinement level:0, dK=[1. 1. 1.]  \n",
      " K-point 254 : coord in rec.lattice = [   0.435556  ,   0.128889 ,    0.500000 ], refinement level:0, dK=[1. 1. 1.]  \n",
      " K-point 255 : coord in rec.lattice = [   0.433333  ,   0.133333 ,    0.500000 ], refinement level:0, dK=[1. 1. 1.]  \n",
      " K-point 256 : coord in rec.lattice = [   0.431111  ,   0.137778 ,    0.500000 ], refinement level:0, dK=[1. 1. 1.]  \n",
      " K-point 257 : coord in rec.lattice = [   0.428889  ,   0.142222 ,    0.500000 ], refinement level:0, dK=[1. 1. 1.]  \n",
      " K-point 258 : coord in rec.lattice = [   0.426667  ,   0.146667 ,    0.500000 ], refinement level:0, dK=[1. 1. 1.]  \n",
      " K-point 259 : coord in rec.lattice = [   0.424444  ,   0.151111 ,    0.500000 ], refinement level:0, dK=[1. 1. 1.]  \n",
      " K-point 260 : coord in rec.lattice = [   0.422222  ,   0.155556 ,    0.500000 ], refinement level:0, dK=[1. 1. 1.]  \n",
      " K-point 261 : coord in rec.lattice = [   0.420000  ,   0.160000 ,    0.500000 ], refinement level:0, dK=[1. 1. 1.]  \n",
      " K-point 262 : coord in rec.lattice = [   0.417778  ,   0.164444 ,    0.500000 ], refinement level:0, dK=[1. 1. 1.]  \n",
      " K-point 263 : coord in rec.lattice = [   0.415556  ,   0.168889 ,    0.500000 ], refinement level:0, dK=[1. 1. 1.]  \n",
      " K-point 264 : coord in rec.lattice = [   0.413333  ,   0.173333 ,    0.500000 ], refinement level:0, dK=[1. 1. 1.]  \n",
      " K-point 265 : coord in rec.lattice = [   0.411111  ,   0.177778 ,    0.500000 ], refinement level:0, dK=[1. 1. 1.]  \n",
      " K-point 266 : coord in rec.lattice = [   0.408889  ,   0.182222 ,    0.500000 ], refinement level:0, dK=[1. 1. 1.]  \n",
      " K-point 267 : coord in rec.lattice = [   0.406667  ,   0.186667 ,    0.500000 ], refinement level:0, dK=[1. 1. 1.]  \n",
      " K-point 268 : coord in rec.lattice = [   0.404444  ,   0.191111 ,    0.500000 ], refinement level:0, dK=[1. 1. 1.]  \n",
      " K-point 269 : coord in rec.lattice = [   0.402222  ,   0.195556 ,    0.500000 ], refinement level:0, dK=[1. 1. 1.]  \n",
      " K-point 270 : coord in rec.lattice = [   0.400000  ,   0.200000 ,    0.500000 ], refinement level:0, dK=[1. 1. 1.]  \n",
      " K-point 271 : coord in rec.lattice = [   0.397778  ,   0.204444 ,    0.500000 ], refinement level:0, dK=[1. 1. 1.]  \n",
      " K-point 272 : coord in rec.lattice = [   0.395556  ,   0.208889 ,    0.500000 ], refinement level:0, dK=[1. 1. 1.]  \n",
      " K-point 273 : coord in rec.lattice = [   0.393333  ,   0.213333 ,    0.500000 ], refinement level:0, dK=[1. 1. 1.]  \n",
      " K-point 274 : coord in rec.lattice = [   0.391111  ,   0.217778 ,    0.500000 ], refinement level:0, dK=[1. 1. 1.]  \n",
      " K-point 275 : coord in rec.lattice = [   0.388889  ,   0.222222 ,    0.500000 ], refinement level:0, dK=[1. 1. 1.]  \n",
      " K-point 276 : coord in rec.lattice = [   0.386667  ,   0.226667 ,    0.500000 ], refinement level:0, dK=[1. 1. 1.]  \n",
      " K-point 277 : coord in rec.lattice = [   0.384444  ,   0.231111 ,    0.500000 ], refinement level:0, dK=[1. 1. 1.]  \n",
      " K-point 278 : coord in rec.lattice = [   0.382222  ,   0.235556 ,    0.500000 ], refinement level:0, dK=[1. 1. 1.]  \n",
      " K-point 279 : coord in rec.lattice = [   0.380000  ,   0.240000 ,    0.500000 ], refinement level:0, dK=[1. 1. 1.]  \n",
      " K-point 280 : coord in rec.lattice = [   0.377778  ,   0.244444 ,    0.500000 ], refinement level:0, dK=[1. 1. 1.]  \n",
      " K-point 281 : coord in rec.lattice = [   0.375556  ,   0.248889 ,    0.500000 ], refinement level:0, dK=[1. 1. 1.]  \n",
      " K-point 282 : coord in rec.lattice = [   0.373333  ,   0.253333 ,    0.500000 ], refinement level:0, dK=[1. 1. 1.]  \n",
      " K-point 283 : coord in rec.lattice = [   0.371111  ,   0.257778 ,    0.500000 ], refinement level:0, dK=[1. 1. 1.]  \n",
      " K-point 284 : coord in rec.lattice = [   0.368889  ,   0.262222 ,    0.500000 ], refinement level:0, dK=[1. 1. 1.]  \n",
      " K-point 285 : coord in rec.lattice = [   0.366667  ,   0.266667 ,    0.500000 ], refinement level:0, dK=[1. 1. 1.]  \n"
     ]
    },
    {
     "name": "stdout",
     "output_type": "stream",
     "text": [
      " K-point 286 : coord in rec.lattice = [   0.364444  ,   0.271111 ,    0.500000 ], refinement level:0, dK=[1. 1. 1.]  \n",
      " K-point 287 : coord in rec.lattice = [   0.362222  ,   0.275556 ,    0.500000 ], refinement level:0, dK=[1. 1. 1.]  \n",
      " K-point 288 : coord in rec.lattice = [   0.360000  ,   0.280000 ,    0.500000 ], refinement level:0, dK=[1. 1. 1.]  \n",
      " K-point 289 : coord in rec.lattice = [   0.357778  ,   0.284444 ,    0.500000 ], refinement level:0, dK=[1. 1. 1.]  \n",
      " K-point 290 : coord in rec.lattice = [   0.355556  ,   0.288889 ,    0.500000 ], refinement level:0, dK=[1. 1. 1.]  \n",
      " K-point 291 : coord in rec.lattice = [   0.353333  ,   0.293333 ,    0.500000 ], refinement level:0, dK=[1. 1. 1.]  \n",
      " K-point 292 : coord in rec.lattice = [   0.351111  ,   0.297778 ,    0.500000 ], refinement level:0, dK=[1. 1. 1.]  \n",
      " K-point 293 : coord in rec.lattice = [   0.348889  ,   0.302222 ,    0.500000 ], refinement level:0, dK=[1. 1. 1.]  \n",
      " K-point 294 : coord in rec.lattice = [   0.346667  ,   0.306667 ,    0.500000 ], refinement level:0, dK=[1. 1. 1.]  \n",
      " K-point 295 : coord in rec.lattice = [   0.344444  ,   0.311111 ,    0.500000 ], refinement level:0, dK=[1. 1. 1.]  \n",
      " K-point 296 : coord in rec.lattice = [   0.342222  ,   0.315556 ,    0.500000 ], refinement level:0, dK=[1. 1. 1.]  \n",
      " K-point 297 : coord in rec.lattice = [   0.340000  ,   0.320000 ,    0.500000 ], refinement level:0, dK=[1. 1. 1.]  \n",
      " K-point 298 : coord in rec.lattice = [   0.337778  ,   0.324444 ,    0.500000 ], refinement level:0, dK=[1. 1. 1.]  \n",
      " K-point 299 : coord in rec.lattice = [   0.335556  ,   0.328889 ,    0.500000 ], refinement level:0, dK=[1. 1. 1.]  \n",
      " K-point 300 : coord in rec.lattice = [   0.333333  ,   0.333333 ,    0.500000 ], refinement level:0, dK=[1. 1. 1.]  \n",
      " K-point 301 : coord in rec.lattice = [   0.331111  ,   0.337778 ,    0.500000 ], refinement level:0, dK=[1. 1. 1.]  \n",
      " K-point 302 : coord in rec.lattice = [   0.328889  ,   0.342222 ,    0.500000 ], refinement level:0, dK=[1. 1. 1.]  \n",
      " K-point 303 : coord in rec.lattice = [   0.326667  ,   0.346667 ,    0.500000 ], refinement level:0, dK=[1. 1. 1.]  \n",
      " K-point 304 : coord in rec.lattice = [   0.324444  ,   0.351111 ,    0.500000 ], refinement level:0, dK=[1. 1. 1.]  \n",
      " K-point 305 : coord in rec.lattice = [   0.322222  ,   0.355556 ,    0.500000 ], refinement level:0, dK=[1. 1. 1.]  \n",
      " K-point 306 : coord in rec.lattice = [   0.320000  ,   0.360000 ,    0.500000 ], refinement level:0, dK=[1. 1. 1.]  \n",
      " K-point 307 : coord in rec.lattice = [   0.317778  ,   0.364444 ,    0.500000 ], refinement level:0, dK=[1. 1. 1.]  \n",
      " K-point 308 : coord in rec.lattice = [   0.315556  ,   0.368889 ,    0.500000 ], refinement level:0, dK=[1. 1. 1.]  \n",
      " K-point 309 : coord in rec.lattice = [   0.313333  ,   0.373333 ,    0.500000 ], refinement level:0, dK=[1. 1. 1.]  \n",
      " K-point 310 : coord in rec.lattice = [   0.311111  ,   0.377778 ,    0.500000 ], refinement level:0, dK=[1. 1. 1.]  \n",
      " K-point 311 : coord in rec.lattice = [   0.308889  ,   0.382222 ,    0.500000 ], refinement level:0, dK=[1. 1. 1.]  \n",
      " K-point 312 : coord in rec.lattice = [   0.306667  ,   0.386667 ,    0.500000 ], refinement level:0, dK=[1. 1. 1.]  \n",
      " K-point 313 : coord in rec.lattice = [   0.304444  ,   0.391111 ,    0.500000 ], refinement level:0, dK=[1. 1. 1.]  \n",
      " K-point 314 : coord in rec.lattice = [   0.302222  ,   0.395556 ,    0.500000 ], refinement level:0, dK=[1. 1. 1.]  \n",
      " K-point 315 : coord in rec.lattice = [   0.300000  ,   0.400000 ,    0.500000 ], refinement level:0, dK=[1. 1. 1.]  \n",
      " K-point 316 : coord in rec.lattice = [   0.297778  ,   0.404444 ,    0.500000 ], refinement level:0, dK=[1. 1. 1.]  \n",
      " K-point 317 : coord in rec.lattice = [   0.295556  ,   0.408889 ,    0.500000 ], refinement level:0, dK=[1. 1. 1.]  \n",
      " K-point 318 : coord in rec.lattice = [   0.293333  ,   0.413333 ,    0.500000 ], refinement level:0, dK=[1. 1. 1.]  \n",
      " K-point 319 : coord in rec.lattice = [   0.291111  ,   0.417778 ,    0.500000 ], refinement level:0, dK=[1. 1. 1.]  \n",
      " K-point 320 : coord in rec.lattice = [   0.288889  ,   0.422222 ,    0.500000 ], refinement level:0, dK=[1. 1. 1.]  \n",
      " K-point 321 : coord in rec.lattice = [   0.286667  ,   0.426667 ,    0.500000 ], refinement level:0, dK=[1. 1. 1.]  \n",
      " K-point 322 : coord in rec.lattice = [   0.284444  ,   0.431111 ,    0.500000 ], refinement level:0, dK=[1. 1. 1.]  \n",
      " K-point 323 : coord in rec.lattice = [   0.282222  ,   0.435556 ,    0.500000 ], refinement level:0, dK=[1. 1. 1.]  \n",
      " K-point 324 : coord in rec.lattice = [   0.280000  ,   0.440000 ,    0.500000 ], refinement level:0, dK=[1. 1. 1.]  \n",
      " K-point 325 : coord in rec.lattice = [   0.277778  ,   0.444444 ,    0.500000 ], refinement level:0, dK=[1. 1. 1.]  \n",
      " K-point 326 : coord in rec.lattice = [   0.275556  ,   0.448889 ,    0.500000 ], refinement level:0, dK=[1. 1. 1.]  \n",
      " K-point 327 : coord in rec.lattice = [   0.273333  ,   0.453333 ,    0.500000 ], refinement level:0, dK=[1. 1. 1.]  \n",
      " K-point 328 : coord in rec.lattice = [   0.271111  ,   0.457778 ,    0.500000 ], refinement level:0, dK=[1. 1. 1.]  \n",
      " K-point 329 : coord in rec.lattice = [   0.268889  ,   0.462222 ,    0.500000 ], refinement level:0, dK=[1. 1. 1.]  \n",
      " K-point 330 : coord in rec.lattice = [   0.266667  ,   0.466667 ,    0.500000 ], refinement level:0, dK=[1. 1. 1.]  \n",
      " K-point 331 : coord in rec.lattice = [   0.264444  ,   0.471111 ,    0.500000 ], refinement level:0, dK=[1. 1. 1.]  \n",
      " K-point 332 : coord in rec.lattice = [   0.262222  ,   0.475556 ,    0.500000 ], refinement level:0, dK=[1. 1. 1.]  \n",
      " K-point 333 : coord in rec.lattice = [   0.260000  ,   0.480000 ,    0.500000 ], refinement level:0, dK=[1. 1. 1.]  \n",
      " K-point 334 : coord in rec.lattice = [   0.257778  ,   0.484444 ,    0.500000 ], refinement level:0, dK=[1. 1. 1.]  \n",
      " K-point 335 : coord in rec.lattice = [   0.255556  ,   0.488889 ,    0.500000 ], refinement level:0, dK=[1. 1. 1.]  \n",
      " K-point 336 : coord in rec.lattice = [   0.253333  ,   0.493333 ,    0.500000 ], refinement level:0, dK=[1. 1. 1.]  \n",
      " K-point 337 : coord in rec.lattice = [   0.251111  ,   0.497778 ,    0.500000 ], refinement level:0, dK=[1. 1. 1.]  \n",
      " K-point 338 : coord in rec.lattice = [   0.248889  ,   0.502222 ,    0.500000 ], refinement level:0, dK=[1. 1. 1.]  \n",
      " K-point 339 : coord in rec.lattice = [   0.246667  ,   0.506667 ,    0.500000 ], refinement level:0, dK=[1. 1. 1.]  \n",
      " K-point 340 : coord in rec.lattice = [   0.244444  ,   0.511111 ,    0.500000 ], refinement level:0, dK=[1. 1. 1.]  \n",
      " K-point 341 : coord in rec.lattice = [   0.242222  ,   0.515556 ,    0.500000 ], refinement level:0, dK=[1. 1. 1.]  \n",
      " K-point 342 : coord in rec.lattice = [   0.240000  ,   0.520000 ,    0.500000 ], refinement level:0, dK=[1. 1. 1.]  \n",
      " K-point 343 : coord in rec.lattice = [   0.237778  ,   0.524444 ,    0.500000 ], refinement level:0, dK=[1. 1. 1.]  \n",
      " K-point 344 : coord in rec.lattice = [   0.235556  ,   0.528889 ,    0.500000 ], refinement level:0, dK=[1. 1. 1.]  \n",
      " K-point 345 : coord in rec.lattice = [   0.233333  ,   0.533333 ,    0.500000 ], refinement level:0, dK=[1. 1. 1.]  \n",
      " K-point 346 : coord in rec.lattice = [   0.231111  ,   0.537778 ,    0.500000 ], refinement level:0, dK=[1. 1. 1.]  \n",
      " K-point 347 : coord in rec.lattice = [   0.228889  ,   0.542222 ,    0.500000 ], refinement level:0, dK=[1. 1. 1.]  \n",
      " K-point 348 : coord in rec.lattice = [   0.226667  ,   0.546667 ,    0.500000 ], refinement level:0, dK=[1. 1. 1.]  \n",
      " K-point 349 : coord in rec.lattice = [   0.224444  ,   0.551111 ,    0.500000 ], refinement level:0, dK=[1. 1. 1.]  \n",
      " K-point 350 : coord in rec.lattice = [   0.222222  ,   0.555556 ,    0.500000 ], refinement level:0, dK=[1. 1. 1.]  \n",
      " K-point 351 : coord in rec.lattice = [   0.220000  ,   0.560000 ,    0.500000 ], refinement level:0, dK=[1. 1. 1.]  \n",
      " K-point 352 : coord in rec.lattice = [   0.217778  ,   0.564444 ,    0.500000 ], refinement level:0, dK=[1. 1. 1.]  \n",
      " K-point 353 : coord in rec.lattice = [   0.215556  ,   0.568889 ,    0.500000 ], refinement level:0, dK=[1. 1. 1.]  \n",
      " K-point 354 : coord in rec.lattice = [   0.213333  ,   0.573333 ,    0.500000 ], refinement level:0, dK=[1. 1. 1.]  \n",
      " K-point 355 : coord in rec.lattice = [   0.211111  ,   0.577778 ,    0.500000 ], refinement level:0, dK=[1. 1. 1.]  \n",
      " K-point 356 : coord in rec.lattice = [   0.208889  ,   0.582222 ,    0.500000 ], refinement level:0, dK=[1. 1. 1.]  \n",
      " K-point 357 : coord in rec.lattice = [   0.206667  ,   0.586667 ,    0.500000 ], refinement level:0, dK=[1. 1. 1.]  \n",
      " K-point 358 : coord in rec.lattice = [   0.204444  ,   0.591111 ,    0.500000 ], refinement level:0, dK=[1. 1. 1.]  \n",
      " K-point 359 : coord in rec.lattice = [   0.202222  ,   0.595556 ,    0.500000 ], refinement level:0, dK=[1. 1. 1.]  \n",
      " K-point 360 : coord in rec.lattice = [   0.200000  ,   0.600000 ,    0.500000 ], refinement level:0, dK=[1. 1. 1.]  \n",
      " K-point 361 : coord in rec.lattice = [   0.197778  ,   0.604444 ,    0.500000 ], refinement level:0, dK=[1. 1. 1.]  \n",
      " K-point 362 : coord in rec.lattice = [   0.195556  ,   0.608889 ,    0.500000 ], refinement level:0, dK=[1. 1. 1.]  \n",
      " K-point 363 : coord in rec.lattice = [   0.193333  ,   0.613333 ,    0.500000 ], refinement level:0, dK=[1. 1. 1.]  \n",
      " K-point 364 : coord in rec.lattice = [   0.191111  ,   0.617778 ,    0.500000 ], refinement level:0, dK=[1. 1. 1.]  \n",
      " K-point 365 : coord in rec.lattice = [   0.188889  ,   0.622222 ,    0.500000 ], refinement level:0, dK=[1. 1. 1.]  \n",
      " K-point 366 : coord in rec.lattice = [   0.186667  ,   0.626667 ,    0.500000 ], refinement level:0, dK=[1. 1. 1.]  \n",
      " K-point 367 : coord in rec.lattice = [   0.184444  ,   0.631111 ,    0.500000 ], refinement level:0, dK=[1. 1. 1.]  \n",
      " K-point 368 : coord in rec.lattice = [   0.182222  ,   0.635556 ,    0.500000 ], refinement level:0, dK=[1. 1. 1.]  \n",
      " K-point 369 : coord in rec.lattice = [   0.180000  ,   0.640000 ,    0.500000 ], refinement level:0, dK=[1. 1. 1.]  \n",
      " K-point 370 : coord in rec.lattice = [   0.177778  ,   0.644444 ,    0.500000 ], refinement level:0, dK=[1. 1. 1.]  \n",
      " K-point 371 : coord in rec.lattice = [   0.175556  ,   0.648889 ,    0.500000 ], refinement level:0, dK=[1. 1. 1.]  \n",
      " K-point 372 : coord in rec.lattice = [   0.173333  ,   0.653333 ,    0.500000 ], refinement level:0, dK=[1. 1. 1.]  \n",
      " K-point 373 : coord in rec.lattice = [   0.171111  ,   0.657778 ,    0.500000 ], refinement level:0, dK=[1. 1. 1.]  \n",
      " K-point 374 : coord in rec.lattice = [   0.168889  ,   0.662222 ,    0.500000 ], refinement level:0, dK=[1. 1. 1.]  \n",
      " K-point 375 : coord in rec.lattice = [   0.166667  ,   0.666667 ,    0.500000 ], refinement level:0, dK=[1. 1. 1.]  \n",
      " K-point 376 : coord in rec.lattice = [   0.164444  ,   0.671111 ,    0.500000 ], refinement level:0, dK=[1. 1. 1.]  \n",
      " K-point 377 : coord in rec.lattice = [   0.162222  ,   0.675556 ,    0.500000 ], refinement level:0, dK=[1. 1. 1.]  \n",
      " K-point 378 : coord in rec.lattice = [   0.160000  ,   0.680000 ,    0.500000 ], refinement level:0, dK=[1. 1. 1.]  \n",
      " K-point 379 : coord in rec.lattice = [   0.157778  ,   0.684444 ,    0.500000 ], refinement level:0, dK=[1. 1. 1.]  \n",
      " K-point 380 : coord in rec.lattice = [   0.155556  ,   0.688889 ,    0.500000 ], refinement level:0, dK=[1. 1. 1.]  \n",
      " K-point 381 : coord in rec.lattice = [   0.153333  ,   0.693333 ,    0.500000 ], refinement level:0, dK=[1. 1. 1.]  \n",
      " K-point 382 : coord in rec.lattice = [   0.151111  ,   0.697778 ,    0.500000 ], refinement level:0, dK=[1. 1. 1.]  \n",
      " K-point 383 : coord in rec.lattice = [   0.148889  ,   0.702222 ,    0.500000 ], refinement level:0, dK=[1. 1. 1.]  \n",
      " K-point 384 : coord in rec.lattice = [   0.146667  ,   0.706667 ,    0.500000 ], refinement level:0, dK=[1. 1. 1.]  \n",
      " K-point 385 : coord in rec.lattice = [   0.144444  ,   0.711111 ,    0.500000 ], refinement level:0, dK=[1. 1. 1.]  \n",
      " K-point 386 : coord in rec.lattice = [   0.142222  ,   0.715556 ,    0.500000 ], refinement level:0, dK=[1. 1. 1.]  \n",
      " K-point 387 : coord in rec.lattice = [   0.140000  ,   0.720000 ,    0.500000 ], refinement level:0, dK=[1. 1. 1.]  \n",
      " K-point 388 : coord in rec.lattice = [   0.137778  ,   0.724444 ,    0.500000 ], refinement level:0, dK=[1. 1. 1.]  \n",
      " K-point 389 : coord in rec.lattice = [   0.135556  ,   0.728889 ,    0.500000 ], refinement level:0, dK=[1. 1. 1.]  \n",
      " K-point 390 : coord in rec.lattice = [   0.133333  ,   0.733333 ,    0.500000 ], refinement level:0, dK=[1. 1. 1.]  \n",
      " K-point 391 : coord in rec.lattice = [   0.131111  ,   0.737778 ,    0.500000 ], refinement level:0, dK=[1. 1. 1.]  \n",
      " K-point 392 : coord in rec.lattice = [   0.128889  ,   0.742222 ,    0.500000 ], refinement level:0, dK=[1. 1. 1.]  \n",
      " K-point 393 : coord in rec.lattice = [   0.126667  ,   0.746667 ,    0.500000 ], refinement level:0, dK=[1. 1. 1.]  \n",
      " K-point 394 : coord in rec.lattice = [   0.124444  ,   0.751111 ,    0.500000 ], refinement level:0, dK=[1. 1. 1.]  \n",
      " K-point 395 : coord in rec.lattice = [   0.122222  ,   0.755556 ,    0.500000 ], refinement level:0, dK=[1. 1. 1.]  \n",
      " K-point 396 : coord in rec.lattice = [   0.120000  ,   0.760000 ,    0.500000 ], refinement level:0, dK=[1. 1. 1.]  \n",
      " K-point 397 : coord in rec.lattice = [   0.117778  ,   0.764444 ,    0.500000 ], refinement level:0, dK=[1. 1. 1.]  \n",
      " K-point 398 : coord in rec.lattice = [   0.115556  ,   0.768889 ,    0.500000 ], refinement level:0, dK=[1. 1. 1.]  \n",
      " K-point 399 : coord in rec.lattice = [   0.113333  ,   0.773333 ,    0.500000 ], refinement level:0, dK=[1. 1. 1.]  \n",
      " K-point 400 : coord in rec.lattice = [   0.111111  ,   0.777778 ,    0.500000 ], refinement level:0, dK=[1. 1. 1.]  \n",
      " K-point 401 : coord in rec.lattice = [   0.108889  ,   0.782222 ,    0.500000 ], refinement level:0, dK=[1. 1. 1.]  \n",
      " K-point 402 : coord in rec.lattice = [   0.106667  ,   0.786667 ,    0.500000 ], refinement level:0, dK=[1. 1. 1.]  \n",
      " K-point 403 : coord in rec.lattice = [   0.104444  ,   0.791111 ,    0.500000 ], refinement level:0, dK=[1. 1. 1.]  \n",
      " K-point 404 : coord in rec.lattice = [   0.102222  ,   0.795556 ,    0.500000 ], refinement level:0, dK=[1. 1. 1.]  \n",
      " K-point 405 : coord in rec.lattice = [   0.100000  ,   0.800000 ,    0.500000 ], refinement level:0, dK=[1. 1. 1.]  \n",
      " K-point 406 : coord in rec.lattice = [   0.097778  ,   0.804444 ,    0.500000 ], refinement level:0, dK=[1. 1. 1.]  \n",
      " K-point 407 : coord in rec.lattice = [   0.095556  ,   0.808889 ,    0.500000 ], refinement level:0, dK=[1. 1. 1.]  \n",
      " K-point 408 : coord in rec.lattice = [   0.093333  ,   0.813333 ,    0.500000 ], refinement level:0, dK=[1. 1. 1.]  \n",
      " K-point 409 : coord in rec.lattice = [   0.091111  ,   0.817778 ,    0.500000 ], refinement level:0, dK=[1. 1. 1.]  \n",
      " K-point 410 : coord in rec.lattice = [   0.088889  ,   0.822222 ,    0.500000 ], refinement level:0, dK=[1. 1. 1.]  \n",
      " K-point 411 : coord in rec.lattice = [   0.086667  ,   0.826667 ,    0.500000 ], refinement level:0, dK=[1. 1. 1.]  \n",
      " K-point 412 : coord in rec.lattice = [   0.084444  ,   0.831111 ,    0.500000 ], refinement level:0, dK=[1. 1. 1.]  \n",
      " K-point 413 : coord in rec.lattice = [   0.082222  ,   0.835556 ,    0.500000 ], refinement level:0, dK=[1. 1. 1.]  \n",
      " K-point 414 : coord in rec.lattice = [   0.080000  ,   0.840000 ,    0.500000 ], refinement level:0, dK=[1. 1. 1.]  \n",
      " K-point 415 : coord in rec.lattice = [   0.077778  ,   0.844444 ,    0.500000 ], refinement level:0, dK=[1. 1. 1.]  \n",
      " K-point 416 : coord in rec.lattice = [   0.075556  ,   0.848889 ,    0.500000 ], refinement level:0, dK=[1. 1. 1.]  \n",
      " K-point 417 : coord in rec.lattice = [   0.073333  ,   0.853333 ,    0.500000 ], refinement level:0, dK=[1. 1. 1.]  \n",
      " K-point 418 : coord in rec.lattice = [   0.071111  ,   0.857778 ,    0.500000 ], refinement level:0, dK=[1. 1. 1.]  \n",
      " K-point 419 : coord in rec.lattice = [   0.068889  ,   0.862222 ,    0.500000 ], refinement level:0, dK=[1. 1. 1.]  \n",
      " K-point 420 : coord in rec.lattice = [   0.066667  ,   0.866667 ,    0.500000 ], refinement level:0, dK=[1. 1. 1.]  \n",
      " K-point 421 : coord in rec.lattice = [   0.064444  ,   0.871111 ,    0.500000 ], refinement level:0, dK=[1. 1. 1.]  \n",
      " K-point 422 : coord in rec.lattice = [   0.062222  ,   0.875556 ,    0.500000 ], refinement level:0, dK=[1. 1. 1.]  \n",
      " K-point 423 : coord in rec.lattice = [   0.060000  ,   0.880000 ,    0.500000 ], refinement level:0, dK=[1. 1. 1.]  \n",
      " K-point 424 : coord in rec.lattice = [   0.057778  ,   0.884444 ,    0.500000 ], refinement level:0, dK=[1. 1. 1.]  \n",
      " K-point 425 : coord in rec.lattice = [   0.055556  ,   0.888889 ,    0.500000 ], refinement level:0, dK=[1. 1. 1.]  \n",
      " K-point 426 : coord in rec.lattice = [   0.053333  ,   0.893333 ,    0.500000 ], refinement level:0, dK=[1. 1. 1.]  \n",
      " K-point 427 : coord in rec.lattice = [   0.051111  ,   0.897778 ,    0.500000 ], refinement level:0, dK=[1. 1. 1.]  \n",
      " K-point 428 : coord in rec.lattice = [   0.048889  ,   0.902222 ,    0.500000 ], refinement level:0, dK=[1. 1. 1.]  \n",
      " K-point 429 : coord in rec.lattice = [   0.046667  ,   0.906667 ,    0.500000 ], refinement level:0, dK=[1. 1. 1.]  \n",
      " K-point 430 : coord in rec.lattice = [   0.044444  ,   0.911111 ,    0.500000 ], refinement level:0, dK=[1. 1. 1.]  \n",
      " K-point 431 : coord in rec.lattice = [   0.042222  ,   0.915556 ,    0.500000 ], refinement level:0, dK=[1. 1. 1.]  \n",
      " K-point 432 : coord in rec.lattice = [   0.040000  ,   0.920000 ,    0.500000 ], refinement level:0, dK=[1. 1. 1.]  \n",
      " K-point 433 : coord in rec.lattice = [   0.037778  ,   0.924444 ,    0.500000 ], refinement level:0, dK=[1. 1. 1.]  \n",
      " K-point 434 : coord in rec.lattice = [   0.035556  ,   0.928889 ,    0.500000 ], refinement level:0, dK=[1. 1. 1.]  \n"
     ]
    },
    {
     "name": "stdout",
     "output_type": "stream",
     "text": [
      " K-point 435 : coord in rec.lattice = [   0.033333  ,   0.933333 ,    0.500000 ], refinement level:0, dK=[1. 1. 1.]  \n",
      " K-point 436 : coord in rec.lattice = [   0.031111  ,   0.937778 ,    0.500000 ], refinement level:0, dK=[1. 1. 1.]  \n",
      " K-point 437 : coord in rec.lattice = [   0.028889  ,   0.942222 ,    0.500000 ], refinement level:0, dK=[1. 1. 1.]  \n",
      " K-point 438 : coord in rec.lattice = [   0.026667  ,   0.946667 ,    0.500000 ], refinement level:0, dK=[1. 1. 1.]  \n",
      " K-point 439 : coord in rec.lattice = [   0.024444  ,   0.951111 ,    0.500000 ], refinement level:0, dK=[1. 1. 1.]  \n",
      " K-point 440 : coord in rec.lattice = [   0.022222  ,   0.955556 ,    0.500000 ], refinement level:0, dK=[1. 1. 1.]  \n",
      " K-point 441 : coord in rec.lattice = [   0.020000  ,   0.960000 ,    0.500000 ], refinement level:0, dK=[1. 1. 1.]  \n",
      " K-point 442 : coord in rec.lattice = [   0.017778  ,   0.964444 ,    0.500000 ], refinement level:0, dK=[1. 1. 1.]  \n",
      " K-point 443 : coord in rec.lattice = [   0.015556  ,   0.968889 ,    0.500000 ], refinement level:0, dK=[1. 1. 1.]  \n",
      " K-point 444 : coord in rec.lattice = [   0.013333  ,   0.973333 ,    0.500000 ], refinement level:0, dK=[1. 1. 1.]  \n",
      " K-point 445 : coord in rec.lattice = [   0.011111  ,   0.977778 ,    0.500000 ], refinement level:0, dK=[1. 1. 1.]  \n",
      " K-point 446 : coord in rec.lattice = [   0.008889  ,   0.982222 ,    0.500000 ], refinement level:0, dK=[1. 1. 1.]  \n",
      " K-point 447 : coord in rec.lattice = [   0.006667  ,   0.986667 ,    0.500000 ], refinement level:0, dK=[1. 1. 1.]  \n",
      " K-point 448 : coord in rec.lattice = [   0.004444  ,   0.991111 ,    0.500000 ], refinement level:0, dK=[1. 1. 1.]  \n",
      " K-point 449 : coord in rec.lattice = [   0.002222  ,   0.995556 ,    0.500000 ], refinement level:0, dK=[1. 1. 1.]  \n",
      " K-point 450 : coord in rec.lattice = [   0.500000  ,   0.500000 ,    0.500000 ], refinement level:0, dK=[1. 1. 1.]  \n",
      " K-point 451 : coord in rec.lattice = [   0.497778  ,   0.497778 ,    0.500000 ], refinement level:0, dK=[1. 1. 1.]  \n",
      " K-point 452 : coord in rec.lattice = [   0.495556  ,   0.495556 ,    0.500000 ], refinement level:0, dK=[1. 1. 1.]  \n",
      " K-point 453 : coord in rec.lattice = [   0.493333  ,   0.493333 ,    0.500000 ], refinement level:0, dK=[1. 1. 1.]  \n",
      " K-point 454 : coord in rec.lattice = [   0.491111  ,   0.491111 ,    0.500000 ], refinement level:0, dK=[1. 1. 1.]  \n",
      " K-point 455 : coord in rec.lattice = [   0.488889  ,   0.488889 ,    0.500000 ], refinement level:0, dK=[1. 1. 1.]  \n",
      " K-point 456 : coord in rec.lattice = [   0.486667  ,   0.486667 ,    0.500000 ], refinement level:0, dK=[1. 1. 1.]  \n",
      " K-point 457 : coord in rec.lattice = [   0.484444  ,   0.484444 ,    0.500000 ], refinement level:0, dK=[1. 1. 1.]  \n",
      " K-point 458 : coord in rec.lattice = [   0.482222  ,   0.482222 ,    0.500000 ], refinement level:0, dK=[1. 1. 1.]  \n",
      " K-point 459 : coord in rec.lattice = [   0.480000  ,   0.480000 ,    0.500000 ], refinement level:0, dK=[1. 1. 1.]  \n",
      " K-point 460 : coord in rec.lattice = [   0.477778  ,   0.477778 ,    0.500000 ], refinement level:0, dK=[1. 1. 1.]  \n",
      " K-point 461 : coord in rec.lattice = [   0.475556  ,   0.475556 ,    0.500000 ], refinement level:0, dK=[1. 1. 1.]  \n",
      " K-point 462 : coord in rec.lattice = [   0.473333  ,   0.473333 ,    0.500000 ], refinement level:0, dK=[1. 1. 1.]  \n",
      " K-point 463 : coord in rec.lattice = [   0.471111  ,   0.471111 ,    0.500000 ], refinement level:0, dK=[1. 1. 1.]  \n",
      " K-point 464 : coord in rec.lattice = [   0.468889  ,   0.468889 ,    0.500000 ], refinement level:0, dK=[1. 1. 1.]  \n",
      " K-point 465 : coord in rec.lattice = [   0.466667  ,   0.466667 ,    0.500000 ], refinement level:0, dK=[1. 1. 1.]  \n",
      " K-point 466 : coord in rec.lattice = [   0.464444  ,   0.464444 ,    0.500000 ], refinement level:0, dK=[1. 1. 1.]  \n",
      " K-point 467 : coord in rec.lattice = [   0.462222  ,   0.462222 ,    0.500000 ], refinement level:0, dK=[1. 1. 1.]  \n",
      " K-point 468 : coord in rec.lattice = [   0.460000  ,   0.460000 ,    0.500000 ], refinement level:0, dK=[1. 1. 1.]  \n",
      " K-point 469 : coord in rec.lattice = [   0.457778  ,   0.457778 ,    0.500000 ], refinement level:0, dK=[1. 1. 1.]  \n",
      " K-point 470 : coord in rec.lattice = [   0.455556  ,   0.455556 ,    0.500000 ], refinement level:0, dK=[1. 1. 1.]  \n",
      " K-point 471 : coord in rec.lattice = [   0.453333  ,   0.453333 ,    0.500000 ], refinement level:0, dK=[1. 1. 1.]  \n",
      " K-point 472 : coord in rec.lattice = [   0.451111  ,   0.451111 ,    0.500000 ], refinement level:0, dK=[1. 1. 1.]  \n",
      " K-point 473 : coord in rec.lattice = [   0.448889  ,   0.448889 ,    0.500000 ], refinement level:0, dK=[1. 1. 1.]  \n",
      " K-point 474 : coord in rec.lattice = [   0.446667  ,   0.446667 ,    0.500000 ], refinement level:0, dK=[1. 1. 1.]  \n",
      " K-point 475 : coord in rec.lattice = [   0.444444  ,   0.444444 ,    0.500000 ], refinement level:0, dK=[1. 1. 1.]  \n",
      " K-point 476 : coord in rec.lattice = [   0.442222  ,   0.442222 ,    0.500000 ], refinement level:0, dK=[1. 1. 1.]  \n",
      " K-point 477 : coord in rec.lattice = [   0.440000  ,   0.440000 ,    0.500000 ], refinement level:0, dK=[1. 1. 1.]  \n",
      " K-point 478 : coord in rec.lattice = [   0.437778  ,   0.437778 ,    0.500000 ], refinement level:0, dK=[1. 1. 1.]  \n",
      " K-point 479 : coord in rec.lattice = [   0.435556  ,   0.435556 ,    0.500000 ], refinement level:0, dK=[1. 1. 1.]  \n",
      " K-point 480 : coord in rec.lattice = [   0.433333  ,   0.433333 ,    0.500000 ], refinement level:0, dK=[1. 1. 1.]  \n",
      " K-point 481 : coord in rec.lattice = [   0.431111  ,   0.431111 ,    0.500000 ], refinement level:0, dK=[1. 1. 1.]  \n",
      " K-point 482 : coord in rec.lattice = [   0.428889  ,   0.428889 ,    0.500000 ], refinement level:0, dK=[1. 1. 1.]  \n",
      " K-point 483 : coord in rec.lattice = [   0.426667  ,   0.426667 ,    0.500000 ], refinement level:0, dK=[1. 1. 1.]  \n",
      " K-point 484 : coord in rec.lattice = [   0.424444  ,   0.424444 ,    0.500000 ], refinement level:0, dK=[1. 1. 1.]  \n",
      " K-point 485 : coord in rec.lattice = [   0.422222  ,   0.422222 ,    0.500000 ], refinement level:0, dK=[1. 1. 1.]  \n",
      " K-point 486 : coord in rec.lattice = [   0.420000  ,   0.420000 ,    0.500000 ], refinement level:0, dK=[1. 1. 1.]  \n",
      " K-point 487 : coord in rec.lattice = [   0.417778  ,   0.417778 ,    0.500000 ], refinement level:0, dK=[1. 1. 1.]  \n",
      " K-point 488 : coord in rec.lattice = [   0.415556  ,   0.415556 ,    0.500000 ], refinement level:0, dK=[1. 1. 1.]  \n",
      " K-point 489 : coord in rec.lattice = [   0.413333  ,   0.413333 ,    0.500000 ], refinement level:0, dK=[1. 1. 1.]  \n",
      " K-point 490 : coord in rec.lattice = [   0.411111  ,   0.411111 ,    0.500000 ], refinement level:0, dK=[1. 1. 1.]  \n",
      " K-point 491 : coord in rec.lattice = [   0.408889  ,   0.408889 ,    0.500000 ], refinement level:0, dK=[1. 1. 1.]  \n",
      " K-point 492 : coord in rec.lattice = [   0.406667  ,   0.406667 ,    0.500000 ], refinement level:0, dK=[1. 1. 1.]  \n",
      " K-point 493 : coord in rec.lattice = [   0.404444  ,   0.404444 ,    0.500000 ], refinement level:0, dK=[1. 1. 1.]  \n",
      " K-point 494 : coord in rec.lattice = [   0.402222  ,   0.402222 ,    0.500000 ], refinement level:0, dK=[1. 1. 1.]  \n",
      " K-point 495 : coord in rec.lattice = [   0.400000  ,   0.400000 ,    0.500000 ], refinement level:0, dK=[1. 1. 1.]  \n",
      " K-point 496 : coord in rec.lattice = [   0.397778  ,   0.397778 ,    0.500000 ], refinement level:0, dK=[1. 1. 1.]  \n",
      " K-point 497 : coord in rec.lattice = [   0.395556  ,   0.395556 ,    0.500000 ], refinement level:0, dK=[1. 1. 1.]  \n",
      " K-point 498 : coord in rec.lattice = [   0.393333  ,   0.393333 ,    0.500000 ], refinement level:0, dK=[1. 1. 1.]  \n",
      " K-point 499 : coord in rec.lattice = [   0.391111  ,   0.391111 ,    0.500000 ], refinement level:0, dK=[1. 1. 1.]  \n",
      " K-point 500 : coord in rec.lattice = [   0.388889  ,   0.388889 ,    0.500000 ], refinement level:0, dK=[1. 1. 1.]  \n",
      " K-point 501 : coord in rec.lattice = [   0.386667  ,   0.386667 ,    0.500000 ], refinement level:0, dK=[1. 1. 1.]  \n",
      " K-point 502 : coord in rec.lattice = [   0.384444  ,   0.384444 ,    0.500000 ], refinement level:0, dK=[1. 1. 1.]  \n",
      " K-point 503 : coord in rec.lattice = [   0.382222  ,   0.382222 ,    0.500000 ], refinement level:0, dK=[1. 1. 1.]  \n",
      " K-point 504 : coord in rec.lattice = [   0.380000  ,   0.380000 ,    0.500000 ], refinement level:0, dK=[1. 1. 1.]  \n",
      " K-point 505 : coord in rec.lattice = [   0.377778  ,   0.377778 ,    0.500000 ], refinement level:0, dK=[1. 1. 1.]  \n",
      " K-point 506 : coord in rec.lattice = [   0.375556  ,   0.375556 ,    0.500000 ], refinement level:0, dK=[1. 1. 1.]  \n",
      " K-point 507 : coord in rec.lattice = [   0.373333  ,   0.373333 ,    0.500000 ], refinement level:0, dK=[1. 1. 1.]  \n",
      " K-point 508 : coord in rec.lattice = [   0.371111  ,   0.371111 ,    0.500000 ], refinement level:0, dK=[1. 1. 1.]  \n",
      " K-point 509 : coord in rec.lattice = [   0.368889  ,   0.368889 ,    0.500000 ], refinement level:0, dK=[1. 1. 1.]  \n",
      " K-point 510 : coord in rec.lattice = [   0.366667  ,   0.366667 ,    0.500000 ], refinement level:0, dK=[1. 1. 1.]  \n",
      " K-point 511 : coord in rec.lattice = [   0.364444  ,   0.364444 ,    0.500000 ], refinement level:0, dK=[1. 1. 1.]  \n",
      " K-point 512 : coord in rec.lattice = [   0.362222  ,   0.362222 ,    0.500000 ], refinement level:0, dK=[1. 1. 1.]  \n",
      " K-point 513 : coord in rec.lattice = [   0.360000  ,   0.360000 ,    0.500000 ], refinement level:0, dK=[1. 1. 1.]  \n",
      " K-point 514 : coord in rec.lattice = [   0.357778  ,   0.357778 ,    0.500000 ], refinement level:0, dK=[1. 1. 1.]  \n",
      " K-point 515 : coord in rec.lattice = [   0.355556  ,   0.355556 ,    0.500000 ], refinement level:0, dK=[1. 1. 1.]  \n",
      " K-point 516 : coord in rec.lattice = [   0.353333  ,   0.353333 ,    0.500000 ], refinement level:0, dK=[1. 1. 1.]  \n",
      " K-point 517 : coord in rec.lattice = [   0.351111  ,   0.351111 ,    0.500000 ], refinement level:0, dK=[1. 1. 1.]  \n",
      " K-point 518 : coord in rec.lattice = [   0.348889  ,   0.348889 ,    0.500000 ], refinement level:0, dK=[1. 1. 1.]  \n",
      " K-point 519 : coord in rec.lattice = [   0.346667  ,   0.346667 ,    0.500000 ], refinement level:0, dK=[1. 1. 1.]  \n",
      " K-point 520 : coord in rec.lattice = [   0.344444  ,   0.344444 ,    0.500000 ], refinement level:0, dK=[1. 1. 1.]  \n",
      " K-point 521 : coord in rec.lattice = [   0.342222  ,   0.342222 ,    0.500000 ], refinement level:0, dK=[1. 1. 1.]  \n",
      " K-point 522 : coord in rec.lattice = [   0.340000  ,   0.340000 ,    0.500000 ], refinement level:0, dK=[1. 1. 1.]  \n",
      " K-point 523 : coord in rec.lattice = [   0.337778  ,   0.337778 ,    0.500000 ], refinement level:0, dK=[1. 1. 1.]  \n",
      " K-point 524 : coord in rec.lattice = [   0.335556  ,   0.335556 ,    0.500000 ], refinement level:0, dK=[1. 1. 1.]  \n",
      " K-point 525 : coord in rec.lattice = [   0.333333  ,   0.333333 ,    0.500000 ], refinement level:0, dK=[1. 1. 1.]  \n",
      " K-point 526 : coord in rec.lattice = [   0.331111  ,   0.331111 ,    0.500000 ], refinement level:0, dK=[1. 1. 1.]  \n",
      " K-point 527 : coord in rec.lattice = [   0.328889  ,   0.328889 ,    0.500000 ], refinement level:0, dK=[1. 1. 1.]  \n",
      " K-point 528 : coord in rec.lattice = [   0.326667  ,   0.326667 ,    0.500000 ], refinement level:0, dK=[1. 1. 1.]  \n",
      " K-point 529 : coord in rec.lattice = [   0.324444  ,   0.324444 ,    0.500000 ], refinement level:0, dK=[1. 1. 1.]  \n",
      " K-point 530 : coord in rec.lattice = [   0.322222  ,   0.322222 ,    0.500000 ], refinement level:0, dK=[1. 1. 1.]  \n",
      " K-point 531 : coord in rec.lattice = [   0.320000  ,   0.320000 ,    0.500000 ], refinement level:0, dK=[1. 1. 1.]  \n",
      " K-point 532 : coord in rec.lattice = [   0.317778  ,   0.317778 ,    0.500000 ], refinement level:0, dK=[1. 1. 1.]  \n",
      " K-point 533 : coord in rec.lattice = [   0.315556  ,   0.315556 ,    0.500000 ], refinement level:0, dK=[1. 1. 1.]  \n",
      " K-point 534 : coord in rec.lattice = [   0.313333  ,   0.313333 ,    0.500000 ], refinement level:0, dK=[1. 1. 1.]  \n",
      " K-point 535 : coord in rec.lattice = [   0.311111  ,   0.311111 ,    0.500000 ], refinement level:0, dK=[1. 1. 1.]  \n",
      " K-point 536 : coord in rec.lattice = [   0.308889  ,   0.308889 ,    0.500000 ], refinement level:0, dK=[1. 1. 1.]  \n",
      " K-point 537 : coord in rec.lattice = [   0.306667  ,   0.306667 ,    0.500000 ], refinement level:0, dK=[1. 1. 1.]  \n",
      " K-point 538 : coord in rec.lattice = [   0.304444  ,   0.304444 ,    0.500000 ], refinement level:0, dK=[1. 1. 1.]  \n",
      " K-point 539 : coord in rec.lattice = [   0.302222  ,   0.302222 ,    0.500000 ], refinement level:0, dK=[1. 1. 1.]  \n",
      " K-point 540 : coord in rec.lattice = [   0.300000  ,   0.300000 ,    0.500000 ], refinement level:0, dK=[1. 1. 1.]  \n",
      " K-point 541 : coord in rec.lattice = [   0.297778  ,   0.297778 ,    0.500000 ], refinement level:0, dK=[1. 1. 1.]  \n",
      " K-point 542 : coord in rec.lattice = [   0.295556  ,   0.295556 ,    0.500000 ], refinement level:0, dK=[1. 1. 1.]  \n",
      " K-point 543 : coord in rec.lattice = [   0.293333  ,   0.293333 ,    0.500000 ], refinement level:0, dK=[1. 1. 1.]  \n",
      " K-point 544 : coord in rec.lattice = [   0.291111  ,   0.291111 ,    0.500000 ], refinement level:0, dK=[1. 1. 1.]  \n",
      " K-point 545 : coord in rec.lattice = [   0.288889  ,   0.288889 ,    0.500000 ], refinement level:0, dK=[1. 1. 1.]  \n",
      " K-point 546 : coord in rec.lattice = [   0.286667  ,   0.286667 ,    0.500000 ], refinement level:0, dK=[1. 1. 1.]  \n",
      " K-point 547 : coord in rec.lattice = [   0.284444  ,   0.284444 ,    0.500000 ], refinement level:0, dK=[1. 1. 1.]  \n",
      " K-point 548 : coord in rec.lattice = [   0.282222  ,   0.282222 ,    0.500000 ], refinement level:0, dK=[1. 1. 1.]  \n",
      " K-point 549 : coord in rec.lattice = [   0.280000  ,   0.280000 ,    0.500000 ], refinement level:0, dK=[1. 1. 1.]  \n",
      " K-point 550 : coord in rec.lattice = [   0.277778  ,   0.277778 ,    0.500000 ], refinement level:0, dK=[1. 1. 1.]  \n",
      " K-point 551 : coord in rec.lattice = [   0.275556  ,   0.275556 ,    0.500000 ], refinement level:0, dK=[1. 1. 1.]  \n",
      " K-point 552 : coord in rec.lattice = [   0.273333  ,   0.273333 ,    0.500000 ], refinement level:0, dK=[1. 1. 1.]  \n",
      " K-point 553 : coord in rec.lattice = [   0.271111  ,   0.271111 ,    0.500000 ], refinement level:0, dK=[1. 1. 1.]  \n",
      " K-point 554 : coord in rec.lattice = [   0.268889  ,   0.268889 ,    0.500000 ], refinement level:0, dK=[1. 1. 1.]  \n",
      " K-point 555 : coord in rec.lattice = [   0.266667  ,   0.266667 ,    0.500000 ], refinement level:0, dK=[1. 1. 1.]  \n",
      " K-point 556 : coord in rec.lattice = [   0.264444  ,   0.264444 ,    0.500000 ], refinement level:0, dK=[1. 1. 1.]  \n",
      " K-point 557 : coord in rec.lattice = [   0.262222  ,   0.262222 ,    0.500000 ], refinement level:0, dK=[1. 1. 1.]  \n",
      " K-point 558 : coord in rec.lattice = [   0.260000  ,   0.260000 ,    0.500000 ], refinement level:0, dK=[1. 1. 1.]  \n",
      " K-point 559 : coord in rec.lattice = [   0.257778  ,   0.257778 ,    0.500000 ], refinement level:0, dK=[1. 1. 1.]  \n",
      " K-point 560 : coord in rec.lattice = [   0.255556  ,   0.255556 ,    0.500000 ], refinement level:0, dK=[1. 1. 1.]  \n",
      " K-point 561 : coord in rec.lattice = [   0.253333  ,   0.253333 ,    0.500000 ], refinement level:0, dK=[1. 1. 1.]  \n",
      " K-point 562 : coord in rec.lattice = [   0.251111  ,   0.251111 ,    0.500000 ], refinement level:0, dK=[1. 1. 1.]  \n",
      " K-point 563 : coord in rec.lattice = [   0.248889  ,   0.248889 ,    0.500000 ], refinement level:0, dK=[1. 1. 1.]  \n",
      " K-point 564 : coord in rec.lattice = [   0.246667  ,   0.246667 ,    0.500000 ], refinement level:0, dK=[1. 1. 1.]  \n",
      " K-point 565 : coord in rec.lattice = [   0.244444  ,   0.244444 ,    0.500000 ], refinement level:0, dK=[1. 1. 1.]  \n",
      " K-point 566 : coord in rec.lattice = [   0.242222  ,   0.242222 ,    0.500000 ], refinement level:0, dK=[1. 1. 1.]  \n",
      " K-point 567 : coord in rec.lattice = [   0.240000  ,   0.240000 ,    0.500000 ], refinement level:0, dK=[1. 1. 1.]  \n"
     ]
    },
    {
     "name": "stdout",
     "output_type": "stream",
     "text": [
      " K-point 568 : coord in rec.lattice = [   0.237778  ,   0.237778 ,    0.500000 ], refinement level:0, dK=[1. 1. 1.]  \n",
      " K-point 569 : coord in rec.lattice = [   0.235556  ,   0.235556 ,    0.500000 ], refinement level:0, dK=[1. 1. 1.]  \n",
      " K-point 570 : coord in rec.lattice = [   0.233333  ,   0.233333 ,    0.500000 ], refinement level:0, dK=[1. 1. 1.]  \n",
      " K-point 571 : coord in rec.lattice = [   0.231111  ,   0.231111 ,    0.500000 ], refinement level:0, dK=[1. 1. 1.]  \n",
      " K-point 572 : coord in rec.lattice = [   0.228889  ,   0.228889 ,    0.500000 ], refinement level:0, dK=[1. 1. 1.]  \n",
      " K-point 573 : coord in rec.lattice = [   0.226667  ,   0.226667 ,    0.500000 ], refinement level:0, dK=[1. 1. 1.]  \n",
      " K-point 574 : coord in rec.lattice = [   0.224444  ,   0.224444 ,    0.500000 ], refinement level:0, dK=[1. 1. 1.]  \n",
      " K-point 575 : coord in rec.lattice = [   0.222222  ,   0.222222 ,    0.500000 ], refinement level:0, dK=[1. 1. 1.]  \n",
      " K-point 576 : coord in rec.lattice = [   0.220000  ,   0.220000 ,    0.500000 ], refinement level:0, dK=[1. 1. 1.]  \n",
      " K-point 577 : coord in rec.lattice = [   0.217778  ,   0.217778 ,    0.500000 ], refinement level:0, dK=[1. 1. 1.]  \n",
      " K-point 578 : coord in rec.lattice = [   0.215556  ,   0.215556 ,    0.500000 ], refinement level:0, dK=[1. 1. 1.]  \n",
      " K-point 579 : coord in rec.lattice = [   0.213333  ,   0.213333 ,    0.500000 ], refinement level:0, dK=[1. 1. 1.]  \n",
      " K-point 580 : coord in rec.lattice = [   0.211111  ,   0.211111 ,    0.500000 ], refinement level:0, dK=[1. 1. 1.]  \n",
      " K-point 581 : coord in rec.lattice = [   0.208889  ,   0.208889 ,    0.500000 ], refinement level:0, dK=[1. 1. 1.]  \n",
      " K-point 582 : coord in rec.lattice = [   0.206667  ,   0.206667 ,    0.500000 ], refinement level:0, dK=[1. 1. 1.]  \n",
      " K-point 583 : coord in rec.lattice = [   0.204444  ,   0.204444 ,    0.500000 ], refinement level:0, dK=[1. 1. 1.]  \n",
      " K-point 584 : coord in rec.lattice = [   0.202222  ,   0.202222 ,    0.500000 ], refinement level:0, dK=[1. 1. 1.]  \n",
      " K-point 585 : coord in rec.lattice = [   0.200000  ,   0.200000 ,    0.500000 ], refinement level:0, dK=[1. 1. 1.]  \n",
      " K-point 586 : coord in rec.lattice = [   0.197778  ,   0.197778 ,    0.500000 ], refinement level:0, dK=[1. 1. 1.]  \n",
      " K-point 587 : coord in rec.lattice = [   0.195556  ,   0.195556 ,    0.500000 ], refinement level:0, dK=[1. 1. 1.]  \n",
      " K-point 588 : coord in rec.lattice = [   0.193333  ,   0.193333 ,    0.500000 ], refinement level:0, dK=[1. 1. 1.]  \n",
      " K-point 589 : coord in rec.lattice = [   0.191111  ,   0.191111 ,    0.500000 ], refinement level:0, dK=[1. 1. 1.]  \n",
      " K-point 590 : coord in rec.lattice = [   0.188889  ,   0.188889 ,    0.500000 ], refinement level:0, dK=[1. 1. 1.]  \n",
      " K-point 591 : coord in rec.lattice = [   0.186667  ,   0.186667 ,    0.500000 ], refinement level:0, dK=[1. 1. 1.]  \n",
      " K-point 592 : coord in rec.lattice = [   0.184444  ,   0.184444 ,    0.500000 ], refinement level:0, dK=[1. 1. 1.]  \n",
      " K-point 593 : coord in rec.lattice = [   0.182222  ,   0.182222 ,    0.500000 ], refinement level:0, dK=[1. 1. 1.]  \n",
      " K-point 594 : coord in rec.lattice = [   0.180000  ,   0.180000 ,    0.500000 ], refinement level:0, dK=[1. 1. 1.]  \n",
      " K-point 595 : coord in rec.lattice = [   0.177778  ,   0.177778 ,    0.500000 ], refinement level:0, dK=[1. 1. 1.]  \n",
      " K-point 596 : coord in rec.lattice = [   0.175556  ,   0.175556 ,    0.500000 ], refinement level:0, dK=[1. 1. 1.]  \n",
      " K-point 597 : coord in rec.lattice = [   0.173333  ,   0.173333 ,    0.500000 ], refinement level:0, dK=[1. 1. 1.]  \n",
      " K-point 598 : coord in rec.lattice = [   0.171111  ,   0.171111 ,    0.500000 ], refinement level:0, dK=[1. 1. 1.]  \n",
      " K-point 599 : coord in rec.lattice = [   0.168889  ,   0.168889 ,    0.500000 ], refinement level:0, dK=[1. 1. 1.]  \n",
      " K-point 600 : coord in rec.lattice = [   0.166667  ,   0.166667 ,    0.500000 ], refinement level:0, dK=[1. 1. 1.]  \n",
      " K-point 601 : coord in rec.lattice = [   0.164444  ,   0.164444 ,    0.500000 ], refinement level:0, dK=[1. 1. 1.]  \n",
      " K-point 602 : coord in rec.lattice = [   0.162222  ,   0.162222 ,    0.500000 ], refinement level:0, dK=[1. 1. 1.]  \n",
      " K-point 603 : coord in rec.lattice = [   0.160000  ,   0.160000 ,    0.500000 ], refinement level:0, dK=[1. 1. 1.]  \n",
      " K-point 604 : coord in rec.lattice = [   0.157778  ,   0.157778 ,    0.500000 ], refinement level:0, dK=[1. 1. 1.]  \n",
      " K-point 605 : coord in rec.lattice = [   0.155556  ,   0.155556 ,    0.500000 ], refinement level:0, dK=[1. 1. 1.]  \n"
     ]
    },
    {
     "name": "stdout",
     "output_type": "stream",
     "text": [
      " K-point 606 : coord in rec.lattice = [   0.153333  ,   0.153333 ,    0.500000 ], refinement level:0, dK=[1. 1. 1.]  \n",
      " K-point 607 : coord in rec.lattice = [   0.151111  ,   0.151111 ,    0.500000 ], refinement level:0, dK=[1. 1. 1.]  \n",
      " K-point 608 : coord in rec.lattice = [   0.148889  ,   0.148889 ,    0.500000 ], refinement level:0, dK=[1. 1. 1.]  \n",
      " K-point 609 : coord in rec.lattice = [   0.146667  ,   0.146667 ,    0.500000 ], refinement level:0, dK=[1. 1. 1.]  \n",
      " K-point 610 : coord in rec.lattice = [   0.144444  ,   0.144444 ,    0.500000 ], refinement level:0, dK=[1. 1. 1.]  \n",
      " K-point 611 : coord in rec.lattice = [   0.142222  ,   0.142222 ,    0.500000 ], refinement level:0, dK=[1. 1. 1.]  \n",
      " K-point 612 : coord in rec.lattice = [   0.140000  ,   0.140000 ,    0.500000 ], refinement level:0, dK=[1. 1. 1.]  \n",
      " K-point 613 : coord in rec.lattice = [   0.137778  ,   0.137778 ,    0.500000 ], refinement level:0, dK=[1. 1. 1.]  \n",
      " K-point 614 : coord in rec.lattice = [   0.135556  ,   0.135556 ,    0.500000 ], refinement level:0, dK=[1. 1. 1.]  \n",
      " K-point 615 : coord in rec.lattice = [   0.133333  ,   0.133333 ,    0.500000 ], refinement level:0, dK=[1. 1. 1.]  \n",
      " K-point 616 : coord in rec.lattice = [   0.131111  ,   0.131111 ,    0.500000 ], refinement level:0, dK=[1. 1. 1.]  \n",
      " K-point 617 : coord in rec.lattice = [   0.128889  ,   0.128889 ,    0.500000 ], refinement level:0, dK=[1. 1. 1.]  \n",
      " K-point 618 : coord in rec.lattice = [   0.126667  ,   0.126667 ,    0.500000 ], refinement level:0, dK=[1. 1. 1.]  \n",
      " K-point 619 : coord in rec.lattice = [   0.124444  ,   0.124444 ,    0.500000 ], refinement level:0, dK=[1. 1. 1.]  \n",
      " K-point 620 : coord in rec.lattice = [   0.122222  ,   0.122222 ,    0.500000 ], refinement level:0, dK=[1. 1. 1.]  \n",
      " K-point 621 : coord in rec.lattice = [   0.120000  ,   0.120000 ,    0.500000 ], refinement level:0, dK=[1. 1. 1.]  \n",
      " K-point 622 : coord in rec.lattice = [   0.117778  ,   0.117778 ,    0.500000 ], refinement level:0, dK=[1. 1. 1.]  \n",
      " K-point 623 : coord in rec.lattice = [   0.115556  ,   0.115556 ,    0.500000 ], refinement level:0, dK=[1. 1. 1.]  \n",
      " K-point 624 : coord in rec.lattice = [   0.113333  ,   0.113333 ,    0.500000 ], refinement level:0, dK=[1. 1. 1.]  \n",
      " K-point 625 : coord in rec.lattice = [   0.111111  ,   0.111111 ,    0.500000 ], refinement level:0, dK=[1. 1. 1.]  \n",
      " K-point 626 : coord in rec.lattice = [   0.108889  ,   0.108889 ,    0.500000 ], refinement level:0, dK=[1. 1. 1.]  \n",
      " K-point 627 : coord in rec.lattice = [   0.106667  ,   0.106667 ,    0.500000 ], refinement level:0, dK=[1. 1. 1.]  \n",
      " K-point 628 : coord in rec.lattice = [   0.104444  ,   0.104444 ,    0.500000 ], refinement level:0, dK=[1. 1. 1.]  \n",
      " K-point 629 : coord in rec.lattice = [   0.102222  ,   0.102222 ,    0.500000 ], refinement level:0, dK=[1. 1. 1.]  \n",
      " K-point 630 : coord in rec.lattice = [   0.100000  ,   0.100000 ,    0.500000 ], refinement level:0, dK=[1. 1. 1.]  \n",
      " K-point 631 : coord in rec.lattice = [   0.097778  ,   0.097778 ,    0.500000 ], refinement level:0, dK=[1. 1. 1.]  \n",
      " K-point 632 : coord in rec.lattice = [   0.095556  ,   0.095556 ,    0.500000 ], refinement level:0, dK=[1. 1. 1.]  \n",
      " K-point 633 : coord in rec.lattice = [   0.093333  ,   0.093333 ,    0.500000 ], refinement level:0, dK=[1. 1. 1.]  \n",
      " K-point 634 : coord in rec.lattice = [   0.091111  ,   0.091111 ,    0.500000 ], refinement level:0, dK=[1. 1. 1.]  \n",
      " K-point 635 : coord in rec.lattice = [   0.088889  ,   0.088889 ,    0.500000 ], refinement level:0, dK=[1. 1. 1.]  \n",
      " K-point 636 : coord in rec.lattice = [   0.086667  ,   0.086667 ,    0.500000 ], refinement level:0, dK=[1. 1. 1.]  \n",
      " K-point 637 : coord in rec.lattice = [   0.084444  ,   0.084444 ,    0.500000 ], refinement level:0, dK=[1. 1. 1.]  \n",
      " K-point 638 : coord in rec.lattice = [   0.082222  ,   0.082222 ,    0.500000 ], refinement level:0, dK=[1. 1. 1.]  \n",
      " K-point 639 : coord in rec.lattice = [   0.080000  ,   0.080000 ,    0.500000 ], refinement level:0, dK=[1. 1. 1.]  \n",
      " K-point 640 : coord in rec.lattice = [   0.077778  ,   0.077778 ,    0.500000 ], refinement level:0, dK=[1. 1. 1.]  \n",
      " K-point 641 : coord in rec.lattice = [   0.075556  ,   0.075556 ,    0.500000 ], refinement level:0, dK=[1. 1. 1.]  \n",
      " K-point 642 : coord in rec.lattice = [   0.073333  ,   0.073333 ,    0.500000 ], refinement level:0, dK=[1. 1. 1.]  \n",
      " K-point 643 : coord in rec.lattice = [   0.071111  ,   0.071111 ,    0.500000 ], refinement level:0, dK=[1. 1. 1.]  \n",
      " K-point 644 : coord in rec.lattice = [   0.068889  ,   0.068889 ,    0.500000 ], refinement level:0, dK=[1. 1. 1.]  \n",
      " K-point 645 : coord in rec.lattice = [   0.066667  ,   0.066667 ,    0.500000 ], refinement level:0, dK=[1. 1. 1.]  \n",
      " K-point 646 : coord in rec.lattice = [   0.064444  ,   0.064444 ,    0.500000 ], refinement level:0, dK=[1. 1. 1.]  \n",
      " K-point 647 : coord in rec.lattice = [   0.062222  ,   0.062222 ,    0.500000 ], refinement level:0, dK=[1. 1. 1.]  \n",
      " K-point 648 : coord in rec.lattice = [   0.060000  ,   0.060000 ,    0.500000 ], refinement level:0, dK=[1. 1. 1.]  \n",
      " K-point 649 : coord in rec.lattice = [   0.057778  ,   0.057778 ,    0.500000 ], refinement level:0, dK=[1. 1. 1.]  \n",
      " K-point 650 : coord in rec.lattice = [   0.055556  ,   0.055556 ,    0.500000 ], refinement level:0, dK=[1. 1. 1.]  \n",
      " K-point 651 : coord in rec.lattice = [   0.053333  ,   0.053333 ,    0.500000 ], refinement level:0, dK=[1. 1. 1.]  \n",
      " K-point 652 : coord in rec.lattice = [   0.051111  ,   0.051111 ,    0.500000 ], refinement level:0, dK=[1. 1. 1.]  \n",
      " K-point 653 : coord in rec.lattice = [   0.048889  ,   0.048889 ,    0.500000 ], refinement level:0, dK=[1. 1. 1.]  \n",
      " K-point 654 : coord in rec.lattice = [   0.046667  ,   0.046667 ,    0.500000 ], refinement level:0, dK=[1. 1. 1.]  \n",
      " K-point 655 : coord in rec.lattice = [   0.044444  ,   0.044444 ,    0.500000 ], refinement level:0, dK=[1. 1. 1.]  \n",
      " K-point 656 : coord in rec.lattice = [   0.042222  ,   0.042222 ,    0.500000 ], refinement level:0, dK=[1. 1. 1.]  \n",
      " K-point 657 : coord in rec.lattice = [   0.040000  ,   0.040000 ,    0.500000 ], refinement level:0, dK=[1. 1. 1.]  \n",
      " K-point 658 : coord in rec.lattice = [   0.037778  ,   0.037778 ,    0.500000 ], refinement level:0, dK=[1. 1. 1.]  \n",
      " K-point 659 : coord in rec.lattice = [   0.035556  ,   0.035556 ,    0.500000 ], refinement level:0, dK=[1. 1. 1.]  \n",
      " K-point 660 : coord in rec.lattice = [   0.033333  ,   0.033333 ,    0.500000 ], refinement level:0, dK=[1. 1. 1.]  \n",
      " K-point 661 : coord in rec.lattice = [   0.031111  ,   0.031111 ,    0.500000 ], refinement level:0, dK=[1. 1. 1.]  \n",
      " K-point 662 : coord in rec.lattice = [   0.028889  ,   0.028889 ,    0.500000 ], refinement level:0, dK=[1. 1. 1.]  \n",
      " K-point 663 : coord in rec.lattice = [   0.026667  ,   0.026667 ,    0.500000 ], refinement level:0, dK=[1. 1. 1.]  \n",
      " K-point 664 : coord in rec.lattice = [   0.024444  ,   0.024444 ,    0.500000 ], refinement level:0, dK=[1. 1. 1.]  \n",
      " K-point 665 : coord in rec.lattice = [   0.022222  ,   0.022222 ,    0.500000 ], refinement level:0, dK=[1. 1. 1.]  \n",
      " K-point 666 : coord in rec.lattice = [   0.020000  ,   0.020000 ,    0.500000 ], refinement level:0, dK=[1. 1. 1.]  \n",
      " K-point 667 : coord in rec.lattice = [   0.017778  ,   0.017778 ,    0.500000 ], refinement level:0, dK=[1. 1. 1.]  \n",
      " K-point 668 : coord in rec.lattice = [   0.015556  ,   0.015556 ,    0.500000 ], refinement level:0, dK=[1. 1. 1.]  \n",
      " K-point 669 : coord in rec.lattice = [   0.013333  ,   0.013333 ,    0.500000 ], refinement level:0, dK=[1. 1. 1.]  \n",
      " K-point 670 : coord in rec.lattice = [   0.011111  ,   0.011111 ,    0.500000 ], refinement level:0, dK=[1. 1. 1.]  \n",
      " K-point 671 : coord in rec.lattice = [   0.008889  ,   0.008889 ,    0.500000 ], refinement level:0, dK=[1. 1. 1.]  \n",
      " K-point 672 : coord in rec.lattice = [   0.006667  ,   0.006667 ,    0.500000 ], refinement level:0, dK=[1. 1. 1.]  \n",
      " K-point 673 : coord in rec.lattice = [   0.004444  ,   0.004444 ,    0.500000 ], refinement level:0, dK=[1. 1. 1.]  \n",
      " K-point 674 : coord in rec.lattice = [   0.002222  ,   0.002222 ,    0.500000 ], refinement level:0, dK=[1. 1. 1.]  \n",
      " K-point 675 : coord in rec.lattice = [   0.000000  ,   0.000000 ,    0.500000 ], refinement level:0, dK=[1. 1. 1.]  \n",
      "symgroup : None\n",
      "processing 676 K points : in serial.\n",
      "# K-points calculated  Wall time (sec)  Est. remaining (sec)\n"
     ]
    },
    {
     "name": "stdout",
     "output_type": "stream",
     "text": [
      "                   7              0.1                   5.3\n"
     ]
    },
    {
     "name": "stdout",
     "output_type": "stream",
     "text": [
      "                  14              0.1                   5.0\n"
     ]
    },
    {
     "name": "stdout",
     "output_type": "stream",
     "text": [
      "                  21              0.1                   4.7\n"
     ]
    },
    {
     "name": "stdout",
     "output_type": "stream",
     "text": [
      "                  28              0.2                   4.4\n"
     ]
    },
    {
     "name": "stdout",
     "output_type": "stream",
     "text": [
      "                  35              0.2                   4.3\n"
     ]
    },
    {
     "name": "stdout",
     "output_type": "stream",
     "text": [
      "                  42              0.3                   4.2\n"
     ]
    },
    {
     "name": "stdout",
     "output_type": "stream",
     "text": [
      "                  49              0.3                   4.1\n"
     ]
    },
    {
     "name": "stdout",
     "output_type": "stream",
     "text": [
      "                  56              0.4                   4.0\n"
     ]
    },
    {
     "name": "stdout",
     "output_type": "stream",
     "text": [
      "                  63              0.4                   3.9\n"
     ]
    },
    {
     "name": "stdout",
     "output_type": "stream",
     "text": [
      "                  70              0.4                   3.8\n"
     ]
    },
    {
     "name": "stdout",
     "output_type": "stream",
     "text": [
      "                  77              0.5                   3.8\n"
     ]
    },
    {
     "name": "stdout",
     "output_type": "stream",
     "text": [
      "                  84              0.5                   3.7\n"
     ]
    },
    {
     "name": "stdout",
     "output_type": "stream",
     "text": [
      "                  91              0.6                   3.7\n"
     ]
    },
    {
     "name": "stdout",
     "output_type": "stream",
     "text": [
      "                  98              0.6                   3.7\n"
     ]
    },
    {
     "name": "stdout",
     "output_type": "stream",
     "text": [
      "                 105              0.7                   3.6\n"
     ]
    },
    {
     "name": "stdout",
     "output_type": "stream",
     "text": [
      "                 112              0.7                   3.6\n"
     ]
    },
    {
     "name": "stdout",
     "output_type": "stream",
     "text": [
      "                 119              0.8                   3.5\n"
     ]
    },
    {
     "name": "stdout",
     "output_type": "stream",
     "text": [
      "                 126              0.8                   3.5\n"
     ]
    },
    {
     "name": "stdout",
     "output_type": "stream",
     "text": [
      "                 133              0.8                   3.5\n"
     ]
    },
    {
     "name": "stdout",
     "output_type": "stream",
     "text": [
      "                 140              0.9                   3.4\n"
     ]
    },
    {
     "name": "stdout",
     "output_type": "stream",
     "text": [
      "                 147              0.9                   3.4\n"
     ]
    },
    {
     "name": "stdout",
     "output_type": "stream",
     "text": [
      "                 154              1.0                   3.3\n"
     ]
    },
    {
     "name": "stdout",
     "output_type": "stream",
     "text": [
      "                 161              1.0                   3.3\n"
     ]
    },
    {
     "name": "stdout",
     "output_type": "stream",
     "text": [
      "                 168              1.1                   3.2\n"
     ]
    },
    {
     "name": "stdout",
     "output_type": "stream",
     "text": [
      "                 175              1.1                   3.2\n"
     ]
    },
    {
     "name": "stdout",
     "output_type": "stream",
     "text": [
      "                 182              1.2                   3.1\n"
     ]
    },
    {
     "name": "stdout",
     "output_type": "stream",
     "text": [
      "                 189              1.2                   3.1\n"
     ]
    },
    {
     "name": "stdout",
     "output_type": "stream",
     "text": [
      "                 196              1.2                   3.0\n"
     ]
    },
    {
     "name": "stdout",
     "output_type": "stream",
     "text": [
      "                 203              1.3                   3.0\n"
     ]
    },
    {
     "name": "stdout",
     "output_type": "stream",
     "text": [
      "                 210              1.3                   2.9\n"
     ]
    },
    {
     "name": "stdout",
     "output_type": "stream",
     "text": [
      "                 217              1.4                   2.9\n"
     ]
    },
    {
     "name": "stdout",
     "output_type": "stream",
     "text": [
      "                 224              1.4                   2.8\n"
     ]
    },
    {
     "name": "stdout",
     "output_type": "stream",
     "text": [
      "                 231              1.4                   2.8\n"
     ]
    },
    {
     "name": "stdout",
     "output_type": "stream",
     "text": [
      "                 238              1.5                   2.7\n"
     ]
    },
    {
     "name": "stdout",
     "output_type": "stream",
     "text": [
      "                 245              1.5                   2.7\n"
     ]
    },
    {
     "name": "stdout",
     "output_type": "stream",
     "text": [
      "                 252              1.6                   2.7\n"
     ]
    },
    {
     "name": "stdout",
     "output_type": "stream",
     "text": [
      "                 259              1.6                   2.6\n"
     ]
    },
    {
     "name": "stdout",
     "output_type": "stream",
     "text": [
      "                 266              1.7                   2.5\n"
     ]
    },
    {
     "name": "stdout",
     "output_type": "stream",
     "text": [
      "                 273              1.7                   2.5\n"
     ]
    },
    {
     "name": "stdout",
     "output_type": "stream",
     "text": [
      "                 280              1.7                   2.5\n"
     ]
    },
    {
     "name": "stdout",
     "output_type": "stream",
     "text": [
      "                 287              1.8                   2.4\n"
     ]
    },
    {
     "name": "stdout",
     "output_type": "stream",
     "text": [
      "                 294              1.8                   2.4\n"
     ]
    },
    {
     "name": "stdout",
     "output_type": "stream",
     "text": [
      "                 301              1.9                   2.3\n"
     ]
    },
    {
     "name": "stdout",
     "output_type": "stream",
     "text": [
      "                 308              1.9                   2.3\n"
     ]
    },
    {
     "name": "stdout",
     "output_type": "stream",
     "text": [
      "                 315              1.9                   2.2\n"
     ]
    },
    {
     "name": "stdout",
     "output_type": "stream",
     "text": [
      "                 322              2.0                   2.2\n"
     ]
    },
    {
     "name": "stdout",
     "output_type": "stream",
     "text": [
      "                 329              2.0                   2.1\n"
     ]
    },
    {
     "name": "stdout",
     "output_type": "stream",
     "text": [
      "                 336              2.1                   2.1\n"
     ]
    },
    {
     "name": "stdout",
     "output_type": "stream",
     "text": [
      "                 343              2.1                   2.1\n"
     ]
    },
    {
     "name": "stdout",
     "output_type": "stream",
     "text": [
      "                 350              2.2                   2.0\n"
     ]
    },
    {
     "name": "stdout",
     "output_type": "stream",
     "text": [
      "                 357              2.2                   2.0\n"
     ]
    },
    {
     "name": "stdout",
     "output_type": "stream",
     "text": [
      "                 364              2.2                   1.9\n"
     ]
    },
    {
     "name": "stdout",
     "output_type": "stream",
     "text": [
      "                 371              2.3                   1.9\n"
     ]
    },
    {
     "name": "stdout",
     "output_type": "stream",
     "text": [
      "                 378              2.3                   1.8\n"
     ]
    },
    {
     "name": "stdout",
     "output_type": "stream",
     "text": [
      "                 385              2.4                   1.8\n"
     ]
    },
    {
     "name": "stdout",
     "output_type": "stream",
     "text": [
      "                 392              2.4                   1.7\n"
     ]
    },
    {
     "name": "stdout",
     "output_type": "stream",
     "text": [
      "                 399              2.5                   1.7\n"
     ]
    },
    {
     "name": "stdout",
     "output_type": "stream",
     "text": [
      "                 406              2.5                   1.7\n"
     ]
    },
    {
     "name": "stdout",
     "output_type": "stream",
     "text": [
      "                 413              2.5                   1.6\n"
     ]
    },
    {
     "name": "stdout",
     "output_type": "stream",
     "text": [
      "                 420              2.6                   1.6\n"
     ]
    },
    {
     "name": "stdout",
     "output_type": "stream",
     "text": [
      "                 427              2.6                   1.5\n"
     ]
    },
    {
     "name": "stdout",
     "output_type": "stream",
     "text": [
      "                 434              2.7                   1.5\n"
     ]
    },
    {
     "name": "stdout",
     "output_type": "stream",
     "text": [
      "                 441              2.7                   1.4\n"
     ]
    },
    {
     "name": "stdout",
     "output_type": "stream",
     "text": [
      "                 448              2.8                   1.4\n"
     ]
    },
    {
     "name": "stdout",
     "output_type": "stream",
     "text": [
      "                 455              2.8                   1.4\n"
     ]
    },
    {
     "name": "stdout",
     "output_type": "stream",
     "text": [
      "                 462              2.8                   1.3\n"
     ]
    },
    {
     "name": "stdout",
     "output_type": "stream",
     "text": [
      "                 469              2.9                   1.3\n"
     ]
    },
    {
     "name": "stdout",
     "output_type": "stream",
     "text": [
      "                 476              2.9                   1.2\n"
     ]
    },
    {
     "name": "stdout",
     "output_type": "stream",
     "text": [
      "                 483              3.0                   1.2\n"
     ]
    },
    {
     "name": "stdout",
     "output_type": "stream",
     "text": [
      "                 490              3.0                   1.1\n"
     ]
    },
    {
     "name": "stdout",
     "output_type": "stream",
     "text": [
      "                 497              3.1                   1.1\n"
     ]
    },
    {
     "name": "stdout",
     "output_type": "stream",
     "text": [
      "                 504              3.1                   1.1\n"
     ]
    },
    {
     "name": "stdout",
     "output_type": "stream",
     "text": [
      "                 511              3.1                   1.0\n"
     ]
    },
    {
     "name": "stdout",
     "output_type": "stream",
     "text": [
      "                 518              3.2                   1.0\n"
     ]
    },
    {
     "name": "stdout",
     "output_type": "stream",
     "text": [
      "                 525              3.2                   0.9\n"
     ]
    },
    {
     "name": "stdout",
     "output_type": "stream",
     "text": [
      "                 532              3.3                   0.9\n"
     ]
    },
    {
     "name": "stdout",
     "output_type": "stream",
     "text": [
      "                 539              3.3                   0.8\n"
     ]
    },
    {
     "name": "stdout",
     "output_type": "stream",
     "text": [
      "                 546              3.4                   0.8\n"
     ]
    },
    {
     "name": "stdout",
     "output_type": "stream",
     "text": [
      "                 553              3.4                   0.8\n"
     ]
    },
    {
     "name": "stdout",
     "output_type": "stream",
     "text": [
      "                 560              3.4                   0.7\n"
     ]
    },
    {
     "name": "stdout",
     "output_type": "stream",
     "text": [
      "                 567              3.5                   0.7\n"
     ]
    },
    {
     "name": "stdout",
     "output_type": "stream",
     "text": [
      "                 574              3.5                   0.6\n"
     ]
    },
    {
     "name": "stdout",
     "output_type": "stream",
     "text": [
      "                 581              3.6                   0.6\n"
     ]
    },
    {
     "name": "stdout",
     "output_type": "stream",
     "text": [
      "                 588              3.6                   0.5\n"
     ]
    },
    {
     "name": "stdout",
     "output_type": "stream",
     "text": [
      "                 595              3.7                   0.5\n"
     ]
    },
    {
     "name": "stdout",
     "output_type": "stream",
     "text": [
      "                 602              3.7                   0.5\n"
     ]
    },
    {
     "name": "stdout",
     "output_type": "stream",
     "text": [
      "                 609              3.8                   0.4\n"
     ]
    },
    {
     "name": "stdout",
     "output_type": "stream",
     "text": [
      "                 616              3.8                   0.4\n"
     ]
    },
    {
     "name": "stdout",
     "output_type": "stream",
     "text": [
      "                 623              3.9                   0.3\n"
     ]
    },
    {
     "name": "stdout",
     "output_type": "stream",
     "text": [
      "                 630              3.9                   0.3\n"
     ]
    },
    {
     "name": "stdout",
     "output_type": "stream",
     "text": [
      "                 637              3.9                   0.2\n"
     ]
    },
    {
     "name": "stdout",
     "output_type": "stream",
     "text": [
      "                 644              4.0                   0.2\n"
     ]
    },
    {
     "name": "stdout",
     "output_type": "stream",
     "text": [
      "                 651              4.0                   0.2\n"
     ]
    },
    {
     "name": "stdout",
     "output_type": "stream",
     "text": [
      "                 658              4.1                   0.1\n"
     ]
    },
    {
     "name": "stdout",
     "output_type": "stream",
     "text": [
      "                 665              4.1                   0.1\n"
     ]
    },
    {
     "name": "stdout",
     "output_type": "stream",
     "text": [
      "                 672              4.1                   0.0\n"
     ]
    },
    {
     "name": "stdout",
     "output_type": "stream",
     "text": [
      "time for processing    676 K-points in serial:     4.1573 ; per K-point          0.0061 ; proc-sec per K-point          0.0061\n"
     ]
    },
    {
     "name": "stdout",
     "output_type": "stream",
     "text": [
      "time1 =  0.060875892639160156\n",
      "Totally processed 676 K-points \n"
     ]
    }
   ],
   "source": [
    "#generate k-path\n",
    "path=wberri.Path(system_Te,\n",
    "    #start and end points of k_path.\n",
    "    #If two paths are not consencutive, put `None` between them. \n",
    "    k_nodes=[[0,0.5,0.5],[1./3,1./3,0.5],[1.,0.,0.5],None, \n",
    "            [0.5,0.,0.5],[1./3,1./3,0.5],[0.,1.,0.5],None,\n",
    "            [0.5,0.5,0.5],[1./3,1./3,0.5],[0.,0.,0.5]],\n",
    "    labels=[\"L1\",\"H\",\"A1\",\"L3\",\"H\",\"A3\",\"L2\",\"H\",\"A2\"],\n",
    "    #length: proportional to number of kpoints.\n",
    "    length=1000) \n",
    "\n",
    "#calculate band structure with unsymmetrized and symmetrized system.\n",
    "quantities = {\"Energy\":wberri.calculators.tabulate.Energy()}\n",
    "\n",
    "calculators={}\n",
    "calculators [\"tabulate\"] = wberri.calculators.TabulatorAll(quantities,ibands=[18,19],mode=\"path\")\n",
    "\n",
    "path_result_Te = wberri.run(\n",
    "        system=system_Te,\n",
    "        grid=path,\n",
    "        calculators=calculators)\n",
    "path_result_Te_sym = wberri.run(\n",
    "        system=system_Te_sym,\n",
    "        grid=path,\n",
    "        calculators=calculators)"
   ]
  },
  {
   "cell_type": "code",
   "execution_count": 8,
   "metadata": {
    "execution": {
     "iopub.execute_input": "2022-09-05T15:40:36.395907Z",
     "iopub.status.busy": "2022-09-05T15:40:36.395597Z",
     "iopub.status.idle": "2022-09-05T15:40:36.403252Z",
     "shell.execute_reply": "2022-09-05T15:40:36.402472Z"
    }
   },
   "outputs": [],
   "source": [
    "#read energy eigenvalue data of band 18 and 19 from results.\n",
    "band_Te = path_result_Te.results['tabulate'].get_data(quantity='Energy',iband=(0,1))\n",
    "band_Te_sym = path_result_Te_sym.results['tabulate'].get_data(quantity='Energy',iband=(0,1))\n",
    "#read k-path data\n",
    "band_k=path.getKline()"
   ]
  },
  {
   "cell_type": "code",
   "execution_count": 9,
   "metadata": {
    "execution": {
     "iopub.execute_input": "2022-09-05T15:40:36.408766Z",
     "iopub.status.busy": "2022-09-05T15:40:36.407121Z",
     "iopub.status.idle": "2022-09-05T15:40:36.624387Z",
     "shell.execute_reply": "2022-09-05T15:40:36.623616Z"
    }
   },
   "outputs": [
    {
     "data": {
      "text/plain": [
       "Text(0.5, 0, 'L -> H -> A')"
      ]
     },
     "execution_count": 9,
     "metadata": {},
     "output_type": "execute_result"
    },
    {
     "data": {
      "image/png": "[encoded data removed]",
      "text/plain": [
       "<Figure size 640x480 with 1 Axes>"
      ]
     },
     "metadata": {},
     "output_type": "display_data"
    }
   ],
   "source": [
    "#plot band structure with unsymmetrized system\n",
    "NK=len(band_k)\n",
    "colour = ['r','y','b']\n",
    "NK_one = NK//3\n",
    "plt.figure()\n",
    "for i in range(3):\n",
    "    plt.plot(band_k[0:NK_one],band_Te[NK_one*i:NK_one*(i+1)],colour[i],linewidth=5)\n",
    "plt.ylabel('Energy (eV)')\n",
    "plt.xlabel('L -> H -> A')"
   ]
  },
  {
   "cell_type": "code",
   "execution_count": 10,
   "metadata": {
    "execution": {
     "iopub.execute_input": "2022-09-05T15:40:36.629147Z",
     "iopub.status.busy": "2022-09-05T15:40:36.628555Z",
     "iopub.status.idle": "2022-09-05T15:40:36.825745Z",
     "shell.execute_reply": "2022-09-05T15:40:36.824816Z"
    }
   },
   "outputs": [
    {
     "data": {
      "text/plain": [
       "Text(0.5, 0, 'L -> H -> A')"
      ]
     },
     "execution_count": 10,
     "metadata": {},
     "output_type": "execute_result"
    },
    {
     "data": {
      "image/png": "[encoded data removed]",
      "text/plain": [
       "<Figure size 640x480 with 1 Axes>"
      ]
     },
     "metadata": {},
     "output_type": "display_data"
    }
   ],
   "source": [
    "#plot band structure with symmetrized system\n",
    "plt.figure()\n",
    "for i in range(3):\n",
    "    plt.plot(band_k[0:NK_one],band_Te_sym[NK_one*i:NK_one*(i+1)],colour[i],linewidth=5)\n",
    "plt.ylabel('Energy (eV)')\n",
    "plt.xlabel('L -> H -> A')"
   ]
  },
  {
   "cell_type": "markdown",
   "metadata": {},
   "source": [
    "Symmetrization fix the symmetries of Hamiltonian\n",
    "\n",
    "The Berry curvature is more sensitive to symmetry than energy eigenvalues."
   ]
  },
  {
   "cell_type": "code",
   "execution_count": 11,
   "metadata": {
    "execution": {
     "iopub.execute_input": "2022-09-05T15:40:36.829699Z",
     "iopub.status.busy": "2022-09-05T15:40:36.829411Z",
     "iopub.status.idle": "2022-09-05T15:40:47.512729Z",
     "shell.execute_reply": "2022-09-05T15:40:47.511876Z"
    }
   },
   "outputs": [
    {
     "name": "stdout",
     "output_type": "stream",
     "text": [
      "\u001b[1m\u001b[36mcalculator not described\n",
      "\u001b[0m\n",
      "\u001b[1m\u001b[36mcalculator not described\n",
      "\u001b[0m\n",
      "Calculation along a path - checking calculators for compatibility\n",
      "tabulate <wannierberri.calculators.TabulatorAll object at 0x7f528917f100>\n",
      "All calculators are compatible\n",
      "Symmetrization switched off for Path\n",
      "The set of k points is a Path() with 80 points and labels {0: 'L', 37: 'H', 79: 'K'}\n",
      "WARNING : symmetry is not used for a tabulation along path\n",
      "generating K_list\n",
      "Done \n",
      "Done, sum of weights:80.0\n",
      "iteration 0 - 80 points. New points are:\n",
      " K-point 0 : coord in rec.lattice = [   0.000000  ,   0.500000 ,    0.500000 ], refinement level:0, dK=[1. 1. 1.]  \n",
      " K-point 1 : coord in rec.lattice = [   0.009009  ,   0.495495 ,    0.500000 ], refinement level:0, dK=[1. 1. 1.]  \n",
      " K-point 2 : coord in rec.lattice = [   0.018018  ,   0.490991 ,    0.500000 ], refinement level:0, dK=[1. 1. 1.]  \n",
      " K-point 3 : coord in rec.lattice = [   0.027027  ,   0.486486 ,    0.500000 ], refinement level:0, dK=[1. 1. 1.]  \n",
      " K-point 4 : coord in rec.lattice = [   0.036036  ,   0.481982 ,    0.500000 ], refinement level:0, dK=[1. 1. 1.]  \n",
      " K-point 5 : coord in rec.lattice = [   0.045045  ,   0.477477 ,    0.500000 ], refinement level:0, dK=[1. 1. 1.]  \n",
      " K-point 6 : coord in rec.lattice = [   0.054054  ,   0.472973 ,    0.500000 ], refinement level:0, dK=[1. 1. 1.]  \n",
      " K-point 7 : coord in rec.lattice = [   0.063063  ,   0.468468 ,    0.500000 ], refinement level:0, dK=[1. 1. 1.]  \n",
      " K-point 8 : coord in rec.lattice = [   0.072072  ,   0.463964 ,    0.500000 ], refinement level:0, dK=[1. 1. 1.]  \n",
      " K-point 9 : coord in rec.lattice = [   0.081081  ,   0.459459 ,    0.500000 ], refinement level:0, dK=[1. 1. 1.]  \n",
      " K-point 10 : coord in rec.lattice = [   0.090090  ,   0.454955 ,    0.500000 ], refinement level:0, dK=[1. 1. 1.]  \n",
      " K-point 11 : coord in rec.lattice = [   0.099099  ,   0.450450 ,    0.500000 ], refinement level:0, dK=[1. 1. 1.]  \n",
      " K-point 12 : coord in rec.lattice = [   0.108108  ,   0.445946 ,    0.500000 ], refinement level:0, dK=[1. 1. 1.]  \n",
      " K-point 13 : coord in rec.lattice = [   0.117117  ,   0.441441 ,    0.500000 ], refinement level:0, dK=[1. 1. 1.]  \n",
      " K-point 14 : coord in rec.lattice = [   0.126126  ,   0.436937 ,    0.500000 ], refinement level:0, dK=[1. 1. 1.]  \n",
      " K-point 15 : coord in rec.lattice = [   0.135135  ,   0.432432 ,    0.500000 ], refinement level:0, dK=[1. 1. 1.]  \n",
      " K-point 16 : coord in rec.lattice = [   0.144144  ,   0.427928 ,    0.500000 ], refinement level:0, dK=[1. 1. 1.]  \n",
      " K-point 17 : coord in rec.lattice = [   0.153153  ,   0.423423 ,    0.500000 ], refinement level:0, dK=[1. 1. 1.]  \n",
      " K-point 18 : coord in rec.lattice = [   0.162162  ,   0.418919 ,    0.500000 ], refinement level:0, dK=[1. 1. 1.]  \n",
      " K-point 19 : coord in rec.lattice = [   0.171171  ,   0.414414 ,    0.500000 ], refinement level:0, dK=[1. 1. 1.]  \n",
      " K-point 20 : coord in rec.lattice = [   0.180180  ,   0.409910 ,    0.500000 ], refinement level:0, dK=[1. 1. 1.]  \n",
      " K-point 21 : coord in rec.lattice = [   0.189189  ,   0.405405 ,    0.500000 ], refinement level:0, dK=[1. 1. 1.]  \n",
      " K-point 22 : coord in rec.lattice = [   0.198198  ,   0.400901 ,    0.500000 ], refinement level:0, dK=[1. 1. 1.]  \n",
      " K-point 23 : coord in rec.lattice = [   0.207207  ,   0.396396 ,    0.500000 ], refinement level:0, dK=[1. 1. 1.]  \n",
      " K-point 24 : coord in rec.lattice = [   0.216216  ,   0.391892 ,    0.500000 ], refinement level:0, dK=[1. 1. 1.]  \n",
      " K-point 25 : coord in rec.lattice = [   0.225225  ,   0.387387 ,    0.500000 ], refinement level:0, dK=[1. 1. 1.]  \n",
      " K-point 26 : coord in rec.lattice = [   0.234234  ,   0.382883 ,    0.500000 ], refinement level:0, dK=[1. 1. 1.]  \n",
      " K-point 27 : coord in rec.lattice = [   0.243243  ,   0.378378 ,    0.500000 ], refinement level:0, dK=[1. 1. 1.]  \n",
      " K-point 28 : coord in rec.lattice = [   0.252252  ,   0.373874 ,    0.500000 ], refinement level:0, dK=[1. 1. 1.]  \n",
      " K-point 29 : coord in rec.lattice = [   0.261261  ,   0.369369 ,    0.500000 ], refinement level:0, dK=[1. 1. 1.]  \n",
      " K-point 30 : coord in rec.lattice = [   0.270270  ,   0.364865 ,    0.500000 ], refinement level:0, dK=[1. 1. 1.]  \n",
      " K-point 31 : coord in rec.lattice = [   0.279279  ,   0.360360 ,    0.500000 ], refinement level:0, dK=[1. 1. 1.]  \n",
      " K-point 32 : coord in rec.lattice = [   0.288288  ,   0.355856 ,    0.500000 ], refinement level:0, dK=[1. 1. 1.]  \n",
      " K-point 33 : coord in rec.lattice = [   0.297297  ,   0.351351 ,    0.500000 ], refinement level:0, dK=[1. 1. 1.]  \n",
      " K-point 34 : coord in rec.lattice = [   0.306306  ,   0.346847 ,    0.500000 ], refinement level:0, dK=[1. 1. 1.]  \n",
      " K-point 35 : coord in rec.lattice = [   0.315315  ,   0.342342 ,    0.500000 ], refinement level:0, dK=[1. 1. 1.]  \n",
      " K-point 36 : coord in rec.lattice = [   0.324324  ,   0.337838 ,    0.500000 ], refinement level:0, dK=[1. 1. 1.]  \n",
      " K-point 37 : coord in rec.lattice = [   0.333333  ,   0.333333 ,    0.500000 ], refinement level:0, dK=[1. 1. 1.]  \n",
      " K-point 38 : coord in rec.lattice = [   0.333333  ,   0.333333 ,    0.488095 ], refinement level:0, dK=[1. 1. 1.]  \n",
      " K-point 39 : coord in rec.lattice = [   0.333333  ,   0.333333 ,    0.476190 ], refinement level:0, dK=[1. 1. 1.]  \n",
      " K-point 40 : coord in rec.lattice = [   0.333333  ,   0.333333 ,    0.464286 ], refinement level:0, dK=[1. 1. 1.]  \n",
      " K-point 41 : coord in rec.lattice = [   0.333333  ,   0.333333 ,    0.452381 ], refinement level:0, dK=[1. 1. 1.]  \n",
      " K-point 42 : coord in rec.lattice = [   0.333333  ,   0.333333 ,    0.440476 ], refinement level:0, dK=[1. 1. 1.]  \n",
      " K-point 43 : coord in rec.lattice = [   0.333333  ,   0.333333 ,    0.428571 ], refinement level:0, dK=[1. 1. 1.]  \n",
      " K-point 44 : coord in rec.lattice = [   0.333333  ,   0.333333 ,    0.416667 ], refinement level:0, dK=[1. 1. 1.]  \n",
      " K-point 45 : coord in rec.lattice = [   0.333333  ,   0.333333 ,    0.404762 ], refinement level:0, dK=[1. 1. 1.]  \n",
      " K-point 46 : coord in rec.lattice = [   0.333333  ,   0.333333 ,    0.392857 ], refinement level:0, dK=[1. 1. 1.]  \n",
      " K-point 47 : coord in rec.lattice = [   0.333333  ,   0.333333 ,    0.380952 ], refinement level:0, dK=[1. 1. 1.]  \n",
      " K-point 48 : coord in rec.lattice = [   0.333333  ,   0.333333 ,    0.369048 ], refinement level:0, dK=[1. 1. 1.]  \n",
      " K-point 49 : coord in rec.lattice = [   0.333333  ,   0.333333 ,    0.357143 ], refinement level:0, dK=[1. 1. 1.]  \n",
      " K-point 50 : coord in rec.lattice = [   0.333333  ,   0.333333 ,    0.345238 ], refinement level:0, dK=[1. 1. 1.]  \n",
      " K-point 51 : coord in rec.lattice = [   0.333333  ,   0.333333 ,    0.333333 ], refinement level:0, dK=[1. 1. 1.]  \n",
      " K-point 52 : coord in rec.lattice = [   0.333333  ,   0.333333 ,    0.321429 ], refinement level:0, dK=[1. 1. 1.]  \n",
      " K-point 53 : coord in rec.lattice = [   0.333333  ,   0.333333 ,    0.309524 ], refinement level:0, dK=[1. 1. 1.]  \n",
      " K-point 54 : coord in rec.lattice = [   0.333333  ,   0.333333 ,    0.297619 ], refinement level:0, dK=[1. 1. 1.]  \n",
      " K-point 55 : coord in rec.lattice = [   0.333333  ,   0.333333 ,    0.285714 ], refinement level:0, dK=[1. 1. 1.]  \n",
      " K-point 56 : coord in rec.lattice = [   0.333333  ,   0.333333 ,    0.273810 ], refinement level:0, dK=[1. 1. 1.]  \n",
      " K-point 57 : coord in rec.lattice = [   0.333333  ,   0.333333 ,    0.261905 ], refinement level:0, dK=[1. 1. 1.]  \n",
      " K-point 58 : coord in rec.lattice = [   0.333333  ,   0.333333 ,    0.250000 ], refinement level:0, dK=[1. 1. 1.]  \n",
      " K-point 59 : coord in rec.lattice = [   0.333333  ,   0.333333 ,    0.238095 ], refinement level:0, dK=[1. 1. 1.]  \n",
      " K-point 60 : coord in rec.lattice = [   0.333333  ,   0.333333 ,    0.226190 ], refinement level:0, dK=[1. 1. 1.]  \n",
      " K-point 61 : coord in rec.lattice = [   0.333333  ,   0.333333 ,    0.214286 ], refinement level:0, dK=[1. 1. 1.]  \n",
      " K-point 62 : coord in rec.lattice = [   0.333333  ,   0.333333 ,    0.202381 ], refinement level:0, dK=[1. 1. 1.]  \n",
      " K-point 63 : coord in rec.lattice = [   0.333333  ,   0.333333 ,    0.190476 ], refinement level:0, dK=[1. 1. 1.]  \n",
      " K-point 64 : coord in rec.lattice = [   0.333333  ,   0.333333 ,    0.178571 ], refinement level:0, dK=[1. 1. 1.]  \n",
      " K-point 65 : coord in rec.lattice = [   0.333333  ,   0.333333 ,    0.166667 ], refinement level:0, dK=[1. 1. 1.]  \n",
      " K-point 66 : coord in rec.lattice = [   0.333333  ,   0.333333 ,    0.154762 ], refinement level:0, dK=[1. 1. 1.]  \n",
      " K-point 67 : coord in rec.lattice = [   0.333333  ,   0.333333 ,    0.142857 ], refinement level:0, dK=[1. 1. 1.]  \n",
      " K-point 68 : coord in rec.lattice = [   0.333333  ,   0.333333 ,    0.130952 ], refinement level:0, dK=[1. 1. 1.]  \n",
      " K-point 69 : coord in rec.lattice = [   0.333333  ,   0.333333 ,    0.119048 ], refinement level:0, dK=[1. 1. 1.]  \n",
      " K-point 70 : coord in rec.lattice = [   0.333333  ,   0.333333 ,    0.107143 ], refinement level:0, dK=[1. 1. 1.]  \n",
      " K-point 71 : coord in rec.lattice = [   0.333333  ,   0.333333 ,    0.095238 ], refinement level:0, dK=[1. 1. 1.]  \n",
      " K-point 72 : coord in rec.lattice = [   0.333333  ,   0.333333 ,    0.083333 ], refinement level:0, dK=[1. 1. 1.]  \n",
      " K-point 73 : coord in rec.lattice = [   0.333333  ,   0.333333 ,    0.071429 ], refinement level:0, dK=[1. 1. 1.]  \n",
      " K-point 74 : coord in rec.lattice = [   0.333333  ,   0.333333 ,    0.059524 ], refinement level:0, dK=[1. 1. 1.]  \n",
      " K-point 75 : coord in rec.lattice = [   0.333333  ,   0.333333 ,    0.047619 ], refinement level:0, dK=[1. 1. 1.]  \n",
      " K-point 76 : coord in rec.lattice = [   0.333333  ,   0.333333 ,    0.035714 ], refinement level:0, dK=[1. 1. 1.]  \n",
      " K-point 77 : coord in rec.lattice = [   0.333333  ,   0.333333 ,    0.023810 ], refinement level:0, dK=[1. 1. 1.]  \n",
      " K-point 78 : coord in rec.lattice = [   0.333333  ,   0.333333 ,    0.011905 ], refinement level:0, dK=[1. 1. 1.]  \n",
      " K-point 79 : coord in rec.lattice = [   0.333333  ,   0.333333 ,    0.000000 ], refinement level:0, dK=[1. 1. 1.]  \n",
      "symgroup : None\n",
      "processing 80 K points : in serial.\n",
      "# K-points calculated  Wall time (sec)  Est. remaining (sec)\n"
     ]
    },
    {
     "name": "stdout",
     "output_type": "stream",
     "text": [
      "                   1              0.0                   2.6\n"
     ]
    },
    {
     "name": "stdout",
     "output_type": "stream",
     "text": [
      "                   2              0.1                   2.6\n"
     ]
    },
    {
     "name": "stdout",
     "output_type": "stream",
     "text": [
      "                   3              0.1                   2.5\n"
     ]
    },
    {
     "name": "stdout",
     "output_type": "stream",
     "text": [
      "                   4              0.1                   2.4\n"
     ]
    },
    {
     "name": "stdout",
     "output_type": "stream",
     "text": [
      "                   5              0.2                   2.4\n"
     ]
    },
    {
     "name": "stdout",
     "output_type": "stream",
     "text": [
      "                   6              0.2                   2.4\n"
     ]
    },
    {
     "name": "stdout",
     "output_type": "stream",
     "text": [
      "                   7              0.2                   2.4\n"
     ]
    },
    {
     "name": "stdout",
     "output_type": "stream",
     "text": [
      "                   8              0.3                   2.3\n"
     ]
    },
    {
     "name": "stdout",
     "output_type": "stream",
     "text": [
      "                   9              0.3                   2.3\n"
     ]
    },
    {
     "name": "stdout",
     "output_type": "stream",
     "text": [
      "                  10              0.3                   2.2\n"
     ]
    },
    {
     "name": "stdout",
     "output_type": "stream",
     "text": [
      "                  11              0.3                   2.2\n"
     ]
    },
    {
     "name": "stdout",
     "output_type": "stream",
     "text": [
      "                  12              0.4                   2.2\n"
     ]
    },
    {
     "name": "stdout",
     "output_type": "stream",
     "text": [
      "                  13              0.4                   2.1\n"
     ]
    },
    {
     "name": "stdout",
     "output_type": "stream",
     "text": [
      "                  14              0.4                   2.1\n"
     ]
    },
    {
     "name": "stdout",
     "output_type": "stream",
     "text": [
      "                  15              0.5                   2.1\n"
     ]
    },
    {
     "name": "stdout",
     "output_type": "stream",
     "text": [
      "                  16              0.5                   2.1\n"
     ]
    },
    {
     "name": "stdout",
     "output_type": "stream",
     "text": [
      "                  17              0.5                   2.0\n"
     ]
    },
    {
     "name": "stdout",
     "output_type": "stream",
     "text": [
      "                  18              0.6                   2.0\n"
     ]
    },
    {
     "name": "stdout",
     "output_type": "stream",
     "text": [
      "                  19              0.6                   1.9\n"
     ]
    },
    {
     "name": "stdout",
     "output_type": "stream",
     "text": [
      "                  20              0.6                   1.9\n"
     ]
    },
    {
     "name": "stdout",
     "output_type": "stream",
     "text": [
      "                  21              0.7                   1.9\n"
     ]
    },
    {
     "name": "stdout",
     "output_type": "stream",
     "text": [
      "                  22              0.7                   1.8\n"
     ]
    },
    {
     "name": "stdout",
     "output_type": "stream",
     "text": [
      "                  23              0.7                   1.8\n"
     ]
    },
    {
     "name": "stdout",
     "output_type": "stream",
     "text": [
      "                  24              0.8                   1.8\n"
     ]
    },
    {
     "name": "stdout",
     "output_type": "stream",
     "text": [
      "                  25              0.8                   1.7\n"
     ]
    },
    {
     "name": "stdout",
     "output_type": "stream",
     "text": [
      "                  26              0.8                   1.7\n"
     ]
    },
    {
     "name": "stdout",
     "output_type": "stream",
     "text": [
      "                  27              0.9                   1.7\n"
     ]
    },
    {
     "name": "stdout",
     "output_type": "stream",
     "text": [
      "                  28              0.9                   1.6\n"
     ]
    },
    {
     "name": "stdout",
     "output_type": "stream",
     "text": [
      "                  29              0.9                   1.6\n"
     ]
    },
    {
     "name": "stdout",
     "output_type": "stream",
     "text": [
      "                  30              0.9                   1.6\n"
     ]
    },
    {
     "name": "stdout",
     "output_type": "stream",
     "text": [
      "                  31              1.0                   1.5\n"
     ]
    },
    {
     "name": "stdout",
     "output_type": "stream",
     "text": [
      "                  32              1.0                   1.5\n"
     ]
    },
    {
     "name": "stdout",
     "output_type": "stream",
     "text": [
      "                  33              1.0                   1.5\n"
     ]
    },
    {
     "name": "stdout",
     "output_type": "stream",
     "text": [
      "                  34              1.1                   1.4\n"
     ]
    },
    {
     "name": "stdout",
     "output_type": "stream",
     "text": [
      "                  35              1.1                   1.4\n"
     ]
    },
    {
     "name": "stdout",
     "output_type": "stream",
     "text": [
      "                  36              1.1                   1.4\n"
     ]
    },
    {
     "name": "stdout",
     "output_type": "stream",
     "text": [
      "                  37              1.2                   1.4\n"
     ]
    },
    {
     "name": "stdout",
     "output_type": "stream",
     "text": [
      "                  38              1.2                   1.3\n"
     ]
    },
    {
     "name": "stdout",
     "output_type": "stream",
     "text": [
      "                  39              1.2                   1.3\n"
     ]
    },
    {
     "name": "stdout",
     "output_type": "stream",
     "text": [
      "                  40              1.3                   1.3\n"
     ]
    },
    {
     "name": "stdout",
     "output_type": "stream",
     "text": [
      "                  41              1.3                   1.2\n"
     ]
    },
    {
     "name": "stdout",
     "output_type": "stream",
     "text": [
      "                  42              1.3                   1.2"
     ]
    },
    {
     "name": "stdout",
     "output_type": "stream",
     "text": [
      "\n"
     ]
    },
    {
     "name": "stdout",
     "output_type": "stream",
     "text": [
      "                  43              1.4                   1.2"
     ]
    },
    {
     "name": "stdout",
     "output_type": "stream",
     "text": [
      "\n"
     ]
    },
    {
     "name": "stdout",
     "output_type": "stream",
     "text": [
      "                  44              1.4                   1.1\n"
     ]
    },
    {
     "name": "stdout",
     "output_type": "stream",
     "text": [
      "                  45              1.4                   1.1\n"
     ]
    },
    {
     "name": "stdout",
     "output_type": "stream",
     "text": [
      "                  46              1.5                   1.1\n"
     ]
    },
    {
     "name": "stdout",
     "output_type": "stream",
     "text": [
      "                  47              1.5                   1.1\n"
     ]
    },
    {
     "name": "stdout",
     "output_type": "stream",
     "text": [
      "                  48              1.5                   1.0\n"
     ]
    },
    {
     "name": "stdout",
     "output_type": "stream",
     "text": [
      "                  49              1.6                   1.0\n"
     ]
    },
    {
     "name": "stdout",
     "output_type": "stream",
     "text": [
      "                  50              1.6                   1.0\n"
     ]
    },
    {
     "name": "stdout",
     "output_type": "stream",
     "text": [
      "                  51              1.6                   0.9\n"
     ]
    },
    {
     "name": "stdout",
     "output_type": "stream",
     "text": [
      "                  52              1.7                   0.9\n"
     ]
    },
    {
     "name": "stdout",
     "output_type": "stream",
     "text": [
      "                  53              1.7                   0.9\n"
     ]
    },
    {
     "name": "stdout",
     "output_type": "stream",
     "text": [
      "                  54              1.7                   0.8\n"
     ]
    },
    {
     "name": "stdout",
     "output_type": "stream",
     "text": [
      "                  55              1.8                   0.8\n"
     ]
    },
    {
     "name": "stdout",
     "output_type": "stream",
     "text": [
      "                  56              1.8                   0.8\n"
     ]
    },
    {
     "name": "stdout",
     "output_type": "stream",
     "text": [
      "                  57              1.8                   0.7\n"
     ]
    },
    {
     "name": "stdout",
     "output_type": "stream",
     "text": [
      "                  58              1.9                   0.7\n"
     ]
    },
    {
     "name": "stdout",
     "output_type": "stream",
     "text": [
      "                  59              1.9                   0.7\n"
     ]
    },
    {
     "name": "stdout",
     "output_type": "stream",
     "text": [
      "                  60              1.9                   0.6\n"
     ]
    },
    {
     "name": "stdout",
     "output_type": "stream",
     "text": [
      "                  61              2.0                   0.6\n"
     ]
    },
    {
     "name": "stdout",
     "output_type": "stream",
     "text": [
      "                  62              2.0                   0.6"
     ]
    },
    {
     "name": "stdout",
     "output_type": "stream",
     "text": [
      "\n"
     ]
    },
    {
     "name": "stdout",
     "output_type": "stream",
     "text": [
      "                  63              2.0                   0.5\n"
     ]
    },
    {
     "name": "stdout",
     "output_type": "stream",
     "text": [
      "                  64              2.1                   0.5\n"
     ]
    },
    {
     "name": "stdout",
     "output_type": "stream",
     "text": [
      "                  65              2.1                   0.5\n"
     ]
    },
    {
     "name": "stdout",
     "output_type": "stream",
     "text": [
      "                  66              2.1                   0.4\n"
     ]
    },
    {
     "name": "stdout",
     "output_type": "stream",
     "text": [
      "                  67              2.1                   0.4\n"
     ]
    },
    {
     "name": "stdout",
     "output_type": "stream",
     "text": [
      "                  68              2.2                   0.4\n"
     ]
    },
    {
     "name": "stdout",
     "output_type": "stream",
     "text": [
      "                  69              2.2                   0.4\n"
     ]
    },
    {
     "name": "stdout",
     "output_type": "stream",
     "text": [
      "                  70              2.2                   0.3\n"
     ]
    },
    {
     "name": "stdout",
     "output_type": "stream",
     "text": [
      "                  71              2.3                   0.3\n"
     ]
    },
    {
     "name": "stdout",
     "output_type": "stream",
     "text": [
      "                  72              2.3                   0.3\n"
     ]
    },
    {
     "name": "stdout",
     "output_type": "stream",
     "text": [
      "                  73              2.3                   0.2\n"
     ]
    },
    {
     "name": "stdout",
     "output_type": "stream",
     "text": [
      "                  74              2.4                   0.2\n"
     ]
    },
    {
     "name": "stdout",
     "output_type": "stream",
     "text": [
      "                  75              2.4                   0.2\n"
     ]
    },
    {
     "name": "stdout",
     "output_type": "stream",
     "text": [
      "                  76              2.4                   0.1\n"
     ]
    },
    {
     "name": "stdout",
     "output_type": "stream",
     "text": [
      "                  77              2.5                   0.1\n"
     ]
    },
    {
     "name": "stdout",
     "output_type": "stream",
     "text": [
      "                  78              2.5                   0.1\n"
     ]
    },
    {
     "name": "stdout",
     "output_type": "stream",
     "text": [
      "                  79              2.5                   0.0\n"
     ]
    },
    {
     "name": "stdout",
     "output_type": "stream",
     "text": [
      "                  80              2.6                   0.0\n"
     ]
    },
    {
     "name": "stdout",
     "output_type": "stream",
     "text": [
      "time for processing     80 K-points in serial:     2.5699 ; per K-point          0.0321 ; proc-sec per K-point          0.0321\n"
     ]
    },
    {
     "name": "stdout",
     "output_type": "stream",
     "text": [
      "time1 = "
     ]
    },
    {
     "name": "stdout",
     "output_type": "stream",
     "text": [
      " 0.003631591796875\n",
      "Totally processed 80 K-points \n",
      "Calculation along a path - checking calculators for compatibility\n",
      "tabulate <wannierberri.calculators.TabulatorAll object at 0x7f528917f100>\n",
      "All calculators are compatible\n",
      "Symmetrization switched off for Path\n",
      "The set of k points is a Path() with 80 points and labels {0: 'L', 37: 'H', 79: 'K'}\n",
      "WARNING : symmetry is not used for a tabulation along path\n",
      "generating K_list\n",
      "Done \n",
      "Done, sum of weights:80.0\n",
      "iteration 0 - 80 points. New points are:\n",
      " K-point 0 : coord in rec.lattice = [   0.000000  ,   0.500000 ,    0.500000 ], refinement level:0, dK=[1. 1. 1.]  \n",
      " K-point 1 : coord in rec.lattice = [   0.009009  ,   0.495495 ,    0.500000 ], refinement level:0, dK=[1. 1. 1.]  \n",
      " K-point 2 : coord in rec.lattice = [   0.018018  ,   0.490991 ,    0.500000 ], refinement level:0, dK=[1. 1. 1.]  \n",
      " K-point 3 : coord in rec.lattice = [   0.027027  ,   0.486486 ,    0.500000 ], refinement level:0, dK=[1. 1. 1.]  \n",
      " K-point 4 : coord in rec.lattice = [   0.036036  ,   0.481982 ,    0.500000 ], refinement level:0, dK=[1. 1. 1.]  \n",
      " K-point 5 : coord in rec.lattice = [   0.045045  ,   0.477477 ,    0.500000 ], refinement level:0, dK=[1. 1. 1.]  \n",
      " K-point 6 : coord in rec.lattice = [   0.054054  ,   0.472973 ,    0.500000 ], refinement level:0, dK=[1. 1. 1.]  \n",
      " K-point 7 : coord in rec.lattice = [   0.063063  ,   0.468468 ,    0.500000 ], refinement level:0, dK=[1. 1. 1.]  \n",
      " K-point 8 : coord in rec.lattice = [   0.072072  ,   0.463964 ,    0.500000 ], refinement level:0, dK=[1. 1. 1.]  \n",
      " K-point 9 : coord in rec.lattice = [   0.081081  ,   0.459459 ,    0.500000 ], refinement level:0, dK=[1. 1. 1.]  \n",
      " K-point 10 : coord in rec.lattice = [   0.090090  ,   0.454955 ,    0.500000 ], refinement level:0, dK=[1. 1. 1.]  \n",
      " K-point 11 : coord in rec.lattice = [   0.099099  ,   0.450450 ,    0.500000 ], refinement level:0, dK=[1. 1. 1.]  \n",
      " K-point 12 : coord in rec.lattice = [   0.108108  ,   0.445946 ,    0.500000 ], refinement level:0, dK=[1. 1. 1.]  \n",
      " K-point 13 : coord in rec.lattice = [   0.117117  ,   0.441441 ,    0.500000 ], refinement level:0, dK=[1. 1. 1.]  \n",
      " K-point 14 : coord in rec.lattice = [   0.126126  ,   0.436937 ,    0.500000 ], refinement level:0, dK=[1. 1. 1.]  \n",
      " K-point 15 : coord in rec.lattice = [   0.135135  ,   0.432432 ,    0.500000 ], refinement level:0, dK=[1. 1. 1.]  \n",
      " K-point 16 : coord in rec.lattice = [   0.144144  ,   0.427928 ,    0.500000 ], refinement level:0, dK=[1. 1. 1.]  \n",
      " K-point 17 : coord in rec.lattice = [   0.153153  ,   0.423423 ,    0.500000 ], refinement level:0, dK=[1. 1. 1.]  \n",
      " K-point 18 : coord in rec.lattice = [   0.162162  ,   0.418919 ,    0.500000 ], refinement level:0, dK=[1. 1. 1.]  \n",
      " K-point 19 : coord in rec.lattice = [   0.171171  ,   0.414414 ,    0.500000 ], refinement level:0, dK=[1. 1. 1.]  \n",
      " K-point 20 : coord in rec.lattice = [   0.180180  ,   0.409910 ,    0.500000 ], refinement level:0, dK=[1. 1. 1.]  \n",
      " K-point 21 : coord in rec.lattice = [   0.189189  ,   0.405405 ,    0.500000 ], refinement level:0, dK=[1. 1. 1.]  \n",
      " K-point 22 : coord in rec.lattice = [   0.198198  ,   0.400901 ,    0.500000 ], refinement level:0, dK=[1. 1. 1.]  \n",
      " K-point 23 : coord in rec.lattice = [   0.207207  ,   0.396396 ,    0.500000 ], refinement level:0, dK=[1. 1. 1.]  \n",
      " K-point 24 : coord in rec.lattice = [   0.216216  ,   0.391892 ,    0.500000 ], refinement level:0, dK=[1. 1. 1.]  \n",
      " K-point 25 : coord in rec.lattice = [   0.225225  ,   0.387387 ,    0.500000 ], refinement level:0, dK=[1. 1. 1.]  \n",
      " K-point 26 : coord in rec.lattice = [   0.234234  ,   0.382883 ,    0.500000 ], refinement level:0, dK=[1. 1. 1.]  \n",
      " K-point 27 : coord in rec.lattice = [   0.243243  ,   0.378378 ,    0.500000 ], refinement level:0, dK=[1. 1. 1.]  \n",
      " K-point 28 : coord in rec.lattice = [   0.252252  ,   0.373874 ,    0.500000 ], refinement level:0, dK=[1. 1. 1.]  \n",
      " K-point 29 : coord in rec.lattice = [   0.261261  ,   0.369369 ,    0.500000 ], refinement level:0, dK=[1. 1. 1.]  \n",
      " K-point 30 : coord in rec.lattice = [   0.270270  ,   0.364865 ,    0.500000 ], refinement level:0, dK=[1. 1. 1.]  \n",
      " K-point 31 : coord in rec.lattice = [   0.279279  ,   0.360360 ,    0.500000 ], refinement level:0, dK=[1. 1. 1.]  \n",
      " K-point 32 : coord in rec.lattice = [   0.288288  ,   0.355856 ,    0.500000 ], refinement level:0, dK=[1. 1. 1.]  \n",
      " K-point 33 : coord in rec.lattice = [   0.297297  ,   0.351351 ,    0.500000 ], refinement level:0, dK=[1. 1. 1.]  \n",
      " K-point 34 : coord in rec.lattice = [   0.306306  ,   0.346847 ,    0.500000 ], refinement level:0, dK=[1. 1. 1.]  \n",
      " K-point 35 : coord in rec.lattice = [   0.315315  ,   0.342342 ,    0.500000 ], refinement level:0, dK=[1. 1. 1.]  \n",
      " K-point 36 : coord in rec.lattice = [   0.324324  ,   0.337838 ,    0.500000 ], refinement level:0, dK=[1. 1. 1.]  \n",
      " K-point 37 : coord in rec.lattice = [   0.333333  ,   0.333333 ,    0.500000 ], refinement level:0, dK=[1. 1. 1.]  \n",
      " K-point 38 : coord in rec.lattice = [   0.333333  ,   0.333333 ,    0.488095 ], refinement level:0, dK=[1. 1. 1.]  \n",
      " K-point 39 : coord in rec.lattice = [   0.333333  ,   0.333333 ,    0.476190 ], refinement level:0, dK=[1. 1. 1.]  \n",
      " K-point 40 : coord in rec.lattice = [   0.333333  ,   0.333333 ,    0.464286 ], refinement level:0, dK=[1. 1. 1.]  \n",
      " K-point 41 : coord in rec.lattice = [   0.333333  ,   0.333333 ,    0.452381 ], refinement level:0, dK=[1. 1. 1.]  \n",
      " K-point 42 : coord in rec.lattice = [   0.333333  ,   0.333333 ,    0.440476 ], refinement level:0, dK=[1. 1. 1.]  \n",
      " K-point 43 : coord in rec.lattice = [   0.333333  ,   0.333333 ,    0.428571 ], refinement level:0, dK=[1. 1. 1.]  \n",
      " K-point 44 : coord in rec.lattice = [   0.333333  ,   0.333333 ,    0.416667 ], refinement level:0, dK=[1. 1. 1.]  \n",
      " K-point 45 : coord in rec.lattice = [   0.333333  ,   0.333333 ,    0.404762 ], refinement level:0, dK=[1. 1. 1.]  \n",
      " K-point 46 : coord in rec.lattice = [   0.333333  ,   0.333333 ,    0.392857 ], refinement level:0, dK=[1. 1. 1.]  \n",
      " K-point 47 : coord in rec.lattice = [   0.333333  ,   0.333333 ,    0.380952 ], refinement level:0, dK=[1. 1. 1.]  \n",
      " K-point 48 : coord in rec.lattice = [   0.333333  ,   0.333333 ,    0.369048 ], refinement level:0, dK=[1. 1. 1.]  \n",
      " K-point 49 : coord in rec.lattice = [   0.333333  ,   0.333333 ,    0.357143 ], refinement level:0, dK=[1. 1. 1.]  \n",
      " K-point 50 : coord in rec.lattice = [   0.333333  ,   0.333333 ,    0.345238 ], refinement level:0, dK=[1. 1. 1.]  \n",
      " K-point 51 : coord in rec.lattice = [   0.333333  ,   0.333333 ,    0.333333 ], refinement level:0, dK=[1. 1. 1.]  \n",
      " K-point 52 : coord in rec.lattice = [   0.333333  ,   0.333333 ,    0.321429 ], refinement level:0, dK=[1. 1. 1.]  \n",
      " K-point 53 : coord in rec.lattice = [   0.333333  ,   0.333333 ,    0.309524 ], refinement level:0, dK=[1. 1. 1.]  \n",
      " K-point 54 : coord in rec.lattice = [   0.333333  ,   0.333333 ,    0.297619 ], refinement level:0, dK=[1. 1. 1.]  \n",
      " K-point 55 : coord in rec.lattice = [   0.333333  ,   0.333333 ,    0.285714 ], refinement level:0, dK=[1. 1. 1.]  \n",
      " K-point 56 : coord in rec.lattice = [   0.333333  ,   0.333333 ,    0.273810 ], refinement level:0, dK=[1. 1. 1.]  \n",
      " K-point 57 : coord in rec.lattice = [   0.333333  ,   0.333333 ,    0.261905 ], refinement level:0, dK=[1. 1. 1.]  \n",
      " K-point 58 : coord in rec.lattice = [   0.333333  ,   0.333333 ,    0.250000 ], refinement level:0, dK=[1. 1. 1.]  \n",
      " K-point 59 : coord in rec.lattice = [   0.333333  ,   0.333333 ,    0.238095 ], refinement level:0, dK=[1. 1. 1.]  \n",
      " K-point 60 : coord in rec.lattice = [   0.333333  ,   0.333333 ,    0.226190 ], refinement level:0, dK=[1. 1. 1.]  \n",
      " K-point 61 : coord in rec.lattice = [   0.333333  ,   0.333333 ,    0.214286 ], refinement level:0, dK=[1. 1. 1.]  \n",
      " K-point 62 : coord in rec.lattice = [   0.333333  ,   0.333333 ,    0.202381 ], refinement level:0, dK=[1. 1. 1.]  \n",
      " K-point 63 : coord in rec.lattice = [   0.333333  ,   0.333333 ,    0.190476 ], refinement level:0, dK=[1. 1. 1.]  \n",
      " K-point 64 : coord in rec.lattice = [   0.333333  ,   0.333333 ,    0.178571 ], refinement level:0, dK=[1. 1. 1.]  \n",
      " K-point 65 : coord in rec.lattice = [   0.333333  ,   0.333333 ,    0.166667 ], refinement level:0, dK=[1. 1. 1.]  \n",
      " K-point 66 : coord in rec.lattice = [   0.333333  ,   0.333333 ,    0.154762 ], refinement level:0, dK=[1. 1. 1.]  \n",
      " K-point 67 : coord in rec.lattice = [   0.333333  ,   0.333333 ,    0.142857 ], refinement level:0, dK=[1. 1. 1.]  \n",
      " K-point 68 : coord in rec.lattice = [   0.333333  ,   0.333333 ,    0.130952 ], refinement level:0, dK=[1. 1. 1.]  \n",
      " K-point 69 : coord in rec.lattice = [   0.333333  ,   0.333333 ,    0.119048 ], refinement level:0, dK=[1. 1. 1.]  \n",
      " K-point 70 : coord in rec.lattice = [   0.333333  ,   0.333333 ,    0.107143 ], refinement level:0, dK=[1. 1. 1.]  \n",
      " K-point 71 : coord in rec.lattice = [   0.333333  ,   0.333333 ,    0.095238 ], refinement level:0, dK=[1. 1. 1.]  \n",
      " K-point 72 : coord in rec.lattice = [   0.333333  ,   0.333333 ,    0.083333 ], refinement level:0, dK=[1. 1. 1.]  \n",
      " K-point 73 : coord in rec.lattice = [   0.333333  ,   0.333333 ,    0.071429 ], refinement level:0, dK=[1. 1. 1.]  \n",
      " K-point 74 : coord in rec.lattice = [   0.333333  ,   0.333333 ,    0.059524 ], refinement level:0, dK=[1. 1. 1.]  \n",
      " K-point 75 : coord in rec.lattice = [   0.333333  ,   0.333333 ,    0.047619 ], refinement level:0, dK=[1. 1. 1.]  \n",
      " K-point 76 : coord in rec.lattice = [   0.333333  ,   0.333333 ,    0.035714 ], refinement level:0, dK=[1. 1. 1.]  \n",
      " K-point 77 : coord in rec.lattice = [   0.333333  ,   0.333333 ,    0.023810 ], refinement level:0, dK=[1. 1. 1.]  \n",
      " K-point 78 : coord in rec.lattice = [   0.333333  ,   0.333333 ,    0.011905 ], refinement level:0, dK=[1. 1. 1.]  \n",
      " K-point 79 : coord in rec.lattice = [   0.333333  ,   0.333333 ,    0.000000 ], refinement level:0, dK=[1. 1. 1.]  \n",
      "symgroup : None\n",
      "processing 80 K points : in serial.\n",
      "# K-points calculated  Wall time (sec)  Est. remaining (sec)\n"
     ]
    },
    {
     "name": "stdout",
     "output_type": "stream",
     "text": [
      "                   1              0.1                   7.5\n"
     ]
    },
    {
     "name": "stdout",
     "output_type": "stream",
     "text": [
      "                   2              0.2                   7.3"
     ]
    },
    {
     "name": "stdout",
     "output_type": "stream",
     "text": [
      "\n"
     ]
    },
    {
     "name": "stdout",
     "output_type": "stream",
     "text": [
      "                   3              0.3                   7.2\n"
     ]
    },
    {
     "name": "stdout",
     "output_type": "stream",
     "text": [
      "                   4              0.4                   7.0\n"
     ]
    },
    {
     "name": "stdout",
     "output_type": "stream",
     "text": [
      "                   5              0.5                   6.9\n"
     ]
    },
    {
     "name": "stdout",
     "output_type": "stream",
     "text": [
      "                   6              0.6                   6.8\n"
     ]
    },
    {
     "name": "stdout",
     "output_type": "stream",
     "text": [
      "                   7              0.7                   6.8\n"
     ]
    },
    {
     "name": "stdout",
     "output_type": "stream",
     "text": [
      "                   8              0.8                   6.8\n"
     ]
    },
    {
     "name": "stdout",
     "output_type": "stream",
     "text": [
      "                   9              0.8                   6.6\n"
     ]
    },
    {
     "name": "stdout",
     "output_type": "stream",
     "text": [
      "                  10              0.9                   6.6\n"
     ]
    },
    {
     "name": "stdout",
     "output_type": "stream",
     "text": [
      "                  11              1.0                   6.6\n"
     ]
    },
    {
     "name": "stdout",
     "output_type": "stream",
     "text": [
      "                  12              1.1                   6.4\n"
     ]
    },
    {
     "name": "stdout",
     "output_type": "stream",
     "text": [
      "                  13              1.2                   6.3\n"
     ]
    },
    {
     "name": "stdout",
     "output_type": "stream",
     "text": [
      "                  14              1.3                   6.2\n"
     ]
    },
    {
     "name": "stdout",
     "output_type": "stream",
     "text": [
      "                  15              1.4                   6.1\n"
     ]
    },
    {
     "name": "stdout",
     "output_type": "stream",
     "text": [
      "                  16              1.5                   6.0\n"
     ]
    },
    {
     "name": "stdout",
     "output_type": "stream",
     "text": [
      "                  17              1.6                   5.9\n"
     ]
    },
    {
     "name": "stdout",
     "output_type": "stream",
     "text": [
      "                  18              1.7                   5.8\n"
     ]
    },
    {
     "name": "stdout",
     "output_type": "stream",
     "text": [
      "                  19              1.8                   5.7\n"
     ]
    },
    {
     "name": "stdout",
     "output_type": "stream",
     "text": [
      "                  20              1.9                   5.6\n"
     ]
    },
    {
     "name": "stdout",
     "output_type": "stream",
     "text": [
      "                  21              2.0                   5.5\n"
     ]
    },
    {
     "name": "stdout",
     "output_type": "stream",
     "text": [
      "                  22              2.0                   5.4\n"
     ]
    },
    {
     "name": "stdout",
     "output_type": "stream",
     "text": [
      "                  23              2.1                   5.3\n"
     ]
    },
    {
     "name": "stdout",
     "output_type": "stream",
     "text": [
      "                  24              2.2                   5.2\n"
     ]
    },
    {
     "name": "stdout",
     "output_type": "stream",
     "text": [
      "                  25              2.3                   5.1\n"
     ]
    },
    {
     "name": "stdout",
     "output_type": "stream",
     "text": [
      "                  26              2.4                   5.0\n"
     ]
    },
    {
     "name": "stdout",
     "output_type": "stream",
     "text": [
      "                  27              2.5                   4.9\n"
     ]
    },
    {
     "name": "stdout",
     "output_type": "stream",
     "text": [
      "                  28              2.6                   4.9\n"
     ]
    },
    {
     "name": "stdout",
     "output_type": "stream",
     "text": [
      "                  29              2.7                   4.8\n"
     ]
    },
    {
     "name": "stdout",
     "output_type": "stream",
     "text": [
      "                  30              2.8                   4.7\n"
     ]
    },
    {
     "name": "stdout",
     "output_type": "stream",
     "text": [
      "                  31              2.9                   4.6\n"
     ]
    },
    {
     "name": "stdout",
     "output_type": "stream",
     "text": [
      "                  32              3.0                   4.5\n"
     ]
    },
    {
     "name": "stdout",
     "output_type": "stream",
     "text": [
      "                  33              3.1                   4.4\n"
     ]
    },
    {
     "name": "stdout",
     "output_type": "stream",
     "text": [
      "                  34              3.2                   4.3\n"
     ]
    },
    {
     "name": "stdout",
     "output_type": "stream",
     "text": [
      "                  35              3.3                   4.2\n"
     ]
    },
    {
     "name": "stdout",
     "output_type": "stream",
     "text": [
      "                  36              3.4                   4.1\n"
     ]
    },
    {
     "name": "stdout",
     "output_type": "stream",
     "text": [
      "                  37              3.5                   4.0\n"
     ]
    },
    {
     "name": "stdout",
     "output_type": "stream",
     "text": [
      "                  38              3.6                   4.0\n"
     ]
    },
    {
     "name": "stdout",
     "output_type": "stream",
     "text": [
      "                  39              3.7                   3.9\n"
     ]
    },
    {
     "name": "stdout",
     "output_type": "stream",
     "text": [
      "                  40              3.8                   3.8\n"
     ]
    },
    {
     "name": "stdout",
     "output_type": "stream",
     "text": [
      "                  41              3.9                   3.7\n"
     ]
    },
    {
     "name": "stdout",
     "output_type": "stream",
     "text": [
      "                  42              4.0                   3.7"
     ]
    },
    {
     "name": "stdout",
     "output_type": "stream",
     "text": [
      "\n"
     ]
    },
    {
     "name": "stdout",
     "output_type": "stream",
     "text": [
      "                  43              4.1                   3.6\n"
     ]
    },
    {
     "name": "stdout",
     "output_type": "stream",
     "text": [
      "                  44              4.3                   3.5\n"
     ]
    },
    {
     "name": "stdout",
     "output_type": "stream",
     "text": [
      "                  45              4.4                   3.4\n"
     ]
    },
    {
     "name": "stdout",
     "output_type": "stream",
     "text": [
      "                  46              4.5                   3.3\n"
     ]
    },
    {
     "name": "stdout",
     "output_type": "stream",
     "text": [
      "                  47              4.6                   3.2"
     ]
    },
    {
     "name": "stdout",
     "output_type": "stream",
     "text": [
      "\n"
     ]
    },
    {
     "name": "stdout",
     "output_type": "stream",
     "text": [
      "                  48              4.7                   3.1\n"
     ]
    },
    {
     "name": "stdout",
     "output_type": "stream",
     "text": [
      "                  49              4.8                   3.0\n"
     ]
    },
    {
     "name": "stdout",
     "output_type": "stream",
     "text": [
      "                  50              4.9                   2.9\n"
     ]
    },
    {
     "name": "stdout",
     "output_type": "stream",
     "text": [
      "                  51              5.0                   2.8\n"
     ]
    },
    {
     "name": "stdout",
     "output_type": "stream",
     "text": [
      "                  52              5.1                   2.7\n"
     ]
    },
    {
     "name": "stdout",
     "output_type": "stream",
     "text": [
      "                  53              5.2                   2.6\n"
     ]
    },
    {
     "name": "stdout",
     "output_type": "stream",
     "text": [
      "                  54              5.3                   2.5\n"
     ]
    },
    {
     "name": "stdout",
     "output_type": "stream",
     "text": [
      "                  55              5.4                   2.4\n"
     ]
    },
    {
     "name": "stdout",
     "output_type": "stream",
     "text": [
      "                  56              5.5                   2.4\n"
     ]
    },
    {
     "name": "stdout",
     "output_type": "stream",
     "text": [
      "                  57              5.6                   2.3\n"
     ]
    },
    {
     "name": "stdout",
     "output_type": "stream",
     "text": [
      "                  58              5.7                   2.2\n"
     ]
    },
    {
     "name": "stdout",
     "output_type": "stream",
     "text": [
      "                  59              5.8                   2.1\n"
     ]
    },
    {
     "name": "stdout",
     "output_type": "stream",
     "text": [
      "                  60              5.9                   2.0\n"
     ]
    },
    {
     "name": "stdout",
     "output_type": "stream",
     "text": [
      "                  61              6.0                   1.9\n"
     ]
    },
    {
     "name": "stdout",
     "output_type": "stream",
     "text": [
      "                  62              6.2                   1.8\n"
     ]
    },
    {
     "name": "stdout",
     "output_type": "stream",
     "text": [
      "                  63              6.3                   1.7\n"
     ]
    },
    {
     "name": "stdout",
     "output_type": "stream",
     "text": [
      "                  64              6.4                   1.6\n"
     ]
    },
    {
     "name": "stdout",
     "output_type": "stream",
     "text": [
      "                  65              6.5                   1.5\n"
     ]
    },
    {
     "name": "stdout",
     "output_type": "stream",
     "text": [
      "                  66              6.6                   1.4\n"
     ]
    },
    {
     "name": "stdout",
     "output_type": "stream",
     "text": [
      "                  67              6.7                   1.3\n"
     ]
    },
    {
     "name": "stdout",
     "output_type": "stream",
     "text": [
      "                  68              6.8                   1.2\n"
     ]
    },
    {
     "name": "stdout",
     "output_type": "stream",
     "text": [
      "                  69              6.9                   1.1\n"
     ]
    },
    {
     "name": "stdout",
     "output_type": "stream",
     "text": [
      "                  70              7.0                   1.0\n"
     ]
    },
    {
     "name": "stdout",
     "output_type": "stream",
     "text": [
      "                  71              7.1                   0.9\n"
     ]
    },
    {
     "name": "stdout",
     "output_type": "stream",
     "text": [
      "                  72              7.3                   0.8\n"
     ]
    },
    {
     "name": "stdout",
     "output_type": "stream",
     "text": [
      "                  73              7.4                   0.7\n"
     ]
    },
    {
     "name": "stdout",
     "output_type": "stream",
     "text": [
      "                  74              7.5                   0.6\n"
     ]
    },
    {
     "name": "stdout",
     "output_type": "stream",
     "text": [
      "                  75              7.6                   0.5\n"
     ]
    },
    {
     "name": "stdout",
     "output_type": "stream",
     "text": [
      "                  76              7.7                   0.4\n"
     ]
    },
    {
     "name": "stdout",
     "output_type": "stream",
     "text": [
      "                  77              7.8                   0.3\n"
     ]
    },
    {
     "name": "stdout",
     "output_type": "stream",
     "text": [
      "                  78              7.9                   0.2\n"
     ]
    },
    {
     "name": "stdout",
     "output_type": "stream",
     "text": [
      "                  79              8.0                   0.1\n"
     ]
    },
    {
     "name": "stdout",
     "output_type": "stream",
     "text": [
      "                  80              8.1                   0.0\n"
     ]
    },
    {
     "name": "stdout",
     "output_type": "stream",
     "text": [
      "time for processing     80 K-points in serial:     8.0581 ; per K-point          0.1007 ; proc-sec per K-point          0.1007\n"
     ]
    },
    {
     "name": "stdout",
     "output_type": "stream",
     "text": [
      "time1 =  0.0039005279541015625\n",
      "Totally processed 80 K-points \n"
     ]
    }
   ],
   "source": [
    "# calculate Berry curvature alone a k-path.\n",
    "path_berry=wberri.Path(system_Te,\n",
    "                 k_nodes=[[0,0.5,0.5],[1./3,1./3,0.5],[1./3,1./3,0.]],\n",
    "                 labels=[\"L\",\"H\",\"K\",],\n",
    "                 length=500)\n",
    "\n",
    "quantities = {\"Energy\":wberri.calculators.tabulate.Energy(),\n",
    "              \"berry\":wberri.calculators.tabulate.BerryCurvature(),}\n",
    "\n",
    "calculators={}\n",
    "calculators [\"tabulate\"] = wberri.calculators.TabulatorAll(quantities,ibands=[18,19],mode=\"path\")\n",
    "\n",
    "berry_result_Te = wberri.run(\n",
    "        system=system_Te,\n",
    "        grid=path_berry,\n",
    "        calculators=calculators)\n",
    "\n",
    "berry_result_Te_sym = wberri.run(\n",
    "        system=system_Te_sym,\n",
    "        grid=path_berry,\n",
    "        calculators=calculators)"
   ]
  },
  {
   "cell_type": "code",
   "execution_count": 12,
   "metadata": {
    "execution": {
     "iopub.execute_input": "2022-09-05T15:40:47.519264Z",
     "iopub.status.busy": "2022-09-05T15:40:47.518683Z",
     "iopub.status.idle": "2022-09-05T15:40:47.844207Z",
     "shell.execute_reply": "2022-09-05T15:40:47.843113Z"
    }
   },
   "outputs": [
    {
     "data": {
      "image/png": "[encoded data removed]",
      "text/plain": [
       "<Figure size 640x480 with 1 Axes>"
      ]
     },
     "metadata": {},
     "output_type": "display_data"
    }
   ],
   "source": [
    "# use built-in plotting method to plot berry cuvature.\n",
    "# red means positive, blue means negative.\n",
    "# size of the dots shows the amplitude of the quantity.\n",
    "# unsymmetrized:\n",
    "berry_result_Te.results['tabulate'].plot_path_fat(path_berry,\n",
    "              quantity='berry',\n",
    "              component='z', # only take z compoment\n",
    "              Emin=6.0,  Emax=6.8,\n",
    "              mode=\"fatband\",\n",
    "              fatfactor=20,  # size of dots.\n",
    "              )"
   ]
  },
  {
   "cell_type": "code",
   "execution_count": 13,
   "metadata": {
    "execution": {
     "iopub.execute_input": "2022-09-05T15:40:47.848565Z",
     "iopub.status.busy": "2022-09-05T15:40:47.848258Z",
     "iopub.status.idle": "2022-09-05T15:40:48.015383Z",
     "shell.execute_reply": "2022-09-05T15:40:48.012711Z"
    }
   },
   "outputs": [
    {
     "data": {
      "image/png": "[encoded data removed]",
      "text/plain": [
       "<Figure size 640x480 with 1 Axes>"
      ]
     },
     "metadata": {},
     "output_type": "display_data"
    }
   ],
   "source": [
    "# symmetrized: \n",
    "berry_result_Te_sym.results['tabulate'].plot_path_fat(path_berry,\n",
    "              quantity='berry',\n",
    "              component='z', # only take z compoment\n",
    "              Emin=6.0,  Emax=6.8,\n",
    "              mode=\"fatband\",\n",
    "              fatfactor=20,  # size of dots.\n",
    "              )"
   ]
  },
  {
   "cell_type": "markdown",
   "metadata": {},
   "source": [
    "z-component of Berry curvature alone L-H path should be zero because of symmetry. The loss of symmetry has a big impact to Berry curvature of single k-point. It is fixed by symmetrization."
   ]
  },
  {
   "cell_type": "markdown",
   "metadata": {},
   "source": [
    "## Magnetic system with SOC (bcc Fe)"
   ]
  },
  {
   "cell_type": "markdown",
   "metadata": {},
   "source": [
    "bcc Fe is a magnetic system with magnetic moment -2.31 \\mu_B point to -z direction of cartesian coordinate system of lattice. We need to set parameter 'magmom'."
   ]
  },
  {
   "cell_type": "code",
   "execution_count": 14,
   "metadata": {
    "execution": {
     "iopub.execute_input": "2022-09-05T15:40:48.020381Z",
     "iopub.status.busy": "2022-09-05T15:40:48.019600Z",
     "iopub.status.idle": "2022-09-05T15:40:51.587441Z",
     "shell.execute_reply": "2022-09-05T15:40:51.586131Z"
    }
   },
   "outputs": [
    {
     "name": "stdout",
     "output_type": "stream",
     "text": [
      "\u001b[1m\u001b[32mreading TB file ./Fe_data/Fe_tb.dat ( written on 13May2022 at 01:23:14 )\u001b[0m\n",
      "NOT using ws_dist\n",
      "Number of wannier functions: 18\n",
      "Number of R points: 27\n",
      "Recommended size of FFT grid [5 5 5]\n",
      "\u001b[1m\u001b[32mReading the system from ./Fe_data/Fe_tb.dat finished successfully\u001b[0m\n",
      "\u001b[1m\u001b[32mreading TB file ./Fe_data/Fe_tb.dat ( written on 13May2022 at 01:23:14 )\u001b[0m\n",
      "NOT using ws_dist\n",
      "Number of wannier functions: 18\n",
      "Number of R points: 27\n",
      "Recommended size of FFT grid [5 5 5]\n",
      "\u001b[1m\u001b[32mReading the system from ./Fe_data/Fe_tb.dat finished successfully\u001b[0m\n",
      "Wannier atoms info\n",
      "(1, 'Fe', [0, 0, 0], ['sp3d2', 't2g'], [[0, 1, 2, 3, 4, 5, 9, 10, 11, 12, 13, 14], [6, 7, 8, 15, 16, 17]], [0.0, 0.0, -2.31])\n",
      "[get_spacegroup]\n",
      "  Spacegroup is Im-3m (229).\n",
      "  ---------------    1 ---------------\n",
      " det =  1.0\n",
      "  rotation:                    cart:\n",
      "     [ 1  0  0]                    [1.00 0.00 -0.00]\n",
      "     [ 0  1  0]                    [-0.00 1.00 -0.00]\n",
      "     [ 0  0  1]                    [-0.00 -0.00 1.00]\n",
      "  translation:\n",
      "     ( 0.00000  0.00000  0.00000)  ( 0.00000  0.00000  0.00000)\n",
      "  ---------------    2 ---------------\n",
      " det =  -1.0\n",
      "  rotation:                    cart:\n",
      "     [-1  0  0]                    [-1.00 -0.00 0.00]\n",
      "     [ 0 -1  0]                    [0.00 -1.00 0.00]\n",
      "     [ 0  0 -1]                    [0.00 0.00 -1.00]\n",
      "  translation:\n",
      "     ( 0.00000  0.00000  0.00000)  ( 0.00000  0.00000  0.00000)\n",
      "  ---------------    3 ---------------\n",
      " det =  1.0\n",
      "  rotation:                    cart:\n",
      "     [ 0  0  1]                    [0.00 -1.00 0.00]\n",
      "     [ 1  0 -1]                    [1.00 0.00 -0.00]\n",
      "     [ 0  1  1]                    [-0.00 -0.00 1.00]\n",
      "  translation:\n",
      "     ( 0.00000  0.00000  0.00000)  ( 0.00000  0.00000  0.00000)\n",
      "  ---------------    4 ---------------\n",
      " det =  -1.0\n",
      "  rotation:                    cart:\n",
      "     [ 0  0 -1]                    [-0.00 1.00 -0.00]\n",
      "     [-1  0  1]                    [-1.00 -0.00 0.00]\n",
      "     [ 0 -1 -1]                    [0.00 0.00 -1.00]\n",
      "  translation:\n",
      "     ( 0.00000  0.00000  0.00000)  ( 0.00000  0.00000  0.00000)\n",
      "  ---------------    5 ---------------\n",
      " det =  1.0\n",
      "  rotation:                    cart:\n",
      "     [ 0  1  1]                    [-1.00 -0.00 0.00]\n",
      "     [ 0 -1  0]                    [0.00 -1.00 0.00]\n",
      "     [ 1  1  0]                    [-0.00 -0.00 1.00]\n",
      "  translation:\n",
      "     ( 0.00000  0.00000  0.00000)  ( 0.00000  0.00000  0.00000)\n",
      "  ---------------    6 ---------------\n",
      " det =  -1.0\n",
      "  rotation:                    cart:\n",
      "     [ 0 -1 -1]                    [1.00 0.00 -0.00]\n",
      "     [ 0  1  0]                    [-0.00 1.00 -0.00]\n",
      "     [-1 -1  0]                    [0.00 0.00 -1.00]\n",
      "  translation:\n",
      "     ( 0.00000  0.00000  0.00000)  ( 0.00000  0.00000  0.00000)\n",
      "  ---------------    7 ---------------\n",
      " det =  1.0\n",
      "  rotation:                    cart:\n",
      "     [ 1  1  0]                    [-0.00 1.00 -0.00]\n",
      "     [-1  0  1]                    [-1.00 -0.00 0.00]\n",
      "     [ 1  0  0]                    [-0.00 -0.00 1.00]\n",
      "  translation:\n",
      "     ( 0.00000  0.00000  0.00000)  ( 0.00000  0.00000  0.00000)\n",
      "  ---------------    8 ---------------\n",
      " det =  -1.0\n",
      "  rotation:                    cart:\n",
      "     [-1 -1  0]                    [0.00 -1.00 0.00]\n",
      "     [ 1  0 -1]                    [1.00 0.00 -0.00]\n",
      "     [-1  0  0]                    [0.00 0.00 -1.00]\n",
      "  translation:\n",
      "     ( 0.00000  0.00000  0.00000)  ( 0.00000  0.00000  0.00000)\n",
      "  ---------------    9 ---------------\n",
      " det =  1.0\n",
      "  rotation:                    cart:\n",
      "     [ 0 -1 -1]                    [1.00 0.00 -0.00]\n",
      "     [-1  0  1]                    [0.00 -1.00 0.00]\n",
      "     [ 0  0 -1]                    [0.00 0.00 -1.00]\n",
      "  translation:\n",
      "     ( 0.00000  0.00000  0.00000)  ( 0.00000  0.00000  0.00000)\n",
      "  ---------------   10 ---------------\n",
      " det =  -1.0\n",
      "  rotation:                    cart:\n",
      "     [ 0  1  1]                    [-1.00 -0.00 0.00]\n",
      "     [ 1  0 -1]                    [-0.00 1.00 -0.00]\n",
      "     [ 0  0  1]                    [-0.00 -0.00 1.00]\n",
      "  translation:\n",
      "     ( 0.00000  0.00000  0.00000)  ( 0.00000  0.00000  0.00000)\n",
      "  ---------------   11 ---------------\n",
      " det =  1.0\n",
      "  rotation:                    cart:\n",
      "     [-1 -1  0]                    [0.00 -1.00 0.00]\n",
      "     [ 0  1  0]                    [-1.00 -0.00 0.00]\n",
      "     [ 0 -1 -1]                    [0.00 0.00 -1.00]\n",
      "  translation:\n",
      "     ( 0.00000  0.00000  0.00000)  ( 0.00000  0.00000  0.00000)\n",
      "  ---------------   12 ---------------\n",
      " det =  -1.0\n",
      "  rotation:                    cart:\n",
      "     [ 1  1  0]                    [-0.00 1.00 -0.00]\n",
      "     [ 0 -1  0]                    [1.00 0.00 -0.00]\n",
      "     [ 0  1  1]                    [-0.00 -0.00 1.00]\n",
      "  translation:\n",
      "     ( 0.00000  0.00000  0.00000)  ( 0.00000  0.00000  0.00000)\n",
      "  ---------------   13 ---------------\n",
      " det =  1.0\n",
      "  rotation:                    cart:\n",
      "     [-1  0  0]                    [-1.00 -0.00 0.00]\n",
      "     [ 1  0 -1]                    [-0.00 1.00 -0.00]\n",
      "     [-1 -1  0]                    [0.00 0.00 -1.00]\n",
      "  translation:\n",
      "     ( 0.00000  0.00000  0.00000)  ( 0.00000  0.00000  0.00000)\n",
      "  ---------------   14 ---------------\n",
      " det =  -1.0\n",
      "  rotation:                    cart:\n",
      "     [ 1  0  0]                    [1.00 0.00 -0.00]\n",
      "     [-1  0  1]                    [0.00 -1.00 0.00]\n",
      "     [ 1  1  0]                    [-0.00 -0.00 1.00]\n",
      "  translation:\n",
      "     ( 0.00000  0.00000  0.00000)  ( 0.00000  0.00000  0.00000)\n",
      "  ---------------   15 ---------------\n",
      " det =  1.0\n",
      "  rotation:                    cart:\n",
      "     [ 0  0 -1]                    [-0.00 1.00 -0.00]\n",
      "     [ 0 -1  0]                    [1.00 0.00 -0.00]\n",
      "     [-1  0  0]                    [0.00 0.00 -1.00]\n",
      "  translation:\n",
      "     ( 0.00000  0.00000  0.00000)  ( 0.00000  0.00000  0.00000)\n",
      "  ---------------   16 ---------------\n",
      " det =  -1.0\n",
      "  rotation:                    cart:\n",
      "     [ 0  0  1]                    [0.00 -1.00 0.00]\n",
      "     [ 0  1  0]                    [-1.00 -0.00 0.00]\n",
      "     [ 1  0  0]                    [-0.00 -0.00 1.00]\n",
      "  translation:\n",
      "     ( 0.00000  0.00000  0.00000)  ( 0.00000  0.00000  0.00000)\n",
      "  ---------------   17 ---------------\n",
      " det =  1.0\n",
      "  rotation:                    cart:\n",
      "     [ 1  1  0]                    [-0.00 -0.00 1.00]\n",
      "     [ 0 -1 -1]                    [1.00 0.00 -0.00]\n",
      "     [ 0  1  0]                    [-0.00 1.00 -0.00]\n",
      "  translation:\n",
      "     ( 0.00000  0.00000  0.00000)  ( 0.00000  0.00000  0.00000)\n",
      "  ---------------   18 ---------------\n",
      " det =  -1.0\n",
      "  rotation:                    cart:\n",
      "     [-1 -1  0]                    [0.00 0.00 -1.00]\n",
      "     [ 0  1  1]                    [-1.00 -0.00 0.00]\n",
      "     [ 0 -1  0]                    [0.00 -1.00 0.00]\n",
      "  translation:\n",
      "     ( 0.00000  0.00000  0.00000)  ( 0.00000  0.00000  0.00000)\n",
      "  ---------------   19 ---------------\n",
      " det =  1.0\n",
      "  rotation:                    cart:\n",
      "     [ 1  0  0]                    [-0.00 -0.00 1.00]\n",
      "     [-1 -1  0]                    [0.00 -1.00 0.00]\n",
      "     [ 1  0 -1]                    [1.00 0.00 -0.00]\n",
      "  translation:\n",
      "     ( 0.00000  0.00000  0.00000)  ( 0.00000  0.00000  0.00000)\n",
      "  ---------------   20 ---------------\n",
      " det =  -1.0\n",
      "  rotation:                    cart:\n",
      "     [-1  0  0]                    [0.00 0.00 -1.00]\n",
      "     [ 1  1  0]                    [-0.00 1.00 -0.00]\n",
      "     [-1  0  1]                    [-1.00 -0.00 0.00]\n",
      "  translation:\n",
      "     ( 0.00000  0.00000  0.00000)  ( 0.00000  0.00000  0.00000)\n",
      "  ---------------   21 ---------------\n",
      " det =  1.0\n",
      "  rotation:                    cart:\n",
      "     [ 0  0  1]                    [-0.00 -0.00 1.00]\n",
      "     [-1  0  0]                    [-1.00 -0.00 0.00]\n",
      "     [ 0 -1  0]                    [0.00 -1.00 0.00]\n",
      "  translation:\n",
      "     ( 0.00000  0.00000  0.00000)  ( 0.00000  0.00000  0.00000)\n",
      "  ---------------   22 ---------------\n",
      " det =  -1.0\n",
      "  rotation:                    cart:\n",
      "     [ 0  0 -1]                    [0.00 0.00 -1.00]\n",
      "     [ 1  0  0]                    [1.00 0.00 -0.00]\n",
      "     [ 0  1  0]                    [-0.00 1.00 -0.00]\n",
      "  translation:\n",
      "     ( 0.00000  0.00000  0.00000)  ( 0.00000  0.00000  0.00000)\n",
      "  ---------------   23 ---------------\n",
      " det =  1.0\n",
      "  rotation:                    cart:\n",
      "     [ 0  1  1]                    [-0.00 -0.00 1.00]\n",
      "     [ 0  0 -1]                    [-0.00 1.00 -0.00]\n",
      "     [-1  0  1]                    [-1.00 -0.00 0.00]\n",
      "  translation:\n",
      "     ( 0.00000  0.00000  0.00000)  ( 0.00000  0.00000  0.00000)\n",
      "  ---------------   24 ---------------\n",
      " det =  -1.0\n",
      "  rotation:                    cart:\n",
      "     [ 0 -1 -1]                    [0.00 0.00 -1.00]\n",
      "     [ 0  0  1]                    [0.00 -1.00 0.00]\n",
      "     [ 1  0 -1]                    [1.00 0.00 -0.00]\n",
      "  translation:\n",
      "     ( 0.00000  0.00000  0.00000)  ( 0.00000  0.00000  0.00000)\n",
      "  ---------------   25 ---------------\n",
      " det =  1.0\n",
      "  rotation:                    cart:\n",
      "     [-1 -1  0]                    [0.00 0.00 -1.00]\n",
      "     [ 1  0  0]                    [1.00 0.00 -0.00]\n",
      "     [-1  0  1]                    [0.00 -1.00 0.00]\n",
      "  translation:\n",
      "     ( 0.00000  0.00000  0.00000)  ( 0.00000  0.00000  0.00000)\n",
      "  ---------------   26 ---------------\n",
      " det =  -1.0\n",
      "  rotation:                    cart:\n",
      "     [ 1  1  0]                    [-0.00 -0.00 1.00]\n",
      "     [-1  0  0]                    [-1.00 -0.00 0.00]\n",
      "     [ 1  0 -1]                    [-0.00 1.00 -0.00]\n",
      "  translation:\n",
      "     ( 0.00000  0.00000  0.00000)  ( 0.00000  0.00000  0.00000)\n",
      "  ---------------   27 ---------------\n",
      " det =  1.0\n",
      "  rotation:                    cart:\n",
      "     [-1  0  0]                    [0.00 0.00 -1.00]\n",
      "     [ 0  0  1]                    [0.00 -1.00 0.00]\n",
      "     [ 0  1  0]                    [-1.00 -0.00 0.00]\n",
      "  translation:\n",
      "     ( 0.00000  0.00000  0.00000)  ( 0.00000  0.00000  0.00000)\n",
      "  ---------------   28 ---------------\n",
      " det =  -1.0\n",
      "  rotation:                    cart:\n",
      "     [ 1  0  0]                    [-0.00 -0.00 1.00]\n",
      "     [ 0  0 -1]                    [-0.00 1.00 -0.00]\n",
      "     [ 0 -1  0]                    [1.00 0.00 -0.00]\n",
      "  translation:\n",
      "     ( 0.00000  0.00000  0.00000)  ( 0.00000  0.00000  0.00000)\n",
      "  ---------------   29 ---------------\n",
      " det =  1.0\n",
      "  rotation:                    cart:\n",
      "     [ 0  0 -1]                    [0.00 0.00 -1.00]\n",
      "     [ 0  1  1]                    [-1.00 -0.00 0.00]\n",
      "     [ 1  0 -1]                    [-0.00 1.00 -0.00]\n",
      "  translation:\n",
      "     ( 0.00000  0.00000  0.00000)  ( 0.00000  0.00000  0.00000)\n",
      "  ---------------   30 ---------------\n",
      " det =  -1.0\n",
      "  rotation:                    cart:\n",
      "     [ 0  0  1]                    [-0.00 -0.00 1.00]\n",
      "     [ 0 -1 -1]                    [1.00 0.00 -0.00]\n",
      "     [-1  0  1]                    [0.00 -1.00 0.00]\n",
      "  translation:\n",
      "     ( 0.00000  0.00000  0.00000)  ( 0.00000  0.00000  0.00000)\n",
      "  ---------------   31 ---------------\n",
      " det =  1.0\n",
      "  rotation:                    cart:\n",
      "     [ 0 -1 -1]                    [0.00 0.00 -1.00]\n",
      "     [ 1  1  0]                    [-0.00 1.00 -0.00]\n",
      "     [ 0 -1  0]                    [1.00 0.00 -0.00]\n",
      "  translation:\n",
      "     ( 0.00000  0.00000  0.00000)  ( 0.00000  0.00000  0.00000)\n",
      "  ---------------   32 ---------------\n",
      " det =  -1.0\n",
      "  rotation:                    cart:\n",
      "     [ 0  1  1]                    [-0.00 -0.00 1.00]\n",
      "     [-1 -1  0]                    [0.00 -1.00 0.00]\n",
      "     [ 0  1  0]                    [-1.00 -0.00 0.00]\n",
      "  translation:\n",
      "     ( 0.00000  0.00000  0.00000)  ( 0.00000  0.00000  0.00000)\n",
      "  ---------------   33 ---------------\n",
      " det =  1.0\n",
      "  rotation:                    cart:\n",
      "     [ 1  0 -1]                    [-0.00 1.00 -0.00]\n",
      "     [ 0  0  1]                    [-0.00 -0.00 1.00]\n",
      "     [ 0 -1 -1]                    [1.00 0.00 -0.00]\n",
      "  translation:\n",
      "     ( 0.00000  0.00000  0.00000)  ( 0.00000  0.00000  0.00000)\n",
      "  ---------------   34 ---------------\n",
      " det =  -1.0\n",
      "  rotation:                    cart:\n",
      "     [-1  0  1]                    [0.00 -1.00 0.00]\n",
      "     [ 0  0 -1]                    [0.00 0.00 -1.00]\n",
      "     [ 0  1  1]                    [-1.00 -0.00 0.00]\n",
      "  translation:\n",
      "     ( 0.00000  0.00000  0.00000)  ( 0.00000  0.00000  0.00000)\n",
      "  ---------------   35 ---------------\n",
      " det =  1.0\n",
      "  rotation:                    cart:\n",
      "     [ 0 -1  0]                    [1.00 0.00 -0.00]\n",
      "     [ 0  1  1]                    [-0.00 -0.00 1.00]\n",
      "     [-1 -1  0]                    [0.00 -1.00 0.00]\n",
      "  translation:\n",
      "     ( 0.00000  0.00000  0.00000)  ( 0.00000  0.00000  0.00000)\n",
      "  ---------------   36 ---------------\n",
      " det =  -1.0\n",
      "  rotation:                    cart:\n",
      "     [ 0  1  0]                    [-1.00 -0.00 0.00]\n",
      "     [ 0 -1 -1]                    [0.00 0.00 -1.00]\n",
      "     [ 1  1  0]                    [-0.00 1.00 -0.00]\n",
      "  translation:\n",
      "     ( 0.00000  0.00000  0.00000)  ( 0.00000  0.00000  0.00000)\n",
      "  ---------------   37 ---------------\n",
      " det =  1.0\n",
      "  rotation:                    cart:\n",
      "     [-1  0  1]                    [0.00 -1.00 0.00]\n",
      "     [ 1  1  0]                    [-0.00 -0.00 1.00]\n",
      "     [-1  0  0]                    [-1.00 -0.00 0.00]\n",
      "  translation:\n",
      "     ( 0.00000  0.00000  0.00000)  ( 0.00000  0.00000  0.00000)\n",
      "  ---------------   38 ---------------\n",
      " det =  -1.0\n",
      "  rotation:                    cart:\n",
      "     [ 1  0 -1]                    [-0.00 1.00 -0.00]\n",
      "     [-1 -1  0]                    [0.00 0.00 -1.00]\n",
      "     [ 1  0  0]                    [1.00 0.00 -0.00]\n",
      "  translation:\n",
      "     ( 0.00000  0.00000  0.00000)  ( 0.00000  0.00000  0.00000)\n",
      "  ---------------   39 ---------------\n",
      " det =  1.0\n",
      "  rotation:                    cart:\n",
      "     [ 0  1  0]                    [-1.00 -0.00 0.00]\n",
      "     [ 1  0  0]                    [-0.00 -0.00 1.00]\n",
      "     [ 0  0 -1]                    [-0.00 1.00 -0.00]\n",
      "  translation:\n",
      "     ( 0.00000  0.00000  0.00000)  ( 0.00000  0.00000  0.00000)\n",
      "  ---------------   40 ---------------\n",
      " det =  -1.0\n",
      "  rotation:                    cart:\n",
      "     [ 0 -1  0]                    [1.00 0.00 -0.00]\n",
      "     [-1  0  0]                    [0.00 0.00 -1.00]\n",
      "     [ 0  0  1]                    [0.00 -1.00 0.00]\n",
      "  translation:\n",
      "     ( 0.00000  0.00000  0.00000)  ( 0.00000  0.00000  0.00000)\n",
      "  ---------------   41 ---------------\n",
      " det =  1.0\n",
      "  rotation:                    cart:\n",
      "     [ 0 -1  0]                    [0.00 -1.00 0.00]\n",
      "     [ 0  0 -1]                    [0.00 0.00 -1.00]\n",
      "     [ 1  0  0]                    [1.00 0.00 -0.00]\n",
      "  translation:\n",
      "     ( 0.00000  0.00000  0.00000)  ( 0.00000  0.00000  0.00000)\n",
      "  ---------------   42 ---------------\n",
      " det =  -1.0\n",
      "  rotation:                    cart:\n",
      "     [ 0  1  0]                    [-0.00 1.00 -0.00]\n",
      "     [ 0  0  1]                    [-0.00 -0.00 1.00]\n",
      "     [-1  0  0]                    [-1.00 -0.00 0.00]\n",
      "  translation:\n",
      "     ( 0.00000  0.00000  0.00000)  ( 0.00000  0.00000  0.00000)\n",
      "  ---------------   43 ---------------\n",
      " det =  1.0\n",
      "  rotation:                    cart:\n",
      "     [-1  0  1]                    [-1.00 -0.00 0.00]\n",
      "     [ 0 -1 -1]                    [0.00 0.00 -1.00]\n",
      "     [ 0  0  1]                    [0.00 -1.00 0.00]\n",
      "  translation:\n",
      "     ( 0.00000  0.00000  0.00000)  ( 0.00000  0.00000  0.00000)\n",
      "  ---------------   44 ---------------\n",
      " det =  -1.0\n",
      "  rotation:                    cart:\n",
      "     [ 1  0 -1]                    [1.00 0.00 -0.00]\n",
      "     [ 0  1  1]                    [-0.00 -0.00 1.00]\n",
      "     [ 0  0 -1]                    [-0.00 1.00 -0.00]\n",
      "  translation:\n",
      "     ( 0.00000  0.00000  0.00000)  ( 0.00000  0.00000  0.00000)\n",
      "  ---------------   45 ---------------\n",
      " det =  1.0\n",
      "  rotation:                    cart:\n",
      "     [ 0  1  0]                    [-0.00 1.00 -0.00]\n",
      "     [-1 -1  0]                    [0.00 0.00 -1.00]\n",
      "     [ 0  1  1]                    [-1.00 -0.00 0.00]\n",
      "  translation:\n",
      "     ( 0.00000  0.00000  0.00000)  ( 0.00000  0.00000  0.00000)\n",
      "  ---------------   46 ---------------\n",
      " det =  -1.0\n",
      "  rotation:                    cart:\n",
      "     [ 0 -1  0]                    [0.00 -1.00 0.00]\n",
      "     [ 1  1  0]                    [-0.00 -0.00 1.00]\n",
      "     [ 0 -1 -1]                    [1.00 0.00 -0.00]\n",
      "  translation:\n",
      "     ( 0.00000  0.00000  0.00000)  ( 0.00000  0.00000  0.00000)\n",
      "  ---------------   47 ---------------\n",
      " det =  1.0\n",
      "  rotation:                    cart:\n",
      "     [ 1  0 -1]                    [1.00 0.00 -0.00]\n",
      "     [-1  0  0]                    [0.00 0.00 -1.00]\n",
      "     [ 1  1  0]                    [-0.00 1.00 -0.00]\n",
      "  translation:\n",
      "     ( 0.00000  0.00000  0.00000)  ( 0.00000  0.00000  0.00000)\n",
      "  ---------------   48 ---------------\n",
      " det =  -1.0\n",
      "  rotation:                    cart:\n",
      "     [-1  0  1]                    [-1.00 -0.00 0.00]\n",
      "     [ 1  0  0]                    [-0.00 -0.00 1.00]\n",
      "     [-1 -1  0]                    [0.00 -1.00 0.00]\n",
      "  translation:\n",
      "     ( 0.00000  0.00000  0.00000)  ( 0.00000  0.00000  0.00000)\n",
      "====================\n",
      "System have inversion symmetry\n",
      "====================\n",
      "##########################\n",
      "Symmetrizing Start\n",
      "Symmetry operator 1 respect magnetic moment\n",
      "rot =  1\n"
     ]
    },
    {
     "name": "stdout",
     "output_type": "stream",
     "text": [
      "Symmetry operator 2 respect magnetic moment\n",
      "rot =  2\n",
      "Symmetry operator 3 respect magnetic moment\n",
      "rot =  3\n"
     ]
    },
    {
     "name": "stdout",
     "output_type": "stream",
     "text": [
      "Symmetry operator 4 respect magnetic moment\n",
      "rot =  4\n",
      "Symmetry operator 5 respect magnetic moment\n",
      "rot =  5\n"
     ]
    },
    {
     "name": "stdout",
     "output_type": "stream",
     "text": [
      "Symmetry operator 6 respect magnetic moment\n",
      "rot =  6\n",
      "Symmetry operator 7 respect magnetic moment\n",
      "rot =  7\n"
     ]
    },
    {
     "name": "stdout",
     "output_type": "stream",
     "text": [
      "Symmetry operator 8 respect magnetic moment\n",
      "rot =  8\n",
      "Symmetry operator 9*T respect magnetic moment\n",
      "rot =  9\n"
     ]
    },
    {
     "name": "stdout",
     "output_type": "stream",
     "text": [
      "Symmetry operator 10*T respect magnetic moment\n",
      "rot =  10\n",
      "Symmetry operator 11*T respect magnetic moment\n",
      "rot =  11\n"
     ]
    },
    {
     "name": "stdout",
     "output_type": "stream",
     "text": [
      "Symmetry operator 12*T respect magnetic moment\n",
      "rot =  12\n",
      "Symmetry operator 13*T respect magnetic moment\n",
      "rot =  13\n"
     ]
    },
    {
     "name": "stdout",
     "output_type": "stream",
     "text": [
      "Symmetry operator 14*T respect magnetic moment\n",
      "rot =  14\n",
      "Symmetry operator 15*T respect magnetic moment\n",
      "rot =  15\n"
     ]
    },
    {
     "name": "stdout",
     "output_type": "stream",
     "text": [
      "Symmetry operator 16*T respect magnetic moment\n",
      "rot =  16\n",
      "number of symmetry oprations ==  16\n",
      "nRvec_add = 0\n",
      "Symmetrizing Finished\n",
      "2.4586368510683202e-21\n",
      "Testing AA with diag = True\n",
      "[0,0,0]\n",
      "[-0.572  -0.5419  0.572   0.5419  0.      0.     -0.     -0.      0.      0.     -0.     -0.      0.      0.      0.      0.      0.      0.    ]\n",
      "[-0.572   0.572  -0.     -0.     -0.     -0.     -0.      0.     -0.     -0.5419  0.5419 -0.     -0.     -0.     -0.     -0.      0.     -0.    ]\n",
      "==============================================\n",
      "[-0.     -0.      0.      0.     -0.572  -0.5419  0.572   0.5419  0.      0.     -0.     -0.      0.      0.      0.      0.      0.      0.    ]\n",
      "[-0.     -0.     -0.572   0.572  -0.     -0.     -0.     -0.     -0.     -0.     -0.     -0.5419  0.5419 -0.     -0.     -0.     -0.     -0.    ]\n",
      "==============================================\n",
      "[ 0.      0.     -0.     -0.      0.      0.     -0.     -0.     -0.572  -0.5419  0.572   0.5419  0.      0.      0.      0.      0.      0.    ]\n",
      "[-0.     -0.     -0.     -0.     -0.572   0.572  -0.     -0.     -0.     -0.     -0.      0.      0.     -0.5419  0.5419 -0.      0.     -0.    ]\n",
      "==============================================\n",
      "[1,0,0]\n",
      "[-0.0067 -0.0081  0.0067  0.0081 -0.0124 -0.0121  0.0124  0.0121 -0.0124 -0.0121  0.0124  0.0121  0.      0.     -0.     -0.     -0.     -0.    ]\n",
      "[-0.0067  0.0067 -0.0124  0.0124 -0.0124  0.0124  0.      0.      0.     -0.0081  0.0081 -0.0121  0.0121 -0.0121  0.0121 -0.     -0.     -0.    ]\n",
      "==============================================\n",
      "[-0.0124 -0.0121  0.0124  0.0121 -0.0067 -0.0081  0.0067  0.0081 -0.0124 -0.0121  0.0124  0.0121 -0.     -0.     -0.     -0.     -0.     -0.    ]\n",
      "[-0.0124  0.0124 -0.0067  0.0067 -0.0124  0.0124  0.      0.      0.     -0.0121  0.0121 -0.0081  0.0081 -0.0121  0.0121 -0.     -0.     -0.    ]\n",
      "==============================================\n",
      "[-0.0124 -0.0121  0.0124  0.0121 -0.0124 -0.0121  0.0124  0.0121 -0.0067 -0.0081  0.0067  0.0081 -0.     -0.     -0.     -0.     -0.     -0.    ]\n",
      "[-0.0124  0.0124 -0.0124  0.0124 -0.0067  0.0067  0.      0.      0.     -0.0121  0.0121 -0.0121  0.0121 -0.0081  0.0081 -0.     -0.     -0.    ]\n",
      "==============================================\n",
      "[0,1,0]\n",
      "[-0.0067 -0.0081  0.0067  0.0081  0.0124  0.0121 -0.0124 -0.0121  0.0124  0.0121 -0.0124 -0.0121  0.      0.     -0.     -0.     -0.     -0.    ]\n",
      "[-0.0067  0.0067  0.0124 -0.0124  0.0124 -0.0124 -0.     -0.     -0.     -0.0081  0.0081  0.0121 -0.0121  0.0121 -0.0121 -0.     -0.     -0.    ]\n",
      "==============================================\n",
      "[ 0.0124  0.0121 -0.0124 -0.0121 -0.0067 -0.0081  0.0067  0.0081 -0.0124 -0.0121  0.0124  0.0121 -0.     -0.      0.      0.     -0.     -0.    ]\n",
      "[ 0.0124 -0.0124 -0.0067  0.0067 -0.0124  0.0124  0.      0.      0.      0.0121 -0.0121 -0.0081  0.0081 -0.0121  0.0121  0.      0.      0.    ]\n",
      "==============================================\n",
      "[ 0.0124  0.0121 -0.0124 -0.0121 -0.0124 -0.0121  0.0124  0.0121 -0.0067 -0.0081  0.0067  0.0081 -0.     -0.      0.      0.     -0.      0.    ]\n",
      "[ 0.0124 -0.0124 -0.0124  0.0124 -0.0067  0.0067  0.     -0.      0.      0.0121 -0.0121 -0.0121  0.0121 -0.0081  0.0081  0.      0.      0.    ]\n",
      "==============================================\n",
      "[0,0,1]\n",
      "[-0.0067 -0.0081  0.0067  0.0081 -0.0124 -0.0121  0.0124  0.0121  0.0124  0.0121 -0.0124 -0.0121 -0.     -0.      0.     -0.     -0.     -0.    ]\n",
      "[-0.0067  0.0067 -0.0124  0.0124  0.0124 -0.0124  0.      0.      0.     -0.0081  0.0081 -0.0121  0.0121  0.0121 -0.0121  0.      0.      0.    ]\n",
      "==============================================\n",
      "[-0.0124 -0.0121  0.0124  0.0121 -0.0067 -0.0081  0.0067  0.0081  0.0124  0.0121 -0.0124 -0.0121 -0.     -0.      0.      0.     -0.     -0.    ]\n",
      "[-0.0124  0.0124 -0.0067  0.0067  0.0124 -0.0124 -0.     -0.      0.     -0.0121  0.0121 -0.0081  0.0081  0.0121 -0.0121  0.      0.      0.    ]\n",
      "==============================================\n",
      "[ 0.0124  0.0121 -0.0124 -0.0121  0.0124  0.0121 -0.0124 -0.0121 -0.0067 -0.0081  0.0067  0.0081  0.      0.      0.      0.      0.      0.    ]\n",
      "[ 0.0124 -0.0124  0.0124 -0.0124 -0.0067  0.0067 -0.     -0.     -0.      0.0121 -0.0121  0.0121 -0.0121 -0.0081  0.0081 -0.     -0.     -0.    ]\n",
      "==============================================\n"
     ]
    }
   ],
   "source": [
    "system_Fe=wberri.System_tb(tb_file='./Fe_data/Fe_tb.dat',berry=True, use_ws=False)\n",
    "system_Fe_sym=wberri.System_tb(tb_file='./Fe_data/Fe_tb.dat',berry=True, use_ws=False)\n",
    "system_Fe_sym.symmetrize(\n",
    "             proj = ['Fe:sp3d2;t2g'],\n",
    "             atom_name = ['Fe'],\n",
    "             positions = [[0,0,0]],\n",
    "             #magmom: magnetic moment of each atoms.\n",
    "             magmom = [[0.,0.,-2.31]],\n",
    "             soc=True,\n",
    "             DFT_code = 'qe'\n",
    "             )\n"
   ]
  },
  {
   "cell_type": "markdown",
   "metadata": {},
   "source": [
    "Important explanations:\n",
    "1. The projection card in wannier90.win of bcc Fe is `'Fe':sp3d2;dxz,dyz,dxy`. But in the symmetrization, orbitals must project to complete sets of coordinates after symmetry opration. So we must label orbitals which shares the same complete sets of coordinates. eg: `sp3d2, dxz,dyz,dxy -> sp3d2, t2g` and `sp,px,py -> sp,p2`\n",
    "2. We print out all the symmetry operators in the space group. But magnetic moments break some of them. Afte line `Symmetrizing start`. You can find details about which operator belong to the magnetic group."
   ]
  },
  {
   "cell_type": "markdown",
   "metadata": {},
   "source": [
    "bcc Fe have inversion symmetry, so the Berry curvature dipole should be zero. Ref: https://journals.aps.org/prl/pdf/10.1103/PhysRevLett.115.216806"
   ]
  },
  {
   "cell_type": "code",
   "execution_count": 15,
   "metadata": {
    "execution": {
     "iopub.execute_input": "2022-09-05T15:40:51.593751Z",
     "iopub.status.busy": "2022-09-05T15:40:51.591993Z",
     "iopub.status.idle": "2022-09-05T15:41:30.679718Z",
     "shell.execute_reply": "2022-09-05T15:41:30.678708Z"
    }
   },
   "outputs": [
    {
     "name": "stdout",
     "output_type": "stream",
     "text": [
      "determining grids from NK=10 (<class 'int'>), NKdiv=None (<class 'NoneType'>), NKFFT=1 (<class 'NoneType'>)\n",
      "The grids were set to NKdiv=[10 10 10], NKFFT=[1 1 1], NKtot=[10 10 10]\n",
      "\u001b[1m\u001b[36mBerry curvature dipole (dimensionless)\n",
      "\n",
      "        | With Fermi sea integral. Eq(29) in `Ref <https://www.nature.com/articles/s41524-021-00498-5>`_\n",
      "        | Output: :math:`D_{\\beta\\delta} = \\int [dk] \\partial_\\beta \\Omega_\\delta f`\n",
      "\u001b[0m\n",
      "Grid is regular\n",
      "The set of k points is a Grid() with NKdiv=[10 10 10], NKFFT=[1 1 1], NKtot=[10 10 10]\n",
      "generating K_list\n",
      "Done in 0.009614229202270508 s \n",
      "excluding symmetry-equivalent K-points from initial grid\n",
      "Done in 0.0675044059753418 s \n",
      "Done in 0.06760096549987793 s \n",
      "K_list contains 1000 Irreducible points(100.0%) out of initial 10x10x10=1000 grid\n",
      "Done, sum of weights:1.0000000000000007\n",
      "iteration 0 - 1000 points. New points are:\n",
      " K-point 0 : coord in rec.lattice = [   0.000000  ,   0.000000 ,    0.000000 ], refinement level:0, dK=[0.1 0.1 0.1]  \n",
      " K-point 1 : coord in rec.lattice = [   0.000000  ,   0.000000 ,    0.100000 ], refinement level:0, dK=[0.1 0.1 0.1]  \n",
      " K-point 2 : coord in rec.lattice = [   0.000000  ,   0.000000 ,    0.200000 ], refinement level:0, dK=[0.1 0.1 0.1]  \n",
      " K-point 3 : coord in rec.lattice = [   0.000000  ,   0.000000 ,    0.300000 ], refinement level:0, dK=[0.1 0.1 0.1]  \n",
      " K-point 4 : coord in rec.lattice = [   0.000000  ,   0.000000 ,    0.400000 ], refinement level:0, dK=[0.1 0.1 0.1]  \n",
      " K-point 5 : coord in rec.lattice = [   0.000000  ,   0.000000 ,    0.500000 ], refinement level:0, dK=[0.1 0.1 0.1]  \n",
      " K-point 6 : coord in rec.lattice = [   0.000000  ,   0.000000 ,    0.600000 ], refinement level:0, dK=[0.1 0.1 0.1]  \n",
      " K-point 7 : coord in rec.lattice = [   0.000000  ,   0.000000 ,    0.700000 ], refinement level:0, dK=[0.1 0.1 0.1]  \n",
      " K-point 8 : coord in rec.lattice = [   0.000000  ,   0.000000 ,    0.800000 ], refinement level:0, dK=[0.1 0.1 0.1]  \n",
      " K-point 9 : coord in rec.lattice = [   0.000000  ,   0.000000 ,    0.900000 ], refinement level:0, dK=[0.1 0.1 0.1]  \n",
      " K-point 10 : coord in rec.lattice = [   0.000000  ,   0.100000 ,    0.000000 ], refinement level:0, dK=[0.1 0.1 0.1]  \n",
      " K-point 11 : coord in rec.lattice = [   0.000000  ,   0.100000 ,    0.100000 ], refinement level:0, dK=[0.1 0.1 0.1]  \n",
      " K-point 12 : coord in rec.lattice = [   0.000000  ,   0.100000 ,    0.200000 ], refinement level:0, dK=[0.1 0.1 0.1]  \n",
      " K-point 13 : coord in rec.lattice = [   0.000000  ,   0.100000 ,    0.300000 ], refinement level:0, dK=[0.1 0.1 0.1]  \n",
      " K-point 14 : coord in rec.lattice = [   0.000000  ,   0.100000 ,    0.400000 ], refinement level:0, dK=[0.1 0.1 0.1]  \n",
      " K-point 15 : coord in rec.lattice = [   0.000000  ,   0.100000 ,    0.500000 ], refinement level:0, dK=[0.1 0.1 0.1]  \n",
      " K-point 16 : coord in rec.lattice = [   0.000000  ,   0.100000 ,    0.600000 ], refinement level:0, dK=[0.1 0.1 0.1]  \n",
      " K-point 17 : coord in rec.lattice = [   0.000000  ,   0.100000 ,    0.700000 ], refinement level:0, dK=[0.1 0.1 0.1]  \n",
      " K-point 18 : coord in rec.lattice = [   0.000000  ,   0.100000 ,    0.800000 ], refinement level:0, dK=[0.1 0.1 0.1]  \n",
      " K-point 19 : coord in rec.lattice = [   0.000000  ,   0.100000 ,    0.900000 ], refinement level:0, dK=[0.1 0.1 0.1]  \n",
      " K-point 20 : coord in rec.lattice = [   0.000000  ,   0.200000 ,    0.000000 ], refinement level:0, dK=[0.1 0.1 0.1]  \n",
      " K-point 21 : coord in rec.lattice = [   0.000000  ,   0.200000 ,    0.100000 ], refinement level:0, dK=[0.1 0.1 0.1]  \n",
      " K-point 22 : coord in rec.lattice = [   0.000000  ,   0.200000 ,    0.200000 ], refinement level:0, dK=[0.1 0.1 0.1]  \n",
      " K-point 23 : coord in rec.lattice = [   0.000000  ,   0.200000 ,    0.300000 ], refinement level:0, dK=[0.1 0.1 0.1]  \n",
      " K-point 24 : coord in rec.lattice = [   0.000000  ,   0.200000 ,    0.400000 ], refinement level:0, dK=[0.1 0.1 0.1]  \n",
      " K-point 25 : coord in rec.lattice = [   0.000000  ,   0.200000 ,    0.500000 ], refinement level:0, dK=[0.1 0.1 0.1]  \n",
      " K-point 26 : coord in rec.lattice = [   0.000000  ,   0.200000 ,    0.600000 ], refinement level:0, dK=[0.1 0.1 0.1]  \n",
      " K-point 27 : coord in rec.lattice = [   0.000000  ,   0.200000 ,    0.700000 ], refinement level:0, dK=[0.1 0.1 0.1]  \n",
      " K-point 28 : coord in rec.lattice = [   0.000000  ,   0.200000 ,    0.800000 ], refinement level:0, dK=[0.1 0.1 0.1]  \n",
      " K-point 29 : coord in rec.lattice = [   0.000000  ,   0.200000 ,    0.900000 ], refinement level:0, dK=[0.1 0.1 0.1]  \n",
      " K-point 30 : coord in rec.lattice = [   0.000000  ,   0.300000 ,    0.000000 ], refinement level:0, dK=[0.1 0.1 0.1]  \n",
      " K-point 31 : coord in rec.lattice = [   0.000000  ,   0.300000 ,    0.100000 ], refinement level:0, dK=[0.1 0.1 0.1]  \n",
      " K-point 32 : coord in rec.lattice = [   0.000000  ,   0.300000 ,    0.200000 ], refinement level:0, dK=[0.1 0.1 0.1]  \n",
      " K-point 33 : coord in rec.lattice = [   0.000000  ,   0.300000 ,    0.300000 ], refinement level:0, dK=[0.1 0.1 0.1]  \n",
      " K-point 34 : coord in rec.lattice = [   0.000000  ,   0.300000 ,    0.400000 ], refinement level:0, dK=[0.1 0.1 0.1]  \n",
      " K-point 35 : coord in rec.lattice = [   0.000000  ,   0.300000 ,    0.500000 ], refinement level:0, dK=[0.1 0.1 0.1]  \n",
      " K-point 36 : coord in rec.lattice = [   0.000000  ,   0.300000 ,    0.600000 ], refinement level:0, dK=[0.1 0.1 0.1]  \n",
      " K-point 37 : coord in rec.lattice = [   0.000000  ,   0.300000 ,    0.700000 ], refinement level:0, dK=[0.1 0.1 0.1]  \n",
      " K-point 38 : coord in rec.lattice = [   0.000000  ,   0.300000 ,    0.800000 ], refinement level:0, dK=[0.1 0.1 0.1]  \n",
      " K-point 39 : coord in rec.lattice = [   0.000000  ,   0.300000 ,    0.900000 ], refinement level:0, dK=[0.1 0.1 0.1]  \n",
      " K-point 40 : coord in rec.lattice = [   0.000000  ,   0.400000 ,    0.000000 ], refinement level:0, dK=[0.1 0.1 0.1]  \n",
      " K-point 41 : coord in rec.lattice = [   0.000000  ,   0.400000 ,    0.100000 ], refinement level:0, dK=[0.1 0.1 0.1]  \n",
      " K-point 42 : coord in rec.lattice = [   0.000000  ,   0.400000 ,    0.200000 ], refinement level:0, dK=[0.1 0.1 0.1]  \n",
      " K-point 43 : coord in rec.lattice = [   0.000000  ,   0.400000 ,    0.300000 ], refinement level:0, dK=[0.1 0.1 0.1]  \n",
      " K-point 44 : coord in rec.lattice = [   0.000000  ,   0.400000 ,    0.400000 ], refinement level:0, dK=[0.1 0.1 0.1]  \n",
      " K-point 45 : coord in rec.lattice = [   0.000000  ,   0.400000 ,    0.500000 ], refinement level:0, dK=[0.1 0.1 0.1]  \n",
      " K-point 46 : coord in rec.lattice = [   0.000000  ,   0.400000 ,    0.600000 ], refinement level:0, dK=[0.1 0.1 0.1]  \n",
      " K-point 47 : coord in rec.lattice = [   0.000000  ,   0.400000 ,    0.700000 ], refinement level:0, dK=[0.1 0.1 0.1]  \n",
      " K-point 48 : coord in rec.lattice = [   0.000000  ,   0.400000 ,    0.800000 ], refinement level:0, dK=[0.1 0.1 0.1]  \n",
      " K-point 49 : coord in rec.lattice = [   0.000000  ,   0.400000 ,    0.900000 ], refinement level:0, dK=[0.1 0.1 0.1]  \n",
      " K-point 50 : coord in rec.lattice = [   0.000000  ,   0.500000 ,    0.000000 ], refinement level:0, dK=[0.1 0.1 0.1]  \n",
      " K-point 51 : coord in rec.lattice = [   0.000000  ,   0.500000 ,    0.100000 ], refinement level:0, dK=[0.1 0.1 0.1]  \n",
      " K-point 52 : coord in rec.lattice = [   0.000000  ,   0.500000 ,    0.200000 ], refinement level:0, dK=[0.1 0.1 0.1]  \n",
      " K-point 53 : coord in rec.lattice = [   0.000000  ,   0.500000 ,    0.300000 ], refinement level:0, dK=[0.1 0.1 0.1]  \n",
      " K-point 54 : coord in rec.lattice = [   0.000000  ,   0.500000 ,    0.400000 ], refinement level:0, dK=[0.1 0.1 0.1]  \n",
      " K-point 55 : coord in rec.lattice = [   0.000000  ,   0.500000 ,    0.500000 ], refinement level:0, dK=[0.1 0.1 0.1]  \n",
      " K-point 56 : coord in rec.lattice = [   0.000000  ,   0.500000 ,    0.600000 ], refinement level:0, dK=[0.1 0.1 0.1]  \n",
      " K-point 57 : coord in rec.lattice = [   0.000000  ,   0.500000 ,    0.700000 ], refinement level:0, dK=[0.1 0.1 0.1]  \n",
      " K-point 58 : coord in rec.lattice = [   0.000000  ,   0.500000 ,    0.800000 ], refinement level:0, dK=[0.1 0.1 0.1]  \n",
      " K-point 59 : coord in rec.lattice = [   0.000000  ,   0.500000 ,    0.900000 ], refinement level:0, dK=[0.1 0.1 0.1]  \n",
      " K-point 60 : coord in rec.lattice = [   0.000000  ,   0.600000 ,    0.000000 ], refinement level:0, dK=[0.1 0.1 0.1]  \n",
      " K-point 61 : coord in rec.lattice = [   0.000000  ,   0.600000 ,    0.100000 ], refinement level:0, dK=[0.1 0.1 0.1]  \n",
      " K-point 62 : coord in rec.lattice = [   0.000000  ,   0.600000 ,    0.200000 ], refinement level:0, dK=[0.1 0.1 0.1]  \n",
      " K-point 63 : coord in rec.lattice = [   0.000000  ,   0.600000 ,    0.300000 ], refinement level:0, dK=[0.1 0.1 0.1]  \n",
      " K-point 64 : coord in rec.lattice = [   0.000000  ,   0.600000 ,    0.400000 ], refinement level:0, dK=[0.1 0.1 0.1]  \n",
      " K-point 65 : coord in rec.lattice = [   0.000000  ,   0.600000 ,    0.500000 ], refinement level:0, dK=[0.1 0.1 0.1]  \n",
      " K-point 66 : coord in rec.lattice = [   0.000000  ,   0.600000 ,    0.600000 ], refinement level:0, dK=[0.1 0.1 0.1]  \n",
      " K-point 67 : coord in rec.lattice = [   0.000000  ,   0.600000 ,    0.700000 ], refinement level:0, dK=[0.1 0.1 0.1]  \n",
      " K-point 68 : coord in rec.lattice = [   0.000000  ,   0.600000 ,    0.800000 ], refinement level:0, dK=[0.1 0.1 0.1]  \n",
      " K-point 69 : coord in rec.lattice = [   0.000000  ,   0.600000 ,    0.900000 ], refinement level:0, dK=[0.1 0.1 0.1]  \n",
      " K-point 70 : coord in rec.lattice = [   0.000000  ,   0.700000 ,    0.000000 ], refinement level:0, dK=[0.1 0.1 0.1]  \n",
      " K-point 71 : coord in rec.lattice = [   0.000000  ,   0.700000 ,    0.100000 ], refinement level:0, dK=[0.1 0.1 0.1]  \n",
      " K-point 72 : coord in rec.lattice = [   0.000000  ,   0.700000 ,    0.200000 ], refinement level:0, dK=[0.1 0.1 0.1]  \n",
      " K-point 73 : coord in rec.lattice = [   0.000000  ,   0.700000 ,    0.300000 ], refinement level:0, dK=[0.1 0.1 0.1]  \n",
      " K-point 74 : coord in rec.lattice = [   0.000000  ,   0.700000 ,    0.400000 ], refinement level:0, dK=[0.1 0.1 0.1]  \n",
      " K-point 75 : coord in rec.lattice = [   0.000000  ,   0.700000 ,    0.500000 ], refinement level:0, dK=[0.1 0.1 0.1]  \n",
      " K-point 76 : coord in rec.lattice = [   0.000000  ,   0.700000 ,    0.600000 ], refinement level:0, dK=[0.1 0.1 0.1]  \n",
      " K-point 77 : coord in rec.lattice = [   0.000000  ,   0.700000 ,    0.700000 ], refinement level:0, dK=[0.1 0.1 0.1]  \n",
      " K-point 78 : coord in rec.lattice = [   0.000000  ,   0.700000 ,    0.800000 ], refinement level:0, dK=[0.1 0.1 0.1]  \n",
      " K-point 79 : coord in rec.lattice = [   0.000000  ,   0.700000 ,    0.900000 ], refinement level:0, dK=[0.1 0.1 0.1]  \n",
      " K-point 80 : coord in rec.lattice = [   0.000000  ,   0.800000 ,    0.000000 ], refinement level:0, dK=[0.1 0.1 0.1]  \n",
      " K-point 81 : coord in rec.lattice = [   0.000000  ,   0.800000 ,    0.100000 ], refinement level:0, dK=[0.1 0.1 0.1]  \n",
      " K-point 82 : coord in rec.lattice = [   0.000000  ,   0.800000 ,    0.200000 ], refinement level:0, dK=[0.1 0.1 0.1]  \n",
      " K-point 83 : coord in rec.lattice = [   0.000000  ,   0.800000 ,    0.300000 ], refinement level:0, dK=[0.1 0.1 0.1]  \n",
      " K-point 84 : coord in rec.lattice = [   0.000000  ,   0.800000 ,    0.400000 ], refinement level:0, dK=[0.1 0.1 0.1]  \n",
      " K-point 85 : coord in rec.lattice = [   0.000000  ,   0.800000 ,    0.500000 ], refinement level:0, dK=[0.1 0.1 0.1]  \n",
      " K-point 86 : coord in rec.lattice = [   0.000000  ,   0.800000 ,    0.600000 ], refinement level:0, dK=[0.1 0.1 0.1]  \n",
      " K-point 87 : coord in rec.lattice = [   0.000000  ,   0.800000 ,    0.700000 ], refinement level:0, dK=[0.1 0.1 0.1]  \n",
      " K-point 88 : coord in rec.lattice = [   0.000000  ,   0.800000 ,    0.800000 ], refinement level:0, dK=[0.1 0.1 0.1]  \n",
      " K-point 89 : coord in rec.lattice = [   0.000000  ,   0.800000 ,    0.900000 ], refinement level:0, dK=[0.1 0.1 0.1]  \n",
      " K-point 90 : coord in rec.lattice = [   0.000000  ,   0.900000 ,    0.000000 ], refinement level:0, dK=[0.1 0.1 0.1]  \n",
      " K-point 91 : coord in rec.lattice = [   0.000000  ,   0.900000 ,    0.100000 ], refinement level:0, dK=[0.1 0.1 0.1]  \n",
      " K-point 92 : coord in rec.lattice = [   0.000000  ,   0.900000 ,    0.200000 ], refinement level:0, dK=[0.1 0.1 0.1]  \n",
      " K-point 93 : coord in rec.lattice = [   0.000000  ,   0.900000 ,    0.300000 ], refinement level:0, dK=[0.1 0.1 0.1]  \n",
      " K-point 94 : coord in rec.lattice = [   0.000000  ,   0.900000 ,    0.400000 ], refinement level:0, dK=[0.1 0.1 0.1]  \n",
      " K-point 95 : coord in rec.lattice = [   0.000000  ,   0.900000 ,    0.500000 ], refinement level:0, dK=[0.1 0.1 0.1]  \n",
      " K-point 96 : coord in rec.lattice = [   0.000000  ,   0.900000 ,    0.600000 ], refinement level:0, dK=[0.1 0.1 0.1]  \n",
      " K-point 97 : coord in rec.lattice = [   0.000000  ,   0.900000 ,    0.700000 ], refinement level:0, dK=[0.1 0.1 0.1]  \n",
      " K-point 98 : coord in rec.lattice = [   0.000000  ,   0.900000 ,    0.800000 ], refinement level:0, dK=[0.1 0.1 0.1]  \n",
      " K-point 99 : coord in rec.lattice = [   0.000000  ,   0.900000 ,    0.900000 ], refinement level:0, dK=[0.1 0.1 0.1]  \n",
      " K-point 100 : coord in rec.lattice = [   0.100000  ,   0.000000 ,    0.000000 ], refinement level:0, dK=[0.1 0.1 0.1]  \n",
      " K-point 101 : coord in rec.lattice = [   0.100000  ,   0.000000 ,    0.100000 ], refinement level:0, dK=[0.1 0.1 0.1]  \n",
      " K-point 102 : coord in rec.lattice = [   0.100000  ,   0.000000 ,    0.200000 ], refinement level:0, dK=[0.1 0.1 0.1]  \n",
      " K-point 103 : coord in rec.lattice = [   0.100000  ,   0.000000 ,    0.300000 ], refinement level:0, dK=[0.1 0.1 0.1]  \n",
      " K-point 104 : coord in rec.lattice = [   0.100000  ,   0.000000 ,    0.400000 ], refinement level:0, dK=[0.1 0.1 0.1]  \n",
      " K-point 105 : coord in rec.lattice = [   0.100000  ,   0.000000 ,    0.500000 ], refinement level:0, dK=[0.1 0.1 0.1]  \n",
      " K-point 106 : coord in rec.lattice = [   0.100000  ,   0.000000 ,    0.600000 ], refinement level:0, dK=[0.1 0.1 0.1]  \n",
      " K-point 107 : coord in rec.lattice = [   0.100000  ,   0.000000 ,    0.700000 ], refinement level:0, dK=[0.1 0.1 0.1]  \n",
      " K-point 108 : coord in rec.lattice = [   0.100000  ,   0.000000 ,    0.800000 ], refinement level:0, dK=[0.1 0.1 0.1]  \n",
      " K-point 109 : coord in rec.lattice = [   0.100000  ,   0.000000 ,    0.900000 ], refinement level:0, dK=[0.1 0.1 0.1]  \n",
      " K-point 110 : coord in rec.lattice = [   0.100000  ,   0.100000 ,    0.000000 ], refinement level:0, dK=[0.1 0.1 0.1]  \n",
      " K-point 111 : coord in rec.lattice = [   0.100000  ,   0.100000 ,    0.100000 ], refinement level:0, dK=[0.1 0.1 0.1]  \n",
      " K-point 112 : coord in rec.lattice = [   0.100000  ,   0.100000 ,    0.200000 ], refinement level:0, dK=[0.1 0.1 0.1]  \n",
      " K-point 113 : coord in rec.lattice = [   0.100000  ,   0.100000 ,    0.300000 ], refinement level:0, dK=[0.1 0.1 0.1]  \n",
      " K-point 114 : coord in rec.lattice = [   0.100000  ,   0.100000 ,    0.400000 ], refinement level:0, dK=[0.1 0.1 0.1]  \n",
      " K-point 115 : coord in rec.lattice = [   0.100000  ,   0.100000 ,    0.500000 ], refinement level:0, dK=[0.1 0.1 0.1]  \n",
      " K-point 116 : coord in rec.lattice = [   0.100000  ,   0.100000 ,    0.600000 ], refinement level:0, dK=[0.1 0.1 0.1]  \n",
      " K-point 117 : coord in rec.lattice = [   0.100000  ,   0.100000 ,    0.700000 ], refinement level:0, dK=[0.1 0.1 0.1]  \n",
      " K-point 118 : coord in rec.lattice = [   0.100000  ,   0.100000 ,    0.800000 ], refinement level:0, dK=[0.1 0.1 0.1]  \n",
      " K-point 119 : coord in rec.lattice = [   0.100000  ,   0.100000 ,    0.900000 ], refinement level:0, dK=[0.1 0.1 0.1]  \n",
      " K-point 120 : coord in rec.lattice = [   0.100000  ,   0.200000 ,    0.000000 ], refinement level:0, dK=[0.1 0.1 0.1]  \n",
      " K-point 121 : coord in rec.lattice = [   0.100000  ,   0.200000 ,    0.100000 ], refinement level:0, dK=[0.1 0.1 0.1]  \n",
      " K-point 122 : coord in rec.lattice = [   0.100000  ,   0.200000 ,    0.200000 ], refinement level:0, dK=[0.1 0.1 0.1]  \n",
      " K-point 123 : coord in rec.lattice = [   0.100000  ,   0.200000 ,    0.300000 ], refinement level:0, dK=[0.1 0.1 0.1]  \n",
      " K-point 124 : coord in rec.lattice = [   0.100000  ,   0.200000 ,    0.400000 ], refinement level:0, dK=[0.1 0.1 0.1]  \n",
      " K-point 125 : coord in rec.lattice = [   0.100000  ,   0.200000 ,    0.500000 ], refinement level:0, dK=[0.1 0.1 0.1]  \n",
      " K-point 126 : coord in rec.lattice = [   0.100000  ,   0.200000 ,    0.600000 ], refinement level:0, dK=[0.1 0.1 0.1]  \n",
      " K-point 127 : coord in rec.lattice = [   0.100000  ,   0.200000 ,    0.700000 ], refinement level:0, dK=[0.1 0.1 0.1]  \n",
      " K-point 128 : coord in rec.lattice = [   0.100000  ,   0.200000 ,    0.800000 ], refinement level:0, dK=[0.1 0.1 0.1]  \n",
      " K-point 129 : coord in rec.lattice = [   0.100000  ,   0.200000 ,    0.900000 ], refinement level:0, dK=[0.1 0.1 0.1]  \n",
      " K-point 130 : coord in rec.lattice = [   0.100000  ,   0.300000 ,    0.000000 ], refinement level:0, dK=[0.1 0.1 0.1]  \n",
      " K-point 131 : coord in rec.lattice = [   0.100000  ,   0.300000 ,    0.100000 ], refinement level:0, dK=[0.1 0.1 0.1]  \n",
      " K-point 132 : coord in rec.lattice = [   0.100000  ,   0.300000 ,    0.200000 ], refinement level:0, dK=[0.1 0.1 0.1]  \n",
      " K-point 133 : coord in rec.lattice = [   0.100000  ,   0.300000 ,    0.300000 ], refinement level:0, dK=[0.1 0.1 0.1]  \n",
      " K-point 134 : coord in rec.lattice = [   0.100000  ,   0.300000 ,    0.400000 ], refinement level:0, dK=[0.1 0.1 0.1]  \n",
      " K-point 135 : coord in rec.lattice = [   0.100000  ,   0.300000 ,    0.500000 ], refinement level:0, dK=[0.1 0.1 0.1]  \n",
      " K-point 136 : coord in rec.lattice = [   0.100000  ,   0.300000 ,    0.600000 ], refinement level:0, dK=[0.1 0.1 0.1]  \n",
      " K-point 137 : coord in rec.lattice = [   0.100000  ,   0.300000 ,    0.700000 ], refinement level:0, dK=[0.1 0.1 0.1]  \n",
      " K-point 138 : coord in rec.lattice = [   0.100000  ,   0.300000 ,    0.800000 ], refinement level:0, dK=[0.1 0.1 0.1]  \n",
      " K-point 139 : coord in rec.lattice = [   0.100000  ,   0.300000 ,    0.900000 ], refinement level:0, dK=[0.1 0.1 0.1]  \n",
      " K-point 140 : coord in rec.lattice = [   0.100000  ,   0.400000 ,    0.000000 ], refinement level:0, dK=[0.1 0.1 0.1]  \n",
      " K-point 141 : coord in rec.lattice = [   0.100000  ,   0.400000 ,    0.100000 ], refinement level:0, dK=[0.1 0.1 0.1]  \n",
      " K-point 142 : coord in rec.lattice = [   0.100000  ,   0.400000 ,    0.200000 ], refinement level:0, dK=[0.1 0.1 0.1]  \n",
      " K-point 143 : coord in rec.lattice = [   0.100000  ,   0.400000 ,    0.300000 ], refinement level:0, dK=[0.1 0.1 0.1]  \n",
      " K-point 144 : coord in rec.lattice = [   0.100000  ,   0.400000 ,    0.400000 ], refinement level:0, dK=[0.1 0.1 0.1]  \n",
      " K-point 145 : coord in rec.lattice = [   0.100000  ,   0.400000 ,    0.500000 ], refinement level:0, dK=[0.1 0.1 0.1]  \n",
      " K-point 146 : coord in rec.lattice = [   0.100000  ,   0.400000 ,    0.600000 ], refinement level:0, dK=[0.1 0.1 0.1]  \n",
      " K-point 147 : coord in rec.lattice = [   0.100000  ,   0.400000 ,    0.700000 ], refinement level:0, dK=[0.1 0.1 0.1]  \n",
      " K-point 148 : coord in rec.lattice = [   0.100000  ,   0.400000 ,    0.800000 ], refinement level:0, dK=[0.1 0.1 0.1]  \n",
      " K-point 149 : coord in rec.lattice = [   0.100000  ,   0.400000 ,    0.900000 ], refinement level:0, dK=[0.1 0.1 0.1]  \n",
      " K-point 150 : coord in rec.lattice = [   0.100000  ,   0.500000 ,    0.000000 ], refinement level:0, dK=[0.1 0.1 0.1]  \n",
      " K-point 151 : coord in rec.lattice = [   0.100000  ,   0.500000 ,    0.100000 ], refinement level:0, dK=[0.1 0.1 0.1]  \n",
      " K-point 152 : coord in rec.lattice = [   0.100000  ,   0.500000 ,    0.200000 ], refinement level:0, dK=[0.1 0.1 0.1]  \n",
      " K-point 153 : coord in rec.lattice = [   0.100000  ,   0.500000 ,    0.300000 ], refinement level:0, dK=[0.1 0.1 0.1]  \n",
      " K-point 154 : coord in rec.lattice = [   0.100000  ,   0.500000 ,    0.400000 ], refinement level:0, dK=[0.1 0.1 0.1]  \n",
      " K-point 155 : coord in rec.lattice = [   0.100000  ,   0.500000 ,    0.500000 ], refinement level:0, dK=[0.1 0.1 0.1]  \n"
     ]
    },
    {
     "name": "stdout",
     "output_type": "stream",
     "text": [
      " K-point 156 : coord in rec.lattice = [   0.100000  ,   0.500000 ,    0.600000 ], refinement level:0, dK=[0.1 0.1 0.1]  \n",
      " K-point 157 : coord in rec.lattice = [   0.100000  ,   0.500000 ,    0.700000 ], refinement level:0, dK=[0.1 0.1 0.1]  \n",
      " K-point 158 : coord in rec.lattice = [   0.100000  ,   0.500000 ,    0.800000 ], refinement level:0, dK=[0.1 0.1 0.1]  \n",
      " K-point 159 : coord in rec.lattice = [   0.100000  ,   0.500000 ,    0.900000 ], refinement level:0, dK=[0.1 0.1 0.1]  \n",
      " K-point 160 : coord in rec.lattice = [   0.100000  ,   0.600000 ,    0.000000 ], refinement level:0, dK=[0.1 0.1 0.1]  \n",
      " K-point 161 : coord in rec.lattice = [   0.100000  ,   0.600000 ,    0.100000 ], refinement level:0, dK=[0.1 0.1 0.1]  \n",
      " K-point 162 : coord in rec.lattice = [   0.100000  ,   0.600000 ,    0.200000 ], refinement level:0, dK=[0.1 0.1 0.1]  \n",
      " K-point 163 : coord in rec.lattice = [   0.100000  ,   0.600000 ,    0.300000 ], refinement level:0, dK=[0.1 0.1 0.1]  \n",
      " K-point 164 : coord in rec.lattice = [   0.100000  ,   0.600000 ,    0.400000 ], refinement level:0, dK=[0.1 0.1 0.1]  \n",
      " K-point 165 : coord in rec.lattice = [   0.100000  ,   0.600000 ,    0.500000 ], refinement level:0, dK=[0.1 0.1 0.1]  \n",
      " K-point 166 : coord in rec.lattice = [   0.100000  ,   0.600000 ,    0.600000 ], refinement level:0, dK=[0.1 0.1 0.1]  \n",
      " K-point 167 : coord in rec.lattice = [   0.100000  ,   0.600000 ,    0.700000 ], refinement level:0, dK=[0.1 0.1 0.1]  \n",
      " K-point 168 : coord in rec.lattice = [   0.100000  ,   0.600000 ,    0.800000 ], refinement level:0, dK=[0.1 0.1 0.1]  \n",
      " K-point 169 : coord in rec.lattice = [   0.100000  ,   0.600000 ,    0.900000 ], refinement level:0, dK=[0.1 0.1 0.1]  \n",
      " K-point 170 : coord in rec.lattice = [   0.100000  ,   0.700000 ,    0.000000 ], refinement level:0, dK=[0.1 0.1 0.1]  \n",
      " K-point 171 : coord in rec.lattice = [   0.100000  ,   0.700000 ,    0.100000 ], refinement level:0, dK=[0.1 0.1 0.1]  \n",
      " K-point 172 : coord in rec.lattice = [   0.100000  ,   0.700000 ,    0.200000 ], refinement level:0, dK=[0.1 0.1 0.1]  \n",
      " K-point 173 : coord in rec.lattice = [   0.100000  ,   0.700000 ,    0.300000 ], refinement level:0, dK=[0.1 0.1 0.1]  \n",
      " K-point 174 : coord in rec.lattice = [   0.100000  ,   0.700000 ,    0.400000 ], refinement level:0, dK=[0.1 0.1 0.1]  \n",
      " K-point 175 : coord in rec.lattice = [   0.100000  ,   0.700000 ,    0.500000 ], refinement level:0, dK=[0.1 0.1 0.1]  \n",
      " K-point 176 : coord in rec.lattice = [   0.100000  ,   0.700000 ,    0.600000 ], refinement level:0, dK=[0.1 0.1 0.1]  \n",
      " K-point 177 : coord in rec.lattice = [   0.100000  ,   0.700000 ,    0.700000 ], refinement level:0, dK=[0.1 0.1 0.1]  \n",
      " K-point 178 : coord in rec.lattice = [   0.100000  ,   0.700000 ,    0.800000 ], refinement level:0, dK=[0.1 0.1 0.1]  \n",
      " K-point 179 : coord in rec.lattice = [   0.100000  ,   0.700000 ,    0.900000 ], refinement level:0, dK=[0.1 0.1 0.1]  \n",
      " K-point 180 : coord in rec.lattice = [   0.100000  ,   0.800000 ,    0.000000 ], refinement level:0, dK=[0.1 0.1 0.1]  \n",
      " K-point 181 : coord in rec.lattice = [   0.100000  ,   0.800000 ,    0.100000 ], refinement level:0, dK=[0.1 0.1 0.1]  \n",
      " K-point 182 : coord in rec.lattice = [   0.100000  ,   0.800000 ,    0.200000 ], refinement level:0, dK=[0.1 0.1 0.1]  \n",
      " K-point 183 : coord in rec.lattice = [   0.100000  ,   0.800000 ,    0.300000 ], refinement level:0, dK=[0.1 0.1 0.1]  \n",
      " K-point 184 : coord in rec.lattice = [   0.100000  ,   0.800000 ,    0.400000 ], refinement level:0, dK=[0.1 0.1 0.1]  \n",
      " K-point 185 : coord in rec.lattice = [   0.100000  ,   0.800000 ,    0.500000 ], refinement level:0, dK=[0.1 0.1 0.1]  \n",
      " K-point 186 : coord in rec.lattice = [   0.100000  ,   0.800000 ,    0.600000 ], refinement level:0, dK=[0.1 0.1 0.1]  \n",
      " K-point 187 : coord in rec.lattice = [   0.100000  ,   0.800000 ,    0.700000 ], refinement level:0, dK=[0.1 0.1 0.1]  \n",
      " K-point 188 : coord in rec.lattice = [   0.100000  ,   0.800000 ,    0.800000 ], refinement level:0, dK=[0.1 0.1 0.1]  \n",
      " K-point 189 : coord in rec.lattice = [   0.100000  ,   0.800000 ,    0.900000 ], refinement level:0, dK=[0.1 0.1 0.1]  \n",
      " K-point 190 : coord in rec.lattice = [   0.100000  ,   0.900000 ,    0.000000 ], refinement level:0, dK=[0.1 0.1 0.1]  \n",
      " K-point 191 : coord in rec.lattice = [   0.100000  ,   0.900000 ,    0.100000 ], refinement level:0, dK=[0.1 0.1 0.1]  \n",
      " K-point 192 : coord in rec.lattice = [   0.100000  ,   0.900000 ,    0.200000 ], refinement level:0, dK=[0.1 0.1 0.1]  \n",
      " K-point 193 : coord in rec.lattice = [   0.100000  ,   0.900000 ,    0.300000 ], refinement level:0, dK=[0.1 0.1 0.1]  \n",
      " K-point 194 : coord in rec.lattice = [   0.100000  ,   0.900000 ,    0.400000 ], refinement level:0, dK=[0.1 0.1 0.1]  \n",
      " K-point 195 : coord in rec.lattice = [   0.100000  ,   0.900000 ,    0.500000 ], refinement level:0, dK=[0.1 0.1 0.1]  \n",
      " K-point 196 : coord in rec.lattice = [   0.100000  ,   0.900000 ,    0.600000 ], refinement level:0, dK=[0.1 0.1 0.1]  \n",
      " K-point 197 : coord in rec.lattice = [   0.100000  ,   0.900000 ,    0.700000 ], refinement level:0, dK=[0.1 0.1 0.1]  \n",
      " K-point 198 : coord in rec.lattice = [   0.100000  ,   0.900000 ,    0.800000 ], refinement level:0, dK=[0.1 0.1 0.1]  \n",
      " K-point 199 : coord in rec.lattice = [   0.100000  ,   0.900000 ,    0.900000 ], refinement level:0, dK=[0.1 0.1 0.1]  \n",
      " K-point 200 : coord in rec.lattice = [   0.200000  ,   0.000000 ,    0.000000 ], refinement level:0, dK=[0.1 0.1 0.1]  \n",
      " K-point 201 : coord in rec.lattice = [   0.200000  ,   0.000000 ,    0.100000 ], refinement level:0, dK=[0.1 0.1 0.1]  \n",
      " K-point 202 : coord in rec.lattice = [   0.200000  ,   0.000000 ,    0.200000 ], refinement level:0, dK=[0.1 0.1 0.1]  \n",
      " K-point 203 : coord in rec.lattice = [   0.200000  ,   0.000000 ,    0.300000 ], refinement level:0, dK=[0.1 0.1 0.1]  \n",
      " K-point 204 : coord in rec.lattice = [   0.200000  ,   0.000000 ,    0.400000 ], refinement level:0, dK=[0.1 0.1 0.1]  \n",
      " K-point 205 : coord in rec.lattice = [   0.200000  ,   0.000000 ,    0.500000 ], refinement level:0, dK=[0.1 0.1 0.1]  \n",
      " K-point 206 : coord in rec.lattice = [   0.200000  ,   0.000000 ,    0.600000 ], refinement level:0, dK=[0.1 0.1 0.1]  \n",
      " K-point 207 : coord in rec.lattice = [   0.200000  ,   0.000000 ,    0.700000 ], refinement level:0, dK=[0.1 0.1 0.1]  \n",
      " K-point 208 : coord in rec.lattice = [   0.200000  ,   0.000000 ,    0.800000 ], refinement level:0, dK=[0.1 0.1 0.1]  \n",
      " K-point 209 : coord in rec.lattice = [   0.200000  ,   0.000000 ,    0.900000 ], refinement level:0, dK=[0.1 0.1 0.1]  \n",
      " K-point 210 : coord in rec.lattice = [   0.200000  ,   0.100000 ,    0.000000 ], refinement level:0, dK=[0.1 0.1 0.1]  \n",
      " K-point 211 : coord in rec.lattice = [   0.200000  ,   0.100000 ,    0.100000 ], refinement level:0, dK=[0.1 0.1 0.1]  \n",
      " K-point 212 : coord in rec.lattice = [   0.200000  ,   0.100000 ,    0.200000 ], refinement level:0, dK=[0.1 0.1 0.1]  \n",
      " K-point 213 : coord in rec.lattice = [   0.200000  ,   0.100000 ,    0.300000 ], refinement level:0, dK=[0.1 0.1 0.1]  \n",
      " K-point 214 : coord in rec.lattice = [   0.200000  ,   0.100000 ,    0.400000 ], refinement level:0, dK=[0.1 0.1 0.1]  \n",
      " K-point 215 : coord in rec.lattice = [   0.200000  ,   0.100000 ,    0.500000 ], refinement level:0, dK=[0.1 0.1 0.1]  \n",
      " K-point 216 : coord in rec.lattice = [   0.200000  ,   0.100000 ,    0.600000 ], refinement level:0, dK=[0.1 0.1 0.1]  \n",
      " K-point 217 : coord in rec.lattice = [   0.200000  ,   0.100000 ,    0.700000 ], refinement level:0, dK=[0.1 0.1 0.1]  \n",
      " K-point 218 : coord in rec.lattice = [   0.200000  ,   0.100000 ,    0.800000 ], refinement level:0, dK=[0.1 0.1 0.1]  \n",
      " K-point 219 : coord in rec.lattice = [   0.200000  ,   0.100000 ,    0.900000 ], refinement level:0, dK=[0.1 0.1 0.1]  \n",
      " K-point 220 : coord in rec.lattice = [   0.200000  ,   0.200000 ,    0.000000 ], refinement level:0, dK=[0.1 0.1 0.1]  \n",
      " K-point 221 : coord in rec.lattice = [   0.200000  ,   0.200000 ,    0.100000 ], refinement level:0, dK=[0.1 0.1 0.1]  \n",
      " K-point 222 : coord in rec.lattice = [   0.200000  ,   0.200000 ,    0.200000 ], refinement level:0, dK=[0.1 0.1 0.1]  \n",
      " K-point 223 : coord in rec.lattice = [   0.200000  ,   0.200000 ,    0.300000 ], refinement level:0, dK=[0.1 0.1 0.1]  \n",
      " K-point 224 : coord in rec.lattice = [   0.200000  ,   0.200000 ,    0.400000 ], refinement level:0, dK=[0.1 0.1 0.1]  \n",
      " K-point 225 : coord in rec.lattice = [   0.200000  ,   0.200000 ,    0.500000 ], refinement level:0, dK=[0.1 0.1 0.1]  \n",
      " K-point 226 : coord in rec.lattice = [   0.200000  ,   0.200000 ,    0.600000 ], refinement level:0, dK=[0.1 0.1 0.1]  \n",
      " K-point 227 : coord in rec.lattice = [   0.200000  ,   0.200000 ,    0.700000 ], refinement level:0, dK=[0.1 0.1 0.1]  \n",
      " K-point 228 : coord in rec.lattice = [   0.200000  ,   0.200000 ,    0.800000 ], refinement level:0, dK=[0.1 0.1 0.1]  \n",
      " K-point 229 : coord in rec.lattice = [   0.200000  ,   0.200000 ,    0.900000 ], refinement level:0, dK=[0.1 0.1 0.1]  \n",
      " K-point 230 : coord in rec.lattice = [   0.200000  ,   0.300000 ,    0.000000 ], refinement level:0, dK=[0.1 0.1 0.1]  \n",
      " K-point 231 : coord in rec.lattice = [   0.200000  ,   0.300000 ,    0.100000 ], refinement level:0, dK=[0.1 0.1 0.1]  \n",
      " K-point 232 : coord in rec.lattice = [   0.200000  ,   0.300000 ,    0.200000 ], refinement level:0, dK=[0.1 0.1 0.1]  \n",
      " K-point 233 : coord in rec.lattice = [   0.200000  ,   0.300000 ,    0.300000 ], refinement level:0, dK=[0.1 0.1 0.1]  \n",
      " K-point 234 : coord in rec.lattice = [   0.200000  ,   0.300000 ,    0.400000 ], refinement level:0, dK=[0.1 0.1 0.1]  \n",
      " K-point 235 : coord in rec.lattice = [   0.200000  ,   0.300000 ,    0.500000 ], refinement level:0, dK=[0.1 0.1 0.1]  \n",
      " K-point 236 : coord in rec.lattice = [   0.200000  ,   0.300000 ,    0.600000 ], refinement level:0, dK=[0.1 0.1 0.1]  \n",
      " K-point 237 : coord in rec.lattice = [   0.200000  ,   0.300000 ,    0.700000 ], refinement level:0, dK=[0.1 0.1 0.1]  \n",
      " K-point 238 : coord in rec.lattice = [   0.200000  ,   0.300000 ,    0.800000 ], refinement level:0, dK=[0.1 0.1 0.1]  \n",
      " K-point 239 : coord in rec.lattice = [   0.200000  ,   0.300000 ,    0.900000 ], refinement level:0, dK=[0.1 0.1 0.1]  \n",
      " K-point 240 : coord in rec.lattice = [   0.200000  ,   0.400000 ,    0.000000 ], refinement level:0, dK=[0.1 0.1 0.1]  \n",
      " K-point 241 : coord in rec.lattice = [   0.200000  ,   0.400000 ,    0.100000 ], refinement level:0, dK=[0.1 0.1 0.1]  \n",
      " K-point 242 : coord in rec.lattice = [   0.200000  ,   0.400000 ,    0.200000 ], refinement level:0, dK=[0.1 0.1 0.1]  \n",
      " K-point 243 : coord in rec.lattice = [   0.200000  ,   0.400000 ,    0.300000 ], refinement level:0, dK=[0.1 0.1 0.1]  \n",
      " K-point 244 : coord in rec.lattice = [   0.200000  ,   0.400000 ,    0.400000 ], refinement level:0, dK=[0.1 0.1 0.1]  \n",
      " K-point 245 : coord in rec.lattice = [   0.200000  ,   0.400000 ,    0.500000 ], refinement level:0, dK=[0.1 0.1 0.1]  \n",
      " K-point 246 : coord in rec.lattice = [   0.200000  ,   0.400000 ,    0.600000 ], refinement level:0, dK=[0.1 0.1 0.1]  \n",
      " K-point 247 : coord in rec.lattice = [   0.200000  ,   0.400000 ,    0.700000 ], refinement level:0, dK=[0.1 0.1 0.1]  \n",
      " K-point 248 : coord in rec.lattice = [   0.200000  ,   0.400000 ,    0.800000 ], refinement level:0, dK=[0.1 0.1 0.1]  \n",
      " K-point 249 : coord in rec.lattice = [   0.200000  ,   0.400000 ,    0.900000 ], refinement level:0, dK=[0.1 0.1 0.1]  \n",
      " K-point 250 : coord in rec.lattice = [   0.200000  ,   0.500000 ,    0.000000 ], refinement level:0, dK=[0.1 0.1 0.1]  \n",
      " K-point 251 : coord in rec.lattice = [   0.200000  ,   0.500000 ,    0.100000 ], refinement level:0, dK=[0.1 0.1 0.1]  \n",
      " K-point 252 : coord in rec.lattice = [   0.200000  ,   0.500000 ,    0.200000 ], refinement level:0, dK=[0.1 0.1 0.1]  \n",
      " K-point 253 : coord in rec.lattice = [   0.200000  ,   0.500000 ,    0.300000 ], refinement level:0, dK=[0.1 0.1 0.1]  \n",
      " K-point 254 : coord in rec.lattice = [   0.200000  ,   0.500000 ,    0.400000 ], refinement level:0, dK=[0.1 0.1 0.1]  \n",
      " K-point 255 : coord in rec.lattice = [   0.200000  ,   0.500000 ,    0.500000 ], refinement level:0, dK=[0.1 0.1 0.1]  \n",
      " K-point 256 : coord in rec.lattice = [   0.200000  ,   0.500000 ,    0.600000 ], refinement level:0, dK=[0.1 0.1 0.1]  \n",
      " K-point 257 : coord in rec.lattice = [   0.200000  ,   0.500000 ,    0.700000 ], refinement level:0, dK=[0.1 0.1 0.1]  \n",
      " K-point 258 : coord in rec.lattice = [   0.200000  ,   0.500000 ,    0.800000 ], refinement level:0, dK=[0.1 0.1 0.1]  \n",
      " K-point 259 : coord in rec.lattice = [   0.200000  ,   0.500000 ,    0.900000 ], refinement level:0, dK=[0.1 0.1 0.1]  \n",
      " K-point 260 : coord in rec.lattice = [   0.200000  ,   0.600000 ,    0.000000 ], refinement level:0, dK=[0.1 0.1 0.1]  \n",
      " K-point 261 : coord in rec.lattice = [   0.200000  ,   0.600000 ,    0.100000 ], refinement level:0, dK=[0.1 0.1 0.1]  \n",
      " K-point 262 : coord in rec.lattice = [   0.200000  ,   0.600000 ,    0.200000 ], refinement level:0, dK=[0.1 0.1 0.1]  \n",
      " K-point 263 : coord in rec.lattice = [   0.200000  ,   0.600000 ,    0.300000 ], refinement level:0, dK=[0.1 0.1 0.1]  \n",
      " K-point 264 : coord in rec.lattice = [   0.200000  ,   0.600000 ,    0.400000 ], refinement level:0, dK=[0.1 0.1 0.1]  \n",
      " K-point 265 : coord in rec.lattice = [   0.200000  ,   0.600000 ,    0.500000 ], refinement level:0, dK=[0.1 0.1 0.1]  \n",
      " K-point 266 : coord in rec.lattice = [   0.200000  ,   0.600000 ,    0.600000 ], refinement level:0, dK=[0.1 0.1 0.1]  \n",
      " K-point 267 : coord in rec.lattice = [   0.200000  ,   0.600000 ,    0.700000 ], refinement level:0, dK=[0.1 0.1 0.1]  \n",
      " K-point 268 : coord in rec.lattice = [   0.200000  ,   0.600000 ,    0.800000 ], refinement level:0, dK=[0.1 0.1 0.1]  \n",
      " K-point 269 : coord in rec.lattice = [   0.200000  ,   0.600000 ,    0.900000 ], refinement level:0, dK=[0.1 0.1 0.1]  \n",
      " K-point 270 : coord in rec.lattice = [   0.200000  ,   0.700000 ,    0.000000 ], refinement level:0, dK=[0.1 0.1 0.1]  \n",
      " K-point 271 : coord in rec.lattice = [   0.200000  ,   0.700000 ,    0.100000 ], refinement level:0, dK=[0.1 0.1 0.1]  \n",
      " K-point 272 : coord in rec.lattice = [   0.200000  ,   0.700000 ,    0.200000 ], refinement level:0, dK=[0.1 0.1 0.1]  \n",
      " K-point 273 : coord in rec.lattice = [   0.200000  ,   0.700000 ,    0.300000 ], refinement level:0, dK=[0.1 0.1 0.1]  \n",
      " K-point 274 : coord in rec.lattice = [   0.200000  ,   0.700000 ,    0.400000 ], refinement level:0, dK=[0.1 0.1 0.1]  \n",
      " K-point 275 : coord in rec.lattice = [   0.200000  ,   0.700000 ,    0.500000 ], refinement level:0, dK=[0.1 0.1 0.1]  \n",
      " K-point 276 : coord in rec.lattice = [   0.200000  ,   0.700000 ,    0.600000 ], refinement level:0, dK=[0.1 0.1 0.1]  \n",
      " K-point 277 : coord in rec.lattice = [   0.200000  ,   0.700000 ,    0.700000 ], refinement level:0, dK=[0.1 0.1 0.1]  \n",
      " K-point 278 : coord in rec.lattice = [   0.200000  ,   0.700000 ,    0.800000 ], refinement level:0, dK=[0.1 0.1 0.1]  \n",
      " K-point 279 : coord in rec.lattice = [   0.200000  ,   0.700000 ,    0.900000 ], refinement level:0, dK=[0.1 0.1 0.1]  \n",
      " K-point 280 : coord in rec.lattice = [   0.200000  ,   0.800000 ,    0.000000 ], refinement level:0, dK=[0.1 0.1 0.1]  \n",
      " K-point 281 : coord in rec.lattice = [   0.200000  ,   0.800000 ,    0.100000 ], refinement level:0, dK=[0.1 0.1 0.1]  \n",
      " K-point 282 : coord in rec.lattice = [   0.200000  ,   0.800000 ,    0.200000 ], refinement level:0, dK=[0.1 0.1 0.1]  \n",
      " K-point 283 : coord in rec.lattice = [   0.200000  ,   0.800000 ,    0.300000 ], refinement level:0, dK=[0.1 0.1 0.1]  \n",
      " K-point 284 : coord in rec.lattice = [   0.200000  ,   0.800000 ,    0.400000 ], refinement level:0, dK=[0.1 0.1 0.1]  \n",
      " K-point 285 : coord in rec.lattice = [   0.200000  ,   0.800000 ,    0.500000 ], refinement level:0, dK=[0.1 0.1 0.1]  \n",
      " K-point 286 : coord in rec.lattice = [   0.200000  ,   0.800000 ,    0.600000 ], refinement level:0, dK=[0.1 0.1 0.1]  \n",
      " K-point 287 : coord in rec.lattice = [   0.200000  ,   0.800000 ,    0.700000 ], refinement level:0, dK=[0.1 0.1 0.1]  \n",
      " K-point 288 : coord in rec.lattice = [   0.200000  ,   0.800000 ,    0.800000 ], refinement level:0, dK=[0.1 0.1 0.1]  \n",
      " K-point 289 : coord in rec.lattice = [   0.200000  ,   0.800000 ,    0.900000 ], refinement level:0, dK=[0.1 0.1 0.1]  \n",
      " K-point 290 : coord in rec.lattice = [   0.200000  ,   0.900000 ,    0.000000 ], refinement level:0, dK=[0.1 0.1 0.1]  \n",
      " K-point 291 : coord in rec.lattice = [   0.200000  ,   0.900000 ,    0.100000 ], refinement level:0, dK=[0.1 0.1 0.1]  \n",
      " K-point 292 : coord in rec.lattice = [   0.200000  ,   0.900000 ,    0.200000 ], refinement level:0, dK=[0.1 0.1 0.1]  \n",
      " K-point 293 : coord in rec.lattice = [   0.200000  ,   0.900000 ,    0.300000 ], refinement level:0, dK=[0.1 0.1 0.1]  \n",
      " K-point 294 : coord in rec.lattice = [   0.200000  ,   0.900000 ,    0.400000 ], refinement level:0, dK=[0.1 0.1 0.1]  \n",
      " K-point 295 : coord in rec.lattice = [   0.200000  ,   0.900000 ,    0.500000 ], refinement level:0, dK=[0.1 0.1 0.1]  \n",
      " K-point 296 : coord in rec.lattice = [   0.200000  ,   0.900000 ,    0.600000 ], refinement level:0, dK=[0.1 0.1 0.1]  \n",
      " K-point 297 : coord in rec.lattice = [   0.200000  ,   0.900000 ,    0.700000 ], refinement level:0, dK=[0.1 0.1 0.1]  \n",
      " K-point 298 : coord in rec.lattice = [   0.200000  ,   0.900000 ,    0.800000 ], refinement level:0, dK=[0.1 0.1 0.1]  \n",
      " K-point 299 : coord in rec.lattice = [   0.200000  ,   0.900000 ,    0.900000 ], refinement level:0, dK=[0.1 0.1 0.1]  \n",
      " K-point 300 : coord in rec.lattice = [   0.300000  ,   0.000000 ,    0.000000 ], refinement level:0, dK=[0.1 0.1 0.1]  \n",
      " K-point 301 : coord in rec.lattice = [   0.300000  ,   0.000000 ,    0.100000 ], refinement level:0, dK=[0.1 0.1 0.1]  \n",
      " K-point 302 : coord in rec.lattice = [   0.300000  ,   0.000000 ,    0.200000 ], refinement level:0, dK=[0.1 0.1 0.1]  \n",
      " K-point 303 : coord in rec.lattice = [   0.300000  ,   0.000000 ,    0.300000 ], refinement level:0, dK=[0.1 0.1 0.1]  \n",
      " K-point 304 : coord in rec.lattice = [   0.300000  ,   0.000000 ,    0.400000 ], refinement level:0, dK=[0.1 0.1 0.1]  \n",
      " K-point 305 : coord in rec.lattice = [   0.300000  ,   0.000000 ,    0.500000 ], refinement level:0, dK=[0.1 0.1 0.1]  \n",
      " K-point 306 : coord in rec.lattice = [   0.300000  ,   0.000000 ,    0.600000 ], refinement level:0, dK=[0.1 0.1 0.1]  \n",
      " K-point 307 : coord in rec.lattice = [   0.300000  ,   0.000000 ,    0.700000 ], refinement level:0, dK=[0.1 0.1 0.1]  \n",
      " K-point 308 : coord in rec.lattice = [   0.300000  ,   0.000000 ,    0.800000 ], refinement level:0, dK=[0.1 0.1 0.1]  \n",
      " K-point 309 : coord in rec.lattice = [   0.300000  ,   0.000000 ,    0.900000 ], refinement level:0, dK=[0.1 0.1 0.1]  \n",
      " K-point 310 : coord in rec.lattice = [   0.300000  ,   0.100000 ,    0.000000 ], refinement level:0, dK=[0.1 0.1 0.1]  \n",
      " K-point 311 : coord in rec.lattice = [   0.300000  ,   0.100000 ,    0.100000 ], refinement level:0, dK=[0.1 0.1 0.1]  \n",
      " K-point 312 : coord in rec.lattice = [   0.300000  ,   0.100000 ,    0.200000 ], refinement level:0, dK=[0.1 0.1 0.1]  \n",
      " K-point 313 : coord in rec.lattice = [   0.300000  ,   0.100000 ,    0.300000 ], refinement level:0, dK=[0.1 0.1 0.1]  \n",
      " K-point 314 : coord in rec.lattice = [   0.300000  ,   0.100000 ,    0.400000 ], refinement level:0, dK=[0.1 0.1 0.1]  \n",
      " K-point 315 : coord in rec.lattice = [   0.300000  ,   0.100000 ,    0.500000 ], refinement level:0, dK=[0.1 0.1 0.1]  \n",
      " K-point 316 : coord in rec.lattice = [   0.300000  ,   0.100000 ,    0.600000 ], refinement level:0, dK=[0.1 0.1 0.1]  \n",
      " K-point 317 : coord in rec.lattice = [   0.300000  ,   0.100000 ,    0.700000 ], refinement level:0, dK=[0.1 0.1 0.1]  \n",
      " K-point 318 : coord in rec.lattice = [   0.300000  ,   0.100000 ,    0.800000 ], refinement level:0, dK=[0.1 0.1 0.1]  \n",
      " K-point 319 : coord in rec.lattice = [   0.300000  ,   0.100000 ,    0.900000 ], refinement level:0, dK=[0.1 0.1 0.1]  \n",
      " K-point 320 : coord in rec.lattice = [   0.300000  ,   0.200000 ,    0.000000 ], refinement level:0, dK=[0.1 0.1 0.1]  \n",
      " K-point 321 : coord in rec.lattice = [   0.300000  ,   0.200000 ,    0.100000 ], refinement level:0, dK=[0.1 0.1 0.1]  \n",
      " K-point 322 : coord in rec.lattice = [   0.300000  ,   0.200000 ,    0.200000 ], refinement level:0, dK=[0.1 0.1 0.1]  \n",
      " K-point 323 : coord in rec.lattice = [   0.300000  ,   0.200000 ,    0.300000 ], refinement level:0, dK=[0.1 0.1 0.1]  \n",
      " K-point 324 : coord in rec.lattice = [   0.300000  ,   0.200000 ,    0.400000 ], refinement level:0, dK=[0.1 0.1 0.1]  \n",
      " K-point 325 : coord in rec.lattice = [   0.300000  ,   0.200000 ,    0.500000 ], refinement level:0, dK=[0.1 0.1 0.1]  \n",
      " K-point 326 : coord in rec.lattice = [   0.300000  ,   0.200000 ,    0.600000 ], refinement level:0, dK=[0.1 0.1 0.1]  \n",
      " K-point 327 : coord in rec.lattice = [   0.300000  ,   0.200000 ,    0.700000 ], refinement level:0, dK=[0.1 0.1 0.1]  \n",
      " K-point 328 : coord in rec.lattice = [   0.300000  ,   0.200000 ,    0.800000 ], refinement level:0, dK=[0.1 0.1 0.1]  \n",
      " K-point 329 : coord in rec.lattice = [   0.300000  ,   0.200000 ,    0.900000 ], refinement level:0, dK=[0.1 0.1 0.1]  \n",
      " K-point 330 : coord in rec.lattice = [   0.300000  ,   0.300000 ,    0.000000 ], refinement level:0, dK=[0.1 0.1 0.1]  \n",
      " K-point 331 : coord in rec.lattice = [   0.300000  ,   0.300000 ,    0.100000 ], refinement level:0, dK=[0.1 0.1 0.1]  \n",
      " K-point 332 : coord in rec.lattice = [   0.300000  ,   0.300000 ,    0.200000 ], refinement level:0, dK=[0.1 0.1 0.1]  \n",
      " K-point 333 : coord in rec.lattice = [   0.300000  ,   0.300000 ,    0.300000 ], refinement level:0, dK=[0.1 0.1 0.1]  \n",
      " K-point 334 : coord in rec.lattice = [   0.300000  ,   0.300000 ,    0.400000 ], refinement level:0, dK=[0.1 0.1 0.1]  \n",
      " K-point 335 : coord in rec.lattice = [   0.300000  ,   0.300000 ,    0.500000 ], refinement level:0, dK=[0.1 0.1 0.1]  \n",
      " K-point 336 : coord in rec.lattice = [   0.300000  ,   0.300000 ,    0.600000 ], refinement level:0, dK=[0.1 0.1 0.1]  \n",
      " K-point 337 : coord in rec.lattice = [   0.300000  ,   0.300000 ,    0.700000 ], refinement level:0, dK=[0.1 0.1 0.1]  \n",
      " K-point 338 : coord in rec.lattice = [   0.300000  ,   0.300000 ,    0.800000 ], refinement level:0, dK=[0.1 0.1 0.1]  \n",
      " K-point 339 : coord in rec.lattice = [   0.300000  ,   0.300000 ,    0.900000 ], refinement level:0, dK=[0.1 0.1 0.1]  \n",
      " K-point 340 : coord in rec.lattice = [   0.300000  ,   0.400000 ,    0.000000 ], refinement level:0, dK=[0.1 0.1 0.1]  \n",
      " K-point 341 : coord in rec.lattice = [   0.300000  ,   0.400000 ,    0.100000 ], refinement level:0, dK=[0.1 0.1 0.1]  \n",
      " K-point 342 : coord in rec.lattice = [   0.300000  ,   0.400000 ,    0.200000 ], refinement level:0, dK=[0.1 0.1 0.1]  \n",
      " K-point 343 : coord in rec.lattice = [   0.300000  ,   0.400000 ,    0.300000 ], refinement level:0, dK=[0.1 0.1 0.1]  \n",
      " K-point 344 : coord in rec.lattice = [   0.300000  ,   0.400000 ,    0.400000 ], refinement level:0, dK=[0.1 0.1 0.1]  \n",
      " K-point 345 : coord in rec.lattice = [   0.300000  ,   0.400000 ,    0.500000 ], refinement level:0, dK=[0.1 0.1 0.1]  \n",
      " K-point 346 : coord in rec.lattice = [   0.300000  ,   0.400000 ,    0.600000 ], refinement level:0, dK=[0.1 0.1 0.1]  \n",
      " K-point 347 : coord in rec.lattice = [   0.300000  ,   0.400000 ,    0.700000 ], refinement level:0, dK=[0.1 0.1 0.1]  \n",
      " K-point 348 : coord in rec.lattice = [   0.300000  ,   0.400000 ,    0.800000 ], refinement level:0, dK=[0.1 0.1 0.1]  \n",
      " K-point 349 : coord in rec.lattice = [   0.300000  ,   0.400000 ,    0.900000 ], refinement level:0, dK=[0.1 0.1 0.1]  \n",
      " K-point 350 : coord in rec.lattice = [   0.300000  ,   0.500000 ,    0.000000 ], refinement level:0, dK=[0.1 0.1 0.1]  \n",
      " K-point 351 : coord in rec.lattice = [   0.300000  ,   0.500000 ,    0.100000 ], refinement level:0, dK=[0.1 0.1 0.1]  \n",
      " K-point 352 : coord in rec.lattice = [   0.300000  ,   0.500000 ,    0.200000 ], refinement level:0, dK=[0.1 0.1 0.1]  \n",
      " K-point 353 : coord in rec.lattice = [   0.300000  ,   0.500000 ,    0.300000 ], refinement level:0, dK=[0.1 0.1 0.1]  \n",
      " K-point 354 : coord in rec.lattice = [   0.300000  ,   0.500000 ,    0.400000 ], refinement level:0, dK=[0.1 0.1 0.1]  \n",
      " K-point 355 : coord in rec.lattice = [   0.300000  ,   0.500000 ,    0.500000 ], refinement level:0, dK=[0.1 0.1 0.1]  \n",
      " K-point 356 : coord in rec.lattice = [   0.300000  ,   0.500000 ,    0.600000 ], refinement level:0, dK=[0.1 0.1 0.1]  \n",
      " K-point 357 : coord in rec.lattice = [   0.300000  ,   0.500000 ,    0.700000 ], refinement level:0, dK=[0.1 0.1 0.1]  \n",
      " K-point 358 : coord in rec.lattice = [   0.300000  ,   0.500000 ,    0.800000 ], refinement level:0, dK=[0.1 0.1 0.1]  \n",
      " K-point 359 : coord in rec.lattice = [   0.300000  ,   0.500000 ,    0.900000 ], refinement level:0, dK=[0.1 0.1 0.1]  \n",
      " K-point 360 : coord in rec.lattice = [   0.300000  ,   0.600000 ,    0.000000 ], refinement level:0, dK=[0.1 0.1 0.1]  \n",
      " K-point 361 : coord in rec.lattice = [   0.300000  ,   0.600000 ,    0.100000 ], refinement level:0, dK=[0.1 0.1 0.1]  \n",
      " K-point 362 : coord in rec.lattice = [   0.300000  ,   0.600000 ,    0.200000 ], refinement level:0, dK=[0.1 0.1 0.1]  \n",
      " K-point 363 : coord in rec.lattice = [   0.300000  ,   0.600000 ,    0.300000 ], refinement level:0, dK=[0.1 0.1 0.1]  \n",
      " K-point 364 : coord in rec.lattice = [   0.300000  ,   0.600000 ,    0.400000 ], refinement level:0, dK=[0.1 0.1 0.1]  \n",
      " K-point 365 : coord in rec.lattice = [   0.300000  ,   0.600000 ,    0.500000 ], refinement level:0, dK=[0.1 0.1 0.1]  \n",
      " K-point 366 : coord in rec.lattice = [   0.300000  ,   0.600000 ,    0.600000 ], refinement level:0, dK=[0.1 0.1 0.1]  \n",
      " K-point 367 : coord in rec.lattice = [   0.300000  ,   0.600000 ,    0.700000 ], refinement level:0, dK=[0.1 0.1 0.1]  \n",
      " K-point 368 : coord in rec.lattice = [   0.300000  ,   0.600000 ,    0.800000 ], refinement level:0, dK=[0.1 0.1 0.1]  \n",
      " K-point 369 : coord in rec.lattice = [   0.300000  ,   0.600000 ,    0.900000 ], refinement level:0, dK=[0.1 0.1 0.1]  \n",
      " K-point 370 : coord in rec.lattice = [   0.300000  ,   0.700000 ,    0.000000 ], refinement level:0, dK=[0.1 0.1 0.1]  \n",
      " K-point 371 : coord in rec.lattice = [   0.300000  ,   0.700000 ,    0.100000 ], refinement level:0, dK=[0.1 0.1 0.1]  \n",
      " K-point 372 : coord in rec.lattice = [   0.300000  ,   0.700000 ,    0.200000 ], refinement level:0, dK=[0.1 0.1 0.1]  \n",
      " K-point 373 : coord in rec.lattice = [   0.300000  ,   0.700000 ,    0.300000 ], refinement level:0, dK=[0.1 0.1 0.1]  \n",
      " K-point 374 : coord in rec.lattice = [   0.300000  ,   0.700000 ,    0.400000 ], refinement level:0, dK=[0.1 0.1 0.1]  \n",
      " K-point 375 : coord in rec.lattice = [   0.300000  ,   0.700000 ,    0.500000 ], refinement level:0, dK=[0.1 0.1 0.1]  \n",
      " K-point 376 : coord in rec.lattice = [   0.300000  ,   0.700000 ,    0.600000 ], refinement level:0, dK=[0.1 0.1 0.1]  \n",
      " K-point 377 : coord in rec.lattice = [   0.300000  ,   0.700000 ,    0.700000 ], refinement level:0, dK=[0.1 0.1 0.1]  \n",
      " K-point 378 : coord in rec.lattice = [   0.300000  ,   0.700000 ,    0.800000 ], refinement level:0, dK=[0.1 0.1 0.1]  \n",
      " K-point 379 : coord in rec.lattice = [   0.300000  ,   0.700000 ,    0.900000 ], refinement level:0, dK=[0.1 0.1 0.1]  \n",
      " K-point 380 : coord in rec.lattice = [   0.300000  ,   0.800000 ,    0.000000 ], refinement level:0, dK=[0.1 0.1 0.1]  \n",
      " K-point 381 : coord in rec.lattice = [   0.300000  ,   0.800000 ,    0.100000 ], refinement level:0, dK=[0.1 0.1 0.1]  \n",
      " K-point 382 : coord in rec.lattice = [   0.300000  ,   0.800000 ,    0.200000 ], refinement level:0, dK=[0.1 0.1 0.1]  \n",
      " K-point 383 : coord in rec.lattice = [   0.300000  ,   0.800000 ,    0.300000 ], refinement level:0, dK=[0.1 0.1 0.1]  \n",
      " K-point 384 : coord in rec.lattice = [   0.300000  ,   0.800000 ,    0.400000 ], refinement level:0, dK=[0.1 0.1 0.1]  \n",
      " K-point 385 : coord in rec.lattice = [   0.300000  ,   0.800000 ,    0.500000 ], refinement level:0, dK=[0.1 0.1 0.1]  \n",
      " K-point 386 : coord in rec.lattice = [   0.300000  ,   0.800000 ,    0.600000 ], refinement level:0, dK=[0.1 0.1 0.1]  \n",
      " K-point 387 : coord in rec.lattice = [   0.300000  ,   0.800000 ,    0.700000 ], refinement level:0, dK=[0.1 0.1 0.1]  \n",
      " K-point 388 : coord in rec.lattice = [   0.300000  ,   0.800000 ,    0.800000 ], refinement level:0, dK=[0.1 0.1 0.1]  \n",
      " K-point 389 : coord in rec.lattice = [   0.300000  ,   0.800000 ,    0.900000 ], refinement level:0, dK=[0.1 0.1 0.1]  \n",
      " K-point 390 : coord in rec.lattice = [   0.300000  ,   0.900000 ,    0.000000 ], refinement level:0, dK=[0.1 0.1 0.1]  \n",
      " K-point 391 : coord in rec.lattice = [   0.300000  ,   0.900000 ,    0.100000 ], refinement level:0, dK=[0.1 0.1 0.1]  \n",
      " K-point 392 : coord in rec.lattice = [   0.300000  ,   0.900000 ,    0.200000 ], refinement level:0, dK=[0.1 0.1 0.1]  \n",
      " K-point 393 : coord in rec.lattice = [   0.300000  ,   0.900000 ,    0.300000 ], refinement level:0, dK=[0.1 0.1 0.1]  \n",
      " K-point 394 : coord in rec.lattice = [   0.300000  ,   0.900000 ,    0.400000 ], refinement level:0, dK=[0.1 0.1 0.1]  \n",
      " K-point 395 : coord in rec.lattice = [   0.300000  ,   0.900000 ,    0.500000 ], refinement level:0, dK=[0.1 0.1 0.1]  \n",
      " K-point 396 : coord in rec.lattice = [   0.300000  ,   0.900000 ,    0.600000 ], refinement level:0, dK=[0.1 0.1 0.1]  \n",
      " K-point 397 : coord in rec.lattice = [   0.300000  ,   0.900000 ,    0.700000 ], refinement level:0, dK=[0.1 0.1 0.1]  \n",
      " K-point 398 : coord in rec.lattice = [   0.300000  ,   0.900000 ,    0.800000 ], refinement level:0, dK=[0.1 0.1 0.1]  \n",
      " K-point 399 : coord in rec.lattice = [   0.300000  ,   0.900000 ,    0.900000 ], refinement level:0, dK=[0.1 0.1 0.1]  \n",
      " K-point 400 : coord in rec.lattice = [   0.400000  ,   0.000000 ,    0.000000 ], refinement level:0, dK=[0.1 0.1 0.1]  \n",
      " K-point 401 : coord in rec.lattice = [   0.400000  ,   0.000000 ,    0.100000 ], refinement level:0, dK=[0.1 0.1 0.1]  \n",
      " K-point 402 : coord in rec.lattice = [   0.400000  ,   0.000000 ,    0.200000 ], refinement level:0, dK=[0.1 0.1 0.1]  \n",
      " K-point 403 : coord in rec.lattice = [   0.400000  ,   0.000000 ,    0.300000 ], refinement level:0, dK=[0.1 0.1 0.1]  \n",
      " K-point 404 : coord in rec.lattice = [   0.400000  ,   0.000000 ,    0.400000 ], refinement level:0, dK=[0.1 0.1 0.1]  \n",
      " K-point 405 : coord in rec.lattice = [   0.400000  ,   0.000000 ,    0.500000 ], refinement level:0, dK=[0.1 0.1 0.1]  \n",
      " K-point 406 : coord in rec.lattice = [   0.400000  ,   0.000000 ,    0.600000 ], refinement level:0, dK=[0.1 0.1 0.1]  \n",
      " K-point 407 : coord in rec.lattice = [   0.400000  ,   0.000000 ,    0.700000 ], refinement level:0, dK=[0.1 0.1 0.1]  \n",
      " K-point 408 : coord in rec.lattice = [   0.400000  ,   0.000000 ,    0.800000 ], refinement level:0, dK=[0.1 0.1 0.1]  \n",
      " K-point 409 : coord in rec.lattice = [   0.400000  ,   0.000000 ,    0.900000 ], refinement level:0, dK=[0.1 0.1 0.1]  \n",
      " K-point 410 : coord in rec.lattice = [   0.400000  ,   0.100000 ,    0.000000 ], refinement level:0, dK=[0.1 0.1 0.1]  \n",
      " K-point 411 : coord in rec.lattice = [   0.400000  ,   0.100000 ,    0.100000 ], refinement level:0, dK=[0.1 0.1 0.1]  \n",
      " K-point 412 : coord in rec.lattice = [   0.400000  ,   0.100000 ,    0.200000 ], refinement level:0, dK=[0.1 0.1 0.1]  \n",
      " K-point 413 : coord in rec.lattice = [   0.400000  ,   0.100000 ,    0.300000 ], refinement level:0, dK=[0.1 0.1 0.1]  \n",
      " K-point 414 : coord in rec.lattice = [   0.400000  ,   0.100000 ,    0.400000 ], refinement level:0, dK=[0.1 0.1 0.1]  \n",
      " K-point 415 : coord in rec.lattice = [   0.400000  ,   0.100000 ,    0.500000 ], refinement level:0, dK=[0.1 0.1 0.1]  \n",
      " K-point 416 : coord in rec.lattice = [   0.400000  ,   0.100000 ,    0.600000 ], refinement level:0, dK=[0.1 0.1 0.1]  \n",
      " K-point 417 : coord in rec.lattice = [   0.400000  ,   0.100000 ,    0.700000 ], refinement level:0, dK=[0.1 0.1 0.1]  \n",
      " K-point 418 : coord in rec.lattice = [   0.400000  ,   0.100000 ,    0.800000 ], refinement level:0, dK=[0.1 0.1 0.1]  \n",
      " K-point 419 : coord in rec.lattice = [   0.400000  ,   0.100000 ,    0.900000 ], refinement level:0, dK=[0.1 0.1 0.1]  \n",
      " K-point 420 : coord in rec.lattice = [   0.400000  ,   0.200000 ,    0.000000 ], refinement level:0, dK=[0.1 0.1 0.1]  \n",
      " K-point 421 : coord in rec.lattice = [   0.400000  ,   0.200000 ,    0.100000 ], refinement level:0, dK=[0.1 0.1 0.1]  \n",
      " K-point 422 : coord in rec.lattice = [   0.400000  ,   0.200000 ,    0.200000 ], refinement level:0, dK=[0.1 0.1 0.1]  \n",
      " K-point 423 : coord in rec.lattice = [   0.400000  ,   0.200000 ,    0.300000 ], refinement level:0, dK=[0.1 0.1 0.1]  \n",
      " K-point 424 : coord in rec.lattice = [   0.400000  ,   0.200000 ,    0.400000 ], refinement level:0, dK=[0.1 0.1 0.1]  \n",
      " K-point 425 : coord in rec.lattice = [   0.400000  ,   0.200000 ,    0.500000 ], refinement level:0, dK=[0.1 0.1 0.1]  \n",
      " K-point 426 : coord in rec.lattice = [   0.400000  ,   0.200000 ,    0.600000 ], refinement level:0, dK=[0.1 0.1 0.1]  \n",
      " K-point 427 : coord in rec.lattice = [   0.400000  ,   0.200000 ,    0.700000 ], refinement level:0, dK=[0.1 0.1 0.1]  \n",
      " K-point 428 : coord in rec.lattice = [   0.400000  ,   0.200000 ,    0.800000 ], refinement level:0, dK=[0.1 0.1 0.1]  \n",
      " K-point 429 : coord in rec.lattice = [   0.400000  ,   0.200000 ,    0.900000 ], refinement level:0, dK=[0.1 0.1 0.1]  \n",
      " K-point 430 : coord in rec.lattice = [   0.400000  ,   0.300000 ,    0.000000 ], refinement level:0, dK=[0.1 0.1 0.1]  \n",
      " K-point 431 : coord in rec.lattice = [   0.400000  ,   0.300000 ,    0.100000 ], refinement level:0, dK=[0.1 0.1 0.1]  \n",
      " K-point 432 : coord in rec.lattice = [   0.400000  ,   0.300000 ,    0.200000 ], refinement level:0, dK=[0.1 0.1 0.1]  \n",
      " K-point 433 : coord in rec.lattice = [   0.400000  ,   0.300000 ,    0.300000 ], refinement level:0, dK=[0.1 0.1 0.1]  \n",
      " K-point 434 : coord in rec.lattice = [   0.400000  ,   0.300000 ,    0.400000 ], refinement level:0, dK=[0.1 0.1 0.1]  \n",
      " K-point 435 : coord in rec.lattice = [   0.400000  ,   0.300000 ,    0.500000 ], refinement level:0, dK=[0.1 0.1 0.1]  \n",
      " K-point 436 : coord in rec.lattice = [   0.400000  ,   0.300000 ,    0.600000 ], refinement level:0, dK=[0.1 0.1 0.1]  \n",
      " K-point 437 : coord in rec.lattice = [   0.400000  ,   0.300000 ,    0.700000 ], refinement level:0, dK=[0.1 0.1 0.1]  \n",
      " K-point 438 : coord in rec.lattice = [   0.400000  ,   0.300000 ,    0.800000 ], refinement level:0, dK=[0.1 0.1 0.1]  \n",
      " K-point 439 : coord in rec.lattice = [   0.400000  ,   0.300000 ,    0.900000 ], refinement level:0, dK=[0.1 0.1 0.1]  \n",
      " K-point 440 : coord in rec.lattice = [   0.400000  ,   0.400000 ,    0.000000 ], refinement level:0, dK=[0.1 0.1 0.1]  \n",
      " K-point 441 : coord in rec.lattice = [   0.400000  ,   0.400000 ,    0.100000 ], refinement level:0, dK=[0.1 0.1 0.1]  \n",
      " K-point 442 : coord in rec.lattice = [   0.400000  ,   0.400000 ,    0.200000 ], refinement level:0, dK=[0.1 0.1 0.1]  \n",
      " K-point 443 : coord in rec.lattice = [   0.400000  ,   0.400000 ,    0.300000 ], refinement level:0, dK=[0.1 0.1 0.1]  \n",
      " K-point 444 : coord in rec.lattice = [   0.400000  ,   0.400000 ,    0.400000 ], refinement level:0, dK=[0.1 0.1 0.1]  \n",
      " K-point 445 : coord in rec.lattice = [   0.400000  ,   0.400000 ,    0.500000 ], refinement level:0, dK=[0.1 0.1 0.1]  \n",
      " K-point 446 : coord in rec.lattice = [   0.400000  ,   0.400000 ,    0.600000 ], refinement level:0, dK=[0.1 0.1 0.1]  \n",
      " K-point 447 : coord in rec.lattice = [   0.400000  ,   0.400000 ,    0.700000 ], refinement level:0, dK=[0.1 0.1 0.1]  \n",
      " K-point 448 : coord in rec.lattice = [   0.400000  ,   0.400000 ,    0.800000 ], refinement level:0, dK=[0.1 0.1 0.1]  \n",
      " K-point 449 : coord in rec.lattice = [   0.400000  ,   0.400000 ,    0.900000 ], refinement level:0, dK=[0.1 0.1 0.1]  \n",
      " K-point 450 : coord in rec.lattice = [   0.400000  ,   0.500000 ,    0.000000 ], refinement level:0, dK=[0.1 0.1 0.1]  \n",
      " K-point 451 : coord in rec.lattice = [   0.400000  ,   0.500000 ,    0.100000 ], refinement level:0, dK=[0.1 0.1 0.1]  \n",
      " K-point 452 : coord in rec.lattice = [   0.400000  ,   0.500000 ,    0.200000 ], refinement level:0, dK=[0.1 0.1 0.1]  \n",
      " K-point 453 : coord in rec.lattice = [   0.400000  ,   0.500000 ,    0.300000 ], refinement level:0, dK=[0.1 0.1 0.1]  \n",
      " K-point 454 : coord in rec.lattice = [   0.400000  ,   0.500000 ,    0.400000 ], refinement level:0, dK=[0.1 0.1 0.1]  \n",
      " K-point 455 : coord in rec.lattice = [   0.400000  ,   0.500000 ,    0.500000 ], refinement level:0, dK=[0.1 0.1 0.1]  \n",
      " K-point 456 : coord in rec.lattice = [   0.400000  ,   0.500000 ,    0.600000 ], refinement level:0, dK=[0.1 0.1 0.1]  \n",
      " K-point 457 : coord in rec.lattice = [   0.400000  ,   0.500000 ,    0.700000 ], refinement level:0, dK=[0.1 0.1 0.1]  \n",
      " K-point 458 : coord in rec.lattice = [   0.400000  ,   0.500000 ,    0.800000 ], refinement level:0, dK=[0.1 0.1 0.1]  \n",
      " K-point 459 : coord in rec.lattice = [   0.400000  ,   0.500000 ,    0.900000 ], refinement level:0, dK=[0.1 0.1 0.1]  \n",
      " K-point 460 : coord in rec.lattice = [   0.400000  ,   0.600000 ,    0.000000 ], refinement level:0, dK=[0.1 0.1 0.1]  \n",
      " K-point 461 : coord in rec.lattice = [   0.400000  ,   0.600000 ,    0.100000 ], refinement level:0, dK=[0.1 0.1 0.1]  \n",
      " K-point 462 : coord in rec.lattice = [   0.400000  ,   0.600000 ,    0.200000 ], refinement level:0, dK=[0.1 0.1 0.1]  \n",
      " K-point 463 : coord in rec.lattice = [   0.400000  ,   0.600000 ,    0.300000 ], refinement level:0, dK=[0.1 0.1 0.1]  \n",
      " K-point 464 : coord in rec.lattice = [   0.400000  ,   0.600000 ,    0.400000 ], refinement level:0, dK=[0.1 0.1 0.1]  \n",
      " K-point 465 : coord in rec.lattice = [   0.400000  ,   0.600000 ,    0.500000 ], refinement level:0, dK=[0.1 0.1 0.1]  \n",
      " K-point 466 : coord in rec.lattice = [   0.400000  ,   0.600000 ,    0.600000 ], refinement level:0, dK=[0.1 0.1 0.1]  \n",
      " K-point 467 : coord in rec.lattice = [   0.400000  ,   0.600000 ,    0.700000 ], refinement level:0, dK=[0.1 0.1 0.1]  \n",
      " K-point 468 : coord in rec.lattice = [   0.400000  ,   0.600000 ,    0.800000 ], refinement level:0, dK=[0.1 0.1 0.1]  \n",
      " K-point 469 : coord in rec.lattice = [   0.400000  ,   0.600000 ,    0.900000 ], refinement level:0, dK=[0.1 0.1 0.1]  \n",
      " K-point 470 : coord in rec.lattice = [   0.400000  ,   0.700000 ,    0.000000 ], refinement level:0, dK=[0.1 0.1 0.1]  \n",
      " K-point 471 : coord in rec.lattice = [   0.400000  ,   0.700000 ,    0.100000 ], refinement level:0, dK=[0.1 0.1 0.1]  \n",
      " K-point 472 : coord in rec.lattice = [   0.400000  ,   0.700000 ,    0.200000 ], refinement level:0, dK=[0.1 0.1 0.1]  \n",
      " K-point 473 : coord in rec.lattice = [   0.400000  ,   0.700000 ,    0.300000 ], refinement level:0, dK=[0.1 0.1 0.1]  \n",
      " K-point 474 : coord in rec.lattice = [   0.400000  ,   0.700000 ,    0.400000 ], refinement level:0, dK=[0.1 0.1 0.1]  \n",
      " K-point 475 : coord in rec.lattice = [   0.400000  ,   0.700000 ,    0.500000 ], refinement level:0, dK=[0.1 0.1 0.1]  \n",
      " K-point 476 : coord in rec.lattice = [   0.400000  ,   0.700000 ,    0.600000 ], refinement level:0, dK=[0.1 0.1 0.1]  \n",
      " K-point 477 : coord in rec.lattice = [   0.400000  ,   0.700000 ,    0.700000 ], refinement level:0, dK=[0.1 0.1 0.1]  \n",
      " K-point 478 : coord in rec.lattice = [   0.400000  ,   0.700000 ,    0.800000 ], refinement level:0, dK=[0.1 0.1 0.1]  \n",
      " K-point 479 : coord in rec.lattice = [   0.400000  ,   0.700000 ,    0.900000 ], refinement level:0, dK=[0.1 0.1 0.1]  \n",
      " K-point 480 : coord in rec.lattice = [   0.400000  ,   0.800000 ,    0.000000 ], refinement level:0, dK=[0.1 0.1 0.1]  \n",
      " K-point 481 : coord in rec.lattice = [   0.400000  ,   0.800000 ,    0.100000 ], refinement level:0, dK=[0.1 0.1 0.1]  \n",
      " K-point 482 : coord in rec.lattice = [   0.400000  ,   0.800000 ,    0.200000 ], refinement level:0, dK=[0.1 0.1 0.1]  \n",
      " K-point 483 : coord in rec.lattice = [   0.400000  ,   0.800000 ,    0.300000 ], refinement level:0, dK=[0.1 0.1 0.1]  \n",
      " K-point 484 : coord in rec.lattice = [   0.400000  ,   0.800000 ,    0.400000 ], refinement level:0, dK=[0.1 0.1 0.1]  \n",
      " K-point 485 : coord in rec.lattice = [   0.400000  ,   0.800000 ,    0.500000 ], refinement level:0, dK=[0.1 0.1 0.1]  \n",
      " K-point 486 : coord in rec.lattice = [   0.400000  ,   0.800000 ,    0.600000 ], refinement level:0, dK=[0.1 0.1 0.1]  \n",
      " K-point 487 : coord in rec.lattice = [   0.400000  ,   0.800000 ,    0.700000 ], refinement level:0, dK=[0.1 0.1 0.1]  \n",
      " K-point 488 : coord in rec.lattice = [   0.400000  ,   0.800000 ,    0.800000 ], refinement level:0, dK=[0.1 0.1 0.1]  \n",
      " K-point 489 : coord in rec.lattice = [   0.400000  ,   0.800000 ,    0.900000 ], refinement level:0, dK=[0.1 0.1 0.1]  \n",
      " K-point 490 : coord in rec.lattice = [   0.400000  ,   0.900000 ,    0.000000 ], refinement level:0, dK=[0.1 0.1 0.1]  \n",
      " K-point 491 : coord in rec.lattice = [   0.400000  ,   0.900000 ,    0.100000 ], refinement level:0, dK=[0.1 0.1 0.1]  \n",
      " K-point 492 : coord in rec.lattice = [   0.400000  ,   0.900000 ,    0.200000 ], refinement level:0, dK=[0.1 0.1 0.1]  \n",
      " K-point 493 : coord in rec.lattice = [   0.400000  ,   0.900000 ,    0.300000 ], refinement level:0, dK=[0.1 0.1 0.1]  \n",
      " K-point 494 : coord in rec.lattice = [   0.400000  ,   0.900000 ,    0.400000 ], refinement level:0, dK=[0.1 0.1 0.1]  \n",
      " K-point 495 : coord in rec.lattice = [   0.400000  ,   0.900000 ,    0.500000 ], refinement level:0, dK=[0.1 0.1 0.1]  \n",
      " K-point 496 : coord in rec.lattice = [   0.400000  ,   0.900000 ,    0.600000 ], refinement level:0, dK=[0.1 0.1 0.1]  \n",
      " K-point 497 : coord in rec.lattice = [   0.400000  ,   0.900000 ,    0.700000 ], refinement level:0, dK=[0.1 0.1 0.1]  \n",
      " K-point 498 : coord in rec.lattice = [   0.400000  ,   0.900000 ,    0.800000 ], refinement level:0, dK=[0.1 0.1 0.1]  \n",
      " K-point 499 : coord in rec.lattice = [   0.400000  ,   0.900000 ,    0.900000 ], refinement level:0, dK=[0.1 0.1 0.1]  \n",
      " K-point 500 : coord in rec.lattice = [   0.500000  ,   0.000000 ,    0.000000 ], refinement level:0, dK=[0.1 0.1 0.1]  \n",
      " K-point 501 : coord in rec.lattice = [   0.500000  ,   0.000000 ,    0.100000 ], refinement level:0, dK=[0.1 0.1 0.1]  \n",
      " K-point 502 : coord in rec.lattice = [   0.500000  ,   0.000000 ,    0.200000 ], refinement level:0, dK=[0.1 0.1 0.1]  \n",
      " K-point 503 : coord in rec.lattice = [   0.500000  ,   0.000000 ,    0.300000 ], refinement level:0, dK=[0.1 0.1 0.1]  \n",
      " K-point 504 : coord in rec.lattice = [   0.500000  ,   0.000000 ,    0.400000 ], refinement level:0, dK=[0.1 0.1 0.1]  \n",
      " K-point 505 : coord in rec.lattice = [   0.500000  ,   0.000000 ,    0.500000 ], refinement level:0, dK=[0.1 0.1 0.1]  \n",
      " K-point 506 : coord in rec.lattice = [   0.500000  ,   0.000000 ,    0.600000 ], refinement level:0, dK=[0.1 0.1 0.1]  \n",
      " K-point 507 : coord in rec.lattice = [   0.500000  ,   0.000000 ,    0.700000 ], refinement level:0, dK=[0.1 0.1 0.1]  \n",
      " K-point 508 : coord in rec.lattice = [   0.500000  ,   0.000000 ,    0.800000 ], refinement level:0, dK=[0.1 0.1 0.1]  \n",
      " K-point 509 : coord in rec.lattice = [   0.500000  ,   0.000000 ,    0.900000 ], refinement level:0, dK=[0.1 0.1 0.1]  \n",
      " K-point 510 : coord in rec.lattice = [   0.500000  ,   0.100000 ,    0.000000 ], refinement level:0, dK=[0.1 0.1 0.1]  \n",
      " K-point 511 : coord in rec.lattice = [   0.500000  ,   0.100000 ,    0.100000 ], refinement level:0, dK=[0.1 0.1 0.1]  \n",
      " K-point 512 : coord in rec.lattice = [   0.500000  ,   0.100000 ,    0.200000 ], refinement level:0, dK=[0.1 0.1 0.1]  \n",
      " K-point 513 : coord in rec.lattice = [   0.500000  ,   0.100000 ,    0.300000 ], refinement level:0, dK=[0.1 0.1 0.1]  \n",
      " K-point 514 : coord in rec.lattice = [   0.500000  ,   0.100000 ,    0.400000 ], refinement level:0, dK=[0.1 0.1 0.1]  \n",
      " K-point 515 : coord in rec.lattice = [   0.500000  ,   0.100000 ,    0.500000 ], refinement level:0, dK=[0.1 0.1 0.1]  \n",
      " K-point 516 : coord in rec.lattice = [   0.500000  ,   0.100000 ,    0.600000 ], refinement level:0, dK=[0.1 0.1 0.1]  \n",
      " K-point 517 : coord in rec.lattice = [   0.500000  ,   0.100000 ,    0.700000 ], refinement level:0, dK=[0.1 0.1 0.1]  \n",
      " K-point 518 : coord in rec.lattice = [   0.500000  ,   0.100000 ,    0.800000 ], refinement level:0, dK=[0.1 0.1 0.1]  \n",
      " K-point 519 : coord in rec.lattice = [   0.500000  ,   0.100000 ,    0.900000 ], refinement level:0, dK=[0.1 0.1 0.1]  \n",
      " K-point 520 : coord in rec.lattice = [   0.500000  ,   0.200000 ,    0.000000 ], refinement level:0, dK=[0.1 0.1 0.1]  \n",
      " K-point 521 : coord in rec.lattice = [   0.500000  ,   0.200000 ,    0.100000 ], refinement level:0, dK=[0.1 0.1 0.1]  \n",
      " K-point 522 : coord in rec.lattice = [   0.500000  ,   0.200000 ,    0.200000 ], refinement level:0, dK=[0.1 0.1 0.1]  \n",
      " K-point 523 : coord in rec.lattice = [   0.500000  ,   0.200000 ,    0.300000 ], refinement level:0, dK=[0.1 0.1 0.1]  \n",
      " K-point 524 : coord in rec.lattice = [   0.500000  ,   0.200000 ,    0.400000 ], refinement level:0, dK=[0.1 0.1 0.1]  \n",
      " K-point 525 : coord in rec.lattice = [   0.500000  ,   0.200000 ,    0.500000 ], refinement level:0, dK=[0.1 0.1 0.1]  \n",
      " K-point 526 : coord in rec.lattice = [   0.500000  ,   0.200000 ,    0.600000 ], refinement level:0, dK=[0.1 0.1 0.1]  \n",
      " K-point 527 : coord in rec.lattice = [   0.500000  ,   0.200000 ,    0.700000 ], refinement level:0, dK=[0.1 0.1 0.1]  \n",
      " K-point 528 : coord in rec.lattice = [   0.500000  ,   0.200000 ,    0.800000 ], refinement level:0, dK=[0.1 0.1 0.1]  \n",
      " K-point 529 : coord in rec.lattice = [   0.500000  ,   0.200000 ,    0.900000 ], refinement level:0, dK=[0.1 0.1 0.1]  \n",
      " K-point 530 : coord in rec.lattice = [   0.500000  ,   0.300000 ,    0.000000 ], refinement level:0, dK=[0.1 0.1 0.1]  \n",
      " K-point 531 : coord in rec.lattice = [   0.500000  ,   0.300000 ,    0.100000 ], refinement level:0, dK=[0.1 0.1 0.1]  \n",
      " K-point 532 : coord in rec.lattice = [   0.500000  ,   0.300000 ,    0.200000 ], refinement level:0, dK=[0.1 0.1 0.1]  \n",
      " K-point 533 : coord in rec.lattice = [   0.500000  ,   0.300000 ,    0.300000 ], refinement level:0, dK=[0.1 0.1 0.1]  \n",
      " K-point 534 : coord in rec.lattice = [   0.500000  ,   0.300000 ,    0.400000 ], refinement level:0, dK=[0.1 0.1 0.1]  \n",
      " K-point 535 : coord in rec.lattice = [   0.500000  ,   0.300000 ,    0.500000 ], refinement level:0, dK=[0.1 0.1 0.1]  \n",
      " K-point 536 : coord in rec.lattice = [   0.500000  ,   0.300000 ,    0.600000 ], refinement level:0, dK=[0.1 0.1 0.1]  \n",
      " K-point 537 : coord in rec.lattice = [   0.500000  ,   0.300000 ,    0.700000 ], refinement level:0, dK=[0.1 0.1 0.1]  \n",
      " K-point 538 : coord in rec.lattice = [   0.500000  ,   0.300000 ,    0.800000 ], refinement level:0, dK=[0.1 0.1 0.1]  \n",
      " K-point 539 : coord in rec.lattice = [   0.500000  ,   0.300000 ,    0.900000 ], refinement level:0, dK=[0.1 0.1 0.1]  \n",
      " K-point 540 : coord in rec.lattice = [   0.500000  ,   0.400000 ,    0.000000 ], refinement level:0, dK=[0.1 0.1 0.1]  \n",
      " K-point 541 : coord in rec.lattice = [   0.500000  ,   0.400000 ,    0.100000 ], refinement level:0, dK=[0.1 0.1 0.1]  \n",
      " K-point 542 : coord in rec.lattice = [   0.500000  ,   0.400000 ,    0.200000 ], refinement level:0, dK=[0.1 0.1 0.1]  \n",
      " K-point 543 : coord in rec.lattice = [   0.500000  ,   0.400000 ,    0.300000 ], refinement level:0, dK=[0.1 0.1 0.1]  \n",
      " K-point 544 : coord in rec.lattice = [   0.500000  ,   0.400000 ,    0.400000 ], refinement level:0, dK=[0.1 0.1 0.1]  \n",
      " K-point 545 : coord in rec.lattice = [   0.500000  ,   0.400000 ,    0.500000 ], refinement level:0, dK=[0.1 0.1 0.1]  \n",
      " K-point 546 : coord in rec.lattice = [   0.500000  ,   0.400000 ,    0.600000 ], refinement level:0, dK=[0.1 0.1 0.1]  \n",
      " K-point 547 : coord in rec.lattice = [   0.500000  ,   0.400000 ,    0.700000 ], refinement level:0, dK=[0.1 0.1 0.1]  \n",
      " K-point 548 : coord in rec.lattice = [   0.500000  ,   0.400000 ,    0.800000 ], refinement level:0, dK=[0.1 0.1 0.1]  \n",
      " K-point 549 : coord in rec.lattice = [   0.500000  ,   0.400000 ,    0.900000 ], refinement level:0, dK=[0.1 0.1 0.1]  \n",
      " K-point 550 : coord in rec.lattice = [   0.500000  ,   0.500000 ,    0.000000 ], refinement level:0, dK=[0.1 0.1 0.1]  \n",
      " K-point 551 : coord in rec.lattice = [   0.500000  ,   0.500000 ,    0.100000 ], refinement level:0, dK=[0.1 0.1 0.1]  \n",
      " K-point 552 : coord in rec.lattice = [   0.500000  ,   0.500000 ,    0.200000 ], refinement level:0, dK=[0.1 0.1 0.1]  \n",
      " K-point 553 : coord in rec.lattice = [   0.500000  ,   0.500000 ,    0.300000 ], refinement level:0, dK=[0.1 0.1 0.1]  \n",
      " K-point 554 : coord in rec.lattice = [   0.500000  ,   0.500000 ,    0.400000 ], refinement level:0, dK=[0.1 0.1 0.1]  \n",
      " K-point 555 : coord in rec.lattice = [   0.500000  ,   0.500000 ,    0.500000 ], refinement level:0, dK=[0.1 0.1 0.1]  \n",
      " K-point 556 : coord in rec.lattice = [   0.500000  ,   0.500000 ,    0.600000 ], refinement level:0, dK=[0.1 0.1 0.1]  \n",
      " K-point 557 : coord in rec.lattice = [   0.500000  ,   0.500000 ,    0.700000 ], refinement level:0, dK=[0.1 0.1 0.1]  \n",
      " K-point 558 : coord in rec.lattice = [   0.500000  ,   0.500000 ,    0.800000 ], refinement level:0, dK=[0.1 0.1 0.1]  \n",
      " K-point 559 : coord in rec.lattice = [   0.500000  ,   0.500000 ,    0.900000 ], refinement level:0, dK=[0.1 0.1 0.1]  \n",
      " K-point 560 : coord in rec.lattice = [   0.500000  ,   0.600000 ,    0.000000 ], refinement level:0, dK=[0.1 0.1 0.1]  \n",
      " K-point 561 : coord in rec.lattice = [   0.500000  ,   0.600000 ,    0.100000 ], refinement level:0, dK=[0.1 0.1 0.1]  \n",
      " K-point 562 : coord in rec.lattice = [   0.500000  ,   0.600000 ,    0.200000 ], refinement level:0, dK=[0.1 0.1 0.1]  \n",
      " K-point 563 : coord in rec.lattice = [   0.500000  ,   0.600000 ,    0.300000 ], refinement level:0, dK=[0.1 0.1 0.1]  \n",
      " K-point 564 : coord in rec.lattice = [   0.500000  ,   0.600000 ,    0.400000 ], refinement level:0, dK=[0.1 0.1 0.1]  \n",
      " K-point 565 : coord in rec.lattice = [   0.500000  ,   0.600000 ,    0.500000 ], refinement level:0, dK=[0.1 0.1 0.1]  \n",
      " K-point 566 : coord in rec.lattice = [   0.500000  ,   0.600000 ,    0.600000 ], refinement level:0, dK=[0.1 0.1 0.1]  \n",
      " K-point 567 : coord in rec.lattice = [   0.500000  ,   0.600000 ,    0.700000 ], refinement level:0, dK=[0.1 0.1 0.1]  \n",
      " K-point 568 : coord in rec.lattice = [   0.500000  ,   0.600000 ,    0.800000 ], refinement level:0, dK=[0.1 0.1 0.1]  \n",
      " K-point 569 : coord in rec.lattice = [   0.500000  ,   0.600000 ,    0.900000 ], refinement level:0, dK=[0.1 0.1 0.1]  \n",
      " K-point 570 : coord in rec.lattice = [   0.500000  ,   0.700000 ,    0.000000 ], refinement level:0, dK=[0.1 0.1 0.1]  \n",
      " K-point 571 : coord in rec.lattice = [   0.500000  ,   0.700000 ,    0.100000 ], refinement level:0, dK=[0.1 0.1 0.1]  \n",
      " K-point 572 : coord in rec.lattice = [   0.500000  ,   0.700000 ,    0.200000 ], refinement level:0, dK=[0.1 0.1 0.1]  \n",
      " K-point 573 : coord in rec.lattice = [   0.500000  ,   0.700000 ,    0.300000 ], refinement level:0, dK=[0.1 0.1 0.1]  \n",
      " K-point 574 : coord in rec.lattice = [   0.500000  ,   0.700000 ,    0.400000 ], refinement level:0, dK=[0.1 0.1 0.1]  \n",
      " K-point 575 : coord in rec.lattice = [   0.500000  ,   0.700000 ,    0.500000 ], refinement level:0, dK=[0.1 0.1 0.1]  \n",
      " K-point 576 : coord in rec.lattice = [   0.500000  ,   0.700000 ,    0.600000 ], refinement level:0, dK=[0.1 0.1 0.1]  \n",
      " K-point 577 : coord in rec.lattice = [   0.500000  ,   0.700000 ,    0.700000 ], refinement level:0, dK=[0.1 0.1 0.1]  \n",
      " K-point 578 : coord in rec.lattice = [   0.500000  ,   0.700000 ,    0.800000 ], refinement level:0, dK=[0.1 0.1 0.1]  \n",
      " K-point 579 : coord in rec.lattice = [   0.500000  ,   0.700000 ,    0.900000 ], refinement level:0, dK=[0.1 0.1 0.1]  \n",
      " K-point 580 : coord in rec.lattice = [   0.500000  ,   0.800000 ,    0.000000 ], refinement level:0, dK=[0.1 0.1 0.1]  \n",
      " K-point 581 : coord in rec.lattice = [   0.500000  ,   0.800000 ,    0.100000 ], refinement level:0, dK=[0.1 0.1 0.1]  \n",
      " K-point 582 : coord in rec.lattice = [   0.500000  ,   0.800000 ,    0.200000 ], refinement level:0, dK=[0.1 0.1 0.1]  \n",
      " K-point 583 : coord in rec.lattice = [   0.500000  ,   0.800000 ,    0.300000 ], refinement level:0, dK=[0.1 0.1 0.1]  \n",
      " K-point 584 : coord in rec.lattice = [   0.500000  ,   0.800000 ,    0.400000 ], refinement level:0, dK=[0.1 0.1 0.1]  \n",
      " K-point 585 : coord in rec.lattice = [   0.500000  ,   0.800000 ,    0.500000 ], refinement level:0, dK=[0.1 0.1 0.1]  \n",
      " K-point 586 : coord in rec.lattice = [   0.500000  ,   0.800000 ,    0.600000 ], refinement level:0, dK=[0.1 0.1 0.1]  \n",
      " K-point 587 : coord in rec.lattice = [   0.500000  ,   0.800000 ,    0.700000 ], refinement level:0, dK=[0.1 0.1 0.1]  \n",
      " K-point 588 : coord in rec.lattice = [   0.500000  ,   0.800000 ,    0.800000 ], refinement level:0, dK=[0.1 0.1 0.1]  \n",
      " K-point 589 : coord in rec.lattice = [   0.500000  ,   0.800000 ,    0.900000 ], refinement level:0, dK=[0.1 0.1 0.1]  \n",
      " K-point 590 : coord in rec.lattice = [   0.500000  ,   0.900000 ,    0.000000 ], refinement level:0, dK=[0.1 0.1 0.1]  \n",
      " K-point 591 : coord in rec.lattice = [   0.500000  ,   0.900000 ,    0.100000 ], refinement level:0, dK=[0.1 0.1 0.1]  \n",
      " K-point 592 : coord in rec.lattice = [   0.500000  ,   0.900000 ,    0.200000 ], refinement level:0, dK=[0.1 0.1 0.1]  \n",
      " K-point 593 : coord in rec.lattice = [   0.500000  ,   0.900000 ,    0.300000 ], refinement level:0, dK=[0.1 0.1 0.1]  \n",
      " K-point 594 : coord in rec.lattice = [   0.500000  ,   0.900000 ,    0.400000 ], refinement level:0, dK=[0.1 0.1 0.1]  \n",
      " K-point 595 : coord in rec.lattice = [   0.500000  ,   0.900000 ,    0.500000 ], refinement level:0, dK=[0.1 0.1 0.1]  \n",
      " K-point 596 : coord in rec.lattice = [   0.500000  ,   0.900000 ,    0.600000 ], refinement level:0, dK=[0.1 0.1 0.1]  \n",
      " K-point 597 : coord in rec.lattice = [   0.500000  ,   0.900000 ,    0.700000 ], refinement level:0, dK=[0.1 0.1 0.1]  \n",
      " K-point 598 : coord in rec.lattice = [   0.500000  ,   0.900000 ,    0.800000 ], refinement level:0, dK=[0.1 0.1 0.1]  \n",
      " K-point 599 : coord in rec.lattice = [   0.500000  ,   0.900000 ,    0.900000 ], refinement level:0, dK=[0.1 0.1 0.1]  \n",
      " K-point 600 : coord in rec.lattice = [   0.600000  ,   0.000000 ,    0.000000 ], refinement level:0, dK=[0.1 0.1 0.1]  \n",
      " K-point 601 : coord in rec.lattice = [   0.600000  ,   0.000000 ,    0.100000 ], refinement level:0, dK=[0.1 0.1 0.1]  \n",
      " K-point 602 : coord in rec.lattice = [   0.600000  ,   0.000000 ,    0.200000 ], refinement level:0, dK=[0.1 0.1 0.1]  \n",
      " K-point 603 : coord in rec.lattice = [   0.600000  ,   0.000000 ,    0.300000 ], refinement level:0, dK=[0.1 0.1 0.1]  \n",
      " K-point 604 : coord in rec.lattice = [   0.600000  ,   0.000000 ,    0.400000 ], refinement level:0, dK=[0.1 0.1 0.1]  \n",
      " K-point 605 : coord in rec.lattice = [   0.600000  ,   0.000000 ,    0.500000 ], refinement level:0, dK=[0.1 0.1 0.1]  \n",
      " K-point 606 : coord in rec.lattice = [   0.600000  ,   0.000000 ,    0.600000 ], refinement level:0, dK=[0.1 0.1 0.1]  \n",
      " K-point 607 : coord in rec.lattice = [   0.600000  ,   0.000000 ,    0.700000 ], refinement level:0, dK=[0.1 0.1 0.1]  \n",
      " K-point 608 : coord in rec.lattice = [   0.600000  ,   0.000000 ,    0.800000 ], refinement level:0, dK=[0.1 0.1 0.1]  \n",
      " K-point 609 : coord in rec.lattice = [   0.600000  ,   0.000000 ,    0.900000 ], refinement level:0, dK=[0.1 0.1 0.1]  \n",
      " K-point 610 : coord in rec.lattice = [   0.600000  ,   0.100000 ,    0.000000 ], refinement level:0, dK=[0.1 0.1 0.1]  \n",
      " K-point 611 : coord in rec.lattice = [   0.600000  ,   0.100000 ,    0.100000 ], refinement level:0, dK=[0.1 0.1 0.1]  \n",
      " K-point 612 : coord in rec.lattice = [   0.600000  ,   0.100000 ,    0.200000 ], refinement level:0, dK=[0.1 0.1 0.1]  \n",
      " K-point 613 : coord in rec.lattice = [   0.600000  ,   0.100000 ,    0.300000 ], refinement level:0, dK=[0.1 0.1 0.1]  \n",
      " K-point 614 : coord in rec.lattice = [   0.600000  ,   0.100000 ,    0.400000 ], refinement level:0, dK=[0.1 0.1 0.1]  \n",
      " K-point 615 : coord in rec.lattice = [   0.600000  ,   0.100000 ,    0.500000 ], refinement level:0, dK=[0.1 0.1 0.1]  \n",
      " K-point 616 : coord in rec.lattice = [   0.600000  ,   0.100000 ,    0.600000 ], refinement level:0, dK=[0.1 0.1 0.1]  \n",
      " K-point 617 : coord in rec.lattice = [   0.600000  ,   0.100000 ,    0.700000 ], refinement level:0, dK=[0.1 0.1 0.1]  \n",
      " K-point 618 : coord in rec.lattice = [   0.600000  ,   0.100000 ,    0.800000 ], refinement level:0, dK=[0.1 0.1 0.1]  \n",
      " K-point 619 : coord in rec.lattice = [   0.600000  ,   0.100000 ,    0.900000 ], refinement level:0, dK=[0.1 0.1 0.1]  \n",
      " K-point 620 : coord in rec.lattice = [   0.600000  ,   0.200000 ,    0.000000 ], refinement level:0, dK=[0.1 0.1 0.1]  \n",
      " K-point 621 : coord in rec.lattice = [   0.600000  ,   0.200000 ,    0.100000 ], refinement level:0, dK=[0.1 0.1 0.1]  \n",
      " K-point 622 : coord in rec.lattice = [   0.600000  ,   0.200000 ,    0.200000 ], refinement level:0, dK=[0.1 0.1 0.1]  \n",
      " K-point 623 : coord in rec.lattice = [   0.600000  ,   0.200000 ,    0.300000 ], refinement level:0, dK=[0.1 0.1 0.1]  \n",
      " K-point 624 : coord in rec.lattice = [   0.600000  ,   0.200000 ,    0.400000 ], refinement level:0, dK=[0.1 0.1 0.1]  \n",
      " K-point 625 : coord in rec.lattice = [   0.600000  ,   0.200000 ,    0.500000 ], refinement level:0, dK=[0.1 0.1 0.1]  \n",
      " K-point 626 : coord in rec.lattice = [   0.600000  ,   0.200000 ,    0.600000 ], refinement level:0, dK=[0.1 0.1 0.1]  \n",
      " K-point 627 : coord in rec.lattice = [   0.600000  ,   0.200000 ,    0.700000 ], refinement level:0, dK=[0.1 0.1 0.1]  \n",
      " K-point 628 : coord in rec.lattice = [   0.600000  ,   0.200000 ,    0.800000 ], refinement level:0, dK=[0.1 0.1 0.1]  \n",
      " K-point 629 : coord in rec.lattice = [   0.600000  ,   0.200000 ,    0.900000 ], refinement level:0, dK=[0.1 0.1 0.1]  \n",
      " K-point 630 : coord in rec.lattice = [   0.600000  ,   0.300000 ,    0.000000 ], refinement level:0, dK=[0.1 0.1 0.1]  \n",
      " K-point 631 : coord in rec.lattice = [   0.600000  ,   0.300000 ,    0.100000 ], refinement level:0, dK=[0.1 0.1 0.1]  \n",
      " K-point 632 : coord in rec.lattice = [   0.600000  ,   0.300000 ,    0.200000 ], refinement level:0, dK=[0.1 0.1 0.1]  \n",
      " K-point 633 : coord in rec.lattice = [   0.600000  ,   0.300000 ,    0.300000 ], refinement level:0, dK=[0.1 0.1 0.1]  \n",
      " K-point 634 : coord in rec.lattice = [   0.600000  ,   0.300000 ,    0.400000 ], refinement level:0, dK=[0.1 0.1 0.1]  \n",
      " K-point 635 : coord in rec.lattice = [   0.600000  ,   0.300000 ,    0.500000 ], refinement level:0, dK=[0.1 0.1 0.1]  \n",
      " K-point 636 : coord in rec.lattice = [   0.600000  ,   0.300000 ,    0.600000 ], refinement level:0, dK=[0.1 0.1 0.1]  \n",
      " K-point 637 : coord in rec.lattice = [   0.600000  ,   0.300000 ,    0.700000 ], refinement level:0, dK=[0.1 0.1 0.1]  \n",
      " K-point 638 : coord in rec.lattice = [   0.600000  ,   0.300000 ,    0.800000 ], refinement level:0, dK=[0.1 0.1 0.1]  \n",
      " K-point 639 : coord in rec.lattice = [   0.600000  ,   0.300000 ,    0.900000 ], refinement level:0, dK=[0.1 0.1 0.1]  \n",
      " K-point 640 : coord in rec.lattice = [   0.600000  ,   0.400000 ,    0.000000 ], refinement level:0, dK=[0.1 0.1 0.1]  \n",
      " K-point 641 : coord in rec.lattice = [   0.600000  ,   0.400000 ,    0.100000 ], refinement level:0, dK=[0.1 0.1 0.1]  \n",
      " K-point 642 : coord in rec.lattice = [   0.600000  ,   0.400000 ,    0.200000 ], refinement level:0, dK=[0.1 0.1 0.1]  \n",
      " K-point 643 : coord in rec.lattice = [   0.600000  ,   0.400000 ,    0.300000 ], refinement level:0, dK=[0.1 0.1 0.1]  \n",
      " K-point 644 : coord in rec.lattice = [   0.600000  ,   0.400000 ,    0.400000 ], refinement level:0, dK=[0.1 0.1 0.1]  \n",
      " K-point 645 : coord in rec.lattice = [   0.600000  ,   0.400000 ,    0.500000 ], refinement level:0, dK=[0.1 0.1 0.1]  \n",
      " K-point 646 : coord in rec.lattice = [   0.600000  ,   0.400000 ,    0.600000 ], refinement level:0, dK=[0.1 0.1 0.1]  \n",
      " K-point 647 : coord in rec.lattice = [   0.600000  ,   0.400000 ,    0.700000 ], refinement level:0, dK=[0.1 0.1 0.1]  \n",
      " K-point 648 : coord in rec.lattice = [   0.600000  ,   0.400000 ,    0.800000 ], refinement level:0, dK=[0.1 0.1 0.1]  \n",
      " K-point 649 : coord in rec.lattice = [   0.600000  ,   0.400000 ,    0.900000 ], refinement level:0, dK=[0.1 0.1 0.1]  \n",
      " K-point 650 : coord in rec.lattice = [   0.600000  ,   0.500000 ,    0.000000 ], refinement level:0, dK=[0.1 0.1 0.1]  \n",
      " K-point 651 : coord in rec.lattice = [   0.600000  ,   0.500000 ,    0.100000 ], refinement level:0, dK=[0.1 0.1 0.1]  \n",
      " K-point 652 : coord in rec.lattice = [   0.600000  ,   0.500000 ,    0.200000 ], refinement level:0, dK=[0.1 0.1 0.1]  \n",
      " K-point 653 : coord in rec.lattice = [   0.600000  ,   0.500000 ,    0.300000 ], refinement level:0, dK=[0.1 0.1 0.1]  \n",
      " K-point 654 : coord in rec.lattice = [   0.600000  ,   0.500000 ,    0.400000 ], refinement level:0, dK=[0.1 0.1 0.1]  \n",
      " K-point 655 : coord in rec.lattice = [   0.600000  ,   0.500000 ,    0.500000 ], refinement level:0, dK=[0.1 0.1 0.1]  \n",
      " K-point 656 : coord in rec.lattice = [   0.600000  ,   0.500000 ,    0.600000 ], refinement level:0, dK=[0.1 0.1 0.1]  \n",
      " K-point 657 : coord in rec.lattice = [   0.600000  ,   0.500000 ,    0.700000 ], refinement level:0, dK=[0.1 0.1 0.1]  \n",
      " K-point 658 : coord in rec.lattice = [   0.600000  ,   0.500000 ,    0.800000 ], refinement level:0, dK=[0.1 0.1 0.1]  \n",
      " K-point 659 : coord in rec.lattice = [   0.600000  ,   0.500000 ,    0.900000 ], refinement level:0, dK=[0.1 0.1 0.1]  \n",
      " K-point 660 : coord in rec.lattice = [   0.600000  ,   0.600000 ,    0.000000 ], refinement level:0, dK=[0.1 0.1 0.1]  \n",
      " K-point 661 : coord in rec.lattice = [   0.600000  ,   0.600000 ,    0.100000 ], refinement level:0, dK=[0.1 0.1 0.1]  \n",
      " K-point 662 : coord in rec.lattice = [   0.600000  ,   0.600000 ,    0.200000 ], refinement level:0, dK=[0.1 0.1 0.1]  \n",
      " K-point 663 : coord in rec.lattice = [   0.600000  ,   0.600000 ,    0.300000 ], refinement level:0, dK=[0.1 0.1 0.1]  \n",
      " K-point 664 : coord in rec.lattice = [   0.600000  ,   0.600000 ,    0.400000 ], refinement level:0, dK=[0.1 0.1 0.1]  \n",
      " K-point 665 : coord in rec.lattice = [   0.600000  ,   0.600000 ,    0.500000 ], refinement level:0, dK=[0.1 0.1 0.1]  \n",
      " K-point 666 : coord in rec.lattice = [   0.600000  ,   0.600000 ,    0.600000 ], refinement level:0, dK=[0.1 0.1 0.1]  \n",
      " K-point 667 : coord in rec.lattice = [   0.600000  ,   0.600000 ,    0.700000 ], refinement level:0, dK=[0.1 0.1 0.1]  \n",
      " K-point 668 : coord in rec.lattice = [   0.600000  ,   0.600000 ,    0.800000 ], refinement level:0, dK=[0.1 0.1 0.1]  \n",
      " K-point 669 : coord in rec.lattice = [   0.600000  ,   0.600000 ,    0.900000 ], refinement level:0, dK=[0.1 0.1 0.1]  \n",
      " K-point 670 : coord in rec.lattice = [   0.600000  ,   0.700000 ,    0.000000 ], refinement level:0, dK=[0.1 0.1 0.1]  \n",
      " K-point 671 : coord in rec.lattice = [   0.600000  ,   0.700000 ,    0.100000 ], refinement level:0, dK=[0.1 0.1 0.1]  \n",
      " K-point 672 : coord in rec.lattice = [   0.600000  ,   0.700000 ,    0.200000 ], refinement level:0, dK=[0.1 0.1 0.1]  \n",
      " K-point 673 : coord in rec.lattice = [   0.600000  ,   0.700000 ,    0.300000 ], refinement level:0, dK=[0.1 0.1 0.1]  \n",
      " K-point 674 : coord in rec.lattice = [   0.600000  ,   0.700000 ,    0.400000 ], refinement level:0, dK=[0.1 0.1 0.1]  \n",
      " K-point 675 : coord in rec.lattice = [   0.600000  ,   0.700000 ,    0.500000 ], refinement level:0, dK=[0.1 0.1 0.1]  \n",
      " K-point 676 : coord in rec.lattice = [   0.600000  ,   0.700000 ,    0.600000 ], refinement level:0, dK=[0.1 0.1 0.1]  \n",
      " K-point 677 : coord in rec.lattice = [   0.600000  ,   0.700000 ,    0.700000 ], refinement level:0, dK=[0.1 0.1 0.1]  \n",
      " K-point 678 : coord in rec.lattice = [   0.600000  ,   0.700000 ,    0.800000 ], refinement level:0, dK=[0.1 0.1 0.1]  \n",
      " K-point 679 : coord in rec.lattice = [   0.600000  ,   0.700000 ,    0.900000 ], refinement level:0, dK=[0.1 0.1 0.1]  \n",
      " K-point 680 : coord in rec.lattice = [   0.600000  ,   0.800000 ,    0.000000 ], refinement level:0, dK=[0.1 0.1 0.1]  \n",
      " K-point 681 : coord in rec.lattice = [   0.600000  ,   0.800000 ,    0.100000 ], refinement level:0, dK=[0.1 0.1 0.1]  \n",
      " K-point 682 : coord in rec.lattice = [   0.600000  ,   0.800000 ,    0.200000 ], refinement level:0, dK=[0.1 0.1 0.1]  \n",
      " K-point 683 : coord in rec.lattice = [   0.600000  ,   0.800000 ,    0.300000 ], refinement level:0, dK=[0.1 0.1 0.1]  \n",
      " K-point 684 : coord in rec.lattice = [   0.600000  ,   0.800000 ,    0.400000 ], refinement level:0, dK=[0.1 0.1 0.1]  \n",
      " K-point 685 : coord in rec.lattice = [   0.600000  ,   0.800000 ,    0.500000 ], refinement level:0, dK=[0.1 0.1 0.1]  \n",
      " K-point 686 : coord in rec.lattice = [   0.600000  ,   0.800000 ,    0.600000 ], refinement level:0, dK=[0.1 0.1 0.1]  \n",
      " K-point 687 : coord in rec.lattice = [   0.600000  ,   0.800000 ,    0.700000 ], refinement level:0, dK=[0.1 0.1 0.1]  \n",
      " K-point 688 : coord in rec.lattice = [   0.600000  ,   0.800000 ,    0.800000 ], refinement level:0, dK=[0.1 0.1 0.1]  \n",
      " K-point 689 : coord in rec.lattice = [   0.600000  ,   0.800000 ,    0.900000 ], refinement level:0, dK=[0.1 0.1 0.1]  \n",
      " K-point 690 : coord in rec.lattice = [   0.600000  ,   0.900000 ,    0.000000 ], refinement level:0, dK=[0.1 0.1 0.1]  \n",
      " K-point 691 : coord in rec.lattice = [   0.600000  ,   0.900000 ,    0.100000 ], refinement level:0, dK=[0.1 0.1 0.1]  \n",
      " K-point 692 : coord in rec.lattice = [   0.600000  ,   0.900000 ,    0.200000 ], refinement level:0, dK=[0.1 0.1 0.1]  \n",
      " K-point 693 : coord in rec.lattice = [   0.600000  ,   0.900000 ,    0.300000 ], refinement level:0, dK=[0.1 0.1 0.1]  \n",
      " K-point 694 : coord in rec.lattice = [   0.600000  ,   0.900000 ,    0.400000 ], refinement level:0, dK=[0.1 0.1 0.1]  \n",
      " K-point 695 : coord in rec.lattice = [   0.600000  ,   0.900000 ,    0.500000 ], refinement level:0, dK=[0.1 0.1 0.1]  \n",
      " K-point 696 : coord in rec.lattice = [   0.600000  ,   0.900000 ,    0.600000 ], refinement level:0, dK=[0.1 0.1 0.1]  \n",
      " K-point 697 : coord in rec.lattice = [   0.600000  ,   0.900000 ,    0.700000 ], refinement level:0, dK=[0.1 0.1 0.1]  \n",
      " K-point 698 : coord in rec.lattice = [   0.600000  ,   0.900000 ,    0.800000 ], refinement level:0, dK=[0.1 0.1 0.1]  \n",
      " K-point 699 : coord in rec.lattice = [   0.600000  ,   0.900000 ,    0.900000 ], refinement level:0, dK=[0.1 0.1 0.1]  \n",
      " K-point 700 : coord in rec.lattice = [   0.700000  ,   0.000000 ,    0.000000 ], refinement level:0, dK=[0.1 0.1 0.1]  \n",
      " K-point 701 : coord in rec.lattice = [   0.700000  ,   0.000000 ,    0.100000 ], refinement level:0, dK=[0.1 0.1 0.1]  \n",
      " K-point 702 : coord in rec.lattice = [   0.700000  ,   0.000000 ,    0.200000 ], refinement level:0, dK=[0.1 0.1 0.1]  \n",
      " K-point 703 : coord in rec.lattice = [   0.700000  ,   0.000000 ,    0.300000 ], refinement level:0, dK=[0.1 0.1 0.1]  \n",
      " K-point 704 : coord in rec.lattice = [   0.700000  ,   0.000000 ,    0.400000 ], refinement level:0, dK=[0.1 0.1 0.1]  \n",
      " K-point 705 : coord in rec.lattice = [   0.700000  ,   0.000000 ,    0.500000 ], refinement level:0, dK=[0.1 0.1 0.1]  \n",
      " K-point 706 : coord in rec.lattice = [   0.700000  ,   0.000000 ,    0.600000 ], refinement level:0, dK=[0.1 0.1 0.1]  \n",
      " K-point 707 : coord in rec.lattice = [   0.700000  ,   0.000000 ,    0.700000 ], refinement level:0, dK=[0.1 0.1 0.1]  \n",
      " K-point 708 : coord in rec.lattice = [   0.700000  ,   0.000000 ,    0.800000 ], refinement level:0, dK=[0.1 0.1 0.1]  \n",
      " K-point 709 : coord in rec.lattice = [   0.700000  ,   0.000000 ,    0.900000 ], refinement level:0, dK=[0.1 0.1 0.1]  \n",
      " K-point 710 : coord in rec.lattice = [   0.700000  ,   0.100000 ,    0.000000 ], refinement level:0, dK=[0.1 0.1 0.1]  \n",
      " K-point 711 : coord in rec.lattice = [   0.700000  ,   0.100000 ,    0.100000 ], refinement level:0, dK=[0.1 0.1 0.1]  \n",
      " K-point 712 : coord in rec.lattice = [   0.700000  ,   0.100000 ,    0.200000 ], refinement level:0, dK=[0.1 0.1 0.1]  \n",
      " K-point 713 : coord in rec.lattice = [   0.700000  ,   0.100000 ,    0.300000 ], refinement level:0, dK=[0.1 0.1 0.1]  \n",
      " K-point 714 : coord in rec.lattice = [   0.700000  ,   0.100000 ,    0.400000 ], refinement level:0, dK=[0.1 0.1 0.1]  \n",
      " K-point 715 : coord in rec.lattice = [   0.700000  ,   0.100000 ,    0.500000 ], refinement level:0, dK=[0.1 0.1 0.1]  \n",
      " K-point 716 : coord in rec.lattice = [   0.700000  ,   0.100000 ,    0.600000 ], refinement level:0, dK=[0.1 0.1 0.1]  \n",
      " K-point 717 : coord in rec.lattice = [   0.700000  ,   0.100000 ,    0.700000 ], refinement level:0, dK=[0.1 0.1 0.1]  \n",
      " K-point 718 : coord in rec.lattice = [   0.700000  ,   0.100000 ,    0.800000 ], refinement level:0, dK=[0.1 0.1 0.1]  \n",
      " K-point 719 : coord in rec.lattice = [   0.700000  ,   0.100000 ,    0.900000 ], refinement level:0, dK=[0.1 0.1 0.1]  \n",
      " K-point 720 : coord in rec.lattice = [   0.700000  ,   0.200000 ,    0.000000 ], refinement level:0, dK=[0.1 0.1 0.1]  \n",
      " K-point 721 : coord in rec.lattice = [   0.700000  ,   0.200000 ,    0.100000 ], refinement level:0, dK=[0.1 0.1 0.1]  \n",
      " K-point 722 : coord in rec.lattice = [   0.700000  ,   0.200000 ,    0.200000 ], refinement level:0, dK=[0.1 0.1 0.1]  \n",
      " K-point 723 : coord in rec.lattice = [   0.700000  ,   0.200000 ,    0.300000 ], refinement level:0, dK=[0.1 0.1 0.1]  \n",
      " K-point 724 : coord in rec.lattice = [   0.700000  ,   0.200000 ,    0.400000 ], refinement level:0, dK=[0.1 0.1 0.1]  \n",
      " K-point 725 : coord in rec.lattice = [   0.700000  ,   0.200000 ,    0.500000 ], refinement level:0, dK=[0.1 0.1 0.1]  \n",
      " K-point 726 : coord in rec.lattice = [   0.700000  ,   0.200000 ,    0.600000 ], refinement level:0, dK=[0.1 0.1 0.1]  \n",
      " K-point 727 : coord in rec.lattice = [   0.700000  ,   0.200000 ,    0.700000 ], refinement level:0, dK=[0.1 0.1 0.1]  \n",
      " K-point 728 : coord in rec.lattice = [   0.700000  ,   0.200000 ,    0.800000 ], refinement level:0, dK=[0.1 0.1 0.1]  \n",
      " K-point 729 : coord in rec.lattice = [   0.700000  ,   0.200000 ,    0.900000 ], refinement level:0, dK=[0.1 0.1 0.1]  \n",
      " K-point 730 : coord in rec.lattice = [   0.700000  ,   0.300000 ,    0.000000 ], refinement level:0, dK=[0.1 0.1 0.1]  \n",
      " K-point 731 : coord in rec.lattice = [   0.700000  ,   0.300000 ,    0.100000 ], refinement level:0, dK=[0.1 0.1 0.1]  \n",
      " K-point 732 : coord in rec.lattice = [   0.700000  ,   0.300000 ,    0.200000 ], refinement level:0, dK=[0.1 0.1 0.1]  \n",
      " K-point 733 : coord in rec.lattice = [   0.700000  ,   0.300000 ,    0.300000 ], refinement level:0, dK=[0.1 0.1 0.1]  \n",
      " K-point 734 : coord in rec.lattice = [   0.700000  ,   0.300000 ,    0.400000 ], refinement level:0, dK=[0.1 0.1 0.1]  \n",
      " K-point 735 : coord in rec.lattice = [   0.700000  ,   0.300000 ,    0.500000 ], refinement level:0, dK=[0.1 0.1 0.1]  \n",
      " K-point 736 : coord in rec.lattice = [   0.700000  ,   0.300000 ,    0.600000 ], refinement level:0, dK=[0.1 0.1 0.1]  \n",
      " K-point 737 : coord in rec.lattice = [   0.700000  ,   0.300000 ,    0.700000 ], refinement level:0, dK=[0.1 0.1 0.1]  \n",
      " K-point 738 : coord in rec.lattice = [   0.700000  ,   0.300000 ,    0.800000 ], refinement level:0, dK=[0.1 0.1 0.1]  \n",
      " K-point 739 : coord in rec.lattice = [   0.700000  ,   0.300000 ,    0.900000 ], refinement level:0, dK=[0.1 0.1 0.1]  \n",
      " K-point 740 : coord in rec.lattice = [   0.700000  ,   0.400000 ,    0.000000 ], refinement level:0, dK=[0.1 0.1 0.1]  \n",
      " K-point 741 : coord in rec.lattice = [   0.700000  ,   0.400000 ,    0.100000 ], refinement level:0, dK=[0.1 0.1 0.1]  \n",
      " K-point 742 : coord in rec.lattice = [   0.700000  ,   0.400000 ,    0.200000 ], refinement level:0, dK=[0.1 0.1 0.1]  \n",
      " K-point 743 : coord in rec.lattice = [   0.700000  ,   0.400000 ,    0.300000 ], refinement level:0, dK=[0.1 0.1 0.1]  \n",
      " K-point 744 : coord in rec.lattice = [   0.700000  ,   0.400000 ,    0.400000 ], refinement level:0, dK=[0.1 0.1 0.1]  \n",
      " K-point 745 : coord in rec.lattice = [   0.700000  ,   0.400000 ,    0.500000 ], refinement level:0, dK=[0.1 0.1 0.1]  \n",
      " K-point 746 : coord in rec.lattice = [   0.700000  ,   0.400000 ,    0.600000 ], refinement level:0, dK=[0.1 0.1 0.1]  \n",
      " K-point 747 : coord in rec.lattice = [   0.700000  ,   0.400000 ,    0.700000 ], refinement level:0, dK=[0.1 0.1 0.1]  \n",
      " K-point 748 : coord in rec.lattice = [   0.700000  ,   0.400000 ,    0.800000 ], refinement level:0, dK=[0.1 0.1 0.1]  \n",
      " K-point 749 : coord in rec.lattice = [   0.700000  ,   0.400000 ,    0.900000 ], refinement level:0, dK=[0.1 0.1 0.1]  \n",
      " K-point 750 : coord in rec.lattice = [   0.700000  ,   0.500000 ,    0.000000 ], refinement level:0, dK=[0.1 0.1 0.1]  \n",
      " K-point 751 : coord in rec.lattice = [   0.700000  ,   0.500000 ,    0.100000 ], refinement level:0, dK=[0.1 0.1 0.1]  \n",
      " K-point 752 : coord in rec.lattice = [   0.700000  ,   0.500000 ,    0.200000 ], refinement level:0, dK=[0.1 0.1 0.1]  \n",
      " K-point 753 : coord in rec.lattice = [   0.700000  ,   0.500000 ,    0.300000 ], refinement level:0, dK=[0.1 0.1 0.1]  \n",
      " K-point 754 : coord in rec.lattice = [   0.700000  ,   0.500000 ,    0.400000 ], refinement level:0, dK=[0.1 0.1 0.1]  \n",
      " K-point 755 : coord in rec.lattice = [   0.700000  ,   0.500000 ,    0.500000 ], refinement level:0, dK=[0.1 0.1 0.1]  \n",
      " K-point 756 : coord in rec.lattice = [   0.700000  ,   0.500000 ,    0.600000 ], refinement level:0, dK=[0.1 0.1 0.1]  \n",
      " K-point 757 : coord in rec.lattice = [   0.700000  ,   0.500000 ,    0.700000 ], refinement level:0, dK=[0.1 0.1 0.1]  \n",
      " K-point 758 : coord in rec.lattice = [   0.700000  ,   0.500000 ,    0.800000 ], refinement level:0, dK=[0.1 0.1 0.1]  \n",
      " K-point 759 : coord in rec.lattice = [   0.700000  ,   0.500000 ,    0.900000 ], refinement level:0, dK=[0.1 0.1 0.1]  \n",
      " K-point 760 : coord in rec.lattice = [   0.700000  ,   0.600000 ,    0.000000 ], refinement level:0, dK=[0.1 0.1 0.1]  \n",
      " K-point 761 : coord in rec.lattice = [   0.700000  ,   0.600000 ,    0.100000 ], refinement level:0, dK=[0.1 0.1 0.1]  \n",
      " K-point 762 : coord in rec.lattice = [   0.700000  ,   0.600000 ,    0.200000 ], refinement level:0, dK=[0.1 0.1 0.1]  \n",
      " K-point 763 : coord in rec.lattice = [   0.700000  ,   0.600000 ,    0.300000 ], refinement level:0, dK=[0.1 0.1 0.1]  \n",
      " K-point 764 : coord in rec.lattice = [   0.700000  ,   0.600000 ,    0.400000 ], refinement level:0, dK=[0.1 0.1 0.1]  \n",
      " K-point 765 : coord in rec.lattice = [   0.700000  ,   0.600000 ,    0.500000 ], refinement level:0, dK=[0.1 0.1 0.1]  \n",
      " K-point 766 : coord in rec.lattice = [   0.700000  ,   0.600000 ,    0.600000 ], refinement level:0, dK=[0.1 0.1 0.1]  \n",
      " K-point 767 : coord in rec.lattice = [   0.700000  ,   0.600000 ,    0.700000 ], refinement level:0, dK=[0.1 0.1 0.1]  \n",
      " K-point 768 : coord in rec.lattice = [   0.700000  ,   0.600000 ,    0.800000 ], refinement level:0, dK=[0.1 0.1 0.1]  \n",
      " K-point 769 : coord in rec.lattice = [   0.700000  ,   0.600000 ,    0.900000 ], refinement level:0, dK=[0.1 0.1 0.1]  \n",
      " K-point 770 : coord in rec.lattice = [   0.700000  ,   0.700000 ,    0.000000 ], refinement level:0, dK=[0.1 0.1 0.1]  \n",
      " K-point 771 : coord in rec.lattice = [   0.700000  ,   0.700000 ,    0.100000 ], refinement level:0, dK=[0.1 0.1 0.1]  \n",
      " K-point 772 : coord in rec.lattice = [   0.700000  ,   0.700000 ,    0.200000 ], refinement level:0, dK=[0.1 0.1 0.1]  \n",
      " K-point 773 : coord in rec.lattice = [   0.700000  ,   0.700000 ,    0.300000 ], refinement level:0, dK=[0.1 0.1 0.1]  \n",
      " K-point 774 : coord in rec.lattice = [   0.700000  ,   0.700000 ,    0.400000 ], refinement level:0, dK=[0.1 0.1 0.1]  \n",
      " K-point 775 : coord in rec.lattice = [   0.700000  ,   0.700000 ,    0.500000 ], refinement level:0, dK=[0.1 0.1 0.1]  \n",
      " K-point 776 : coord in rec.lattice = [   0.700000  ,   0.700000 ,    0.600000 ], refinement level:0, dK=[0.1 0.1 0.1]  \n",
      " K-point 777 : coord in rec.lattice = [   0.700000  ,   0.700000 ,    0.700000 ], refinement level:0, dK=[0.1 0.1 0.1]  \n",
      " K-point 778 : coord in rec.lattice = [   0.700000  ,   0.700000 ,    0.800000 ], refinement level:0, dK=[0.1 0.1 0.1]  \n",
      " K-point 779 : coord in rec.lattice = [   0.700000  ,   0.700000 ,    0.900000 ], refinement level:0, dK=[0.1 0.1 0.1]  \n",
      " K-point 780 : coord in rec.lattice = [   0.700000  ,   0.800000 ,    0.000000 ], refinement level:0, dK=[0.1 0.1 0.1]  \n",
      " K-point 781 : coord in rec.lattice = [   0.700000  ,   0.800000 ,    0.100000 ], refinement level:0, dK=[0.1 0.1 0.1]  \n",
      " K-point 782 : coord in rec.lattice = [   0.700000  ,   0.800000 ,    0.200000 ], refinement level:0, dK=[0.1 0.1 0.1]  \n",
      " K-point 783 : coord in rec.lattice = [   0.700000  ,   0.800000 ,    0.300000 ], refinement level:0, dK=[0.1 0.1 0.1]  \n",
      " K-point 784 : coord in rec.lattice = [   0.700000  ,   0.800000 ,    0.400000 ], refinement level:0, dK=[0.1 0.1 0.1]  \n",
      " K-point 785 : coord in rec.lattice = [   0.700000  ,   0.800000 ,    0.500000 ], refinement level:0, dK=[0.1 0.1 0.1]  \n",
      " K-point 786 : coord in rec.lattice = [   0.700000  ,   0.800000 ,    0.600000 ], refinement level:0, dK=[0.1 0.1 0.1]  \n",
      " K-point 787 : coord in rec.lattice = [   0.700000  ,   0.800000 ,    0.700000 ], refinement level:0, dK=[0.1 0.1 0.1]  \n",
      " K-point 788 : coord in rec.lattice = [   0.700000  ,   0.800000 ,    0.800000 ], refinement level:0, dK=[0.1 0.1 0.1]  \n",
      " K-point 789 : coord in rec.lattice = [   0.700000  ,   0.800000 ,    0.900000 ], refinement level:0, dK=[0.1 0.1 0.1]  \n",
      " K-point 790 : coord in rec.lattice = [   0.700000  ,   0.900000 ,    0.000000 ], refinement level:0, dK=[0.1 0.1 0.1]  \n",
      " K-point 791 : coord in rec.lattice = [   0.700000  ,   0.900000 ,    0.100000 ], refinement level:0, dK=[0.1 0.1 0.1]  \n",
      " K-point 792 : coord in rec.lattice = [   0.700000  ,   0.900000 ,    0.200000 ], refinement level:0, dK=[0.1 0.1 0.1]  \n",
      " K-point 793 : coord in rec.lattice = [   0.700000  ,   0.900000 ,    0.300000 ], refinement level:0, dK=[0.1 0.1 0.1]  \n",
      " K-point 794 : coord in rec.lattice = [   0.700000  ,   0.900000 ,    0.400000 ], refinement level:0, dK=[0.1 0.1 0.1]  \n",
      " K-point 795 : coord in rec.lattice = [   0.700000  ,   0.900000 ,    0.500000 ], refinement level:0, dK=[0.1 0.1 0.1]  \n",
      " K-point 796 : coord in rec.lattice = [   0.700000  ,   0.900000 ,    0.600000 ], refinement level:0, dK=[0.1 0.1 0.1]  \n",
      " K-point 797 : coord in rec.lattice = [   0.700000  ,   0.900000 ,    0.700000 ], refinement level:0, dK=[0.1 0.1 0.1]  \n",
      " K-point 798 : coord in rec.lattice = [   0.700000  ,   0.900000 ,    0.800000 ], refinement level:0, dK=[0.1 0.1 0.1]  \n",
      " K-point 799 : coord in rec.lattice = [   0.700000  ,   0.900000 ,    0.900000 ], refinement level:0, dK=[0.1 0.1 0.1]  \n",
      " K-point 800 : coord in rec.lattice = [   0.800000  ,   0.000000 ,    0.000000 ], refinement level:0, dK=[0.1 0.1 0.1]  \n",
      " K-point 801 : coord in rec.lattice = [   0.800000  ,   0.000000 ,    0.100000 ], refinement level:0, dK=[0.1 0.1 0.1]  \n",
      " K-point 802 : coord in rec.lattice = [   0.800000  ,   0.000000 ,    0.200000 ], refinement level:0, dK=[0.1 0.1 0.1]  \n",
      " K-point 803 : coord in rec.lattice = [   0.800000  ,   0.000000 ,    0.300000 ], refinement level:0, dK=[0.1 0.1 0.1]  \n",
      " K-point 804 : coord in rec.lattice = [   0.800000  ,   0.000000 ,    0.400000 ], refinement level:0, dK=[0.1 0.1 0.1]  \n",
      " K-point 805 : coord in rec.lattice = [   0.800000  ,   0.000000 ,    0.500000 ], refinement level:0, dK=[0.1 0.1 0.1]  \n",
      " K-point 806 : coord in rec.lattice = [   0.800000  ,   0.000000 ,    0.600000 ], refinement level:0, dK=[0.1 0.1 0.1]  \n",
      " K-point 807 : coord in rec.lattice = [   0.800000  ,   0.000000 ,    0.700000 ], refinement level:0, dK=[0.1 0.1 0.1]  \n",
      " K-point 808 : coord in rec.lattice = [   0.800000  ,   0.000000 ,    0.800000 ], refinement level:0, dK=[0.1 0.1 0.1]  \n",
      " K-point 809 : coord in rec.lattice = [   0.800000  ,   0.000000 ,    0.900000 ], refinement level:0, dK=[0.1 0.1 0.1]  \n",
      " K-point 810 : coord in rec.lattice = [   0.800000  ,   0.100000 ,    0.000000 ], refinement level:0, dK=[0.1 0.1 0.1]  \n",
      " K-point 811 : coord in rec.lattice = [   0.800000  ,   0.100000 ,    0.100000 ], refinement level:0, dK=[0.1 0.1 0.1]  \n",
      " K-point 812 : coord in rec.lattice = [   0.800000  ,   0.100000 ,    0.200000 ], refinement level:0, dK=[0.1 0.1 0.1]  \n",
      " K-point 813 : coord in rec.lattice = [   0.800000  ,   0.100000 ,    0.300000 ], refinement level:0, dK=[0.1 0.1 0.1]  \n",
      " K-point 814 : coord in rec.lattice = [   0.800000  ,   0.100000 ,    0.400000 ], refinement level:0, dK=[0.1 0.1 0.1]  \n",
      " K-point 815 : coord in rec.lattice = [   0.800000  ,   0.100000 ,    0.500000 ], refinement level:0, dK=[0.1 0.1 0.1]  \n",
      " K-point 816 : coord in rec.lattice = [   0.800000  ,   0.100000 ,    0.600000 ], refinement level:0, dK=[0.1 0.1 0.1]  \n",
      " K-point 817 : coord in rec.lattice = [   0.800000  ,   0.100000 ,    0.700000 ], refinement level:0, dK=[0.1 0.1 0.1]  \n",
      " K-point 818 : coord in rec.lattice = [   0.800000  ,   0.100000 ,    0.800000 ], refinement level:0, dK=[0.1 0.1 0.1]  \n",
      " K-point 819 : coord in rec.lattice = [   0.800000  ,   0.100000 ,    0.900000 ], refinement level:0, dK=[0.1 0.1 0.1]  \n",
      " K-point 820 : coord in rec.lattice = [   0.800000  ,   0.200000 ,    0.000000 ], refinement level:0, dK=[0.1 0.1 0.1]  \n",
      " K-point 821 : coord in rec.lattice = [   0.800000  ,   0.200000 ,    0.100000 ], refinement level:0, dK=[0.1 0.1 0.1]  \n",
      " K-point 822 : coord in rec.lattice = [   0.800000  ,   0.200000 ,    0.200000 ], refinement level:0, dK=[0.1 0.1 0.1]  \n",
      " K-point 823 : coord in rec.lattice = [   0.800000  ,   0.200000 ,    0.300000 ], refinement level:0, dK=[0.1 0.1 0.1]  \n",
      " K-point 824 : coord in rec.lattice = [   0.800000  ,   0.200000 ,    0.400000 ], refinement level:0, dK=[0.1 0.1 0.1]  \n",
      " K-point 825 : coord in rec.lattice = [   0.800000  ,   0.200000 ,    0.500000 ], refinement level:0, dK=[0.1 0.1 0.1]  \n",
      " K-point 826 : coord in rec.lattice = [   0.800000  ,   0.200000 ,    0.600000 ], refinement level:0, dK=[0.1 0.1 0.1]  \n",
      " K-point 827 : coord in rec.lattice = [   0.800000  ,   0.200000 ,    0.700000 ], refinement level:0, dK=[0.1 0.1 0.1]  \n",
      " K-point 828 : coord in rec.lattice = [   0.800000  ,   0.200000 ,    0.800000 ], refinement level:0, dK=[0.1 0.1 0.1]  \n",
      " K-point 829 : coord in rec.lattice = [   0.800000  ,   0.200000 ,    0.900000 ], refinement level:0, dK=[0.1 0.1 0.1]  \n",
      " K-point 830 : coord in rec.lattice = [   0.800000  ,   0.300000 ,    0.000000 ], refinement level:0, dK=[0.1 0.1 0.1]  \n",
      " K-point 831 : coord in rec.lattice = [   0.800000  ,   0.300000 ,    0.100000 ], refinement level:0, dK=[0.1 0.1 0.1]  \n",
      " K-point 832 : coord in rec.lattice = [   0.800000  ,   0.300000 ,    0.200000 ], refinement level:0, dK=[0.1 0.1 0.1]  \n",
      " K-point 833 : coord in rec.lattice = [   0.800000  ,   0.300000 ,    0.300000 ], refinement level:0, dK=[0.1 0.1 0.1]  \n",
      " K-point 834 : coord in rec.lattice = [   0.800000  ,   0.300000 ,    0.400000 ], refinement level:0, dK=[0.1 0.1 0.1]  \n",
      " K-point 835 : coord in rec.lattice = [   0.800000  ,   0.300000 ,    0.500000 ], refinement level:0, dK=[0.1 0.1 0.1]  \n",
      " K-point 836 : coord in rec.lattice = [   0.800000  ,   0.300000 ,    0.600000 ], refinement level:0, dK=[0.1 0.1 0.1]  \n",
      " K-point 837 : coord in rec.lattice = [   0.800000  ,   0.300000 ,    0.700000 ], refinement level:0, dK=[0.1 0.1 0.1]  \n",
      " K-point 838 : coord in rec.lattice = [   0.800000  ,   0.300000 ,    0.800000 ], refinement level:0, dK=[0.1 0.1 0.1]  \n",
      " K-point 839 : coord in rec.lattice = [   0.800000  ,   0.300000 ,    0.900000 ], refinement level:0, dK=[0.1 0.1 0.1]  \n",
      " K-point 840 : coord in rec.lattice = [   0.800000  ,   0.400000 ,    0.000000 ], refinement level:0, dK=[0.1 0.1 0.1]  \n",
      " K-point 841 : coord in rec.lattice = [   0.800000  ,   0.400000 ,    0.100000 ], refinement level:0, dK=[0.1 0.1 0.1]  \n"
     ]
    },
    {
     "name": "stdout",
     "output_type": "stream",
     "text": [
      " K-point 842 : coord in rec.lattice = [   0.800000  ,   0.400000 ,    0.200000 ], refinement level:0, dK=[0.1 0.1 0.1]  \n",
      " K-point 843 : coord in rec.lattice = [   0.800000  ,   0.400000 ,    0.300000 ], refinement level:0, dK=[0.1 0.1 0.1]  \n",
      " K-point 844 : coord in rec.lattice = [   0.800000  ,   0.400000 ,    0.400000 ], refinement level:0, dK=[0.1 0.1 0.1]  \n",
      " K-point 845 : coord in rec.lattice = [   0.800000  ,   0.400000 ,    0.500000 ], refinement level:0, dK=[0.1 0.1 0.1]  \n",
      " K-point 846 : coord in rec.lattice = [   0.800000  ,   0.400000 ,    0.600000 ], refinement level:0, dK=[0.1 0.1 0.1]  \n",
      " K-point 847 : coord in rec.lattice = [   0.800000  ,   0.400000 ,    0.700000 ], refinement level:0, dK=[0.1 0.1 0.1]  \n",
      " K-point 848 : coord in rec.lattice = [   0.800000  ,   0.400000 ,    0.800000 ], refinement level:0, dK=[0.1 0.1 0.1]  \n",
      " K-point 849 : coord in rec.lattice = [   0.800000  ,   0.400000 ,    0.900000 ], refinement level:0, dK=[0.1 0.1 0.1]  \n",
      " K-point 850 : coord in rec.lattice = [   0.800000  ,   0.500000 ,    0.000000 ], refinement level:0, dK=[0.1 0.1 0.1]  \n",
      " K-point 851 : coord in rec.lattice = [   0.800000  ,   0.500000 ,    0.100000 ], refinement level:0, dK=[0.1 0.1 0.1]  \n",
      " K-point 852 : coord in rec.lattice = [   0.800000  ,   0.500000 ,    0.200000 ], refinement level:0, dK=[0.1 0.1 0.1]  \n",
      " K-point 853 : coord in rec.lattice = [   0.800000  ,   0.500000 ,    0.300000 ], refinement level:0, dK=[0.1 0.1 0.1]  \n",
      " K-point 854 : coord in rec.lattice = [   0.800000  ,   0.500000 ,    0.400000 ], refinement level:0, dK=[0.1 0.1 0.1]  \n",
      " K-point 855 : coord in rec.lattice = [   0.800000  ,   0.500000 ,    0.500000 ], refinement level:0, dK=[0.1 0.1 0.1]  \n",
      " K-point 856 : coord in rec.lattice = [   0.800000  ,   0.500000 ,    0.600000 ], refinement level:0, dK=[0.1 0.1 0.1]  \n",
      " K-point 857 : coord in rec.lattice = [   0.800000  ,   0.500000 ,    0.700000 ], refinement level:0, dK=[0.1 0.1 0.1]  \n",
      " K-point 858 : coord in rec.lattice = [   0.800000  ,   0.500000 ,    0.800000 ], refinement level:0, dK=[0.1 0.1 0.1]  \n",
      " K-point 859 : coord in rec.lattice = [   0.800000  ,   0.500000 ,    0.900000 ], refinement level:0, dK=[0.1 0.1 0.1]  \n",
      " K-point 860 : coord in rec.lattice = [   0.800000  ,   0.600000 ,    0.000000 ], refinement level:0, dK=[0.1 0.1 0.1]  \n",
      " K-point 861 : coord in rec.lattice = [   0.800000  ,   0.600000 ,    0.100000 ], refinement level:0, dK=[0.1 0.1 0.1]  \n",
      " K-point 862 : coord in rec.lattice = [   0.800000  ,   0.600000 ,    0.200000 ], refinement level:0, dK=[0.1 0.1 0.1]  \n",
      " K-point 863 : coord in rec.lattice = [   0.800000  ,   0.600000 ,    0.300000 ], refinement level:0, dK=[0.1 0.1 0.1]  \n",
      " K-point 864 : coord in rec.lattice = [   0.800000  ,   0.600000 ,    0.400000 ], refinement level:0, dK=[0.1 0.1 0.1]  \n",
      " K-point 865 : coord in rec.lattice = [   0.800000  ,   0.600000 ,    0.500000 ], refinement level:0, dK=[0.1 0.1 0.1]  \n",
      " K-point 866 : coord in rec.lattice = [   0.800000  ,   0.600000 ,    0.600000 ], refinement level:0, dK=[0.1 0.1 0.1]  \n",
      " K-point 867 : coord in rec.lattice = [   0.800000  ,   0.600000 ,    0.700000 ], refinement level:0, dK=[0.1 0.1 0.1]  \n",
      " K-point 868 : coord in rec.lattice = [   0.800000  ,   0.600000 ,    0.800000 ], refinement level:0, dK=[0.1 0.1 0.1]  \n",
      " K-point 869 : coord in rec.lattice = [   0.800000  ,   0.600000 ,    0.900000 ], refinement level:0, dK=[0.1 0.1 0.1]  \n",
      " K-point 870 : coord in rec.lattice = [   0.800000  ,   0.700000 ,    0.000000 ], refinement level:0, dK=[0.1 0.1 0.1]  \n",
      " K-point 871 : coord in rec.lattice = [   0.800000  ,   0.700000 ,    0.100000 ], refinement level:0, dK=[0.1 0.1 0.1]  \n",
      " K-point 872 : coord in rec.lattice = [   0.800000  ,   0.700000 ,    0.200000 ], refinement level:0, dK=[0.1 0.1 0.1]  \n",
      " K-point 873 : coord in rec.lattice = [   0.800000  ,   0.700000 ,    0.300000 ], refinement level:0, dK=[0.1 0.1 0.1]  \n",
      " K-point 874 : coord in rec.lattice = [   0.800000  ,   0.700000 ,    0.400000 ], refinement level:0, dK=[0.1 0.1 0.1]  \n",
      " K-point 875 : coord in rec.lattice = [   0.800000  ,   0.700000 ,    0.500000 ], refinement level:0, dK=[0.1 0.1 0.1]  \n",
      " K-point 876 : coord in rec.lattice = [   0.800000  ,   0.700000 ,    0.600000 ], refinement level:0, dK=[0.1 0.1 0.1]  \n",
      " K-point 877 : coord in rec.lattice = [   0.800000  ,   0.700000 ,    0.700000 ], refinement level:0, dK=[0.1 0.1 0.1]  \n",
      " K-point 878 : coord in rec.lattice = [   0.800000  ,   0.700000 ,    0.800000 ], refinement level:0, dK=[0.1 0.1 0.1]  \n",
      " K-point 879 : coord in rec.lattice = [   0.800000  ,   0.700000 ,    0.900000 ], refinement level:0, dK=[0.1 0.1 0.1]  \n",
      " K-point 880 : coord in rec.lattice = [   0.800000  ,   0.800000 ,    0.000000 ], refinement level:0, dK=[0.1 0.1 0.1]  \n",
      " K-point 881 : coord in rec.lattice = [   0.800000  ,   0.800000 ,    0.100000 ], refinement level:0, dK=[0.1 0.1 0.1]  \n",
      " K-point 882 : coord in rec.lattice = [   0.800000  ,   0.800000 ,    0.200000 ], refinement level:0, dK=[0.1 0.1 0.1]  \n",
      " K-point 883 : coord in rec.lattice = [   0.800000  ,   0.800000 ,    0.300000 ], refinement level:0, dK=[0.1 0.1 0.1]  \n",
      " K-point 884 : coord in rec.lattice = [   0.800000  ,   0.800000 ,    0.400000 ], refinement level:0, dK=[0.1 0.1 0.1]  \n",
      " K-point 885 : coord in rec.lattice = [   0.800000  ,   0.800000 ,    0.500000 ], refinement level:0, dK=[0.1 0.1 0.1]  \n",
      " K-point 886 : coord in rec.lattice = [   0.800000  ,   0.800000 ,    0.600000 ], refinement level:0, dK=[0.1 0.1 0.1]  \n",
      " K-point 887 : coord in rec.lattice = [   0.800000  ,   0.800000 ,    0.700000 ], refinement level:0, dK=[0.1 0.1 0.1]  \n",
      " K-point 888 : coord in rec.lattice = [   0.800000  ,   0.800000 ,    0.800000 ], refinement level:0, dK=[0.1 0.1 0.1]  \n",
      " K-point 889 : coord in rec.lattice = [   0.800000  ,   0.800000 ,    0.900000 ], refinement level:0, dK=[0.1 0.1 0.1]  \n",
      " K-point 890 : coord in rec.lattice = [   0.800000  ,   0.900000 ,    0.000000 ], refinement level:0, dK=[0.1 0.1 0.1]  \n",
      " K-point 891 : coord in rec.lattice = [   0.800000  ,   0.900000 ,    0.100000 ], refinement level:0, dK=[0.1 0.1 0.1]  \n",
      " K-point 892 : coord in rec.lattice = [   0.800000  ,   0.900000 ,    0.200000 ], refinement level:0, dK=[0.1 0.1 0.1]  \n",
      " K-point 893 : coord in rec.lattice = [   0.800000  ,   0.900000 ,    0.300000 ], refinement level:0, dK=[0.1 0.1 0.1]  \n",
      " K-point 894 : coord in rec.lattice = [   0.800000  ,   0.900000 ,    0.400000 ], refinement level:0, dK=[0.1 0.1 0.1]  \n",
      " K-point 895 : coord in rec.lattice = [   0.800000  ,   0.900000 ,    0.500000 ], refinement level:0, dK=[0.1 0.1 0.1]  \n",
      " K-point 896 : coord in rec.lattice = [   0.800000  ,   0.900000 ,    0.600000 ], refinement level:0, dK=[0.1 0.1 0.1]  \n",
      " K-point 897 : coord in rec.lattice = [   0.800000  ,   0.900000 ,    0.700000 ], refinement level:0, dK=[0.1 0.1 0.1]  \n",
      " K-point 898 : coord in rec.lattice = [   0.800000  ,   0.900000 ,    0.800000 ], refinement level:0, dK=[0.1 0.1 0.1]  \n",
      " K-point 899 : coord in rec.lattice = [   0.800000  ,   0.900000 ,    0.900000 ], refinement level:0, dK=[0.1 0.1 0.1]  \n",
      " K-point 900 : coord in rec.lattice = [   0.900000  ,   0.000000 ,    0.000000 ], refinement level:0, dK=[0.1 0.1 0.1]  \n",
      " K-point 901 : coord in rec.lattice = [   0.900000  ,   0.000000 ,    0.100000 ], refinement level:0, dK=[0.1 0.1 0.1]  \n",
      " K-point 902 : coord in rec.lattice = [   0.900000  ,   0.000000 ,    0.200000 ], refinement level:0, dK=[0.1 0.1 0.1]  \n",
      " K-point 903 : coord in rec.lattice = [   0.900000  ,   0.000000 ,    0.300000 ], refinement level:0, dK=[0.1 0.1 0.1]  \n",
      " K-point 904 : coord in rec.lattice = [   0.900000  ,   0.000000 ,    0.400000 ], refinement level:0, dK=[0.1 0.1 0.1]  \n",
      " K-point 905 : coord in rec.lattice = [   0.900000  ,   0.000000 ,    0.500000 ], refinement level:0, dK=[0.1 0.1 0.1]  \n",
      " K-point 906 : coord in rec.lattice = [   0.900000  ,   0.000000 ,    0.600000 ], refinement level:0, dK=[0.1 0.1 0.1]  \n",
      " K-point 907 : coord in rec.lattice = [   0.900000  ,   0.000000 ,    0.700000 ], refinement level:0, dK=[0.1 0.1 0.1]  \n",
      " K-point 908 : coord in rec.lattice = [   0.900000  ,   0.000000 ,    0.800000 ], refinement level:0, dK=[0.1 0.1 0.1]  \n",
      " K-point 909 : coord in rec.lattice = [   0.900000  ,   0.000000 ,    0.900000 ], refinement level:0, dK=[0.1 0.1 0.1]  \n",
      " K-point 910 : coord in rec.lattice = [   0.900000  ,   0.100000 ,    0.000000 ], refinement level:0, dK=[0.1 0.1 0.1]  \n",
      " K-point 911 : coord in rec.lattice = [   0.900000  ,   0.100000 ,    0.100000 ], refinement level:0, dK=[0.1 0.1 0.1]  \n",
      " K-point 912 : coord in rec.lattice = [   0.900000  ,   0.100000 ,    0.200000 ], refinement level:0, dK=[0.1 0.1 0.1]  \n",
      " K-point 913 : coord in rec.lattice = [   0.900000  ,   0.100000 ,    0.300000 ], refinement level:0, dK=[0.1 0.1 0.1]  \n",
      " K-point 914 : coord in rec.lattice = [   0.900000  ,   0.100000 ,    0.400000 ], refinement level:0, dK=[0.1 0.1 0.1]  \n",
      " K-point 915 : coord in rec.lattice = [   0.900000  ,   0.100000 ,    0.500000 ], refinement level:0, dK=[0.1 0.1 0.1]  \n",
      " K-point 916 : coord in rec.lattice = [   0.900000  ,   0.100000 ,    0.600000 ], refinement level:0, dK=[0.1 0.1 0.1]  \n",
      " K-point 917 : coord in rec.lattice = [   0.900000  ,   0.100000 ,    0.700000 ], refinement level:0, dK=[0.1 0.1 0.1]  \n",
      " K-point 918 : coord in rec.lattice = [   0.900000  ,   0.100000 ,    0.800000 ], refinement level:0, dK=[0.1 0.1 0.1]  \n",
      " K-point 919 : coord in rec.lattice = [   0.900000  ,   0.100000 ,    0.900000 ], refinement level:0, dK=[0.1 0.1 0.1]  \n",
      " K-point 920 : coord in rec.lattice = [   0.900000  ,   0.200000 ,    0.000000 ], refinement level:0, dK=[0.1 0.1 0.1]  \n",
      " K-point 921 : coord in rec.lattice = [   0.900000  ,   0.200000 ,    0.100000 ], refinement level:0, dK=[0.1 0.1 0.1]  \n",
      " K-point 922 : coord in rec.lattice = [   0.900000  ,   0.200000 ,    0.200000 ], refinement level:0, dK=[0.1 0.1 0.1]  \n",
      " K-point 923 : coord in rec.lattice = [   0.900000  ,   0.200000 ,    0.300000 ], refinement level:0, dK=[0.1 0.1 0.1]  \n",
      " K-point 924 : coord in rec.lattice = [   0.900000  ,   0.200000 ,    0.400000 ], refinement level:0, dK=[0.1 0.1 0.1]  \n",
      " K-point 925 : coord in rec.lattice = [   0.900000  ,   0.200000 ,    0.500000 ], refinement level:0, dK=[0.1 0.1 0.1]  \n",
      " K-point 926 : coord in rec.lattice = [   0.900000  ,   0.200000 ,    0.600000 ], refinement level:0, dK=[0.1 0.1 0.1]  \n",
      " K-point 927 : coord in rec.lattice = [   0.900000  ,   0.200000 ,    0.700000 ], refinement level:0, dK=[0.1 0.1 0.1]  \n",
      " K-point 928 : coord in rec.lattice = [   0.900000  ,   0.200000 ,    0.800000 ], refinement level:0, dK=[0.1 0.1 0.1]  \n",
      " K-point 929 : coord in rec.lattice = [   0.900000  ,   0.200000 ,    0.900000 ], refinement level:0, dK=[0.1 0.1 0.1]  \n",
      " K-point 930 : coord in rec.lattice = [   0.900000  ,   0.300000 ,    0.000000 ], refinement level:0, dK=[0.1 0.1 0.1]  \n",
      " K-point 931 : coord in rec.lattice = [   0.900000  ,   0.300000 ,    0.100000 ], refinement level:0, dK=[0.1 0.1 0.1]  \n",
      " K-point 932 : coord in rec.lattice = [   0.900000  ,   0.300000 ,    0.200000 ], refinement level:0, dK=[0.1 0.1 0.1]  \n",
      " K-point 933 : coord in rec.lattice = [   0.900000  ,   0.300000 ,    0.300000 ], refinement level:0, dK=[0.1 0.1 0.1]  \n",
      " K-point 934 : coord in rec.lattice = [   0.900000  ,   0.300000 ,    0.400000 ], refinement level:0, dK=[0.1 0.1 0.1]  \n",
      " K-point 935 : coord in rec.lattice = [   0.900000  ,   0.300000 ,    0.500000 ], refinement level:0, dK=[0.1 0.1 0.1]  \n",
      " K-point 936 : coord in rec.lattice = [   0.900000  ,   0.300000 ,    0.600000 ], refinement level:0, dK=[0.1 0.1 0.1]  \n",
      " K-point 937 : coord in rec.lattice = [   0.900000  ,   0.300000 ,    0.700000 ], refinement level:0, dK=[0.1 0.1 0.1]  \n",
      " K-point 938 : coord in rec.lattice = [   0.900000  ,   0.300000 ,    0.800000 ], refinement level:0, dK=[0.1 0.1 0.1]  \n",
      " K-point 939 : coord in rec.lattice = [   0.900000  ,   0.300000 ,    0.900000 ], refinement level:0, dK=[0.1 0.1 0.1]  \n",
      " K-point 940 : coord in rec.lattice = [   0.900000  ,   0.400000 ,    0.000000 ], refinement level:0, dK=[0.1 0.1 0.1]  \n",
      " K-point 941 : coord in rec.lattice = [   0.900000  ,   0.400000 ,    0.100000 ], refinement level:0, dK=[0.1 0.1 0.1]  \n",
      " K-point 942 : coord in rec.lattice = [   0.900000  ,   0.400000 ,    0.200000 ], refinement level:0, dK=[0.1 0.1 0.1]  \n",
      " K-point 943 : coord in rec.lattice = [   0.900000  ,   0.400000 ,    0.300000 ], refinement level:0, dK=[0.1 0.1 0.1]  \n",
      " K-point 944 : coord in rec.lattice = [   0.900000  ,   0.400000 ,    0.400000 ], refinement level:0, dK=[0.1 0.1 0.1]  \n",
      " K-point 945 : coord in rec.lattice = [   0.900000  ,   0.400000 ,    0.500000 ], refinement level:0, dK=[0.1 0.1 0.1]  \n",
      " K-point 946 : coord in rec.lattice = [   0.900000  ,   0.400000 ,    0.600000 ], refinement level:0, dK=[0.1 0.1 0.1]  \n",
      " K-point 947 : coord in rec.lattice = [   0.900000  ,   0.400000 ,    0.700000 ], refinement level:0, dK=[0.1 0.1 0.1]  \n",
      " K-point 948 : coord in rec.lattice = [   0.900000  ,   0.400000 ,    0.800000 ], refinement level:0, dK=[0.1 0.1 0.1]  \n",
      " K-point 949 : coord in rec.lattice = [   0.900000  ,   0.400000 ,    0.900000 ], refinement level:0, dK=[0.1 0.1 0.1]  \n",
      " K-point 950 : coord in rec.lattice = [   0.900000  ,   0.500000 ,    0.000000 ], refinement level:0, dK=[0.1 0.1 0.1]  \n",
      " K-point 951 : coord in rec.lattice = [   0.900000  ,   0.500000 ,    0.100000 ], refinement level:0, dK=[0.1 0.1 0.1]  \n",
      " K-point 952 : coord in rec.lattice = [   0.900000  ,   0.500000 ,    0.200000 ], refinement level:0, dK=[0.1 0.1 0.1]  \n",
      " K-point 953 : coord in rec.lattice = [   0.900000  ,   0.500000 ,    0.300000 ], refinement level:0, dK=[0.1 0.1 0.1]  \n",
      " K-point 954 : coord in rec.lattice = [   0.900000  ,   0.500000 ,    0.400000 ], refinement level:0, dK=[0.1 0.1 0.1]  \n",
      " K-point 955 : coord in rec.lattice = [   0.900000  ,   0.500000 ,    0.500000 ], refinement level:0, dK=[0.1 0.1 0.1]  \n",
      " K-point 956 : coord in rec.lattice = [   0.900000  ,   0.500000 ,    0.600000 ], refinement level:0, dK=[0.1 0.1 0.1]  \n",
      " K-point 957 : coord in rec.lattice = [   0.900000  ,   0.500000 ,    0.700000 ], refinement level:0, dK=[0.1 0.1 0.1]  \n",
      " K-point 958 : coord in rec.lattice = [   0.900000  ,   0.500000 ,    0.800000 ], refinement level:0, dK=[0.1 0.1 0.1]  \n",
      " K-point 959 : coord in rec.lattice = [   0.900000  ,   0.500000 ,    0.900000 ], refinement level:0, dK=[0.1 0.1 0.1]  \n",
      " K-point 960 : coord in rec.lattice = [   0.900000  ,   0.600000 ,    0.000000 ], refinement level:0, dK=[0.1 0.1 0.1]  \n",
      " K-point 961 : coord in rec.lattice = [   0.900000  ,   0.600000 ,    0.100000 ], refinement level:0, dK=[0.1 0.1 0.1]  \n",
      " K-point 962 : coord in rec.lattice = [   0.900000  ,   0.600000 ,    0.200000 ], refinement level:0, dK=[0.1 0.1 0.1]  \n",
      " K-point 963 : coord in rec.lattice = [   0.900000  ,   0.600000 ,    0.300000 ], refinement level:0, dK=[0.1 0.1 0.1]  \n",
      " K-point 964 : coord in rec.lattice = [   0.900000  ,   0.600000 ,    0.400000 ], refinement level:0, dK=[0.1 0.1 0.1]  \n",
      " K-point 965 : coord in rec.lattice = [   0.900000  ,   0.600000 ,    0.500000 ], refinement level:0, dK=[0.1 0.1 0.1]  \n",
      " K-point 966 : coord in rec.lattice = [   0.900000  ,   0.600000 ,    0.600000 ], refinement level:0, dK=[0.1 0.1 0.1]  \n",
      " K-point 967 : coord in rec.lattice = [   0.900000  ,   0.600000 ,    0.700000 ], refinement level:0, dK=[0.1 0.1 0.1]  \n",
      " K-point 968 : coord in rec.lattice = [   0.900000  ,   0.600000 ,    0.800000 ], refinement level:0, dK=[0.1 0.1 0.1]  \n",
      " K-point 969 : coord in rec.lattice = [   0.900000  ,   0.600000 ,    0.900000 ], refinement level:0, dK=[0.1 0.1 0.1]  \n",
      " K-point 970 : coord in rec.lattice = [   0.900000  ,   0.700000 ,    0.000000 ], refinement level:0, dK=[0.1 0.1 0.1]  \n",
      " K-point 971 : coord in rec.lattice = [   0.900000  ,   0.700000 ,    0.100000 ], refinement level:0, dK=[0.1 0.1 0.1]  \n",
      " K-point 972 : coord in rec.lattice = [   0.900000  ,   0.700000 ,    0.200000 ], refinement level:0, dK=[0.1 0.1 0.1]  \n",
      " K-point 973 : coord in rec.lattice = [   0.900000  ,   0.700000 ,    0.300000 ], refinement level:0, dK=[0.1 0.1 0.1]  \n",
      " K-point 974 : coord in rec.lattice = [   0.900000  ,   0.700000 ,    0.400000 ], refinement level:0, dK=[0.1 0.1 0.1]  \n",
      " K-point 975 : coord in rec.lattice = [   0.900000  ,   0.700000 ,    0.500000 ], refinement level:0, dK=[0.1 0.1 0.1]  \n",
      " K-point 976 : coord in rec.lattice = [   0.900000  ,   0.700000 ,    0.600000 ], refinement level:0, dK=[0.1 0.1 0.1]  \n",
      " K-point 977 : coord in rec.lattice = [   0.900000  ,   0.700000 ,    0.700000 ], refinement level:0, dK=[0.1 0.1 0.1]  \n",
      " K-point 978 : coord in rec.lattice = [   0.900000  ,   0.700000 ,    0.800000 ], refinement level:0, dK=[0.1 0.1 0.1]  \n",
      " K-point 979 : coord in rec.lattice = [   0.900000  ,   0.700000 ,    0.900000 ], refinement level:0, dK=[0.1 0.1 0.1]  \n",
      " K-point 980 : coord in rec.lattice = [   0.900000  ,   0.800000 ,    0.000000 ], refinement level:0, dK=[0.1 0.1 0.1]  \n",
      " K-point 981 : coord in rec.lattice = [   0.900000  ,   0.800000 ,    0.100000 ], refinement level:0, dK=[0.1 0.1 0.1]  \n",
      " K-point 982 : coord in rec.lattice = [   0.900000  ,   0.800000 ,    0.200000 ], refinement level:0, dK=[0.1 0.1 0.1]  \n",
      " K-point 983 : coord in rec.lattice = [   0.900000  ,   0.800000 ,    0.300000 ], refinement level:0, dK=[0.1 0.1 0.1]  \n",
      " K-point 984 : coord in rec.lattice = [   0.900000  ,   0.800000 ,    0.400000 ], refinement level:0, dK=[0.1 0.1 0.1]  \n",
      " K-point 985 : coord in rec.lattice = [   0.900000  ,   0.800000 ,    0.500000 ], refinement level:0, dK=[0.1 0.1 0.1]  \n",
      " K-point 986 : coord in rec.lattice = [   0.900000  ,   0.800000 ,    0.600000 ], refinement level:0, dK=[0.1 0.1 0.1]  \n",
      " K-point 987 : coord in rec.lattice = [   0.900000  ,   0.800000 ,    0.700000 ], refinement level:0, dK=[0.1 0.1 0.1]  \n",
      " K-point 988 : coord in rec.lattice = [   0.900000  ,   0.800000 ,    0.800000 ], refinement level:0, dK=[0.1 0.1 0.1]  \n",
      " K-point 989 : coord in rec.lattice = [   0.900000  ,   0.800000 ,    0.900000 ], refinement level:0, dK=[0.1 0.1 0.1]  \n",
      " K-point 990 : coord in rec.lattice = [   0.900000  ,   0.900000 ,    0.000000 ], refinement level:0, dK=[0.1 0.1 0.1]  \n",
      " K-point 991 : coord in rec.lattice = [   0.900000  ,   0.900000 ,    0.100000 ], refinement level:0, dK=[0.1 0.1 0.1]  \n",
      " K-point 992 : coord in rec.lattice = [   0.900000  ,   0.900000 ,    0.200000 ], refinement level:0, dK=[0.1 0.1 0.1]  \n",
      " K-point 993 : coord in rec.lattice = [   0.900000  ,   0.900000 ,    0.300000 ], refinement level:0, dK=[0.1 0.1 0.1]  \n",
      " K-point 994 : coord in rec.lattice = [   0.900000  ,   0.900000 ,    0.400000 ], refinement level:0, dK=[0.1 0.1 0.1]  \n",
      " K-point 995 : coord in rec.lattice = [   0.900000  ,   0.900000 ,    0.500000 ], refinement level:0, dK=[0.1 0.1 0.1]  \n",
      " K-point 996 : coord in rec.lattice = [   0.900000  ,   0.900000 ,    0.600000 ], refinement level:0, dK=[0.1 0.1 0.1]  \n",
      " K-point 997 : coord in rec.lattice = [   0.900000  ,   0.900000 ,    0.700000 ], refinement level:0, dK=[0.1 0.1 0.1]  \n",
      " K-point 998 : coord in rec.lattice = [   0.900000  ,   0.900000 ,    0.800000 ], refinement level:0, dK=[0.1 0.1 0.1]  \n",
      " K-point 999 : coord in rec.lattice = [   0.900000  ,   0.900000 ,    0.900000 ], refinement level:0, dK=[0.1 0.1 0.1]  \n",
      "symgroup : <wannierberri.symmetry.Group object at 0x7f5289f0d3a0>\n",
      "processing 1000 K points : in serial.\n",
      "# K-points calculated  Wall time (sec)  Est. remaining (sec)\n"
     ]
    },
    {
     "name": "stdout",
     "output_type": "stream",
     "text": [
      "                  10              6.0                 591.8\n"
     ]
    },
    {
     "name": "stdout",
     "output_type": "stream",
     "text": [
      "                  20              6.2                 301.4\n"
     ]
    },
    {
     "name": "stdout",
     "output_type": "stream",
     "text": [
      "                  30              6.3                 203.9\n"
     ]
    },
    {
     "name": "stdout",
     "output_type": "stream",
     "text": [
      "                  40              6.5                 155.6\n"
     ]
    },
    {
     "name": "stdout",
     "output_type": "stream",
     "text": [
      "                  50              6.6                 126.2\n"
     ]
    },
    {
     "name": "stdout",
     "output_type": "stream",
     "text": [
      "                  60              6.8                 106.5\n"
     ]
    },
    {
     "name": "stdout",
     "output_type": "stream",
     "text": [
      "                  70              6.9                  92.3\n"
     ]
    },
    {
     "name": "stdout",
     "output_type": "stream",
     "text": [
      "                  80              7.1                  81.7\n"
     ]
    },
    {
     "name": "stdout",
     "output_type": "stream",
     "text": [
      "                  90              7.3                  73.4\n"
     ]
    },
    {
     "name": "stdout",
     "output_type": "stream",
     "text": [
      "                 100              7.4                  66.7\n"
     ]
    },
    {
     "name": "stdout",
     "output_type": "stream",
     "text": [
      "                 110              7.6                  61.1\n"
     ]
    },
    {
     "name": "stdout",
     "output_type": "stream",
     "text": [
      "                 120              7.7                  56.5\n"
     ]
    },
    {
     "name": "stdout",
     "output_type": "stream",
     "text": [
      "                 130              7.9                  52.6\n"
     ]
    },
    {
     "name": "stdout",
     "output_type": "stream",
     "text": [
      "                 140              8.0                  49.2\n"
     ]
    },
    {
     "name": "stdout",
     "output_type": "stream",
     "text": [
      "                 150              8.2                  46.3\n"
     ]
    },
    {
     "name": "stdout",
     "output_type": "stream",
     "text": [
      "                 160              8.3                  43.7\n"
     ]
    },
    {
     "name": "stdout",
     "output_type": "stream",
     "text": [
      "                 170              8.5                  41.4\n"
     ]
    },
    {
     "name": "stdout",
     "output_type": "stream",
     "text": [
      "                 180              8.6                  39.3\n"
     ]
    },
    {
     "name": "stdout",
     "output_type": "stream",
     "text": [
      "                 190              8.8                  37.4\n"
     ]
    },
    {
     "name": "stdout",
     "output_type": "stream",
     "text": [
      "                 200              8.9                  35.7\n"
     ]
    },
    {
     "name": "stdout",
     "output_type": "stream",
     "text": [
      "                 210              9.1                  34.1\n"
     ]
    },
    {
     "name": "stdout",
     "output_type": "stream",
     "text": [
      "                 220              9.2                  32.7\n"
     ]
    },
    {
     "name": "stdout",
     "output_type": "stream",
     "text": [
      "                 230              9.4                  31.4\n"
     ]
    },
    {
     "name": "stdout",
     "output_type": "stream",
     "text": [
      "                 240              9.5                  30.2\n"
     ]
    },
    {
     "name": "stdout",
     "output_type": "stream",
     "text": [
      "                 250              9.7                  29.1\n"
     ]
    },
    {
     "name": "stdout",
     "output_type": "stream",
     "text": [
      "                 260              9.8                  28.0\n"
     ]
    },
    {
     "name": "stdout",
     "output_type": "stream",
     "text": [
      "                 270             10.0                  27.1\n"
     ]
    },
    {
     "name": "stdout",
     "output_type": "stream",
     "text": [
      "                 280             10.2                  26.2\n"
     ]
    },
    {
     "name": "stdout",
     "output_type": "stream",
     "text": [
      "                 290             10.3                  25.3\n"
     ]
    },
    {
     "name": "stdout",
     "output_type": "stream",
     "text": [
      "                 300             10.5                  24.5\n"
     ]
    },
    {
     "name": "stdout",
     "output_type": "stream",
     "text": [
      "                 310             10.7                  23.8\n"
     ]
    },
    {
     "name": "stdout",
     "output_type": "stream",
     "text": [
      "                 320             10.9                  23.1\n"
     ]
    },
    {
     "name": "stdout",
     "output_type": "stream",
     "text": [
      "                 330             11.0                  22.4\n"
     ]
    },
    {
     "name": "stdout",
     "output_type": "stream",
     "text": [
      "                 340             11.2                  21.7\n"
     ]
    },
    {
     "name": "stdout",
     "output_type": "stream",
     "text": [
      "                 350             11.4                  21.1\n"
     ]
    },
    {
     "name": "stdout",
     "output_type": "stream",
     "text": [
      "                 360             11.5                  20.5\n"
     ]
    },
    {
     "name": "stdout",
     "output_type": "stream",
     "text": [
      "                 370             11.7                  19.9\n"
     ]
    },
    {
     "name": "stdout",
     "output_type": "stream",
     "text": [
      "                 380             11.8                  19.3\n"
     ]
    },
    {
     "name": "stdout",
     "output_type": "stream",
     "text": [
      "                 390             12.0                  18.7\n"
     ]
    },
    {
     "name": "stdout",
     "output_type": "stream",
     "text": [
      "                 400             12.1                  18.2\n"
     ]
    },
    {
     "name": "stdout",
     "output_type": "stream",
     "text": [
      "                 410             12.3                  17.7\n"
     ]
    },
    {
     "name": "stdout",
     "output_type": "stream",
     "text": [
      "                 420             12.4                  17.2\n"
     ]
    },
    {
     "name": "stdout",
     "output_type": "stream",
     "text": [
      "                 430             12.6                  16.7\n"
     ]
    },
    {
     "name": "stdout",
     "output_type": "stream",
     "text": [
      "                 440             12.7                  16.2\n"
     ]
    },
    {
     "name": "stdout",
     "output_type": "stream",
     "text": [
      "                 450             12.9                  15.8\n"
     ]
    },
    {
     "name": "stdout",
     "output_type": "stream",
     "text": [
      "                 460             13.0                  15.3\n"
     ]
    },
    {
     "name": "stdout",
     "output_type": "stream",
     "text": [
      "                 470             13.2                  14.9\n"
     ]
    },
    {
     "name": "stdout",
     "output_type": "stream",
     "text": [
      "                 480             13.4                  14.5\n"
     ]
    },
    {
     "name": "stdout",
     "output_type": "stream",
     "text": [
      "                 490             13.5                  14.1\n"
     ]
    },
    {
     "name": "stdout",
     "output_type": "stream",
     "text": [
      "                 500             13.7                  13.7\n"
     ]
    },
    {
     "name": "stdout",
     "output_type": "stream",
     "text": [
      "                 510             13.8                  13.3\n"
     ]
    },
    {
     "name": "stdout",
     "output_type": "stream",
     "text": [
      "                 520             14.0                  12.9\n"
     ]
    },
    {
     "name": "stdout",
     "output_type": "stream",
     "text": [
      "                 530             14.1                  12.5\n"
     ]
    },
    {
     "name": "stdout",
     "output_type": "stream",
     "text": [
      "                 540             14.3                  12.2\n"
     ]
    },
    {
     "name": "stdout",
     "output_type": "stream",
     "text": [
      "                 550             14.5                  11.8\n"
     ]
    },
    {
     "name": "stdout",
     "output_type": "stream",
     "text": [
      "                 560             14.6                  11.5\n"
     ]
    },
    {
     "name": "stdout",
     "output_type": "stream",
     "text": [
      "                 570             14.8                  11.1\n"
     ]
    },
    {
     "name": "stdout",
     "output_type": "stream",
     "text": [
      "                 580             14.9                  10.8\n"
     ]
    },
    {
     "name": "stdout",
     "output_type": "stream",
     "text": [
      "                 590             15.1                  10.5\n"
     ]
    },
    {
     "name": "stdout",
     "output_type": "stream",
     "text": [
      "                 600             15.2                  10.1\n"
     ]
    },
    {
     "name": "stdout",
     "output_type": "stream",
     "text": [
      "                 610             15.4                   9.8\n"
     ]
    },
    {
     "name": "stdout",
     "output_type": "stream",
     "text": [
      "                 620             15.6                   9.5\n"
     ]
    },
    {
     "name": "stdout",
     "output_type": "stream",
     "text": [
      "                 630             15.7                   9.2\n"
     ]
    },
    {
     "name": "stdout",
     "output_type": "stream",
     "text": [
      "                 640             15.9                   8.9\n"
     ]
    },
    {
     "name": "stdout",
     "output_type": "stream",
     "text": [
      "                 650             16.1                   8.7\n"
     ]
    },
    {
     "name": "stdout",
     "output_type": "stream",
     "text": [
      "                 660             16.2                   8.4\n"
     ]
    },
    {
     "name": "stdout",
     "output_type": "stream",
     "text": [
      "                 670             16.4                   8.1\n"
     ]
    },
    {
     "name": "stdout",
     "output_type": "stream",
     "text": [
      "                 680             16.6                   7.8\n"
     ]
    },
    {
     "name": "stdout",
     "output_type": "stream",
     "text": [
      "                 690             16.7                   7.5\n"
     ]
    },
    {
     "name": "stdout",
     "output_type": "stream",
     "text": [
      "                 700             16.9                   7.2\n"
     ]
    },
    {
     "name": "stdout",
     "output_type": "stream",
     "text": [
      "                 710             17.0                   7.0\n"
     ]
    },
    {
     "name": "stdout",
     "output_type": "stream",
     "text": [
      "                 720             17.2                   6.7\n"
     ]
    },
    {
     "name": "stdout",
     "output_type": "stream",
     "text": [
      "                 730             17.4                   6.4\n"
     ]
    },
    {
     "name": "stdout",
     "output_type": "stream",
     "text": [
      "                 740             17.5                   6.2\n"
     ]
    },
    {
     "name": "stdout",
     "output_type": "stream",
     "text": [
      "                 750             17.7                   5.9\n"
     ]
    },
    {
     "name": "stdout",
     "output_type": "stream",
     "text": [
      "                 760             17.9                   5.6\n"
     ]
    },
    {
     "name": "stdout",
     "output_type": "stream",
     "text": [
      "                 770             18.0                   5.4\n"
     ]
    },
    {
     "name": "stdout",
     "output_type": "stream",
     "text": [
      "                 780             18.2                   5.1\n"
     ]
    },
    {
     "name": "stdout",
     "output_type": "stream",
     "text": [
      "                 790             18.3                   4.9\n"
     ]
    },
    {
     "name": "stdout",
     "output_type": "stream",
     "text": [
      "                 800             18.5                   4.6\n"
     ]
    },
    {
     "name": "stdout",
     "output_type": "stream",
     "text": [
      "                 810             18.6                   4.4\n"
     ]
    },
    {
     "name": "stdout",
     "output_type": "stream",
     "text": [
      "                 820             18.8                   4.1\n"
     ]
    },
    {
     "name": "stdout",
     "output_type": "stream",
     "text": [
      "                 830             18.9                   3.9\n"
     ]
    },
    {
     "name": "stdout",
     "output_type": "stream",
     "text": [
      "                 840             19.1                   3.6\n"
     ]
    },
    {
     "name": "stdout",
     "output_type": "stream",
     "text": [
      "                 850             19.3                   3.4\n"
     ]
    },
    {
     "name": "stdout",
     "output_type": "stream",
     "text": [
      "                 860             19.4                   3.2\n"
     ]
    },
    {
     "name": "stdout",
     "output_type": "stream",
     "text": [
      "                 870             19.6                   2.9\n"
     ]
    },
    {
     "name": "stdout",
     "output_type": "stream",
     "text": [
      "                 880             19.7                   2.7\n"
     ]
    },
    {
     "name": "stdout",
     "output_type": "stream",
     "text": [
      "                 890             19.9                   2.5\n"
     ]
    },
    {
     "name": "stdout",
     "output_type": "stream",
     "text": [
      "                 900             20.1                   2.2\n"
     ]
    },
    {
     "name": "stdout",
     "output_type": "stream",
     "text": [
      "                 910             20.2                   2.0\n"
     ]
    },
    {
     "name": "stdout",
     "output_type": "stream",
     "text": [
      "                 920             20.4                   1.8\n"
     ]
    },
    {
     "name": "stdout",
     "output_type": "stream",
     "text": [
      "                 930             20.5                   1.5\n"
     ]
    },
    {
     "name": "stdout",
     "output_type": "stream",
     "text": [
      "                 940             20.7                   1.3\n"
     ]
    },
    {
     "name": "stdout",
     "output_type": "stream",
     "text": [
      "                 950             20.9                   1.1\n"
     ]
    },
    {
     "name": "stdout",
     "output_type": "stream",
     "text": [
      "                 960             21.1                   0.9\n"
     ]
    },
    {
     "name": "stdout",
     "output_type": "stream",
     "text": [
      "                 970             21.2                   0.7\n"
     ]
    },
    {
     "name": "stdout",
     "output_type": "stream",
     "text": [
      "                 980             21.4                   0.4\n"
     ]
    },
    {
     "name": "stdout",
     "output_type": "stream",
     "text": [
      "                 990             21.5                   0.2\n"
     ]
    },
    {
     "name": "stdout",
     "output_type": "stream",
     "text": [
      "                1000             21.7                   0.0\n"
     ]
    },
    {
     "name": "stdout",
     "output_type": "stream",
     "text": [
      "time for processing   1000 K-points in serial:    21.9665 ; per K-point          0.0220 ; proc-sec per K-point          0.0220\n"
     ]
    },
    {
     "name": "stdout",
     "output_type": "stream",
     "text": [
      "time1 =  0.09219861030578613\n",
      "Totally processed 1000 K-points \n",
      "determining grids from NK=10 (<class 'int'>), NKdiv=None (<class 'NoneType'>), NKFFT=1 (<class 'NoneType'>)\n",
      "The grids were set to NKdiv=[10 10 10], NKFFT=[1 1 1], NKtot=[10 10 10]\n",
      "\u001b[1m\u001b[36mBerry curvature dipole (dimensionless)\n",
      "\n",
      "        | With Fermi sea integral. Eq(29) in `Ref <https://www.nature.com/articles/s41524-021-00498-5>`_\n",
      "        | Output: :math:`D_{\\beta\\delta} = \\int [dk] \\partial_\\beta \\Omega_\\delta f`\n",
      "\u001b[0m\n",
      "Grid is regular\n",
      "The set of k points is a Grid() with NKdiv=[10 10 10], NKFFT=[1 1 1], NKtot=[10 10 10]\n",
      "generating K_list\n",
      "Done in 0.00900888442993164 s \n",
      "excluding symmetry-equivalent K-points from initial grid\n",
      "Done in 0.06984949111938477 s \n",
      "Done in 0.07001066207885742 s \n",
      "K_list contains 1000 Irreducible points(100.0%) out of initial 10x10x10=1000 grid\n",
      "Done, sum of weights:1.0000000000000007\n",
      "iteration 0 - 1000 points. New points are:\n",
      " K-point 0 : coord in rec.lattice = [   0.000000  ,   0.000000 ,    0.000000 ], refinement level:0, dK=[0.1 0.1 0.1]  \n",
      " K-point 1 : coord in rec.lattice = [   0.000000  ,   0.000000 ,    0.100000 ], refinement level:0, dK=[0.1 0.1 0.1]  \n",
      " K-point 2 : coord in rec.lattice = [   0.000000  ,   0.000000 ,    0.200000 ], refinement level:0, dK=[0.1 0.1 0.1]  \n",
      " K-point 3 : coord in rec.lattice = [   0.000000  ,   0.000000 ,    0.300000 ], refinement level:0, dK=[0.1 0.1 0.1]  \n",
      " K-point 4 : coord in rec.lattice = [   0.000000  ,   0.000000 ,    0.400000 ], refinement level:0, dK=[0.1 0.1 0.1]  \n",
      " K-point 5 : coord in rec.lattice = [   0.000000  ,   0.000000 ,    0.500000 ], refinement level:0, dK=[0.1 0.1 0.1]  \n",
      " K-point 6 : coord in rec.lattice = [   0.000000  ,   0.000000 ,    0.600000 ], refinement level:0, dK=[0.1 0.1 0.1]  \n",
      " K-point 7 : coord in rec.lattice = [   0.000000  ,   0.000000 ,    0.700000 ], refinement level:0, dK=[0.1 0.1 0.1]  \n",
      " K-point 8 : coord in rec.lattice = [   0.000000  ,   0.000000 ,    0.800000 ], refinement level:0, dK=[0.1 0.1 0.1]  \n",
      " K-point 9 : coord in rec.lattice = [   0.000000  ,   0.000000 ,    0.900000 ], refinement level:0, dK=[0.1 0.1 0.1]  \n",
      " K-point 10 : coord in rec.lattice = [   0.000000  ,   0.100000 ,    0.000000 ], refinement level:0, dK=[0.1 0.1 0.1]  \n",
      " K-point 11 : coord in rec.lattice = [   0.000000  ,   0.100000 ,    0.100000 ], refinement level:0, dK=[0.1 0.1 0.1]  \n",
      " K-point 12 : coord in rec.lattice = [   0.000000  ,   0.100000 ,    0.200000 ], refinement level:0, dK=[0.1 0.1 0.1]  \n",
      " K-point 13 : coord in rec.lattice = [   0.000000  ,   0.100000 ,    0.300000 ], refinement level:0, dK=[0.1 0.1 0.1]  \n",
      " K-point 14 : coord in rec.lattice = [   0.000000  ,   0.100000 ,    0.400000 ], refinement level:0, dK=[0.1 0.1 0.1]  \n",
      " K-point 15 : coord in rec.lattice = [   0.000000  ,   0.100000 ,    0.500000 ], refinement level:0, dK=[0.1 0.1 0.1]  \n",
      " K-point 16 : coord in rec.lattice = [   0.000000  ,   0.100000 ,    0.600000 ], refinement level:0, dK=[0.1 0.1 0.1]  \n",
      " K-point 17 : coord in rec.lattice = [   0.000000  ,   0.100000 ,    0.700000 ], refinement level:0, dK=[0.1 0.1 0.1]  \n",
      " K-point 18 : coord in rec.lattice = [   0.000000  ,   0.100000 ,    0.800000 ], refinement level:0, dK=[0.1 0.1 0.1]  \n",
      " K-point 19 : coord in rec.lattice = [   0.000000  ,   0.100000 ,    0.900000 ], refinement level:0, dK=[0.1 0.1 0.1]  \n",
      " K-point 20 : coord in rec.lattice = [   0.000000  ,   0.200000 ,    0.000000 ], refinement level:0, dK=[0.1 0.1 0.1]  \n",
      " K-point 21 : coord in rec.lattice = [   0.000000  ,   0.200000 ,    0.100000 ], refinement level:0, dK=[0.1 0.1 0.1]  \n",
      " K-point 22 : coord in rec.lattice = [   0.000000  ,   0.200000 ,    0.200000 ], refinement level:0, dK=[0.1 0.1 0.1]  \n",
      " K-point 23 : coord in rec.lattice = [   0.000000  ,   0.200000 ,    0.300000 ], refinement level:0, dK=[0.1 0.1 0.1]  \n",
      " K-point 24 : coord in rec.lattice = [   0.000000  ,   0.200000 ,    0.400000 ], refinement level:0, dK=[0.1 0.1 0.1]  \n",
      " K-point 25 : coord in rec.lattice = [   0.000000  ,   0.200000 ,    0.500000 ], refinement level:0, dK=[0.1 0.1 0.1]  \n",
      " K-point 26 : coord in rec.lattice = [   0.000000  ,   0.200000 ,    0.600000 ], refinement level:0, dK=[0.1 0.1 0.1]  \n",
      " K-point 27 : coord in rec.lattice = [   0.000000  ,   0.200000 ,    0.700000 ], refinement level:0, dK=[0.1 0.1 0.1]  \n",
      " K-point 28 : coord in rec.lattice = [   0.000000  ,   0.200000 ,    0.800000 ], refinement level:0, dK=[0.1 0.1 0.1]  \n",
      " K-point 29 : coord in rec.lattice = [   0.000000  ,   0.200000 ,    0.900000 ], refinement level:0, dK=[0.1 0.1 0.1]  \n",
      " K-point 30 : coord in rec.lattice = [   0.000000  ,   0.300000 ,    0.000000 ], refinement level:0, dK=[0.1 0.1 0.1]  \n",
      " K-point 31 : coord in rec.lattice = [   0.000000  ,   0.300000 ,    0.100000 ], refinement level:0, dK=[0.1 0.1 0.1]  \n",
      " K-point 32 : coord in rec.lattice = [   0.000000  ,   0.300000 ,    0.200000 ], refinement level:0, dK=[0.1 0.1 0.1]  \n",
      " K-point 33 : coord in rec.lattice = [   0.000000  ,   0.300000 ,    0.300000 ], refinement level:0, dK=[0.1 0.1 0.1]  \n",
      " K-point 34 : coord in rec.lattice = [   0.000000  ,   0.300000 ,    0.400000 ], refinement level:0, dK=[0.1 0.1 0.1]  \n",
      " K-point 35 : coord in rec.lattice = [   0.000000  ,   0.300000 ,    0.500000 ], refinement level:0, dK=[0.1 0.1 0.1]  \n",
      " K-point 36 : coord in rec.lattice = [   0.000000  ,   0.300000 ,    0.600000 ], refinement level:0, dK=[0.1 0.1 0.1]  \n",
      " K-point 37 : coord in rec.lattice = [   0.000000  ,   0.300000 ,    0.700000 ], refinement level:0, dK=[0.1 0.1 0.1]  \n",
      " K-point 38 : coord in rec.lattice = [   0.000000  ,   0.300000 ,    0.800000 ], refinement level:0, dK=[0.1 0.1 0.1]  \n",
      " K-point 39 : coord in rec.lattice = [   0.000000  ,   0.300000 ,    0.900000 ], refinement level:0, dK=[0.1 0.1 0.1]  \n",
      " K-point 40 : coord in rec.lattice = [   0.000000  ,   0.400000 ,    0.000000 ], refinement level:0, dK=[0.1 0.1 0.1]  \n",
      " K-point 41 : coord in rec.lattice = [   0.000000  ,   0.400000 ,    0.100000 ], refinement level:0, dK=[0.1 0.1 0.1]  \n",
      " K-point 42 : coord in rec.lattice = [   0.000000  ,   0.400000 ,    0.200000 ], refinement level:0, dK=[0.1 0.1 0.1]  \n",
      " K-point 43 : coord in rec.lattice = [   0.000000  ,   0.400000 ,    0.300000 ], refinement level:0, dK=[0.1 0.1 0.1]  \n",
      " K-point 44 : coord in rec.lattice = [   0.000000  ,   0.400000 ,    0.400000 ], refinement level:0, dK=[0.1 0.1 0.1]  \n",
      " K-point 45 : coord in rec.lattice = [   0.000000  ,   0.400000 ,    0.500000 ], refinement level:0, dK=[0.1 0.1 0.1]  \n",
      " K-point 46 : coord in rec.lattice = [   0.000000  ,   0.400000 ,    0.600000 ], refinement level:0, dK=[0.1 0.1 0.1]  \n",
      " K-point 47 : coord in rec.lattice = [   0.000000  ,   0.400000 ,    0.700000 ], refinement level:0, dK=[0.1 0.1 0.1]  \n",
      " K-point 48 : coord in rec.lattice = [   0.000000  ,   0.400000 ,    0.800000 ], refinement level:0, dK=[0.1 0.1 0.1]  \n",
      " K-point 49 : coord in rec.lattice = [   0.000000  ,   0.400000 ,    0.900000 ], refinement level:0, dK=[0.1 0.1 0.1]  \n",
      " K-point 50 : coord in rec.lattice = [   0.000000  ,   0.500000 ,    0.000000 ], refinement level:0, dK=[0.1 0.1 0.1]  \n",
      " K-point 51 : coord in rec.lattice = [   0.000000  ,   0.500000 ,    0.100000 ], refinement level:0, dK=[0.1 0.1 0.1]  \n",
      " K-point 52 : coord in rec.lattice = [   0.000000  ,   0.500000 ,    0.200000 ], refinement level:0, dK=[0.1 0.1 0.1]  \n",
      " K-point 53 : coord in rec.lattice = [   0.000000  ,   0.500000 ,    0.300000 ], refinement level:0, dK=[0.1 0.1 0.1]  \n",
      " K-point 54 : coord in rec.lattice = [   0.000000  ,   0.500000 ,    0.400000 ], refinement level:0, dK=[0.1 0.1 0.1]  \n",
      " K-point 55 : coord in rec.lattice = [   0.000000  ,   0.500000 ,    0.500000 ], refinement level:0, dK=[0.1 0.1 0.1]  \n",
      " K-point 56 : coord in rec.lattice = [   0.000000  ,   0.500000 ,    0.600000 ], refinement level:0, dK=[0.1 0.1 0.1]  \n",
      " K-point 57 : coord in rec.lattice = [   0.000000  ,   0.500000 ,    0.700000 ], refinement level:0, dK=[0.1 0.1 0.1]  \n",
      " K-point 58 : coord in rec.lattice = [   0.000000  ,   0.500000 ,    0.800000 ], refinement level:0, dK=[0.1 0.1 0.1]  \n",
      " K-point 59 : coord in rec.lattice = [   0.000000  ,   0.500000 ,    0.900000 ], refinement level:0, dK=[0.1 0.1 0.1]  \n",
      " K-point 60 : coord in rec.lattice = [   0.000000  ,   0.600000 ,    0.000000 ], refinement level:0, dK=[0.1 0.1 0.1]  \n",
      " K-point 61 : coord in rec.lattice = [   0.000000  ,   0.600000 ,    0.100000 ], refinement level:0, dK=[0.1 0.1 0.1]  \n",
      " K-point 62 : coord in rec.lattice = [   0.000000  ,   0.600000 ,    0.200000 ], refinement level:0, dK=[0.1 0.1 0.1]  \n",
      " K-point 63 : coord in rec.lattice = [   0.000000  ,   0.600000 ,    0.300000 ], refinement level:0, dK=[0.1 0.1 0.1]  \n",
      " K-point 64 : coord in rec.lattice = [   0.000000  ,   0.600000 ,    0.400000 ], refinement level:0, dK=[0.1 0.1 0.1]  \n",
      " K-point 65 : coord in rec.lattice = [   0.000000  ,   0.600000 ,    0.500000 ], refinement level:0, dK=[0.1 0.1 0.1]  \n",
      " K-point 66 : coord in rec.lattice = [   0.000000  ,   0.600000 ,    0.600000 ], refinement level:0, dK=[0.1 0.1 0.1]  \n",
      " K-point 67 : coord in rec.lattice = [   0.000000  ,   0.600000 ,    0.700000 ], refinement level:0, dK=[0.1 0.1 0.1]  \n",
      " K-point 68 : coord in rec.lattice = [   0.000000  ,   0.600000 ,    0.800000 ], refinement level:0, dK=[0.1 0.1 0.1]  \n",
      " K-point 69 : coord in rec.lattice = [   0.000000  ,   0.600000 ,    0.900000 ], refinement level:0, dK=[0.1 0.1 0.1]  \n",
      " K-point 70 : coord in rec.lattice = [   0.000000  ,   0.700000 ,    0.000000 ], refinement level:0, dK=[0.1 0.1 0.1]  \n",
      " K-point 71 : coord in rec.lattice = [   0.000000  ,   0.700000 ,    0.100000 ], refinement level:0, dK=[0.1 0.1 0.1]  \n",
      " K-point 72 : coord in rec.lattice = [   0.000000  ,   0.700000 ,    0.200000 ], refinement level:0, dK=[0.1 0.1 0.1]  \n",
      " K-point 73 : coord in rec.lattice = [   0.000000  ,   0.700000 ,    0.300000 ], refinement level:0, dK=[0.1 0.1 0.1]  \n",
      " K-point 74 : coord in rec.lattice = [   0.000000  ,   0.700000 ,    0.400000 ], refinement level:0, dK=[0.1 0.1 0.1]  \n",
      " K-point 75 : coord in rec.lattice = [   0.000000  ,   0.700000 ,    0.500000 ], refinement level:0, dK=[0.1 0.1 0.1]  \n",
      " K-point 76 : coord in rec.lattice = [   0.000000  ,   0.700000 ,    0.600000 ], refinement level:0, dK=[0.1 0.1 0.1]  \n",
      " K-point 77 : coord in rec.lattice = [   0.000000  ,   0.700000 ,    0.700000 ], refinement level:0, dK=[0.1 0.1 0.1]  \n",
      " K-point 78 : coord in rec.lattice = [   0.000000  ,   0.700000 ,    0.800000 ], refinement level:0, dK=[0.1 0.1 0.1]  \n",
      " K-point 79 : coord in rec.lattice = [   0.000000  ,   0.700000 ,    0.900000 ], refinement level:0, dK=[0.1 0.1 0.1]  \n",
      " K-point 80 : coord in rec.lattice = [   0.000000  ,   0.800000 ,    0.000000 ], refinement level:0, dK=[0.1 0.1 0.1]  \n",
      " K-point 81 : coord in rec.lattice = [   0.000000  ,   0.800000 ,    0.100000 ], refinement level:0, dK=[0.1 0.1 0.1]  \n"
     ]
    },
    {
     "name": "stdout",
     "output_type": "stream",
     "text": [
      " K-point 82 : coord in rec.lattice = [   0.000000  ,   0.800000 ,    0.200000 ], refinement level:0, dK=[0.1 0.1 0.1]  \n",
      " K-point 83 : coord in rec.lattice = [   0.000000  ,   0.800000 ,    0.300000 ], refinement level:0, dK=[0.1 0.1 0.1]  \n",
      " K-point 84 : coord in rec.lattice = [   0.000000  ,   0.800000 ,    0.400000 ], refinement level:0, dK=[0.1 0.1 0.1]  \n",
      " K-point 85 : coord in rec.lattice = [   0.000000  ,   0.800000 ,    0.500000 ], refinement level:0, dK=[0.1 0.1 0.1]  \n",
      " K-point 86 : coord in rec.lattice = [   0.000000  ,   0.800000 ,    0.600000 ], refinement level:0, dK=[0.1 0.1 0.1]  \n",
      " K-point 87 : coord in rec.lattice = [   0.000000  ,   0.800000 ,    0.700000 ], refinement level:0, dK=[0.1 0.1 0.1]  \n",
      " K-point 88 : coord in rec.lattice = [   0.000000  ,   0.800000 ,    0.800000 ], refinement level:0, dK=[0.1 0.1 0.1]  \n",
      " K-point 89 : coord in rec.lattice = [   0.000000  ,   0.800000 ,    0.900000 ], refinement level:0, dK=[0.1 0.1 0.1]  \n",
      " K-point 90 : coord in rec.lattice = [   0.000000  ,   0.900000 ,    0.000000 ], refinement level:0, dK=[0.1 0.1 0.1]  \n",
      " K-point 91 : coord in rec.lattice = [   0.000000  ,   0.900000 ,    0.100000 ], refinement level:0, dK=[0.1 0.1 0.1]  \n",
      " K-point 92 : coord in rec.lattice = [   0.000000  ,   0.900000 ,    0.200000 ], refinement level:0, dK=[0.1 0.1 0.1]  \n",
      " K-point 93 : coord in rec.lattice = [   0.000000  ,   0.900000 ,    0.300000 ], refinement level:0, dK=[0.1 0.1 0.1]  \n",
      " K-point 94 : coord in rec.lattice = [   0.000000  ,   0.900000 ,    0.400000 ], refinement level:0, dK=[0.1 0.1 0.1]  \n",
      " K-point 95 : coord in rec.lattice = [   0.000000  ,   0.900000 ,    0.500000 ], refinement level:0, dK=[0.1 0.1 0.1]  \n",
      " K-point 96 : coord in rec.lattice = [   0.000000  ,   0.900000 ,    0.600000 ], refinement level:0, dK=[0.1 0.1 0.1]  \n",
      " K-point 97 : coord in rec.lattice = [   0.000000  ,   0.900000 ,    0.700000 ], refinement level:0, dK=[0.1 0.1 0.1]  \n",
      " K-point 98 : coord in rec.lattice = [   0.000000  ,   0.900000 ,    0.800000 ], refinement level:0, dK=[0.1 0.1 0.1]  \n",
      " K-point 99 : coord in rec.lattice = [   0.000000  ,   0.900000 ,    0.900000 ], refinement level:0, dK=[0.1 0.1 0.1]  \n",
      " K-point 100 : coord in rec.lattice = [   0.100000  ,   0.000000 ,    0.000000 ], refinement level:0, dK=[0.1 0.1 0.1]  \n",
      " K-point 101 : coord in rec.lattice = [   0.100000  ,   0.000000 ,    0.100000 ], refinement level:0, dK=[0.1 0.1 0.1]  \n",
      " K-point 102 : coord in rec.lattice = [   0.100000  ,   0.000000 ,    0.200000 ], refinement level:0, dK=[0.1 0.1 0.1]  \n",
      " K-point 103 : coord in rec.lattice = [   0.100000  ,   0.000000 ,    0.300000 ], refinement level:0, dK=[0.1 0.1 0.1]  \n",
      " K-point 104 : coord in rec.lattice = [   0.100000  ,   0.000000 ,    0.400000 ], refinement level:0, dK=[0.1 0.1 0.1]  \n",
      " K-point 105 : coord in rec.lattice = [   0.100000  ,   0.000000 ,    0.500000 ], refinement level:0, dK=[0.1 0.1 0.1]  \n",
      " K-point 106 : coord in rec.lattice = [   0.100000  ,   0.000000 ,    0.600000 ], refinement level:0, dK=[0.1 0.1 0.1]  \n",
      " K-point 107 : coord in rec.lattice = [   0.100000  ,   0.000000 ,    0.700000 ], refinement level:0, dK=[0.1 0.1 0.1]  \n",
      " K-point 108 : coord in rec.lattice = [   0.100000  ,   0.000000 ,    0.800000 ], refinement level:0, dK=[0.1 0.1 0.1]  \n",
      " K-point 109 : coord in rec.lattice = [   0.100000  ,   0.000000 ,    0.900000 ], refinement level:0, dK=[0.1 0.1 0.1]  \n",
      " K-point 110 : coord in rec.lattice = [   0.100000  ,   0.100000 ,    0.000000 ], refinement level:0, dK=[0.1 0.1 0.1]  \n",
      " K-point 111 : coord in rec.lattice = [   0.100000  ,   0.100000 ,    0.100000 ], refinement level:0, dK=[0.1 0.1 0.1]  \n",
      " K-point 112 : coord in rec.lattice = [   0.100000  ,   0.100000 ,    0.200000 ], refinement level:0, dK=[0.1 0.1 0.1]  \n",
      " K-point 113 : coord in rec.lattice = [   0.100000  ,   0.100000 ,    0.300000 ], refinement level:0, dK=[0.1 0.1 0.1]  \n",
      " K-point 114 : coord in rec.lattice = [   0.100000  ,   0.100000 ,    0.400000 ], refinement level:0, dK=[0.1 0.1 0.1]  \n",
      " K-point 115 : coord in rec.lattice = [   0.100000  ,   0.100000 ,    0.500000 ], refinement level:0, dK=[0.1 0.1 0.1]  \n",
      " K-point 116 : coord in rec.lattice = [   0.100000  ,   0.100000 ,    0.600000 ], refinement level:0, dK=[0.1 0.1 0.1]  \n",
      " K-point 117 : coord in rec.lattice = [   0.100000  ,   0.100000 ,    0.700000 ], refinement level:0, dK=[0.1 0.1 0.1]  \n",
      " K-point 118 : coord in rec.lattice = [   0.100000  ,   0.100000 ,    0.800000 ], refinement level:0, dK=[0.1 0.1 0.1]  \n",
      " K-point 119 : coord in rec.lattice = [   0.100000  ,   0.100000 ,    0.900000 ], refinement level:0, dK=[0.1 0.1 0.1]  \n",
      " K-point 120 : coord in rec.lattice = [   0.100000  ,   0.200000 ,    0.000000 ], refinement level:0, dK=[0.1 0.1 0.1]  \n",
      " K-point 121 : coord in rec.lattice = [   0.100000  ,   0.200000 ,    0.100000 ], refinement level:0, dK=[0.1 0.1 0.1]  \n",
      " K-point 122 : coord in rec.lattice = [   0.100000  ,   0.200000 ,    0.200000 ], refinement level:0, dK=[0.1 0.1 0.1]  \n",
      " K-point 123 : coord in rec.lattice = [   0.100000  ,   0.200000 ,    0.300000 ], refinement level:0, dK=[0.1 0.1 0.1]  \n",
      " K-point 124 : coord in rec.lattice = [   0.100000  ,   0.200000 ,    0.400000 ], refinement level:0, dK=[0.1 0.1 0.1]  \n",
      " K-point 125 : coord in rec.lattice = [   0.100000  ,   0.200000 ,    0.500000 ], refinement level:0, dK=[0.1 0.1 0.1]  \n",
      " K-point 126 : coord in rec.lattice = [   0.100000  ,   0.200000 ,    0.600000 ], refinement level:0, dK=[0.1 0.1 0.1]  \n",
      " K-point 127 : coord in rec.lattice = [   0.100000  ,   0.200000 ,    0.700000 ], refinement level:0, dK=[0.1 0.1 0.1]  \n",
      " K-point 128 : coord in rec.lattice = [   0.100000  ,   0.200000 ,    0.800000 ], refinement level:0, dK=[0.1 0.1 0.1]  \n",
      " K-point 129 : coord in rec.lattice = [   0.100000  ,   0.200000 ,    0.900000 ], refinement level:0, dK=[0.1 0.1 0.1]  \n",
      " K-point 130 : coord in rec.lattice = [   0.100000  ,   0.300000 ,    0.000000 ], refinement level:0, dK=[0.1 0.1 0.1]  \n",
      " K-point 131 : coord in rec.lattice = [   0.100000  ,   0.300000 ,    0.100000 ], refinement level:0, dK=[0.1 0.1 0.1]  \n",
      " K-point 132 : coord in rec.lattice = [   0.100000  ,   0.300000 ,    0.200000 ], refinement level:0, dK=[0.1 0.1 0.1]  \n",
      " K-point 133 : coord in rec.lattice = [   0.100000  ,   0.300000 ,    0.300000 ], refinement level:0, dK=[0.1 0.1 0.1]  \n",
      " K-point 134 : coord in rec.lattice = [   0.100000  ,   0.300000 ,    0.400000 ], refinement level:0, dK=[0.1 0.1 0.1]  \n",
      " K-point 135 : coord in rec.lattice = [   0.100000  ,   0.300000 ,    0.500000 ], refinement level:0, dK=[0.1 0.1 0.1]  \n",
      " K-point 136 : coord in rec.lattice = [   0.100000  ,   0.300000 ,    0.600000 ], refinement level:0, dK=[0.1 0.1 0.1]  \n",
      " K-point 137 : coord in rec.lattice = [   0.100000  ,   0.300000 ,    0.700000 ], refinement level:0, dK=[0.1 0.1 0.1]  \n",
      " K-point 138 : coord in rec.lattice = [   0.100000  ,   0.300000 ,    0.800000 ], refinement level:0, dK=[0.1 0.1 0.1]  \n",
      " K-point 139 : coord in rec.lattice = [   0.100000  ,   0.300000 ,    0.900000 ], refinement level:0, dK=[0.1 0.1 0.1]  \n",
      " K-point 140 : coord in rec.lattice = [   0.100000  ,   0.400000 ,    0.000000 ], refinement level:0, dK=[0.1 0.1 0.1]  \n",
      " K-point 141 : coord in rec.lattice = [   0.100000  ,   0.400000 ,    0.100000 ], refinement level:0, dK=[0.1 0.1 0.1]  \n",
      " K-point 142 : coord in rec.lattice = [   0.100000  ,   0.400000 ,    0.200000 ], refinement level:0, dK=[0.1 0.1 0.1]  \n",
      " K-point 143 : coord in rec.lattice = [   0.100000  ,   0.400000 ,    0.300000 ], refinement level:0, dK=[0.1 0.1 0.1]  \n",
      " K-point 144 : coord in rec.lattice = [   0.100000  ,   0.400000 ,    0.400000 ], refinement level:0, dK=[0.1 0.1 0.1]  \n",
      " K-point 145 : coord in rec.lattice = [   0.100000  ,   0.400000 ,    0.500000 ], refinement level:0, dK=[0.1 0.1 0.1]  \n",
      " K-point 146 : coord in rec.lattice = [   0.100000  ,   0.400000 ,    0.600000 ], refinement level:0, dK=[0.1 0.1 0.1]  \n",
      " K-point 147 : coord in rec.lattice = [   0.100000  ,   0.400000 ,    0.700000 ], refinement level:0, dK=[0.1 0.1 0.1]  \n",
      " K-point 148 : coord in rec.lattice = [   0.100000  ,   0.400000 ,    0.800000 ], refinement level:0, dK=[0.1 0.1 0.1]  \n",
      " K-point 149 : coord in rec.lattice = [   0.100000  ,   0.400000 ,    0.900000 ], refinement level:0, dK=[0.1 0.1 0.1]  \n",
      " K-point 150 : coord in rec.lattice = [   0.100000  ,   0.500000 ,    0.000000 ], refinement level:0, dK=[0.1 0.1 0.1]  \n",
      " K-point 151 : coord in rec.lattice = [   0.100000  ,   0.500000 ,    0.100000 ], refinement level:0, dK=[0.1 0.1 0.1]  \n",
      " K-point 152 : coord in rec.lattice = [   0.100000  ,   0.500000 ,    0.200000 ], refinement level:0, dK=[0.1 0.1 0.1]  \n",
      " K-point 153 : coord in rec.lattice = [   0.100000  ,   0.500000 ,    0.300000 ], refinement level:0, dK=[0.1 0.1 0.1]  \n",
      " K-point 154 : coord in rec.lattice = [   0.100000  ,   0.500000 ,    0.400000 ], refinement level:0, dK=[0.1 0.1 0.1]  \n",
      " K-point 155 : coord in rec.lattice = [   0.100000  ,   0.500000 ,    0.500000 ], refinement level:0, dK=[0.1 0.1 0.1]  \n",
      " K-point 156 : coord in rec.lattice = [   0.100000  ,   0.500000 ,    0.600000 ], refinement level:0, dK=[0.1 0.1 0.1]  \n",
      " K-point 157 : coord in rec.lattice = [   0.100000  ,   0.500000 ,    0.700000 ], refinement level:0, dK=[0.1 0.1 0.1]  \n",
      " K-point 158 : coord in rec.lattice = [   0.100000  ,   0.500000 ,    0.800000 ], refinement level:0, dK=[0.1 0.1 0.1]  \n",
      " K-point 159 : coord in rec.lattice = [   0.100000  ,   0.500000 ,    0.900000 ], refinement level:0, dK=[0.1 0.1 0.1]  \n",
      " K-point 160 : coord in rec.lattice = [   0.100000  ,   0.600000 ,    0.000000 ], refinement level:0, dK=[0.1 0.1 0.1]  \n",
      " K-point 161 : coord in rec.lattice = [   0.100000  ,   0.600000 ,    0.100000 ], refinement level:0, dK=[0.1 0.1 0.1]  \n",
      " K-point 162 : coord in rec.lattice = [   0.100000  ,   0.600000 ,    0.200000 ], refinement level:0, dK=[0.1 0.1 0.1]  \n",
      " K-point 163 : coord in rec.lattice = [   0.100000  ,   0.600000 ,    0.300000 ], refinement level:0, dK=[0.1 0.1 0.1]  \n",
      " K-point 164 : coord in rec.lattice = [   0.100000  ,   0.600000 ,    0.400000 ], refinement level:0, dK=[0.1 0.1 0.1]  \n",
      " K-point 165 : coord in rec.lattice = [   0.100000  ,   0.600000 ,    0.500000 ], refinement level:0, dK=[0.1 0.1 0.1]  \n",
      " K-point 166 : coord in rec.lattice = [   0.100000  ,   0.600000 ,    0.600000 ], refinement level:0, dK=[0.1 0.1 0.1]  \n",
      " K-point 167 : coord in rec.lattice = [   0.100000  ,   0.600000 ,    0.700000 ], refinement level:0, dK=[0.1 0.1 0.1]  \n",
      " K-point 168 : coord in rec.lattice = [   0.100000  ,   0.600000 ,    0.800000 ], refinement level:0, dK=[0.1 0.1 0.1]  \n",
      " K-point 169 : coord in rec.lattice = [   0.100000  ,   0.600000 ,    0.900000 ], refinement level:0, dK=[0.1 0.1 0.1]  \n",
      " K-point 170 : coord in rec.lattice = [   0.100000  ,   0.700000 ,    0.000000 ], refinement level:0, dK=[0.1 0.1 0.1]  \n",
      " K-point 171 : coord in rec.lattice = [   0.100000  ,   0.700000 ,    0.100000 ], refinement level:0, dK=[0.1 0.1 0.1]  \n",
      " K-point 172 : coord in rec.lattice = [   0.100000  ,   0.700000 ,    0.200000 ], refinement level:0, dK=[0.1 0.1 0.1]  \n",
      " K-point 173 : coord in rec.lattice = [   0.100000  ,   0.700000 ,    0.300000 ], refinement level:0, dK=[0.1 0.1 0.1]  \n",
      " K-point 174 : coord in rec.lattice = [   0.100000  ,   0.700000 ,    0.400000 ], refinement level:0, dK=[0.1 0.1 0.1]  \n",
      " K-point 175 : coord in rec.lattice = [   0.100000  ,   0.700000 ,    0.500000 ], refinement level:0, dK=[0.1 0.1 0.1]  \n",
      " K-point 176 : coord in rec.lattice = [   0.100000  ,   0.700000 ,    0.600000 ], refinement level:0, dK=[0.1 0.1 0.1]  \n",
      " K-point 177 : coord in rec.lattice = [   0.100000  ,   0.700000 ,    0.700000 ], refinement level:0, dK=[0.1 0.1 0.1]  \n",
      " K-point 178 : coord in rec.lattice = [   0.100000  ,   0.700000 ,    0.800000 ], refinement level:0, dK=[0.1 0.1 0.1]  \n",
      " K-point 179 : coord in rec.lattice = [   0.100000  ,   0.700000 ,    0.900000 ], refinement level:0, dK=[0.1 0.1 0.1]  \n",
      " K-point 180 : coord in rec.lattice = [   0.100000  ,   0.800000 ,    0.000000 ], refinement level:0, dK=[0.1 0.1 0.1]  \n",
      " K-point 181 : coord in rec.lattice = [   0.100000  ,   0.800000 ,    0.100000 ], refinement level:0, dK=[0.1 0.1 0.1]  \n",
      " K-point 182 : coord in rec.lattice = [   0.100000  ,   0.800000 ,    0.200000 ], refinement level:0, dK=[0.1 0.1 0.1]  \n",
      " K-point 183 : coord in rec.lattice = [   0.100000  ,   0.800000 ,    0.300000 ], refinement level:0, dK=[0.1 0.1 0.1]  \n",
      " K-point 184 : coord in rec.lattice = [   0.100000  ,   0.800000 ,    0.400000 ], refinement level:0, dK=[0.1 0.1 0.1]  \n",
      " K-point 185 : coord in rec.lattice = [   0.100000  ,   0.800000 ,    0.500000 ], refinement level:0, dK=[0.1 0.1 0.1]  \n",
      " K-point 186 : coord in rec.lattice = [   0.100000  ,   0.800000 ,    0.600000 ], refinement level:0, dK=[0.1 0.1 0.1]  \n",
      " K-point 187 : coord in rec.lattice = [   0.100000  ,   0.800000 ,    0.700000 ], refinement level:0, dK=[0.1 0.1 0.1]  \n",
      " K-point 188 : coord in rec.lattice = [   0.100000  ,   0.800000 ,    0.800000 ], refinement level:0, dK=[0.1 0.1 0.1]  \n",
      " K-point 189 : coord in rec.lattice = [   0.100000  ,   0.800000 ,    0.900000 ], refinement level:0, dK=[0.1 0.1 0.1]  \n",
      " K-point 190 : coord in rec.lattice = [   0.100000  ,   0.900000 ,    0.000000 ], refinement level:0, dK=[0.1 0.1 0.1]  \n",
      " K-point 191 : coord in rec.lattice = [   0.100000  ,   0.900000 ,    0.100000 ], refinement level:0, dK=[0.1 0.1 0.1]  \n",
      " K-point 192 : coord in rec.lattice = [   0.100000  ,   0.900000 ,    0.200000 ], refinement level:0, dK=[0.1 0.1 0.1]  \n",
      " K-point 193 : coord in rec.lattice = [   0.100000  ,   0.900000 ,    0.300000 ], refinement level:0, dK=[0.1 0.1 0.1]  \n",
      " K-point 194 : coord in rec.lattice = [   0.100000  ,   0.900000 ,    0.400000 ], refinement level:0, dK=[0.1 0.1 0.1]  \n",
      " K-point 195 : coord in rec.lattice = [   0.100000  ,   0.900000 ,    0.500000 ], refinement level:0, dK=[0.1 0.1 0.1]  \n",
      " K-point 196 : coord in rec.lattice = [   0.100000  ,   0.900000 ,    0.600000 ], refinement level:0, dK=[0.1 0.1 0.1]  \n",
      " K-point 197 : coord in rec.lattice = [   0.100000  ,   0.900000 ,    0.700000 ], refinement level:0, dK=[0.1 0.1 0.1]  \n",
      " K-point 198 : coord in rec.lattice = [   0.100000  ,   0.900000 ,    0.800000 ], refinement level:0, dK=[0.1 0.1 0.1]  \n",
      " K-point 199 : coord in rec.lattice = [   0.100000  ,   0.900000 ,    0.900000 ], refinement level:0, dK=[0.1 0.1 0.1]  \n",
      " K-point 200 : coord in rec.lattice = [   0.200000  ,   0.000000 ,    0.000000 ], refinement level:0, dK=[0.1 0.1 0.1]  \n",
      " K-point 201 : coord in rec.lattice = [   0.200000  ,   0.000000 ,    0.100000 ], refinement level:0, dK=[0.1 0.1 0.1]  \n",
      " K-point 202 : coord in rec.lattice = [   0.200000  ,   0.000000 ,    0.200000 ], refinement level:0, dK=[0.1 0.1 0.1]  \n",
      " K-point 203 : coord in rec.lattice = [   0.200000  ,   0.000000 ,    0.300000 ], refinement level:0, dK=[0.1 0.1 0.1]  \n",
      " K-point 204 : coord in rec.lattice = [   0.200000  ,   0.000000 ,    0.400000 ], refinement level:0, dK=[0.1 0.1 0.1]  \n",
      " K-point 205 : coord in rec.lattice = [   0.200000  ,   0.000000 ,    0.500000 ], refinement level:0, dK=[0.1 0.1 0.1]  \n",
      " K-point 206 : coord in rec.lattice = [   0.200000  ,   0.000000 ,    0.600000 ], refinement level:0, dK=[0.1 0.1 0.1]  \n",
      " K-point 207 : coord in rec.lattice = [   0.200000  ,   0.000000 ,    0.700000 ], refinement level:0, dK=[0.1 0.1 0.1]  \n",
      " K-point 208 : coord in rec.lattice = [   0.200000  ,   0.000000 ,    0.800000 ], refinement level:0, dK=[0.1 0.1 0.1]  \n",
      " K-point 209 : coord in rec.lattice = [   0.200000  ,   0.000000 ,    0.900000 ], refinement level:0, dK=[0.1 0.1 0.1]  \n",
      " K-point 210 : coord in rec.lattice = [   0.200000  ,   0.100000 ,    0.000000 ], refinement level:0, dK=[0.1 0.1 0.1]  \n",
      " K-point 211 : coord in rec.lattice = [   0.200000  ,   0.100000 ,    0.100000 ], refinement level:0, dK=[0.1 0.1 0.1]  \n",
      " K-point 212 : coord in rec.lattice = [   0.200000  ,   0.100000 ,    0.200000 ], refinement level:0, dK=[0.1 0.1 0.1]  \n",
      " K-point 213 : coord in rec.lattice = [   0.200000  ,   0.100000 ,    0.300000 ], refinement level:0, dK=[0.1 0.1 0.1]  \n",
      " K-point 214 : coord in rec.lattice = [   0.200000  ,   0.100000 ,    0.400000 ], refinement level:0, dK=[0.1 0.1 0.1]  \n",
      " K-point 215 : coord in rec.lattice = [   0.200000  ,   0.100000 ,    0.500000 ], refinement level:0, dK=[0.1 0.1 0.1]  \n",
      " K-point 216 : coord in rec.lattice = [   0.200000  ,   0.100000 ,    0.600000 ], refinement level:0, dK=[0.1 0.1 0.1]  \n",
      " K-point 217 : coord in rec.lattice = [   0.200000  ,   0.100000 ,    0.700000 ], refinement level:0, dK=[0.1 0.1 0.1]  \n",
      " K-point 218 : coord in rec.lattice = [   0.200000  ,   0.100000 ,    0.800000 ], refinement level:0, dK=[0.1 0.1 0.1]  \n",
      " K-point 219 : coord in rec.lattice = [   0.200000  ,   0.100000 ,    0.900000 ], refinement level:0, dK=[0.1 0.1 0.1]  \n",
      " K-point 220 : coord in rec.lattice = [   0.200000  ,   0.200000 ,    0.000000 ], refinement level:0, dK=[0.1 0.1 0.1]  \n",
      " K-point 221 : coord in rec.lattice = [   0.200000  ,   0.200000 ,    0.100000 ], refinement level:0, dK=[0.1 0.1 0.1]  \n",
      " K-point 222 : coord in rec.lattice = [   0.200000  ,   0.200000 ,    0.200000 ], refinement level:0, dK=[0.1 0.1 0.1]  \n",
      " K-point 223 : coord in rec.lattice = [   0.200000  ,   0.200000 ,    0.300000 ], refinement level:0, dK=[0.1 0.1 0.1]  \n",
      " K-point 224 : coord in rec.lattice = [   0.200000  ,   0.200000 ,    0.400000 ], refinement level:0, dK=[0.1 0.1 0.1]  \n",
      " K-point 225 : coord in rec.lattice = [   0.200000  ,   0.200000 ,    0.500000 ], refinement level:0, dK=[0.1 0.1 0.1]  \n",
      " K-point 226 : coord in rec.lattice = [   0.200000  ,   0.200000 ,    0.600000 ], refinement level:0, dK=[0.1 0.1 0.1]  \n",
      " K-point 227 : coord in rec.lattice = [   0.200000  ,   0.200000 ,    0.700000 ], refinement level:0, dK=[0.1 0.1 0.1]  \n",
      " K-point 228 : coord in rec.lattice = [   0.200000  ,   0.200000 ,    0.800000 ], refinement level:0, dK=[0.1 0.1 0.1]  \n",
      " K-point 229 : coord in rec.lattice = [   0.200000  ,   0.200000 ,    0.900000 ], refinement level:0, dK=[0.1 0.1 0.1]  \n",
      " K-point 230 : coord in rec.lattice = [   0.200000  ,   0.300000 ,    0.000000 ], refinement level:0, dK=[0.1 0.1 0.1]  \n",
      " K-point 231 : coord in rec.lattice = [   0.200000  ,   0.300000 ,    0.100000 ], refinement level:0, dK=[0.1 0.1 0.1]  \n",
      " K-point 232 : coord in rec.lattice = [   0.200000  ,   0.300000 ,    0.200000 ], refinement level:0, dK=[0.1 0.1 0.1]  \n",
      " K-point 233 : coord in rec.lattice = [   0.200000  ,   0.300000 ,    0.300000 ], refinement level:0, dK=[0.1 0.1 0.1]  \n",
      " K-point 234 : coord in rec.lattice = [   0.200000  ,   0.300000 ,    0.400000 ], refinement level:0, dK=[0.1 0.1 0.1]  \n",
      " K-point 235 : coord in rec.lattice = [   0.200000  ,   0.300000 ,    0.500000 ], refinement level:0, dK=[0.1 0.1 0.1]  \n",
      " K-point 236 : coord in rec.lattice = [   0.200000  ,   0.300000 ,    0.600000 ], refinement level:0, dK=[0.1 0.1 0.1]  \n",
      " K-point 237 : coord in rec.lattice = [   0.200000  ,   0.300000 ,    0.700000 ], refinement level:0, dK=[0.1 0.1 0.1]  \n",
      " K-point 238 : coord in rec.lattice = [   0.200000  ,   0.300000 ,    0.800000 ], refinement level:0, dK=[0.1 0.1 0.1]  \n",
      " K-point 239 : coord in rec.lattice = [   0.200000  ,   0.300000 ,    0.900000 ], refinement level:0, dK=[0.1 0.1 0.1]  \n",
      " K-point 240 : coord in rec.lattice = [   0.200000  ,   0.400000 ,    0.000000 ], refinement level:0, dK=[0.1 0.1 0.1]  \n",
      " K-point 241 : coord in rec.lattice = [   0.200000  ,   0.400000 ,    0.100000 ], refinement level:0, dK=[0.1 0.1 0.1]  \n",
      " K-point 242 : coord in rec.lattice = [   0.200000  ,   0.400000 ,    0.200000 ], refinement level:0, dK=[0.1 0.1 0.1]  \n",
      " K-point 243 : coord in rec.lattice = [   0.200000  ,   0.400000 ,    0.300000 ], refinement level:0, dK=[0.1 0.1 0.1]  \n",
      " K-point 244 : coord in rec.lattice = [   0.200000  ,   0.400000 ,    0.400000 ], refinement level:0, dK=[0.1 0.1 0.1]  \n",
      " K-point 245 : coord in rec.lattice = [   0.200000  ,   0.400000 ,    0.500000 ], refinement level:0, dK=[0.1 0.1 0.1]  \n",
      " K-point 246 : coord in rec.lattice = [   0.200000  ,   0.400000 ,    0.600000 ], refinement level:0, dK=[0.1 0.1 0.1]  \n",
      " K-point 247 : coord in rec.lattice = [   0.200000  ,   0.400000 ,    0.700000 ], refinement level:0, dK=[0.1 0.1 0.1]  \n",
      " K-point 248 : coord in rec.lattice = [   0.200000  ,   0.400000 ,    0.800000 ], refinement level:0, dK=[0.1 0.1 0.1]  \n",
      " K-point 249 : coord in rec.lattice = [   0.200000  ,   0.400000 ,    0.900000 ], refinement level:0, dK=[0.1 0.1 0.1]  \n",
      " K-point 250 : coord in rec.lattice = [   0.200000  ,   0.500000 ,    0.000000 ], refinement level:0, dK=[0.1 0.1 0.1]  \n",
      " K-point 251 : coord in rec.lattice = [   0.200000  ,   0.500000 ,    0.100000 ], refinement level:0, dK=[0.1 0.1 0.1]  \n",
      " K-point 252 : coord in rec.lattice = [   0.200000  ,   0.500000 ,    0.200000 ], refinement level:0, dK=[0.1 0.1 0.1]  \n",
      " K-point 253 : coord in rec.lattice = [   0.200000  ,   0.500000 ,    0.300000 ], refinement level:0, dK=[0.1 0.1 0.1]  \n",
      " K-point 254 : coord in rec.lattice = [   0.200000  ,   0.500000 ,    0.400000 ], refinement level:0, dK=[0.1 0.1 0.1]  \n",
      " K-point 255 : coord in rec.lattice = [   0.200000  ,   0.500000 ,    0.500000 ], refinement level:0, dK=[0.1 0.1 0.1]  \n",
      " K-point 256 : coord in rec.lattice = [   0.200000  ,   0.500000 ,    0.600000 ], refinement level:0, dK=[0.1 0.1 0.1]  \n",
      " K-point 257 : coord in rec.lattice = [   0.200000  ,   0.500000 ,    0.700000 ], refinement level:0, dK=[0.1 0.1 0.1]  \n",
      " K-point 258 : coord in rec.lattice = [   0.200000  ,   0.500000 ,    0.800000 ], refinement level:0, dK=[0.1 0.1 0.1]  \n",
      " K-point 259 : coord in rec.lattice = [   0.200000  ,   0.500000 ,    0.900000 ], refinement level:0, dK=[0.1 0.1 0.1]  \n",
      " K-point 260 : coord in rec.lattice = [   0.200000  ,   0.600000 ,    0.000000 ], refinement level:0, dK=[0.1 0.1 0.1]  \n",
      " K-point 261 : coord in rec.lattice = [   0.200000  ,   0.600000 ,    0.100000 ], refinement level:0, dK=[0.1 0.1 0.1]  \n",
      " K-point 262 : coord in rec.lattice = [   0.200000  ,   0.600000 ,    0.200000 ], refinement level:0, dK=[0.1 0.1 0.1]  \n",
      " K-point 263 : coord in rec.lattice = [   0.200000  ,   0.600000 ,    0.300000 ], refinement level:0, dK=[0.1 0.1 0.1]  \n",
      " K-point 264 : coord in rec.lattice = [   0.200000  ,   0.600000 ,    0.400000 ], refinement level:0, dK=[0.1 0.1 0.1]  \n",
      " K-point 265 : coord in rec.lattice = [   0.200000  ,   0.600000 ,    0.500000 ], refinement level:0, dK=[0.1 0.1 0.1]  \n",
      " K-point 266 : coord in rec.lattice = [   0.200000  ,   0.600000 ,    0.600000 ], refinement level:0, dK=[0.1 0.1 0.1]  \n",
      " K-point 267 : coord in rec.lattice = [   0.200000  ,   0.600000 ,    0.700000 ], refinement level:0, dK=[0.1 0.1 0.1]  \n",
      " K-point 268 : coord in rec.lattice = [   0.200000  ,   0.600000 ,    0.800000 ], refinement level:0, dK=[0.1 0.1 0.1]  \n",
      " K-point 269 : coord in rec.lattice = [   0.200000  ,   0.600000 ,    0.900000 ], refinement level:0, dK=[0.1 0.1 0.1]  \n",
      " K-point 270 : coord in rec.lattice = [   0.200000  ,   0.700000 ,    0.000000 ], refinement level:0, dK=[0.1 0.1 0.1]  \n",
      " K-point 271 : coord in rec.lattice = [   0.200000  ,   0.700000 ,    0.100000 ], refinement level:0, dK=[0.1 0.1 0.1]  \n",
      " K-point 272 : coord in rec.lattice = [   0.200000  ,   0.700000 ,    0.200000 ], refinement level:0, dK=[0.1 0.1 0.1]  \n",
      " K-point 273 : coord in rec.lattice = [   0.200000  ,   0.700000 ,    0.300000 ], refinement level:0, dK=[0.1 0.1 0.1]  \n",
      " K-point 274 : coord in rec.lattice = [   0.200000  ,   0.700000 ,    0.400000 ], refinement level:0, dK=[0.1 0.1 0.1]  \n",
      " K-point 275 : coord in rec.lattice = [   0.200000  ,   0.700000 ,    0.500000 ], refinement level:0, dK=[0.1 0.1 0.1]  \n",
      " K-point 276 : coord in rec.lattice = [   0.200000  ,   0.700000 ,    0.600000 ], refinement level:0, dK=[0.1 0.1 0.1]  \n",
      " K-point 277 : coord in rec.lattice = [   0.200000  ,   0.700000 ,    0.700000 ], refinement level:0, dK=[0.1 0.1 0.1]  \n",
      " K-point 278 : coord in rec.lattice = [   0.200000  ,   0.700000 ,    0.800000 ], refinement level:0, dK=[0.1 0.1 0.1]  \n",
      " K-point 279 : coord in rec.lattice = [   0.200000  ,   0.700000 ,    0.900000 ], refinement level:0, dK=[0.1 0.1 0.1]  \n",
      " K-point 280 : coord in rec.lattice = [   0.200000  ,   0.800000 ,    0.000000 ], refinement level:0, dK=[0.1 0.1 0.1]  \n",
      " K-point 281 : coord in rec.lattice = [   0.200000  ,   0.800000 ,    0.100000 ], refinement level:0, dK=[0.1 0.1 0.1]  \n",
      " K-point 282 : coord in rec.lattice = [   0.200000  ,   0.800000 ,    0.200000 ], refinement level:0, dK=[0.1 0.1 0.1]  \n",
      " K-point 283 : coord in rec.lattice = [   0.200000  ,   0.800000 ,    0.300000 ], refinement level:0, dK=[0.1 0.1 0.1]  \n",
      " K-point 284 : coord in rec.lattice = [   0.200000  ,   0.800000 ,    0.400000 ], refinement level:0, dK=[0.1 0.1 0.1]  \n",
      " K-point 285 : coord in rec.lattice = [   0.200000  ,   0.800000 ,    0.500000 ], refinement level:0, dK=[0.1 0.1 0.1]  \n",
      " K-point 286 : coord in rec.lattice = [   0.200000  ,   0.800000 ,    0.600000 ], refinement level:0, dK=[0.1 0.1 0.1]  \n",
      " K-point 287 : coord in rec.lattice = [   0.200000  ,   0.800000 ,    0.700000 ], refinement level:0, dK=[0.1 0.1 0.1]  \n",
      " K-point 288 : coord in rec.lattice = [   0.200000  ,   0.800000 ,    0.800000 ], refinement level:0, dK=[0.1 0.1 0.1]  \n",
      " K-point 289 : coord in rec.lattice = [   0.200000  ,   0.800000 ,    0.900000 ], refinement level:0, dK=[0.1 0.1 0.1]  \n",
      " K-point 290 : coord in rec.lattice = [   0.200000  ,   0.900000 ,    0.000000 ], refinement level:0, dK=[0.1 0.1 0.1]  \n",
      " K-point 291 : coord in rec.lattice = [   0.200000  ,   0.900000 ,    0.100000 ], refinement level:0, dK=[0.1 0.1 0.1]  \n",
      " K-point 292 : coord in rec.lattice = [   0.200000  ,   0.900000 ,    0.200000 ], refinement level:0, dK=[0.1 0.1 0.1]  \n",
      " K-point 293 : coord in rec.lattice = [   0.200000  ,   0.900000 ,    0.300000 ], refinement level:0, dK=[0.1 0.1 0.1]  \n",
      " K-point 294 : coord in rec.lattice = [   0.200000  ,   0.900000 ,    0.400000 ], refinement level:0, dK=[0.1 0.1 0.1]  \n",
      " K-point 295 : coord in rec.lattice = [   0.200000  ,   0.900000 ,    0.500000 ], refinement level:0, dK=[0.1 0.1 0.1]  \n",
      " K-point 296 : coord in rec.lattice = [   0.200000  ,   0.900000 ,    0.600000 ], refinement level:0, dK=[0.1 0.1 0.1]  \n",
      " K-point 297 : coord in rec.lattice = [   0.200000  ,   0.900000 ,    0.700000 ], refinement level:0, dK=[0.1 0.1 0.1]  \n",
      " K-point 298 : coord in rec.lattice = [   0.200000  ,   0.900000 ,    0.800000 ], refinement level:0, dK=[0.1 0.1 0.1]  \n",
      " K-point 299 : coord in rec.lattice = [   0.200000  ,   0.900000 ,    0.900000 ], refinement level:0, dK=[0.1 0.1 0.1]  \n",
      " K-point 300 : coord in rec.lattice = [   0.300000  ,   0.000000 ,    0.000000 ], refinement level:0, dK=[0.1 0.1 0.1]  \n",
      " K-point 301 : coord in rec.lattice = [   0.300000  ,   0.000000 ,    0.100000 ], refinement level:0, dK=[0.1 0.1 0.1]  \n",
      " K-point 302 : coord in rec.lattice = [   0.300000  ,   0.000000 ,    0.200000 ], refinement level:0, dK=[0.1 0.1 0.1]  \n",
      " K-point 303 : coord in rec.lattice = [   0.300000  ,   0.000000 ,    0.300000 ], refinement level:0, dK=[0.1 0.1 0.1]  \n",
      " K-point 304 : coord in rec.lattice = [   0.300000  ,   0.000000 ,    0.400000 ], refinement level:0, dK=[0.1 0.1 0.1]  \n",
      " K-point 305 : coord in rec.lattice = [   0.300000  ,   0.000000 ,    0.500000 ], refinement level:0, dK=[0.1 0.1 0.1]  \n",
      " K-point 306 : coord in rec.lattice = [   0.300000  ,   0.000000 ,    0.600000 ], refinement level:0, dK=[0.1 0.1 0.1]  \n",
      " K-point 307 : coord in rec.lattice = [   0.300000  ,   0.000000 ,    0.700000 ], refinement level:0, dK=[0.1 0.1 0.1]  \n",
      " K-point 308 : coord in rec.lattice = [   0.300000  ,   0.000000 ,    0.800000 ], refinement level:0, dK=[0.1 0.1 0.1]  \n",
      " K-point 309 : coord in rec.lattice = [   0.300000  ,   0.000000 ,    0.900000 ], refinement level:0, dK=[0.1 0.1 0.1]  \n",
      " K-point 310 : coord in rec.lattice = [   0.300000  ,   0.100000 ,    0.000000 ], refinement level:0, dK=[0.1 0.1 0.1]  \n",
      " K-point 311 : coord in rec.lattice = [   0.300000  ,   0.100000 ,    0.100000 ], refinement level:0, dK=[0.1 0.1 0.1]  \n",
      " K-point 312 : coord in rec.lattice = [   0.300000  ,   0.100000 ,    0.200000 ], refinement level:0, dK=[0.1 0.1 0.1]  \n",
      " K-point 313 : coord in rec.lattice = [   0.300000  ,   0.100000 ,    0.300000 ], refinement level:0, dK=[0.1 0.1 0.1]  \n",
      " K-point 314 : coord in rec.lattice = [   0.300000  ,   0.100000 ,    0.400000 ], refinement level:0, dK=[0.1 0.1 0.1]  \n",
      " K-point 315 : coord in rec.lattice = [   0.300000  ,   0.100000 ,    0.500000 ], refinement level:0, dK=[0.1 0.1 0.1]  \n",
      " K-point 316 : coord in rec.lattice = [   0.300000  ,   0.100000 ,    0.600000 ], refinement level:0, dK=[0.1 0.1 0.1]  \n",
      " K-point 317 : coord in rec.lattice = [   0.300000  ,   0.100000 ,    0.700000 ], refinement level:0, dK=[0.1 0.1 0.1]  \n",
      " K-point 318 : coord in rec.lattice = [   0.300000  ,   0.100000 ,    0.800000 ], refinement level:0, dK=[0.1 0.1 0.1]  \n",
      " K-point 319 : coord in rec.lattice = [   0.300000  ,   0.100000 ,    0.900000 ], refinement level:0, dK=[0.1 0.1 0.1]  \n",
      " K-point 320 : coord in rec.lattice = [   0.300000  ,   0.200000 ,    0.000000 ], refinement level:0, dK=[0.1 0.1 0.1]  \n",
      " K-point 321 : coord in rec.lattice = [   0.300000  ,   0.200000 ,    0.100000 ], refinement level:0, dK=[0.1 0.1 0.1]  \n",
      " K-point 322 : coord in rec.lattice = [   0.300000  ,   0.200000 ,    0.200000 ], refinement level:0, dK=[0.1 0.1 0.1]  \n",
      " K-point 323 : coord in rec.lattice = [   0.300000  ,   0.200000 ,    0.300000 ], refinement level:0, dK=[0.1 0.1 0.1]  \n",
      " K-point 324 : coord in rec.lattice = [   0.300000  ,   0.200000 ,    0.400000 ], refinement level:0, dK=[0.1 0.1 0.1]  \n",
      " K-point 325 : coord in rec.lattice = [   0.300000  ,   0.200000 ,    0.500000 ], refinement level:0, dK=[0.1 0.1 0.1]  \n",
      " K-point 326 : coord in rec.lattice = [   0.300000  ,   0.200000 ,    0.600000 ], refinement level:0, dK=[0.1 0.1 0.1]  \n",
      " K-point 327 : coord in rec.lattice = [   0.300000  ,   0.200000 ,    0.700000 ], refinement level:0, dK=[0.1 0.1 0.1]  \n",
      " K-point 328 : coord in rec.lattice = [   0.300000  ,   0.200000 ,    0.800000 ], refinement level:0, dK=[0.1 0.1 0.1]  \n",
      " K-point 329 : coord in rec.lattice = [   0.300000  ,   0.200000 ,    0.900000 ], refinement level:0, dK=[0.1 0.1 0.1]  \n",
      " K-point 330 : coord in rec.lattice = [   0.300000  ,   0.300000 ,    0.000000 ], refinement level:0, dK=[0.1 0.1 0.1]  \n",
      " K-point 331 : coord in rec.lattice = [   0.300000  ,   0.300000 ,    0.100000 ], refinement level:0, dK=[0.1 0.1 0.1]  \n",
      " K-point 332 : coord in rec.lattice = [   0.300000  ,   0.300000 ,    0.200000 ], refinement level:0, dK=[0.1 0.1 0.1]  \n",
      " K-point 333 : coord in rec.lattice = [   0.300000  ,   0.300000 ,    0.300000 ], refinement level:0, dK=[0.1 0.1 0.1]  \n",
      " K-point 334 : coord in rec.lattice = [   0.300000  ,   0.300000 ,    0.400000 ], refinement level:0, dK=[0.1 0.1 0.1]  \n",
      " K-point 335 : coord in rec.lattice = [   0.300000  ,   0.300000 ,    0.500000 ], refinement level:0, dK=[0.1 0.1 0.1]  \n",
      " K-point 336 : coord in rec.lattice = [   0.300000  ,   0.300000 ,    0.600000 ], refinement level:0, dK=[0.1 0.1 0.1]  \n",
      " K-point 337 : coord in rec.lattice = [   0.300000  ,   0.300000 ,    0.700000 ], refinement level:0, dK=[0.1 0.1 0.1]  \n",
      " K-point 338 : coord in rec.lattice = [   0.300000  ,   0.300000 ,    0.800000 ], refinement level:0, dK=[0.1 0.1 0.1]  \n",
      " K-point 339 : coord in rec.lattice = [   0.300000  ,   0.300000 ,    0.900000 ], refinement level:0, dK=[0.1 0.1 0.1]  \n",
      " K-point 340 : coord in rec.lattice = [   0.300000  ,   0.400000 ,    0.000000 ], refinement level:0, dK=[0.1 0.1 0.1]  \n",
      " K-point 341 : coord in rec.lattice = [   0.300000  ,   0.400000 ,    0.100000 ], refinement level:0, dK=[0.1 0.1 0.1]  \n",
      " K-point 342 : coord in rec.lattice = [   0.300000  ,   0.400000 ,    0.200000 ], refinement level:0, dK=[0.1 0.1 0.1]  \n",
      " K-point 343 : coord in rec.lattice = [   0.300000  ,   0.400000 ,    0.300000 ], refinement level:0, dK=[0.1 0.1 0.1]  \n",
      " K-point 344 : coord in rec.lattice = [   0.300000  ,   0.400000 ,    0.400000 ], refinement level:0, dK=[0.1 0.1 0.1]  \n",
      " K-point 345 : coord in rec.lattice = [   0.300000  ,   0.400000 ,    0.500000 ], refinement level:0, dK=[0.1 0.1 0.1]  \n",
      " K-point 346 : coord in rec.lattice = [   0.300000  ,   0.400000 ,    0.600000 ], refinement level:0, dK=[0.1 0.1 0.1]  \n",
      " K-point 347 : coord in rec.lattice = [   0.300000  ,   0.400000 ,    0.700000 ], refinement level:0, dK=[0.1 0.1 0.1]  \n",
      " K-point 348 : coord in rec.lattice = [   0.300000  ,   0.400000 ,    0.800000 ], refinement level:0, dK=[0.1 0.1 0.1]  \n",
      " K-point 349 : coord in rec.lattice = [   0.300000  ,   0.400000 ,    0.900000 ], refinement level:0, dK=[0.1 0.1 0.1]  \n",
      " K-point 350 : coord in rec.lattice = [   0.300000  ,   0.500000 ,    0.000000 ], refinement level:0, dK=[0.1 0.1 0.1]  \n",
      " K-point 351 : coord in rec.lattice = [   0.300000  ,   0.500000 ,    0.100000 ], refinement level:0, dK=[0.1 0.1 0.1]  \n",
      " K-point 352 : coord in rec.lattice = [   0.300000  ,   0.500000 ,    0.200000 ], refinement level:0, dK=[0.1 0.1 0.1]  \n",
      " K-point 353 : coord in rec.lattice = [   0.300000  ,   0.500000 ,    0.300000 ], refinement level:0, dK=[0.1 0.1 0.1]  \n",
      " K-point 354 : coord in rec.lattice = [   0.300000  ,   0.500000 ,    0.400000 ], refinement level:0, dK=[0.1 0.1 0.1]  \n",
      " K-point 355 : coord in rec.lattice = [   0.300000  ,   0.500000 ,    0.500000 ], refinement level:0, dK=[0.1 0.1 0.1]  \n",
      " K-point 356 : coord in rec.lattice = [   0.300000  ,   0.500000 ,    0.600000 ], refinement level:0, dK=[0.1 0.1 0.1]  \n",
      " K-point 357 : coord in rec.lattice = [   0.300000  ,   0.500000 ,    0.700000 ], refinement level:0, dK=[0.1 0.1 0.1]  \n",
      " K-point 358 : coord in rec.lattice = [   0.300000  ,   0.500000 ,    0.800000 ], refinement level:0, dK=[0.1 0.1 0.1]  \n",
      " K-point 359 : coord in rec.lattice = [   0.300000  ,   0.500000 ,    0.900000 ], refinement level:0, dK=[0.1 0.1 0.1]  \n",
      " K-point 360 : coord in rec.lattice = [   0.300000  ,   0.600000 ,    0.000000 ], refinement level:0, dK=[0.1 0.1 0.1]  \n",
      " K-point 361 : coord in rec.lattice = [   0.300000  ,   0.600000 ,    0.100000 ], refinement level:0, dK=[0.1 0.1 0.1]  \n",
      " K-point 362 : coord in rec.lattice = [   0.300000  ,   0.600000 ,    0.200000 ], refinement level:0, dK=[0.1 0.1 0.1]  \n",
      " K-point 363 : coord in rec.lattice = [   0.300000  ,   0.600000 ,    0.300000 ], refinement level:0, dK=[0.1 0.1 0.1]  \n",
      " K-point 364 : coord in rec.lattice = [   0.300000  ,   0.600000 ,    0.400000 ], refinement level:0, dK=[0.1 0.1 0.1]  \n",
      " K-point 365 : coord in rec.lattice = [   0.300000  ,   0.600000 ,    0.500000 ], refinement level:0, dK=[0.1 0.1 0.1]  \n",
      " K-point 366 : coord in rec.lattice = [   0.300000  ,   0.600000 ,    0.600000 ], refinement level:0, dK=[0.1 0.1 0.1]  \n",
      " K-point 367 : coord in rec.lattice = [   0.300000  ,   0.600000 ,    0.700000 ], refinement level:0, dK=[0.1 0.1 0.1]  \n",
      " K-point 368 : coord in rec.lattice = [   0.300000  ,   0.600000 ,    0.800000 ], refinement level:0, dK=[0.1 0.1 0.1]  \n",
      " K-point 369 : coord in rec.lattice = [   0.300000  ,   0.600000 ,    0.900000 ], refinement level:0, dK=[0.1 0.1 0.1]  \n",
      " K-point 370 : coord in rec.lattice = [   0.300000  ,   0.700000 ,    0.000000 ], refinement level:0, dK=[0.1 0.1 0.1]  \n",
      " K-point 371 : coord in rec.lattice = [   0.300000  ,   0.700000 ,    0.100000 ], refinement level:0, dK=[0.1 0.1 0.1]  \n",
      " K-point 372 : coord in rec.lattice = [   0.300000  ,   0.700000 ,    0.200000 ], refinement level:0, dK=[0.1 0.1 0.1]  \n",
      " K-point 373 : coord in rec.lattice = [   0.300000  ,   0.700000 ,    0.300000 ], refinement level:0, dK=[0.1 0.1 0.1]  \n",
      " K-point 374 : coord in rec.lattice = [   0.300000  ,   0.700000 ,    0.400000 ], refinement level:0, dK=[0.1 0.1 0.1]  \n",
      " K-point 375 : coord in rec.lattice = [   0.300000  ,   0.700000 ,    0.500000 ], refinement level:0, dK=[0.1 0.1 0.1]  \n",
      " K-point 376 : coord in rec.lattice = [   0.300000  ,   0.700000 ,    0.600000 ], refinement level:0, dK=[0.1 0.1 0.1]  \n",
      " K-point 377 : coord in rec.lattice = [   0.300000  ,   0.700000 ,    0.700000 ], refinement level:0, dK=[0.1 0.1 0.1]  \n",
      " K-point 378 : coord in rec.lattice = [   0.300000  ,   0.700000 ,    0.800000 ], refinement level:0, dK=[0.1 0.1 0.1]  \n",
      " K-point 379 : coord in rec.lattice = [   0.300000  ,   0.700000 ,    0.900000 ], refinement level:0, dK=[0.1 0.1 0.1]  \n",
      " K-point 380 : coord in rec.lattice = [   0.300000  ,   0.800000 ,    0.000000 ], refinement level:0, dK=[0.1 0.1 0.1]  \n",
      " K-point 381 : coord in rec.lattice = [   0.300000  ,   0.800000 ,    0.100000 ], refinement level:0, dK=[0.1 0.1 0.1]  \n",
      " K-point 382 : coord in rec.lattice = [   0.300000  ,   0.800000 ,    0.200000 ], refinement level:0, dK=[0.1 0.1 0.1]  \n",
      " K-point 383 : coord in rec.lattice = [   0.300000  ,   0.800000 ,    0.300000 ], refinement level:0, dK=[0.1 0.1 0.1]  \n",
      " K-point 384 : coord in rec.lattice = [   0.300000  ,   0.800000 ,    0.400000 ], refinement level:0, dK=[0.1 0.1 0.1]  \n",
      " K-point 385 : coord in rec.lattice = [   0.300000  ,   0.800000 ,    0.500000 ], refinement level:0, dK=[0.1 0.1 0.1]  \n",
      " K-point 386 : coord in rec.lattice = [   0.300000  ,   0.800000 ,    0.600000 ], refinement level:0, dK=[0.1 0.1 0.1]  \n",
      " K-point 387 : coord in rec.lattice = [   0.300000  ,   0.800000 ,    0.700000 ], refinement level:0, dK=[0.1 0.1 0.1]  \n",
      " K-point 388 : coord in rec.lattice = [   0.300000  ,   0.800000 ,    0.800000 ], refinement level:0, dK=[0.1 0.1 0.1]  \n",
      " K-point 389 : coord in rec.lattice = [   0.300000  ,   0.800000 ,    0.900000 ], refinement level:0, dK=[0.1 0.1 0.1]  \n",
      " K-point 390 : coord in rec.lattice = [   0.300000  ,   0.900000 ,    0.000000 ], refinement level:0, dK=[0.1 0.1 0.1]  \n",
      " K-point 391 : coord in rec.lattice = [   0.300000  ,   0.900000 ,    0.100000 ], refinement level:0, dK=[0.1 0.1 0.1]  \n",
      " K-point 392 : coord in rec.lattice = [   0.300000  ,   0.900000 ,    0.200000 ], refinement level:0, dK=[0.1 0.1 0.1]  \n",
      " K-point 393 : coord in rec.lattice = [   0.300000  ,   0.900000 ,    0.300000 ], refinement level:0, dK=[0.1 0.1 0.1]  \n",
      " K-point 394 : coord in rec.lattice = [   0.300000  ,   0.900000 ,    0.400000 ], refinement level:0, dK=[0.1 0.1 0.1]  \n",
      " K-point 395 : coord in rec.lattice = [   0.300000  ,   0.900000 ,    0.500000 ], refinement level:0, dK=[0.1 0.1 0.1]  \n",
      " K-point 396 : coord in rec.lattice = [   0.300000  ,   0.900000 ,    0.600000 ], refinement level:0, dK=[0.1 0.1 0.1]  \n",
      " K-point 397 : coord in rec.lattice = [   0.300000  ,   0.900000 ,    0.700000 ], refinement level:0, dK=[0.1 0.1 0.1]  \n",
      " K-point 398 : coord in rec.lattice = [   0.300000  ,   0.900000 ,    0.800000 ], refinement level:0, dK=[0.1 0.1 0.1]  \n",
      " K-point 399 : coord in rec.lattice = [   0.300000  ,   0.900000 ,    0.900000 ], refinement level:0, dK=[0.1 0.1 0.1]  \n",
      " K-point 400 : coord in rec.lattice = [   0.400000  ,   0.000000 ,    0.000000 ], refinement level:0, dK=[0.1 0.1 0.1]  \n",
      " K-point 401 : coord in rec.lattice = [   0.400000  ,   0.000000 ,    0.100000 ], refinement level:0, dK=[0.1 0.1 0.1]  \n",
      " K-point 402 : coord in rec.lattice = [   0.400000  ,   0.000000 ,    0.200000 ], refinement level:0, dK=[0.1 0.1 0.1]  \n",
      " K-point 403 : coord in rec.lattice = [   0.400000  ,   0.000000 ,    0.300000 ], refinement level:0, dK=[0.1 0.1 0.1]  \n",
      " K-point 404 : coord in rec.lattice = [   0.400000  ,   0.000000 ,    0.400000 ], refinement level:0, dK=[0.1 0.1 0.1]  \n",
      " K-point 405 : coord in rec.lattice = [   0.400000  ,   0.000000 ,    0.500000 ], refinement level:0, dK=[0.1 0.1 0.1]  \n",
      " K-point 406 : coord in rec.lattice = [   0.400000  ,   0.000000 ,    0.600000 ], refinement level:0, dK=[0.1 0.1 0.1]  \n",
      " K-point 407 : coord in rec.lattice = [   0.400000  ,   0.000000 ,    0.700000 ], refinement level:0, dK=[0.1 0.1 0.1]  \n",
      " K-point 408 : coord in rec.lattice = [   0.400000  ,   0.000000 ,    0.800000 ], refinement level:0, dK=[0.1 0.1 0.1]  \n",
      " K-point 409 : coord in rec.lattice = [   0.400000  ,   0.000000 ,    0.900000 ], refinement level:0, dK=[0.1 0.1 0.1]  \n",
      " K-point 410 : coord in rec.lattice = [   0.400000  ,   0.100000 ,    0.000000 ], refinement level:0, dK=[0.1 0.1 0.1]  \n",
      " K-point 411 : coord in rec.lattice = [   0.400000  ,   0.100000 ,    0.100000 ], refinement level:0, dK=[0.1 0.1 0.1]  \n",
      " K-point 412 : coord in rec.lattice = [   0.400000  ,   0.100000 ,    0.200000 ], refinement level:0, dK=[0.1 0.1 0.1]  \n",
      " K-point 413 : coord in rec.lattice = [   0.400000  ,   0.100000 ,    0.300000 ], refinement level:0, dK=[0.1 0.1 0.1]  \n",
      " K-point 414 : coord in rec.lattice = [   0.400000  ,   0.100000 ,    0.400000 ], refinement level:0, dK=[0.1 0.1 0.1]  \n",
      " K-point 415 : coord in rec.lattice = [   0.400000  ,   0.100000 ,    0.500000 ], refinement level:0, dK=[0.1 0.1 0.1]  \n",
      " K-point 416 : coord in rec.lattice = [   0.400000  ,   0.100000 ,    0.600000 ], refinement level:0, dK=[0.1 0.1 0.1]  \n",
      " K-point 417 : coord in rec.lattice = [   0.400000  ,   0.100000 ,    0.700000 ], refinement level:0, dK=[0.1 0.1 0.1]  \n",
      " K-point 418 : coord in rec.lattice = [   0.400000  ,   0.100000 ,    0.800000 ], refinement level:0, dK=[0.1 0.1 0.1]  \n",
      " K-point 419 : coord in rec.lattice = [   0.400000  ,   0.100000 ,    0.900000 ], refinement level:0, dK=[0.1 0.1 0.1]  \n",
      " K-point 420 : coord in rec.lattice = [   0.400000  ,   0.200000 ,    0.000000 ], refinement level:0, dK=[0.1 0.1 0.1]  \n",
      " K-point 421 : coord in rec.lattice = [   0.400000  ,   0.200000 ,    0.100000 ], refinement level:0, dK=[0.1 0.1 0.1]  \n",
      " K-point 422 : coord in rec.lattice = [   0.400000  ,   0.200000 ,    0.200000 ], refinement level:0, dK=[0.1 0.1 0.1]  \n",
      " K-point 423 : coord in rec.lattice = [   0.400000  ,   0.200000 ,    0.300000 ], refinement level:0, dK=[0.1 0.1 0.1]  \n",
      " K-point 424 : coord in rec.lattice = [   0.400000  ,   0.200000 ,    0.400000 ], refinement level:0, dK=[0.1 0.1 0.1]  \n",
      " K-point 425 : coord in rec.lattice = [   0.400000  ,   0.200000 ,    0.500000 ], refinement level:0, dK=[0.1 0.1 0.1]  \n",
      " K-point 426 : coord in rec.lattice = [   0.400000  ,   0.200000 ,    0.600000 ], refinement level:0, dK=[0.1 0.1 0.1]  \n",
      " K-point 427 : coord in rec.lattice = [   0.400000  ,   0.200000 ,    0.700000 ], refinement level:0, dK=[0.1 0.1 0.1]  \n",
      " K-point 428 : coord in rec.lattice = [   0.400000  ,   0.200000 ,    0.800000 ], refinement level:0, dK=[0.1 0.1 0.1]  \n",
      " K-point 429 : coord in rec.lattice = [   0.400000  ,   0.200000 ,    0.900000 ], refinement level:0, dK=[0.1 0.1 0.1]  \n",
      " K-point 430 : coord in rec.lattice = [   0.400000  ,   0.300000 ,    0.000000 ], refinement level:0, dK=[0.1 0.1 0.1]  \n",
      " K-point 431 : coord in rec.lattice = [   0.400000  ,   0.300000 ,    0.100000 ], refinement level:0, dK=[0.1 0.1 0.1]  \n",
      " K-point 432 : coord in rec.lattice = [   0.400000  ,   0.300000 ,    0.200000 ], refinement level:0, dK=[0.1 0.1 0.1]  \n",
      " K-point 433 : coord in rec.lattice = [   0.400000  ,   0.300000 ,    0.300000 ], refinement level:0, dK=[0.1 0.1 0.1]  \n",
      " K-point 434 : coord in rec.lattice = [   0.400000  ,   0.300000 ,    0.400000 ], refinement level:0, dK=[0.1 0.1 0.1]  \n",
      " K-point 435 : coord in rec.lattice = [   0.400000  ,   0.300000 ,    0.500000 ], refinement level:0, dK=[0.1 0.1 0.1]  \n",
      " K-point 436 : coord in rec.lattice = [   0.400000  ,   0.300000 ,    0.600000 ], refinement level:0, dK=[0.1 0.1 0.1]  \n",
      " K-point 437 : coord in rec.lattice = [   0.400000  ,   0.300000 ,    0.700000 ], refinement level:0, dK=[0.1 0.1 0.1]  \n",
      " K-point 438 : coord in rec.lattice = [   0.400000  ,   0.300000 ,    0.800000 ], refinement level:0, dK=[0.1 0.1 0.1]  \n",
      " K-point 439 : coord in rec.lattice = [   0.400000  ,   0.300000 ,    0.900000 ], refinement level:0, dK=[0.1 0.1 0.1]  \n",
      " K-point 440 : coord in rec.lattice = [   0.400000  ,   0.400000 ,    0.000000 ], refinement level:0, dK=[0.1 0.1 0.1]  \n",
      " K-point 441 : coord in rec.lattice = [   0.400000  ,   0.400000 ,    0.100000 ], refinement level:0, dK=[0.1 0.1 0.1]  \n",
      " K-point 442 : coord in rec.lattice = [   0.400000  ,   0.400000 ,    0.200000 ], refinement level:0, dK=[0.1 0.1 0.1]  \n",
      " K-point 443 : coord in rec.lattice = [   0.400000  ,   0.400000 ,    0.300000 ], refinement level:0, dK=[0.1 0.1 0.1]  \n",
      " K-point 444 : coord in rec.lattice = [   0.400000  ,   0.400000 ,    0.400000 ], refinement level:0, dK=[0.1 0.1 0.1]  \n",
      " K-point 445 : coord in rec.lattice = [   0.400000  ,   0.400000 ,    0.500000 ], refinement level:0, dK=[0.1 0.1 0.1]  \n",
      " K-point 446 : coord in rec.lattice = [   0.400000  ,   0.400000 ,    0.600000 ], refinement level:0, dK=[0.1 0.1 0.1]  \n",
      " K-point 447 : coord in rec.lattice = [   0.400000  ,   0.400000 ,    0.700000 ], refinement level:0, dK=[0.1 0.1 0.1]  \n",
      " K-point 448 : coord in rec.lattice = [   0.400000  ,   0.400000 ,    0.800000 ], refinement level:0, dK=[0.1 0.1 0.1]  \n",
      " K-point 449 : coord in rec.lattice = [   0.400000  ,   0.400000 ,    0.900000 ], refinement level:0, dK=[0.1 0.1 0.1]  \n",
      " K-point 450 : coord in rec.lattice = [   0.400000  ,   0.500000 ,    0.000000 ], refinement level:0, dK=[0.1 0.1 0.1]  \n",
      " K-point 451 : coord in rec.lattice = [   0.400000  ,   0.500000 ,    0.100000 ], refinement level:0, dK=[0.1 0.1 0.1]  \n",
      " K-point 452 : coord in rec.lattice = [   0.400000  ,   0.500000 ,    0.200000 ], refinement level:0, dK=[0.1 0.1 0.1]  \n",
      " K-point 453 : coord in rec.lattice = [   0.400000  ,   0.500000 ,    0.300000 ], refinement level:0, dK=[0.1 0.1 0.1]  \n",
      " K-point 454 : coord in rec.lattice = [   0.400000  ,   0.500000 ,    0.400000 ], refinement level:0, dK=[0.1 0.1 0.1]  \n",
      " K-point 455 : coord in rec.lattice = [   0.400000  ,   0.500000 ,    0.500000 ], refinement level:0, dK=[0.1 0.1 0.1]  \n",
      " K-point 456 : coord in rec.lattice = [   0.400000  ,   0.500000 ,    0.600000 ], refinement level:0, dK=[0.1 0.1 0.1]  \n",
      " K-point 457 : coord in rec.lattice = [   0.400000  ,   0.500000 ,    0.700000 ], refinement level:0, dK=[0.1 0.1 0.1]  \n",
      " K-point 458 : coord in rec.lattice = [   0.400000  ,   0.500000 ,    0.800000 ], refinement level:0, dK=[0.1 0.1 0.1]  \n",
      " K-point 459 : coord in rec.lattice = [   0.400000  ,   0.500000 ,    0.900000 ], refinement level:0, dK=[0.1 0.1 0.1]  \n",
      " K-point 460 : coord in rec.lattice = [   0.400000  ,   0.600000 ,    0.000000 ], refinement level:0, dK=[0.1 0.1 0.1]  \n",
      " K-point 461 : coord in rec.lattice = [   0.400000  ,   0.600000 ,    0.100000 ], refinement level:0, dK=[0.1 0.1 0.1]  \n",
      " K-point 462 : coord in rec.lattice = [   0.400000  ,   0.600000 ,    0.200000 ], refinement level:0, dK=[0.1 0.1 0.1]  \n",
      " K-point 463 : coord in rec.lattice = [   0.400000  ,   0.600000 ,    0.300000 ], refinement level:0, dK=[0.1 0.1 0.1]  \n",
      " K-point 464 : coord in rec.lattice = [   0.400000  ,   0.600000 ,    0.400000 ], refinement level:0, dK=[0.1 0.1 0.1]  \n",
      " K-point 465 : coord in rec.lattice = [   0.400000  ,   0.600000 ,    0.500000 ], refinement level:0, dK=[0.1 0.1 0.1]  \n",
      " K-point 466 : coord in rec.lattice = [   0.400000  ,   0.600000 ,    0.600000 ], refinement level:0, dK=[0.1 0.1 0.1]  \n",
      " K-point 467 : coord in rec.lattice = [   0.400000  ,   0.600000 ,    0.700000 ], refinement level:0, dK=[0.1 0.1 0.1]  \n",
      " K-point 468 : coord in rec.lattice = [   0.400000  ,   0.600000 ,    0.800000 ], refinement level:0, dK=[0.1 0.1 0.1]  \n",
      " K-point 469 : coord in rec.lattice = [   0.400000  ,   0.600000 ,    0.900000 ], refinement level:0, dK=[0.1 0.1 0.1]  \n",
      " K-point 470 : coord in rec.lattice = [   0.400000  ,   0.700000 ,    0.000000 ], refinement level:0, dK=[0.1 0.1 0.1]  \n",
      " K-point 471 : coord in rec.lattice = [   0.400000  ,   0.700000 ,    0.100000 ], refinement level:0, dK=[0.1 0.1 0.1]  \n",
      " K-point 472 : coord in rec.lattice = [   0.400000  ,   0.700000 ,    0.200000 ], refinement level:0, dK=[0.1 0.1 0.1]  \n",
      " K-point 473 : coord in rec.lattice = [   0.400000  ,   0.700000 ,    0.300000 ], refinement level:0, dK=[0.1 0.1 0.1]  \n",
      " K-point 474 : coord in rec.lattice = [   0.400000  ,   0.700000 ,    0.400000 ], refinement level:0, dK=[0.1 0.1 0.1]  \n",
      " K-point 475 : coord in rec.lattice = [   0.400000  ,   0.700000 ,    0.500000 ], refinement level:0, dK=[0.1 0.1 0.1]  \n",
      " K-point 476 : coord in rec.lattice = [   0.400000  ,   0.700000 ,    0.600000 ], refinement level:0, dK=[0.1 0.1 0.1]  \n",
      " K-point 477 : coord in rec.lattice = [   0.400000  ,   0.700000 ,    0.700000 ], refinement level:0, dK=[0.1 0.1 0.1]  \n",
      " K-point 478 : coord in rec.lattice = [   0.400000  ,   0.700000 ,    0.800000 ], refinement level:0, dK=[0.1 0.1 0.1]  \n",
      " K-point 479 : coord in rec.lattice = [   0.400000  ,   0.700000 ,    0.900000 ], refinement level:0, dK=[0.1 0.1 0.1]  \n",
      " K-point 480 : coord in rec.lattice = [   0.400000  ,   0.800000 ,    0.000000 ], refinement level:0, dK=[0.1 0.1 0.1]  \n",
      " K-point 481 : coord in rec.lattice = [   0.400000  ,   0.800000 ,    0.100000 ], refinement level:0, dK=[0.1 0.1 0.1]  \n",
      " K-point 482 : coord in rec.lattice = [   0.400000  ,   0.800000 ,    0.200000 ], refinement level:0, dK=[0.1 0.1 0.1]  \n",
      " K-point 483 : coord in rec.lattice = [   0.400000  ,   0.800000 ,    0.300000 ], refinement level:0, dK=[0.1 0.1 0.1]  \n",
      " K-point 484 : coord in rec.lattice = [   0.400000  ,   0.800000 ,    0.400000 ], refinement level:0, dK=[0.1 0.1 0.1]  \n",
      " K-point 485 : coord in rec.lattice = [   0.400000  ,   0.800000 ,    0.500000 ], refinement level:0, dK=[0.1 0.1 0.1]  \n",
      " K-point 486 : coord in rec.lattice = [   0.400000  ,   0.800000 ,    0.600000 ], refinement level:0, dK=[0.1 0.1 0.1]  \n",
      " K-point 487 : coord in rec.lattice = [   0.400000  ,   0.800000 ,    0.700000 ], refinement level:0, dK=[0.1 0.1 0.1]  \n",
      " K-point 488 : coord in rec.lattice = [   0.400000  ,   0.800000 ,    0.800000 ], refinement level:0, dK=[0.1 0.1 0.1]  \n",
      " K-point 489 : coord in rec.lattice = [   0.400000  ,   0.800000 ,    0.900000 ], refinement level:0, dK=[0.1 0.1 0.1]  \n",
      " K-point 490 : coord in rec.lattice = [   0.400000  ,   0.900000 ,    0.000000 ], refinement level:0, dK=[0.1 0.1 0.1]  \n",
      " K-point 491 : coord in rec.lattice = [   0.400000  ,   0.900000 ,    0.100000 ], refinement level:0, dK=[0.1 0.1 0.1]  \n",
      " K-point 492 : coord in rec.lattice = [   0.400000  ,   0.900000 ,    0.200000 ], refinement level:0, dK=[0.1 0.1 0.1]  \n",
      " K-point 493 : coord in rec.lattice = [   0.400000  ,   0.900000 ,    0.300000 ], refinement level:0, dK=[0.1 0.1 0.1]  \n",
      " K-point 494 : coord in rec.lattice = [   0.400000  ,   0.900000 ,    0.400000 ], refinement level:0, dK=[0.1 0.1 0.1]  \n",
      " K-point 495 : coord in rec.lattice = [   0.400000  ,   0.900000 ,    0.500000 ], refinement level:0, dK=[0.1 0.1 0.1]  \n",
      " K-point 496 : coord in rec.lattice = [   0.400000  ,   0.900000 ,    0.600000 ], refinement level:0, dK=[0.1 0.1 0.1]  \n",
      " K-point 497 : coord in rec.lattice = [   0.400000  ,   0.900000 ,    0.700000 ], refinement level:0, dK=[0.1 0.1 0.1]  \n",
      " K-point 498 : coord in rec.lattice = [   0.400000  ,   0.900000 ,    0.800000 ], refinement level:0, dK=[0.1 0.1 0.1]  \n",
      " K-point 499 : coord in rec.lattice = [   0.400000  ,   0.900000 ,    0.900000 ], refinement level:0, dK=[0.1 0.1 0.1]  \n",
      " K-point 500 : coord in rec.lattice = [   0.500000  ,   0.000000 ,    0.000000 ], refinement level:0, dK=[0.1 0.1 0.1]  \n",
      " K-point 501 : coord in rec.lattice = [   0.500000  ,   0.000000 ,    0.100000 ], refinement level:0, dK=[0.1 0.1 0.1]  \n",
      " K-point 502 : coord in rec.lattice = [   0.500000  ,   0.000000 ,    0.200000 ], refinement level:0, dK=[0.1 0.1 0.1]  \n",
      " K-point 503 : coord in rec.lattice = [   0.500000  ,   0.000000 ,    0.300000 ], refinement level:0, dK=[0.1 0.1 0.1]  \n",
      " K-point 504 : coord in rec.lattice = [   0.500000  ,   0.000000 ,    0.400000 ], refinement level:0, dK=[0.1 0.1 0.1]  \n",
      " K-point 505 : coord in rec.lattice = [   0.500000  ,   0.000000 ,    0.500000 ], refinement level:0, dK=[0.1 0.1 0.1]  \n",
      " K-point 506 : coord in rec.lattice = [   0.500000  ,   0.000000 ,    0.600000 ], refinement level:0, dK=[0.1 0.1 0.1]  \n",
      " K-point 507 : coord in rec.lattice = [   0.500000  ,   0.000000 ,    0.700000 ], refinement level:0, dK=[0.1 0.1 0.1]  \n",
      " K-point 508 : coord in rec.lattice = [   0.500000  ,   0.000000 ,    0.800000 ], refinement level:0, dK=[0.1 0.1 0.1]  \n",
      " K-point 509 : coord in rec.lattice = [   0.500000  ,   0.000000 ,    0.900000 ], refinement level:0, dK=[0.1 0.1 0.1]  \n",
      " K-point 510 : coord in rec.lattice = [   0.500000  ,   0.100000 ,    0.000000 ], refinement level:0, dK=[0.1 0.1 0.1]  \n",
      " K-point 511 : coord in rec.lattice = [   0.500000  ,   0.100000 ,    0.100000 ], refinement level:0, dK=[0.1 0.1 0.1]  \n",
      " K-point 512 : coord in rec.lattice = [   0.500000  ,   0.100000 ,    0.200000 ], refinement level:0, dK=[0.1 0.1 0.1]  \n",
      " K-point 513 : coord in rec.lattice = [   0.500000  ,   0.100000 ,    0.300000 ], refinement level:0, dK=[0.1 0.1 0.1]  \n",
      " K-point 514 : coord in rec.lattice = [   0.500000  ,   0.100000 ,    0.400000 ], refinement level:0, dK=[0.1 0.1 0.1]  \n",
      " K-point 515 : coord in rec.lattice = [   0.500000  ,   0.100000 ,    0.500000 ], refinement level:0, dK=[0.1 0.1 0.1]  \n",
      " K-point 516 : coord in rec.lattice = [   0.500000  ,   0.100000 ,    0.600000 ], refinement level:0, dK=[0.1 0.1 0.1]  \n",
      " K-point 517 : coord in rec.lattice = [   0.500000  ,   0.100000 ,    0.700000 ], refinement level:0, dK=[0.1 0.1 0.1]  \n",
      " K-point 518 : coord in rec.lattice = [   0.500000  ,   0.100000 ,    0.800000 ], refinement level:0, dK=[0.1 0.1 0.1]  \n",
      " K-point 519 : coord in rec.lattice = [   0.500000  ,   0.100000 ,    0.900000 ], refinement level:0, dK=[0.1 0.1 0.1]  \n",
      " K-point 520 : coord in rec.lattice = [   0.500000  ,   0.200000 ,    0.000000 ], refinement level:0, dK=[0.1 0.1 0.1]  \n",
      " K-point 521 : coord in rec.lattice = [   0.500000  ,   0.200000 ,    0.100000 ], refinement level:0, dK=[0.1 0.1 0.1]  \n",
      " K-point 522 : coord in rec.lattice = [   0.500000  ,   0.200000 ,    0.200000 ], refinement level:0, dK=[0.1 0.1 0.1]  \n",
      " K-point 523 : coord in rec.lattice = [   0.500000  ,   0.200000 ,    0.300000 ], refinement level:0, dK=[0.1 0.1 0.1]  \n",
      " K-point 524 : coord in rec.lattice = [   0.500000  ,   0.200000 ,    0.400000 ], refinement level:0, dK=[0.1 0.1 0.1]  \n",
      " K-point 525 : coord in rec.lattice = [   0.500000  ,   0.200000 ,    0.500000 ], refinement level:0, dK=[0.1 0.1 0.1]  \n",
      " K-point 526 : coord in rec.lattice = [   0.500000  ,   0.200000 ,    0.600000 ], refinement level:0, dK=[0.1 0.1 0.1]  \n",
      " K-point 527 : coord in rec.lattice = [   0.500000  ,   0.200000 ,    0.700000 ], refinement level:0, dK=[0.1 0.1 0.1]  \n",
      " K-point 528 : coord in rec.lattice = [   0.500000  ,   0.200000 ,    0.800000 ], refinement level:0, dK=[0.1 0.1 0.1]  \n",
      " K-point 529 : coord in rec.lattice = [   0.500000  ,   0.200000 ,    0.900000 ], refinement level:0, dK=[0.1 0.1 0.1]  \n",
      " K-point 530 : coord in rec.lattice = [   0.500000  ,   0.300000 ,    0.000000 ], refinement level:0, dK=[0.1 0.1 0.1]  \n",
      " K-point 531 : coord in rec.lattice = [   0.500000  ,   0.300000 ,    0.100000 ], refinement level:0, dK=[0.1 0.1 0.1]  \n",
      " K-point 532 : coord in rec.lattice = [   0.500000  ,   0.300000 ,    0.200000 ], refinement level:0, dK=[0.1 0.1 0.1]  \n",
      " K-point 533 : coord in rec.lattice = [   0.500000  ,   0.300000 ,    0.300000 ], refinement level:0, dK=[0.1 0.1 0.1]  \n",
      " K-point 534 : coord in rec.lattice = [   0.500000  ,   0.300000 ,    0.400000 ], refinement level:0, dK=[0.1 0.1 0.1]  \n",
      " K-point 535 : coord in rec.lattice = [   0.500000  ,   0.300000 ,    0.500000 ], refinement level:0, dK=[0.1 0.1 0.1]  \n",
      " K-point 536 : coord in rec.lattice = [   0.500000  ,   0.300000 ,    0.600000 ], refinement level:0, dK=[0.1 0.1 0.1]  \n",
      " K-point 537 : coord in rec.lattice = [   0.500000  ,   0.300000 ,    0.700000 ], refinement level:0, dK=[0.1 0.1 0.1]  \n",
      " K-point 538 : coord in rec.lattice = [   0.500000  ,   0.300000 ,    0.800000 ], refinement level:0, dK=[0.1 0.1 0.1]  \n",
      " K-point 539 : coord in rec.lattice = [   0.500000  ,   0.300000 ,    0.900000 ], refinement level:0, dK=[0.1 0.1 0.1]  \n",
      " K-point 540 : coord in rec.lattice = [   0.500000  ,   0.400000 ,    0.000000 ], refinement level:0, dK=[0.1 0.1 0.1]  \n",
      " K-point 541 : coord in rec.lattice = [   0.500000  ,   0.400000 ,    0.100000 ], refinement level:0, dK=[0.1 0.1 0.1]  \n",
      " K-point 542 : coord in rec.lattice = [   0.500000  ,   0.400000 ,    0.200000 ], refinement level:0, dK=[0.1 0.1 0.1]  \n",
      " K-point 543 : coord in rec.lattice = [   0.500000  ,   0.400000 ,    0.300000 ], refinement level:0, dK=[0.1 0.1 0.1]  \n",
      " K-point 544 : coord in rec.lattice = [   0.500000  ,   0.400000 ,    0.400000 ], refinement level:0, dK=[0.1 0.1 0.1]  \n",
      " K-point 545 : coord in rec.lattice = [   0.500000  ,   0.400000 ,    0.500000 ], refinement level:0, dK=[0.1 0.1 0.1]  \n",
      " K-point 546 : coord in rec.lattice = [   0.500000  ,   0.400000 ,    0.600000 ], refinement level:0, dK=[0.1 0.1 0.1]  \n",
      " K-point 547 : coord in rec.lattice = [   0.500000  ,   0.400000 ,    0.700000 ], refinement level:0, dK=[0.1 0.1 0.1]  \n",
      " K-point 548 : coord in rec.lattice = [   0.500000  ,   0.400000 ,    0.800000 ], refinement level:0, dK=[0.1 0.1 0.1]  \n",
      " K-point 549 : coord in rec.lattice = [   0.500000  ,   0.400000 ,    0.900000 ], refinement level:0, dK=[0.1 0.1 0.1]  \n",
      " K-point 550 : coord in rec.lattice = [   0.500000  ,   0.500000 ,    0.000000 ], refinement level:0, dK=[0.1 0.1 0.1]  \n",
      " K-point 551 : coord in rec.lattice = [   0.500000  ,   0.500000 ,    0.100000 ], refinement level:0, dK=[0.1 0.1 0.1]  \n",
      " K-point 552 : coord in rec.lattice = [   0.500000  ,   0.500000 ,    0.200000 ], refinement level:0, dK=[0.1 0.1 0.1]  \n",
      " K-point 553 : coord in rec.lattice = [   0.500000  ,   0.500000 ,    0.300000 ], refinement level:0, dK=[0.1 0.1 0.1]  \n",
      " K-point 554 : coord in rec.lattice = [   0.500000  ,   0.500000 ,    0.400000 ], refinement level:0, dK=[0.1 0.1 0.1]  \n",
      " K-point 555 : coord in rec.lattice = [   0.500000  ,   0.500000 ,    0.500000 ], refinement level:0, dK=[0.1 0.1 0.1]  \n",
      " K-point 556 : coord in rec.lattice = [   0.500000  ,   0.500000 ,    0.600000 ], refinement level:0, dK=[0.1 0.1 0.1]  \n",
      " K-point 557 : coord in rec.lattice = [   0.500000  ,   0.500000 ,    0.700000 ], refinement level:0, dK=[0.1 0.1 0.1]  \n",
      " K-point 558 : coord in rec.lattice = [   0.500000  ,   0.500000 ,    0.800000 ], refinement level:0, dK=[0.1 0.1 0.1]  \n",
      " K-point 559 : coord in rec.lattice = [   0.500000  ,   0.500000 ,    0.900000 ], refinement level:0, dK=[0.1 0.1 0.1]  \n",
      " K-point 560 : coord in rec.lattice = [   0.500000  ,   0.600000 ,    0.000000 ], refinement level:0, dK=[0.1 0.1 0.1]  \n",
      " K-point 561 : coord in rec.lattice = [   0.500000  ,   0.600000 ,    0.100000 ], refinement level:0, dK=[0.1 0.1 0.1]  \n",
      " K-point 562 : coord in rec.lattice = [   0.500000  ,   0.600000 ,    0.200000 ], refinement level:0, dK=[0.1 0.1 0.1]  \n",
      " K-point 563 : coord in rec.lattice = [   0.500000  ,   0.600000 ,    0.300000 ], refinement level:0, dK=[0.1 0.1 0.1]  \n",
      " K-point 564 : coord in rec.lattice = [   0.500000  ,   0.600000 ,    0.400000 ], refinement level:0, dK=[0.1 0.1 0.1]  \n",
      " K-point 565 : coord in rec.lattice = [   0.500000  ,   0.600000 ,    0.500000 ], refinement level:0, dK=[0.1 0.1 0.1]  \n",
      " K-point 566 : coord in rec.lattice = [   0.500000  ,   0.600000 ,    0.600000 ], refinement level:0, dK=[0.1 0.1 0.1]  \n",
      " K-point 567 : coord in rec.lattice = [   0.500000  ,   0.600000 ,    0.700000 ], refinement level:0, dK=[0.1 0.1 0.1]  \n",
      " K-point 568 : coord in rec.lattice = [   0.500000  ,   0.600000 ,    0.800000 ], refinement level:0, dK=[0.1 0.1 0.1]  \n",
      " K-point 569 : coord in rec.lattice = [   0.500000  ,   0.600000 ,    0.900000 ], refinement level:0, dK=[0.1 0.1 0.1]  \n",
      " K-point 570 : coord in rec.lattice = [   0.500000  ,   0.700000 ,    0.000000 ], refinement level:0, dK=[0.1 0.1 0.1]  \n",
      " K-point 571 : coord in rec.lattice = [   0.500000  ,   0.700000 ,    0.100000 ], refinement level:0, dK=[0.1 0.1 0.1]  \n",
      " K-point 572 : coord in rec.lattice = [   0.500000  ,   0.700000 ,    0.200000 ], refinement level:0, dK=[0.1 0.1 0.1]  \n",
      " K-point 573 : coord in rec.lattice = [   0.500000  ,   0.700000 ,    0.300000 ], refinement level:0, dK=[0.1 0.1 0.1]  \n",
      " K-point 574 : coord in rec.lattice = [   0.500000  ,   0.700000 ,    0.400000 ], refinement level:0, dK=[0.1 0.1 0.1]  \n",
      " K-point 575 : coord in rec.lattice = [   0.500000  ,   0.700000 ,    0.500000 ], refinement level:0, dK=[0.1 0.1 0.1]  \n",
      " K-point 576 : coord in rec.lattice = [   0.500000  ,   0.700000 ,    0.600000 ], refinement level:0, dK=[0.1 0.1 0.1]  \n",
      " K-point 577 : coord in rec.lattice = [   0.500000  ,   0.700000 ,    0.700000 ], refinement level:0, dK=[0.1 0.1 0.1]  \n",
      " K-point 578 : coord in rec.lattice = [   0.500000  ,   0.700000 ,    0.800000 ], refinement level:0, dK=[0.1 0.1 0.1]  \n",
      " K-point 579 : coord in rec.lattice = [   0.500000  ,   0.700000 ,    0.900000 ], refinement level:0, dK=[0.1 0.1 0.1]  \n",
      " K-point 580 : coord in rec.lattice = [   0.500000  ,   0.800000 ,    0.000000 ], refinement level:0, dK=[0.1 0.1 0.1]  \n",
      " K-point 581 : coord in rec.lattice = [   0.500000  ,   0.800000 ,    0.100000 ], refinement level:0, dK=[0.1 0.1 0.1]  \n",
      " K-point 582 : coord in rec.lattice = [   0.500000  ,   0.800000 ,    0.200000 ], refinement level:0, dK=[0.1 0.1 0.1]  \n",
      " K-point 583 : coord in rec.lattice = [   0.500000  ,   0.800000 ,    0.300000 ], refinement level:0, dK=[0.1 0.1 0.1]  \n",
      " K-point 584 : coord in rec.lattice = [   0.500000  ,   0.800000 ,    0.400000 ], refinement level:0, dK=[0.1 0.1 0.1]  \n",
      " K-point 585 : coord in rec.lattice = [   0.500000  ,   0.800000 ,    0.500000 ], refinement level:0, dK=[0.1 0.1 0.1]  \n",
      " K-point 586 : coord in rec.lattice = [   0.500000  ,   0.800000 ,    0.600000 ], refinement level:0, dK=[0.1 0.1 0.1]  \n",
      " K-point 587 : coord in rec.lattice = [   0.500000  ,   0.800000 ,    0.700000 ], refinement level:0, dK=[0.1 0.1 0.1]  \n",
      " K-point 588 : coord in rec.lattice = [   0.500000  ,   0.800000 ,    0.800000 ], refinement level:0, dK=[0.1 0.1 0.1]  \n",
      " K-point 589 : coord in rec.lattice = [   0.500000  ,   0.800000 ,    0.900000 ], refinement level:0, dK=[0.1 0.1 0.1]  \n",
      " K-point 590 : coord in rec.lattice = [   0.500000  ,   0.900000 ,    0.000000 ], refinement level:0, dK=[0.1 0.1 0.1]  \n",
      " K-point 591 : coord in rec.lattice = [   0.500000  ,   0.900000 ,    0.100000 ], refinement level:0, dK=[0.1 0.1 0.1]  \n",
      " K-point 592 : coord in rec.lattice = [   0.500000  ,   0.900000 ,    0.200000 ], refinement level:0, dK=[0.1 0.1 0.1]  \n",
      " K-point 593 : coord in rec.lattice = [   0.500000  ,   0.900000 ,    0.300000 ], refinement level:0, dK=[0.1 0.1 0.1]  \n",
      " K-point 594 : coord in rec.lattice = [   0.500000  ,   0.900000 ,    0.400000 ], refinement level:0, dK=[0.1 0.1 0.1]  \n",
      " K-point 595 : coord in rec.lattice = [   0.500000  ,   0.900000 ,    0.500000 ], refinement level:0, dK=[0.1 0.1 0.1]  \n",
      " K-point 596 : coord in rec.lattice = [   0.500000  ,   0.900000 ,    0.600000 ], refinement level:0, dK=[0.1 0.1 0.1]  \n",
      " K-point 597 : coord in rec.lattice = [   0.500000  ,   0.900000 ,    0.700000 ], refinement level:0, dK=[0.1 0.1 0.1]  \n",
      " K-point 598 : coord in rec.lattice = [   0.500000  ,   0.900000 ,    0.800000 ], refinement level:0, dK=[0.1 0.1 0.1]  \n",
      " K-point 599 : coord in rec.lattice = [   0.500000  ,   0.900000 ,    0.900000 ], refinement level:0, dK=[0.1 0.1 0.1]  \n",
      " K-point 600 : coord in rec.lattice = [   0.600000  ,   0.000000 ,    0.000000 ], refinement level:0, dK=[0.1 0.1 0.1]  \n",
      " K-point 601 : coord in rec.lattice = [   0.600000  ,   0.000000 ,    0.100000 ], refinement level:0, dK=[0.1 0.1 0.1]  \n",
      " K-point 602 : coord in rec.lattice = [   0.600000  ,   0.000000 ,    0.200000 ], refinement level:0, dK=[0.1 0.1 0.1]  \n",
      " K-point 603 : coord in rec.lattice = [   0.600000  ,   0.000000 ,    0.300000 ], refinement level:0, dK=[0.1 0.1 0.1]  \n",
      " K-point 604 : coord in rec.lattice = [   0.600000  ,   0.000000 ,    0.400000 ], refinement level:0, dK=[0.1 0.1 0.1]  \n",
      " K-point 605 : coord in rec.lattice = [   0.600000  ,   0.000000 ,    0.500000 ], refinement level:0, dK=[0.1 0.1 0.1]  \n",
      " K-point 606 : coord in rec.lattice = [   0.600000  ,   0.000000 ,    0.600000 ], refinement level:0, dK=[0.1 0.1 0.1]  \n",
      " K-point 607 : coord in rec.lattice = [   0.600000  ,   0.000000 ,    0.700000 ], refinement level:0, dK=[0.1 0.1 0.1]  \n",
      " K-point 608 : coord in rec.lattice = [   0.600000  ,   0.000000 ,    0.800000 ], refinement level:0, dK=[0.1 0.1 0.1]  \n",
      " K-point 609 : coord in rec.lattice = [   0.600000  ,   0.000000 ,    0.900000 ], refinement level:0, dK=[0.1 0.1 0.1]  \n",
      " K-point 610 : coord in rec.lattice = [   0.600000  ,   0.100000 ,    0.000000 ], refinement level:0, dK=[0.1 0.1 0.1]  \n",
      " K-point 611 : coord in rec.lattice = [   0.600000  ,   0.100000 ,    0.100000 ], refinement level:0, dK=[0.1 0.1 0.1]  \n",
      " K-point 612 : coord in rec.lattice = [   0.600000  ,   0.100000 ,    0.200000 ], refinement level:0, dK=[0.1 0.1 0.1]  \n",
      " K-point 613 : coord in rec.lattice = [   0.600000  ,   0.100000 ,    0.300000 ], refinement level:0, dK=[0.1 0.1 0.1]  \n",
      " K-point 614 : coord in rec.lattice = [   0.600000  ,   0.100000 ,    0.400000 ], refinement level:0, dK=[0.1 0.1 0.1]  \n",
      " K-point 615 : coord in rec.lattice = [   0.600000  ,   0.100000 ,    0.500000 ], refinement level:0, dK=[0.1 0.1 0.1]  \n",
      " K-point 616 : coord in rec.lattice = [   0.600000  ,   0.100000 ,    0.600000 ], refinement level:0, dK=[0.1 0.1 0.1]  \n",
      " K-point 617 : coord in rec.lattice = [   0.600000  ,   0.100000 ,    0.700000 ], refinement level:0, dK=[0.1 0.1 0.1]  \n",
      " K-point 618 : coord in rec.lattice = [   0.600000  ,   0.100000 ,    0.800000 ], refinement level:0, dK=[0.1 0.1 0.1]  \n",
      " K-point 619 : coord in rec.lattice = [   0.600000  ,   0.100000 ,    0.900000 ], refinement level:0, dK=[0.1 0.1 0.1]  \n",
      " K-point 620 : coord in rec.lattice = [   0.600000  ,   0.200000 ,    0.000000 ], refinement level:0, dK=[0.1 0.1 0.1]  \n",
      " K-point 621 : coord in rec.lattice = [   0.600000  ,   0.200000 ,    0.100000 ], refinement level:0, dK=[0.1 0.1 0.1]  \n",
      " K-point 622 : coord in rec.lattice = [   0.600000  ,   0.200000 ,    0.200000 ], refinement level:0, dK=[0.1 0.1 0.1]  \n",
      " K-point 623 : coord in rec.lattice = [   0.600000  ,   0.200000 ,    0.300000 ], refinement level:0, dK=[0.1 0.1 0.1]  \n",
      " K-point 624 : coord in rec.lattice = [   0.600000  ,   0.200000 ,    0.400000 ], refinement level:0, dK=[0.1 0.1 0.1]  \n",
      " K-point 625 : coord in rec.lattice = [   0.600000  ,   0.200000 ,    0.500000 ], refinement level:0, dK=[0.1 0.1 0.1]  \n",
      " K-point 626 : coord in rec.lattice = [   0.600000  ,   0.200000 ,    0.600000 ], refinement level:0, dK=[0.1 0.1 0.1]  \n",
      " K-point 627 : coord in rec.lattice = [   0.600000  ,   0.200000 ,    0.700000 ], refinement level:0, dK=[0.1 0.1 0.1]  \n",
      " K-point 628 : coord in rec.lattice = [   0.600000  ,   0.200000 ,    0.800000 ], refinement level:0, dK=[0.1 0.1 0.1]  \n",
      " K-point 629 : coord in rec.lattice = [   0.600000  ,   0.200000 ,    0.900000 ], refinement level:0, dK=[0.1 0.1 0.1]  \n",
      " K-point 630 : coord in rec.lattice = [   0.600000  ,   0.300000 ,    0.000000 ], refinement level:0, dK=[0.1 0.1 0.1]  \n",
      " K-point 631 : coord in rec.lattice = [   0.600000  ,   0.300000 ,    0.100000 ], refinement level:0, dK=[0.1 0.1 0.1]  \n",
      " K-point 632 : coord in rec.lattice = [   0.600000  ,   0.300000 ,    0.200000 ], refinement level:0, dK=[0.1 0.1 0.1]  \n",
      " K-point 633 : coord in rec.lattice = [   0.600000  ,   0.300000 ,    0.300000 ], refinement level:0, dK=[0.1 0.1 0.1]  \n",
      " K-point 634 : coord in rec.lattice = [   0.600000  ,   0.300000 ,    0.400000 ], refinement level:0, dK=[0.1 0.1 0.1]  \n",
      " K-point 635 : coord in rec.lattice = [   0.600000  ,   0.300000 ,    0.500000 ], refinement level:0, dK=[0.1 0.1 0.1]  \n",
      " K-point 636 : coord in rec.lattice = [   0.600000  ,   0.300000 ,    0.600000 ], refinement level:0, dK=[0.1 0.1 0.1]  \n",
      " K-point 637 : coord in rec.lattice = [   0.600000  ,   0.300000 ,    0.700000 ], refinement level:0, dK=[0.1 0.1 0.1]  \n",
      " K-point 638 : coord in rec.lattice = [   0.600000  ,   0.300000 ,    0.800000 ], refinement level:0, dK=[0.1 0.1 0.1]  \n",
      " K-point 639 : coord in rec.lattice = [   0.600000  ,   0.300000 ,    0.900000 ], refinement level:0, dK=[0.1 0.1 0.1]  \n",
      " K-point 640 : coord in rec.lattice = [   0.600000  ,   0.400000 ,    0.000000 ], refinement level:0, dK=[0.1 0.1 0.1]  \n",
      " K-point 641 : coord in rec.lattice = [   0.600000  ,   0.400000 ,    0.100000 ], refinement level:0, dK=[0.1 0.1 0.1]  \n",
      " K-point 642 : coord in rec.lattice = [   0.600000  ,   0.400000 ,    0.200000 ], refinement level:0, dK=[0.1 0.1 0.1]  \n",
      " K-point 643 : coord in rec.lattice = [   0.600000  ,   0.400000 ,    0.300000 ], refinement level:0, dK=[0.1 0.1 0.1]  \n",
      " K-point 644 : coord in rec.lattice = [   0.600000  ,   0.400000 ,    0.400000 ], refinement level:0, dK=[0.1 0.1 0.1]  \n",
      " K-point 645 : coord in rec.lattice = [   0.600000  ,   0.400000 ,    0.500000 ], refinement level:0, dK=[0.1 0.1 0.1]  \n",
      " K-point 646 : coord in rec.lattice = [   0.600000  ,   0.400000 ,    0.600000 ], refinement level:0, dK=[0.1 0.1 0.1]  \n",
      " K-point 647 : coord in rec.lattice = [   0.600000  ,   0.400000 ,    0.700000 ], refinement level:0, dK=[0.1 0.1 0.1]  \n",
      " K-point 648 : coord in rec.lattice = [   0.600000  ,   0.400000 ,    0.800000 ], refinement level:0, dK=[0.1 0.1 0.1]  \n",
      " K-point 649 : coord in rec.lattice = [   0.600000  ,   0.400000 ,    0.900000 ], refinement level:0, dK=[0.1 0.1 0.1]  \n",
      " K-point 650 : coord in rec.lattice = [   0.600000  ,   0.500000 ,    0.000000 ], refinement level:0, dK=[0.1 0.1 0.1]  \n",
      " K-point 651 : coord in rec.lattice = [   0.600000  ,   0.500000 ,    0.100000 ], refinement level:0, dK=[0.1 0.1 0.1]  \n",
      " K-point 652 : coord in rec.lattice = [   0.600000  ,   0.500000 ,    0.200000 ], refinement level:0, dK=[0.1 0.1 0.1]  \n",
      " K-point 653 : coord in rec.lattice = [   0.600000  ,   0.500000 ,    0.300000 ], refinement level:0, dK=[0.1 0.1 0.1]  \n",
      " K-point 654 : coord in rec.lattice = [   0.600000  ,   0.500000 ,    0.400000 ], refinement level:0, dK=[0.1 0.1 0.1]  \n",
      " K-point 655 : coord in rec.lattice = [   0.600000  ,   0.500000 ,    0.500000 ], refinement level:0, dK=[0.1 0.1 0.1]  \n",
      " K-point 656 : coord in rec.lattice = [   0.600000  ,   0.500000 ,    0.600000 ], refinement level:0, dK=[0.1 0.1 0.1]  \n",
      " K-point 657 : coord in rec.lattice = [   0.600000  ,   0.500000 ,    0.700000 ], refinement level:0, dK=[0.1 0.1 0.1]  \n",
      " K-point 658 : coord in rec.lattice = [   0.600000  ,   0.500000 ,    0.800000 ], refinement level:0, dK=[0.1 0.1 0.1]  \n",
      " K-point 659 : coord in rec.lattice = [   0.600000  ,   0.500000 ,    0.900000 ], refinement level:0, dK=[0.1 0.1 0.1]  \n",
      " K-point 660 : coord in rec.lattice = [   0.600000  ,   0.600000 ,    0.000000 ], refinement level:0, dK=[0.1 0.1 0.1]  \n",
      " K-point 661 : coord in rec.lattice = [   0.600000  ,   0.600000 ,    0.100000 ], refinement level:0, dK=[0.1 0.1 0.1]  \n",
      " K-point 662 : coord in rec.lattice = [   0.600000  ,   0.600000 ,    0.200000 ], refinement level:0, dK=[0.1 0.1 0.1]  \n",
      " K-point 663 : coord in rec.lattice = [   0.600000  ,   0.600000 ,    0.300000 ], refinement level:0, dK=[0.1 0.1 0.1]  \n",
      " K-point 664 : coord in rec.lattice = [   0.600000  ,   0.600000 ,    0.400000 ], refinement level:0, dK=[0.1 0.1 0.1]  \n",
      " K-point 665 : coord in rec.lattice = [   0.600000  ,   0.600000 ,    0.500000 ], refinement level:0, dK=[0.1 0.1 0.1]  \n",
      " K-point 666 : coord in rec.lattice = [   0.600000  ,   0.600000 ,    0.600000 ], refinement level:0, dK=[0.1 0.1 0.1]  \n",
      " K-point 667 : coord in rec.lattice = [   0.600000  ,   0.600000 ,    0.700000 ], refinement level:0, dK=[0.1 0.1 0.1]  \n",
      " K-point 668 : coord in rec.lattice = [   0.600000  ,   0.600000 ,    0.800000 ], refinement level:0, dK=[0.1 0.1 0.1]  \n",
      " K-point 669 : coord in rec.lattice = [   0.600000  ,   0.600000 ,    0.900000 ], refinement level:0, dK=[0.1 0.1 0.1]  \n",
      " K-point 670 : coord in rec.lattice = [   0.600000  ,   0.700000 ,    0.000000 ], refinement level:0, dK=[0.1 0.1 0.1]  \n",
      " K-point 671 : coord in rec.lattice = [   0.600000  ,   0.700000 ,    0.100000 ], refinement level:0, dK=[0.1 0.1 0.1]  \n",
      " K-point 672 : coord in rec.lattice = [   0.600000  ,   0.700000 ,    0.200000 ], refinement level:0, dK=[0.1 0.1 0.1]  \n",
      " K-point 673 : coord in rec.lattice = [   0.600000  ,   0.700000 ,    0.300000 ], refinement level:0, dK=[0.1 0.1 0.1]  \n",
      " K-point 674 : coord in rec.lattice = [   0.600000  ,   0.700000 ,    0.400000 ], refinement level:0, dK=[0.1 0.1 0.1]  \n",
      " K-point 675 : coord in rec.lattice = [   0.600000  ,   0.700000 ,    0.500000 ], refinement level:0, dK=[0.1 0.1 0.1]  \n",
      " K-point 676 : coord in rec.lattice = [   0.600000  ,   0.700000 ,    0.600000 ], refinement level:0, dK=[0.1 0.1 0.1]  \n",
      " K-point 677 : coord in rec.lattice = [   0.600000  ,   0.700000 ,    0.700000 ], refinement level:0, dK=[0.1 0.1 0.1]  \n",
      " K-point 678 : coord in rec.lattice = [   0.600000  ,   0.700000 ,    0.800000 ], refinement level:0, dK=[0.1 0.1 0.1]  \n",
      " K-point 679 : coord in rec.lattice = [   0.600000  ,   0.700000 ,    0.900000 ], refinement level:0, dK=[0.1 0.1 0.1]  \n",
      " K-point 680 : coord in rec.lattice = [   0.600000  ,   0.800000 ,    0.000000 ], refinement level:0, dK=[0.1 0.1 0.1]  \n",
      " K-point 681 : coord in rec.lattice = [   0.600000  ,   0.800000 ,    0.100000 ], refinement level:0, dK=[0.1 0.1 0.1]  \n",
      " K-point 682 : coord in rec.lattice = [   0.600000  ,   0.800000 ,    0.200000 ], refinement level:0, dK=[0.1 0.1 0.1]  \n",
      " K-point 683 : coord in rec.lattice = [   0.600000  ,   0.800000 ,    0.300000 ], refinement level:0, dK=[0.1 0.1 0.1]  \n",
      " K-point 684 : coord in rec.lattice = [   0.600000  ,   0.800000 ,    0.400000 ], refinement level:0, dK=[0.1 0.1 0.1]  \n",
      " K-point 685 : coord in rec.lattice = [   0.600000  ,   0.800000 ,    0.500000 ], refinement level:0, dK=[0.1 0.1 0.1]  \n",
      " K-point 686 : coord in rec.lattice = [   0.600000  ,   0.800000 ,    0.600000 ], refinement level:0, dK=[0.1 0.1 0.1]  \n",
      " K-point 687 : coord in rec.lattice = [   0.600000  ,   0.800000 ,    0.700000 ], refinement level:0, dK=[0.1 0.1 0.1]  \n",
      " K-point 688 : coord in rec.lattice = [   0.600000  ,   0.800000 ,    0.800000 ], refinement level:0, dK=[0.1 0.1 0.1]  \n",
      " K-point 689 : coord in rec.lattice = [   0.600000  ,   0.800000 ,    0.900000 ], refinement level:0, dK=[0.1 0.1 0.1]  \n",
      " K-point 690 : coord in rec.lattice = [   0.600000  ,   0.900000 ,    0.000000 ], refinement level:0, dK=[0.1 0.1 0.1]  \n",
      " K-point 691 : coord in rec.lattice = [   0.600000  ,   0.900000 ,    0.100000 ], refinement level:0, dK=[0.1 0.1 0.1]  \n",
      " K-point 692 : coord in rec.lattice = [   0.600000  ,   0.900000 ,    0.200000 ], refinement level:0, dK=[0.1 0.1 0.1]  \n",
      " K-point 693 : coord in rec.lattice = [   0.600000  ,   0.900000 ,    0.300000 ], refinement level:0, dK=[0.1 0.1 0.1]  \n",
      " K-point 694 : coord in rec.lattice = [   0.600000  ,   0.900000 ,    0.400000 ], refinement level:0, dK=[0.1 0.1 0.1]  \n"
     ]
    },
    {
     "name": "stdout",
     "output_type": "stream",
     "text": [
      " K-point 695 : coord in rec.lattice = [   0.600000  ,   0.900000 ,    0.500000 ], refinement level:0, dK=[0.1 0.1 0.1]  \n",
      " K-point 696 : coord in rec.lattice = [   0.600000  ,   0.900000 ,    0.600000 ], refinement level:0, dK=[0.1 0.1 0.1]  \n",
      " K-point 697 : coord in rec.lattice = [   0.600000  ,   0.900000 ,    0.700000 ], refinement level:0, dK=[0.1 0.1 0.1]  \n",
      " K-point 698 : coord in rec.lattice = [   0.600000  ,   0.900000 ,    0.800000 ], refinement level:0, dK=[0.1 0.1 0.1]  \n",
      " K-point 699 : coord in rec.lattice = [   0.600000  ,   0.900000 ,    0.900000 ], refinement level:0, dK=[0.1 0.1 0.1]  \n",
      " K-point 700 : coord in rec.lattice = [   0.700000  ,   0.000000 ,    0.000000 ], refinement level:0, dK=[0.1 0.1 0.1]  \n",
      " K-point 701 : coord in rec.lattice = [   0.700000  ,   0.000000 ,    0.100000 ], refinement level:0, dK=[0.1 0.1 0.1]  \n",
      " K-point 702 : coord in rec.lattice = [   0.700000  ,   0.000000 ,    0.200000 ], refinement level:0, dK=[0.1 0.1 0.1]  \n",
      " K-point 703 : coord in rec.lattice = [   0.700000  ,   0.000000 ,    0.300000 ], refinement level:0, dK=[0.1 0.1 0.1]  \n",
      " K-point 704 : coord in rec.lattice = [   0.700000  ,   0.000000 ,    0.400000 ], refinement level:0, dK=[0.1 0.1 0.1]  \n",
      " K-point 705 : coord in rec.lattice = [   0.700000  ,   0.000000 ,    0.500000 ], refinement level:0, dK=[0.1 0.1 0.1]  \n",
      " K-point 706 : coord in rec.lattice = [   0.700000  ,   0.000000 ,    0.600000 ], refinement level:0, dK=[0.1 0.1 0.1]  \n",
      " K-point 707 : coord in rec.lattice = [   0.700000  ,   0.000000 ,    0.700000 ], refinement level:0, dK=[0.1 0.1 0.1]  \n",
      " K-point 708 : coord in rec.lattice = [   0.700000  ,   0.000000 ,    0.800000 ], refinement level:0, dK=[0.1 0.1 0.1]  \n",
      " K-point 709 : coord in rec.lattice = [   0.700000  ,   0.000000 ,    0.900000 ], refinement level:0, dK=[0.1 0.1 0.1]  \n",
      " K-point 710 : coord in rec.lattice = [   0.700000  ,   0.100000 ,    0.000000 ], refinement level:0, dK=[0.1 0.1 0.1]  \n",
      " K-point 711 : coord in rec.lattice = [   0.700000  ,   0.100000 ,    0.100000 ], refinement level:0, dK=[0.1 0.1 0.1]  \n",
      " K-point 712 : coord in rec.lattice = [   0.700000  ,   0.100000 ,    0.200000 ], refinement level:0, dK=[0.1 0.1 0.1]  \n",
      " K-point 713 : coord in rec.lattice = [   0.700000  ,   0.100000 ,    0.300000 ], refinement level:0, dK=[0.1 0.1 0.1]  \n",
      " K-point 714 : coord in rec.lattice = [   0.700000  ,   0.100000 ,    0.400000 ], refinement level:0, dK=[0.1 0.1 0.1]  \n",
      " K-point 715 : coord in rec.lattice = [   0.700000  ,   0.100000 ,    0.500000 ], refinement level:0, dK=[0.1 0.1 0.1]  \n",
      " K-point 716 : coord in rec.lattice = [   0.700000  ,   0.100000 ,    0.600000 ], refinement level:0, dK=[0.1 0.1 0.1]  \n",
      " K-point 717 : coord in rec.lattice = [   0.700000  ,   0.100000 ,    0.700000 ], refinement level:0, dK=[0.1 0.1 0.1]  \n",
      " K-point 718 : coord in rec.lattice = [   0.700000  ,   0.100000 ,    0.800000 ], refinement level:0, dK=[0.1 0.1 0.1]  \n",
      " K-point 719 : coord in rec.lattice = [   0.700000  ,   0.100000 ,    0.900000 ], refinement level:0, dK=[0.1 0.1 0.1]  \n",
      " K-point 720 : coord in rec.lattice = [   0.700000  ,   0.200000 ,    0.000000 ], refinement level:0, dK=[0.1 0.1 0.1]  \n",
      " K-point 721 : coord in rec.lattice = [   0.700000  ,   0.200000 ,    0.100000 ], refinement level:0, dK=[0.1 0.1 0.1]  \n",
      " K-point 722 : coord in rec.lattice = [   0.700000  ,   0.200000 ,    0.200000 ], refinement level:0, dK=[0.1 0.1 0.1]  \n",
      " K-point 723 : coord in rec.lattice = [   0.700000  ,   0.200000 ,    0.300000 ], refinement level:0, dK=[0.1 0.1 0.1]  \n",
      " K-point 724 : coord in rec.lattice = [   0.700000  ,   0.200000 ,    0.400000 ], refinement level:0, dK=[0.1 0.1 0.1]  \n",
      " K-point 725 : coord in rec.lattice = [   0.700000  ,   0.200000 ,    0.500000 ], refinement level:0, dK=[0.1 0.1 0.1]  \n",
      " K-point 726 : coord in rec.lattice = [   0.700000  ,   0.200000 ,    0.600000 ], refinement level:0, dK=[0.1 0.1 0.1]  \n",
      " K-point 727 : coord in rec.lattice = [   0.700000  ,   0.200000 ,    0.700000 ], refinement level:0, dK=[0.1 0.1 0.1]  \n",
      " K-point 728 : coord in rec.lattice = [   0.700000  ,   0.200000 ,    0.800000 ], refinement level:0, dK=[0.1 0.1 0.1]  \n",
      " K-point 729 : coord in rec.lattice = [   0.700000  ,   0.200000 ,    0.900000 ], refinement level:0, dK=[0.1 0.1 0.1]  \n",
      " K-point 730 : coord in rec.lattice = [   0.700000  ,   0.300000 ,    0.000000 ], refinement level:0, dK=[0.1 0.1 0.1]  \n",
      " K-point 731 : coord in rec.lattice = [   0.700000  ,   0.300000 ,    0.100000 ], refinement level:0, dK=[0.1 0.1 0.1]  \n",
      " K-point 732 : coord in rec.lattice = [   0.700000  ,   0.300000 ,    0.200000 ], refinement level:0, dK=[0.1 0.1 0.1]  \n",
      " K-point 733 : coord in rec.lattice = [   0.700000  ,   0.300000 ,    0.300000 ], refinement level:0, dK=[0.1 0.1 0.1]  \n",
      " K-point 734 : coord in rec.lattice = [   0.700000  ,   0.300000 ,    0.400000 ], refinement level:0, dK=[0.1 0.1 0.1]  \n",
      " K-point 735 : coord in rec.lattice = [   0.700000  ,   0.300000 ,    0.500000 ], refinement level:0, dK=[0.1 0.1 0.1]  \n",
      " K-point 736 : coord in rec.lattice = [   0.700000  ,   0.300000 ,    0.600000 ], refinement level:0, dK=[0.1 0.1 0.1]  \n",
      " K-point 737 : coord in rec.lattice = [   0.700000  ,   0.300000 ,    0.700000 ], refinement level:0, dK=[0.1 0.1 0.1]  \n",
      " K-point 738 : coord in rec.lattice = [   0.700000  ,   0.300000 ,    0.800000 ], refinement level:0, dK=[0.1 0.1 0.1]  \n",
      " K-point 739 : coord in rec.lattice = [   0.700000  ,   0.300000 ,    0.900000 ], refinement level:0, dK=[0.1 0.1 0.1]  \n",
      " K-point 740 : coord in rec.lattice = [   0.700000  ,   0.400000 ,    0.000000 ], refinement level:0, dK=[0.1 0.1 0.1]  \n",
      " K-point 741 : coord in rec.lattice = [   0.700000  ,   0.400000 ,    0.100000 ], refinement level:0, dK=[0.1 0.1 0.1]  \n",
      " K-point 742 : coord in rec.lattice = [   0.700000  ,   0.400000 ,    0.200000 ], refinement level:0, dK=[0.1 0.1 0.1]  \n",
      " K-point 743 : coord in rec.lattice = [   0.700000  ,   0.400000 ,    0.300000 ], refinement level:0, dK=[0.1 0.1 0.1]  \n",
      " K-point 744 : coord in rec.lattice = [   0.700000  ,   0.400000 ,    0.400000 ], refinement level:0, dK=[0.1 0.1 0.1]  \n",
      " K-point 745 : coord in rec.lattice = [   0.700000  ,   0.400000 ,    0.500000 ], refinement level:0, dK=[0.1 0.1 0.1]  \n",
      " K-point 746 : coord in rec.lattice = [   0.700000  ,   0.400000 ,    0.600000 ], refinement level:0, dK=[0.1 0.1 0.1]  \n",
      " K-point 747 : coord in rec.lattice = [   0.700000  ,   0.400000 ,    0.700000 ], refinement level:0, dK=[0.1 0.1 0.1]  \n",
      " K-point 748 : coord in rec.lattice = [   0.700000  ,   0.400000 ,    0.800000 ], refinement level:0, dK=[0.1 0.1 0.1]  \n",
      " K-point 749 : coord in rec.lattice = [   0.700000  ,   0.400000 ,    0.900000 ], refinement level:0, dK=[0.1 0.1 0.1]  \n",
      " K-point 750 : coord in rec.lattice = [   0.700000  ,   0.500000 ,    0.000000 ], refinement level:0, dK=[0.1 0.1 0.1]  \n",
      " K-point 751 : coord in rec.lattice = [   0.700000  ,   0.500000 ,    0.100000 ], refinement level:0, dK=[0.1 0.1 0.1]  \n",
      " K-point 752 : coord in rec.lattice = [   0.700000  ,   0.500000 ,    0.200000 ], refinement level:0, dK=[0.1 0.1 0.1]  \n",
      " K-point 753 : coord in rec.lattice = [   0.700000  ,   0.500000 ,    0.300000 ], refinement level:0, dK=[0.1 0.1 0.1]  \n",
      " K-point 754 : coord in rec.lattice = [   0.700000  ,   0.500000 ,    0.400000 ], refinement level:0, dK=[0.1 0.1 0.1]  \n",
      " K-point 755 : coord in rec.lattice = [   0.700000  ,   0.500000 ,    0.500000 ], refinement level:0, dK=[0.1 0.1 0.1]  \n",
      " K-point 756 : coord in rec.lattice = [   0.700000  ,   0.500000 ,    0.600000 ], refinement level:0, dK=[0.1 0.1 0.1]  \n",
      " K-point 757 : coord in rec.lattice = [   0.700000  ,   0.500000 ,    0.700000 ], refinement level:0, dK=[0.1 0.1 0.1]  \n",
      " K-point 758 : coord in rec.lattice = [   0.700000  ,   0.500000 ,    0.800000 ], refinement level:0, dK=[0.1 0.1 0.1]  \n",
      " K-point 759 : coord in rec.lattice = [   0.700000  ,   0.500000 ,    0.900000 ], refinement level:0, dK=[0.1 0.1 0.1]  \n",
      " K-point 760 : coord in rec.lattice = [   0.700000  ,   0.600000 ,    0.000000 ], refinement level:0, dK=[0.1 0.1 0.1]  \n",
      " K-point 761 : coord in rec.lattice = [   0.700000  ,   0.600000 ,    0.100000 ], refinement level:0, dK=[0.1 0.1 0.1]  \n",
      " K-point 762 : coord in rec.lattice = [   0.700000  ,   0.600000 ,    0.200000 ], refinement level:0, dK=[0.1 0.1 0.1]  \n",
      " K-point 763 : coord in rec.lattice = [   0.700000  ,   0.600000 ,    0.300000 ], refinement level:0, dK=[0.1 0.1 0.1]  \n",
      " K-point 764 : coord in rec.lattice = [   0.700000  ,   0.600000 ,    0.400000 ], refinement level:0, dK=[0.1 0.1 0.1]  \n",
      " K-point 765 : coord in rec.lattice = [   0.700000  ,   0.600000 ,    0.500000 ], refinement level:0, dK=[0.1 0.1 0.1]  \n",
      " K-point 766 : coord in rec.lattice = [   0.700000  ,   0.600000 ,    0.600000 ], refinement level:0, dK=[0.1 0.1 0.1]  \n",
      " K-point 767 : coord in rec.lattice = [   0.700000  ,   0.600000 ,    0.700000 ], refinement level:0, dK=[0.1 0.1 0.1]  \n",
      " K-point 768 : coord in rec.lattice = [   0.700000  ,   0.600000 ,    0.800000 ], refinement level:0, dK=[0.1 0.1 0.1]  \n",
      " K-point 769 : coord in rec.lattice = [   0.700000  ,   0.600000 ,    0.900000 ], refinement level:0, dK=[0.1 0.1 0.1]  \n",
      " K-point 770 : coord in rec.lattice = [   0.700000  ,   0.700000 ,    0.000000 ], refinement level:0, dK=[0.1 0.1 0.1]  \n",
      " K-point 771 : coord in rec.lattice = [   0.700000  ,   0.700000 ,    0.100000 ], refinement level:0, dK=[0.1 0.1 0.1]  \n",
      " K-point 772 : coord in rec.lattice = [   0.700000  ,   0.700000 ,    0.200000 ], refinement level:0, dK=[0.1 0.1 0.1]  \n",
      " K-point 773 : coord in rec.lattice = [   0.700000  ,   0.700000 ,    0.300000 ], refinement level:0, dK=[0.1 0.1 0.1]  \n",
      " K-point 774 : coord in rec.lattice = [   0.700000  ,   0.700000 ,    0.400000 ], refinement level:0, dK=[0.1 0.1 0.1]  \n",
      " K-point 775 : coord in rec.lattice = [   0.700000  ,   0.700000 ,    0.500000 ], refinement level:0, dK=[0.1 0.1 0.1]  \n",
      " K-point 776 : coord in rec.lattice = [   0.700000  ,   0.700000 ,    0.600000 ], refinement level:0, dK=[0.1 0.1 0.1]  \n",
      " K-point 777 : coord in rec.lattice = [   0.700000  ,   0.700000 ,    0.700000 ], refinement level:0, dK=[0.1 0.1 0.1]  \n",
      " K-point 778 : coord in rec.lattice = [   0.700000  ,   0.700000 ,    0.800000 ], refinement level:0, dK=[0.1 0.1 0.1]  \n",
      " K-point 779 : coord in rec.lattice = [   0.700000  ,   0.700000 ,    0.900000 ], refinement level:0, dK=[0.1 0.1 0.1]  \n",
      " K-point 780 : coord in rec.lattice = [   0.700000  ,   0.800000 ,    0.000000 ], refinement level:0, dK=[0.1 0.1 0.1]  \n",
      " K-point 781 : coord in rec.lattice = [   0.700000  ,   0.800000 ,    0.100000 ], refinement level:0, dK=[0.1 0.1 0.1]  \n",
      " K-point 782 : coord in rec.lattice = [   0.700000  ,   0.800000 ,    0.200000 ], refinement level:0, dK=[0.1 0.1 0.1]  \n",
      " K-point 783 : coord in rec.lattice = [   0.700000  ,   0.800000 ,    0.300000 ], refinement level:0, dK=[0.1 0.1 0.1]  \n",
      " K-point 784 : coord in rec.lattice = [   0.700000  ,   0.800000 ,    0.400000 ], refinement level:0, dK=[0.1 0.1 0.1]  \n",
      " K-point 785 : coord in rec.lattice = [   0.700000  ,   0.800000 ,    0.500000 ], refinement level:0, dK=[0.1 0.1 0.1]  \n",
      " K-point 786 : coord in rec.lattice = [   0.700000  ,   0.800000 ,    0.600000 ], refinement level:0, dK=[0.1 0.1 0.1]  \n",
      " K-point 787 : coord in rec.lattice = [   0.700000  ,   0.800000 ,    0.700000 ], refinement level:0, dK=[0.1 0.1 0.1]  \n",
      " K-point 788 : coord in rec.lattice = [   0.700000  ,   0.800000 ,    0.800000 ], refinement level:0, dK=[0.1 0.1 0.1]  \n",
      " K-point 789 : coord in rec.lattice = [   0.700000  ,   0.800000 ,    0.900000 ], refinement level:0, dK=[0.1 0.1 0.1]  \n",
      " K-point 790 : coord in rec.lattice = [   0.700000  ,   0.900000 ,    0.000000 ], refinement level:0, dK=[0.1 0.1 0.1]  \n",
      " K-point 791 : coord in rec.lattice = [   0.700000  ,   0.900000 ,    0.100000 ], refinement level:0, dK=[0.1 0.1 0.1]  \n",
      " K-point 792 : coord in rec.lattice = [   0.700000  ,   0.900000 ,    0.200000 ], refinement level:0, dK=[0.1 0.1 0.1]  \n",
      " K-point 793 : coord in rec.lattice = [   0.700000  ,   0.900000 ,    0.300000 ], refinement level:0, dK=[0.1 0.1 0.1]  \n",
      " K-point 794 : coord in rec.lattice = [   0.700000  ,   0.900000 ,    0.400000 ], refinement level:0, dK=[0.1 0.1 0.1]  \n",
      " K-point 795 : coord in rec.lattice = [   0.700000  ,   0.900000 ,    0.500000 ], refinement level:0, dK=[0.1 0.1 0.1]  \n",
      " K-point 796 : coord in rec.lattice = [   0.700000  ,   0.900000 ,    0.600000 ], refinement level:0, dK=[0.1 0.1 0.1]  \n",
      " K-point 797 : coord in rec.lattice = [   0.700000  ,   0.900000 ,    0.700000 ], refinement level:0, dK=[0.1 0.1 0.1]  \n",
      " K-point 798 : coord in rec.lattice = [   0.700000  ,   0.900000 ,    0.800000 ], refinement level:0, dK=[0.1 0.1 0.1]  \n",
      " K-point 799 : coord in rec.lattice = [   0.700000  ,   0.900000 ,    0.900000 ], refinement level:0, dK=[0.1 0.1 0.1]  \n",
      " K-point 800 : coord in rec.lattice = [   0.800000  ,   0.000000 ,    0.000000 ], refinement level:0, dK=[0.1 0.1 0.1]  \n",
      " K-point 801 : coord in rec.lattice = [   0.800000  ,   0.000000 ,    0.100000 ], refinement level:0, dK=[0.1 0.1 0.1]  \n",
      " K-point 802 : coord in rec.lattice = [   0.800000  ,   0.000000 ,    0.200000 ], refinement level:0, dK=[0.1 0.1 0.1]  \n",
      " K-point 803 : coord in rec.lattice = [   0.800000  ,   0.000000 ,    0.300000 ], refinement level:0, dK=[0.1 0.1 0.1]  \n",
      " K-point 804 : coord in rec.lattice = [   0.800000  ,   0.000000 ,    0.400000 ], refinement level:0, dK=[0.1 0.1 0.1]  \n",
      " K-point 805 : coord in rec.lattice = [   0.800000  ,   0.000000 ,    0.500000 ], refinement level:0, dK=[0.1 0.1 0.1]  \n",
      " K-point 806 : coord in rec.lattice = [   0.800000  ,   0.000000 ,    0.600000 ], refinement level:0, dK=[0.1 0.1 0.1]  \n",
      " K-point 807 : coord in rec.lattice = [   0.800000  ,   0.000000 ,    0.700000 ], refinement level:0, dK=[0.1 0.1 0.1]  \n",
      " K-point 808 : coord in rec.lattice = [   0.800000  ,   0.000000 ,    0.800000 ], refinement level:0, dK=[0.1 0.1 0.1]  \n",
      " K-point 809 : coord in rec.lattice = [   0.800000  ,   0.000000 ,    0.900000 ], refinement level:0, dK=[0.1 0.1 0.1]  \n",
      " K-point 810 : coord in rec.lattice = [   0.800000  ,   0.100000 ,    0.000000 ], refinement level:0, dK=[0.1 0.1 0.1]  \n",
      " K-point 811 : coord in rec.lattice = [   0.800000  ,   0.100000 ,    0.100000 ], refinement level:0, dK=[0.1 0.1 0.1]  \n",
      " K-point 812 : coord in rec.lattice = [   0.800000  ,   0.100000 ,    0.200000 ], refinement level:0, dK=[0.1 0.1 0.1]  \n",
      " K-point 813 : coord in rec.lattice = [   0.800000  ,   0.100000 ,    0.300000 ], refinement level:0, dK=[0.1 0.1 0.1]  \n",
      " K-point 814 : coord in rec.lattice = [   0.800000  ,   0.100000 ,    0.400000 ], refinement level:0, dK=[0.1 0.1 0.1]  \n",
      " K-point 815 : coord in rec.lattice = [   0.800000  ,   0.100000 ,    0.500000 ], refinement level:0, dK=[0.1 0.1 0.1]  \n",
      " K-point 816 : coord in rec.lattice = [   0.800000  ,   0.100000 ,    0.600000 ], refinement level:0, dK=[0.1 0.1 0.1]  \n",
      " K-point 817 : coord in rec.lattice = [   0.800000  ,   0.100000 ,    0.700000 ], refinement level:0, dK=[0.1 0.1 0.1]  \n",
      " K-point 818 : coord in rec.lattice = [   0.800000  ,   0.100000 ,    0.800000 ], refinement level:0, dK=[0.1 0.1 0.1]  \n",
      " K-point 819 : coord in rec.lattice = [   0.800000  ,   0.100000 ,    0.900000 ], refinement level:0, dK=[0.1 0.1 0.1]  \n",
      " K-point 820 : coord in rec.lattice = [   0.800000  ,   0.200000 ,    0.000000 ], refinement level:0, dK=[0.1 0.1 0.1]  \n",
      " K-point 821 : coord in rec.lattice = [   0.800000  ,   0.200000 ,    0.100000 ], refinement level:0, dK=[0.1 0.1 0.1]  \n",
      " K-point 822 : coord in rec.lattice = [   0.800000  ,   0.200000 ,    0.200000 ], refinement level:0, dK=[0.1 0.1 0.1]  \n",
      " K-point 823 : coord in rec.lattice = [   0.800000  ,   0.200000 ,    0.300000 ], refinement level:0, dK=[0.1 0.1 0.1]  \n",
      " K-point 824 : coord in rec.lattice = [   0.800000  ,   0.200000 ,    0.400000 ], refinement level:0, dK=[0.1 0.1 0.1]  \n",
      " K-point 825 : coord in rec.lattice = [   0.800000  ,   0.200000 ,    0.500000 ], refinement level:0, dK=[0.1 0.1 0.1]  \n",
      " K-point 826 : coord in rec.lattice = [   0.800000  ,   0.200000 ,    0.600000 ], refinement level:0, dK=[0.1 0.1 0.1]  \n",
      " K-point 827 : coord in rec.lattice = [   0.800000  ,   0.200000 ,    0.700000 ], refinement level:0, dK=[0.1 0.1 0.1]  \n",
      " K-point 828 : coord in rec.lattice = [   0.800000  ,   0.200000 ,    0.800000 ], refinement level:0, dK=[0.1 0.1 0.1]  \n",
      " K-point 829 : coord in rec.lattice = [   0.800000  ,   0.200000 ,    0.900000 ], refinement level:0, dK=[0.1 0.1 0.1]  \n",
      " K-point 830 : coord in rec.lattice = [   0.800000  ,   0.300000 ,    0.000000 ], refinement level:0, dK=[0.1 0.1 0.1]  \n",
      " K-point 831 : coord in rec.lattice = [   0.800000  ,   0.300000 ,    0.100000 ], refinement level:0, dK=[0.1 0.1 0.1]  \n",
      " K-point 832 : coord in rec.lattice = [   0.800000  ,   0.300000 ,    0.200000 ], refinement level:0, dK=[0.1 0.1 0.1]  \n",
      " K-point 833 : coord in rec.lattice = [   0.800000  ,   0.300000 ,    0.300000 ], refinement level:0, dK=[0.1 0.1 0.1]  \n",
      " K-point 834 : coord in rec.lattice = [   0.800000  ,   0.300000 ,    0.400000 ], refinement level:0, dK=[0.1 0.1 0.1]  \n",
      " K-point 835 : coord in rec.lattice = [   0.800000  ,   0.300000 ,    0.500000 ], refinement level:0, dK=[0.1 0.1 0.1]  \n",
      " K-point 836 : coord in rec.lattice = [   0.800000  ,   0.300000 ,    0.600000 ], refinement level:0, dK=[0.1 0.1 0.1]  \n",
      " K-point 837 : coord in rec.lattice = [   0.800000  ,   0.300000 ,    0.700000 ], refinement level:0, dK=[0.1 0.1 0.1]  \n",
      " K-point 838 : coord in rec.lattice = [   0.800000  ,   0.300000 ,    0.800000 ], refinement level:0, dK=[0.1 0.1 0.1]  \n",
      " K-point 839 : coord in rec.lattice = [   0.800000  ,   0.300000 ,    0.900000 ], refinement level:0, dK=[0.1 0.1 0.1]  \n",
      " K-point 840 : coord in rec.lattice = [   0.800000  ,   0.400000 ,    0.000000 ], refinement level:0, dK=[0.1 0.1 0.1]  \n",
      " K-point 841 : coord in rec.lattice = [   0.800000  ,   0.400000 ,    0.100000 ], refinement level:0, dK=[0.1 0.1 0.1]  \n",
      " K-point 842 : coord in rec.lattice = [   0.800000  ,   0.400000 ,    0.200000 ], refinement level:0, dK=[0.1 0.1 0.1]  \n",
      " K-point 843 : coord in rec.lattice = [   0.800000  ,   0.400000 ,    0.300000 ], refinement level:0, dK=[0.1 0.1 0.1]  \n",
      " K-point 844 : coord in rec.lattice = [   0.800000  ,   0.400000 ,    0.400000 ], refinement level:0, dK=[0.1 0.1 0.1]  \n",
      " K-point 845 : coord in rec.lattice = [   0.800000  ,   0.400000 ,    0.500000 ], refinement level:0, dK=[0.1 0.1 0.1]  \n",
      " K-point 846 : coord in rec.lattice = [   0.800000  ,   0.400000 ,    0.600000 ], refinement level:0, dK=[0.1 0.1 0.1]  \n",
      " K-point 847 : coord in rec.lattice = [   0.800000  ,   0.400000 ,    0.700000 ], refinement level:0, dK=[0.1 0.1 0.1]  \n",
      " K-point 848 : coord in rec.lattice = [   0.800000  ,   0.400000 ,    0.800000 ], refinement level:0, dK=[0.1 0.1 0.1]  \n",
      " K-point 849 : coord in rec.lattice = [   0.800000  ,   0.400000 ,    0.900000 ], refinement level:0, dK=[0.1 0.1 0.1]  \n",
      " K-point 850 : coord in rec.lattice = [   0.800000  ,   0.500000 ,    0.000000 ], refinement level:0, dK=[0.1 0.1 0.1]  \n",
      " K-point 851 : coord in rec.lattice = [   0.800000  ,   0.500000 ,    0.100000 ], refinement level:0, dK=[0.1 0.1 0.1]  \n",
      " K-point 852 : coord in rec.lattice = [   0.800000  ,   0.500000 ,    0.200000 ], refinement level:0, dK=[0.1 0.1 0.1]  \n",
      " K-point 853 : coord in rec.lattice = [   0.800000  ,   0.500000 ,    0.300000 ], refinement level:0, dK=[0.1 0.1 0.1]  \n",
      " K-point 854 : coord in rec.lattice = [   0.800000  ,   0.500000 ,    0.400000 ], refinement level:0, dK=[0.1 0.1 0.1]  \n",
      " K-point 855 : coord in rec.lattice = [   0.800000  ,   0.500000 ,    0.500000 ], refinement level:0, dK=[0.1 0.1 0.1]  \n",
      " K-point 856 : coord in rec.lattice = [   0.800000  ,   0.500000 ,    0.600000 ], refinement level:0, dK=[0.1 0.1 0.1]  \n",
      " K-point 857 : coord in rec.lattice = [   0.800000  ,   0.500000 ,    0.700000 ], refinement level:0, dK=[0.1 0.1 0.1]  \n",
      " K-point 858 : coord in rec.lattice = [   0.800000  ,   0.500000 ,    0.800000 ], refinement level:0, dK=[0.1 0.1 0.1]  \n",
      " K-point 859 : coord in rec.lattice = [   0.800000  ,   0.500000 ,    0.900000 ], refinement level:0, dK=[0.1 0.1 0.1]  \n",
      " K-point 860 : coord in rec.lattice = [   0.800000  ,   0.600000 ,    0.000000 ], refinement level:0, dK=[0.1 0.1 0.1]  \n",
      " K-point 861 : coord in rec.lattice = [   0.800000  ,   0.600000 ,    0.100000 ], refinement level:0, dK=[0.1 0.1 0.1]  \n",
      " K-point 862 : coord in rec.lattice = [   0.800000  ,   0.600000 ,    0.200000 ], refinement level:0, dK=[0.1 0.1 0.1]  \n",
      " K-point 863 : coord in rec.lattice = [   0.800000  ,   0.600000 ,    0.300000 ], refinement level:0, dK=[0.1 0.1 0.1]  \n",
      " K-point 864 : coord in rec.lattice = [   0.800000  ,   0.600000 ,    0.400000 ], refinement level:0, dK=[0.1 0.1 0.1]  \n",
      " K-point 865 : coord in rec.lattice = [   0.800000  ,   0.600000 ,    0.500000 ], refinement level:0, dK=[0.1 0.1 0.1]  \n",
      " K-point 866 : coord in rec.lattice = [   0.800000  ,   0.600000 ,    0.600000 ], refinement level:0, dK=[0.1 0.1 0.1]  \n",
      " K-point 867 : coord in rec.lattice = [   0.800000  ,   0.600000 ,    0.700000 ], refinement level:0, dK=[0.1 0.1 0.1]  \n",
      " K-point 868 : coord in rec.lattice = [   0.800000  ,   0.600000 ,    0.800000 ], refinement level:0, dK=[0.1 0.1 0.1]  \n",
      " K-point 869 : coord in rec.lattice = [   0.800000  ,   0.600000 ,    0.900000 ], refinement level:0, dK=[0.1 0.1 0.1]  \n",
      " K-point 870 : coord in rec.lattice = [   0.800000  ,   0.700000 ,    0.000000 ], refinement level:0, dK=[0.1 0.1 0.1]  \n",
      " K-point 871 : coord in rec.lattice = [   0.800000  ,   0.700000 ,    0.100000 ], refinement level:0, dK=[0.1 0.1 0.1]  \n",
      " K-point 872 : coord in rec.lattice = [   0.800000  ,   0.700000 ,    0.200000 ], refinement level:0, dK=[0.1 0.1 0.1]  \n",
      " K-point 873 : coord in rec.lattice = [   0.800000  ,   0.700000 ,    0.300000 ], refinement level:0, dK=[0.1 0.1 0.1]  \n",
      " K-point 874 : coord in rec.lattice = [   0.800000  ,   0.700000 ,    0.400000 ], refinement level:0, dK=[0.1 0.1 0.1]  \n",
      " K-point 875 : coord in rec.lattice = [   0.800000  ,   0.700000 ,    0.500000 ], refinement level:0, dK=[0.1 0.1 0.1]  \n",
      " K-point 876 : coord in rec.lattice = [   0.800000  ,   0.700000 ,    0.600000 ], refinement level:0, dK=[0.1 0.1 0.1]  \n",
      " K-point 877 : coord in rec.lattice = [   0.800000  ,   0.700000 ,    0.700000 ], refinement level:0, dK=[0.1 0.1 0.1]  \n",
      " K-point 878 : coord in rec.lattice = [   0.800000  ,   0.700000 ,    0.800000 ], refinement level:0, dK=[0.1 0.1 0.1]  \n",
      " K-point 879 : coord in rec.lattice = [   0.800000  ,   0.700000 ,    0.900000 ], refinement level:0, dK=[0.1 0.1 0.1]  \n",
      " K-point 880 : coord in rec.lattice = [   0.800000  ,   0.800000 ,    0.000000 ], refinement level:0, dK=[0.1 0.1 0.1]  \n",
      " K-point 881 : coord in rec.lattice = [   0.800000  ,   0.800000 ,    0.100000 ], refinement level:0, dK=[0.1 0.1 0.1]  \n",
      " K-point 882 : coord in rec.lattice = [   0.800000  ,   0.800000 ,    0.200000 ], refinement level:0, dK=[0.1 0.1 0.1]  \n",
      " K-point 883 : coord in rec.lattice = [   0.800000  ,   0.800000 ,    0.300000 ], refinement level:0, dK=[0.1 0.1 0.1]  \n",
      " K-point 884 : coord in rec.lattice = [   0.800000  ,   0.800000 ,    0.400000 ], refinement level:0, dK=[0.1 0.1 0.1]  \n",
      " K-point 885 : coord in rec.lattice = [   0.800000  ,   0.800000 ,    0.500000 ], refinement level:0, dK=[0.1 0.1 0.1]  \n",
      " K-point 886 : coord in rec.lattice = [   0.800000  ,   0.800000 ,    0.600000 ], refinement level:0, dK=[0.1 0.1 0.1]  \n",
      " K-point 887 : coord in rec.lattice = [   0.800000  ,   0.800000 ,    0.700000 ], refinement level:0, dK=[0.1 0.1 0.1]  \n",
      " K-point 888 : coord in rec.lattice = [   0.800000  ,   0.800000 ,    0.800000 ], refinement level:0, dK=[0.1 0.1 0.1]  \n",
      " K-point 889 : coord in rec.lattice = [   0.800000  ,   0.800000 ,    0.900000 ], refinement level:0, dK=[0.1 0.1 0.1]  \n",
      " K-point 890 : coord in rec.lattice = [   0.800000  ,   0.900000 ,    0.000000 ], refinement level:0, dK=[0.1 0.1 0.1]  \n",
      " K-point 891 : coord in rec.lattice = [   0.800000  ,   0.900000 ,    0.100000 ], refinement level:0, dK=[0.1 0.1 0.1]  \n",
      " K-point 892 : coord in rec.lattice = [   0.800000  ,   0.900000 ,    0.200000 ], refinement level:0, dK=[0.1 0.1 0.1]  \n",
      " K-point 893 : coord in rec.lattice = [   0.800000  ,   0.900000 ,    0.300000 ], refinement level:0, dK=[0.1 0.1 0.1]  \n",
      " K-point 894 : coord in rec.lattice = [   0.800000  ,   0.900000 ,    0.400000 ], refinement level:0, dK=[0.1 0.1 0.1]  \n",
      " K-point 895 : coord in rec.lattice = [   0.800000  ,   0.900000 ,    0.500000 ], refinement level:0, dK=[0.1 0.1 0.1]  \n",
      " K-point 896 : coord in rec.lattice = [   0.800000  ,   0.900000 ,    0.600000 ], refinement level:0, dK=[0.1 0.1 0.1]  \n",
      " K-point 897 : coord in rec.lattice = [   0.800000  ,   0.900000 ,    0.700000 ], refinement level:0, dK=[0.1 0.1 0.1]  \n",
      " K-point 898 : coord in rec.lattice = [   0.800000  ,   0.900000 ,    0.800000 ], refinement level:0, dK=[0.1 0.1 0.1]  \n",
      " K-point 899 : coord in rec.lattice = [   0.800000  ,   0.900000 ,    0.900000 ], refinement level:0, dK=[0.1 0.1 0.1]  \n",
      " K-point 900 : coord in rec.lattice = [   0.900000  ,   0.000000 ,    0.000000 ], refinement level:0, dK=[0.1 0.1 0.1]  \n",
      " K-point 901 : coord in rec.lattice = [   0.900000  ,   0.000000 ,    0.100000 ], refinement level:0, dK=[0.1 0.1 0.1]  \n",
      " K-point 902 : coord in rec.lattice = [   0.900000  ,   0.000000 ,    0.200000 ], refinement level:0, dK=[0.1 0.1 0.1]  \n",
      " K-point 903 : coord in rec.lattice = [   0.900000  ,   0.000000 ,    0.300000 ], refinement level:0, dK=[0.1 0.1 0.1]  \n",
      " K-point 904 : coord in rec.lattice = [   0.900000  ,   0.000000 ,    0.400000 ], refinement level:0, dK=[0.1 0.1 0.1]  \n",
      " K-point 905 : coord in rec.lattice = [   0.900000  ,   0.000000 ,    0.500000 ], refinement level:0, dK=[0.1 0.1 0.1]  \n",
      " K-point 906 : coord in rec.lattice = [   0.900000  ,   0.000000 ,    0.600000 ], refinement level:0, dK=[0.1 0.1 0.1]  \n",
      " K-point 907 : coord in rec.lattice = [   0.900000  ,   0.000000 ,    0.700000 ], refinement level:0, dK=[0.1 0.1 0.1]  \n",
      " K-point 908 : coord in rec.lattice = [   0.900000  ,   0.000000 ,    0.800000 ], refinement level:0, dK=[0.1 0.1 0.1]  \n",
      " K-point 909 : coord in rec.lattice = [   0.900000  ,   0.000000 ,    0.900000 ], refinement level:0, dK=[0.1 0.1 0.1]  \n",
      " K-point 910 : coord in rec.lattice = [   0.900000  ,   0.100000 ,    0.000000 ], refinement level:0, dK=[0.1 0.1 0.1]  \n",
      " K-point 911 : coord in rec.lattice = [   0.900000  ,   0.100000 ,    0.100000 ], refinement level:0, dK=[0.1 0.1 0.1]  \n",
      " K-point 912 : coord in rec.lattice = [   0.900000  ,   0.100000 ,    0.200000 ], refinement level:0, dK=[0.1 0.1 0.1]  \n",
      " K-point 913 : coord in rec.lattice = [   0.900000  ,   0.100000 ,    0.300000 ], refinement level:0, dK=[0.1 0.1 0.1]  \n",
      " K-point 914 : coord in rec.lattice = [   0.900000  ,   0.100000 ,    0.400000 ], refinement level:0, dK=[0.1 0.1 0.1]  \n",
      " K-point 915 : coord in rec.lattice = [   0.900000  ,   0.100000 ,    0.500000 ], refinement level:0, dK=[0.1 0.1 0.1]  \n",
      " K-point 916 : coord in rec.lattice = [   0.900000  ,   0.100000 ,    0.600000 ], refinement level:0, dK=[0.1 0.1 0.1]  \n",
      " K-point 917 : coord in rec.lattice = [   0.900000  ,   0.100000 ,    0.700000 ], refinement level:0, dK=[0.1 0.1 0.1]  \n",
      " K-point 918 : coord in rec.lattice = [   0.900000  ,   0.100000 ,    0.800000 ], refinement level:0, dK=[0.1 0.1 0.1]  \n",
      " K-point 919 : coord in rec.lattice = [   0.900000  ,   0.100000 ,    0.900000 ], refinement level:0, dK=[0.1 0.1 0.1]  \n",
      " K-point 920 : coord in rec.lattice = [   0.900000  ,   0.200000 ,    0.000000 ], refinement level:0, dK=[0.1 0.1 0.1]  \n",
      " K-point 921 : coord in rec.lattice = [   0.900000  ,   0.200000 ,    0.100000 ], refinement level:0, dK=[0.1 0.1 0.1]  \n",
      " K-point 922 : coord in rec.lattice = [   0.900000  ,   0.200000 ,    0.200000 ], refinement level:0, dK=[0.1 0.1 0.1]  \n",
      " K-point 923 : coord in rec.lattice = [   0.900000  ,   0.200000 ,    0.300000 ], refinement level:0, dK=[0.1 0.1 0.1]  \n",
      " K-point 924 : coord in rec.lattice = [   0.900000  ,   0.200000 ,    0.400000 ], refinement level:0, dK=[0.1 0.1 0.1]  \n",
      " K-point 925 : coord in rec.lattice = [   0.900000  ,   0.200000 ,    0.500000 ], refinement level:0, dK=[0.1 0.1 0.1]  \n",
      " K-point 926 : coord in rec.lattice = [   0.900000  ,   0.200000 ,    0.600000 ], refinement level:0, dK=[0.1 0.1 0.1]  \n",
      " K-point 927 : coord in rec.lattice = [   0.900000  ,   0.200000 ,    0.700000 ], refinement level:0, dK=[0.1 0.1 0.1]  \n",
      " K-point 928 : coord in rec.lattice = [   0.900000  ,   0.200000 ,    0.800000 ], refinement level:0, dK=[0.1 0.1 0.1]  \n",
      " K-point 929 : coord in rec.lattice = [   0.900000  ,   0.200000 ,    0.900000 ], refinement level:0, dK=[0.1 0.1 0.1]  \n",
      " K-point 930 : coord in rec.lattice = [   0.900000  ,   0.300000 ,    0.000000 ], refinement level:0, dK=[0.1 0.1 0.1]  \n",
      " K-point 931 : coord in rec.lattice = [   0.900000  ,   0.300000 ,    0.100000 ], refinement level:0, dK=[0.1 0.1 0.1]  \n",
      " K-point 932 : coord in rec.lattice = [   0.900000  ,   0.300000 ,    0.200000 ], refinement level:0, dK=[0.1 0.1 0.1]  \n",
      " K-point 933 : coord in rec.lattice = [   0.900000  ,   0.300000 ,    0.300000 ], refinement level:0, dK=[0.1 0.1 0.1]  \n",
      " K-point 934 : coord in rec.lattice = [   0.900000  ,   0.300000 ,    0.400000 ], refinement level:0, dK=[0.1 0.1 0.1]  \n",
      " K-point 935 : coord in rec.lattice = [   0.900000  ,   0.300000 ,    0.500000 ], refinement level:0, dK=[0.1 0.1 0.1]  \n",
      " K-point 936 : coord in rec.lattice = [   0.900000  ,   0.300000 ,    0.600000 ], refinement level:0, dK=[0.1 0.1 0.1]  \n",
      " K-point 937 : coord in rec.lattice = [   0.900000  ,   0.300000 ,    0.700000 ], refinement level:0, dK=[0.1 0.1 0.1]  \n",
      " K-point 938 : coord in rec.lattice = [   0.900000  ,   0.300000 ,    0.800000 ], refinement level:0, dK=[0.1 0.1 0.1]  \n",
      " K-point 939 : coord in rec.lattice = [   0.900000  ,   0.300000 ,    0.900000 ], refinement level:0, dK=[0.1 0.1 0.1]  \n",
      " K-point 940 : coord in rec.lattice = [   0.900000  ,   0.400000 ,    0.000000 ], refinement level:0, dK=[0.1 0.1 0.1]  \n",
      " K-point 941 : coord in rec.lattice = [   0.900000  ,   0.400000 ,    0.100000 ], refinement level:0, dK=[0.1 0.1 0.1]  \n",
      " K-point 942 : coord in rec.lattice = [   0.900000  ,   0.400000 ,    0.200000 ], refinement level:0, dK=[0.1 0.1 0.1]  \n",
      " K-point 943 : coord in rec.lattice = [   0.900000  ,   0.400000 ,    0.300000 ], refinement level:0, dK=[0.1 0.1 0.1]  \n",
      " K-point 944 : coord in rec.lattice = [   0.900000  ,   0.400000 ,    0.400000 ], refinement level:0, dK=[0.1 0.1 0.1]  \n",
      " K-point 945 : coord in rec.lattice = [   0.900000  ,   0.400000 ,    0.500000 ], refinement level:0, dK=[0.1 0.1 0.1]  \n",
      " K-point 946 : coord in rec.lattice = [   0.900000  ,   0.400000 ,    0.600000 ], refinement level:0, dK=[0.1 0.1 0.1]  \n",
      " K-point 947 : coord in rec.lattice = [   0.900000  ,   0.400000 ,    0.700000 ], refinement level:0, dK=[0.1 0.1 0.1]  \n",
      " K-point 948 : coord in rec.lattice = [   0.900000  ,   0.400000 ,    0.800000 ], refinement level:0, dK=[0.1 0.1 0.1]  \n",
      " K-point 949 : coord in rec.lattice = [   0.900000  ,   0.400000 ,    0.900000 ], refinement level:0, dK=[0.1 0.1 0.1]  \n",
      " K-point 950 : coord in rec.lattice = [   0.900000  ,   0.500000 ,    0.000000 ], refinement level:0, dK=[0.1 0.1 0.1]  \n",
      " K-point 951 : coord in rec.lattice = [   0.900000  ,   0.500000 ,    0.100000 ], refinement level:0, dK=[0.1 0.1 0.1]  \n",
      " K-point 952 : coord in rec.lattice = [   0.900000  ,   0.500000 ,    0.200000 ], refinement level:0, dK=[0.1 0.1 0.1]  \n",
      " K-point 953 : coord in rec.lattice = [   0.900000  ,   0.500000 ,    0.300000 ], refinement level:0, dK=[0.1 0.1 0.1]  \n",
      " K-point 954 : coord in rec.lattice = [   0.900000  ,   0.500000 ,    0.400000 ], refinement level:0, dK=[0.1 0.1 0.1]  \n",
      " K-point 955 : coord in rec.lattice = [   0.900000  ,   0.500000 ,    0.500000 ], refinement level:0, dK=[0.1 0.1 0.1]  \n",
      " K-point 956 : coord in rec.lattice = [   0.900000  ,   0.500000 ,    0.600000 ], refinement level:0, dK=[0.1 0.1 0.1]  \n",
      " K-point 957 : coord in rec.lattice = [   0.900000  ,   0.500000 ,    0.700000 ], refinement level:0, dK=[0.1 0.1 0.1]  \n",
      " K-point 958 : coord in rec.lattice = [   0.900000  ,   0.500000 ,    0.800000 ], refinement level:0, dK=[0.1 0.1 0.1]  \n",
      " K-point 959 : coord in rec.lattice = [   0.900000  ,   0.500000 ,    0.900000 ], refinement level:0, dK=[0.1 0.1 0.1]  \n",
      " K-point 960 : coord in rec.lattice = [   0.900000  ,   0.600000 ,    0.000000 ], refinement level:0, dK=[0.1 0.1 0.1]  \n",
      " K-point 961 : coord in rec.lattice = [   0.900000  ,   0.600000 ,    0.100000 ], refinement level:0, dK=[0.1 0.1 0.1]  \n",
      " K-point 962 : coord in rec.lattice = [   0.900000  ,   0.600000 ,    0.200000 ], refinement level:0, dK=[0.1 0.1 0.1]  \n",
      " K-point 963 : coord in rec.lattice = [   0.900000  ,   0.600000 ,    0.300000 ], refinement level:0, dK=[0.1 0.1 0.1]  \n",
      " K-point 964 : coord in rec.lattice = [   0.900000  ,   0.600000 ,    0.400000 ], refinement level:0, dK=[0.1 0.1 0.1]  \n",
      " K-point 965 : coord in rec.lattice = [   0.900000  ,   0.600000 ,    0.500000 ], refinement level:0, dK=[0.1 0.1 0.1]  \n",
      " K-point 966 : coord in rec.lattice = [   0.900000  ,   0.600000 ,    0.600000 ], refinement level:0, dK=[0.1 0.1 0.1]  \n",
      " K-point 967 : coord in rec.lattice = [   0.900000  ,   0.600000 ,    0.700000 ], refinement level:0, dK=[0.1 0.1 0.1]  \n",
      " K-point 968 : coord in rec.lattice = [   0.900000  ,   0.600000 ,    0.800000 ], refinement level:0, dK=[0.1 0.1 0.1]  \n",
      " K-point 969 : coord in rec.lattice = [   0.900000  ,   0.600000 ,    0.900000 ], refinement level:0, dK=[0.1 0.1 0.1]  \n",
      " K-point 970 : coord in rec.lattice = [   0.900000  ,   0.700000 ,    0.000000 ], refinement level:0, dK=[0.1 0.1 0.1]  \n",
      " K-point 971 : coord in rec.lattice = [   0.900000  ,   0.700000 ,    0.100000 ], refinement level:0, dK=[0.1 0.1 0.1]  \n",
      " K-point 972 : coord in rec.lattice = [   0.900000  ,   0.700000 ,    0.200000 ], refinement level:0, dK=[0.1 0.1 0.1]  \n",
      " K-point 973 : coord in rec.lattice = [   0.900000  ,   0.700000 ,    0.300000 ], refinement level:0, dK=[0.1 0.1 0.1]  \n",
      " K-point 974 : coord in rec.lattice = [   0.900000  ,   0.700000 ,    0.400000 ], refinement level:0, dK=[0.1 0.1 0.1]  \n",
      " K-point 975 : coord in rec.lattice = [   0.900000  ,   0.700000 ,    0.500000 ], refinement level:0, dK=[0.1 0.1 0.1]  \n",
      " K-point 976 : coord in rec.lattice = [   0.900000  ,   0.700000 ,    0.600000 ], refinement level:0, dK=[0.1 0.1 0.1]  \n",
      " K-point 977 : coord in rec.lattice = [   0.900000  ,   0.700000 ,    0.700000 ], refinement level:0, dK=[0.1 0.1 0.1]  \n",
      " K-point 978 : coord in rec.lattice = [   0.900000  ,   0.700000 ,    0.800000 ], refinement level:0, dK=[0.1 0.1 0.1]  \n",
      " K-point 979 : coord in rec.lattice = [   0.900000  ,   0.700000 ,    0.900000 ], refinement level:0, dK=[0.1 0.1 0.1]  \n",
      " K-point 980 : coord in rec.lattice = [   0.900000  ,   0.800000 ,    0.000000 ], refinement level:0, dK=[0.1 0.1 0.1]  \n",
      " K-point 981 : coord in rec.lattice = [   0.900000  ,   0.800000 ,    0.100000 ], refinement level:0, dK=[0.1 0.1 0.1]  \n",
      " K-point 982 : coord in rec.lattice = [   0.900000  ,   0.800000 ,    0.200000 ], refinement level:0, dK=[0.1 0.1 0.1]  \n",
      " K-point 983 : coord in rec.lattice = [   0.900000  ,   0.800000 ,    0.300000 ], refinement level:0, dK=[0.1 0.1 0.1]  \n",
      " K-point 984 : coord in rec.lattice = [   0.900000  ,   0.800000 ,    0.400000 ], refinement level:0, dK=[0.1 0.1 0.1]  \n",
      " K-point 985 : coord in rec.lattice = [   0.900000  ,   0.800000 ,    0.500000 ], refinement level:0, dK=[0.1 0.1 0.1]  \n",
      " K-point 986 : coord in rec.lattice = [   0.900000  ,   0.800000 ,    0.600000 ], refinement level:0, dK=[0.1 0.1 0.1]  \n",
      " K-point 987 : coord in rec.lattice = [   0.900000  ,   0.800000 ,    0.700000 ], refinement level:0, dK=[0.1 0.1 0.1]  \n",
      " K-point 988 : coord in rec.lattice = [   0.900000  ,   0.800000 ,    0.800000 ], refinement level:0, dK=[0.1 0.1 0.1]  \n",
      " K-point 989 : coord in rec.lattice = [   0.900000  ,   0.800000 ,    0.900000 ], refinement level:0, dK=[0.1 0.1 0.1]  \n",
      " K-point 990 : coord in rec.lattice = [   0.900000  ,   0.900000 ,    0.000000 ], refinement level:0, dK=[0.1 0.1 0.1]  \n",
      " K-point 991 : coord in rec.lattice = [   0.900000  ,   0.900000 ,    0.100000 ], refinement level:0, dK=[0.1 0.1 0.1]  \n",
      " K-point 992 : coord in rec.lattice = [   0.900000  ,   0.900000 ,    0.200000 ], refinement level:0, dK=[0.1 0.1 0.1]  \n",
      " K-point 993 : coord in rec.lattice = [   0.900000  ,   0.900000 ,    0.300000 ], refinement level:0, dK=[0.1 0.1 0.1]  \n",
      " K-point 994 : coord in rec.lattice = [   0.900000  ,   0.900000 ,    0.400000 ], refinement level:0, dK=[0.1 0.1 0.1]  \n",
      " K-point 995 : coord in rec.lattice = [   0.900000  ,   0.900000 ,    0.500000 ], refinement level:0, dK=[0.1 0.1 0.1]  \n",
      " K-point 996 : coord in rec.lattice = [   0.900000  ,   0.900000 ,    0.600000 ], refinement level:0, dK=[0.1 0.1 0.1]  \n",
      " K-point 997 : coord in rec.lattice = [   0.900000  ,   0.900000 ,    0.700000 ], refinement level:0, dK=[0.1 0.1 0.1]  \n",
      " K-point 998 : coord in rec.lattice = [   0.900000  ,   0.900000 ,    0.800000 ], refinement level:0, dK=[0.1 0.1 0.1]  \n",
      " K-point 999 : coord in rec.lattice = [   0.900000  ,   0.900000 ,    0.900000 ], refinement level:0, dK=[0.1 0.1 0.1]  \n",
      "symgroup : <wannierberri.symmetry.Group object at 0x7f528959cbe0>\n",
      "processing 1000 K points : in serial.\n",
      "# K-points calculated  Wall time (sec)  Est. remaining (sec)\n"
     ]
    },
    {
     "name": "stdout",
     "output_type": "stream",
     "text": [
      "                  10              0.2                  15.6\n"
     ]
    },
    {
     "name": "stdout",
     "output_type": "stream",
     "text": [
      "                  20              0.3                  15.8\n"
     ]
    },
    {
     "name": "stdout",
     "output_type": "stream",
     "text": [
      "                  30              0.5                  15.3\n"
     ]
    },
    {
     "name": "stdout",
     "output_type": "stream",
     "text": [
      "                  40              0.6                  15.4\n"
     ]
    },
    {
     "name": "stdout",
     "output_type": "stream",
     "text": [
      "                  50              0.8                  15.3\n"
     ]
    },
    {
     "name": "stdout",
     "output_type": "stream",
     "text": [
      "                  60              1.0                  15.2\n"
     ]
    },
    {
     "name": "stdout",
     "output_type": "stream",
     "text": [
      "                  70              1.1                  15.1\n"
     ]
    },
    {
     "name": "stdout",
     "output_type": "stream",
     "text": [
      "                  80              1.3                  15.0\n"
     ]
    },
    {
     "name": "stdout",
     "output_type": "stream",
     "text": [
      "                  90              1.4                  14.7\n"
     ]
    },
    {
     "name": "stdout",
     "output_type": "stream",
     "text": [
      "                 100              1.6                  14.5\n"
     ]
    },
    {
     "name": "stdout",
     "output_type": "stream",
     "text": [
      "                 110              1.8                  14.3\n"
     ]
    },
    {
     "name": "stdout",
     "output_type": "stream",
     "text": [
      "                 120              1.9                  14.1\n"
     ]
    },
    {
     "name": "stdout",
     "output_type": "stream",
     "text": [
      "                 130              2.1                  14.0\n"
     ]
    },
    {
     "name": "stdout",
     "output_type": "stream",
     "text": [
      "                 140              2.3                  13.9\n"
     ]
    },
    {
     "name": "stdout",
     "output_type": "stream",
     "text": [
      "                 150              2.4                  13.7\n"
     ]
    },
    {
     "name": "stdout",
     "output_type": "stream",
     "text": [
      "                 160              2.6                  13.5\n"
     ]
    },
    {
     "name": "stdout",
     "output_type": "stream",
     "text": [
      "                 170              2.7                  13.3\n"
     ]
    },
    {
     "name": "stdout",
     "output_type": "stream",
     "text": [
      "                 180              2.9                  13.2\n"
     ]
    },
    {
     "name": "stdout",
     "output_type": "stream",
     "text": [
      "                 190              3.0                  13.0\n"
     ]
    },
    {
     "name": "stdout",
     "output_type": "stream",
     "text": [
      "                 200              3.2                  12.8\n"
     ]
    },
    {
     "name": "stdout",
     "output_type": "stream",
     "text": [
      "                 210              3.4                  12.6\n"
     ]
    },
    {
     "name": "stdout",
     "output_type": "stream",
     "text": [
      "                 220              3.5                  12.4\n"
     ]
    },
    {
     "name": "stdout",
     "output_type": "stream",
     "text": [
      "                 230              3.7                  12.3\n"
     ]
    },
    {
     "name": "stdout",
     "output_type": "stream",
     "text": [
      "                 240              3.8                  12.1\n"
     ]
    },
    {
     "name": "stdout",
     "output_type": "stream",
     "text": [
      "                 250              4.0                  12.0\n"
     ]
    },
    {
     "name": "stdout",
     "output_type": "stream",
     "text": [
      "                 260              4.2                  11.9\n"
     ]
    },
    {
     "name": "stdout",
     "output_type": "stream",
     "text": [
      "                 270              4.3                  11.7\n"
     ]
    },
    {
     "name": "stdout",
     "output_type": "stream",
     "text": [
      "                 280              4.5                  11.5\n"
     ]
    },
    {
     "name": "stdout",
     "output_type": "stream",
     "text": [
      "                 290              4.6                  11.4\n"
     ]
    },
    {
     "name": "stdout",
     "output_type": "stream",
     "text": [
      "                 300              4.8                  11.2\n"
     ]
    },
    {
     "name": "stdout",
     "output_type": "stream",
     "text": [
      "                 310              5.0                  11.0\n"
     ]
    },
    {
     "name": "stdout",
     "output_type": "stream",
     "text": [
      "                 320              5.1                  10.9\n"
     ]
    },
    {
     "name": "stdout",
     "output_type": "stream",
     "text": [
      "                 330              5.3                  10.7\n"
     ]
    },
    {
     "name": "stdout",
     "output_type": "stream",
     "text": [
      "                 340              5.4                  10.5\n"
     ]
    },
    {
     "name": "stdout",
     "output_type": "stream",
     "text": [
      "                 350              5.6                  10.4\n"
     ]
    },
    {
     "name": "stdout",
     "output_type": "stream",
     "text": [
      "                 360              5.8                  10.3\n"
     ]
    },
    {
     "name": "stdout",
     "output_type": "stream",
     "text": [
      "                 370              5.9                  10.1\n"
     ]
    },
    {
     "name": "stdout",
     "output_type": "stream",
     "text": [
      "                 380              6.1                  10.0\n"
     ]
    },
    {
     "name": "stdout",
     "output_type": "stream",
     "text": [
      "                 390              6.3                   9.8\n"
     ]
    },
    {
     "name": "stdout",
     "output_type": "stream",
     "text": [
      "                 400              6.4                   9.7\n"
     ]
    },
    {
     "name": "stdout",
     "output_type": "stream",
     "text": [
      "                 410              6.6                   9.5\n"
     ]
    },
    {
     "name": "stdout",
     "output_type": "stream",
     "text": [
      "                 420              6.8                   9.3\n"
     ]
    },
    {
     "name": "stdout",
     "output_type": "stream",
     "text": [
      "                 430              7.0                   9.2\n"
     ]
    },
    {
     "name": "stdout",
     "output_type": "stream",
     "text": [
      "                 440              7.1                   9.1\n"
     ]
    },
    {
     "name": "stdout",
     "output_type": "stream",
     "text": [
      "                 450              7.3                   8.9\n"
     ]
    },
    {
     "name": "stdout",
     "output_type": "stream",
     "text": [
      "                 460              7.4                   8.7\n"
     ]
    },
    {
     "name": "stdout",
     "output_type": "stream",
     "text": [
      "                 470              7.6                   8.6\n"
     ]
    },
    {
     "name": "stdout",
     "output_type": "stream",
     "text": [
      "                 480              7.8                   8.4\n"
     ]
    },
    {
     "name": "stdout",
     "output_type": "stream",
     "text": [
      "                 490              8.0                   8.3\n"
     ]
    },
    {
     "name": "stdout",
     "output_type": "stream",
     "text": [
      "                 500              8.2                   8.2\n"
     ]
    },
    {
     "name": "stdout",
     "output_type": "stream",
     "text": [
      "                 510              8.3                   8.0\n"
     ]
    },
    {
     "name": "stdout",
     "output_type": "stream",
     "text": [
      "                 520              8.5                   7.8\n"
     ]
    },
    {
     "name": "stdout",
     "output_type": "stream",
     "text": [
      "                 530              8.6                   7.7\n"
     ]
    },
    {
     "name": "stdout",
     "output_type": "stream",
     "text": [
      "                 540              8.8                   7.5\n"
     ]
    },
    {
     "name": "stdout",
     "output_type": "stream",
     "text": [
      "                 550              9.0                   7.3\n"
     ]
    },
    {
     "name": "stdout",
     "output_type": "stream",
     "text": [
      "                 560              9.1                   7.2\n"
     ]
    },
    {
     "name": "stdout",
     "output_type": "stream",
     "text": [
      "                 570              9.3                   7.0\n"
     ]
    },
    {
     "name": "stdout",
     "output_type": "stream",
     "text": [
      "                 580              9.4                   6.8\n"
     ]
    },
    {
     "name": "stdout",
     "output_type": "stream",
     "text": [
      "                 590              9.6                   6.7\n"
     ]
    },
    {
     "name": "stdout",
     "output_type": "stream",
     "text": [
      "                 600              9.8                   6.5\n"
     ]
    },
    {
     "name": "stdout",
     "output_type": "stream",
     "text": [
      "                 610              9.9                   6.3\n"
     ]
    },
    {
     "name": "stdout",
     "output_type": "stream",
     "text": [
      "                 620             10.1                   6.2\n"
     ]
    },
    {
     "name": "stdout",
     "output_type": "stream",
     "text": [
      "                 630             10.3                   6.0\n"
     ]
    },
    {
     "name": "stdout",
     "output_type": "stream",
     "text": [
      "                 640             10.4                   5.9\n"
     ]
    },
    {
     "name": "stdout",
     "output_type": "stream",
     "text": [
      "                 650             10.6                   5.7\n"
     ]
    },
    {
     "name": "stdout",
     "output_type": "stream",
     "text": [
      "                 660             10.8                   5.5\n"
     ]
    },
    {
     "name": "stdout",
     "output_type": "stream",
     "text": [
      "                 670             10.9                   5.4\n"
     ]
    },
    {
     "name": "stdout",
     "output_type": "stream",
     "text": [
      "                 680             11.1                   5.2\n"
     ]
    },
    {
     "name": "stdout",
     "output_type": "stream",
     "text": [
      "                 690             11.3                   5.1\n"
     ]
    },
    {
     "name": "stdout",
     "output_type": "stream",
     "text": [
      "                 700             11.4                   4.9\n"
     ]
    },
    {
     "name": "stdout",
     "output_type": "stream",
     "text": [
      "                 710             11.6                   4.7\n"
     ]
    },
    {
     "name": "stdout",
     "output_type": "stream",
     "text": [
      "                 720             11.8                   4.6\n"
     ]
    },
    {
     "name": "stdout",
     "output_type": "stream",
     "text": [
      "                 730             11.9                   4.4\n"
     ]
    },
    {
     "name": "stdout",
     "output_type": "stream",
     "text": [
      "                 740             12.1                   4.2\n"
     ]
    },
    {
     "name": "stdout",
     "output_type": "stream",
     "text": [
      "                 750             12.2                   4.1\n"
     ]
    },
    {
     "name": "stdout",
     "output_type": "stream",
     "text": [
      "                 760             12.4                   3.9\n"
     ]
    },
    {
     "name": "stdout",
     "output_type": "stream",
     "text": [
      "                 770             12.6                   3.8\n"
     ]
    },
    {
     "name": "stdout",
     "output_type": "stream",
     "text": [
      "                 780             12.7                   3.6\n"
     ]
    },
    {
     "name": "stdout",
     "output_type": "stream",
     "text": [
      "                 790             12.9                   3.4\n"
     ]
    },
    {
     "name": "stdout",
     "output_type": "stream",
     "text": [
      "                 800             13.1                   3.3\n"
     ]
    },
    {
     "name": "stdout",
     "output_type": "stream",
     "text": [
      "                 810             13.2                   3.1\n"
     ]
    },
    {
     "name": "stdout",
     "output_type": "stream",
     "text": [
      "                 820             13.4                   2.9\n"
     ]
    },
    {
     "name": "stdout",
     "output_type": "stream",
     "text": [
      "                 830             13.5                   2.8\n"
     ]
    },
    {
     "name": "stdout",
     "output_type": "stream",
     "text": [
      "                 840             13.7                   2.6\n"
     ]
    },
    {
     "name": "stdout",
     "output_type": "stream",
     "text": [
      "                 850             13.8                   2.4\n"
     ]
    },
    {
     "name": "stdout",
     "output_type": "stream",
     "text": [
      "                 860             14.0                   2.3\n"
     ]
    },
    {
     "name": "stdout",
     "output_type": "stream",
     "text": [
      "                 870             14.2                   2.1\n"
     ]
    },
    {
     "name": "stdout",
     "output_type": "stream",
     "text": [
      "                 880             14.3                   2.0\n"
     ]
    },
    {
     "name": "stdout",
     "output_type": "stream",
     "text": [
      "                 890             14.5                   1.8\n"
     ]
    },
    {
     "name": "stdout",
     "output_type": "stream",
     "text": [
      "                 900             14.6                   1.6\n"
     ]
    },
    {
     "name": "stdout",
     "output_type": "stream",
     "text": [
      "                 910             14.8                   1.5\n"
     ]
    },
    {
     "name": "stdout",
     "output_type": "stream",
     "text": [
      "                 920             14.9                   1.3\n"
     ]
    },
    {
     "name": "stdout",
     "output_type": "stream",
     "text": [
      "                 930             15.1                   1.1\n"
     ]
    },
    {
     "name": "stdout",
     "output_type": "stream",
     "text": [
      "                 940             15.2                   1.0\n"
     ]
    },
    {
     "name": "stdout",
     "output_type": "stream",
     "text": [
      "                 950             15.4                   0.8\n"
     ]
    },
    {
     "name": "stdout",
     "output_type": "stream",
     "text": [
      "                 960             15.6                   0.6\n"
     ]
    },
    {
     "name": "stdout",
     "output_type": "stream",
     "text": [
      "                 970             15.7                   0.5\n"
     ]
    },
    {
     "name": "stdout",
     "output_type": "stream",
     "text": [
      "                 980             15.9                   0.3\n"
     ]
    },
    {
     "name": "stdout",
     "output_type": "stream",
     "text": [
      "                 990             16.0                   0.2\n"
     ]
    },
    {
     "name": "stdout",
     "output_type": "stream",
     "text": [
      "                1000             16.2                   0.0\n"
     ]
    },
    {
     "name": "stdout",
     "output_type": "stream",
     "text": [
      "time for processing   1000 K-points in serial:    16.4197 ; per K-point          0.0164 ; proc-sec per K-point          0.0164\n"
     ]
    },
    {
     "name": "stdout",
     "output_type": "stream",
     "text": [
      "time1 =  0.08660483360290527\n",
      "Totally processed 1000 K-points \n"
     ]
    }
   ],
   "source": [
    "#calculate berry curvature dipole\n",
    "Efermi_Fe = np.linspace(15.5,16,301)\n",
    "NK = 10\n",
    "result_Fe = wberri.run(system_Fe,\n",
    "            grid=wberri.Grid(system_Fe,NK=NK,NKFFT=1),\n",
    "            calculators = {\"BerryDipole\":wberri.calculators.static.BerryDipole_FermiSea(Efermi=Efermi_Fe,tetra=True)},\n",
    "            adpt_num_iter=0,\n",
    "            fout_name='Fe',\n",
    "            restart=False,\n",
    "            )\n",
    "result_Fe_sym = wberri.run(system_Fe_sym,\n",
    "            grid=wberri.Grid(system_Fe_sym,NK=NK,NKFFT=1),\n",
    "            calculators = {\"BerryDipole\":wberri.calculators.static.BerryDipole_FermiSea(Efermi=Efermi_Fe,tetra=True)},\n",
    "            adpt_num_iter=0,\n",
    "            fout_name='Fe_sym',\n",
    "            restart=False,\n",
    "            )"
   ]
  },
  {
   "cell_type": "code",
   "execution_count": 16,
   "metadata": {
    "execution": {
     "iopub.execute_input": "2022-09-05T15:41:30.685850Z",
     "iopub.status.busy": "2022-09-05T15:41:30.685515Z",
     "iopub.status.idle": "2022-09-05T15:41:30.691997Z",
     "shell.execute_reply": "2022-09-05T15:41:30.690970Z"
    }
   },
   "outputs": [],
   "source": [
    "#read data\n",
    "Fe_BCD = result_Fe.results[\"BerryDipole\"].data \n",
    "Fe_sym_BCD = result_Fe_sym.results[\"BerryDipole\"].data"
   ]
  },
  {
   "cell_type": "code",
   "execution_count": 17,
   "metadata": {
    "execution": {
     "iopub.execute_input": "2022-09-05T15:41:30.695630Z",
     "iopub.status.busy": "2022-09-05T15:41:30.695252Z",
     "iopub.status.idle": "2022-09-05T15:41:30.907331Z",
     "shell.execute_reply": "2022-09-05T15:41:30.906439Z"
    }
   },
   "outputs": [
    {
     "data": {
      "text/plain": [
       "Text(0, 0.5, 'Berry curvature dipole')"
      ]
     },
     "execution_count": 17,
     "metadata": {},
     "output_type": "execute_result"
    },
    {
     "data": {
      "image/png": "[encoded data removed]",
      "text/plain": [
       "<Figure size 640x480 with 1 Axes>"
      ]
     },
     "metadata": {},
     "output_type": "display_data"
    }
   ],
   "source": [
    "#unsymmetrized\n",
    "#print zz component of berry dipole\n",
    "fig=plt.figure()\n",
    "plt.plot(Efermi_Fe,Fe_BCD[:,2,2],'r',label=\"Unsymmetrized\") \n",
    "plt.plot(Efermi_Fe,Fe_sym_BCD[:,2,2],'b:',label=\"Symmetrized\") \n",
    "plt.legend()\n",
    "plt.xlabel('Energy (eV)')\n",
    "plt.ylabel('Berry curvature dipole')"
   ]
  },
  {
   "cell_type": "markdown",
   "metadata": {},
   "source": [
    "Symmetrized system gives us better results with low-density k-grid. But it still looks like not perfect zero. At some energy where have band intersections, we can see some little peaks come from digital error. There are very large Berry curvature and it's derivative around band intersections. They may enlarge digital errors. "
   ]
  }
 ],
 "metadata": {
  "kernelspec": {
   "display_name": "Python 3",
   "language": "python",
   "name": "python3"
  },
  "language_info": {
   "codemirror_mode": {
    "name": "ipython",
    "version": 3
   },
   "file_extension": ".py",
   "mimetype": "text/x-python",
   "name": "python",
   "nbconvert_exporter": "python",
   "pygments_lexer": "ipython3",
   "version": "3.9.13"
  }
 },
 "nbformat": 4,
 "nbformat_minor": 4
}
