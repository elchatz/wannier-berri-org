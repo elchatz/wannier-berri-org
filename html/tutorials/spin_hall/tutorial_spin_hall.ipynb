{
 "cells": [
  {
   "cell_type": "markdown",
   "id": "2aaef676",
   "metadata": {},
   "source": [
    "# Spin Hall conductivity"
   ]
  },
  {
   "cell_type": "markdown",
   "id": "82c82a6a",
   "metadata": {},
   "source": [
    "author: Jae-Mo Lihm (jaemo.lihm@gmail.com) and Minsu Ghim (minsu.ghim.physics@gmail.com)"
   ]
  },
  {
   "cell_type": "markdown",
   "id": "c6a39308",
   "metadata": {},
   "source": [
    "In this tutorial, we calculate the spin Berry curvature and the spin Hall conductivity of bcc Platinum. We compare the two methods for calculating the spin velocity matrix, which we call the \"Qiao\" method [1] and the \"Ryoo\" method [2].\n",
    "\n",
    "[1] [J. Qiao et al, Phys. Rev. B 98, 214402 (2018)](https://journals.aps.org/prb/abstract/10.1103/PhysRevB.98.214402) <br>\n",
    "[2] [J. H. Ryoo et al, Phys. Rev. B 99, 235113 (2019)](https://journals.aps.org/prb/abstract/10.1103/PhysRevB.99.235113)\n",
    "\n",
    "Both methods use the Kubo formula to calculate spin Hall conductivity under time-reversal symmetry:\n",
    "\n",
    "\\begin{equation}\n",
    "\\sigma^{{\\rm SHC}, \\gamma}_{\\alpha\\beta} = \\frac{-e\\hbar}{N_k V_c}\\sum_{\\bf k}\\sum_{n,m}\\left(f_{n{\\bf k}}-f_{m{\\bf k}}\\right)\\frac{\\textrm{Im}\\left[\\langle\\psi_{n{\\bf k}}\\vert \\frac{1}{2}\\{ s^{\\gamma}, v_\\alpha \\} \\vert\\psi_{m{\\bf k}}\\rangle\\langle\\psi_{m{\\bf k}}\\vert v_\\beta\\vert\\psi_{n{\\bf k}}\\rangle\\right]}{(\\varepsilon_{n{\\bf k}}-\\varepsilon_{m{\\bf k}})^2-(\\hbar\\omega+i\\eta)^2}\\,,\n",
    "\\label{eq:shc}\\tag{1}\n",
    "\\end{equation}\n",
    "\n",
    "where $\\alpha$, $\\beta$, $\\gamma$ are respectively the direction of spin current, applied electric field, and spin polarisation.\n",
    "\n",
    "The \"Ryoo\" method requires `.chk`, `.eig`, `.mmn`, `.spn`, `.sHu`, and `.sIu` files to calculate the spin velocity matrix in (\\ref{eq:shc}), $\\langle\\psi_{n{\\bf k}}\\vert \\frac{1}{2}\\{ s^{\\gamma}, v_\\alpha \\} \\vert\\psi_{m{\\bf k}}\\rangle$,from pw2wannier90.x,\n",
    "while the \"Qiao\" method does not use the last two files, and instead applies an approximation $\\mathbf{1}=\\sum_{l\\in \\it{ab\\,initio}} \\vert u_{l{\\bf q}}\\rangle\\langle u_{l{\\bf q}}\\vert$.\n",
    "The `sHu` and `sIu` files are calculated by setting `write_sHu = .true.` and `write_sIu = .true.` to the `pw2wannier90.x` input file: see `data_Pt/pw2wan.in`."
   ]
  },
  {
   "cell_type": "code",
   "execution_count": 1,
   "id": "1600e4af",
   "metadata": {
    "execution": {
     "iopub.execute_input": "2022-09-05T13:58:39.334813Z",
     "iopub.status.busy": "2022-09-05T13:58:39.334325Z",
     "iopub.status.idle": "2022-09-05T13:58:44.894242Z",
     "shell.execute_reply": "2022-09-05T13:58:44.893276Z"
    }
   },
   "outputs": [
    {
     "name": "stderr",
     "output_type": "stream",
     "text": [
      "2022-09-05 13:58:44,098\tINFO worker.py:1509 -- Started a local Ray instance. View the dashboard at \u001b[1m\u001b[32m127.0.0.1:8265 \u001b[39m\u001b[22m\n"
     ]
    }
   ],
   "source": [
    "# Preliminary (Do only once)\n",
    "%load_ext autoreload\n",
    "%autoreload 2\n",
    "\n",
    "# Set environment variables - not mandatory but recommended\n",
    "import os\n",
    "os.environ['OPENBLAS_NUM_THREADS'] = '1' \n",
    "os.environ['MKL_NUM_THREADS'] = '1'\n",
    "\n",
    "\n",
    "import wannierberri as wberri\n",
    "import numpy as np\n",
    "import scipy\n",
    "import matplotlib.pyplot as plt\n",
    "\n",
    "#  This block is needed if you run this cell for a second time\n",
    "#  because one cannot initiate two parallel environments at a time\n",
    "try:\n",
    "    parallel.shutdown()   \n",
    "except NameError:\n",
    "    pass\n",
    "\n",
    "parallel = wberri.Parallel(num_cpus=4, progress_step_percent=10)"
   ]
  },
  {
   "cell_type": "markdown",
   "id": "ee9adb8f",
   "metadata": {},
   "source": [
    "### Model, band structure"
   ]
  },
  {
   "cell_type": "markdown",
   "id": "c674c7a6",
   "metadata": {},
   "source": [
    "We load the system from a Wannier90 output. Note the arguments `SHCryoo=True` and `SHCqiao=True` which are required to compute spin Hall conductivity using the Ryoo and Qiao methods, respectively.\n",
    "\n",
    "We set symmetry using the `set_symmetry_from_structure` method, which calls spglib to automatically determine the symmetry of the system.\n",
    "\n",
    "<!-- We also symmetrize the system. See `data_Pt/Pt.win` file and check that the initial projections are correct. For details, refer to the symmetrization tutorial. -->"
   ]
  },
  {
   "cell_type": "code",
   "execution_count": 2,
   "id": "dfa25b73",
   "metadata": {
    "execution": {
     "iopub.execute_input": "2022-09-05T13:58:44.900128Z",
     "iopub.status.busy": "2022-09-05T13:58:44.899278Z",
     "iopub.status.idle": "2022-09-05T13:58:53.494689Z",
     "shell.execute_reply": "2022-09-05T13:58:53.493246Z"
    }
   },
   "outputs": [
    {
     "name": "stdout",
     "output_type": "stream",
     "text": [
      "using fortio to read\n",
      "Reading restart information from file data_Pt/Pt.chk :\n",
      "Time to read .chk : 0.17993760108947754\n"
     ]
    },
    {
     "name": "stdout",
     "output_type": "stream",
     "text": [
      "Time for MMN.__init__() : 0.38483357429504395 , read : 0.3754091262817383 , headstring 0.009424448013305664\n",
      "----------\n",
      " SPN  \n",
      "---------\n",
      "\n",
      "using fortio to read\n",
      "reading data_Pt/Pt.spn : Created on 13May2022 at 15:23:23                            \n",
      "----------\n",
      " SPN OK  \n",
      "---------\n",
      "\n"
     ]
    },
    {
     "name": "stdout",
     "output_type": "stream",
     "text": [
      "----------\n",
      "  sIu   \n",
      "---------\n",
      "using fortio to read\n",
      "reading data_Pt/Pt.sIu : <Created on 13May2022 at 15:23:23>\n",
      "----------\n",
      " sIu OK  \n",
      "---------\n",
      "\n"
     ]
    },
    {
     "name": "stdout",
     "output_type": "stream",
     "text": [
      "----------\n",
      "  sHu   \n",
      "---------\n",
      "using fortio to read\n",
      "reading data_Pt/Pt.sHu : <Created on 13May2022 at 15:23:23>\n",
      "----------\n",
      " sHu OK  \n",
      "---------\n",
      "\n"
     ]
    },
    {
     "name": "stdout",
     "output_type": "stream",
     "text": [
      "time for FFT_q_to_R : 0.5727553367614746 s\n",
      "using ws_distance\n"
     ]
    },
    {
     "name": "stdout",
     "output_type": "stream",
     "text": [
      "irvec_new_all shape (93,)\n",
      "using ws_dist for Ham_R\n",
      "using ws_dist for AA_R\n",
      "using ws_dist for SS_R\n",
      "using ws_dist for SA_R\n",
      "using ws_dist for SHA_R\n",
      "using ws_dist for SR_R\n",
      "using ws_dist for SH_R\n",
      "using ws_dist for SHR_R\n",
      "Number of wannier functions: 18\n",
      "Number of R points: 93\n",
      "Recommended size of FFT grid [4 4 4]\n",
      "Real-space lattice:\n",
      " [[-1.95599772  0.          1.95599772]\n",
      " [ 0.          1.95599772  1.95599772]\n",
      " [-1.95599772  1.95599772  0.        ]]\n"
     ]
    }
   ],
   "source": [
    "system = wberri.System_w90(\"data_Pt/Pt\", berry=True, SHCryoo=True, SHCqiao=True)\n",
    "system.set_structure([[0., 0., 0.]], [\"Pt\"])\n",
    "system.set_symmetry_from_structure()\n",
    "\n",
    "efermi = 18.1605"
   ]
  },
  {
   "cell_type": "code",
   "execution_count": 3,
   "id": "1c11f61a",
   "metadata": {
    "execution": {
     "iopub.execute_input": "2022-09-05T13:58:53.499104Z",
     "iopub.status.busy": "2022-09-05T13:58:53.498839Z",
     "iopub.status.idle": "2022-09-05T13:58:59.499482Z",
     "shell.execute_reply": "2022-09-05T13:58:59.498763Z"
    }
   },
   "outputs": [
    {
     "name": "stdout",
     "output_type": "stream",
     "text": [
      "\u001b[1m\u001b[36mcalculator not described\n",
      "\u001b[0m\n",
      "Calculation along a path - checking calculators for compatibility\n",
      "tabulate <wannierberri.calculators.TabulatorAll object at 0x7f00f8b57190>\n",
      "All calculators are compatible\n",
      "Symmetrization switched off for Path\n",
      "The set of k points is a Path() with 322 points and labels {0: 'W', 54: 'L', 120: '$\\\\Gamma$', 197: 'X', 235: 'W', 321: '$\\\\Gamma$'}\n",
      "WARNING : symmetry is not used for a tabulation along path\n",
      "generating K_list\n",
      "Done \n",
      "Done, sum of weights:322.0\n",
      "symgroup : None\n"
     ]
    },
    {
     "name": "stdout",
     "output_type": "stream",
     "text": [
      "processing 322 K points : using  4 processes.\n",
      "# K-points calculated  Wall time (sec)  Est. remaining (sec)\n"
     ]
    },
    {
     "name": "stdout",
     "output_type": "stream",
     "text": [
      "                  32              3.0                  27.1\n"
     ]
    },
    {
     "name": "stdout",
     "output_type": "stream",
     "text": [
      "                  64              3.4                  13.6\n"
     ]
    },
    {
     "name": "stdout",
     "output_type": "stream",
     "text": [
      "                  96              3.7                   8.7\n"
     ]
    },
    {
     "name": "stdout",
     "output_type": "stream",
     "text": [
      "                 128              4.0                   6.1\n"
     ]
    },
    {
     "name": "stdout",
     "output_type": "stream",
     "text": [
      "                 160              4.3                   4.4\n"
     ]
    },
    {
     "name": "stdout",
     "output_type": "stream",
     "text": [
      "                 192              4.6                   3.1\n"
     ]
    },
    {
     "name": "stdout",
     "output_type": "stream",
     "text": [
      "                 224              4.9                   2.2\n"
     ]
    },
    {
     "name": "stdout",
     "output_type": "stream",
     "text": [
      "                 256              5.2                   1.4\n"
     ]
    },
    {
     "name": "stdout",
     "output_type": "stream",
     "text": [
      "                 288              5.6                   0.7\n"
     ]
    },
    {
     "name": "stdout",
     "output_type": "stream",
     "text": [
      "                 320              5.9                   0.0\n"
     ]
    },
    {
     "name": "stdout",
     "output_type": "stream",
     "text": [
      "time for processing    322 K-points on   4 processes:     5.8867 ; per K-point          0.0183 ; proc-sec per K-point          0.0731\n"
     ]
    },
    {
     "name": "stdout",
     "output_type": "stream",
     "text": [
      "time1 =  0.014103412628173828\n",
      "Totally processed 322 K-points \n"
     ]
    }
   ],
   "source": [
    "path = wberri.Path(\n",
    "    system,\n",
    "    k_nodes=[\n",
    "        [0.25, 0.75, 0.50], # W\n",
    "        [0.50, 0.50, 0.50], # L\n",
    "        [0.00, 0.00, 0.00], # Gamma\n",
    "        [0.50, 0.00, 0.50], # X\n",
    "        [0.50, 0.25, 0.75], # W\n",
    "        [0.00, 0.00, 0.00], # Gamma\n",
    "    ],\n",
    "    labels=[\"W\", \"L\", \"$\\Gamma$\", \"X\", \"W\", \"$\\Gamma$\"],\n",
    "    length=300,\n",
    ")\n",
    "\n",
    "from wannierberri import calculators as calc\n",
    "calculators = {}\n",
    "calculators[\"tabulate\"] = calc.TabulatorAll(\n",
    "    {\"Energy\": calc.tabulate.Energy()},\n",
    "    ibands=np.arange(system.num_wann),\n",
    "    mode=\"path\",\n",
    ")\n",
    "\n",
    "path_result = wberri.run(\n",
    "    system,\n",
    "    grid=path,\n",
    "    calculators=calculators,\n",
    "    parallel=parallel,\n",
    "    print_Kpoints = False,\n",
    ")"
   ]
  },
  {
   "cell_type": "code",
   "execution_count": 4,
   "id": "30e9dbce",
   "metadata": {
    "execution": {
     "iopub.execute_input": "2022-09-05T13:58:59.503161Z",
     "iopub.status.busy": "2022-09-05T13:58:59.502719Z",
     "iopub.status.idle": "2022-09-05T13:58:59.788771Z",
     "shell.execute_reply": "2022-09-05T13:58:59.787998Z"
    }
   },
   "outputs": [
    {
     "data": {
      "image/png": "[encoded data removed]",
      "text/plain": [
       "<Figure size 640x480 with 1 Axes>"
      ]
     },
     "metadata": {},
     "output_type": "display_data"
    }
   ],
   "source": [
    "fig = path_result.results[\"tabulate\"].plot_path_fat(path, close_fig=False, show_fig=False)\n",
    "\n",
    "ax = fig.get_axes()[0]\n",
    "ax.axhline(efermi, c=\"r\", ls=\"--\")\n",
    "plt.show(fig)"
   ]
  },
  {
   "cell_type": "markdown",
   "id": "781d482a",
   "metadata": {},
   "source": [
    "## Static spin Hall conductivity\n",
    "\n",
    "We calculate the static (i.e. DC) spin Hall conductivity. We fix $\\omega$ to 0 and scan the Fermi energy."
   ]
  },
  {
   "cell_type": "code",
   "execution_count": 5,
   "id": "f74ce1b6",
   "metadata": {
    "execution": {
     "iopub.execute_input": "2022-09-05T13:58:59.792303Z",
     "iopub.status.busy": "2022-09-05T13:58:59.792007Z",
     "iopub.status.idle": "2022-09-05T13:58:59.816364Z",
     "shell.execute_reply": "2022-09-05T13:58:59.815556Z"
    }
   },
   "outputs": [
    {
     "name": "stdout",
     "output_type": "stream",
     "text": [
      "\u001b[1m\u001b[36ma more laconic implementation of the energy factor\n",
      "\u001b[0m\n",
      "\u001b[1m\u001b[36ma more laconic implementation of the energy factor\n",
      "\u001b[0m\n"
     ]
    }
   ],
   "source": [
    "from wannierberri import calculators as calc\n",
    "\n",
    "efermi_list = np.linspace(efermi - 1.0, efermi + 1.0, 101, True)\n",
    "\n",
    "kwargs = dict(\n",
    "    Efermi=efermi_list,\n",
    "    omega=np.array([0.]),\n",
    "    smr_fixed_width = 0.1, # Smearing for frequency in eV\n",
    "    kBT = 0.026, # Smearing for Fermi level (Fermi-Dirac factor) in eV (not Kelvin)\n",
    ")\n",
    "\n",
    "calculators = dict(\n",
    "    SHC_ryoo = calc.dynamic.SHC(SHC_type=\"ryoo\", **kwargs),\n",
    "    SHC_qiao = calc.dynamic.SHC(SHC_type=\"qiao\", **kwargs),\n",
    ")"
   ]
  },
  {
   "cell_type": "code",
   "execution_count": 6,
   "id": "ffb8c55a",
   "metadata": {
    "execution": {
     "iopub.execute_input": "2022-09-05T13:58:59.819843Z",
     "iopub.status.busy": "2022-09-05T13:58:59.819434Z",
     "iopub.status.idle": "2022-09-05T13:59:41.749433Z",
     "shell.execute_reply": "2022-09-05T13:59:41.748626Z"
    }
   },
   "outputs": [
    {
     "name": "stdout",
     "output_type": "stream",
     "text": [
      "determining grids from NK=30 (<class 'int'>), NKdiv=None (<class 'NoneType'>), NKFFT=None (<class 'NoneType'>)\n",
      "Minimal symmetric FFT grid :  [4 4 4]\n",
      "The grids were set to NKdiv=[6 6 6], NKFFT=[5 5 5], NKtot=[30 30 30]\n",
      "Grid is regular\n",
      "The set of k points is a Grid() with NKdiv=[6 6 6], NKFFT=[5 5 5], NKtot=[30 30 30]\n",
      "generating K_list\n",
      "Done in 0.0017781257629394531 s \n",
      "excluding symmetry-equivalent K-points from initial grid\n"
     ]
    },
    {
     "name": "stdout",
     "output_type": "stream",
     "text": [
      "Done in 0.0700674057006836 s \n",
      "Done in 0.0701901912689209 s \n",
      "K_list contains 16 Irreducible points(7.41%) out of initial 6x6x6=216 grid\n",
      "Done, sum of weights:0.9999999999999997\n",
      "symgroup : <wannierberri.symmetry.Group object at 0x7f01489f58e0>\n"
     ]
    },
    {
     "name": "stdout",
     "output_type": "stream",
     "text": [
      "processing 16 K points : using  4 processes.\n",
      "# K-points calculated  Wall time (sec)  Est. remaining (sec)\n"
     ]
    },
    {
     "name": "stdout",
     "output_type": "stream",
     "text": [
      "                   4             11.4                  34.2\n"
     ]
    },
    {
     "name": "stdout",
     "output_type": "stream",
     "text": [
      "                   8             21.6                  21.6\n"
     ]
    },
    {
     "name": "stdout",
     "output_type": "stream",
     "text": [
      "                  12             31.2                  10.4\n"
     ]
    },
    {
     "name": "stdout",
     "output_type": "stream",
     "text": [
      "time for processing     16 K-points on   4 processes:    41.6659 ; per K-point          2.6041 ; proc-sec per K-point         10.4165\n"
     ]
    },
    {
     "name": "stdout",
     "output_type": "stream",
     "text": [
      "time1 =  0.0020895004272460938\n",
      "Totally processed 16 K-points \n"
     ]
    }
   ],
   "source": [
    "nk = 30\n",
    "grid = wberri.Grid(system, NK=nk)\n",
    "result = wberri.run(\n",
    "    system,\n",
    "    grid=grid,\n",
    "    calculators=calculators,\n",
    "    parallel=parallel,\n",
    "    print_Kpoints = False,\n",
    ")"
   ]
  },
  {
   "cell_type": "markdown",
   "id": "3ee944a6",
   "metadata": {},
   "source": [
    "The SHC data has 5 indices:\n",
    "1. The Fermi level index,\n",
    "2. The frequency index,\n",
    "3. The spin current direction index,\n",
    "4. The electric field direction index, and\n",
    "5. The spin polarization index."
   ]
  },
  {
   "cell_type": "code",
   "execution_count": 7,
   "id": "4089e193",
   "metadata": {
    "execution": {
     "iopub.execute_input": "2022-09-05T13:59:41.753262Z",
     "iopub.status.busy": "2022-09-05T13:59:41.752487Z",
     "iopub.status.idle": "2022-09-05T13:59:41.776638Z",
     "shell.execute_reply": "2022-09-05T13:59:41.775941Z"
    }
   },
   "outputs": [
    {
     "name": "stdout",
     "output_type": "stream",
     "text": [
      "result.results[\"SHC_ryoo\"].data.shape =  (101, 1, 3, 3, 3)\n"
     ]
    }
   ],
   "source": [
    "print(\"result.results[\\\"SHC_ryoo\\\"].data.shape = \", result.results[\"SHC_ryoo\"].data.shape)"
   ]
  },
  {
   "cell_type": "code",
   "execution_count": 8,
   "id": "5b9a084c",
   "metadata": {
    "execution": {
     "iopub.execute_input": "2022-09-05T13:59:41.780259Z",
     "iopub.status.busy": "2022-09-05T13:59:41.779648Z",
     "iopub.status.idle": "2022-09-05T13:59:42.032760Z",
     "shell.execute_reply": "2022-09-05T13:59:42.032069Z"
    }
   },
   "outputs": [
    {
     "data": {
      "image/png": "[encoded data removed]",
      "text/plain": [
       "<Figure size 1200x400 with 2 Axes>"
      ]
     },
     "metadata": {},
     "output_type": "display_data"
    }
   ],
   "source": [
    "shc_ryoo = result.results[\"SHC_ryoo\"].data[:, 0, 0, 1, 2]\n",
    "shc_qiao = result.results[\"SHC_qiao\"].data[:, 0, 0, 1, 2]\n",
    "\n",
    "fig, axes = plt.subplots(1, 2, figsize=(12, 4))\n",
    "axes[0].plot(efermi_list, shc_ryoo.real, label=\"Ryoo\")\n",
    "axes[0].plot(efermi_list, shc_qiao.real, label=\"Qiao\")\n",
    "axes[1].plot(efermi_list, shc_ryoo.imag)\n",
    "axes[1].plot(efermi_list, shc_qiao.imag)\n",
    "for ax in axes:\n",
    "    ax.set_xlabel(\"Efermi (eV)\")\n",
    "    ax.axhline(0, c=\"k\")\n",
    "axes[0].set_ylabel(\"Re(SHC)\")\n",
    "axes[1].set_ylabel(\"Im(SHC)\")\n",
    "axes[0].legend()\n",
    "plt.show()"
   ]
  },
  {
   "cell_type": "markdown",
   "id": "2ff10c80",
   "metadata": {},
   "source": [
    "## Dynamic spin Hall conductivity\n",
    "\n",
    "We calculate the dynamic (i.e. frequency-dependent, AC) spin Hall conductivity. We fix the Fermi energy to the value `efermi` and scan the frequency in the range `omega`.\n",
    "\n",
    "The `smr_fixed_width` parameter controls the smearing of the frequency-dependent terms (delta functions and principal values)."
   ]
  },
  {
   "cell_type": "code",
   "execution_count": 9,
   "id": "15feb263",
   "metadata": {
    "execution": {
     "iopub.execute_input": "2022-09-05T13:59:42.036158Z",
     "iopub.status.busy": "2022-09-05T13:59:42.035910Z",
     "iopub.status.idle": "2022-09-05T13:59:42.059713Z",
     "shell.execute_reply": "2022-09-05T13:59:42.058959Z"
    }
   },
   "outputs": [
    {
     "name": "stdout",
     "output_type": "stream",
     "text": [
      "\u001b[1m\u001b[36ma more laconic implementation of the energy factor\n",
      "\u001b[0m\n",
      "\u001b[1m\u001b[36ma more laconic implementation of the energy factor\n",
      "\u001b[0m\n"
     ]
    }
   ],
   "source": [
    "from wannierberri import calculators as calc\n",
    "\n",
    "omega = np.linspace(0, 4, 101, True)\n",
    "\n",
    "kwargs = dict(\n",
    "    Efermi=np.array([efermi]),\n",
    "    omega=omega,\n",
    "    smr_fixed_width = 0.1, # Smearing for frequency in eV\n",
    "    kBT = 0.026, # Smearing for Fermi level (Fermi-Dirac factor)\n",
    ")\n",
    "\n",
    "calculators = dict(\n",
    "    SHC_ryoo = calc.dynamic.SHC(SHC_type=\"ryoo\", **kwargs),\n",
    "    SHC_qiao = calc.dynamic.SHC(SHC_type=\"qiao\", **kwargs),\n",
    ")"
   ]
  },
  {
   "cell_type": "code",
   "execution_count": 10,
   "id": "7ed7466d",
   "metadata": {
    "execution": {
     "iopub.execute_input": "2022-09-05T13:59:42.062734Z",
     "iopub.status.busy": "2022-09-05T13:59:42.062498Z",
     "iopub.status.idle": "2022-09-05T14:00:13.761458Z",
     "shell.execute_reply": "2022-09-05T14:00:13.760864Z"
    }
   },
   "outputs": [
    {
     "name": "stdout",
     "output_type": "stream",
     "text": [
      "determining grids from NK=30 (<class 'int'>), NKdiv=None (<class 'NoneType'>), NKFFT=None (<class 'NoneType'>)\n",
      "Minimal symmetric FFT grid :  [4 4 4]\n",
      "The grids were set to NKdiv=[6 6 6], NKFFT=[5 5 5], NKtot=[30 30 30]\n",
      "Grid is regular\n",
      "The set of k points is a Grid() with NKdiv=[6 6 6], NKFFT=[5 5 5], NKtot=[30 30 30]\n",
      "generating K_list\n",
      "Done in 0.0016331672668457031 s \n",
      "excluding symmetry-equivalent K-points from initial grid\n"
     ]
    },
    {
     "name": "stdout",
     "output_type": "stream",
     "text": [
      "Done in 0.06915020942687988 s \n",
      "Done in 0.06923556327819824 s \n",
      "K_list contains 16 Irreducible points(7.41%) out of initial 6x6x6=216 grid\n",
      "Done, sum of weights:0.9999999999999997\n",
      "symgroup : <wannierberri.symmetry.Group object at 0x7f01489f58e0>\n"
     ]
    },
    {
     "name": "stdout",
     "output_type": "stream",
     "text": [
      "processing 16 K points : using  4 processes.\n",
      "# K-points calculated  Wall time (sec)  Est. remaining (sec)\n"
     ]
    },
    {
     "name": "stdout",
     "output_type": "stream",
     "text": [
      "                   4              8.9                  26.8\n"
     ]
    },
    {
     "name": "stdout",
     "output_type": "stream",
     "text": [
      "                   8             16.8                  16.8\n"
     ]
    },
    {
     "name": "stdout",
     "output_type": "stream",
     "text": [
      "                  12             24.7                   8.2\n"
     ]
    },
    {
     "name": "stdout",
     "output_type": "stream",
     "text": [
      "time for processing     16 K-points on   4 processes:    31.4490 ; per K-point          1.9656 ; proc-sec per K-point          7.8623\n"
     ]
    },
    {
     "name": "stdout",
     "output_type": "stream",
     "text": [
      "time1 =  0.0019664764404296875\n",
      "Totally processed 16 K-points \n"
     ]
    }
   ],
   "source": [
    "nk = 30\n",
    "grid = wberri.Grid(system, NK=nk)\n",
    "result = wberri.run(\n",
    "    system,\n",
    "    grid=grid,\n",
    "    calculators=calculators,\n",
    "    parallel=parallel,\n",
    "    print_Kpoints = False,\n",
    ")"
   ]
  },
  {
   "cell_type": "code",
   "execution_count": 11,
   "id": "d051df23",
   "metadata": {
    "execution": {
     "iopub.execute_input": "2022-09-05T14:00:13.765141Z",
     "iopub.status.busy": "2022-09-05T14:00:13.764894Z",
     "iopub.status.idle": "2022-09-05T14:00:14.005062Z",
     "shell.execute_reply": "2022-09-05T14:00:14.004326Z"
    }
   },
   "outputs": [
    {
     "data": {
      "image/png": "[encoded data removed]",
      "text/plain": [
       "<Figure size 1200x400 with 2 Axes>"
      ]
     },
     "metadata": {},
     "output_type": "display_data"
    }
   ],
   "source": [
    "shc_ryoo = result.results[\"SHC_ryoo\"].data[0, :, 0, 1, 2]\n",
    "shc_qiao = result.results[\"SHC_qiao\"].data[0, :, 0, 1, 2]\n",
    "\n",
    "fig, axes = plt.subplots(1, 2, figsize=(12, 4))\n",
    "axes[0].plot(omega, shc_ryoo.real, label=\"Ryoo\")\n",
    "axes[0].plot(omega, shc_qiao.real, label=\"Qiao\")\n",
    "axes[1].plot(omega, shc_ryoo.imag)\n",
    "axes[1].plot(omega, shc_qiao.imag)\n",
    "for ax in axes:\n",
    "    ax.set_xlabel(\"omega (eV)\")\n",
    "    ax.axhline(0, c=\"k\")\n",
    "axes[0].set_ylabel(\"Re(SHC)\")\n",
    "axes[1].set_ylabel(\"Im(SHC)\")\n",
    "axes[0].legend()\n",
    "plt.show()"
   ]
  },
  {
   "cell_type": "markdown",
   "id": "c987c8b2",
   "metadata": {},
   "source": [
    "## Spin Berry curvature"
   ]
  },
  {
   "cell_type": "markdown",
   "id": "9637f48f",
   "metadata": {},
   "source": [
    "To understand the microscopic origin of the spin Hall conductivity, one may inspect the k-resolved spin Berry curvature.\n",
    "Eq. (\\ref{eq:shc}) is recast into the sum of a Berry-curvature-like term, the spin Berry curvature.\n",
    "\n",
    "The spin Berry curvature is\n",
    "\n",
    "\\begin{equation}\n",
    "  \\Omega^{n, \\gamma}_{\\alpha\\beta}({\\bf k}) = -\\sum_{m \\neq n}\\frac{2\\textrm{Im}\\left[\\langle\\psi_{n{\\bf k}}\\vert \\frac{1}{2}\\{ s^{\\gamma}, v_\\alpha \\} \\vert\\psi_{m{\\bf k}}\\rangle\\langle\\psi_{m{\\bf k}}\\vert v_\\beta\\vert\\psi_{n{\\bf k}}\\rangle\\right]}{(\\varepsilon_{n{\\bf k}}-\\varepsilon_{m{\\bf k}})^2-(i\\eta)^2}\\,,\n",
    "  \\label{eq:sbc}\\tag{2}\n",
    "\\end{equation}\n",
    "\n",
    "and the k-resolved spin Berry curvature summed over the band index is\n",
    "\n",
    "\\begin{equation}\n",
    "  \\Omega^{\\gamma}_{\\alpha\\beta}({\\bf k}) = \\sum_{n}f_{n{\\bf k}}\\Omega^{n, \\gamma}_{\\alpha\\beta}({\\bf k})\\,.\n",
    "  \\label{eq:sbc_k_resolved}\\tag{3}\n",
    "\\end{equation}\n",
    "\\begin{equation}\n",
    "  \\sigma^{{\\rm SHC}, \\gamma}_{\\alpha\\beta} = \\frac{-e\\hbar}{N_k\\Omega_c}\\sum_{\\bf k}\\Omega^{\\gamma}_{\\alpha\\beta}({\\bf k})\n",
    "  \\label{eq:shc_sbc}\\tag{4}\n",
    "\\end{equation}\n",
    "\n",
    "Therefore, where in the k-space contributes to the total SHC can be investigated using the k-resolved spin Berry curvature.\n",
    "\n",
    "Here, we compute the spin Berry curvature again using the Ryoo method and the Qiao method.\n",
    "Note that we pass the spin curren type as a `kwargs_formula` to the calculator, e.g. `kwargs_formula=dict(spin_current_type=\"ryoo\")`."
   ]
  },
  {
   "cell_type": "code",
   "execution_count": 12,
   "id": "aba08a03",
   "metadata": {
    "execution": {
     "iopub.execute_input": "2022-09-05T14:00:14.008649Z",
     "iopub.status.busy": "2022-09-05T14:00:14.008234Z",
     "iopub.status.idle": "2022-09-05T14:00:14.033143Z",
     "shell.execute_reply": "2022-09-05T14:00:14.032354Z"
    }
   },
   "outputs": [
    {
     "name": "stdout",
     "output_type": "stream",
     "text": [
      "\u001b[1m\u001b[36mcalculator not described\n",
      "\u001b[0m\n",
      "\u001b[1m\u001b[36mcalculator not described\n",
      "\u001b[0m\n",
      "\u001b[1m\u001b[36mcalculator not described\n",
      "\u001b[0m\n"
     ]
    }
   ],
   "source": [
    "from wannierberri import calculators as calc\n",
    "calculators = {}\n",
    "calculators[\"tabulate\"] = calc.TabulatorAll(\n",
    "     {\n",
    "         \"Energy\": calc.tabulate.Energy(),\n",
    "         'spin_berry_ryoo': calc.tabulate.SpinBerry(kwargs_formula=dict(spin_current_type=\"ryoo\"), degen_thresh=1e-2),\n",
    "         'spin_berry_qiao': calc.tabulate.SpinBerry(kwargs_formula=dict(spin_current_type=\"qiao\"), degen_thresh=1e-2),\n",
    "     },\n",
    "    ibands=np.arange(system.num_wann),\n",
    "    mode=\"path\",\n",
    " )"
   ]
  },
  {
   "cell_type": "code",
   "execution_count": 13,
   "id": "554a8c61",
   "metadata": {
    "execution": {
     "iopub.execute_input": "2022-09-05T14:00:14.036236Z",
     "iopub.status.busy": "2022-09-05T14:00:14.035993Z",
     "iopub.status.idle": "2022-09-05T14:00:27.815889Z",
     "shell.execute_reply": "2022-09-05T14:00:27.814674Z"
    }
   },
   "outputs": [
    {
     "name": "stdout",
     "output_type": "stream",
     "text": [
      "Calculation along a path - checking calculators for compatibility\n",
      "tabulate <wannierberri.calculators.TabulatorAll object at 0x7f00f8ae1d30>\n",
      "All calculators are compatible\n",
      "Symmetrization switched off for Path\n",
      "The set of k points is a Path() with 643 points and labels {0: 'W', 108: 'L', 241: '$\\\\Gamma$', 394: 'X', 471: 'W', 642: '$\\\\Gamma$'}\n",
      "WARNING : symmetry is not used for a tabulation along path\n",
      "generating K_list\n",
      "Done \n",
      "Done, sum of weights:643.0\n",
      "symgroup : None\n"
     ]
    },
    {
     "name": "stdout",
     "output_type": "stream",
     "text": [
      "processing 643 K points : using  4 processes.\n",
      "# K-points calculated  Wall time (sec)  Est. remaining (sec)\n"
     ]
    },
    {
     "name": "stdout",
     "output_type": "stream",
     "text": [
      "                  64              1.8                  16.3\n"
     ]
    },
    {
     "name": "stdout",
     "output_type": "stream",
     "text": [
      "                 128              3.1                  12.4\n"
     ]
    },
    {
     "name": "stdout",
     "output_type": "stream",
     "text": [
      "                 192              4.4                  10.3\n"
     ]
    },
    {
     "name": "stdout",
     "output_type": "stream",
     "text": [
      "                 256              5.7                   8.6\n"
     ]
    },
    {
     "name": "stdout",
     "output_type": "stream",
     "text": [
      "                 320              7.0                   7.1\n"
     ]
    },
    {
     "name": "stdout",
     "output_type": "stream",
     "text": [
      "                 384              8.3                   5.6\n"
     ]
    },
    {
     "name": "stdout",
     "output_type": "stream",
     "text": [
      "                 448              9.5                   4.1\n"
     ]
    },
    {
     "name": "stdout",
     "output_type": "stream",
     "text": [
      "                 512             10.8                   2.8\n"
     ]
    },
    {
     "name": "stdout",
     "output_type": "stream",
     "text": [
      "                 576             12.2                   1.4\n"
     ]
    },
    {
     "name": "stdout",
     "output_type": "stream",
     "text": [
      "                 640             13.5                   0.1\n"
     ]
    },
    {
     "name": "stdout",
     "output_type": "stream",
     "text": [
      "time for processing    643 K-points on   4 processes:    13.5966 ; per K-point          0.0211 ; proc-sec per K-point          0.0846\n"
     ]
    },
    {
     "name": "stdout",
     "output_type": "stream",
     "text": [
      "time1 =  0.103485107421875\n",
      "Totally processed 643 K-points \n"
     ]
    }
   ],
   "source": [
    "path = wberri.Path(\n",
    "    system,\n",
    "    k_nodes=[\n",
    "        [0.25, 0.75, 0.50], # W\n",
    "        [0.50, 0.50, 0.50], # L\n",
    "        [0.00, 0.00, 0.00], # Gamma\n",
    "        [0.50, 0.00, 0.50], # X\n",
    "        [0.50, 0.25, 0.75], # W\n",
    "        [0.00, 0.00, 0.00], # Gamma\n",
    "    ],\n",
    "    labels=[\"W\", \"L\", \"$\\Gamma$\", \"X\", \"W\", \"$\\Gamma$\"],\n",
    "    length=600,\n",
    ")\n",
    "\n",
    "result_spin_berry = wberri.run(\n",
    "    system,\n",
    "    grid=path,\n",
    "    calculators=calculators,\n",
    "    parallel = parallel,\n",
    "    print_Kpoints = False,\n",
    ")"
   ]
  },
  {
   "cell_type": "markdown",
   "id": "665b73e3",
   "metadata": {},
   "source": [
    "Now we sum over bands to compute the k-resolved spin Berry curvature:\n",
    "$$\\Omega^{\\gamma}_{\\alpha\\beta}({\\bf k}) = \\sum_{n \\in {\\rm occ.}} \\Omega^{n, \\gamma}_{\\alpha\\beta}({\\bf k})$$"
   ]
  },
  {
   "cell_type": "code",
   "execution_count": 14,
   "id": "90ca392d",
   "metadata": {
    "execution": {
     "iopub.execute_input": "2022-09-05T14:00:27.819591Z",
     "iopub.status.busy": "2022-09-05T14:00:27.819001Z",
     "iopub.status.idle": "2022-09-05T14:00:27.854264Z",
     "shell.execute_reply": "2022-09-05T14:00:27.853497Z"
    }
   },
   "outputs": [],
   "source": [
    "nk = path.K_list.shape[0]\n",
    "spin_berry_ryoo = np.zeros((nk, 3, 3, 3))\n",
    "spin_berry_qiao = np.zeros((nk, 3, 3, 3))\n",
    "\n",
    "for iband in range(system.num_wann):\n",
    "    # Get the data for iband-th band\n",
    "    e = result_spin_berry.results[\"tabulate\"].get_data(\"Energy\", iband)\n",
    "    spin_berry_ryoo_nk = result_spin_berry.results[\"tabulate\"].get_data(\"spin_berry_ryoo\", iband)\n",
    "    spin_berry_qiao_nk = result_spin_berry.results[\"tabulate\"].get_data(\"spin_berry_qiao\", iband)\n",
    "\n",
    "    # Select k-point indices where the iband-th band is occupied\n",
    "    inds_occupied = e < efermi\n",
    "    \n",
    "    # Add the spin Berry curvature of those bands\n",
    "    spin_berry_ryoo[inds_occupied] += spin_berry_ryoo_nk[inds_occupied]\n",
    "    spin_berry_qiao[inds_occupied] += spin_berry_qiao_nk[inds_occupied]"
   ]
  },
  {
   "cell_type": "code",
   "execution_count": 15,
   "id": "71bd45bb",
   "metadata": {
    "execution": {
     "iopub.execute_input": "2022-09-05T14:00:27.857963Z",
     "iopub.status.busy": "2022-09-05T14:00:27.857492Z",
     "iopub.status.idle": "2022-09-05T14:00:28.150265Z",
     "shell.execute_reply": "2022-09-05T14:00:28.149476Z"
    }
   },
   "outputs": [
    {
     "data": {
      "image/png": "[encoded data removed]",
      "text/plain": [
       "<Figure size 640x480 with 1 Axes>"
      ]
     },
     "metadata": {},
     "output_type": "display_data"
    }
   ],
   "source": [
    "def get_signed_log10(x):\n",
    "    return np.log10(abs(x)) * np.sign(x)\n",
    "    \n",
    "kline = path.getKline()\n",
    "plt.plot(kline, get_signed_log10(spin_berry_ryoo[:, 0, 1, 2]), \"k-\", label='Ryoo')\n",
    "plt.plot(kline, get_signed_log10(spin_berry_qiao[:, 0, 1, 2]), \"r--\", label='Qiao')\n",
    "\n",
    "for i in path.labels.keys():\n",
    "    plt.axvline(kline[i], c=\"k\", lw=1)\n",
    "plt.xticks([kline[i] for i in path.labels.keys()], path.labels.values())\n",
    "plt.xlim([min(kline), max(kline)])\n",
    "plt.axhline(0, c=\"k\", lw=1)\n",
    "plt.legend()\n",
    "plt.title(\"$\\mathrm{log}_{10} \\Omega_\\mathbf{k}$\")\n",
    "\n",
    "plt.show()"
   ]
  },
  {
   "cell_type": "markdown",
   "id": "6499a756",
   "metadata": {},
   "source": [
    "You can find that the spin Berry curvature calculated using the Qiao method shows more \"wiggles\" than the Ryoo method. This numerical difference has been first reported in [T. Ng et al, PRB 104 014412 (2021)](https://journals.aps.org/prb/abstract/10.1103/PhysRevB.104.014412):\n",
    "\n",
    ">  It is worth\n",
    "noting that there is jittering along Γ-Z, which occurs in the same path in WTe2 using the same method [22] (Qiao et al). However, such jittering disappears and the spin Berry curvature along Γ-Z becomes a smooth function using the method in Ref. [45] (Ryoo et al)."
   ]
  },
  {
   "cell_type": "markdown",
   "id": "9499779c",
   "metadata": {},
   "source": [
    "## Generating .sHu and .sIu from .mmn and .spn: mmn2uHu \n",
    "\n",
    "Even if you have not obtained .shu and .sIu from an ab initio code, you can make them from the overlap matrix and the spin matrix. Wannierberri provides the utility `wannierberri.utils.mmn2uHu`, which calculated the matrices `.uHu`, `.uIu`, `.sHu`, and/or `.sIu` from the `.mmn`, `.spn`, `.eig` matrices, and also reduces the number of bands in `.amn`, `.mmn`, `.eig`  and `.spn` files, by means of the sum-over-states formula\n",
    "\n",
    "\\begin{equation}\n",
    "  \\langle u_{m{\\bf q}}\\vert\\hat{s}\\hat{H}_{\\bf q}\\vert u_{n{\\bf q}+\\mathbf{b}}\\rangle \\approx \\sum_l^{l_{\\rm max}}  \\left(s_{lm}({\\bf q})\\right)^* E_{l{\\bf q}}   M_{ln}^{\\mathbf{b}}({\\bf q})\\,.\n",
    "\\label{eq:sHu}\\tag{5}\n",
    "\\end{equation}\n",
    "\n",
    "\\begin{equation}\n",
    "  \\langle u_{m{\\bf q}}\\vert\\hat{s}\\vert u_{n{\\bf q}+\\mathbf{b}}\\rangle \\approx \\sum_l^{l_{\\rm max}}  \\left(s_{lm}({\\bf q})\\right)^*   M_{ln}^{\\mathbf{b}}({\\bf q})\\,.\n",
    "\\label{eq:sIu}\\tag{6}\n",
    "\\end{equation}\n",
    "\n",
    "Here, $l_{\\rm max}$ cannot exceed the number of bands included in the Wannier90 calculation (i.e. the `num_bands` parameter in `Pt.win`).\n",
    "\n",
    "The `mmn2uHu` utility can be particularly useful when the calculation of `sHu` and `sIu` files are not implemented in the DFT code you are using."
   ]
  },
  {
   "cell_type": "code",
   "execution_count": 16,
   "id": "b6bac6b5",
   "metadata": {
    "execution": {
     "iopub.execute_input": "2022-09-05T14:00:28.154423Z",
     "iopub.status.busy": "2022-09-05T14:00:28.153989Z",
     "iopub.status.idle": "2022-09-05T14:00:30.247621Z",
     "shell.execute_reply": "2022-09-05T14:00:30.245876Z"
    }
   },
   "outputs": [
    {
     "name": "stdout",
     "output_type": "stream",
     "text": [
      "----------\n",
      " MMN  read\n",
      "---------\n",
      "\n",
      "k-point 1 of 64\n",
      "k-point 2 of 64\n",
      "k-point 3 of 64\n",
      "k-point 4 of 64\n",
      "k-point 5 of 64\n",
      "k-point 6 of 64\n",
      "k-point 7 of 64\n",
      "k-point 8 of 64\n",
      "k-point 9 of 64\n",
      "k-point 10 of 64\n",
      "k-point 11 of 64\n",
      "k-point 12 of 64\n",
      "k-point 13 of 64\n",
      "k-point 14 of 64\n",
      "k-point 15 of 64\n",
      "k-point 16 of 64\n",
      "k-point 17 of 64\n",
      "k-point 18 of 64\n",
      "k-point 19 of 64\n",
      "k-point 20 of 64\n",
      "k-point 21 of 64\n",
      "k-point 22 of 64\n",
      "k-point 23 of 64\n",
      "k-point 24 of 64\n",
      "k-point 25 of 64\n",
      "k-point 26 of 64\n",
      "k-point 27 of 64\n",
      "k-point 28 of 64\n",
      "k-point 29 of 64\n",
      "k-point 30 of 64\n",
      "k-point 31 of 64\n",
      "k-point 32 of 64\n",
      "k-point 33 of 64\n",
      "k-point 34 of 64\n",
      "k-point 35 of 64\n",
      "k-point 36 of 64\n",
      "k-point 37 of 64\n",
      "k-point 38 of 64\n",
      "k-point 39 of 64\n",
      "k-point 40 of 64\n",
      "k-point 41 of 64\n",
      "k-point 42 of 64\n",
      "k-point 43 of 64\n",
      "k-point 44 of 64\n",
      "k-point 45 of 64\n",
      "k-point 46 of 64\n",
      "k-point 47 of 64\n"
     ]
    },
    {
     "name": "stdout",
     "output_type": "stream",
     "text": [
      "k-point 48 of 64\n",
      "k-point 49 of 64\n",
      "k-point 50 of 64\n",
      "k-point 51 of 64\n",
      "k-point 52 of 64\n",
      "k-point 53 of 64\n",
      "k-point 54 of 64\n",
      "k-point 55 of 64\n",
      "k-point 56 of 64\n",
      "k-point 57 of 64\n",
      "k-point 58 of 64\n",
      "k-point 59 of 64\n",
      "k-point 60 of 64\n",
      "k-point 61 of 64\n",
      "k-point 62 of 64\n",
      "k-point 63 of 64\n",
      "k-point 64 of 64\n",
      "----------\n",
      " MMN  read - OK\n",
      "---------\n",
      "\n",
      "[Errno 17] File exists: 'reduced_NB=24'\n",
      "k-point 0 of 64\n",
      "k-point 1 of 64\n",
      "k-point 2 of 64\n",
      "k-point 3 of 64\n",
      "k-point 4 of 64\n",
      "k-point 5 of 64\n",
      "k-point 6 of 64\n",
      "k-point 7 of 64\n",
      "k-point 8 of 64\n",
      "k-point 9 of 64\n",
      "k-point 10 of 64\n"
     ]
    },
    {
     "name": "stdout",
     "output_type": "stream",
     "text": [
      "k-point 11 of 64\n",
      "k-point 12 of 64\n",
      "k-point 13 of 64\n",
      "k-point 14 of 64\n",
      "k-point 15 of 64\n",
      "k-point 16 of 64\n",
      "k-point 17 of 64\n",
      "k-point 18 of 64\n",
      "k-point 19 of 64\n",
      "k-point 20 of 64\n",
      "k-point 21 of 64\n",
      "k-point 22 of 64\n",
      "k-point 23 of 64\n",
      "k-point 24 of 64\n",
      "k-point 25 of 64\n",
      "k-point 26 of 64\n",
      "k-point 27 of 64\n"
     ]
    },
    {
     "name": "stdout",
     "output_type": "stream",
     "text": [
      "k-point 28 of 64\n",
      "k-point 29 of 64\n",
      "k-point 30 of 64\n",
      "k-point 31 of 64\n",
      "k-point 32 of 64\n",
      "k-point 33 of 64\n",
      "k-point 34 of 64\n",
      "k-point 35 of 64\n",
      "k-point 36 of 64\n",
      "k-point 37 of 64\n",
      "k-point 38 of 64\n",
      "k-point 39 of 64\n",
      "k-point 40 of 64\n",
      "k-point 41 of 64\n",
      "k-point 42 of 64\n",
      "k-point 43 of 64\n",
      "k-point 44 of 64\n"
     ]
    },
    {
     "name": "stdout",
     "output_type": "stream",
     "text": [
      "k-point 45 of 64\n",
      "k-point 46 of 64\n",
      "k-point 47 of 64\n",
      "k-point 48 of 64\n",
      "k-point 49 of 64\n",
      "k-point 50 of 64\n",
      "k-point 51 of 64\n",
      "k-point 52 of 64\n",
      "k-point 53 of 64\n",
      "k-point 54 of 64\n",
      "k-point 55 of 64\n",
      "k-point 56 of 64\n",
      "k-point 57 of 64\n",
      "k-point 58 of 64\n",
      "k-point 59 of 64\n",
      "k-point 60 of 64\n",
      "k-point 61 of 64\n"
     ]
    },
    {
     "name": "stdout",
     "output_type": "stream",
     "text": [
      "k-point 62 of 64\n",
      "k-point 63 of 64\n",
      "----------\n",
      " MMN OK  \n",
      "---------\n",
      "\n",
      "----------\n",
      " AMN   \n",
      "---------\n",
      "\n",
      "AMN size= (27648, 2)\n",
      "24 18 64\n"
     ]
    },
    {
     "name": "stdout",
     "output_type": "stream",
     "text": [
      "----------\n",
      " AMN  - OK \n",
      "---------\n",
      "\n",
      "[('uHu', False)]\n",
      "----------\n",
      "  uHu  NBsum=24 \n",
      "---------\n",
      "uHu from mmn red to 24 sum 24 bnd 2022-09-05T14:00:29.435132\n",
      "60\n",
      "using scipy.io to write\n",
      "k-point 1 of 64\n",
      "k-point 2 of 64\n",
      "k-point 3 of 64\n",
      "k-point 4 of 64\n",
      "k-point 5 of 64\n",
      "k-point 6 of 64\n",
      "k-point 7 of 64\n",
      "k-point 8 of 64\n",
      "k-point 9 of 64\n",
      "k-point 10 of 64\n",
      "k-point 11 of 64\n",
      "k-point 12 of 64\n",
      "k-point 13 of 64\n",
      "k-point 14 of 64\n",
      "k-point 15 of 64\n",
      "k-point 16 of 64\n",
      "k-point 17 of 64\n",
      "k-point 18 of 64\n",
      "k-point 19 of 64\n",
      "k-point 20 of 64\n",
      "k-point 21 of 64\n",
      "k-point 22 of 64\n",
      "k-point 23 of 64\n",
      "k-point 24 of 64\n",
      "k-point 25 of 64\n",
      "k-point 26 of 64\n",
      "k-point 27 of 64\n",
      "k-point 28 of 64\n",
      "k-point 29 of 64\n",
      "k-point 30 of 64\n",
      "k-point 31 of 64\n",
      "k-point 32 of 64\n",
      "k-point 33 of 64\n"
     ]
    },
    {
     "name": "stdout",
     "output_type": "stream",
     "text": [
      "k-point 34 of 64\n",
      "k-point 35 of 64\n",
      "k-point 36 of 64\n",
      "k-point 37 of 64\n",
      "k-point 38 of 64\n",
      "k-point 39 of 64\n",
      "k-point 40 of 64\n",
      "k-point 41 of 64\n",
      "k-point 42 of 64\n",
      "k-point 43 of 64\n",
      "k-point 44 of 64\n",
      "k-point 45 of 64\n",
      "k-point 46 of 64\n",
      "k-point 47 of 64\n",
      "k-point 48 of 64\n",
      "k-point 49 of 64\n",
      "k-point 50 of 64\n",
      "k-point 51 of 64\n",
      "k-point 52 of 64\n",
      "k-point 53 of 64\n",
      "k-point 54 of 64\n",
      "k-point 55 of 64\n",
      "k-point 56 of 64\n",
      "k-point 57 of 64\n",
      "k-point 58 of 64\n",
      "k-point 59 of 64\n",
      "k-point 60 of 64\n",
      "k-point 61 of 64\n",
      "k-point 62 of 64\n",
      "k-point 63 of 64\n",
      "k-point 64 of 64\n",
      "----------\n",
      " uHu OK  \n",
      "---------\n",
      "\n"
     ]
    },
    {
     "name": "stdout",
     "output_type": "stream",
     "text": [
      "----------\n",
      " SPN  \n",
      "---------\n",
      "\n",
      "using fortio to read\n",
      "Created on 13May2022 at 15:23:23                            \n",
      "using scipy.io to write\n",
      "----------\n",
      " SPN OK  \n",
      "---------\n",
      "\n",
      "[('sHu', False), ('sIu', False)]\n",
      "----------\n",
      "  sHu  NBsum=24 \n",
      "---------\n",
      "sHu from mmn red to 24 sum 24 bnd 2022-09-05T14:00:29.855327\n",
      "60\n",
      "using scipy.io to write\n",
      "k-point 1 of 64\n",
      "k-point 2 of 64\n",
      "k-point 3 of 64\n",
      "k-point 4 of 64\n",
      "k-point 5 of 64\n",
      "k-point 6 of 64\n",
      "k-point 7 of 64\n",
      "k-point 8 of 64\n",
      "k-point 9 of 64\n",
      "k-point 10 of 64\n",
      "k-point 11 of 64\n",
      "k-point 12 of 64\n",
      "k-point 13 of 64\n",
      "k-point 14 of 64\n",
      "k-point 15 of 64\n",
      "k-point 16 of 64\n",
      "k-point 17 of 64\n",
      "k-point 18 of 64\n",
      "k-point 19 of 64\n",
      "k-point 20 of 64\n",
      "k-point 21 of 64\n",
      "k-point 22 of 64\n",
      "k-point 23 of 64\n",
      "k-point 24 of 64\n",
      "k-point 25 of 64\n",
      "k-point 26 of 64\n",
      "k-point 27 of 64\n",
      "k-point 28 of 64\n",
      "k-point 29 of 64\n",
      "k-point 30 of 64\n",
      "k-point 31 of 64\n",
      "k-point 32 of 64\n",
      "k-point 33 of 64\n",
      "k-point 34 of 64\n",
      "k-point 35 of 64\n",
      "k-point 36 of 64\n",
      "k-point 37 of 64\n",
      "k-point 38 of 64\n",
      "k-point 39 of 64\n",
      "k-point 40 of 64\n",
      "k-point 41 of 64\n",
      "k-point 42 of 64\n",
      "k-point 43 of 64\n",
      "k-point 44 of 64\n",
      "k-point 45 of 64\n",
      "k-point 46 of 64\n",
      "k-point 47 of 64\n",
      "k-point 48 of 64\n",
      "k-point 49 of 64\n",
      "k-point 50 of 64\n",
      "k-point 51 of 64\n",
      "k-point 52 of 64\n",
      "k-point 53 of 64\n",
      "k-point 54 of 64\n",
      "k-point 55 of 64\n",
      "k-point 56 of 64\n",
      "k-point 57 of 64\n",
      "k-point 58 of 64\n",
      "k-point 59 of 64\n",
      "k-point 60 of 64\n",
      "k-point 61 of 64\n",
      "k-point 62 of 64\n",
      "k-point 63 of 64\n",
      "k-point 64 of 64\n",
      "----------\n",
      " sHu OK  \n",
      "---------\n",
      "\n",
      "----------\n",
      "  sIu  NBsum=24 \n",
      "---------\n",
      "sIu from mmn red to 24 sum 24 bnd 2022-09-05T14:00:30.043397\n",
      "60\n",
      "using scipy.io to write\n",
      "k-point 1 of 64\n"
     ]
    },
    {
     "name": "stdout",
     "output_type": "stream",
     "text": [
      "k-point 2 of 64\n",
      "k-point 3 of 64\n",
      "k-point 4 of 64\n",
      "k-point 5 of 64\n",
      "k-point 6 of 64\n",
      "k-point 7 of 64\n",
      "k-point 8 of 64\n",
      "k-point 9 of 64\n",
      "k-point 10 of 64\n",
      "k-point 11 of 64\n",
      "k-point 12 of 64\n",
      "k-point 13 of 64\n",
      "k-point 14 of 64\n",
      "k-point 15 of 64\n",
      "k-point 16 of 64\n",
      "k-point 17 of 64\n",
      "k-point 18 of 64\n",
      "k-point 19 of 64\n",
      "k-point 20 of 64\n",
      "k-point 21 of 64\n",
      "k-point 22 of 64\n",
      "k-point 23 of 64\n",
      "k-point 24 of 64\n",
      "k-point 25 of 64\n",
      "k-point 26 of 64\n",
      "k-point 27 of 64\n",
      "k-point 28 of 64\n",
      "k-point 29 of 64\n",
      "k-point 30 of 64\n",
      "k-point 31 of 64\n",
      "k-point 32 of 64\n",
      "k-point 33 of 64\n",
      "k-point 34 of 64\n",
      "k-point 35 of 64\n",
      "k-point 36 of 64\n",
      "k-point 37 of 64\n",
      "k-point 38 of 64\n",
      "k-point 39 of 64\n",
      "k-point 40 of 64\n",
      "k-point 41 of 64\n",
      "k-point 42 of 64\n",
      "k-point 43 of 64\n",
      "k-point 44 of 64\n",
      "k-point 45 of 64\n",
      "k-point 46 of 64\n",
      "k-point 47 of 64\n",
      "k-point 48 of 64\n",
      "k-point 49 of 64\n",
      "k-point 50 of 64\n",
      "k-point 51 of 64\n",
      "k-point 52 of 64\n",
      "k-point 53 of 64\n",
      "k-point 54 of 64\n",
      "k-point 55 of 64\n",
      "k-point 56 of 64\n",
      "k-point 57 of 64\n",
      "k-point 58 of 64\n",
      "k-point 59 of 64\n",
      "k-point 60 of 64\n",
      "k-point 61 of 64\n",
      "k-point 62 of 64\n",
      "k-point 63 of 64\n",
      "k-point 64 of 64\n",
      "----------\n",
      " sIu OK  \n",
      "---------\n",
      "\n"
     ]
    }
   ],
   "source": [
    "from wannierberri.utils import mmn2uHu as mmn2uHu\n",
    "os.chdir(\"data_Pt\")\n",
    "mmn2uHu.run_mmn2uHu(PREFIX=\"Pt\", writeSHU=True, writeSIU=True, NBout=18, NBsum=24)\n",
    "\n",
    "# For a command-line execution of the mmn2uHu utility, use\n",
    "# python3 -m wannierberri.utils.mmn2uHu Pt NBout=18,NBsum=24,targets=sHu,sIu\n",
    "\n",
    "# Rename sHu and sIu files\n",
    "import shutil\n",
    "shutil.move(\"reduced_NB=24/Pt_nbs=24.sHu\", \"reduced_NB=24/Pt.sHu\")\n",
    "shutil.move(\"reduced_NB=24/Pt_nbs=24.sIu\", \"reduced_NB=24/Pt.sIu\")\n",
    "\n",
    "# Copy chk and spn files\n",
    "shutil.copyfile(\"Pt.chk\", \"reduced_NB=24/Pt.chk\")\n",
    "shutil.copyfile(\"Pt.spn\", \"reduced_NB=24/Pt.spn\")\n",
    "\n",
    "os.chdir(\"..\")"
   ]
  },
  {
   "cell_type": "markdown",
   "id": "ee3730c6",
   "metadata": {},
   "source": [
    "Now, load the system object. Since all the data are in the `data_Pt/reduced_NB=24` directory, you should use the seedname `data_Pt/reduced_NB=24/Pt`."
   ]
  },
  {
   "cell_type": "code",
   "execution_count": 17,
   "id": "f4562c2e",
   "metadata": {
    "execution": {
     "iopub.execute_input": "2022-09-05T14:00:30.251404Z",
     "iopub.status.busy": "2022-09-05T14:00:30.251146Z",
     "iopub.status.idle": "2022-09-05T14:00:38.771713Z",
     "shell.execute_reply": "2022-09-05T14:00:38.770739Z"
    }
   },
   "outputs": [
    {
     "name": "stdout",
     "output_type": "stream",
     "text": [
      "using fortio to read\n",
      "Reading restart information from file data_Pt/reduced_NB=24/Pt.chk :\n",
      "Time to read .chk : 0.10382509231567383\n"
     ]
    },
    {
     "name": "stdout",
     "output_type": "stream",
     "text": [
      "Time for MMN.__init__() : 0.343334436416626 , read : 0.3339219093322754 , headstring 0.009412527084350586\n",
      "----------\n",
      " SPN  \n",
      "---------\n",
      "\n",
      "using fortio to read\n",
      "reading data_Pt/reduced_NB=24/Pt.spn : Created on 13May2022 at 15:23:23                            \n",
      "----------\n",
      " SPN OK  \n",
      "---------\n",
      "\n"
     ]
    },
    {
     "name": "stdout",
     "output_type": "stream",
     "text": [
      "----------\n",
      "  sIu   \n",
      "---------\n",
      "using fortio to read\n",
      "reading data_Pt/reduced_NB=24/Pt.sIu : <sIu from mmn red to 24 sum 24 bnd 2022-09-05T14:00:30.043397>\n",
      "----------\n",
      " sIu OK  \n",
      "---------\n",
      "\n"
     ]
    },
    {
     "name": "stdout",
     "output_type": "stream",
     "text": [
      "----------\n",
      "  sHu   \n",
      "---------\n",
      "using fortio to read\n",
      "reading data_Pt/reduced_NB=24/Pt.sHu : <sHu from mmn red to 24 sum 24 bnd 2022-09-05T14:00:29.855327>\n",
      "----------\n",
      " sHu OK  \n",
      "---------\n",
      "\n"
     ]
    },
    {
     "name": "stdout",
     "output_type": "stream",
     "text": [
      "time for FFT_q_to_R : 0.5799274444580078 s\n",
      "using ws_distance\n"
     ]
    },
    {
     "name": "stdout",
     "output_type": "stream",
     "text": [
      "irvec_new_all shape (93,)\n",
      "using ws_dist for Ham_R\n",
      "using ws_dist for AA_R\n",
      "using ws_dist for SS_R\n",
      "using ws_dist for SA_R\n",
      "using ws_dist for SHA_R\n",
      "using ws_dist for SR_R\n",
      "using ws_dist for SH_R\n",
      "using ws_dist for SHR_R\n",
      "Number of wannier functions: 18\n",
      "Number of R points: 93\n",
      "Recommended size of FFT grid [4 4 4]\n",
      "Real-space lattice:\n",
      " [[-1.95599772  0.          1.95599772]\n",
      " [ 0.          1.95599772  1.95599772]\n",
      " [-1.95599772  1.95599772  0.        ]]\n"
     ]
    }
   ],
   "source": [
    "system_mmn2uhu = wberri.System_w90(\"data_Pt/reduced_NB=24/Pt\", berry=True, SHCryoo=True, SHCqiao=True)\n",
    "system_mmn2uhu.set_structure([[0., 0., 0.]], [\"Pt\"])\n",
    "system_mmn2uhu.set_symmetry_from_structure()"
   ]
  },
  {
   "cell_type": "markdown",
   "id": "18b74042",
   "metadata": {},
   "source": [
    "### Problem: Compare the SHC computed using the sHu files from pw2wannier90 and mmn2uHu.\n",
    "\n",
    "Compute the SHC using `system` and `system_mmn2uHu`.\n",
    "Since the \"Qiao\" method does not use the sHu and sIu files, the two systems will give exactly the same result.\n",
    "This may not be the case for the \"Ryoo\" method.\n",
    "\n",
    "Use the keyword arguments given below (Fermi level scan at 0.026 meV ~ 300 K)."
   ]
  },
  {
   "cell_type": "code",
   "execution_count": 18,
   "id": "27ba8652",
   "metadata": {
    "execution": {
     "iopub.execute_input": "2022-09-05T14:00:38.775759Z",
     "iopub.status.busy": "2022-09-05T14:00:38.775365Z",
     "iopub.status.idle": "2022-09-05T14:00:38.802528Z",
     "shell.execute_reply": "2022-09-05T14:00:38.801846Z"
    }
   },
   "outputs": [],
   "source": [
    "efermi_list = np.linspace(efermi - 1.0, efermi + 1.0, 101, True)\n",
    "\n",
    "kwargs = dict(\n",
    "    Efermi=efermi_list,\n",
    "    omega=np.array([0.]),\n",
    "    smr_fixed_width = 0.1, # Smearing for frequency in eV\n",
    "    kBT = 0.026, # Smearing for Fermi level (Fermi-Dirac factor) in eV (not Kelvin)\n",
    ")\n",
    "\n",
    "# Fill in the code below."
   ]
  },
  {
   "cell_type": "markdown",
   "id": "db854a3d",
   "metadata": {},
   "source": [
    "## Further questions\n",
    "\n",
    "If you are interested, try to answer the following questions:\n",
    "- Try to converge the calculation using a different value of `smr_fixed_width`. In principle, to achieve an ideal convergence to the zero-smearing limit, one needs to first converge SHC increasing the grid size for a fixed `smr_fixed_width`, and then repeat the procedure with smaller `smr_fixed_width` until convergence.\n",
    "- What happens if one include more bands in the NSCF calculation? Does the two methods converge to the same result? (To answer this question, one needs to perform additional DFT calculations.)"
   ]
  }
 ],
 "metadata": {
  "interpreter": {
   "hash": "31f2aee4e71d21fbe5cf8b01ff0e069b9275f58929596ceb00d14d90e3e16cd6"
  },
  "kernelspec": {
   "display_name": "Python 3 (ipykernel)",
   "language": "python",
   "name": "python3"
  },
  "language_info": {
   "codemirror_mode": {
    "name": "ipython",
    "version": 3
   },
   "file_extension": ".py",
   "mimetype": "text/x-python",
   "name": "python",
   "nbconvert_exporter": "python",
   "pygments_lexer": "ipython3",
   "version": "3.9.13"
  }
 },
 "nbformat": 4,
 "nbformat_minor": 5
}
