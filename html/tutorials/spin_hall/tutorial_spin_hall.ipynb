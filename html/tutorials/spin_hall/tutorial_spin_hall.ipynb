{
 "cells": [
  {
   "cell_type": "markdown",
   "id": "2aaef676",
   "metadata": {},
   "source": [
    "# Spin Hall conductivity"
   ]
  },
  {
   "cell_type": "markdown",
   "id": "82c82a6a",
   "metadata": {},
   "source": [
    "author: Jae-Mo Lihm (jaemo.lihm@gmail.com) and Minsu Ghim (minsu.ghim.physics@gmail.com)"
   ]
  },
  {
   "cell_type": "markdown",
   "id": "c6a39308",
   "metadata": {},
   "source": [
    "In this tutorial, we calculate the spin Berry curvature and the spin Hall conductivity of bcc Platinum. We compare the two methods for calculating the spin velocity matrix, which we call the \"Qiao\" method [1] and the \"Ryoo\" method [2].\n",
    "\n",
    "[1] [J. Qiao et al, Phys. Rev. B 98, 214402 (2018)](https://journals.aps.org/prb/abstract/10.1103/PhysRevB.98.214402) <br>\n",
    "[2] [J. H. Ryoo et al, Phys. Rev. B 99, 235113 (2019)](https://journals.aps.org/prb/abstract/10.1103/PhysRevB.99.235113)\n",
    "\n",
    "Both methods use the Kubo formula to calculate spin Hall conductivity under time-reversal symmetry:\n",
    "\n",
    "\\begin{equation}\n",
    "\\sigma^{{\\rm SHC}, \\gamma}_{\\alpha\\beta} = \\frac{-e\\hbar}{N_k V_c}\\sum_{\\bf k}\\sum_{n,m}\\left(f_{n{\\bf k}}-f_{m{\\bf k}}\\right)\\frac{\\textrm{Im}\\left[\\langle\\psi_{n{\\bf k}}\\vert \\frac{1}{2}\\{ s^{\\gamma}, v_\\alpha \\} \\vert\\psi_{m{\\bf k}}\\rangle\\langle\\psi_{m{\\bf k}}\\vert v_\\beta\\vert\\psi_{n{\\bf k}}\\rangle\\right]}{(\\varepsilon_{n{\\bf k}}-\\varepsilon_{m{\\bf k}})^2-(\\hbar\\omega+i\\eta)^2}\\,,\n",
    "\\label{eq:shc}\\tag{1}\n",
    "\\end{equation}\n",
    "\n",
    "where $\\alpha$, $\\beta$, $\\gamma$ are respectively the direction of spin current, applied electric field, and spin polarisation.\n",
    "\n",
    "The \"Ryoo\" method requires `.chk`, `.eig`, `.mmn`, `.spn`, `.sHu`, and `.sIu` files to calculate the spin velocity matrix in (\\ref{eq:shc}), $\\langle\\psi_{n{\\bf k}}\\vert \\frac{1}{2}\\{ s^{\\gamma}, v_\\alpha \\} \\vert\\psi_{m{\\bf k}}\\rangle$,from pw2wannier90.x,\n",
    "while the \"Qiao\" method does not use the last two files, and instead applies an approximation $\\mathbf{1}=\\sum_{l\\in \\it{ab\\,initio}} \\vert u_{l{\\bf q}}\\rangle\\langle u_{l{\\bf q}}\\vert$.\n",
    "The `sHu` and `sIu` files are calculated by setting `write_sHu = .true.` and `write_sIu = .true.` to the `pw2wannier90.x` input file: see `data_Pt/pw2wan.in`."
   ]
  },
  {
   "cell_type": "code",
   "execution_count": 1,
   "id": "1600e4af",
   "metadata": {
    "execution": {
     "iopub.execute_input": "2022-09-05T14:56:31.329140Z",
     "iopub.status.busy": "2022-09-05T14:56:31.328600Z",
     "iopub.status.idle": "2022-09-05T14:56:36.056888Z",
     "shell.execute_reply": "2022-09-05T14:56:36.055682Z"
    }
   },
   "outputs": [
    {
     "name": "stderr",
     "output_type": "stream",
     "text": [
      "2022-09-05 14:56:35,026\tINFO worker.py:1509 -- Started a local Ray instance. View the dashboard at \u001b[1m\u001b[32m127.0.0.1:8265 \u001b[39m\u001b[22m\n"
     ]
    }
   ],
   "source": [
    "# Preliminary (Do only once)\n",
    "%load_ext autoreload\n",
    "%autoreload 2\n",
    "\n",
    "# Set environment variables - not mandatory but recommended\n",
    "import os\n",
    "os.environ['OPENBLAS_NUM_THREADS'] = '1' \n",
    "os.environ['MKL_NUM_THREADS'] = '1'\n",
    "\n",
    "\n",
    "import wannierberri as wberri\n",
    "import numpy as np\n",
    "import scipy\n",
    "import matplotlib.pyplot as plt\n",
    "\n",
    "#  This block is needed if you run this cell for a second time\n",
    "#  because one cannot initiate two parallel environments at a time\n",
    "try:\n",
    "    parallel.shutdown()   \n",
    "except NameError:\n",
    "    pass\n",
    "\n",
    "parallel = wberri.Parallel(num_cpus=4, progress_step_percent=10)"
   ]
  },
  {
   "cell_type": "markdown",
   "id": "ee9adb8f",
   "metadata": {},
   "source": [
    "### Model, band structure"
   ]
  },
  {
   "cell_type": "markdown",
   "id": "c674c7a6",
   "metadata": {},
   "source": [
    "We load the system from a Wannier90 output. Note the arguments `SHCryoo=True` and `SHCqiao=True` which are required to compute spin Hall conductivity using the Ryoo and Qiao methods, respectively.\n",
    "\n",
    "We set symmetry using the `set_symmetry_from_structure` method, which calls spglib to automatically determine the symmetry of the system.\n",
    "\n",
    "<!-- We also symmetrize the system. See `data_Pt/Pt.win` file and check that the initial projections are correct. For details, refer to the symmetrization tutorial. -->"
   ]
  },
  {
   "cell_type": "code",
   "execution_count": 2,
   "id": "dfa25b73",
   "metadata": {
    "execution": {
     "iopub.execute_input": "2022-09-05T14:56:36.062769Z",
     "iopub.status.busy": "2022-09-05T14:56:36.061379Z",
     "iopub.status.idle": "2022-09-05T14:56:37.595743Z",
     "shell.execute_reply": "2022-09-05T14:56:37.594996Z"
    }
   },
   "outputs": [
    {
     "name": "stdout",
     "output_type": "stream",
     "text": [
      "using fortio to read\n"
     ]
    },
    {
     "ename": "FileNotFoundError",
     "evalue": "[Errno 2] No such file or directory: '/home/runner/work/wannier-berri-org/wannier-berri-org/source/tutorials/spin_hall/data_Pt/Pt.chk'",
     "output_type": "error",
     "traceback": [
      "\u001b[0;31m---------------------------------------------------------------------------\u001b[0m",
      "\u001b[0;31mFileNotFoundError\u001b[0m                         Traceback (most recent call last)",
      "Input \u001b[0;32mIn [2]\u001b[0m, in \u001b[0;36m<cell line: 1>\u001b[0;34m()\u001b[0m\n\u001b[0;32m----> 1\u001b[0m system \u001b[38;5;241m=\u001b[39m \u001b[43mwberri\u001b[49m\u001b[38;5;241;43m.\u001b[39;49m\u001b[43mSystem_w90\u001b[49m\u001b[43m(\u001b[49m\u001b[38;5;124;43m\"\u001b[39;49m\u001b[38;5;124;43mdata_Pt/Pt\u001b[39;49m\u001b[38;5;124;43m\"\u001b[39;49m\u001b[43m,\u001b[49m\u001b[43m \u001b[49m\u001b[43mberry\u001b[49m\u001b[38;5;241;43m=\u001b[39;49m\u001b[38;5;28;43;01mTrue\u001b[39;49;00m\u001b[43m,\u001b[49m\u001b[43m \u001b[49m\u001b[43mSHCryoo\u001b[49m\u001b[38;5;241;43m=\u001b[39;49m\u001b[38;5;28;43;01mTrue\u001b[39;49;00m\u001b[43m,\u001b[49m\u001b[43m \u001b[49m\u001b[43mSHCqiao\u001b[49m\u001b[38;5;241;43m=\u001b[39;49m\u001b[38;5;28;43;01mTrue\u001b[39;49;00m\u001b[43m)\u001b[49m\n\u001b[1;32m      2\u001b[0m system\u001b[38;5;241m.\u001b[39mset_structure([[\u001b[38;5;241m0.\u001b[39m, \u001b[38;5;241m0.\u001b[39m, \u001b[38;5;241m0.\u001b[39m]], [\u001b[38;5;124m\"\u001b[39m\u001b[38;5;124mPt\u001b[39m\u001b[38;5;124m\"\u001b[39m])\n\u001b[1;32m      3\u001b[0m system\u001b[38;5;241m.\u001b[39mset_symmetry_from_structure()\n",
      "File \u001b[0;32m/opt/hostedtoolcache/Python/3.9.13/x64/lib/python3.9/site-packages/wannierberri/system/system_w90.py:62\u001b[0m, in \u001b[0;36mSystem_w90.__init__\u001b[0;34m(self, seedname, transl_inv, guiding_centers, fft, npar, **parameters)\u001b[0m\n\u001b[1;32m     59\u001b[0m \u001b[38;5;28mself\u001b[39m\u001b[38;5;241m.\u001b[39mnpar \u001b[38;5;241m=\u001b[39m npar\n\u001b[1;32m     60\u001b[0m \u001b[38;5;28mself\u001b[39m\u001b[38;5;241m.\u001b[39mseedname \u001b[38;5;241m=\u001b[39m seedname\n\u001b[0;32m---> 62\u001b[0m chk \u001b[38;5;241m=\u001b[39m \u001b[43mCheckPoint\u001b[49m\u001b[43m(\u001b[49m\u001b[38;5;28;43mself\u001b[39;49m\u001b[38;5;241;43m.\u001b[39;49m\u001b[43mseedname\u001b[49m\u001b[43m)\u001b[49m\n\u001b[1;32m     63\u001b[0m \u001b[38;5;28mself\u001b[39m\u001b[38;5;241m.\u001b[39mreal_lattice, \u001b[38;5;28mself\u001b[39m\u001b[38;5;241m.\u001b[39mrecip_lattice \u001b[38;5;241m=\u001b[39m real_recip_lattice(chk\u001b[38;5;241m.\u001b[39mreal_lattice, chk\u001b[38;5;241m.\u001b[39mrecip_lattice)\n\u001b[1;32m     64\u001b[0m \u001b[38;5;28;01mif\u001b[39;00m \u001b[38;5;28mself\u001b[39m\u001b[38;5;241m.\u001b[39mmp_grid \u001b[38;5;129;01mis\u001b[39;00m \u001b[38;5;28;01mNone\u001b[39;00m:\n",
      "File \u001b[0;32m/opt/hostedtoolcache/Python/3.9.13/x64/lib/python3.9/site-packages/wannierberri/__w90_files.py:31\u001b[0m, in \u001b[0;36mCheckPoint.__init__\u001b[0;34m(self, seedname)\u001b[0m\n\u001b[1;32m     29\u001b[0m t0 \u001b[38;5;241m=\u001b[39m time()\n\u001b[1;32m     30\u001b[0m seedname \u001b[38;5;241m=\u001b[39m seedname\u001b[38;5;241m.\u001b[39mstrip()\n\u001b[0;32m---> 31\u001b[0m FIN \u001b[38;5;241m=\u001b[39m \u001b[43mFortranFileR\u001b[49m\u001b[43m(\u001b[49m\u001b[43mseedname\u001b[49m\u001b[43m \u001b[49m\u001b[38;5;241;43m+\u001b[39;49m\u001b[43m \u001b[49m\u001b[38;5;124;43m'\u001b[39;49m\u001b[38;5;124;43m.chk\u001b[39;49m\u001b[38;5;124;43m'\u001b[39;49m\u001b[43m)\u001b[49m\n\u001b[1;32m     32\u001b[0m readint \u001b[38;5;241m=\u001b[39m \u001b[38;5;28;01mlambda\u001b[39;00m: FIN\u001b[38;5;241m.\u001b[39mread_record(\u001b[38;5;124m'\u001b[39m\u001b[38;5;124mi4\u001b[39m\u001b[38;5;124m'\u001b[39m)\n\u001b[1;32m     33\u001b[0m readfloat \u001b[38;5;241m=\u001b[39m \u001b[38;5;28;01mlambda\u001b[39;00m: FIN\u001b[38;5;241m.\u001b[39mread_record(\u001b[38;5;124m'\u001b[39m\u001b[38;5;124mf8\u001b[39m\u001b[38;5;124m'\u001b[39m)\n",
      "File \u001b[0;32m/opt/hostedtoolcache/Python/3.9.13/x64/lib/python3.9/site-packages/wannierberri/__utility.py:38\u001b[0m, in \u001b[0;36mFortranFileR.__init__\u001b[0;34m(self, filename)\u001b[0m\n\u001b[1;32m     36\u001b[0m \u001b[38;5;28mprint\u001b[39m(\u001b[38;5;124m\"\u001b[39m\u001b[38;5;124musing fortio to read\u001b[39m\u001b[38;5;124m\"\u001b[39m)\n\u001b[1;32m     37\u001b[0m \u001b[38;5;28;01mtry\u001b[39;00m:\n\u001b[0;32m---> 38\u001b[0m     \u001b[38;5;28;43msuper\u001b[39;49m\u001b[43m(\u001b[49m\u001b[43m)\u001b[49m\u001b[38;5;241;43m.\u001b[39;49m\u001b[38;5;21;43m__init__\u001b[39;49m\u001b[43m(\u001b[49m\u001b[43mfilename\u001b[49m\u001b[43m,\u001b[49m\u001b[43m \u001b[49m\u001b[43mmode\u001b[49m\u001b[38;5;241;43m=\u001b[39;49m\u001b[38;5;124;43m'\u001b[39;49m\u001b[38;5;124;43mr\u001b[39;49m\u001b[38;5;124;43m'\u001b[39;49m\u001b[43m,\u001b[49m\u001b[43m \u001b[49m\u001b[43mheader_dtype\u001b[49m\u001b[38;5;241;43m=\u001b[39;49m\u001b[38;5;124;43m'\u001b[39;49m\u001b[38;5;124;43muint32\u001b[39;49m\u001b[38;5;124;43m'\u001b[39;49m\u001b[43m,\u001b[49m\u001b[43m \u001b[49m\u001b[43mauto_endian\u001b[49m\u001b[38;5;241;43m=\u001b[39;49m\u001b[38;5;28;43;01mTrue\u001b[39;49;00m\u001b[43m,\u001b[49m\u001b[43m \u001b[49m\u001b[43mcheck_file\u001b[49m\u001b[38;5;241;43m=\u001b[39;49m\u001b[38;5;28;43;01mTrue\u001b[39;49;00m\u001b[43m)\u001b[49m\n\u001b[1;32m     39\u001b[0m \u001b[38;5;28;01mexcept\u001b[39;00m \u001b[38;5;167;01mValueError\u001b[39;00m:\n\u001b[1;32m     40\u001b[0m     \u001b[38;5;28mprint\u001b[39m(\u001b[38;5;124m\"\u001b[39m\u001b[38;5;124mFile \u001b[39m\u001b[38;5;124m'\u001b[39m\u001b[38;5;132;01m{}\u001b[39;00m\u001b[38;5;124m'\u001b[39m\u001b[38;5;124m contains subrecords - using header_dtype=\u001b[39m\u001b[38;5;124m'\u001b[39m\u001b[38;5;124mint32\u001b[39m\u001b[38;5;124m'\u001b[39m\u001b[38;5;124m\"\u001b[39m\u001b[38;5;241m.\u001b[39mformat(filename))\n",
      "File \u001b[0;32m/opt/hostedtoolcache/Python/3.9.13/x64/lib/python3.9/site-packages/fortio.py:83\u001b[0m, in \u001b[0;36mFortranFile.__init__\u001b[0;34m(self, filename, mode, header_dtype, auto_endian, check_file)\u001b[0m\n\u001b[1;32m     80\u001b[0m     \u001b[38;5;28;01mraise\u001b[39;00m \u001b[38;5;167;01mTypeError\u001b[39;00m(\u001b[38;5;124m'\u001b[39m\u001b[38;5;124mheader_dtype should be integer type.\u001b[39m\u001b[38;5;124m'\u001b[39m)\n\u001b[1;32m     82\u001b[0m \u001b[38;5;28mself\u001b[39m\u001b[38;5;241m.\u001b[39mfile \u001b[38;5;241m=\u001b[39m filename\n\u001b[0;32m---> 83\u001b[0m \u001b[38;5;28mself\u001b[39m\u001b[38;5;241m.\u001b[39mfilesize \u001b[38;5;241m=\u001b[39m \u001b[43mos\u001b[49m\u001b[38;5;241;43m.\u001b[39;49m\u001b[43mpath\u001b[49m\u001b[38;5;241;43m.\u001b[39;49m\u001b[43mgetsize\u001b[49m\u001b[43m(\u001b[49m\u001b[43mfilename\u001b[49m\u001b[43m)\u001b[49m\n\u001b[1;32m     84\u001b[0m \u001b[38;5;28mself\u001b[39m\u001b[38;5;241m.\u001b[39mmode \u001b[38;5;241m=\u001b[39m mode\n\u001b[1;32m     85\u001b[0m \u001b[38;5;28mself\u001b[39m\u001b[38;5;241m.\u001b[39mheader_dtype \u001b[38;5;241m=\u001b[39m header_dtype\n",
      "File \u001b[0;32m/opt/hostedtoolcache/Python/3.9.13/x64/lib/python3.9/genericpath.py:50\u001b[0m, in \u001b[0;36mgetsize\u001b[0;34m(filename)\u001b[0m\n\u001b[1;32m     48\u001b[0m \u001b[38;5;28;01mdef\u001b[39;00m \u001b[38;5;21mgetsize\u001b[39m(filename):\n\u001b[1;32m     49\u001b[0m     \u001b[38;5;124;03m\"\"\"Return the size of a file, reported by os.stat().\"\"\"\u001b[39;00m\n\u001b[0;32m---> 50\u001b[0m     \u001b[38;5;28;01mreturn\u001b[39;00m \u001b[43mos\u001b[49m\u001b[38;5;241;43m.\u001b[39;49m\u001b[43mstat\u001b[49m\u001b[43m(\u001b[49m\u001b[43mfilename\u001b[49m\u001b[43m)\u001b[49m\u001b[38;5;241m.\u001b[39mst_size\n",
      "\u001b[0;31mFileNotFoundError\u001b[0m: [Errno 2] No such file or directory: '/home/runner/work/wannier-berri-org/wannier-berri-org/source/tutorials/spin_hall/data_Pt/Pt.chk'"
     ]
    }
   ],
   "source": [
    "system = wberri.System_w90(\"data_Pt/Pt\", berry=True, SHCryoo=True, SHCqiao=True)\n",
    "system.set_structure([[0., 0., 0.]], [\"Pt\"])\n",
    "system.set_symmetry_from_structure()\n",
    "\n",
    "efermi = 18.1605"
   ]
  },
  {
   "cell_type": "code",
   "execution_count": 3,
   "id": "1c11f61a",
   "metadata": {
    "execution": {
     "iopub.execute_input": "2022-09-05T14:56:37.599809Z",
     "iopub.status.busy": "2022-09-05T14:56:37.599088Z",
     "iopub.status.idle": "2022-09-05T14:56:37.641626Z",
     "shell.execute_reply": "2022-09-05T14:56:37.640909Z"
    }
   },
   "outputs": [
    {
     "ename": "NameError",
     "evalue": "name 'system' is not defined",
     "output_type": "error",
     "traceback": [
      "\u001b[0;31m---------------------------------------------------------------------------\u001b[0m",
      "\u001b[0;31mNameError\u001b[0m                                 Traceback (most recent call last)",
      "Input \u001b[0;32mIn [3]\u001b[0m, in \u001b[0;36m<cell line: 1>\u001b[0;34m()\u001b[0m\n\u001b[1;32m      1\u001b[0m path \u001b[38;5;241m=\u001b[39m wberri\u001b[38;5;241m.\u001b[39mPath(\n\u001b[0;32m----> 2\u001b[0m     \u001b[43msystem\u001b[49m,\n\u001b[1;32m      3\u001b[0m     k_nodes\u001b[38;5;241m=\u001b[39m[\n\u001b[1;32m      4\u001b[0m         [\u001b[38;5;241m0.25\u001b[39m, \u001b[38;5;241m0.75\u001b[39m, \u001b[38;5;241m0.50\u001b[39m], \u001b[38;5;66;03m# W\u001b[39;00m\n\u001b[1;32m      5\u001b[0m         [\u001b[38;5;241m0.50\u001b[39m, \u001b[38;5;241m0.50\u001b[39m, \u001b[38;5;241m0.50\u001b[39m], \u001b[38;5;66;03m# L\u001b[39;00m\n\u001b[1;32m      6\u001b[0m         [\u001b[38;5;241m0.00\u001b[39m, \u001b[38;5;241m0.00\u001b[39m, \u001b[38;5;241m0.00\u001b[39m], \u001b[38;5;66;03m# Gamma\u001b[39;00m\n\u001b[1;32m      7\u001b[0m         [\u001b[38;5;241m0.50\u001b[39m, \u001b[38;5;241m0.00\u001b[39m, \u001b[38;5;241m0.50\u001b[39m], \u001b[38;5;66;03m# X\u001b[39;00m\n\u001b[1;32m      8\u001b[0m         [\u001b[38;5;241m0.50\u001b[39m, \u001b[38;5;241m0.25\u001b[39m, \u001b[38;5;241m0.75\u001b[39m], \u001b[38;5;66;03m# W\u001b[39;00m\n\u001b[1;32m      9\u001b[0m         [\u001b[38;5;241m0.00\u001b[39m, \u001b[38;5;241m0.00\u001b[39m, \u001b[38;5;241m0.00\u001b[39m], \u001b[38;5;66;03m# Gamma\u001b[39;00m\n\u001b[1;32m     10\u001b[0m     ],\n\u001b[1;32m     11\u001b[0m     labels\u001b[38;5;241m=\u001b[39m[\u001b[38;5;124m\"\u001b[39m\u001b[38;5;124mW\u001b[39m\u001b[38;5;124m\"\u001b[39m, \u001b[38;5;124m\"\u001b[39m\u001b[38;5;124mL\u001b[39m\u001b[38;5;124m\"\u001b[39m, \u001b[38;5;124m\"\u001b[39m\u001b[38;5;124m$\u001b[39m\u001b[38;5;124m\\\u001b[39m\u001b[38;5;124mGamma$\u001b[39m\u001b[38;5;124m\"\u001b[39m, \u001b[38;5;124m\"\u001b[39m\u001b[38;5;124mX\u001b[39m\u001b[38;5;124m\"\u001b[39m, \u001b[38;5;124m\"\u001b[39m\u001b[38;5;124mW\u001b[39m\u001b[38;5;124m\"\u001b[39m, \u001b[38;5;124m\"\u001b[39m\u001b[38;5;124m$\u001b[39m\u001b[38;5;124m\\\u001b[39m\u001b[38;5;124mGamma$\u001b[39m\u001b[38;5;124m\"\u001b[39m],\n\u001b[1;32m     12\u001b[0m     length\u001b[38;5;241m=\u001b[39m\u001b[38;5;241m300\u001b[39m,\n\u001b[1;32m     13\u001b[0m )\n\u001b[1;32m     15\u001b[0m \u001b[38;5;28;01mfrom\u001b[39;00m \u001b[38;5;21;01mwannierberri\u001b[39;00m \u001b[38;5;28;01mimport\u001b[39;00m calculators \u001b[38;5;28;01mas\u001b[39;00m calc\n\u001b[1;32m     16\u001b[0m calculators \u001b[38;5;241m=\u001b[39m {}\n",
      "\u001b[0;31mNameError\u001b[0m: name 'system' is not defined"
     ]
    }
   ],
   "source": [
    "path = wberri.Path(\n",
    "    system,\n",
    "    k_nodes=[\n",
    "        [0.25, 0.75, 0.50], # W\n",
    "        [0.50, 0.50, 0.50], # L\n",
    "        [0.00, 0.00, 0.00], # Gamma\n",
    "        [0.50, 0.00, 0.50], # X\n",
    "        [0.50, 0.25, 0.75], # W\n",
    "        [0.00, 0.00, 0.00], # Gamma\n",
    "    ],\n",
    "    labels=[\"W\", \"L\", \"$\\Gamma$\", \"X\", \"W\", \"$\\Gamma$\"],\n",
    "    length=300,\n",
    ")\n",
    "\n",
    "from wannierberri import calculators as calc\n",
    "calculators = {}\n",
    "calculators[\"tabulate\"] = calc.TabulatorAll(\n",
    "    {\"Energy\": calc.tabulate.Energy()},\n",
    "    ibands=np.arange(system.num_wann),\n",
    "    mode=\"path\",\n",
    ")\n",
    "\n",
    "path_result = wberri.run(\n",
    "    system,\n",
    "    grid=path,\n",
    "    calculators=calculators,\n",
    "    parallel=parallel,\n",
    "    print_Kpoints = False,\n",
    ")"
   ]
  },
  {
   "cell_type": "code",
   "execution_count": 4,
   "id": "30e9dbce",
   "metadata": {
    "execution": {
     "iopub.execute_input": "2022-09-05T14:56:37.644818Z",
     "iopub.status.busy": "2022-09-05T14:56:37.644377Z",
     "iopub.status.idle": "2022-09-05T14:56:37.679823Z",
     "shell.execute_reply": "2022-09-05T14:56:37.679160Z"
    }
   },
   "outputs": [
    {
     "ename": "NameError",
     "evalue": "name 'path_result' is not defined",
     "output_type": "error",
     "traceback": [
      "\u001b[0;31m---------------------------------------------------------------------------\u001b[0m",
      "\u001b[0;31mNameError\u001b[0m                                 Traceback (most recent call last)",
      "Input \u001b[0;32mIn [4]\u001b[0m, in \u001b[0;36m<cell line: 1>\u001b[0;34m()\u001b[0m\n\u001b[0;32m----> 1\u001b[0m fig \u001b[38;5;241m=\u001b[39m \u001b[43mpath_result\u001b[49m\u001b[38;5;241m.\u001b[39mresults[\u001b[38;5;124m\"\u001b[39m\u001b[38;5;124mtabulate\u001b[39m\u001b[38;5;124m\"\u001b[39m]\u001b[38;5;241m.\u001b[39mplot_path_fat(path, close_fig\u001b[38;5;241m=\u001b[39m\u001b[38;5;28;01mFalse\u001b[39;00m, show_fig\u001b[38;5;241m=\u001b[39m\u001b[38;5;28;01mFalse\u001b[39;00m)\n\u001b[1;32m      3\u001b[0m ax \u001b[38;5;241m=\u001b[39m fig\u001b[38;5;241m.\u001b[39mget_axes()[\u001b[38;5;241m0\u001b[39m]\n\u001b[1;32m      4\u001b[0m ax\u001b[38;5;241m.\u001b[39maxhline(efermi, c\u001b[38;5;241m=\u001b[39m\u001b[38;5;124m\"\u001b[39m\u001b[38;5;124mr\u001b[39m\u001b[38;5;124m\"\u001b[39m, ls\u001b[38;5;241m=\u001b[39m\u001b[38;5;124m\"\u001b[39m\u001b[38;5;124m--\u001b[39m\u001b[38;5;124m\"\u001b[39m)\n",
      "\u001b[0;31mNameError\u001b[0m: name 'path_result' is not defined"
     ]
    }
   ],
   "source": [
    "fig = path_result.results[\"tabulate\"].plot_path_fat(path, close_fig=False, show_fig=False)\n",
    "\n",
    "ax = fig.get_axes()[0]\n",
    "ax.axhline(efermi, c=\"r\", ls=\"--\")\n",
    "plt.show(fig)"
   ]
  },
  {
   "cell_type": "markdown",
   "id": "781d482a",
   "metadata": {},
   "source": [
    "## Static spin Hall conductivity\n",
    "\n",
    "We calculate the static (i.e. DC) spin Hall conductivity. We fix $\\omega$ to 0 and scan the Fermi energy."
   ]
  },
  {
   "cell_type": "code",
   "execution_count": 5,
   "id": "f74ce1b6",
   "metadata": {
    "execution": {
     "iopub.execute_input": "2022-09-05T14:56:37.682869Z",
     "iopub.status.busy": "2022-09-05T14:56:37.682563Z",
     "iopub.status.idle": "2022-09-05T14:56:37.721340Z",
     "shell.execute_reply": "2022-09-05T14:56:37.720594Z"
    }
   },
   "outputs": [
    {
     "ename": "NameError",
     "evalue": "name 'efermi' is not defined",
     "output_type": "error",
     "traceback": [
      "\u001b[0;31m---------------------------------------------------------------------------\u001b[0m",
      "\u001b[0;31mNameError\u001b[0m                                 Traceback (most recent call last)",
      "Input \u001b[0;32mIn [5]\u001b[0m, in \u001b[0;36m<cell line: 3>\u001b[0;34m()\u001b[0m\n\u001b[1;32m      1\u001b[0m \u001b[38;5;28;01mfrom\u001b[39;00m \u001b[38;5;21;01mwannierberri\u001b[39;00m \u001b[38;5;28;01mimport\u001b[39;00m calculators \u001b[38;5;28;01mas\u001b[39;00m calc\n\u001b[0;32m----> 3\u001b[0m efermi_list \u001b[38;5;241m=\u001b[39m np\u001b[38;5;241m.\u001b[39mlinspace(\u001b[43mefermi\u001b[49m \u001b[38;5;241m-\u001b[39m \u001b[38;5;241m1.0\u001b[39m, efermi \u001b[38;5;241m+\u001b[39m \u001b[38;5;241m1.0\u001b[39m, \u001b[38;5;241m101\u001b[39m, \u001b[38;5;28;01mTrue\u001b[39;00m)\n\u001b[1;32m      5\u001b[0m kwargs \u001b[38;5;241m=\u001b[39m \u001b[38;5;28mdict\u001b[39m(\n\u001b[1;32m      6\u001b[0m     Efermi\u001b[38;5;241m=\u001b[39mefermi_list,\n\u001b[1;32m      7\u001b[0m     omega\u001b[38;5;241m=\u001b[39mnp\u001b[38;5;241m.\u001b[39marray([\u001b[38;5;241m0.\u001b[39m]),\n\u001b[1;32m      8\u001b[0m     smr_fixed_width \u001b[38;5;241m=\u001b[39m \u001b[38;5;241m0.1\u001b[39m, \u001b[38;5;66;03m# Smearing for frequency in eV\u001b[39;00m\n\u001b[1;32m      9\u001b[0m     kBT \u001b[38;5;241m=\u001b[39m \u001b[38;5;241m0.026\u001b[39m, \u001b[38;5;66;03m# Smearing for Fermi level (Fermi-Dirac factor) in eV (not Kelvin)\u001b[39;00m\n\u001b[1;32m     10\u001b[0m )\n\u001b[1;32m     12\u001b[0m calculators \u001b[38;5;241m=\u001b[39m \u001b[38;5;28mdict\u001b[39m(\n\u001b[1;32m     13\u001b[0m     SHC_ryoo \u001b[38;5;241m=\u001b[39m calc\u001b[38;5;241m.\u001b[39mdynamic\u001b[38;5;241m.\u001b[39mSHC(SHC_type\u001b[38;5;241m=\u001b[39m\u001b[38;5;124m\"\u001b[39m\u001b[38;5;124mryoo\u001b[39m\u001b[38;5;124m\"\u001b[39m, \u001b[38;5;241m*\u001b[39m\u001b[38;5;241m*\u001b[39mkwargs),\n\u001b[1;32m     14\u001b[0m     SHC_qiao \u001b[38;5;241m=\u001b[39m calc\u001b[38;5;241m.\u001b[39mdynamic\u001b[38;5;241m.\u001b[39mSHC(SHC_type\u001b[38;5;241m=\u001b[39m\u001b[38;5;124m\"\u001b[39m\u001b[38;5;124mqiao\u001b[39m\u001b[38;5;124m\"\u001b[39m, \u001b[38;5;241m*\u001b[39m\u001b[38;5;241m*\u001b[39mkwargs),\n\u001b[1;32m     15\u001b[0m )\n",
      "\u001b[0;31mNameError\u001b[0m: name 'efermi' is not defined"
     ]
    }
   ],
   "source": [
    "from wannierberri import calculators as calc\n",
    "\n",
    "efermi_list = np.linspace(efermi - 1.0, efermi + 1.0, 101, True)\n",
    "\n",
    "kwargs = dict(\n",
    "    Efermi=efermi_list,\n",
    "    omega=np.array([0.]),\n",
    "    smr_fixed_width = 0.1, # Smearing for frequency in eV\n",
    "    kBT = 0.026, # Smearing for Fermi level (Fermi-Dirac factor) in eV (not Kelvin)\n",
    ")\n",
    "\n",
    "calculators = dict(\n",
    "    SHC_ryoo = calc.dynamic.SHC(SHC_type=\"ryoo\", **kwargs),\n",
    "    SHC_qiao = calc.dynamic.SHC(SHC_type=\"qiao\", **kwargs),\n",
    ")"
   ]
  },
  {
   "cell_type": "code",
   "execution_count": 6,
   "id": "ffb8c55a",
   "metadata": {
    "execution": {
     "iopub.execute_input": "2022-09-05T14:56:37.724535Z",
     "iopub.status.busy": "2022-09-05T14:56:37.724170Z",
     "iopub.status.idle": "2022-09-05T14:56:37.758179Z",
     "shell.execute_reply": "2022-09-05T14:56:37.757442Z"
    }
   },
   "outputs": [
    {
     "ename": "NameError",
     "evalue": "name 'system' is not defined",
     "output_type": "error",
     "traceback": [
      "\u001b[0;31m---------------------------------------------------------------------------\u001b[0m",
      "\u001b[0;31mNameError\u001b[0m                                 Traceback (most recent call last)",
      "Input \u001b[0;32mIn [6]\u001b[0m, in \u001b[0;36m<cell line: 2>\u001b[0;34m()\u001b[0m\n\u001b[1;32m      1\u001b[0m nk \u001b[38;5;241m=\u001b[39m \u001b[38;5;241m30\u001b[39m\n\u001b[0;32m----> 2\u001b[0m grid \u001b[38;5;241m=\u001b[39m wberri\u001b[38;5;241m.\u001b[39mGrid(\u001b[43msystem\u001b[49m, NK\u001b[38;5;241m=\u001b[39mnk)\n\u001b[1;32m      3\u001b[0m result \u001b[38;5;241m=\u001b[39m wberri\u001b[38;5;241m.\u001b[39mrun(\n\u001b[1;32m      4\u001b[0m     system,\n\u001b[1;32m      5\u001b[0m     grid\u001b[38;5;241m=\u001b[39mgrid,\n\u001b[0;32m   (...)\u001b[0m\n\u001b[1;32m      8\u001b[0m     print_Kpoints \u001b[38;5;241m=\u001b[39m \u001b[38;5;28;01mFalse\u001b[39;00m,\n\u001b[1;32m      9\u001b[0m )\n",
      "\u001b[0;31mNameError\u001b[0m: name 'system' is not defined"
     ]
    }
   ],
   "source": [
    "nk = 30\n",
    "grid = wberri.Grid(system, NK=nk)\n",
    "result = wberri.run(\n",
    "    system,\n",
    "    grid=grid,\n",
    "    calculators=calculators,\n",
    "    parallel=parallel,\n",
    "    print_Kpoints = False,\n",
    ")"
   ]
  },
  {
   "cell_type": "markdown",
   "id": "3ee944a6",
   "metadata": {},
   "source": [
    "The SHC data has 5 indices:\n",
    "1. The Fermi level index,\n",
    "2. The frequency index,\n",
    "3. The spin current direction index,\n",
    "4. The electric field direction index, and\n",
    "5. The spin polarization index."
   ]
  },
  {
   "cell_type": "code",
   "execution_count": 7,
   "id": "4089e193",
   "metadata": {
    "execution": {
     "iopub.execute_input": "2022-09-05T14:56:37.761605Z",
     "iopub.status.busy": "2022-09-05T14:56:37.761378Z",
     "iopub.status.idle": "2022-09-05T14:56:37.794986Z",
     "shell.execute_reply": "2022-09-05T14:56:37.794258Z"
    }
   },
   "outputs": [
    {
     "ename": "NameError",
     "evalue": "name 'result' is not defined",
     "output_type": "error",
     "traceback": [
      "\u001b[0;31m---------------------------------------------------------------------------\u001b[0m",
      "\u001b[0;31mNameError\u001b[0m                                 Traceback (most recent call last)",
      "Input \u001b[0;32mIn [7]\u001b[0m, in \u001b[0;36m<cell line: 1>\u001b[0;34m()\u001b[0m\n\u001b[0;32m----> 1\u001b[0m \u001b[38;5;28mprint\u001b[39m(\u001b[38;5;124m\"\u001b[39m\u001b[38;5;124mresult.results[\u001b[39m\u001b[38;5;130;01m\\\"\u001b[39;00m\u001b[38;5;124mSHC_ryoo\u001b[39m\u001b[38;5;130;01m\\\"\u001b[39;00m\u001b[38;5;124m].data.shape = \u001b[39m\u001b[38;5;124m\"\u001b[39m, \u001b[43mresult\u001b[49m\u001b[38;5;241m.\u001b[39mresults[\u001b[38;5;124m\"\u001b[39m\u001b[38;5;124mSHC_ryoo\u001b[39m\u001b[38;5;124m\"\u001b[39m]\u001b[38;5;241m.\u001b[39mdata\u001b[38;5;241m.\u001b[39mshape)\n",
      "\u001b[0;31mNameError\u001b[0m: name 'result' is not defined"
     ]
    }
   ],
   "source": [
    "print(\"result.results[\\\"SHC_ryoo\\\"].data.shape = \", result.results[\"SHC_ryoo\"].data.shape)"
   ]
  },
  {
   "cell_type": "code",
   "execution_count": 8,
   "id": "5b9a084c",
   "metadata": {
    "execution": {
     "iopub.execute_input": "2022-09-05T14:56:37.798113Z",
     "iopub.status.busy": "2022-09-05T14:56:37.797878Z",
     "iopub.status.idle": "2022-09-05T14:56:37.843195Z",
     "shell.execute_reply": "2022-09-05T14:56:37.842410Z"
    }
   },
   "outputs": [
    {
     "ename": "NameError",
     "evalue": "name 'result' is not defined",
     "output_type": "error",
     "traceback": [
      "\u001b[0;31m---------------------------------------------------------------------------\u001b[0m",
      "\u001b[0;31mNameError\u001b[0m                                 Traceback (most recent call last)",
      "Input \u001b[0;32mIn [8]\u001b[0m, in \u001b[0;36m<cell line: 1>\u001b[0;34m()\u001b[0m\n\u001b[0;32m----> 1\u001b[0m shc_ryoo \u001b[38;5;241m=\u001b[39m \u001b[43mresult\u001b[49m\u001b[38;5;241m.\u001b[39mresults[\u001b[38;5;124m\"\u001b[39m\u001b[38;5;124mSHC_ryoo\u001b[39m\u001b[38;5;124m\"\u001b[39m]\u001b[38;5;241m.\u001b[39mdata[:, \u001b[38;5;241m0\u001b[39m, \u001b[38;5;241m0\u001b[39m, \u001b[38;5;241m1\u001b[39m, \u001b[38;5;241m2\u001b[39m]\n\u001b[1;32m      2\u001b[0m shc_qiao \u001b[38;5;241m=\u001b[39m result\u001b[38;5;241m.\u001b[39mresults[\u001b[38;5;124m\"\u001b[39m\u001b[38;5;124mSHC_qiao\u001b[39m\u001b[38;5;124m\"\u001b[39m]\u001b[38;5;241m.\u001b[39mdata[:, \u001b[38;5;241m0\u001b[39m, \u001b[38;5;241m0\u001b[39m, \u001b[38;5;241m1\u001b[39m, \u001b[38;5;241m2\u001b[39m]\n\u001b[1;32m      4\u001b[0m fig, axes \u001b[38;5;241m=\u001b[39m plt\u001b[38;5;241m.\u001b[39msubplots(\u001b[38;5;241m1\u001b[39m, \u001b[38;5;241m2\u001b[39m, figsize\u001b[38;5;241m=\u001b[39m(\u001b[38;5;241m12\u001b[39m, \u001b[38;5;241m4\u001b[39m))\n",
      "\u001b[0;31mNameError\u001b[0m: name 'result' is not defined"
     ]
    }
   ],
   "source": [
    "shc_ryoo = result.results[\"SHC_ryoo\"].data[:, 0, 0, 1, 2]\n",
    "shc_qiao = result.results[\"SHC_qiao\"].data[:, 0, 0, 1, 2]\n",
    "\n",
    "fig, axes = plt.subplots(1, 2, figsize=(12, 4))\n",
    "axes[0].plot(efermi_list, shc_ryoo.real, label=\"Ryoo\")\n",
    "axes[0].plot(efermi_list, shc_qiao.real, label=\"Qiao\")\n",
    "axes[1].plot(efermi_list, shc_ryoo.imag)\n",
    "axes[1].plot(efermi_list, shc_qiao.imag)\n",
    "for ax in axes:\n",
    "    ax.set_xlabel(\"Efermi (eV)\")\n",
    "    ax.axhline(0, c=\"k\")\n",
    "axes[0].set_ylabel(\"Re(SHC)\")\n",
    "axes[1].set_ylabel(\"Im(SHC)\")\n",
    "axes[0].legend()\n",
    "plt.show()"
   ]
  },
  {
   "cell_type": "markdown",
   "id": "2ff10c80",
   "metadata": {},
   "source": [
    "## Dynamic spin Hall conductivity\n",
    "\n",
    "We calculate the dynamic (i.e. frequency-dependent, AC) spin Hall conductivity. We fix the Fermi energy to the value `efermi` and scan the frequency in the range `omega`.\n",
    "\n",
    "The `smr_fixed_width` parameter controls the smearing of the frequency-dependent terms (delta functions and principal values)."
   ]
  },
  {
   "cell_type": "code",
   "execution_count": 9,
   "id": "15feb263",
   "metadata": {
    "execution": {
     "iopub.execute_input": "2022-09-05T14:56:37.846658Z",
     "iopub.status.busy": "2022-09-05T14:56:37.846416Z",
     "iopub.status.idle": "2022-09-05T14:56:37.888036Z",
     "shell.execute_reply": "2022-09-05T14:56:37.887327Z"
    }
   },
   "outputs": [
    {
     "ename": "NameError",
     "evalue": "name 'efermi' is not defined",
     "output_type": "error",
     "traceback": [
      "\u001b[0;31m---------------------------------------------------------------------------\u001b[0m",
      "\u001b[0;31mNameError\u001b[0m                                 Traceback (most recent call last)",
      "Input \u001b[0;32mIn [9]\u001b[0m, in \u001b[0;36m<cell line: 5>\u001b[0;34m()\u001b[0m\n\u001b[1;32m      1\u001b[0m \u001b[38;5;28;01mfrom\u001b[39;00m \u001b[38;5;21;01mwannierberri\u001b[39;00m \u001b[38;5;28;01mimport\u001b[39;00m calculators \u001b[38;5;28;01mas\u001b[39;00m calc\n\u001b[1;32m      3\u001b[0m omega \u001b[38;5;241m=\u001b[39m np\u001b[38;5;241m.\u001b[39mlinspace(\u001b[38;5;241m0\u001b[39m, \u001b[38;5;241m4\u001b[39m, \u001b[38;5;241m101\u001b[39m, \u001b[38;5;28;01mTrue\u001b[39;00m)\n\u001b[1;32m      5\u001b[0m kwargs \u001b[38;5;241m=\u001b[39m \u001b[38;5;28mdict\u001b[39m(\n\u001b[0;32m----> 6\u001b[0m     Efermi\u001b[38;5;241m=\u001b[39mnp\u001b[38;5;241m.\u001b[39marray([\u001b[43mefermi\u001b[49m]),\n\u001b[1;32m      7\u001b[0m     omega\u001b[38;5;241m=\u001b[39momega,\n\u001b[1;32m      8\u001b[0m     smr_fixed_width \u001b[38;5;241m=\u001b[39m \u001b[38;5;241m0.1\u001b[39m, \u001b[38;5;66;03m# Smearing for frequency in eV\u001b[39;00m\n\u001b[1;32m      9\u001b[0m     kBT \u001b[38;5;241m=\u001b[39m \u001b[38;5;241m0.026\u001b[39m, \u001b[38;5;66;03m# Smearing for Fermi level (Fermi-Dirac factor)\u001b[39;00m\n\u001b[1;32m     10\u001b[0m )\n\u001b[1;32m     12\u001b[0m calculators \u001b[38;5;241m=\u001b[39m \u001b[38;5;28mdict\u001b[39m(\n\u001b[1;32m     13\u001b[0m     SHC_ryoo \u001b[38;5;241m=\u001b[39m calc\u001b[38;5;241m.\u001b[39mdynamic\u001b[38;5;241m.\u001b[39mSHC(SHC_type\u001b[38;5;241m=\u001b[39m\u001b[38;5;124m\"\u001b[39m\u001b[38;5;124mryoo\u001b[39m\u001b[38;5;124m\"\u001b[39m, \u001b[38;5;241m*\u001b[39m\u001b[38;5;241m*\u001b[39mkwargs),\n\u001b[1;32m     14\u001b[0m     SHC_qiao \u001b[38;5;241m=\u001b[39m calc\u001b[38;5;241m.\u001b[39mdynamic\u001b[38;5;241m.\u001b[39mSHC(SHC_type\u001b[38;5;241m=\u001b[39m\u001b[38;5;124m\"\u001b[39m\u001b[38;5;124mqiao\u001b[39m\u001b[38;5;124m\"\u001b[39m, \u001b[38;5;241m*\u001b[39m\u001b[38;5;241m*\u001b[39mkwargs),\n\u001b[1;32m     15\u001b[0m )\n",
      "\u001b[0;31mNameError\u001b[0m: name 'efermi' is not defined"
     ]
    }
   ],
   "source": [
    "from wannierberri import calculators as calc\n",
    "\n",
    "omega = np.linspace(0, 4, 101, True)\n",
    "\n",
    "kwargs = dict(\n",
    "    Efermi=np.array([efermi]),\n",
    "    omega=omega,\n",
    "    smr_fixed_width = 0.1, # Smearing for frequency in eV\n",
    "    kBT = 0.026, # Smearing for Fermi level (Fermi-Dirac factor)\n",
    ")\n",
    "\n",
    "calculators = dict(\n",
    "    SHC_ryoo = calc.dynamic.SHC(SHC_type=\"ryoo\", **kwargs),\n",
    "    SHC_qiao = calc.dynamic.SHC(SHC_type=\"qiao\", **kwargs),\n",
    ")"
   ]
  },
  {
   "cell_type": "code",
   "execution_count": 10,
   "id": "7ed7466d",
   "metadata": {
    "execution": {
     "iopub.execute_input": "2022-09-05T14:56:37.891787Z",
     "iopub.status.busy": "2022-09-05T14:56:37.891108Z",
     "iopub.status.idle": "2022-09-05T14:56:37.931239Z",
     "shell.execute_reply": "2022-09-05T14:56:37.930563Z"
    }
   },
   "outputs": [
    {
     "ename": "NameError",
     "evalue": "name 'system' is not defined",
     "output_type": "error",
     "traceback": [
      "\u001b[0;31m---------------------------------------------------------------------------\u001b[0m",
      "\u001b[0;31mNameError\u001b[0m                                 Traceback (most recent call last)",
      "Input \u001b[0;32mIn [10]\u001b[0m, in \u001b[0;36m<cell line: 2>\u001b[0;34m()\u001b[0m\n\u001b[1;32m      1\u001b[0m nk \u001b[38;5;241m=\u001b[39m \u001b[38;5;241m30\u001b[39m\n\u001b[0;32m----> 2\u001b[0m grid \u001b[38;5;241m=\u001b[39m wberri\u001b[38;5;241m.\u001b[39mGrid(\u001b[43msystem\u001b[49m, NK\u001b[38;5;241m=\u001b[39mnk)\n\u001b[1;32m      3\u001b[0m result \u001b[38;5;241m=\u001b[39m wberri\u001b[38;5;241m.\u001b[39mrun(\n\u001b[1;32m      4\u001b[0m     system,\n\u001b[1;32m      5\u001b[0m     grid\u001b[38;5;241m=\u001b[39mgrid,\n\u001b[0;32m   (...)\u001b[0m\n\u001b[1;32m      8\u001b[0m     print_Kpoints \u001b[38;5;241m=\u001b[39m \u001b[38;5;28;01mFalse\u001b[39;00m,\n\u001b[1;32m      9\u001b[0m )\n",
      "\u001b[0;31mNameError\u001b[0m: name 'system' is not defined"
     ]
    }
   ],
   "source": [
    "nk = 30\n",
    "grid = wberri.Grid(system, NK=nk)\n",
    "result = wberri.run(\n",
    "    system,\n",
    "    grid=grid,\n",
    "    calculators=calculators,\n",
    "    parallel=parallel,\n",
    "    print_Kpoints = False,\n",
    ")"
   ]
  },
  {
   "cell_type": "code",
   "execution_count": 11,
   "id": "d051df23",
   "metadata": {
    "execution": {
     "iopub.execute_input": "2022-09-05T14:56:37.935032Z",
     "iopub.status.busy": "2022-09-05T14:56:37.934575Z",
     "iopub.status.idle": "2022-09-05T14:56:37.979184Z",
     "shell.execute_reply": "2022-09-05T14:56:37.978540Z"
    }
   },
   "outputs": [
    {
     "ename": "NameError",
     "evalue": "name 'result' is not defined",
     "output_type": "error",
     "traceback": [
      "\u001b[0;31m---------------------------------------------------------------------------\u001b[0m",
      "\u001b[0;31mNameError\u001b[0m                                 Traceback (most recent call last)",
      "Input \u001b[0;32mIn [11]\u001b[0m, in \u001b[0;36m<cell line: 1>\u001b[0;34m()\u001b[0m\n\u001b[0;32m----> 1\u001b[0m shc_ryoo \u001b[38;5;241m=\u001b[39m \u001b[43mresult\u001b[49m\u001b[38;5;241m.\u001b[39mresults[\u001b[38;5;124m\"\u001b[39m\u001b[38;5;124mSHC_ryoo\u001b[39m\u001b[38;5;124m\"\u001b[39m]\u001b[38;5;241m.\u001b[39mdata[\u001b[38;5;241m0\u001b[39m, :, \u001b[38;5;241m0\u001b[39m, \u001b[38;5;241m1\u001b[39m, \u001b[38;5;241m2\u001b[39m]\n\u001b[1;32m      2\u001b[0m shc_qiao \u001b[38;5;241m=\u001b[39m result\u001b[38;5;241m.\u001b[39mresults[\u001b[38;5;124m\"\u001b[39m\u001b[38;5;124mSHC_qiao\u001b[39m\u001b[38;5;124m\"\u001b[39m]\u001b[38;5;241m.\u001b[39mdata[\u001b[38;5;241m0\u001b[39m, :, \u001b[38;5;241m0\u001b[39m, \u001b[38;5;241m1\u001b[39m, \u001b[38;5;241m2\u001b[39m]\n\u001b[1;32m      4\u001b[0m fig, axes \u001b[38;5;241m=\u001b[39m plt\u001b[38;5;241m.\u001b[39msubplots(\u001b[38;5;241m1\u001b[39m, \u001b[38;5;241m2\u001b[39m, figsize\u001b[38;5;241m=\u001b[39m(\u001b[38;5;241m12\u001b[39m, \u001b[38;5;241m4\u001b[39m))\n",
      "\u001b[0;31mNameError\u001b[0m: name 'result' is not defined"
     ]
    }
   ],
   "source": [
    "shc_ryoo = result.results[\"SHC_ryoo\"].data[0, :, 0, 1, 2]\n",
    "shc_qiao = result.results[\"SHC_qiao\"].data[0, :, 0, 1, 2]\n",
    "\n",
    "fig, axes = plt.subplots(1, 2, figsize=(12, 4))\n",
    "axes[0].plot(omega, shc_ryoo.real, label=\"Ryoo\")\n",
    "axes[0].plot(omega, shc_qiao.real, label=\"Qiao\")\n",
    "axes[1].plot(omega, shc_ryoo.imag)\n",
    "axes[1].plot(omega, shc_qiao.imag)\n",
    "for ax in axes:\n",
    "    ax.set_xlabel(\"omega (eV)\")\n",
    "    ax.axhline(0, c=\"k\")\n",
    "axes[0].set_ylabel(\"Re(SHC)\")\n",
    "axes[1].set_ylabel(\"Im(SHC)\")\n",
    "axes[0].legend()\n",
    "plt.show()"
   ]
  },
  {
   "cell_type": "markdown",
   "id": "c987c8b2",
   "metadata": {},
   "source": [
    "## Spin Berry curvature"
   ]
  },
  {
   "cell_type": "markdown",
   "id": "9637f48f",
   "metadata": {},
   "source": [
    "To understand the microscopic origin of the spin Hall conductivity, one may inspect the k-resolved spin Berry curvature.\n",
    "Eq. (\\ref{eq:shc}) is recast into the sum of a Berry-curvature-like term, the spin Berry curvature.\n",
    "\n",
    "The spin Berry curvature is\n",
    "\n",
    "\\begin{equation}\n",
    "  \\Omega^{n, \\gamma}_{\\alpha\\beta}({\\bf k}) = -\\sum_{m \\neq n}\\frac{2\\textrm{Im}\\left[\\langle\\psi_{n{\\bf k}}\\vert \\frac{1}{2}\\{ s^{\\gamma}, v_\\alpha \\} \\vert\\psi_{m{\\bf k}}\\rangle\\langle\\psi_{m{\\bf k}}\\vert v_\\beta\\vert\\psi_{n{\\bf k}}\\rangle\\right]}{(\\varepsilon_{n{\\bf k}}-\\varepsilon_{m{\\bf k}})^2-(i\\eta)^2}\\,,\n",
    "  \\label{eq:sbc}\\tag{2}\n",
    "\\end{equation}\n",
    "\n",
    "and the k-resolved spin Berry curvature summed over the band index is\n",
    "\n",
    "\\begin{equation}\n",
    "  \\Omega^{\\gamma}_{\\alpha\\beta}({\\bf k}) = \\sum_{n}f_{n{\\bf k}}\\Omega^{n, \\gamma}_{\\alpha\\beta}({\\bf k})\\,.\n",
    "  \\label{eq:sbc_k_resolved}\\tag{3}\n",
    "\\end{equation}\n",
    "\\begin{equation}\n",
    "  \\sigma^{{\\rm SHC}, \\gamma}_{\\alpha\\beta} = \\frac{-e\\hbar}{N_k\\Omega_c}\\sum_{\\bf k}\\Omega^{\\gamma}_{\\alpha\\beta}({\\bf k})\n",
    "  \\label{eq:shc_sbc}\\tag{4}\n",
    "\\end{equation}\n",
    "\n",
    "Therefore, where in the k-space contributes to the total SHC can be investigated using the k-resolved spin Berry curvature.\n",
    "\n",
    "Here, we compute the spin Berry curvature again using the Ryoo method and the Qiao method.\n",
    "Note that we pass the spin curren type as a `kwargs_formula` to the calculator, e.g. `kwargs_formula=dict(spin_current_type=\"ryoo\")`."
   ]
  },
  {
   "cell_type": "code",
   "execution_count": 12,
   "id": "aba08a03",
   "metadata": {
    "execution": {
     "iopub.execute_input": "2022-09-05T14:56:37.982539Z",
     "iopub.status.busy": "2022-09-05T14:56:37.982079Z",
     "iopub.status.idle": "2022-09-05T14:56:38.022472Z",
     "shell.execute_reply": "2022-09-05T14:56:38.021772Z"
    }
   },
   "outputs": [
    {
     "name": "stdout",
     "output_type": "stream",
     "text": [
      "\u001b[1m\u001b[36mcalculator not described\n",
      "\u001b[0m\n",
      "\u001b[1m\u001b[36mcalculator not described\n",
      "\u001b[0m\n",
      "\u001b[1m\u001b[36mcalculator not described\n",
      "\u001b[0m\n"
     ]
    },
    {
     "ename": "NameError",
     "evalue": "name 'system' is not defined",
     "output_type": "error",
     "traceback": [
      "\u001b[0;31m---------------------------------------------------------------------------\u001b[0m",
      "\u001b[0;31mNameError\u001b[0m                                 Traceback (most recent call last)",
      "Input \u001b[0;32mIn [12]\u001b[0m, in \u001b[0;36m<cell line: 3>\u001b[0;34m()\u001b[0m\n\u001b[1;32m      1\u001b[0m \u001b[38;5;28;01mfrom\u001b[39;00m \u001b[38;5;21;01mwannierberri\u001b[39;00m \u001b[38;5;28;01mimport\u001b[39;00m calculators \u001b[38;5;28;01mas\u001b[39;00m calc\n\u001b[1;32m      2\u001b[0m calculators \u001b[38;5;241m=\u001b[39m {}\n\u001b[1;32m      3\u001b[0m calculators[\u001b[38;5;124m\"\u001b[39m\u001b[38;5;124mtabulate\u001b[39m\u001b[38;5;124m\"\u001b[39m] \u001b[38;5;241m=\u001b[39m calc\u001b[38;5;241m.\u001b[39mTabulatorAll(\n\u001b[1;32m      4\u001b[0m      {\n\u001b[1;32m      5\u001b[0m          \u001b[38;5;124m\"\u001b[39m\u001b[38;5;124mEnergy\u001b[39m\u001b[38;5;124m\"\u001b[39m: calc\u001b[38;5;241m.\u001b[39mtabulate\u001b[38;5;241m.\u001b[39mEnergy(),\n\u001b[1;32m      6\u001b[0m          \u001b[38;5;124m'\u001b[39m\u001b[38;5;124mspin_berry_ryoo\u001b[39m\u001b[38;5;124m'\u001b[39m: calc\u001b[38;5;241m.\u001b[39mtabulate\u001b[38;5;241m.\u001b[39mSpinBerry(kwargs_formula\u001b[38;5;241m=\u001b[39m\u001b[38;5;28mdict\u001b[39m(spin_current_type\u001b[38;5;241m=\u001b[39m\u001b[38;5;124m\"\u001b[39m\u001b[38;5;124mryoo\u001b[39m\u001b[38;5;124m\"\u001b[39m), degen_thresh\u001b[38;5;241m=\u001b[39m\u001b[38;5;241m1e-2\u001b[39m),\n\u001b[1;32m      7\u001b[0m          \u001b[38;5;124m'\u001b[39m\u001b[38;5;124mspin_berry_qiao\u001b[39m\u001b[38;5;124m'\u001b[39m: calc\u001b[38;5;241m.\u001b[39mtabulate\u001b[38;5;241m.\u001b[39mSpinBerry(kwargs_formula\u001b[38;5;241m=\u001b[39m\u001b[38;5;28mdict\u001b[39m(spin_current_type\u001b[38;5;241m=\u001b[39m\u001b[38;5;124m\"\u001b[39m\u001b[38;5;124mqiao\u001b[39m\u001b[38;5;124m\"\u001b[39m), degen_thresh\u001b[38;5;241m=\u001b[39m\u001b[38;5;241m1e-2\u001b[39m),\n\u001b[1;32m      8\u001b[0m      },\n\u001b[0;32m----> 9\u001b[0m     ibands\u001b[38;5;241m=\u001b[39mnp\u001b[38;5;241m.\u001b[39marange(\u001b[43msystem\u001b[49m\u001b[38;5;241m.\u001b[39mnum_wann),\n\u001b[1;32m     10\u001b[0m     mode\u001b[38;5;241m=\u001b[39m\u001b[38;5;124m\"\u001b[39m\u001b[38;5;124mpath\u001b[39m\u001b[38;5;124m\"\u001b[39m,\n\u001b[1;32m     11\u001b[0m  )\n",
      "\u001b[0;31mNameError\u001b[0m: name 'system' is not defined"
     ]
    }
   ],
   "source": [
    "from wannierberri import calculators as calc\n",
    "calculators = {}\n",
    "calculators[\"tabulate\"] = calc.TabulatorAll(\n",
    "     {\n",
    "         \"Energy\": calc.tabulate.Energy(),\n",
    "         'spin_berry_ryoo': calc.tabulate.SpinBerry(kwargs_formula=dict(spin_current_type=\"ryoo\"), degen_thresh=1e-2),\n",
    "         'spin_berry_qiao': calc.tabulate.SpinBerry(kwargs_formula=dict(spin_current_type=\"qiao\"), degen_thresh=1e-2),\n",
    "     },\n",
    "    ibands=np.arange(system.num_wann),\n",
    "    mode=\"path\",\n",
    " )"
   ]
  },
  {
   "cell_type": "code",
   "execution_count": 13,
   "id": "554a8c61",
   "metadata": {
    "execution": {
     "iopub.execute_input": "2022-09-05T14:56:38.025711Z",
     "iopub.status.busy": "2022-09-05T14:56:38.025481Z",
     "iopub.status.idle": "2022-09-05T14:56:38.066356Z",
     "shell.execute_reply": "2022-09-05T14:56:38.065502Z"
    }
   },
   "outputs": [
    {
     "ename": "NameError",
     "evalue": "name 'system' is not defined",
     "output_type": "error",
     "traceback": [
      "\u001b[0;31m---------------------------------------------------------------------------\u001b[0m",
      "\u001b[0;31mNameError\u001b[0m                                 Traceback (most recent call last)",
      "Input \u001b[0;32mIn [13]\u001b[0m, in \u001b[0;36m<cell line: 1>\u001b[0;34m()\u001b[0m\n\u001b[1;32m      1\u001b[0m path \u001b[38;5;241m=\u001b[39m wberri\u001b[38;5;241m.\u001b[39mPath(\n\u001b[0;32m----> 2\u001b[0m     \u001b[43msystem\u001b[49m,\n\u001b[1;32m      3\u001b[0m     k_nodes\u001b[38;5;241m=\u001b[39m[\n\u001b[1;32m      4\u001b[0m         [\u001b[38;5;241m0.25\u001b[39m, \u001b[38;5;241m0.75\u001b[39m, \u001b[38;5;241m0.50\u001b[39m], \u001b[38;5;66;03m# W\u001b[39;00m\n\u001b[1;32m      5\u001b[0m         [\u001b[38;5;241m0.50\u001b[39m, \u001b[38;5;241m0.50\u001b[39m, \u001b[38;5;241m0.50\u001b[39m], \u001b[38;5;66;03m# L\u001b[39;00m\n\u001b[1;32m      6\u001b[0m         [\u001b[38;5;241m0.00\u001b[39m, \u001b[38;5;241m0.00\u001b[39m, \u001b[38;5;241m0.00\u001b[39m], \u001b[38;5;66;03m# Gamma\u001b[39;00m\n\u001b[1;32m      7\u001b[0m         [\u001b[38;5;241m0.50\u001b[39m, \u001b[38;5;241m0.00\u001b[39m, \u001b[38;5;241m0.50\u001b[39m], \u001b[38;5;66;03m# X\u001b[39;00m\n\u001b[1;32m      8\u001b[0m         [\u001b[38;5;241m0.50\u001b[39m, \u001b[38;5;241m0.25\u001b[39m, \u001b[38;5;241m0.75\u001b[39m], \u001b[38;5;66;03m# W\u001b[39;00m\n\u001b[1;32m      9\u001b[0m         [\u001b[38;5;241m0.00\u001b[39m, \u001b[38;5;241m0.00\u001b[39m, \u001b[38;5;241m0.00\u001b[39m], \u001b[38;5;66;03m# Gamma\u001b[39;00m\n\u001b[1;32m     10\u001b[0m     ],\n\u001b[1;32m     11\u001b[0m     labels\u001b[38;5;241m=\u001b[39m[\u001b[38;5;124m\"\u001b[39m\u001b[38;5;124mW\u001b[39m\u001b[38;5;124m\"\u001b[39m, \u001b[38;5;124m\"\u001b[39m\u001b[38;5;124mL\u001b[39m\u001b[38;5;124m\"\u001b[39m, \u001b[38;5;124m\"\u001b[39m\u001b[38;5;124m$\u001b[39m\u001b[38;5;124m\\\u001b[39m\u001b[38;5;124mGamma$\u001b[39m\u001b[38;5;124m\"\u001b[39m, \u001b[38;5;124m\"\u001b[39m\u001b[38;5;124mX\u001b[39m\u001b[38;5;124m\"\u001b[39m, \u001b[38;5;124m\"\u001b[39m\u001b[38;5;124mW\u001b[39m\u001b[38;5;124m\"\u001b[39m, \u001b[38;5;124m\"\u001b[39m\u001b[38;5;124m$\u001b[39m\u001b[38;5;124m\\\u001b[39m\u001b[38;5;124mGamma$\u001b[39m\u001b[38;5;124m\"\u001b[39m],\n\u001b[1;32m     12\u001b[0m     length\u001b[38;5;241m=\u001b[39m\u001b[38;5;241m600\u001b[39m,\n\u001b[1;32m     13\u001b[0m )\n\u001b[1;32m     15\u001b[0m result_spin_berry \u001b[38;5;241m=\u001b[39m wberri\u001b[38;5;241m.\u001b[39mrun(\n\u001b[1;32m     16\u001b[0m     system,\n\u001b[1;32m     17\u001b[0m     grid\u001b[38;5;241m=\u001b[39mpath,\n\u001b[0;32m   (...)\u001b[0m\n\u001b[1;32m     20\u001b[0m     print_Kpoints \u001b[38;5;241m=\u001b[39m \u001b[38;5;28;01mFalse\u001b[39;00m,\n\u001b[1;32m     21\u001b[0m )\n",
      "\u001b[0;31mNameError\u001b[0m: name 'system' is not defined"
     ]
    }
   ],
   "source": [
    "path = wberri.Path(\n",
    "    system,\n",
    "    k_nodes=[\n",
    "        [0.25, 0.75, 0.50], # W\n",
    "        [0.50, 0.50, 0.50], # L\n",
    "        [0.00, 0.00, 0.00], # Gamma\n",
    "        [0.50, 0.00, 0.50], # X\n",
    "        [0.50, 0.25, 0.75], # W\n",
    "        [0.00, 0.00, 0.00], # Gamma\n",
    "    ],\n",
    "    labels=[\"W\", \"L\", \"$\\Gamma$\", \"X\", \"W\", \"$\\Gamma$\"],\n",
    "    length=600,\n",
    ")\n",
    "\n",
    "result_spin_berry = wberri.run(\n",
    "    system,\n",
    "    grid=path,\n",
    "    calculators=calculators,\n",
    "    parallel = parallel,\n",
    "    print_Kpoints = False,\n",
    ")"
   ]
  },
  {
   "cell_type": "markdown",
   "id": "665b73e3",
   "metadata": {},
   "source": [
    "Now we sum over bands to compute the k-resolved spin Berry curvature:\n",
    "$$\\Omega^{\\gamma}_{\\alpha\\beta}({\\bf k}) = \\sum_{n \\in {\\rm occ.}} \\Omega^{n, \\gamma}_{\\alpha\\beta}({\\bf k})$$"
   ]
  },
  {
   "cell_type": "code",
   "execution_count": 14,
   "id": "90ca392d",
   "metadata": {
    "execution": {
     "iopub.execute_input": "2022-09-05T14:56:38.070069Z",
     "iopub.status.busy": "2022-09-05T14:56:38.069608Z",
     "iopub.status.idle": "2022-09-05T14:56:38.113329Z",
     "shell.execute_reply": "2022-09-05T14:56:38.112646Z"
    }
   },
   "outputs": [
    {
     "ename": "NameError",
     "evalue": "name 'path' is not defined",
     "output_type": "error",
     "traceback": [
      "\u001b[0;31m---------------------------------------------------------------------------\u001b[0m",
      "\u001b[0;31mNameError\u001b[0m                                 Traceback (most recent call last)",
      "Input \u001b[0;32mIn [14]\u001b[0m, in \u001b[0;36m<cell line: 1>\u001b[0;34m()\u001b[0m\n\u001b[0;32m----> 1\u001b[0m nk \u001b[38;5;241m=\u001b[39m \u001b[43mpath\u001b[49m\u001b[38;5;241m.\u001b[39mK_list\u001b[38;5;241m.\u001b[39mshape[\u001b[38;5;241m0\u001b[39m]\n\u001b[1;32m      2\u001b[0m spin_berry_ryoo \u001b[38;5;241m=\u001b[39m np\u001b[38;5;241m.\u001b[39mzeros((nk, \u001b[38;5;241m3\u001b[39m, \u001b[38;5;241m3\u001b[39m, \u001b[38;5;241m3\u001b[39m))\n\u001b[1;32m      3\u001b[0m spin_berry_qiao \u001b[38;5;241m=\u001b[39m np\u001b[38;5;241m.\u001b[39mzeros((nk, \u001b[38;5;241m3\u001b[39m, \u001b[38;5;241m3\u001b[39m, \u001b[38;5;241m3\u001b[39m))\n",
      "\u001b[0;31mNameError\u001b[0m: name 'path' is not defined"
     ]
    }
   ],
   "source": [
    "nk = path.K_list.shape[0]\n",
    "spin_berry_ryoo = np.zeros((nk, 3, 3, 3))\n",
    "spin_berry_qiao = np.zeros((nk, 3, 3, 3))\n",
    "\n",
    "for iband in range(system.num_wann):\n",
    "    # Get the data for iband-th band\n",
    "    e = result_spin_berry.results[\"tabulate\"].get_data(\"Energy\", iband)\n",
    "    spin_berry_ryoo_nk = result_spin_berry.results[\"tabulate\"].get_data(\"spin_berry_ryoo\", iband)\n",
    "    spin_berry_qiao_nk = result_spin_berry.results[\"tabulate\"].get_data(\"spin_berry_qiao\", iband)\n",
    "\n",
    "    # Select k-point indices where the iband-th band is occupied\n",
    "    inds_occupied = e < efermi\n",
    "    \n",
    "    # Add the spin Berry curvature of those bands\n",
    "    spin_berry_ryoo[inds_occupied] += spin_berry_ryoo_nk[inds_occupied]\n",
    "    spin_berry_qiao[inds_occupied] += spin_berry_qiao_nk[inds_occupied]"
   ]
  },
  {
   "cell_type": "code",
   "execution_count": 15,
   "id": "71bd45bb",
   "metadata": {
    "execution": {
     "iopub.execute_input": "2022-09-05T14:56:38.116587Z",
     "iopub.status.busy": "2022-09-05T14:56:38.116207Z",
     "iopub.status.idle": "2022-09-05T14:56:38.160054Z",
     "shell.execute_reply": "2022-09-05T14:56:38.159376Z"
    }
   },
   "outputs": [
    {
     "ename": "NameError",
     "evalue": "name 'path' is not defined",
     "output_type": "error",
     "traceback": [
      "\u001b[0;31m---------------------------------------------------------------------------\u001b[0m",
      "\u001b[0;31mNameError\u001b[0m                                 Traceback (most recent call last)",
      "Input \u001b[0;32mIn [15]\u001b[0m, in \u001b[0;36m<cell line: 4>\u001b[0;34m()\u001b[0m\n\u001b[1;32m      1\u001b[0m \u001b[38;5;28;01mdef\u001b[39;00m \u001b[38;5;21mget_signed_log10\u001b[39m(x):\n\u001b[1;32m      2\u001b[0m     \u001b[38;5;28;01mreturn\u001b[39;00m np\u001b[38;5;241m.\u001b[39mlog10(\u001b[38;5;28mabs\u001b[39m(x)) \u001b[38;5;241m*\u001b[39m np\u001b[38;5;241m.\u001b[39msign(x)\n\u001b[0;32m----> 4\u001b[0m kline \u001b[38;5;241m=\u001b[39m \u001b[43mpath\u001b[49m\u001b[38;5;241m.\u001b[39mgetKline()\n\u001b[1;32m      5\u001b[0m plt\u001b[38;5;241m.\u001b[39mplot(kline, get_signed_log10(spin_berry_ryoo[:, \u001b[38;5;241m0\u001b[39m, \u001b[38;5;241m1\u001b[39m, \u001b[38;5;241m2\u001b[39m]), \u001b[38;5;124m\"\u001b[39m\u001b[38;5;124mk-\u001b[39m\u001b[38;5;124m\"\u001b[39m, label\u001b[38;5;241m=\u001b[39m\u001b[38;5;124m'\u001b[39m\u001b[38;5;124mRyoo\u001b[39m\u001b[38;5;124m'\u001b[39m)\n\u001b[1;32m      6\u001b[0m plt\u001b[38;5;241m.\u001b[39mplot(kline, get_signed_log10(spin_berry_qiao[:, \u001b[38;5;241m0\u001b[39m, \u001b[38;5;241m1\u001b[39m, \u001b[38;5;241m2\u001b[39m]), \u001b[38;5;124m\"\u001b[39m\u001b[38;5;124mr--\u001b[39m\u001b[38;5;124m\"\u001b[39m, label\u001b[38;5;241m=\u001b[39m\u001b[38;5;124m'\u001b[39m\u001b[38;5;124mQiao\u001b[39m\u001b[38;5;124m'\u001b[39m)\n",
      "\u001b[0;31mNameError\u001b[0m: name 'path' is not defined"
     ]
    }
   ],
   "source": [
    "def get_signed_log10(x):\n",
    "    return np.log10(abs(x)) * np.sign(x)\n",
    "    \n",
    "kline = path.getKline()\n",
    "plt.plot(kline, get_signed_log10(spin_berry_ryoo[:, 0, 1, 2]), \"k-\", label='Ryoo')\n",
    "plt.plot(kline, get_signed_log10(spin_berry_qiao[:, 0, 1, 2]), \"r--\", label='Qiao')\n",
    "\n",
    "for i in path.labels.keys():\n",
    "    plt.axvline(kline[i], c=\"k\", lw=1)\n",
    "plt.xticks([kline[i] for i in path.labels.keys()], path.labels.values())\n",
    "plt.xlim([min(kline), max(kline)])\n",
    "plt.axhline(0, c=\"k\", lw=1)\n",
    "plt.legend()\n",
    "plt.title(\"$\\mathrm{log}_{10} \\Omega_\\mathbf{k}$\")\n",
    "\n",
    "plt.show()"
   ]
  },
  {
   "cell_type": "markdown",
   "id": "6499a756",
   "metadata": {},
   "source": [
    "You can find that the spin Berry curvature calculated using the Qiao method shows more \"wiggles\" than the Ryoo method. This numerical difference has been first reported in [T. Ng et al, PRB 104 014412 (2021)](https://journals.aps.org/prb/abstract/10.1103/PhysRevB.104.014412):\n",
    "\n",
    ">  It is worth\n",
    "noting that there is jittering along Γ-Z, which occurs in the same path in WTe2 using the same method [22] (Qiao et al). However, such jittering disappears and the spin Berry curvature along Γ-Z becomes a smooth function using the method in Ref. [45] (Ryoo et al)."
   ]
  },
  {
   "cell_type": "markdown",
   "id": "9499779c",
   "metadata": {},
   "source": [
    "## Generating .sHu and .sIu from .mmn and .spn: mmn2uHu \n",
    "\n",
    "Even if you have not obtained .shu and .sIu from an ab initio code, you can make them from the overlap matrix and the spin matrix. Wannierberri provides the utility `wannierberri.utils.mmn2uHu`, which calculated the matrices `.uHu`, `.uIu`, `.sHu`, and/or `.sIu` from the `.mmn`, `.spn`, `.eig` matrices, and also reduces the number of bands in `.amn`, `.mmn`, `.eig`  and `.spn` files, by means of the sum-over-states formula\n",
    "\n",
    "\\begin{equation}\n",
    "  \\langle u_{m{\\bf q}}\\vert\\hat{s}\\hat{H}_{\\bf q}\\vert u_{n{\\bf q}+\\mathbf{b}}\\rangle \\approx \\sum_l^{l_{\\rm max}}  \\left(s_{lm}({\\bf q})\\right)^* E_{l{\\bf q}}   M_{ln}^{\\mathbf{b}}({\\bf q})\\,.\n",
    "\\label{eq:sHu}\\tag{5}\n",
    "\\end{equation}\n",
    "\n",
    "\\begin{equation}\n",
    "  \\langle u_{m{\\bf q}}\\vert\\hat{s}\\vert u_{n{\\bf q}+\\mathbf{b}}\\rangle \\approx \\sum_l^{l_{\\rm max}}  \\left(s_{lm}({\\bf q})\\right)^*   M_{ln}^{\\mathbf{b}}({\\bf q})\\,.\n",
    "\\label{eq:sIu}\\tag{6}\n",
    "\\end{equation}\n",
    "\n",
    "Here, $l_{\\rm max}$ cannot exceed the number of bands included in the Wannier90 calculation (i.e. the `num_bands` parameter in `Pt.win`).\n",
    "\n",
    "The `mmn2uHu` utility can be particularly useful when the calculation of `sHu` and `sIu` files are not implemented in the DFT code you are using."
   ]
  },
  {
   "cell_type": "code",
   "execution_count": 16,
   "id": "b6bac6b5",
   "metadata": {
    "execution": {
     "iopub.execute_input": "2022-09-05T14:56:38.163580Z",
     "iopub.status.busy": "2022-09-05T14:56:38.163349Z",
     "iopub.status.idle": "2022-09-05T14:56:38.202186Z",
     "shell.execute_reply": "2022-09-05T14:56:38.201463Z"
    }
   },
   "outputs": [
    {
     "ename": "FileNotFoundError",
     "evalue": "[Errno 2] No such file or directory: 'data_Pt'",
     "output_type": "error",
     "traceback": [
      "\u001b[0;31m---------------------------------------------------------------------------\u001b[0m",
      "\u001b[0;31mFileNotFoundError\u001b[0m                         Traceback (most recent call last)",
      "Input \u001b[0;32mIn [16]\u001b[0m, in \u001b[0;36m<cell line: 2>\u001b[0;34m()\u001b[0m\n\u001b[1;32m      1\u001b[0m \u001b[38;5;28;01mfrom\u001b[39;00m \u001b[38;5;21;01mwannierberri\u001b[39;00m\u001b[38;5;21;01m.\u001b[39;00m\u001b[38;5;21;01mutils\u001b[39;00m \u001b[38;5;28;01mimport\u001b[39;00m mmn2uHu \u001b[38;5;28;01mas\u001b[39;00m mmn2uHu\n\u001b[0;32m----> 2\u001b[0m \u001b[43mos\u001b[49m\u001b[38;5;241;43m.\u001b[39;49m\u001b[43mchdir\u001b[49m\u001b[43m(\u001b[49m\u001b[38;5;124;43m\"\u001b[39;49m\u001b[38;5;124;43mdata_Pt\u001b[39;49m\u001b[38;5;124;43m\"\u001b[39;49m\u001b[43m)\u001b[49m\n\u001b[1;32m      3\u001b[0m mmn2uHu\u001b[38;5;241m.\u001b[39mrun_mmn2uHu(PREFIX\u001b[38;5;241m=\u001b[39m\u001b[38;5;124m\"\u001b[39m\u001b[38;5;124mPt\u001b[39m\u001b[38;5;124m\"\u001b[39m, writeSHU\u001b[38;5;241m=\u001b[39m\u001b[38;5;28;01mTrue\u001b[39;00m, writeSIU\u001b[38;5;241m=\u001b[39m\u001b[38;5;28;01mTrue\u001b[39;00m, NBout\u001b[38;5;241m=\u001b[39m\u001b[38;5;241m18\u001b[39m, NBsum\u001b[38;5;241m=\u001b[39m\u001b[38;5;241m24\u001b[39m)\n\u001b[1;32m      5\u001b[0m \u001b[38;5;66;03m# For a command-line execution of the mmn2uHu utility, use\u001b[39;00m\n\u001b[1;32m      6\u001b[0m \u001b[38;5;66;03m# python3 -m wannierberri.utils.mmn2uHu Pt NBout=18,NBsum=24,targets=sHu,sIu\u001b[39;00m\n\u001b[1;32m      7\u001b[0m \n\u001b[1;32m      8\u001b[0m \u001b[38;5;66;03m# Rename sHu and sIu files\u001b[39;00m\n",
      "\u001b[0;31mFileNotFoundError\u001b[0m: [Errno 2] No such file or directory: 'data_Pt'"
     ]
    }
   ],
   "source": [
    "from wannierberri.utils import mmn2uHu as mmn2uHu\n",
    "os.chdir(\"data_Pt\")\n",
    "mmn2uHu.run_mmn2uHu(PREFIX=\"Pt\", writeSHU=True, writeSIU=True, NBout=18, NBsum=24)\n",
    "\n",
    "# For a command-line execution of the mmn2uHu utility, use\n",
    "# python3 -m wannierberri.utils.mmn2uHu Pt NBout=18,NBsum=24,targets=sHu,sIu\n",
    "\n",
    "# Rename sHu and sIu files\n",
    "import shutil\n",
    "shutil.move(\"reduced_NB=24/Pt_nbs=24.sHu\", \"reduced_NB=24/Pt.sHu\")\n",
    "shutil.move(\"reduced_NB=24/Pt_nbs=24.sIu\", \"reduced_NB=24/Pt.sIu\")\n",
    "\n",
    "# Copy chk and spn files\n",
    "shutil.copyfile(\"Pt.chk\", \"reduced_NB=24/Pt.chk\")\n",
    "shutil.copyfile(\"Pt.spn\", \"reduced_NB=24/Pt.spn\")\n",
    "\n",
    "os.chdir(\"..\")"
   ]
  },
  {
   "cell_type": "markdown",
   "id": "ee3730c6",
   "metadata": {},
   "source": [
    "Now, load the system object. Since all the data are in the `data_Pt/reduced_NB=24` directory, you should use the seedname `data_Pt/reduced_NB=24/Pt`."
   ]
  },
  {
   "cell_type": "code",
   "execution_count": 17,
   "id": "f4562c2e",
   "metadata": {
    "execution": {
     "iopub.execute_input": "2022-09-05T14:56:38.205663Z",
     "iopub.status.busy": "2022-09-05T14:56:38.205247Z",
     "iopub.status.idle": "2022-09-05T14:56:38.295544Z",
     "shell.execute_reply": "2022-09-05T14:56:38.294755Z"
    }
   },
   "outputs": [
    {
     "name": "stdout",
     "output_type": "stream",
     "text": [
      "using fortio to read\n"
     ]
    },
    {
     "ename": "FileNotFoundError",
     "evalue": "[Errno 2] No such file or directory: '/home/runner/work/wannier-berri-org/wannier-berri-org/source/tutorials/spin_hall/data_Pt/reduced_NB=24/Pt.chk'",
     "output_type": "error",
     "traceback": [
      "\u001b[0;31m---------------------------------------------------------------------------\u001b[0m",
      "\u001b[0;31mFileNotFoundError\u001b[0m                         Traceback (most recent call last)",
      "Input \u001b[0;32mIn [17]\u001b[0m, in \u001b[0;36m<cell line: 1>\u001b[0;34m()\u001b[0m\n\u001b[0;32m----> 1\u001b[0m system_mmn2uhu \u001b[38;5;241m=\u001b[39m \u001b[43mwberri\u001b[49m\u001b[38;5;241;43m.\u001b[39;49m\u001b[43mSystem_w90\u001b[49m\u001b[43m(\u001b[49m\u001b[38;5;124;43m\"\u001b[39;49m\u001b[38;5;124;43mdata_Pt/reduced_NB=24/Pt\u001b[39;49m\u001b[38;5;124;43m\"\u001b[39;49m\u001b[43m,\u001b[49m\u001b[43m \u001b[49m\u001b[43mberry\u001b[49m\u001b[38;5;241;43m=\u001b[39;49m\u001b[38;5;28;43;01mTrue\u001b[39;49;00m\u001b[43m,\u001b[49m\u001b[43m \u001b[49m\u001b[43mSHCryoo\u001b[49m\u001b[38;5;241;43m=\u001b[39;49m\u001b[38;5;28;43;01mTrue\u001b[39;49;00m\u001b[43m,\u001b[49m\u001b[43m \u001b[49m\u001b[43mSHCqiao\u001b[49m\u001b[38;5;241;43m=\u001b[39;49m\u001b[38;5;28;43;01mTrue\u001b[39;49;00m\u001b[43m)\u001b[49m\n\u001b[1;32m      2\u001b[0m system_mmn2uhu\u001b[38;5;241m.\u001b[39mset_structure([[\u001b[38;5;241m0.\u001b[39m, \u001b[38;5;241m0.\u001b[39m, \u001b[38;5;241m0.\u001b[39m]], [\u001b[38;5;124m\"\u001b[39m\u001b[38;5;124mPt\u001b[39m\u001b[38;5;124m\"\u001b[39m])\n\u001b[1;32m      3\u001b[0m system_mmn2uhu\u001b[38;5;241m.\u001b[39mset_symmetry_from_structure()\n",
      "File \u001b[0;32m/opt/hostedtoolcache/Python/3.9.13/x64/lib/python3.9/site-packages/wannierberri/system/system_w90.py:62\u001b[0m, in \u001b[0;36mSystem_w90.__init__\u001b[0;34m(self, seedname, transl_inv, guiding_centers, fft, npar, **parameters)\u001b[0m\n\u001b[1;32m     59\u001b[0m \u001b[38;5;28mself\u001b[39m\u001b[38;5;241m.\u001b[39mnpar \u001b[38;5;241m=\u001b[39m npar\n\u001b[1;32m     60\u001b[0m \u001b[38;5;28mself\u001b[39m\u001b[38;5;241m.\u001b[39mseedname \u001b[38;5;241m=\u001b[39m seedname\n\u001b[0;32m---> 62\u001b[0m chk \u001b[38;5;241m=\u001b[39m \u001b[43mCheckPoint\u001b[49m\u001b[43m(\u001b[49m\u001b[38;5;28;43mself\u001b[39;49m\u001b[38;5;241;43m.\u001b[39;49m\u001b[43mseedname\u001b[49m\u001b[43m)\u001b[49m\n\u001b[1;32m     63\u001b[0m \u001b[38;5;28mself\u001b[39m\u001b[38;5;241m.\u001b[39mreal_lattice, \u001b[38;5;28mself\u001b[39m\u001b[38;5;241m.\u001b[39mrecip_lattice \u001b[38;5;241m=\u001b[39m real_recip_lattice(chk\u001b[38;5;241m.\u001b[39mreal_lattice, chk\u001b[38;5;241m.\u001b[39mrecip_lattice)\n\u001b[1;32m     64\u001b[0m \u001b[38;5;28;01mif\u001b[39;00m \u001b[38;5;28mself\u001b[39m\u001b[38;5;241m.\u001b[39mmp_grid \u001b[38;5;129;01mis\u001b[39;00m \u001b[38;5;28;01mNone\u001b[39;00m:\n",
      "File \u001b[0;32m/opt/hostedtoolcache/Python/3.9.13/x64/lib/python3.9/site-packages/wannierberri/__w90_files.py:31\u001b[0m, in \u001b[0;36mCheckPoint.__init__\u001b[0;34m(self, seedname)\u001b[0m\n\u001b[1;32m     29\u001b[0m t0 \u001b[38;5;241m=\u001b[39m time()\n\u001b[1;32m     30\u001b[0m seedname \u001b[38;5;241m=\u001b[39m seedname\u001b[38;5;241m.\u001b[39mstrip()\n\u001b[0;32m---> 31\u001b[0m FIN \u001b[38;5;241m=\u001b[39m \u001b[43mFortranFileR\u001b[49m\u001b[43m(\u001b[49m\u001b[43mseedname\u001b[49m\u001b[43m \u001b[49m\u001b[38;5;241;43m+\u001b[39;49m\u001b[43m \u001b[49m\u001b[38;5;124;43m'\u001b[39;49m\u001b[38;5;124;43m.chk\u001b[39;49m\u001b[38;5;124;43m'\u001b[39;49m\u001b[43m)\u001b[49m\n\u001b[1;32m     32\u001b[0m readint \u001b[38;5;241m=\u001b[39m \u001b[38;5;28;01mlambda\u001b[39;00m: FIN\u001b[38;5;241m.\u001b[39mread_record(\u001b[38;5;124m'\u001b[39m\u001b[38;5;124mi4\u001b[39m\u001b[38;5;124m'\u001b[39m)\n\u001b[1;32m     33\u001b[0m readfloat \u001b[38;5;241m=\u001b[39m \u001b[38;5;28;01mlambda\u001b[39;00m: FIN\u001b[38;5;241m.\u001b[39mread_record(\u001b[38;5;124m'\u001b[39m\u001b[38;5;124mf8\u001b[39m\u001b[38;5;124m'\u001b[39m)\n",
      "File \u001b[0;32m/opt/hostedtoolcache/Python/3.9.13/x64/lib/python3.9/site-packages/wannierberri/__utility.py:38\u001b[0m, in \u001b[0;36mFortranFileR.__init__\u001b[0;34m(self, filename)\u001b[0m\n\u001b[1;32m     36\u001b[0m \u001b[38;5;28mprint\u001b[39m(\u001b[38;5;124m\"\u001b[39m\u001b[38;5;124musing fortio to read\u001b[39m\u001b[38;5;124m\"\u001b[39m)\n\u001b[1;32m     37\u001b[0m \u001b[38;5;28;01mtry\u001b[39;00m:\n\u001b[0;32m---> 38\u001b[0m     \u001b[38;5;28;43msuper\u001b[39;49m\u001b[43m(\u001b[49m\u001b[43m)\u001b[49m\u001b[38;5;241;43m.\u001b[39;49m\u001b[38;5;21;43m__init__\u001b[39;49m\u001b[43m(\u001b[49m\u001b[43mfilename\u001b[49m\u001b[43m,\u001b[49m\u001b[43m \u001b[49m\u001b[43mmode\u001b[49m\u001b[38;5;241;43m=\u001b[39;49m\u001b[38;5;124;43m'\u001b[39;49m\u001b[38;5;124;43mr\u001b[39;49m\u001b[38;5;124;43m'\u001b[39;49m\u001b[43m,\u001b[49m\u001b[43m \u001b[49m\u001b[43mheader_dtype\u001b[49m\u001b[38;5;241;43m=\u001b[39;49m\u001b[38;5;124;43m'\u001b[39;49m\u001b[38;5;124;43muint32\u001b[39;49m\u001b[38;5;124;43m'\u001b[39;49m\u001b[43m,\u001b[49m\u001b[43m \u001b[49m\u001b[43mauto_endian\u001b[49m\u001b[38;5;241;43m=\u001b[39;49m\u001b[38;5;28;43;01mTrue\u001b[39;49;00m\u001b[43m,\u001b[49m\u001b[43m \u001b[49m\u001b[43mcheck_file\u001b[49m\u001b[38;5;241;43m=\u001b[39;49m\u001b[38;5;28;43;01mTrue\u001b[39;49;00m\u001b[43m)\u001b[49m\n\u001b[1;32m     39\u001b[0m \u001b[38;5;28;01mexcept\u001b[39;00m \u001b[38;5;167;01mValueError\u001b[39;00m:\n\u001b[1;32m     40\u001b[0m     \u001b[38;5;28mprint\u001b[39m(\u001b[38;5;124m\"\u001b[39m\u001b[38;5;124mFile \u001b[39m\u001b[38;5;124m'\u001b[39m\u001b[38;5;132;01m{}\u001b[39;00m\u001b[38;5;124m'\u001b[39m\u001b[38;5;124m contains subrecords - using header_dtype=\u001b[39m\u001b[38;5;124m'\u001b[39m\u001b[38;5;124mint32\u001b[39m\u001b[38;5;124m'\u001b[39m\u001b[38;5;124m\"\u001b[39m\u001b[38;5;241m.\u001b[39mformat(filename))\n",
      "File \u001b[0;32m/opt/hostedtoolcache/Python/3.9.13/x64/lib/python3.9/site-packages/fortio.py:83\u001b[0m, in \u001b[0;36mFortranFile.__init__\u001b[0;34m(self, filename, mode, header_dtype, auto_endian, check_file)\u001b[0m\n\u001b[1;32m     80\u001b[0m     \u001b[38;5;28;01mraise\u001b[39;00m \u001b[38;5;167;01mTypeError\u001b[39;00m(\u001b[38;5;124m'\u001b[39m\u001b[38;5;124mheader_dtype should be integer type.\u001b[39m\u001b[38;5;124m'\u001b[39m)\n\u001b[1;32m     82\u001b[0m \u001b[38;5;28mself\u001b[39m\u001b[38;5;241m.\u001b[39mfile \u001b[38;5;241m=\u001b[39m filename\n\u001b[0;32m---> 83\u001b[0m \u001b[38;5;28mself\u001b[39m\u001b[38;5;241m.\u001b[39mfilesize \u001b[38;5;241m=\u001b[39m \u001b[43mos\u001b[49m\u001b[38;5;241;43m.\u001b[39;49m\u001b[43mpath\u001b[49m\u001b[38;5;241;43m.\u001b[39;49m\u001b[43mgetsize\u001b[49m\u001b[43m(\u001b[49m\u001b[43mfilename\u001b[49m\u001b[43m)\u001b[49m\n\u001b[1;32m     84\u001b[0m \u001b[38;5;28mself\u001b[39m\u001b[38;5;241m.\u001b[39mmode \u001b[38;5;241m=\u001b[39m mode\n\u001b[1;32m     85\u001b[0m \u001b[38;5;28mself\u001b[39m\u001b[38;5;241m.\u001b[39mheader_dtype \u001b[38;5;241m=\u001b[39m header_dtype\n",
      "File \u001b[0;32m/opt/hostedtoolcache/Python/3.9.13/x64/lib/python3.9/genericpath.py:50\u001b[0m, in \u001b[0;36mgetsize\u001b[0;34m(filename)\u001b[0m\n\u001b[1;32m     48\u001b[0m \u001b[38;5;28;01mdef\u001b[39;00m \u001b[38;5;21mgetsize\u001b[39m(filename):\n\u001b[1;32m     49\u001b[0m     \u001b[38;5;124;03m\"\"\"Return the size of a file, reported by os.stat().\"\"\"\u001b[39;00m\n\u001b[0;32m---> 50\u001b[0m     \u001b[38;5;28;01mreturn\u001b[39;00m \u001b[43mos\u001b[49m\u001b[38;5;241;43m.\u001b[39;49m\u001b[43mstat\u001b[49m\u001b[43m(\u001b[49m\u001b[43mfilename\u001b[49m\u001b[43m)\u001b[49m\u001b[38;5;241m.\u001b[39mst_size\n",
      "\u001b[0;31mFileNotFoundError\u001b[0m: [Errno 2] No such file or directory: '/home/runner/work/wannier-berri-org/wannier-berri-org/source/tutorials/spin_hall/data_Pt/reduced_NB=24/Pt.chk'"
     ]
    }
   ],
   "source": [
    "system_mmn2uhu = wberri.System_w90(\"data_Pt/reduced_NB=24/Pt\", berry=True, SHCryoo=True, SHCqiao=True)\n",
    "system_mmn2uhu.set_structure([[0., 0., 0.]], [\"Pt\"])\n",
    "system_mmn2uhu.set_symmetry_from_structure()"
   ]
  },
  {
   "cell_type": "markdown",
   "id": "18b74042",
   "metadata": {},
   "source": [
    "### Problem: Compare the SHC computed using the sHu files from pw2wannier90 and mmn2uHu.\n",
    "\n",
    "Compute the SHC using `system` and `system_mmn2uHu`.\n",
    "Since the \"Qiao\" method does not use the sHu and sIu files, the two systems will give exactly the same result.\n",
    "This may not be the case for the \"Ryoo\" method.\n",
    "\n",
    "Use the keyword arguments given below (Fermi level scan at 0.026 meV ~ 300 K)."
   ]
  },
  {
   "cell_type": "code",
   "execution_count": 18,
   "id": "27ba8652",
   "metadata": {
    "execution": {
     "iopub.execute_input": "2022-09-05T14:56:38.299174Z",
     "iopub.status.busy": "2022-09-05T14:56:38.298723Z",
     "iopub.status.idle": "2022-09-05T14:56:38.336827Z",
     "shell.execute_reply": "2022-09-05T14:56:38.336039Z"
    }
   },
   "outputs": [
    {
     "ename": "NameError",
     "evalue": "name 'efermi' is not defined",
     "output_type": "error",
     "traceback": [
      "\u001b[0;31m---------------------------------------------------------------------------\u001b[0m",
      "\u001b[0;31mNameError\u001b[0m                                 Traceback (most recent call last)",
      "Input \u001b[0;32mIn [18]\u001b[0m, in \u001b[0;36m<cell line: 1>\u001b[0;34m()\u001b[0m\n\u001b[0;32m----> 1\u001b[0m efermi_list \u001b[38;5;241m=\u001b[39m np\u001b[38;5;241m.\u001b[39mlinspace(\u001b[43mefermi\u001b[49m \u001b[38;5;241m-\u001b[39m \u001b[38;5;241m1.0\u001b[39m, efermi \u001b[38;5;241m+\u001b[39m \u001b[38;5;241m1.0\u001b[39m, \u001b[38;5;241m101\u001b[39m, \u001b[38;5;28;01mTrue\u001b[39;00m)\n\u001b[1;32m      3\u001b[0m kwargs \u001b[38;5;241m=\u001b[39m \u001b[38;5;28mdict\u001b[39m(\n\u001b[1;32m      4\u001b[0m     Efermi\u001b[38;5;241m=\u001b[39mefermi_list,\n\u001b[1;32m      5\u001b[0m     omega\u001b[38;5;241m=\u001b[39mnp\u001b[38;5;241m.\u001b[39marray([\u001b[38;5;241m0.\u001b[39m]),\n\u001b[1;32m      6\u001b[0m     smr_fixed_width \u001b[38;5;241m=\u001b[39m \u001b[38;5;241m0.1\u001b[39m, \u001b[38;5;66;03m# Smearing for frequency in eV\u001b[39;00m\n\u001b[1;32m      7\u001b[0m     kBT \u001b[38;5;241m=\u001b[39m \u001b[38;5;241m0.026\u001b[39m, \u001b[38;5;66;03m# Smearing for Fermi level (Fermi-Dirac factor) in eV (not Kelvin)\u001b[39;00m\n\u001b[1;32m      8\u001b[0m )\n",
      "\u001b[0;31mNameError\u001b[0m: name 'efermi' is not defined"
     ]
    }
   ],
   "source": [
    "efermi_list = np.linspace(efermi - 1.0, efermi + 1.0, 101, True)\n",
    "\n",
    "kwargs = dict(\n",
    "    Efermi=efermi_list,\n",
    "    omega=np.array([0.]),\n",
    "    smr_fixed_width = 0.1, # Smearing for frequency in eV\n",
    "    kBT = 0.026, # Smearing for Fermi level (Fermi-Dirac factor) in eV (not Kelvin)\n",
    ")\n",
    "\n",
    "# Fill in the code below."
   ]
  },
  {
   "cell_type": "markdown",
   "id": "db854a3d",
   "metadata": {},
   "source": [
    "## Further questions\n",
    "\n",
    "If you are interested, try to answer the following questions:\n",
    "- Try to converge the calculation using a different value of `smr_fixed_width`. In principle, to achieve an ideal convergence to the zero-smearing limit, one needs to first converge SHC increasing the grid size for a fixed `smr_fixed_width`, and then repeat the procedure with smaller `smr_fixed_width` until convergence.\n",
    "- What happens if one include more bands in the NSCF calculation? Does the two methods converge to the same result? (To answer this question, one needs to perform additional DFT calculations.)"
   ]
  }
 ],
 "metadata": {
  "interpreter": {
   "hash": "31f2aee4e71d21fbe5cf8b01ff0e069b9275f58929596ceb00d14d90e3e16cd6"
  },
  "kernelspec": {
   "display_name": "Python 3 (ipykernel)",
   "language": "python",
   "name": "python3"
  },
  "language_info": {
   "codemirror_mode": {
    "name": "ipython",
    "version": 3
   },
   "file_extension": ".py",
   "mimetype": "text/x-python",
   "name": "python",
   "nbconvert_exporter": "python",
   "pygments_lexer": "ipython3",
   "version": "3.9.13"
  }
 },
 "nbformat": 4,
 "nbformat_minor": 5
}
